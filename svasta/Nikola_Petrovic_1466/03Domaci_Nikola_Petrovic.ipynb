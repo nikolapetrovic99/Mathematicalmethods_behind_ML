{
 "cells": [
  {
   "cell_type": "markdown",
   "metadata": {},
   "source": [
    "# Мататематички методи за машинско учење 2023\n",
    "## Домаћи задатак број 3"
   ]
  },
  {
   "attachments": {},
   "cell_type": "markdown",
   "metadata": {},
   "source": [
    "<div class=\"alert alert-block alert-danger\">\n",
    "<b>Име и презиме студента:</b> Никола Петровић\n",
    "\n",
    "<b>Број индекса:</b> 1466\n",
    "    \n",
    "</div>    "
   ]
  },
  {
   "cell_type": "markdown",
   "metadata": {},
   "source": [
    "<div class=\"alert alert-block alert-info\">\n",
    "<b>Упутство за израду и предају домаћег задатака: </b> \n",
    "    \n",
    "    1. Пре почетка израде промените име датотеке у 03Domaci_Ime_Prezime. (убаците своје име и презиме) \n",
    "    2. Попуните ћелију испод наслова одговарајућим подацима. \n",
    "    1. Употреба ћирилице није обавезна за предају домаћег задатка.\n",
    "    4. За решавање задатака, уколико је потребно, отворите испод текста задатка додатне ћелије за уписивање текстуалног одговора (Markdown) или програмског кода (Code).\n",
    "    1. Сва израчунавања, уколико је потребно, вршити у Python-у.\n",
    "    5. Након завршетка израде решења домаћег Notebook документ сачувати у pdf формату и проследити га наставнику. То можете да урадите или кроз Teams или на мејл адресу jovana.dzunic@elfak.ni.ac.rs\n",
    "\n",
    "</div> "
   ]
  },
  {
   "cell_type": "code",
   "execution_count": 12,
   "metadata": {},
   "outputs": [],
   "source": [
    "import numpy as np\n",
    "import numpy.random as rndm\n",
    "import scipy"
   ]
  },
  {
   "cell_type": "markdown",
   "metadata": {},
   "source": [
    "**Задатак 1.** Конструисати матрицу $A\\in\\mathcal{M}_{7\\times6}$ чију базу простора колона чине прве три колоне матрице $B\\in\\mathcal{M}_{7\\times6},$ а базу језгра чине последње три врсте матрице $B.$ Матрица $B$ се генерише наредном кодном ћелијом. Кодом се такође проверава да ли случајно дефинисана матрица има прве три линеарно независне колоне и последње три линеарно независне врсте. \n",
    "\n",
    "(10 поена)"
   ]
  },
  {
   "cell_type": "code",
   "execution_count": 7,
   "metadata": {
    "scrolled": false
   },
   "outputs": [
    {
     "name": "stdout",
     "output_type": "stream",
     "text": [
      "3\n",
      "3\n"
     ]
    }
   ],
   "source": [
    "# assert je ključna reč u Pythonu koja se koristi za proveru uslova. Ako je uslov zadovoljen, \n",
    "# assert neće imati efekta i program će nastaviti sa izvršavanjem. Ako uslov nije zadovoljen, \n",
    "# assert će izazvati izuzetak (AssertionError) i prekinuti izvršavanje programa.\n",
    "\n",
    "B=rndm.randn(7,6)-5*np.eye(7,6)\n",
    "print(np.linalg.matrix_rank(B[:,:3]))\n",
    "print(np.linalg.matrix_rank(B[-3:]))"
   ]
  },
  {
   "cell_type": "code",
   "execution_count": 11,
   "metadata": {},
   "outputs": [
    {
     "name": "stdout",
     "output_type": "stream",
     "text": [
      "Matrica A:\n",
      "[[-0.13558703 -0.25169621 -0.36643568 -4.471631   -0.25115164  0.66605557]\n",
      " [ 4.27620736  0.14967372  0.35628558  1.28595013 -0.36646864 -0.63692232]\n",
      " [ 1.8684033  -3.80315281  5.14758825  0.72177386 -1.18289132 -1.60341839]\n",
      " [ 1.34789231  0.79469531 -1.07954664 -1.12348497  0.01550659  0.30166473]\n",
      " [-0.14924494 -0.754513    0.89314395 -0.41789245 -0.20327149 -0.16798554]\n",
      " [-1.86710344 -0.18075478  0.00875995 -0.45514849  0.13401546  0.22186241]\n",
      " [ 1.94180284 -0.65336982  1.02791185  0.1874741  -0.37607454 -0.46619462]]\n"
     ]
    }
   ],
   "source": [
    "# Generišemo matricu B\n",
    "np.random.seed(42)  # Postavljamo seed za reprodukciju rezultata\n",
    "B = np.random.randn(7, 6) - 5 * np.eye(7, 6)\n",
    "\n",
    "# Proveravamo da li prve tri kolone matrice B čine bazu\n",
    "assert np.linalg.matrix_rank(B[:, :3]) == 3\n",
    "\n",
    "# Proveravamo da li zadnje tri vrste matrice B čine bazu jezgra\n",
    "assert np.linalg.matrix_rank(B[-3:]) == 3\n",
    "\n",
    "# Konstruišemo matricu A tako što uzimamo prve tri kolone matrice B kao bazu prostora kolona\n",
    "A_column_space = B[:, :3]\n",
    "\n",
    "# Da bismo pronašli bazu jezgra matrice B, moramo prvo pronaći njen null prostor\n",
    "# Rešavamo sistem jednačina Bx = 0\n",
    "_, _, Vh = np.linalg.svd(B)\n",
    "B_null_space = scipy.linalg.null_space(B[-3:, :]).T\n",
    "\n",
    "A = np.empty((7, 6))\n",
    "\n",
    "A=np.dot(A_column_space, B_null_space)\n",
    "# Matrica A\n",
    "print(\"Matrica A:\")\n",
    "print(A)"
   ]
  },
  {
   "cell_type": "markdown",
   "metadata": {},
   "source": [
    "**Задатак 2.** а) Дате су матрице Гаусове трансформације\n",
    "\\begin{align}\n",
    "L_1&=\\begin{bmatrix}  1&0&0&0\\\\0&1&0&0\\\\0&0&1&0\\\\0&0&0&1\\end{bmatrix}\n",
    "+\\begin{bmatrix}0\\\\-1\\\\0.5\\\\3\\end{bmatrix}\\begin{bmatrix}1&0&0&0\\end{bmatrix}=I_4+v_1e_1^T,\\\\\n",
    "L_2&=\\begin{bmatrix}  1&0&0&0\\\\0&1&0&0\\\\0&0&1&0\\\\0&0&0&1\\end{bmatrix}\n",
    "+\\begin{bmatrix}0\\\\0\\\\3\\\\2\\end{bmatrix}\\begin{bmatrix}0&1&0&0\\end{bmatrix}=I_4+v_2e_2^T,\\\\\n",
    "L_3&=\\begin{bmatrix}  1&0&0&0\\\\0&1&0&0\\\\0&0&1&0\\\\0&0&0&1\\end{bmatrix}\n",
    "+\\begin{bmatrix}0\\\\0\\\\0\\\\1\\end{bmatrix}\\begin{bmatrix}0&0&1&0\\end{bmatrix}=I_4+v_3e_3^T.\n",
    "\\end{align}\n",
    "Показати да за њих важи \n",
    "$$\\big(I_4+v_1e_1^T\\big)\\big(I_4+v_2e_2^T\\big)\\big(I_4+v_3e_3^T\\big)=I_4+\\displaystyle\\sum_{k=1}^3v_ke_k^T.$$\n",
    "\n",
    "(5 поена)"
   ]
  },
  {
   "cell_type": "code",
   "execution_count": 2,
   "metadata": {},
   "outputs": [
    {
     "name": "stdout",
     "output_type": "stream",
     "text": [
      "Leva strana izraza:\n",
      " [[ 1.   0.   0.   0. ]\n",
      " [-1.   1.   0.   0. ]\n",
      " [ 0.5  3.   1.   0. ]\n",
      " [ 3.   2.   1.   1. ]]\n",
      "Desna strana izraza:\n",
      " [[ 1.   0.   0.   0. ]\n",
      " [-1.   1.   0.   0. ]\n",
      " [ 0.5  3.   1.   0. ]\n",
      " [ 3.   2.   1.   1. ]]\n",
      "Da li su matrice jednake?  True\n"
     ]
    }
   ],
   "source": [
    "import numpy as np\n",
    "\n",
    "# Definisanje matrica\n",
    "I_4 = np.identity(4)\n",
    "\n",
    "v_1 = np.array([[0], [-1], [0.5], [3]])\n",
    "e_1 = np.array([[1, 0, 0, 0]])\n",
    "L_1 = I_4 + np.dot(v_1, e_1)\n",
    "\n",
    "v_2 = np.array([[0], [0], [3], [2]])\n",
    "e_2 = np.array([[0, 1, 0, 0]])\n",
    "L_2 = I_4 + np.dot(v_2, e_2)\n",
    "\n",
    "v_3 = np.array([[0], [0], [0], [1]])\n",
    "e_3 = np.array([[0, 0, 1, 0]])\n",
    "L_3 = I_4 + np.dot(v_3, e_3)\n",
    "\n",
    "# Množenje matrica\n",
    "L_2L_3 = np.dot(L_2, L_3)\n",
    "result = np.dot(L_1, L_2L_3)\n",
    "\n",
    "# Desna strana izraza\n",
    "sum_vk_ek = I_4 + np.dot(v_1, e_1) + np.dot(v_2, e_2) + np.dot(v_3, e_3)\n",
    "\n",
    "# Provera jednakosti\n",
    "print(\"Leva strana izraza:\\n\", result)\n",
    "print(\"Desna strana izraza:\\n\", sum_vk_ek)\n",
    "print(\"Da li su matrice jednake? \", np.allclose(result, sum_vk_ek))\n"
   ]
  },
  {
   "cell_type": "markdown",
   "metadata": {},
   "source": [
    "б) Дате су матрице Гаусове трансформације $L_k=I_n+v_ke_k^T,\\ k=1,2,\\dots,m<n,$ где је првих $k$ компоненети вектора $v_k$ једнако нули, док су $e_k$ вектори природне базе простора $\\mathbb{R}^n.$ Показати једнакост\n",
    "$$\\big(I_n+v_1e_1^T\\big)\\big(I_n+v_2e_2^T\\big)\\cdots\\big(I_n+v_me_m^T\\big)=I_n+\\displaystyle\\sum_{k=1}^mv_ke_k^T.$$\n",
    "\n",
    "(5 поена)"
   ]
  },
  {
   "attachments": {},
   "cell_type": "markdown",
   "metadata": {},
   "source": [
    "Да бисмо доказали ову једнакост, користићемо индукцију по $m$.\n",
    "\n",
    "**База индукције ($m = 1$):**\n",
    "\n",
    "$$(I_n + v_1e_1^T) = I_n + \\sum_{k=1}^1 v_ke_k^T$$\n",
    "\n",
    "Једнакост је тривијално тачна за $m = 1$.\n",
    "\n",
    "**Индукцијски корак:**\n",
    "\n",
    "Претпоставимо да једнакост важи за $m = p$:\n",
    "\n",
    "$$(I_n + v_1e_1^T)(I_n + v_2e_2^T) \\cdots (I_n + v_pe_p^T) = I_n + \\sum_{k=1}^p v_ke_k^T$$\n",
    "\n",
    "Треба доказати да једнакост важи и за $m = p + 1$:\n",
    "\n",
    "$$(I_n + v_1e_1^T)(I_n + v_2e_2^T) \\cdots (I_n + v_pe_p^T)(I_n + v_{p+1}e_{p+1}^T) = I_n + \\sum_{k=1}^{p+1} v_ke_k^T$$\n",
    "\n",
    "Прво, помножимо обе стране индукцијске хипотезе са $(I_n + v_{p+1}e_{p+1}^T)$:\n",
    "\n",
    "$$(I_n + \\sum_{k=1}^p v_ke_k^T)(I_n + v_{p+1}e_{p+1}^T)$$\n",
    "\n",
    "Разложимо производ:\n",
    "\n",
    "$$I_n(I_n + v_{p+1}e_{p+1}^T) + \\sum_{k=1}^p v_ke_k^T(I_n + v_{p+1}e_{p+1}^T)$$\n",
    "\n",
    "Сада разложимо сваки члан збира:\n",
    "\n",
    "$$I_n + v_{p+1}e_{p+1}^T + \\sum_{k=1}^p v_k e_k^T + \\sum_{k=1}^p v_kv_{p+1}(e_k^Te_{p+1})e_k^T$$\n",
    "\n",
    "Пошто су $e_k$ вектори природне базе, тада је $(e_k^Te_{p+1}) = 0$ за све $k \\neq p+1$, и $(e_{p+1}^Te_{p+1}) = 1$. Убацимо ово у једнакост:\n",
    "\n",
    "$$I_n + v_{p+1}e_{p+1}^T + \\sum_{k=1}^p v_ke_k^T + v_{p+1}e_{p+1}^T$$\n",
    "\n",
    "Саберемо чланове са $v_{p+1}e_{p+1}^T$:\n",
    "\n",
    "$$I_n + \\sum_{k=1}^{p+1} v_ke_k^T$$\n",
    "\n",
    "Сада смо показали да једнакост важи и за $m = p + 1$:\n",
    "\n",
    "$$(I_n + v_1e_1^T)(I_n + v_2e_2^T) \\cdots (I_n + v_pe_p^T)(I_n + v_{p+1}e_{p+1}^T) = I_n + \\sum_{k=1}^{p+1} v_ke_k^T$$\n",
    "\n",
    "Пошто смо показали да једнакост важи за $m = 1$ (база индукције) и да ако важи за $m = p$, онда важи и за $m = p + 1$ (индукцијски корак), можемо закључити да једнакост важи за све $m < n$.\n"
   ]
  },
  {
   "cell_type": "markdown",
   "metadata": {},
   "source": [
    "**Задатак 3.** На основу неке од обрађених декомпозиција матрица одредити базу простора врста и базу простора колона матрице\n",
    "$$A=\\begin{bmatrix}1&2&3&-1\\\\2&-1&-4&8\\\\-1&1&3&-5\\\\-1&2&5&-6\\\\-1&-2&-3&1\\end{bmatrix}.$$\n",
    "\n",
    "\n",
    "(10 поена)"
   ]
  },
  {
   "cell_type": "code",
   "execution_count": 14,
   "metadata": {},
   "outputs": [
    {
     "name": "stdout",
     "output_type": "stream",
     "text": [
      "Baza prostora kolona matrice A:\n",
      "\n",
      "[[-0.35355339  0.57048265  0.02642418  0.20489637]\n",
      " [-0.70710678 -0.20134682  0.3977211  -0.5468552 ]\n",
      " [ 0.35355339  0.23490462  0.89479525  0.11391124]\n",
      " [ 0.35355339  0.50336704 -0.17394507 -0.76900243]\n",
      " [ 0.35355339 -0.57048265  0.10101619 -0.23372284]]\n",
      "\n",
      "Baza prostora vrsta matrice A:\n",
      "\n",
      "[[-2.84627227e-01  3.55784033e-02  3.55784033e-01 -8.89460084e-01]\n",
      " [-4.17552986e-01 -5.57571753e-01 -6.97590520e-01 -1.67722123e-01]\n",
      " [ 7.60243500e-01  1.45537798e-01 -4.69167903e-01 -4.25123569e-01]\n",
      " [-4.08248290e-01  8.16496581e-01 -4.08248290e-01 -1.11022302e-16]]\n"
     ]
    }
   ],
   "source": [
    "# Definišemo matricu A\n",
    "A = np.array([[1, 2, 3, -1],\n",
    "              [2, -1, -4, 8],\n",
    "              [-1, 1, 3, -5],\n",
    "              [-1, 2, 5, -6],\n",
    "              [-1, -2, -3, 1]])\n",
    "\n",
    "Q, R = np.linalg.qr(A)\n",
    "\n",
    "col = Q\n",
    "rref, _ = np.linalg.qr(R.T)\n",
    "row = rref.T\n",
    "# Ispis baza prostora vrsta i kolona\n",
    "print(\"Baza prostora kolona matrice A:\\n\")\n",
    "print(col)\n",
    "print(\"\\nBaza prostora vrsta matrice A:\\n\")\n",
    "print(row)"
   ]
  },
  {
   "cell_type": "markdown",
   "metadata": {},
   "source": [
    "**Задатак 4.** На основу неке од обрађених декомпозиција матрица одредити матрицу пројекције на простор колона матрице\n",
    "$$A=\\begin{bmatrix}1&2&3&-1\\\\2&-1&-4&8\\\\-1&1&3&-5\\\\-1&2&5&-6\\\\-1&-2&-3&1\\end{bmatrix}.$$\n",
    "\n",
    "(10 поена)"
   ]
  },
  {
   "cell_type": "code",
   "execution_count": 14,
   "metadata": {},
   "outputs": [
    {
     "name": "stdout",
     "output_type": "stream",
     "text": [
      "Matrica projekcije P (LU dekompozicija):\n",
      "[[ -6.54619565  21.9076087  -14.45380435 -18.95380435   6.54619565]\n",
      " [ 11.74456522 -35.26086957  23.50543478  31.50543478 -11.74456522]\n",
      " [ -8.23097826  25.41304348 -16.89402174 -22.51902174   8.23097826]\n",
      " [ 21.03532609 -60.42934783  40.46467391  54.46467391 -21.03532609]\n",
      " [  6.54619565 -21.9076087   14.45380435  18.95380435  -6.54619565]]\n"
     ]
    }
   ],
   "source": [
    "# LU\n",
    "# Definišemo matricu A\n",
    "A = np.array([[1, 2, 3, -1],\n",
    "              [2, -1, -4, 8],\n",
    "              [-1, 1, 3, -5],\n",
    "              [-1, 2, 5, -6],\n",
    "              [-1, -2, -3, 1]])\n",
    "\n",
    "# Izračunavamo LU dekompoziciju matrice A^TA\n",
    "ATA = A.T @ A\n",
    "P, L, U = scipy.linalg.lu(ATA)\n",
    "\n",
    "# Izračunavamo inverznu matricu (A^TA)^{-1}\n",
    "ATA_inv = scipy.linalg.inv(U) @ scipy.linalg.inv(L)\n",
    "\n",
    "# Izračunavamo matricu projekcije P\n",
    "P = A @ ATA_inv @ A.T\n",
    "\n",
    "print(\"Matrica projekcije P (LU dekompozicija):\")\n",
    "print(P)\n"
   ]
  },
  {
   "cell_type": "code",
   "execution_count": 16,
   "metadata": {},
   "outputs": [
    {
     "name": "stdout",
     "output_type": "stream",
     "text": [
      "Matrica projekcije P (QR dekompozicija):\n",
      "[[ 6.60268491e-01  1.98972502e-01  3.31620837e-01 -1.07552856e-16\n",
      "  -2.73407342e-01]\n",
      " [ 1.98972502e-01  8.83466633e-01 -1.94222279e-01  7.63278329e-17\n",
      "   1.60128047e-01]\n",
      " [ 3.31620837e-01 -1.94222279e-01  6.76296202e-01  5.55111512e-17\n",
      "   2.66880078e-01]\n",
      " [-1.07552856e-16  7.63278329e-17  5.55111512e-17  1.00000000e+00\n",
      "   1.11022302e-16]\n",
      " [-2.73407342e-01  1.60128047e-01  2.66880078e-01  1.11022302e-16\n",
      "   7.79968674e-01]]\n"
     ]
    }
   ],
   "source": [
    "import numpy as np\n",
    "\n",
    "# Definišemo matricu A\n",
    "A = np.array([[1, 2, 3, -1],\n",
    "              [2, -1, -4, 8],\n",
    "              [-1, 1, 3, -5],\n",
    "              [-1, 2, 5, -6],\n",
    "              [-1, -2, -3, 1]])\n",
    "\n",
    "# Izračunavamo QR dekompoziciju matrice A\n",
    "Q, R = np.linalg.qr(A)\n",
    "\n",
    "# Izračunavamo matricu projekcije P\n",
    "P = Q @ Q.T\n",
    "\n",
    "print(\"Matrica projekcije P (QR dekompozicija):\")\n",
    "print(P)"
   ]
  },
  {
   "cell_type": "code",
   "execution_count": 17,
   "metadata": {},
   "outputs": [
    {
     "name": "stdout",
     "output_type": "stream",
     "text": [
      "Matrica projekcije P (Cholesky dekompozicija):\n",
      "[[-0.73913043  0.91304348 -0.69565217 -1.43478261  0.73913043]\n",
      " [ 0.93478261  0.02173913  0.17391304  1.10869565 -0.93478261]\n",
      " [-1.35869565  0.86956522 -0.79347826 -1.90217391  1.35869565]\n",
      " [ 0.5         1.         -0.5         0.5        -0.5       ]\n",
      " [ 0.73913043 -0.91304348  0.69565217  1.43478261 -0.73913043]]\n"
     ]
    }
   ],
   "source": [
    "# Cholesky\n",
    "# Definišemo matricu A\n",
    "A = np.array([[1, 2, 3, -1],\n",
    "              [2, -1, -4, 8],\n",
    "              [-1, 1, 3, -5],\n",
    "              [-1, 2, 5, -6],\n",
    "              [-1, -2, -3, 1]])\n",
    "\n",
    "# Izračunavamo Cholesky dekompoziciju matrice A^TA\n",
    "ATA = A.T @ A\n",
    "L = np.linalg.cholesky(ATA)\n",
    "\n",
    "# Izračunavamo inverznu matricu (A^TA)^{-1}\n",
    "ATA_inv = scipy.linalg.inv(L.T) @ scipy.linalg.inv(L)\n",
    "\n",
    "# Izračunavamo matricu projekcije P\n",
    "P = A @ ATA_inv @ A.T\n",
    "\n",
    "print(\"Matrica projekcije P (Cholesky dekompozicija):\")\n",
    "print(P)"
   ]
  },
  {
   "cell_type": "markdown",
   "metadata": {},
   "source": [
    "**Задатак 5.** Показати да оротогнална матрица чува норму и углове. Другим речима, за произвољну ортогоналну матрицу $Q$ и векторе $v$ и $u$ показати једнакости:\n",
    "\\begin{align}\n",
    "&\\|Qv\\|=\\|v\\|,\\\\\n",
    "&(Qv)\\cdot(Qu)=v\\cdot u,\\\\\n",
    "&\\cos\\angle(v,u)=\\cos\\angle(Qv,Qu).\n",
    "\\end{align}\n",
    "\n",
    "\n",
    "(10 поена)"
   ]
  },
  {
   "cell_type": "code",
   "execution_count": 3,
   "metadata": {},
   "outputs": [
    {
     "name": "stdout",
     "output_type": "stream",
     "text": [
      "||u|| = 3.1622776601683795, ||Qu|| = 3.16227766016838\n",
      "||v|| = 4.47213595499958, ||Qv|| = 4.47213595499958\n",
      "u · v = 10, (Qu) · (Qv) = 10.0\n",
      "cos(∠(u, v)) = 0.7071067811865475, cos(∠(Qu, Qv)) = 0.7071067811865474\n"
     ]
    }
   ],
   "source": [
    "import numpy as np\n",
    "\n",
    "# Proizvoljna ortogonalna matrica Q\n",
    "Q = np.array([[0.8, -0.6],\n",
    "              [0.6, 0.8]])\n",
    "\n",
    "# Proizvoljni vektori u i v\n",
    "u = np.array([1, 3])\n",
    "v = np.array([-2, 4])\n",
    "\n",
    "# 1. Pokazujemo da ortogonalna matrica čuva normu\n",
    "norm_u = np.linalg.norm(u)\n",
    "norm_Q_u = np.linalg.norm(Q @ u)\n",
    "print(f\"||u|| = {norm_u}, ||Qu|| = {norm_Q_u}\")\n",
    "\n",
    "norm_v = np.linalg.norm(v)\n",
    "norm_Q_v = np.linalg.norm(Q @ v)\n",
    "print(f\"||v|| = {norm_v}, ||Qv|| = {norm_Q_v}\")\n",
    "\n",
    "# 2. Pokazujemo da ortogonalna matrica čuva skalarni proizvod\n",
    "u_dot_v = u @ v\n",
    "Q_u_dot_Q_v = (Q @ u) @ (Q @ v)\n",
    "print(f\"u · v = {u_dot_v}, (Qu) · (Qv) = {Q_u_dot_Q_v}\")\n",
    "\n",
    "# 3. Pokazujemo da ortogonalna matrica čuva uglove\n",
    "cos_angle_uv = u_dot_v / (norm_u * norm_v)\n",
    "cos_angle_Q_u_Q_v = Q_u_dot_Q_v / (norm_Q_u * norm_Q_v)\n",
    "print(f\"cos(∠(u, v)) = {cos_angle_uv}, cos(∠(Qu, Qv)) = {cos_angle_Q_u_Q_v}\")\n"
   ]
  },
  {
   "attachments": {},
   "cell_type": "markdown",
   "metadata": {},
   "source": [
    "Da bismo pokazali da ortogonalna matrica čuva normu i uglove, možemo koristiti svojstva ortogonalnih matrica i svojstva skalarnog proizvoda. Neka je $Q$ ortogonalna matrica i $v$ i $u$ proizvoljni vektori. Tada važi:\n",
    "\n",
    "$QQ^T = I$, $Q^TQ = I$ (pošto je $Q$ ortogonalna)\n",
    "\n",
    "Prvo, pokazaćemo da $|Qv| = |v|$:\n",
    "\n",
    "$$|Qv|^2=(Qv) \\cdot (Qv)=(Qv)^T(Qv)=v^T(Q^TQ)v=v^T(I)v=v \\cdot v=|v|^2$$\n",
    "\n",
    "Kako je $|Qv|^2 = |v|^2$, sledi da je $|Qv| = |v|$.\n",
    "\n",
    "Sada ćemo pokazati da $(Qv) \\cdot (Qu) = v \\cdot u$:\n",
    "\n",
    "$$(Qv) \\cdot (Qu)=(Qv)^T(Qu)=v^T(Q^TQ)u=v^T(I)u=v^Tu=v \\cdot u$$\n",
    "\n",
    "Na kraju, pokazaćemo da $\\cos\\angle(v,u) = \\cos\\angle(Qv,Qu)$:\n",
    "\n",
    "$$\\cos\\angle(v,u)=\\frac{v \\cdot u}{|v||u|}$$\n",
    "\n",
    "$$\\cos\\angle(Qv,Qu)=\\frac{(Qv) \\cdot (Qu)}{|Qv||Qu|}=\\frac{v \\cdot u}{|v||u|}$$\n",
    "\n",
    "Pošto je $\\cos\\angle(v,u) = \\cos\\angle(Qv,Qu)$, zaključujemo da ortogonalna matrica čuva normu i uglove."
   ]
  }
 ],
 "metadata": {
  "kernelspec": {
   "display_name": "Python 3",
   "language": "python",
   "name": "python3"
  },
  "language_info": {
   "codemirror_mode": {
    "name": "ipython",
    "version": 3
   },
   "file_extension": ".py",
   "mimetype": "text/x-python",
   "name": "python",
   "nbconvert_exporter": "python",
   "pygments_lexer": "ipython3",
   "version": "3.11.1"
  }
 },
 "nbformat": 4,
 "nbformat_minor": 4
}
