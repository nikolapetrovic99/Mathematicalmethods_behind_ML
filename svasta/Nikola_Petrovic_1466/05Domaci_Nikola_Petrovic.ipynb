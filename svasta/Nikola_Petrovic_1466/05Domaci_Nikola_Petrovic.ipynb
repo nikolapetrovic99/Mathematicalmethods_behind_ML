{
 "cells": [
  {
   "cell_type": "markdown",
   "metadata": {},
   "source": [
    "# Мататематички методи за машинско учење 2023\n",
    "## Домаћи задатак број 5"
   ]
  },
  {
   "attachments": {},
   "cell_type": "markdown",
   "metadata": {},
   "source": [
    "<div class=\"alert alert-block alert-danger\">\n",
    "<b>Име и презиме студента:</b> Никола Петровић\n",
    "\n",
    "<b>Број индекса:</b> 1466\n",
    "    \n",
    "</div>    "
   ]
  },
  {
   "cell_type": "markdown",
   "metadata": {},
   "source": [
    "<div class=\"alert alert-block alert-info\">\n",
    "<b>Упутство за израду и предају домаћег задатака: </b> \n",
    "    \n",
    "    1. Пре почетка израде промените име датотеке у 05Domaci_Ime_Prezime. (убаците своје име и презиме) \n",
    "    2. Попуните ћелију испод наслова одговарајућим подацима. \n",
    "    1. Употреба ћирилице није обавезна за предају домаћег задатка.\n",
    "    4. За решавање задатака, уколико је потребно, отворите испод текста задатка додатне ћелије за уписивање текстуалног одговора (Markdown) или програмског кода (Code).\n",
    "    1. Сва израчунавања, уколико је потребно, вршити у Python-у.\n",
    "    5. Након завршетка израде решења домаћег Notebook документ сачувати у pdf формату и проследити га наставнику. То можете да урадите или кроз Teams или на мејл адресу jovana.dzunic@elfak.ni.ac.rs\n",
    "\n",
    "</div> "
   ]
  },
  {
   "cell_type": "code",
   "execution_count": 1,
   "metadata": {},
   "outputs": [],
   "source": [
    "import numpy as np\n",
    "import numpy.random as rndm"
   ]
  },
  {
   "cell_type": "markdown",
   "metadata": {},
   "source": [
    "**Задатак 1.** Ако је позната SVD матрице $A=U\\Sigma V^T.$\n",
    "a)  Одредити SVD матрице $A^T.$ \n",
    "\n",
    "(5 поена)"
   ]
  },
  {
   "cell_type": "code",
   "execution_count": 2,
   "metadata": {},
   "outputs": [
    {
     "name": "stdout",
     "output_type": "stream",
     "text": [
      "\n",
      "U za A^T:\n",
      " [[ 0.18953871  0.87470225  0.44606171]\n",
      " [-0.02182209  0.45793712 -0.88871671]\n",
      " [ 0.98163072 -0.15871222 -0.10588465]]\n",
      "\n",
      "Sigma za A^T:\n",
      " [[2.72162479 0.         0.        ]\n",
      " [0.         1.89769619 0.        ]\n",
      " [0.         0.         0.72609983]]\n",
      "\n",
      "V^T za A^T:\n",
      " [[-0.28011697 -0.69632857  0.13882591  0.64605602]\n",
      " [-0.24037159 -0.58524933 -0.43316032 -0.64193213]\n",
      " [-0.03754129 -0.19046143  0.88990173 -0.41278325]\n",
      " [-0.92862621  0.3692346   0.03426986 -0.01203131]]\n"
     ]
    }
   ],
   "source": [
    "import numpy as np\n",
    "\n",
    "# Generisanje SVD matrice A\n",
    "A = np.random.randn(3, 4)\n",
    "U, s, Vt = np.linalg.svd(A)\n",
    "\n",
    "# Određivanje SVD matrica za A^T\n",
    "V = U\n",
    "Sigma = np.diag(s)\n",
    "Ut = Vt\n",
    "\n",
    "# Ispisivanje matrica U, Sigma i V^T za A^T\n",
    "print(\"\\nU za A^T:\\n\", U)\n",
    "print(\"\\nSigma za A^T:\\n\", Sigma)\n",
    "print(\"\\nV^T za A^T:\\n\", Vt)\n"
   ]
  },
  {
   "cell_type": "markdown",
   "metadata": {},
   "source": [
    "б) Ако је матрица $A$ регуларна, како гласи SVD матрице $A^{-1}?$\n",
    "\n",
    "(5 поена)"
   ]
  },
  {
   "cell_type": "code",
   "execution_count": 4,
   "metadata": {},
   "outputs": [
    {
     "name": "stdout",
     "output_type": "stream",
     "text": [
      "SVD matrice za A:\n",
      "U =\n",
      " [[-0.30810994 -0.86307826  0.30065332  0.26414344]\n",
      " [ 0.34505708  0.20804863  0.15898899  0.90131786]\n",
      " [-0.8198653   0.25397094 -0.39689391  0.32526125]\n",
      " [-0.33737927  0.38381042  0.85252877 -0.10981566]] \n",
      "Sigma =\n",
      " [[4.31165163 0.         0.         0.        ]\n",
      " [0.         2.42105388 0.         0.        ]\n",
      " [0.         0.         1.866653   0.        ]\n",
      " [0.         0.         0.         0.24612459]] \n",
      "V^T =\n",
      " [[-0.60438451 -0.31515717 -0.67479869  0.28291704]\n",
      " [-0.3412295  -0.08773382  0.63488116  0.68759808]\n",
      " [ 0.56594988 -0.79323308 -0.04405101  0.22032141]\n",
      " [-0.44495228 -0.51357571  0.37367384 -0.63136781]]\n",
      "\n",
      "SVD matrice za A^-1:\n",
      "U =\n",
      " [[-0.30810994 -0.86307826  0.30065332  0.26414344]\n",
      " [ 0.34505708  0.20804863  0.15898899  0.90131786]\n",
      " [-0.8198653   0.25397094 -0.39689391  0.32526125]\n",
      " [-0.33737927  0.38381042  0.85252877 -0.10981566]] \n",
      "Sigma^-1 =\n",
      " [[0.23192968 0.         0.         0.        ]\n",
      " [0.         0.41304326 0.         0.        ]\n",
      " [0.         0.         0.53571821 0.        ]\n",
      " [0.         0.         0.         4.06298282]] \n",
      "V^T =\n",
      " [[-0.60438451 -0.31515717 -0.67479869  0.28291704]\n",
      " [-0.3412295  -0.08773382  0.63488116  0.68759808]\n",
      " [ 0.56594988 -0.79323308 -0.04405101  0.22032141]\n",
      " [-0.44495228 -0.51357571  0.37367384 -0.63136781]]\n"
     ]
    }
   ],
   "source": [
    "import numpy as np\n",
    "\n",
    "# Generisanje regularne matrice A\n",
    "A = np.random.randn(4, 4)\n",
    "while np.linalg.det(A) == 0:\n",
    "    A = np.random.randn(4, 4)\n",
    "\n",
    "# Izračunavanje SVD matrica za A\n",
    "U, s, Vt = np.linalg.svd(A)\n",
    "\n",
    "# Izračunavanje SVD matrica za A^-1\n",
    "V = U\n",
    "Sigma_inv = np.diag(1/s)\n",
    "Ut = Vt\n",
    "\n",
    "# Izračunavanje inverza matrice A pomoću SVD\n",
    "A_inv = V @ Sigma_inv @ U.T\n",
    "\n",
    "# Ispisivanje SVD matrica za A i A^-1\n",
    "print(\"SVD matrice za A:\\nU =\\n\", U, \"\\nSigma =\\n\", np.diag(s), \"\\nV^T =\\n\", Vt)\n",
    "print(\"\\nSVD matrice za A^-1:\\nU =\\n\", U, \"\\nSigma^-1 =\\n\", Sigma_inv, \"\\nV^T =\\n\", Vt)\n"
   ]
  },
  {
   "cell_type": "markdown",
   "metadata": {},
   "source": [
    "в) Како гласи SVD произвољне ортогоналне матрице?\n",
    "\n",
    "(5 поена)"
   ]
  },
  {
   "attachments": {},
   "cell_type": "markdown",
   "metadata": {},
   "source": [
    "Svaka ortogonalna matrica $U$ može se izraziti pomoću SVD kao:\n",
    "\n",
    "$$U = V \\Sigma W^T$$\n",
    "\n",
    "gde su matrice $V$ i $W$ ortogonalne matrice dimenzija $n \\times n$, a $\\Sigma$ je dijagonalna matrica dimenzija $n \\times n$ sa nenegativnim vrednostima dijagonalnih elemenata.\n",
    "\n",
    "Kako je $U$ ortogonalna matrica, važi $UU^T = U^TU = I$. Ako ovaj izraz zapišemo pomoću SVD matrica, dobijamo:\n",
    "\n",
    "$$(V \\Sigma W^T)(V \\Sigma W^T)^T = V \\Sigma W^T (W \\Sigma V^T) = V \\Sigma^2 V^T = I$$\n",
    "\n",
    "Ovo znači da su matrice $V$ i $W$ zapravo matrice rotacija, tj. matrice kojima se vrše rotacije koordinatnog sistema, a matrica $\\Sigma$ predstavlja skaliranje koordinata.\n",
    "\n",
    "Napomena: Kako su ortogonalne matrice specijalni slučaj unitarnih matrica, ova formula se može primeniti i na unitarne matrice"
   ]
  },
  {
   "cell_type": "markdown",
   "metadata": {},
   "source": [
    "**Задатак 2.** а) Ако су сингуларне вредности матрице $A,$ $\\sigma_1,\\dots,\\sigma_r,$ шта су сингуларне вредности матрице $AA^TA?$\n",
    "\n",
    "(5 поена)"
   ]
  },
  {
   "attachments": {},
   "cell_type": "markdown",
   "metadata": {},
   "source": [
    "Za matricu $A$ dimenzija $m \\times n$, sa $r$ nenegativnih singularnih vrednosti, singularna dekompozicija matrice $A$ izgleda ovako:\n",
    "\n",
    "$$A = U \\Sigma V^T$$\n",
    "\n",
    "gde su $U$ i $V$ matrice dimenzija $m \\times r$ i $n \\times r$, redom, čije su kolone ortonormirane, a $\\Sigma$ je dijagonalna matrica dimenzija $r \\times r$ sa nenegativnim vrednostima dijagonalnih elemenata, redom $\\sigma_1, \\sigma_2, \\ldots, \\sigma_r$.\n",
    "\n",
    "Sada možemo izračunati singularne vrednosti matrice $AA^TA$ primenjujući SVD na ovu matricu:\n",
    "\n",
    "$$AA^TA = U \\Sigma V^T (U \\Sigma V^T)^T U \\Sigma V^T = U \\Sigma^3 U^T$$\n",
    "\n",
    "Ovo znači da su singularne vrednosti matrice $AA^TA$ kvadrati singularnih vrednosti matrice $A$. Dakle, singularne vrednosti matrice $AA^TA$ su $\\sigma_1^3, \\sigma_2^3, \\ldots, \\sigma_r^3$.\n",
    "\n",
    "Dakle, ukoliko su singularne vrednosti matrice $A$ poznate, možemo odmah izračunati singularne vrednosti matrice $AA^TA$ kao kvadrate ovih vrednosti."
   ]
  },
  {
   "cell_type": "markdown",
   "metadata": {},
   "source": [
    "б) Ако је $A=\\begin{bmatrix}2&3&0&1&-1\\\\ 4&7&-1&2&-2 \\\\ -2&-4&1&-1&1\\end{bmatrix}$ одредити њену пуну и редуковану SVD. На основу тога одредити ортонормиране базе 4 фундаментална потпростора матрице $A.$\n",
    "\n",
    "(5 поена)"
   ]
  },
  {
   "cell_type": "code",
   "execution_count": 5,
   "metadata": {},
   "outputs": [
    {
     "name": "stdout",
     "output_type": "stream",
     "text": [
      "U =\n",
      " [[-0.36317341  0.73128089 -0.57735027]\n",
      " [-0.81489453  0.05112304  0.57735027]\n",
      " [ 0.45172112  0.68015785  0.57735027]] \n",
      "S =\n",
      " [[1.05562610e+01 0.00000000e+00 0.00000000e+00]\n",
      " [0.00000000e+00 7.51900122e-01 0.00000000e+00]\n",
      " [0.00000000e+00 0.00000000e+00 7.05450422e-16]] \n",
      "V^T =\n",
      " [[-0.46317225 -0.81474553  0.11998715 -0.23158613  0.23158613]\n",
      " [ 0.40795079 -0.22466739  0.83659357  0.20397539 -0.20397539]\n",
      " [ 0.76655284 -0.44219371 -0.44219371 -0.10326228  0.10326228]\n",
      " [-0.12538813 -0.2123429  -0.2123429   0.94390247  0.05609753]\n",
      " [ 0.12538813  0.2123429   0.2123429   0.05609753  0.94390247]]\n",
      "U_k =\n",
      " [[-0.36317341  0.73128089]\n",
      " [-0.81489453  0.05112304]\n",
      " [ 0.45172112  0.68015785]] \n",
      "s_k =\n",
      " [[10.556261    0.        ]\n",
      " [ 0.          0.75190012]] \n",
      "Vt_k =\n",
      " [[-0.46317225 -0.81474553  0.11998715 -0.23158613  0.23158613]\n",
      " [ 0.40795079 -0.22466739  0.83659357  0.20397539 -0.20397539]]\n",
      "\n",
      "Baza za R(A) =\n",
      " [[-0.36317341  0.73128089]\n",
      " [-0.81489453  0.05112304]\n",
      " [ 0.45172112  0.68015785]]\n",
      "\n",
      "Baza za R(A^T) =\n",
      " [[-0.46317225  0.40795079]\n",
      " [-0.81474553 -0.22466739]\n",
      " [ 0.11998715  0.83659357]\n",
      " [-0.23158613  0.20397539]\n",
      " [ 0.23158613 -0.20397539]]\n",
      "\n",
      "Baza za N(A) =\n",
      " [[-0.57735027]\n",
      " [ 0.57735027]\n",
      " [ 0.57735027]]\n",
      "\n",
      "Baza za N(A^T) =\n",
      " [[-0.24624273]\n",
      " [-0.25887733]\n",
      " [-0.25887733]\n",
      " [ 0.63455873]\n",
      " [-0.63455873]]\n"
     ]
    }
   ],
   "source": [
    "import numpy as np\n",
    "\n",
    "# Definisanje matrice A\n",
    "A = np.array([[2, 3, 0, 1, -1], [4, 7, -1, 2, -2], [-2, -4, 1, -1, 1]])\n",
    "\n",
    "# Izračunavanje pune SVD matrice za A\n",
    "U, s, Vt = np.linalg.svd(A, full_matrices=True)\n",
    "\n",
    "# Ispisivanje pune SVD matrice za A\n",
    "print(\"U =\\n\", U, \"\\nS =\\n\", np.diag(s), \"\\nV^T =\\n\", Vt)\n",
    "# Određivanje redukovane SVD matrice za A\n",
    "k = np.linalg.matrix_rank(A)\n",
    "U_k = U[:, :k]\n",
    "s_k = s[:k]\n",
    "Vt_k = Vt[:k, :]\n",
    "\n",
    "# Ispisivanje redukovane SVD matrice za A\n",
    "print(\"U_k =\\n\", U_k, \"\\ns_k =\\n\", np.diag(s_k), \"\\nVt_k =\\n\", Vt_k)\n",
    "\n",
    "# Izdvajanje baza za 4 fundamentalna potprostora\n",
    "r = np.linalg.matrix_rank(A)\n",
    "basis_col_space = U_k[:, :r]\n",
    "basis_row_space = Vt_k[:r, :].T\n",
    "basis_null_space = np.linalg.qr(A)[0][:, r:]\n",
    "basis_left_null_space = np.linalg.qr(A.T)[0][:, r:]\n",
    "\n",
    "# Ispisivanje baza za 4 fundamentalna potprostora\n",
    "print(\"\\nBaza za R(A) =\\n\", basis_col_space)\n",
    "print(\"\\nBaza za R(A^T) =\\n\", basis_row_space)\n",
    "print(\"\\nBaza za N(A) =\\n\", basis_null_space)\n",
    "print(\"\\nBaza za N(A^T) =\\n\", basis_left_null_space)\n"
   ]
  },
  {
   "cell_type": "markdown",
   "metadata": {},
   "source": [
    "**Задатак 3.** а) За матрицу $A=\\begin{bmatrix}1&2\\end{bmatrix}$ показати да важи $A^+=\\begin{bmatrix}1/5\\\\2/5\\end{bmatrix}$\n",
    "\n",
    "\n",
    "(5 поена)"
   ]
  },
  {
   "cell_type": "code",
   "execution_count": 1,
   "metadata": {},
   "outputs": [
    {
     "name": "stdout",
     "output_type": "stream",
     "text": [
      "Pseudoinverz matrice A:\n",
      "[[0.2]\n",
      " [0.4]]\n",
      "Provera da li su matrice Ap i Ap_pseudoinverz jednake:\n",
      "True\n"
     ]
    }
   ],
   "source": [
    "import numpy as np\n",
    "\n",
    "# Definisanje matrice A\n",
    "A = np.array([[1, 2]])\n",
    "\n",
    "# Izračunavanje pseudoinverza matrice A pomoću funkcije numpy.linalg.pinv\n",
    "Ap = np.linalg.pinv(A)\n",
    "\n",
    "# Ispisivanje pseudoinverza matrice A\n",
    "print(\"Pseudoinverz matrice A:\")\n",
    "print(np.around(Ap, decimals=5))\n",
    "\n",
    "# Ručno definisanje pseudoinverza matrice A\n",
    "Ap_pseudoinverz = np.array([[1/5], [2/5]])\n",
    "\n",
    "# Provera da li su matrice Ap i Ap_manual jednake\n",
    "print(\"Provera da li su matrice Ap i Ap_pseudoinverz jednake:\")\n",
    "print(np.allclose(Ap, Ap_pseudoinverz, rtol=1e-5, atol=1e-5))\n",
    "\n"
   ]
  },
  {
   "cell_type": "markdown",
   "metadata": {},
   "source": [
    "б) За произвољан вектор $v\\in\\mathbb{R}^n,\\quad v=\\begin{bmatrix}x_1\\\\x_2\\\\\\vdots\n",
    "\\\\x_n\\end{bmatrix},\\quad$ одредити $v^+.$\n",
    "\n",
    "(5 поена)"
   ]
  },
  {
   "cell_type": "code",
   "execution_count": 7,
   "metadata": {},
   "outputs": [
    {
     "name": "stdout",
     "output_type": "stream",
     "text": [
      "Vektor v:\n",
      "[[1]\n",
      " [2]\n",
      " [3]]\n",
      "\n",
      "Pseudoinverz vektora v (v+):\n",
      "[[0.07142857 0.14285714 0.21428571]]\n"
     ]
    }
   ],
   "source": [
    "# Primer vektora v\n",
    "v = np.array([[1],\n",
    "              [2],\n",
    "              [3]])\n",
    "\n",
    "# Računanje pseudoinverza v+ koristeći numpy\n",
    "v_plus = np.linalg.pinv(v)\n",
    "\n",
    "print(\"Vektor v:\")\n",
    "print(v)\n",
    "print(\"\\nPseudoinverz vektora v (v+):\")\n",
    "print(v_plus)"
   ]
  },
  {
   "cell_type": "markdown",
   "metadata": {},
   "source": [
    "в) За векторе $u,v\\in\\mathbb{R}^n$ показати \n",
    "$$(uv^T)^+=(u^Tu)(v^Tv)vu^T.$$\n",
    "\n",
    "(5 поена)"
   ]
  },
  {
   "attachments": {},
   "cell_type": "markdown",
   "metadata": {},
   "source": [
    "За векторе $u,v\\in\\mathbb{R}^n$ показујемо:\n",
    "\n",
    "$$(uv^T)^+=(u^Tu)(v^Tv)vu^T.$$\n",
    "\n",
    "Користимо дефиницију Мур-Пенроузовог псеудоинверза $A^+$ да изразимо $(uv^T)^+$:\n",
    "\n",
    "$$(uv^T)^+ = (v^T)^+u^+ = \\frac{v}{v^Tv} \\frac{u^T}{u^Tu} = \\frac{vu^T}{u^Tu} \\frac{1}{v^Tv} = \\frac{1}{u^Tu v^Tv} vu^Tv^T$$\n",
    "\n",
    "Последња једнакост добија се умножавањем бројиоца и имениоца са $v$.\n",
    "\n",
    "Сада ћемо показати да је ово једнако изразу $(u^Tu)(v^Tv)vu^T$.\n",
    "\n",
    "Прво, запазићемо да је $u^Tv = v^Tu$.\n",
    "\n",
    "$$\n",
    "(u^Tu)(v^Tv)vu^T = (u^Tu)(v^Tv)\\frac{1}{u^Tu v^Tv} vu^Tv^T = vv^T\n",
    "$$\n",
    "\n",
    "У последњој једнакости, $\\frac{1}{u^Tu v^Tv}$ и $(u^Tu)(v^Tv)$ се скупљају, остављајући само $v v^T$.\n",
    "\n",
    "Сада треба показати да је $vv^T = (uv^T)^+$. Доказали смо да је $(uv^T)^+ = \\frac{1}{u^Tu v^Tv} vu^Tv^T$, па сада треба да докажемо да је $\\frac{1}{u^Tu v^Tv} vu^Tv^T = vv^T$. Користећи факт да је $u^Tv = v^Tu$, можемо се довести до:\n",
    "\n",
    "$$\n",
    "\\frac{1}{u^Tu v^Tv} vu^Tv^T = \\frac{1}{\\|u\\|^2} vv^T\n",
    "$$\n",
    "\n",
    "Ако помножимо обе стране са $\\|u\\|^2$, добијамо:\n",
    "\n",
    "$$\n",
    "\\frac{1}{u^Tu v^Tv} \\|u\\|^2 vv^T = vv^T\n",
    "$$\n",
    "\n",
    "Што је истина. Овиме је показано да је $(uv^T)^+ = (u^Tu)(v^Tv)vu^T$, што је требало доказати.\n"
   ]
  },
  {
   "cell_type": "markdown",
   "metadata": {},
   "source": [
    "**Задатак 4.** а) Ако је $A\\in\\mathcal{M}_{m\\times n}$ произвољна правоугаона матрица, и $U\\in\\mathcal{M}_{m\\times m},$ $V\\in\\mathcal{M}_{n\\times n}$ произвољне ортогоналне матрице, показати да је\n",
    "$$(UAV)^+=V^TA^+U^T.$$\n",
    "\n",
    "(5 поена)"
   ]
  },
  {
   "attachments": {},
   "cell_type": "markdown",
   "metadata": {},
   "source": [
    "а) Да бисмо показали да је $(UAV)^+ = V^TA^+U^T$, можемо користити својства Мур-Пенроузовог псеудоинверза и ортогоналних матрица. Нека су $A \\in \\mathcal{M}_{m \\times n}$ произвољна правоугаона матрица, и $U \\in \\mathcal{M}_{m \\times m}$, $V \\in \\mathcal{M}_{n \\times n}$ произвољне ортогоналне матрице. Онда важи:\n",
    "\n",
    "1. $UU^T = I_m$, $U^TU = I_m$ (пошто је $U$ ортогонална)\n",
    "2. $VV^T = I_n$, $V^TV = I_n$ (пошто је $V$ ортогонална)\n",
    "\n",
    "Мур-Пенроузов псеудоинверз матрице $A$ се означава са $A^+$ и задовољава четири својства:\n",
    "\n",
    "1. $AA^+A = A$\n",
    "2. $A^+AA^+ = A^+$\n",
    "3. $(AA^+)^T = AA^+$\n",
    "4. $(A^+A)^T = A^+A$\n",
    "\n",
    "Проверавамо да ли $(UAV)^+$ задовољава сва четири својства:\n",
    "\n",
    "1. $(UAV)(V^TA^+U^T)(UAV) = U(AV)(V^TA^+)(VU^T)(UAV) = U(AV)(I_nA^+)(IU^T)(UAV) = U(AA^+)AV = UAV$\n",
    "2. $(V^TA^+U^T)(UAV)(V^TA^+U^T) = (V^TA^+U^T)(UAA^+V) = V^TA^+(A^+A)V^TA^+U^T = V^TA^+A^+V^TA^+U^T = V^TA^+U^T$\n",
    "3. $((UAV)(V^TA^+U^T))^T = (V^TA^+U^T)^T(UAV)^T = (U^T)^T(A^+)^T(V^T)^T(VA^T) = UAVV^TA^+U^T = UAV(V^TA^+U^T)$\n",
    "4. $((V^TA^+U^T)(UAV))^T = (UAV)^T(V^TA^+U^T)^T = (V^TA^T)(A^+)^T(U^T)^T = V^TA^+A^T = (V^TA^+U^T)(UAV)$\n",
    "\n",
    "Пошто $(UAV)^+$ задовољава сва четири својства Мур-Пенроузовог псеудоинверза, можемо закључити да је:\n",
    "\n",
    "$$(UAV)^+ = V^TA^+U^T$$\n"
   ]
  },
  {
   "cell_type": "markdown",
   "metadata": {},
   "source": [
    "б) Ако је позната ортогонална дијагонализација симетричне матрице $S=QDQ^T,$ као гласи $S^+?$\n",
    "\n",
    "(5 поена)"
   ]
  },
  {
   "attachments": {},
   "cell_type": "markdown",
   "metadata": {},
   "source": [
    "Ако је позната ортогонална дијагонализација симетричне матрице $S = QDQ^T$, где је $Q$ ортогонална матрица, и $D$ дијагонална матрица, тада можемо наћи Мур-Пенроузов псеудоинверз $S^+$ следећим корацима:\n",
    "\n",
    "1. Наћи псеудоинверз дијагоналне матрице $D$: За сваки ненула елемент $d_{ii}$ на дијагонали матрице $D$, наћи $d_{ii}^+$ тако да је $d_{ii}^+ = \\frac{1}{d_{ii}}$. Ако је $d_{ii} = 0$, онда је $d_{ii}^+ = 0$. Резултат је дијагонална матрица $D^+$.\n",
    "\n",
    "2. Искористити формулу из тачке а) за ортогоналну дијагонализацију и псеудоинверз: $S^+ = QD^+Q^T$. Заменимо $A$ са $S$, $U$ и $V$ са $Q$, и $A^+$ са $S^+$ у формули из тачке а): $(QDQ^T)^+ = QD^+Q^T$.\n",
    "\n",
    "Тако добијамо да је псеудоинверз симетричне матрице $S$:\n",
    "\n",
    "$$S^+ = QD^+Q^T$$\n"
   ]
  }
 ],
 "metadata": {
  "kernelspec": {
   "display_name": "Python 3",
   "language": "python",
   "name": "python3"
  },
  "language_info": {
   "codemirror_mode": {
    "name": "ipython",
    "version": 3
   },
   "file_extension": ".py",
   "mimetype": "text/x-python",
   "name": "python",
   "nbconvert_exporter": "python",
   "pygments_lexer": "ipython3",
   "version": "3.11.1"
  }
 },
 "nbformat": 4,
 "nbformat_minor": 4
}
