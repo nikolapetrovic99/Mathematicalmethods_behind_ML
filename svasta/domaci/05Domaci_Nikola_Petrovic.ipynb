{
 "cells": [
  {
   "cell_type": "markdown",
   "metadata": {},
   "source": [
    "# Мататематички методи за машинско учење 2023\n",
    "## Домаћи задатак број 5"
   ]
  },
  {
   "cell_type": "markdown",
   "metadata": {},
   "source": [
    "<div class=\"alert alert-block alert-danger\">\n",
    "<b>Име и презиме студента:</b> Никола Петровић\n",
    "\n",
    "<b>Број индекса:</b> 1466\n",
    "    \n",
    "</div>    "
   ]
  },
  {
   "cell_type": "markdown",
   "metadata": {},
   "source": [
    "<div class=\"alert alert-block alert-info\">\n",
    "<b>Упутство за израду и предају домаћег задатака: </b> \n",
    "    \n",
    "    1. Пре почетка израде промените име датотеке у 05Domaci_Ime_Prezime. (убаците своје име и презиме) \n",
    "    2. Попуните ћелију испод наслова одговарајућим подацима. \n",
    "    1. Употреба ћирилице није обавезна за предају домаћег задатка.\n",
    "    4. За решавање задатака, уколико је потребно, отворите испод текста задатка додатне ћелије за уписивање текстуалног одговора (Markdown) или програмског кода (Code).\n",
    "    1. Сва израчунавања, уколико је потребно, вршити у Python-у.\n",
    "    5. Након завршетка израде решења домаћег Notebook документ сачувати у pdf формату и проследити га наставнику. То можете да урадите или кроз Teams или на мејл адресу jovana.dzunic@elfak.ni.ac.rs\n",
    "\n",
    "</div> "
   ]
  },
  {
   "cell_type": "code",
   "execution_count": 1,
   "metadata": {},
   "outputs": [],
   "source": [
    "import numpy as np\n",
    "import numpy.random as rndm"
   ]
  },
  {
   "cell_type": "markdown",
   "metadata": {},
   "source": [
    "**Задатак 1.** Ако је позната SVD матрице $A=U\\Sigma V^T.$\n",
    "a)  Одредити SVD матрице $A^T.$ \n",
    "\n",
    "(5 поена)"
   ]
  },
  {
   "cell_type": "code",
   "execution_count": 2,
   "metadata": {
    "scrolled": true
   },
   "outputs": [
    {
     "name": "stdout",
     "output_type": "stream",
     "text": [
      "\n",
      "U za A^T:\n",
      " [[-0.05201447  0.5058578  -0.86104726]\n",
      " [ 0.01014763 -0.86190217 -0.50697305]\n",
      " [ 0.99859477  0.03510753 -0.03969813]]\n",
      "\n",
      "Sigma za A^T:\n",
      " [[2.77098267 0.         0.        ]\n",
      " [0.         1.80682408 0.        ]\n",
      " [0.         0.         0.85148452]]\n",
      "\n",
      "V^T za A^T:\n",
      " [[-0.40805837  0.85313861 -0.1067895  -0.30698352]\n",
      " [ 0.69321775  0.28950001 -0.65088137  0.10950954]\n",
      " [-0.50071141 -0.01757556 -0.41315312  0.76044966]\n",
      " [ 0.31972738  0.43363043  0.62789645  0.5616806 ]]\n"
     ]
    }
   ],
   "source": [
    "# Generisanje SVD matrice A\n",
    "A = np.random.randn(3, 4)\n",
    "U, s, Vt = np.linalg.svd(A)\n",
    "\n",
    "# Određivanje SVD matrica za A^T\n",
    "V = U\n",
    "Sigma = np.diag(s)\n",
    "Ut = Vt\n",
    "\n",
    "# Ispisivanje matrica U, Sigma i V^T za A^T\n",
    "print(\"\\nU za A^T:\\n\", U)\n",
    "print(\"\\nSigma za A^T:\\n\", Sigma)\n",
    "print(\"\\nV^T za A^T:\\n\", Vt)\n"
   ]
  },
  {
   "cell_type": "markdown",
   "metadata": {},
   "source": [
    "<div class=\"alert alert-block alert-info\">\n",
    "<b> Тачно. Идеја је била да напишете формуле, али може и овако.\n",
    "    \n",
    "5/5 поена</b> </div>"
   ]
  },
  {
   "cell_type": "code",
   "execution_count": 7,
   "metadata": {},
   "outputs": [
    {
     "data": {
      "text/plain": [
       "((4, 4), (3, 3), (3, 3))"
      ]
     },
     "execution_count": 7,
     "metadata": {},
     "output_type": "execute_result"
    }
   ],
   "source": [
    "Ut.shape, Sigma.shape, V.shape"
   ]
  },
  {
   "cell_type": "code",
   "execution_count": 9,
   "metadata": {},
   "outputs": [
    {
     "data": {
      "text/plain": [
       "array([[2.77098267, 0.        , 0.        ],\n",
       "       [0.        , 1.80682408, 0.        ],\n",
       "       [0.        , 0.        , 0.85148452],\n",
       "       [0.        , 0.        , 0.        ]])"
      ]
     },
     "execution_count": 9,
     "metadata": {},
     "output_type": "execute_result"
    }
   ],
   "source": [
    "Sigma=np.block([[Sigma],[np.zeros(3)]])\n",
    "Sigma"
   ]
  },
  {
   "cell_type": "code",
   "execution_count": 11,
   "metadata": {},
   "outputs": [
    {
     "data": {
      "text/plain": [
       "array([[ True,  True,  True],\n",
       "       [ True,  True,  True],\n",
       "       [ True,  True,  True],\n",
       "       [ True,  True,  True]])"
      ]
     },
     "execution_count": 11,
     "metadata": {},
     "output_type": "execute_result"
    }
   ],
   "source": [
    "np.isclose(A.T,Ut.T@Sigma@V.T)"
   ]
  },
  {
   "cell_type": "markdown",
   "metadata": {},
   "source": [
    "б) Ако је матрица $A$ регуларна, како гласи SVD матрице $A^{-1}?$\n",
    "\n",
    "(5 поена)"
   ]
  },
  {
   "attachments": {},
   "cell_type": "markdown",
   "metadata": {},
   "source": [
    "<b><span style=\"font-size: 44px; color: purple;\">Ispravak</span></b>"
   ]
  },
  {
   "attachments": {},
   "cell_type": "markdown",
   "metadata": {},
   "source": [
    "Ako je matrica $A$ regularna, tada postoji njena inverzna matrica $A^{-1}$. Singularna dekompozicija (SVD) matrice $A$ može se predstaviti kao:\n",
    "\n",
    "$$A = U\\Sigma V^T$$\n",
    "\n",
    "gde je $U$ ortogonalna matrica, $\\Sigma$ je dijagonalna matrica sa singularnim vrednostima matrice $A$, a $V^T$ predstavlja transponovanu matricu $V$.\n",
    "\n",
    "Sada želimo da izrazimo $A^{-1}$ kroz SVD dekompoziciju. Neka je $A^{-1} = U' \\Sigma' V'^T$, gde su $U'$, $\\Sigma'$ i $V'^T$ analogni matricama $U$, $\\Sigma$ i $V^T$. Da bismo pronašli ove matrice, umnožimo $A^{-1}$ sa $A$:\n",
    "\n",
    "$$A^{-1}A = (U'\\Sigma'V'^T)(U\\Sigma V^T) = I$$\n",
    "\n",
    "Prema svojstvima ortogonalnih matrica, $U'U = I$ i $VV^T = I$. Tada možemo nastaviti sa:\n",
    "\n",
    "$$U'\\Sigma'V'^TU\\Sigma V^T = U'(U'^TU')\\Sigma'\\Sigma V^T = U'U'^TU\\Sigma'\\Sigma V^T = \\Sigma'\\Sigma$$\n",
    "\n",
    "Poslednji korak je da pronađemo izraz za $\\Sigma'$, znajući da je $\\Sigma'\\Sigma = I$. Za dijagonalne matrice, inverz je dijagonalna matrica sa elementima koji su recipročne vrednosti dijagonalnih elemenata originalne matrice. Dakle, $\\Sigma'$ će imati formu:\n",
    "\n",
    "$$\\Sigma' = \\begin{bmatrix}\n",
    "\\frac{1}{\\sigma_1} & 0 & \\cdots & 0 \\\\\n",
    "0 & \\frac{1}{\\sigma_2} & \\cdots & 0 \\\\\n",
    "\\vdots & \\vdots & \\ddots & \\vdots \\\\\n",
    "0 & 0 & \\cdots & \\frac{1}{\\sigma_n} \n",
    "\\end{bmatrix}$$\n",
    "\n",
    "Sada znajući $\\Sigma'$, možemo izraziti $A^{-1}$ kroz SVD dekompoziciju:\n",
    "\n",
    "$$A^{-1} = U' \\Sigma' V'^T$$\n",
    "\n",
    "Tako je SVD matrice $A^{-1}$ jednaka $U' \\Sigma' V'^T$, gde je $U'=U^T$, $\\Sigma'$ je dijagonalna matrica sa elementima koji su recipročne vrednosti singularnih vrednosti matrice $A$, i $V'^T=V$.\n"
   ]
  },
  {
   "cell_type": "markdown",
   "metadata": {},
   "source": [
    "<div class=\"alert alert-block alert-info\">\n",
    "<b> Мало сте помешали матрице у конструкцији инверзне.\n",
    "    \n",
    "2/5 поена</b> </div>"
   ]
  },
  {
   "cell_type": "code",
   "execution_count": 14,
   "metadata": {},
   "outputs": [
    {
     "data": {
      "text/plain": [
       "array([[ 0.,  0., -1., -1.],\n",
       "       [-1., -0., -0.,  0.],\n",
       "       [-0., -0., -1.,  0.],\n",
       "       [-1.,  1., -0., -1.]])"
      ]
     },
     "execution_count": 14,
     "metadata": {},
     "output_type": "execute_result"
    }
   ],
   "source": [
    "np.round(A@A_inv)"
   ]
  },
  {
   "cell_type": "markdown",
   "metadata": {},
   "source": [
    "в) Како гласи SVD произвољне ортогоналне матрице?\n",
    "\n",
    "(5 поена)"
   ]
  },
  {
   "attachments": {},
   "cell_type": "markdown",
   "metadata": {},
   "source": [
    "<b><span style=\"font-size: 44px; color: purple;\">Ispravak</span></b>"
   ]
  },
  {
   "attachments": {},
   "cell_type": "markdown",
   "metadata": {},
   "source": [
    "Za ortogonalnu matricu $A$, važi $AA^T = A^TA = I$. \n",
    "\n",
    "SVD dekompozicija ortogonalne matrice $A$ može se izraziti kao:\n",
    "\n",
    "$$A = U \\Sigma V^T$$\n",
    "\n",
    "gde su $U$ i $V$ ortogonalne matrice, a $\\Sigma$ je dijagonalna matrica.\n",
    "\n",
    "Za ortogonalnu matricu $A$, možemo koristiti činjenicu da je $A^TA = I$, pa možemo pisati:\n",
    "\n",
    "$$A^TA = (U \\Sigma V^T)^T (U \\Sigma V^T) = V \\Sigma^T U^T U \\Sigma V^T = V \\Sigma^2 V^T = I$$\n",
    "\n",
    "Kako je $V \\Sigma^2 V^T = I$, zaključujemo da su elementi matrice $\\Sigma$ ili $1$ ili $-1$. U ovom slučaju, $\\Sigma$ je dijagonalna matrica sa elementima $\\pm 1$ na dijagonali, što znači da su sve singularne vrednosti ortogonalne matrice $A$ jednake $1$ ili $-1$. \n",
    "\n",
    "Dakle, SVD dekompozicija ortogonalne matrice $A$ ima formu:\n",
    "\n",
    "$$A = U \\Sigma V^T$$\n",
    "\n",
    "gde su $U$ i $V$ ortogonalne matrice, a $\\Sigma$ je dijagonalna matrica sa elementima koji su jednaki $\\pm 1$.\n"
   ]
  },
  {
   "cell_type": "markdown",
   "metadata": {},
   "source": [
    "<div class=\"alert alert-block alert-info\">\n",
    "<b> Мало конкретније шта су $U,V,\\Sigma$ када је $A$ ортогонална. \n",
    "    \n",
    "2/5 поена</b> </div>"
   ]
  },
  {
   "cell_type": "markdown",
   "metadata": {},
   "source": [
    "**Задатак 2.** а) Ако су сингуларне вредности матрице $A,$ $\\sigma_1,\\dots,\\sigma_r,$ шта су сингуларне вредности матрице $AA^TA?$\n",
    "\n",
    "(5 поена)"
   ]
  },
  {
   "cell_type": "markdown",
   "metadata": {},
   "source": [
    "Za matricu $A$ dimenzija $m \\times n$, sa $r$ nenegativnih singularnih vrednosti, singularna dekompozicija matrice $A$ izgleda ovako:\n",
    "\n",
    "$$A = U \\Sigma V^T$$\n",
    "\n",
    "gde su $U$ i $V$ matrice dimenzija $m \\times r$ i $n \\times r$, redom, čije su kolone ortonormirane, a $\\Sigma$ je dijagonalna matrica dimenzija $r \\times r$ sa nenegativnim vrednostima dijagonalnih elemenata, redom $\\sigma_1, \\sigma_2, \\ldots, \\sigma_r$.\n",
    "\n",
    "Sada možemo izračunati singularne vrednosti matrice $AA^TA$ primenjujući SVD na ovu matricu:\n",
    "\n",
    "$$AA^TA = U \\Sigma V^T (U \\Sigma V^T)^T U \\Sigma V^T = U \\Sigma^3 U^T$$\n",
    "\n",
    "Ovo znači da su singularne vrednosti matrice $AA^TA$ kvadrati singularnih vrednosti matrice $A$. Dakle, singularne vrednosti matrice $AA^TA$ su $\\sigma_1^3, \\sigma_2^3, \\ldots, \\sigma_r^3$.\n",
    "\n",
    "Dakle, ukoliko su singularne vrednosti matrice $A$ poznate, možemo odmah izračunati singularne vrednosti matrice $AA^TA$ kao kvadrate ovih vrednosti."
   ]
  },
  {
   "cell_type": "markdown",
   "metadata": {},
   "source": [
    "<div class=\"alert alert-block alert-info\">\n",
    "<b> Тачно. \n",
    "    \n",
    "5/5 поена</b> </div>"
   ]
  },
  {
   "cell_type": "markdown",
   "metadata": {},
   "source": [
    "б) Ако је $A=\\begin{bmatrix}2&3&0&1&-1\\\\ 4&7&-1&2&-2 \\\\ -2&-4&1&-1&1\\end{bmatrix}$ одредити њену пуну и редуковану SVD. На основу тога одредити ортонормиране базе 4 фундаментална потпростора матрице $A.$\n",
    "\n",
    "(5 поена)"
   ]
  },
  {
   "cell_type": "code",
   "execution_count": 15,
   "metadata": {},
   "outputs": [
    {
     "name": "stdout",
     "output_type": "stream",
     "text": [
      "U =\n",
      " [[-0.36317341 -0.73128089 -0.57735027]\n",
      " [-0.81489453 -0.05112304  0.57735027]\n",
      " [ 0.45172112 -0.68015785  0.57735027]] \n",
      "S =\n",
      " [[1.05562610e+01 0.00000000e+00 0.00000000e+00]\n",
      " [0.00000000e+00 7.51900122e-01 0.00000000e+00]\n",
      " [0.00000000e+00 0.00000000e+00 7.29127970e-16]] \n",
      "V^T =\n",
      " [[-0.46317225 -0.81474553  0.11998715 -0.23158613  0.23158613]\n",
      " [-0.40795079  0.22466739 -0.83659357 -0.20397539  0.20397539]\n",
      " [ 0.78512972 -0.38787958 -0.38787958 -0.20331035  0.20331035]\n",
      " [-0.03618666 -0.26006126 -0.26006126  0.92627855  0.07372145]\n",
      " [ 0.03618666  0.26006126  0.26006126  0.07372145  0.92627855]]\n",
      "U_k =\n",
      " [[-0.36317341 -0.73128089]\n",
      " [-0.81489453 -0.05112304]\n",
      " [ 0.45172112 -0.68015785]] \n",
      "s_k =\n",
      " [[10.556261    0.        ]\n",
      " [ 0.          0.75190012]] \n",
      "Vt_k =\n",
      " [[-0.46317225 -0.81474553  0.11998715 -0.23158613  0.23158613]\n",
      " [-0.40795079  0.22466739 -0.83659357 -0.20397539  0.20397539]]\n",
      "\n",
      "Baza za R(A) =\n",
      " [[-0.36317341 -0.73128089]\n",
      " [-0.81489453 -0.05112304]\n",
      " [ 0.45172112 -0.68015785]]\n",
      "\n",
      "Baza za R(A^T) =\n",
      " [[-0.46317225 -0.40795079]\n",
      " [-0.81474553  0.22466739]\n",
      " [ 0.11998715 -0.83659357]\n",
      " [-0.23158613 -0.20397539]\n",
      " [ 0.23158613  0.20397539]]\n",
      "\n",
      "Baza za N(A) =\n",
      " [[-0.57735027]\n",
      " [ 0.57735027]\n",
      " [ 0.57735027]]\n",
      "\n",
      "Baza za N(A^T) =\n",
      " [[ 0.76406992]\n",
      " [-0.25905783]\n",
      " [-0.25905783]\n",
      " [-0.37548318]\n",
      " [ 0.37548318]]\n"
     ]
    }
   ],
   "source": [
    "# Definisanje matrice A\n",
    "A = np.array([[2., 3, 0, 1, -1], [4, 7, -1, 2, -2], [-2, -4, 1, -1, 1]])\n",
    "\n",
    "# Izračunavanje pune SVD matrice za A\n",
    "U, s, Vt = np.linalg.svd(A, full_matrices=True)\n",
    "\n",
    "# Ispisivanje pune SVD matrice za A\n",
    "print(\"U =\\n\", U, \"\\nS =\\n\", np.diag(s), \"\\nV^T =\\n\", Vt)\n",
    "# Određivanje redukovane SVD matrice za A\n",
    "k = np.linalg.matrix_rank(A)\n",
    "U_k = U[:, :k]\n",
    "s_k = s[:k]\n",
    "Vt_k = Vt[:k, :]\n",
    "\n",
    "# Ispisivanje redukovane SVD matrice za A\n",
    "print(\"U_k =\\n\", U_k, \"\\ns_k =\\n\", np.diag(s_k), \"\\nVt_k =\\n\", Vt_k)\n",
    "\n",
    "# Izdvajanje baza za 4 fundamentalna potprostora\n",
    "r = np.linalg.matrix_rank(A)\n",
    "basis_col_space = U_k[:, :r]\n",
    "basis_row_space = Vt_k[:r, :].T\n",
    "basis_null_space = np.linalg.qr(A)[0][:, r:]\n",
    "basis_left_null_space = np.linalg.qr(A.T)[0][:, r:]\n",
    "\n",
    "# Ispisivanje baza za 4 fundamentalna potprostora\n",
    "print(\"\\nBaza za R(A) =\\n\", basis_col_space)\n",
    "print(\"\\nBaza za R(A^T) =\\n\", basis_row_space)\n",
    "print(\"\\nBaza za N(A) =\\n\", basis_null_space)\n",
    "print(\"\\nBaza za N(A^T) =\\n\", basis_left_null_space)\n"
   ]
  },
  {
   "cell_type": "markdown",
   "metadata": {},
   "source": [
    "<div class=\"alert alert-block alert-info\">\n",
    "<b> Тачно \n",
    "    \n",
    "5/5 поена</b> </div>"
   ]
  },
  {
   "cell_type": "markdown",
   "metadata": {},
   "source": [
    "**Задатак 3.** а) За матрицу $A=\\begin{bmatrix}1&2\\end{bmatrix}$ показати да важи $A^+=\\begin{bmatrix}1/5\\\\2/5\\end{bmatrix}$\n",
    "\n",
    "\n",
    "(5 поена)"
   ]
  },
  {
   "cell_type": "code",
   "execution_count": 1,
   "metadata": {},
   "outputs": [
    {
     "name": "stdout",
     "output_type": "stream",
     "text": [
      "Pseudoinverz matrice A:\n",
      "[[0.2]\n",
      " [0.4]]\n",
      "Provera da li su matrice Ap i Ap_pseudoinverz jednake:\n",
      "True\n"
     ]
    }
   ],
   "source": [
    "# Definisanje matrice A\n",
    "A = np.array([[1, 2]])\n",
    "\n",
    "# Izračunavanje pseudoinverza matrice A pomoću funkcije numpy.linalg.pinv\n",
    "Ap = np.linalg.pinv(A)\n",
    "\n",
    "# Ispisivanje pseudoinverza matrice A\n",
    "print(\"Pseudoinverz matrice A:\")\n",
    "print(np.around(Ap, decimals=5))\n",
    "\n",
    "# Ručno definisanje pseudoinverza matrice A\n",
    "Ap_pseudoinverz = np.array([[1/5], [2/5]])\n",
    "\n",
    "# Provera da li su matrice Ap i Ap_manual jednake\n",
    "print(\"Provera da li su matrice Ap i Ap_pseudoinverz jednake:\")\n",
    "print(np.allclose(Ap, Ap_pseudoinverz, rtol=1e-5, atol=1e-5))\n",
    "\n"
   ]
  },
  {
   "cell_type": "markdown",
   "metadata": {},
   "source": [
    "<div class=\"alert alert-block alert-info\">\n",
    "<b> Тачно \n",
    "    \n",
    "5/5 поена</b> </div>"
   ]
  },
  {
   "cell_type": "markdown",
   "metadata": {},
   "source": [
    "б) За произвољан вектор $v\\in\\mathbb{R}^n,\\quad v=\\begin{bmatrix}x_1\\\\x_2\\\\\\vdots\n",
    "\\\\x_n\\end{bmatrix},\\quad$ одредити $v^+.$\n",
    "\n",
    "(5 поена)"
   ]
  },
  {
   "attachments": {},
   "cell_type": "markdown",
   "metadata": {},
   "source": [
    "<b><span style=\"font-size: 44px; color: purple;\">Ispravak</span></b>"
   ]
  },
  {
   "attachments": {},
   "cell_type": "markdown",
   "metadata": {},
   "source": [
    "Da bismo pronašli opšti slučaj za pseudoinverz vektora $v \\in \\mathbb{R}^n$, možemo koristiti definiciju pseudoinverza preko singularne vrednosti dekompozicije (SVD). Pseudoinverz vektora (ili matrice) $v$ označavamo sa $v^+$.\n",
    "\n",
    "Prvo, pretvorimo vektor $v$ u matricu dimenzija $n \\times 1$. Tada, SVD dekompozicija matrice $v$ izgleda ovako:\n",
    "\n",
    "$$v = U \\Sigma V^T$$\n",
    "\n",
    "gde je $U$ ortogonalna matrica dimenzija $n \\times n$, $\\Sigma$ je dijagonalna matrica dimenzija $n \\times 1$ sa singularnim vrednostima matrice $v$ i $V$ je ortogonalna matrica dimenzija $1 \\times 1$. \n",
    "\n",
    "Pseudoinverz $v^+$ možemo izračunati kao:\n",
    "\n",
    "$$v^+ = V \\Sigma^+ U^T$$\n",
    "\n",
    "gde je $\\Sigma^+$ dijagonalna matrica sa recipročnim vrednostima singularnih vrednosti matrice $v$ (osim nula) i $U^T$ je transponovana matrica $U$. Budući da $V$ ima dimenzije $1 \\times 1$, ono je zapravo skalar i $V^T = V$. Takođe, $\\Sigma^+$ će imati dimenzije $1 \\times n$.\n",
    "\n",
    "U ovom slučaju, možemo pojednostaviti izraz za $v^+$ kao:\n",
    "\n",
    "$$v^+ = \\frac{1}{\\sigma_1} V U^T$$\n",
    "\n",
    "gde je $\\sigma_1$ prva singularna vrednost matrice $v$, a $U^T$ je transponovana matrica ortogonalne matrice $U$.\n",
    "\n",
    "Kada radimo sa vektorima, pseudoinverz možemo interpretirati kao projekciju vektora $v$ na prostor kolone matrice $v$. Ovde je opšti izraz za pseudoinverz vektora $v$ u $\\mathbb{R}^n$:\n",
    "\n",
    "$$v^+ = \\frac{1}{\\sigma_1} V U^T$$\n"
   ]
  },
  {
   "cell_type": "markdown",
   "metadata": {},
   "source": [
    "<div class=\"alert alert-block alert-info\">\n",
    "<b> Није добро. Општи сличај! \n",
    "    \n",
    "0/5 поена</b> </div>"
   ]
  },
  {
   "cell_type": "markdown",
   "metadata": {},
   "source": [
    "в) За векторе $u,v\\in\\mathbb{R}^n$ показати \n",
    "$$(uv^T)^+=\\dfrac{1}{(u^Tu)(v^Tv)}\\,vu^T.$$\n",
    "\n",
    "(5 поена)"
   ]
  },
  {
   "cell_type": "markdown",
   "metadata": {},
   "source": [
    "<div class=\"alert alert-block alert-info\">\n",
    "<b> Није добра поставка задатка, исправила сам грешку у куцању.</b> </div>"
   ]
  },
  {
   "cell_type": "markdown",
   "metadata": {},
   "source": [
    "За векторе $u,v\\in\\mathbb{R}^n$ показујемо:\n",
    "\n",
    "$$(uv^T)^+=(u^Tu)(v^Tv)vu^T.$$\n",
    "\n",
    "Користимо дефиницију Мур-Пенроузовог псеудоинверза $A^+$ да изразимо $(uv^T)^+$:\n",
    "\n",
    "$$(uv^T)^+ = (v^T)^+u^+ = \\frac{v}{v^Tv} \\frac{u^T}{u^Tu} = \\frac{vu^T}{u^Tu} \\frac{1}{v^Tv} = \\frac{1}{u^Tu v^Tv} vu^Tv^T$$"
   ]
  },
  {
   "cell_type": "markdown",
   "metadata": {},
   "source": [
    "<div class=\"alert alert-block alert-info\">\n",
    "<b> Ово важи само у веома специјалном случају, под који потпада матрица $uv^T.$ Наставак доле не треба. </b> </div>"
   ]
  },
  {
   "cell_type": "markdown",
   "metadata": {},
   "source": [
    "<div class=\"alert alert-block alert-info\">\n",
    "<b> Тачно \n",
    "    \n",
    "5/5 поена</b> </div>"
   ]
  },
  {
   "cell_type": "markdown",
   "metadata": {},
   "source": [
    "**Задатак 4.** а) Ако је $A\\in\\mathcal{M}_{m\\times n}$ произвољна правоугаона матрица, и $U\\in\\mathcal{M}_{m\\times m},$ $V\\in\\mathcal{M}_{n\\times n}$ произвољне ортогоналне матрице, показати да је\n",
    "$$(UAV)^+=V^TA^+U^T.$$\n",
    "\n",
    "(5 поена)"
   ]
  },
  {
   "cell_type": "markdown",
   "metadata": {},
   "source": [
    "а) Да бисмо показали да је $(UAV)^+ = V^TA^+U^T$, можемо користити својства Мур-Пенроузовог псеудоинверза и ортогоналних матрица. Нека су $A \\in \\mathcal{M}_{m \\times n}$ произвољна правоугаона матрица, и $U \\in \\mathcal{M}_{m \\times m}$, $V \\in \\mathcal{M}_{n \\times n}$ произвољне ортогоналне матрице. Онда важи:\n",
    "\n",
    "1. $UU^T = I_m$, $U^TU = I_m$ (пошто је $U$ ортогонална)\n",
    "2. $VV^T = I_n$, $V^TV = I_n$ (пошто је $V$ ортогонална)\n",
    "\n",
    "Мур-Пенроузов псеудоинверз матрице $A$ се означава са $A^+$ и задовољава четири својства:\n",
    "\n",
    "1. $AA^+A = A$\n",
    "2. $A^+AA^+ = A^+$\n",
    "3. $(AA^+)^T = AA^+$\n",
    "4. $(A^+A)^T = A^+A$\n",
    "\n",
    "Проверавамо да ли $(UAV)^+$ задовољава сва четири својства:\n",
    "\n",
    "1. $(UAV)(V^TA^+U^T)(UAV) = U(AV)(V^TA^+)(VU^T)(UAV) = U(AV)(I_nA^+)(IU^T)(UAV) = U(AA^+)AV = UAV$\n",
    "2. $(V^TA^+U^T)(UAV)(V^TA^+U^T) = (V^TA^+U^T)(UAA^+V) = V^TA^+(A^+A)V^TA^+U^T = V^TA^+A^+V^TA^+U^T = V^TA^+U^T$\n",
    "3. $((UAV)(V^TA^+U^T))^T = (V^TA^+U^T)^T(UAV)^T = (U^T)^T(A^+)^T(V^T)^T(VA^T) = UAVV^TA^+U^T = UAV(V^TA^+U^T)$\n",
    "4. $((V^TA^+U^T)(UAV))^T = (UAV)^T(V^TA^+U^T)^T = (V^TA^T)(A^+)^T(U^T)^T = V^TA^+A^T = (V^TA^+U^T)(UAV)$\n",
    "\n",
    "Пошто $(UAV)^+$ задовољава сва четири својства Мур-Пенроузовог псеудоинверза, можемо закључити да је:\n",
    "\n",
    "$$(UAV)^+ = V^TA^+U^T$$\n"
   ]
  },
  {
   "cell_type": "markdown",
   "metadata": {},
   "source": [
    "<div class=\"alert alert-block alert-info\">\n",
    "<b> Тачно \n",
    "    \n",
    "5/5 поена</b> </div>"
   ]
  },
  {
   "cell_type": "markdown",
   "metadata": {},
   "source": [
    "б) Ако је позната ортогонална дијагонализација симетричне матрице $S=QDQ^T,$ као гласи $S^+?$\n",
    "\n",
    "(5 поена)"
   ]
  },
  {
   "cell_type": "markdown",
   "metadata": {},
   "source": [
    "Ако је позната ортогонална дијагонализација симетричне матрице $S = QDQ^T$, где је $Q$ ортогонална матрица, и $D$ дијагонална матрица, тада можемо наћи Мур-Пенроузов псеудоинверз $S^+$ следећим корацима:\n",
    "\n",
    "1. Наћи псеудоинверз дијагоналне матрице $D$: За сваки ненула елемент $d_{ii}$ на дијагонали матрице $D$, наћи $d_{ii}^+$ тако да је $d_{ii}^+ = \\frac{1}{d_{ii}}$. Ако је $d_{ii} = 0$, онда је $d_{ii}^+ = 0$. Резултат је дијагонална матрица $D^+$.\n",
    "\n",
    "2. Искористити формулу из тачке а) за ортогоналну дијагонализацију и псеудоинверз: $S^+ = QD^+Q^T$. Заменимо $A$ са $S$, $U$ и $V$ са $Q$, и $A^+$ са $S^+$ у формули из тачке а): $(QDQ^T)^+ = QD^+Q^T$.\n",
    "\n",
    "Тако добијамо да је псеудоинверз симетричне матрице $S$:\n",
    "\n",
    "$$S^+ = QD^+Q^T$$\n"
   ]
  },
  {
   "cell_type": "markdown",
   "metadata": {},
   "source": [
    "<div class=\"alert alert-block alert-info\">\n",
    "<b> Тачно \n",
    "    \n",
    "5/5 поена</b> </div>"
   ]
  },
  {
   "cell_type": "markdown",
   "metadata": {},
   "source": [
    "<div class=\"alert alert-block alert-info\">\n",
    "<b> Укупно 39/50 поена</b> </div>"
   ]
  },
  {
   "cell_type": "code",
   "execution_count": null,
   "metadata": {},
   "outputs": [],
   "source": []
  }
 ],
 "metadata": {
  "kernelspec": {
   "display_name": "Python 3",
   "language": "python",
   "name": "python3"
  },
  "language_info": {
   "codemirror_mode": {
    "name": "ipython",
    "version": 3
   },
   "file_extension": ".py",
   "mimetype": "text/x-python",
   "name": "python",
   "nbconvert_exporter": "python",
   "pygments_lexer": "ipython3",
   "version": "3.7.16"
  }
 },
 "nbformat": 4,
 "nbformat_minor": 4
}
