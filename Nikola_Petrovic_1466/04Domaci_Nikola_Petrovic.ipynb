{
 "cells": [
  {
   "cell_type": "markdown",
   "metadata": {},
   "source": [
    "# Мататематички методи за машинско учење 2023\n",
    "## Домаћи задатак број 4"
   ]
  },
  {
   "attachments": {},
   "cell_type": "markdown",
   "metadata": {},
   "source": [
    "<div class=\"alert alert-block alert-danger\">\n",
    "<b>Име и презиме студента:</b> Никола Петровић\n",
    "\n",
    "<b>Број индекса:</b> 1466\n",
    "    \n",
    "</div>    "
   ]
  },
  {
   "cell_type": "markdown",
   "metadata": {},
   "source": [
    "<div class=\"alert alert-block alert-info\">\n",
    "<b>Упутство за израду и предају домаћег задатака: </b> \n",
    "    \n",
    "    1. Пре почетка израде промените име датотеке у 04Domaci_Ime_Prezime. (убаците своје име и презиме) \n",
    "    2. Попуните ћелију испод наслова одговарајућим подацима. \n",
    "    1. Употреба ћирилице није обавезна за предају домаћег задатка.\n",
    "    4. За решавање задатака, уколико је потребно, отворите испод текста задатка додатне ћелије за уписивање текстуалног одговора (Markdown) или програмског кода (Code).\n",
    "    1. Сва израчунавања, уколико је потребно, вршити у Python-у.\n",
    "    5. Након завршетка израде решења домаћег Notebook документ сачувати у pdf формату и проследити га наставнику. То можете да урадите или кроз Teams или на мејл адресу jovana.dzunic@elfak.ni.ac.rs\n",
    "\n",
    "</div> "
   ]
  },
  {
   "cell_type": "code",
   "execution_count": 3,
   "metadata": {},
   "outputs": [],
   "source": [
    "import numpy as np\n",
    "import numpy.random as rndm\n",
    "import matplotlib as mplb\n",
    "import matplotlib.pyplot as plt"
   ]
  },
  {
   "cell_type": "markdown",
   "metadata": {},
   "source": [
    "**Задатак 1.** а) Неким од критеријума за позитивну дефинитност проверити да ли је матрица $A$ позитивно дефинитна.\n",
    "\n",
    "(5 поена)"
   ]
  },
  {
   "cell_type": "code",
   "execution_count": 12,
   "metadata": {},
   "outputs": [
    {
     "name": "stdout",
     "output_type": "stream",
     "text": [
      "Matrica A je pozitivno definitna: False\n"
     ]
    }
   ],
   "source": [
    "import numpy as np\n",
    "import numpy.random as rndm\n",
    "\n",
    "# Definisanje matrice A\n",
    "A = rndm.uniform(-2, 3, (50, 50))\n",
    "A = np.tril(A) + (np.tril(A)).T\n",
    "\n",
    "# Izračunavanje sopstvenih vrednosti matrice A\n",
    "sopstvene_vrednosti = np.linalg.eigvals(A)\n",
    "\n",
    "# Provera da li su sve sopstvene vrednosti strogo pozitivne\n",
    "pozitivno_definitna = np.all(sopstvene_vrednosti > 0)\n",
    "\n",
    "print(\"Matrica A je pozitivno definitna:\", pozitivno_definitna)"
   ]
  },
  {
   "cell_type": "markdown",
   "metadata": {},
   "source": [
    "б) Какве су дефинитности матрице $AA^T$ и $A^TA$ ако је $A\\in\\mathcal{M}_{m\\times n}$ произвољна матрица пуног ранга колона?\n",
    "\n",
    "(5 поена)"
   ]
  },
  {
   "attachments": {},
   "cell_type": "markdown",
   "metadata": {},
   "source": [
    "matrica $A^TA$ će uvek biti pozitivno semidefinitna za matricu $A$ punog ranga kolona, dok će matrica $AA^T$ biti pozitivno semidefinitna ako je rang matrice $A$ jednak $m$. U slučaju kada je rang matrice $A$ manji od $m$, matrica $AA^T$ može biti indefinitna."
   ]
  },
  {
   "cell_type": "code",
   "execution_count": 16,
   "metadata": {},
   "outputs": [
    {
     "name": "stdout",
     "output_type": "stream",
     "text": [
      "Rang matrice A: 4\n",
      "Matrica AA^T je indefinitna\n",
      "Matrica A^TA je pozitivno semidefinitna\n"
     ]
    }
   ],
   "source": [
    "import numpy as np\n",
    "\n",
    "# Postavljanje dimenzija matrice A (m > n za pun rang kolona)\n",
    "m, n = 6, 4\n",
    "\n",
    "# Generisanje proizvoljne matrice A dimenzija m x n\n",
    "A = np.random.rand(m, n)\n",
    "\n",
    "# Provera da li je rang matrice A jednak n (puni rang kolona)\n",
    "rang = np.linalg.matrix_rank(A)\n",
    "print(\"Rang matrice A:\", rang)\n",
    "\n",
    "# Izračunavanje matrica AA^T i A^TA\n",
    "AAt = A @ A.T\n",
    "AtA = A.T @ A\n",
    "\n",
    "# Izračunavanje sopstvenih vrednosti matrica AA^T i A^TA\n",
    "sopstvene_vrednosti_AAt = np.linalg.eigvals(AAt)\n",
    "sopstvene_vrednosti_AtA = np.linalg.eigvals(AtA)\n",
    "\n",
    "# Provera definitnosti matrica AA^T i A^TA\n",
    "definitnost_AAt = \"pozitivno semidefinitna\" if np.all(sopstvene_vrednosti_AAt >= 0) else \"indefinitna\"\n",
    "definitnost_AtA = \"pozitivno semidefinitna\" if np.all(sopstvene_vrednosti_AtA >= 0) else \"indefinitna\"\n",
    "\n",
    "print(\"Matrica AA^T je\", definitnost_AAt)\n",
    "print(\"Matrica A^TA je\", definitnost_AtA)\n"
   ]
  },
  {
   "cell_type": "markdown",
   "metadata": {},
   "source": [
    "**Задатак 2.** а) Која од следећих матрица је косо-симетрична?\n",
    "$$A=\\begin{bmatrix}1&-3&2\\\\3&-5&4\\\\-2&-4&2\\end{bmatrix},\\qquad \n",
    "B=\\begin{bmatrix}0&-3&2\\\\3&0&4\\\\-2&-4&0\\end{bmatrix}.$$\n",
    "\n",
    "(5 поена)"
   ]
  },
  {
   "cell_type": "code",
   "execution_count": 17,
   "metadata": {},
   "outputs": [
    {
     "name": "stdout",
     "output_type": "stream",
     "text": [
      "Matrica A je kososimetrična: False\n",
      "Matrica B je kososimetrična: True\n"
     ]
    }
   ],
   "source": [
    "import numpy as np\n",
    "\n",
    "A = np.array([[1, -3, 2],\n",
    "              [3, -5, 4],\n",
    "              [-2, -4, 2]])\n",
    "\n",
    "B = np.array([[0, -3, 2],\n",
    "              [3, 0, 4],\n",
    "              [-2, -4, 0]])\n",
    "\n",
    "# Provera da li je matrica A kososimetrična\n",
    "kososimetrična_A = np.all(A.T == -A)\n",
    "print(\"Matrica A je kososimetrična:\" , kososimetrična_A)\n",
    "\n",
    "# Provera da li je matrica B kososimetrična\n",
    "kososimetrična_B = np.all(B.T == -B)\n",
    "print(\"Matrica B je kososimetrična:\" , kososimetrična_B)"
   ]
  },
  {
   "cell_type": "markdown",
   "metadata": {},
   "source": [
    "б) Ако је $A$ косо-симетрична матрица чему је једнако $A^TA^{-1}?$\n",
    "\n",
    "(5 поена)"
   ]
  },
  {
   "cell_type": "code",
   "execution_count": 20,
   "metadata": {},
   "outputs": [
    {
     "name": "stdout",
     "output_type": "stream",
     "text": [
      "Matrica A nije kososimetrična.\n"
     ]
    }
   ],
   "source": [
    "import numpy as np\n",
    "\n",
    "# Kreiranje kososimetrične matrice A\n",
    "A = np.array([[1, -3, 2],\n",
    "              [3, -5, 4],\n",
    "              [-2, -4, 2]])\n",
    "\n",
    "# Izračunavanje transponovane matrice A\n",
    "A_transpose = A.T\n",
    "\n",
    "# Provera da li je A kososimetrična matrica (A^T = -A)\n",
    "if np.array_equal(A_transpose, -A):\n",
    "    # Ako je kososimetrična, izračunaj A^T * A^(-1)\n",
    "    A_inverse = np.linalg.inv(A)\n",
    "    C = A_transpose @ A_inverse\n",
    "    print(\"Matrica A^TA^(-1) je:\")\n",
    "    print(C)\n",
    "else:\n",
    "    print(\"Matrica A nije kososimetrična.\")\n"
   ]
  },
  {
   "cell_type": "code",
   "execution_count": 19,
   "metadata": {},
   "outputs": [
    {
     "name": "stdout",
     "output_type": "stream",
     "text": [
      "Matrica A^TA^(-1) je:\n",
      "[[0. 0. 0.]\n",
      " [0. 0. 0.]\n",
      " [0. 0. 0.]]\n"
     ]
    }
   ],
   "source": [
    "import numpy as np\n",
    "\n",
    "# Kreiranje kososimetrične matrice A\n",
    "A = np.array([[0, -3, 2],\n",
    "              [3, 0, 4],\n",
    "              [-2, -4, 0]])\n",
    "\n",
    "# Izračunavanje transponovane matrice A\n",
    "A_transpose = A.T\n",
    "\n",
    "# Provera da li je A kososimetrična matrica (A^T = -A)\n",
    "if np.array_equal(A_transpose, -A):\n",
    "    # Ako je kososimetrična, izračunaj A^T * A^(-1)\n",
    "    A_inverse = np.linalg.inv(A)\n",
    "    C = A_transpose @ A_inverse\n",
    "    print(\"Matrica A^TA^(-1) je:\")\n",
    "    print(C)\n",
    "else:\n",
    "    print(\"Matrica A nije kososimetrična.\")\n",
    "\n"
   ]
  },
  {
   "cell_type": "markdown",
   "metadata": {},
   "source": [
    "**Задатак 3.** а) Показати да се свака матрица може представити као збор једне симетричне и једне косо-симетричне матрице.\n",
    "\n",
    "\n",
    "(5 поена)"
   ]
  },
  {
   "attachments": {},
   "cell_type": "markdown",
   "metadata": {},
   "source": [
    "а) Да бисмо показали да се свака матрица може представити као збор једне симетричне и једне косо-симетричне матрице, можемо користити следећи разломак матрице:\n",
    "\n",
    "Симетрична матрица: $S = \\frac{1}{2}(A + A^T)$\n",
    "Косо-симетрична матрица: $K = \\frac{1}{2}(A - A^T)$\n",
    "\n",
    "Тако да је збир ове две матрице:\n",
    "\n",
    "$$A = S + K = \\frac{1}{2}(A + A^T) + \\frac{1}{2}(A - A^T) = \\frac{1}{2}(A + A) = A$$\n",
    "\n",
    "Дакле, свака матрица може да се представи као збор једне симетричне и једне косо-симетричне матрице.\n",
    "\n",
    "Следећи код демонстрира ово тврђење:"
   ]
  },
  {
   "cell_type": "code",
   "execution_count": 23,
   "metadata": {},
   "outputs": [
    {
     "name": "stdout",
     "output_type": "stream",
     "text": [
      "Simetrična matrica S:\n",
      " [[1. 3. 5.]\n",
      " [3. 5. 7.]\n",
      " [5. 7. 9.]]\n",
      "Koso-simetrična matrica K:\n",
      " [[ 0. -1. -2.]\n",
      " [ 1.  0. -1.]\n",
      " [ 2.  1.  0.]]\n",
      "A = S + K:\n",
      " [[1. 2. 3.]\n",
      " [4. 5. 6.]\n",
      " [7. 8. 9.]]\n"
     ]
    }
   ],
   "source": [
    "import numpy as np\n",
    "\n",
    "def decompose_matrix(A):\n",
    "    A_T = A.T\n",
    "    S = 0.5 * (A + A_T)\n",
    "    K = 0.5 * (A - A_T)\n",
    "    return S, K\n",
    "\n",
    "# Primer matrice\n",
    "A = np.array([[1, 2, 3],\n",
    "              [4, 5, 6],\n",
    "              [7, 8, 9]])\n",
    "\n",
    "# Dekompozicija matrice\n",
    "S, K = decompose_matrix(A)\n",
    "\n",
    "print(\"Simetrična matrica S:\\n\", S)\n",
    "print(\"Koso-simetrična matrica K:\\n\", K)\n",
    "print(\"A = S + K:\\n\", S + K)\n"
   ]
  },
  {
   "cell_type": "markdown",
   "metadata": {},
   "source": [
    "б) Проверити позитивну дефинитност несиметричне квадратне матрице $A$ неким од критеријума.\n",
    "\n",
    "(5 поена)"
   ]
  },
  {
   "cell_type": "code",
   "execution_count": 21,
   "metadata": {},
   "outputs": [
    {
     "name": "stdout",
     "output_type": "stream",
     "text": [
      "Matrica A nije simetrično pozitivno definitna.\n"
     ]
    }
   ],
   "source": [
    "import numpy as np\n",
    "\n",
    "A = np.random.uniform(-2, 3, size=(50, 50))\n",
    "eigenvalues = np.linalg.eigvals(A)\n",
    "\n",
    "if np.all(eigenvalues > 0):\n",
    "    print(\"Matrica A je simetrično pozitivno definitna.\")\n",
    "else:\n",
    "    print(\"Matrica A nije simetrično pozitivno definitna.\")\n"
   ]
  },
  {
   "cell_type": "markdown",
   "metadata": {},
   "source": [
    "**Задатак 4.** За матрицу $A=B^TB$ одредити матрицу пројекције на $\\mathcal{R}(A)$ у односу на скаларни производ $\\langle\\cdot,\\cdot\\rangle_C.$\n",
    "\n",
    "(10 поена)"
   ]
  },
  {
   "cell_type": "code",
   "execution_count": 6,
   "metadata": {},
   "outputs": [
    {
     "data": {
      "text/plain": [
       "array([[  68.27602794,   -8.94409941,   59.33192853,  -77.22012735,\n",
       "         145.49615529],\n",
       "       [  -8.94409941,  129.41651021,  120.47241079,  138.36060962,\n",
       "        -147.30470903],\n",
       "       [  59.33192853,  120.47241079,  179.80433932,   61.14048227,\n",
       "          -1.80855374],\n",
       "       [ -77.22012735,  138.36060962,   61.14048227,  215.58073697,\n",
       "        -292.80086433],\n",
       "       [ 145.49615529, -147.30470903,   -1.80855374, -292.80086433,\n",
       "         438.29701962]])"
      ]
     },
     "execution_count": 6,
     "metadata": {},
     "output_type": "execute_result"
    }
   ],
   "source": [
    "B=rndm.normal(-1,2,(25,5))\n",
    "B=B@np.array([[1,0,1,-1,2],[0,1,1,1,-1],[0,0,0,0,0],[0,0,0,0,0],[0,0,0,0,0]])\n",
    "A=B.T@B\n",
    "A"
   ]
  },
  {
   "cell_type": "code",
   "execution_count": 7,
   "metadata": {},
   "outputs": [
    {
     "data": {
      "text/plain": [
       "2"
      ]
     },
     "execution_count": 7,
     "metadata": {},
     "output_type": "execute_result"
    }
   ],
   "source": [
    "np.linalg.matrix_rank(A)"
   ]
  },
  {
   "cell_type": "code",
   "execution_count": 8,
   "metadata": {},
   "outputs": [],
   "source": [
    "C=rndm.rand(5,5)\n",
    "C=np.tril(C)+(np.tril(C)).T+5*np.eye(5,5)"
   ]
  },
  {
   "cell_type": "code",
   "execution_count": 9,
   "metadata": {},
   "outputs": [
    {
     "data": {
      "text/plain": [
       "5"
      ]
     },
     "execution_count": 9,
     "metadata": {},
     "output_type": "execute_result"
    }
   ],
   "source": [
    "np.linalg.matrix_rank(C)"
   ]
  },
  {
   "cell_type": "code",
   "execution_count": 24,
   "metadata": {},
   "outputs": [
    {
     "name": "stdout",
     "output_type": "stream",
     "text": [
      "Matrica A:\n",
      " [[ 141.05855303   12.46010085  153.51865388 -128.59845218  269.65700522]\n",
      " [  12.46010085   88.7815593   101.24166015   76.32145845  -63.8613576 ]\n",
      " [ 153.51865388  101.24166015  254.76031403  -52.27699373  205.79564762]\n",
      " [-128.59845218   76.32145845  -52.27699373  204.91991063 -333.51836282]\n",
      " [ 269.65700522  -63.8613576   205.79564762 -333.51836282  603.17536803]]\n",
      "Rang matrice A: 2\n",
      "Matrica C:\n",
      " [[6.29599512 0.1335287  0.73693724 0.56347077 0.94993816]\n",
      " [0.1335287  5.37799669 0.33152311 0.5344945  0.21045848]\n",
      " [0.73693724 0.33152311 6.78688224 0.92370471 0.51305958]\n",
      " [0.56347077 0.5344945  0.92370471 5.76481187 0.66256846]\n",
      " [0.94993816 0.21045848 0.51305958 0.66256846 6.61993313]]\n",
      "Rang matrice C: 5\n",
      "Matrica projekcije P:\n",
      " [[ 0.02421092 -0.01135185  0.00429209 -0.01265484 -0.00194601]\n",
      " [ 0.01608791  0.02349472 -0.01403281  0.0098244  -0.00410615]\n",
      " [ 0.00156723  0.01722347  0.01575283 -0.01710487  0.00223145]\n",
      " [-0.01463618  0.03299285 -0.01067163  0.01758939  0.00202267]\n",
      " [ 0.00347627 -0.06135716  0.01156715 -0.01407954  0.02068742]]\n"
     ]
    }
   ],
   "source": [
    "import numpy as np\n",
    "import numpy.random as rndm\n",
    "\n",
    "# Generisanje matrice B\n",
    "B = rndm.normal(-1, 2, (25,) 5)\n",
    "B = B @ np.array([[1, 0, 1, -1, 2], [0, 1, 1, 1, -1], [0, 0, 0, 0, 0], [0, 0, 0, 0, 0], [0, 0, 0, 0, 0]])\n",
    "\n",
    "# Izračunavanje matrice A\n",
    "A = B.T @ B\n",
    "print(\"Matrica A:\\n\", A)\n",
    "\n",
    "# Rang matrice A\n",
    "rank_A = np.linalg.matrix_rank(A)\n",
    "print(\"Rang matrice A:\", rank_A)\n",
    "\n",
    "# Generisanje matrice C\n",
    "C = rndm.rand(5, 5)\n",
    "C = np.tril(C) + (np.tril(C)).T + 5 * np.eye(5, 5)\n",
    "print(\"Matrica C:\\n\", C)\n",
    "\n",
    "# Rang matrice C\n",
    "rank_C = np.linalg.matrix_rank(C)\n",
    "print(\"Rang matrice C:\", rank_C)\n",
    "\n",
    "# Izračunavanje matrice projekcije P\n",
    "CA_inv = np.linalg.inv(C @ A)  # Inverz matrice (C * A)\n",
    "C_inv = np.linalg.inv(C)       # Inverz matrice C\n",
    "\n",
    "P = A @ CA_inv @ C_inv          # Matrica projekcije P\n",
    "print(\"Matrica projekcije P:\\n\", P)\n"
   ]
  },
  {
   "cell_type": "markdown",
   "metadata": {},
   "source": [
    "**Задатак 5.** Прилагодити метод коњугованих градијената за решење матричне једначине $AX=B.$\n",
    "\n",
    "\n",
    "(10 поена)"
   ]
  },
  {
   "cell_type": "code",
   "execution_count": 7,
   "metadata": {},
   "outputs": [
    {
     "name": "stdout",
     "output_type": "stream",
     "text": [
      "Rešenje X:\n",
      "[[-1 -8  0 -8  2]\n",
      " [ 3  8  0  8 -2]\n",
      " [ 4 11  5 15 -2]\n",
      " [ 1  0 -1 -1  0]\n",
      " [ 3  7  1  8  0]]\n"
     ]
    },
    {
     "data": {
      "text/plain": [
       "'\\nprint(\"Provera: A @ X =\")\\nprint(A @ X)\\nprint(\"B =\")\\nprint(B)\\n\\nprint(np.linalg.solve(A,B))'"
      ]
     },
     "execution_count": 7,
     "metadata": {},
     "output_type": "execute_result"
    }
   ],
   "source": [
    "def konjugovani_gradijenti(A, b, x0, tolerancija=1e-10, maks_iteracija=None):\n",
    "    m, n = A.shape\n",
    "    \n",
    "    # Inicijalizacija rešenja (vrednosti x)\n",
    "    x = np.array(x0)\n",
    "    \n",
    "    # Izračunavanje reziduala\n",
    "    r = b - A @ x\n",
    "    \n",
    "    # Kvadrat norme reziduala\n",
    "    nr2 = np.inner(r, r)\n",
    "    \n",
    "    # Postavljanje vektora pretrage na rezidual\n",
    "    v = np.copy(r)\n",
    "    \n",
    "    k = 0# Brojač iteracija\n",
    "\n",
    "    # Glavna iteracija metode konjugovanih gradijenata\n",
    "    while (k < n) and not(np.array_equal(v, 0)) and (nr2 > tolerancija):\n",
    "        Av = A @ v\n",
    "        t = nr2 / np.inner(v, Av)\n",
    "        x = x + t * v\n",
    "        r = r - t * Av\n",
    "        c = nr2\n",
    "        nr2 = np.inner(r, r)\n",
    "        if nr2 > tolerancija:\n",
    "            s = nr2 / c\n",
    "            v = r + s * v\n",
    "        k += 1\n",
    "    \n",
    "    return x\n",
    "\n",
    "def resi_AX_B(A, B, x0, tolerancija=1e-10, maks_iteracija=None):\n",
    "    # Inicijalizacija matrice rešenja X\n",
    "    X = np.zeros_like(B)\n",
    "\n",
    "    # Primena metode konjugovanih gradijenata na svaku kolonu matrice B\n",
    "    for i in range(B.shape[1]):\n",
    "        X[:, i] = konjugovani_gradijenti(A, B[:, i], x0, tolerancija, maks_iteracija)\n",
    "\n",
    "    return X\n",
    "\n",
    "# Testiranje funkcije resi_AX_B\n",
    "A = np.array([[10, 1, 2, 3, 4],\n",
    "              [1, 9, -1, 2, -3],\n",
    "              [2, -1, 7, 3, -5],\n",
    "              [3, 2, 3, 12, -1],\n",
    "              [4, -3, -5, -1, 15]])\n",
    "\n",
    "B = np.array([[12, -27, 14, -17, 12],\n",
    "              [15, 30, -9, 20, -13],\n",
    "              [8, 15, 25, 33, -5],\n",
    "              [23, 12, -3, 12, -1],\n",
    "              [14, -3, -5, -1, 15]])\n",
    "\n",
    "n, _ = A.shape\n",
    "x0 = np.zeros(n)\n",
    "\n",
    "X = resi_AX_B(A, B, x0)\n",
    "print(\"Rešenje X:\")\n",
    "print(X)\n",
    "\n",
    "\"\"\"\n",
    "print(\"Provera: A @ X =\")\n",
    "print(A @ X)\n",
    "print(\"B =\")\n",
    "print(B)\n",
    "\n",
    "print(np.linalg.solve(A,B))\"\"\""
   ]
  }
 ],
 "metadata": {
  "kernelspec": {
   "display_name": "Python 3",
   "language": "python",
   "name": "python3"
  },
  "language_info": {
   "codemirror_mode": {
    "name": "ipython",
    "version": 3
   },
   "file_extension": ".py",
   "mimetype": "text/x-python",
   "name": "python",
   "nbconvert_exporter": "python",
   "pygments_lexer": "ipython3",
   "version": "3.11.1"
  }
 },
 "nbformat": 4,
 "nbformat_minor": 4
}
