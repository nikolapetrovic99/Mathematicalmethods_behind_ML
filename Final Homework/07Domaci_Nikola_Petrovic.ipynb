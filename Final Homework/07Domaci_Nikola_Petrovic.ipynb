{
 "cells": [
  {
   "cell_type": "markdown",
   "metadata": {},
   "source": [
    "# Мататематички методи за машинско учење 2023\n",
    "## Домаћи задатак број 7"
   ]
  },
  {
   "cell_type": "markdown",
   "metadata": {},
   "source": [
    "<div class=\"alert alert-block alert-danger\">\n",
    "<b>Име и презиме студента:</b> Никола Петровић\n",
    "\n",
    "<b>Број индекса:</b> 1466\n",
    "    \n",
    "</div>    "
   ]
  },
  {
   "cell_type": "markdown",
   "metadata": {},
   "source": [
    "<div class=\"alert alert-block alert-info\">\n",
    "<b>Упутство за израду и предају домаћег задатака: </b> \n",
    "    \n",
    "    1. Пре почетка израде промените име датотеке у 07Domaci_Ime_Prezime. (убаците своје име и презиме) \n",
    "    2. Попуните ћелију испод наслова одговарајућим подацима. \n",
    "    1. Употреба ћирилице није обавезна за предају домаћег задатка.\n",
    "    4. За решавање задатака, уколико је потребно, отворите испод текста задатка додатне ћелије за уписивање текстуалног одговора (Markdown) или програмског кода (Code).\n",
    "    1. Сва израчунавања, уколико је потребно, вршити у Python-у.\n",
    "    5. Након завршетка израде решења домаћег Notebook документ сачувати у pdf формату и проследити га наставнику. То можете да урадите или кроз Teams или на мејл адресу jovana.dzunic@elfak.ni.ac.rs\n",
    "\n",
    "</div> "
   ]
  },
  {
   "cell_type": "code",
   "execution_count": 112,
   "metadata": {},
   "outputs": [],
   "source": [
    "import numpy as np\n",
    "import numpy.random as rndm\n",
    "import matplotlib as mplb\n",
    "import matplotlib.pyplot as plt\n",
    "from scipy.signal import fftconvolve"
   ]
  },
  {
   "cell_type": "markdown",
   "metadata": {},
   "source": [
    "**Задатак 1.** а) Израчунати DFT вектора генерисаних наредним кодом.\n",
    "\n",
    "\n",
    "(5 поена)"
   ]
  },
  {
   "cell_type": "code",
   "execution_count": 2,
   "metadata": {},
   "outputs": [
    {
     "name": "stdout",
     "output_type": "stream",
     "text": [
      "DFT za vektor u1:\n",
      " [8.+0.j 0.+0.j 0.+0.j 0.+0.j 0.+0.j 0.+0.j 0.+0.j 0.+0.j]\n",
      "DFT za vektor u2:\n",
      " [0.+0.j 0.-2.j 2.+2.j 2.+0.j]\n"
     ]
    }
   ],
   "source": [
    "u1 = np.ones(8)\n",
    "u2 = np.array([1, -1j, 1j, -1])\n",
    "\n",
    "# Izračunavanje DFT za vektore u1 i u2\n",
    "dft_u1 = np.fft.fft(u1)\n",
    "dft_u2 = np.fft.fft(u2)\n",
    "\n",
    "print(\"DFT za vektor u1:\\n\", dft_u1)\n",
    "print(\"DFT za vektor u2:\\n\", dft_u2)\n"
   ]
  },
  {
   "cell_type": "markdown",
   "metadata": {},
   "source": [
    "<div class=\"alert alert-block alert-info\">\n",
    "<b> Тачно \n",
    "    \n",
    "5/5 поена</b> </div>"
   ]
  },
  {
   "cell_type": "markdown",
   "metadata": {},
   "source": [
    "б) Ако је позната DFT вектора $v,$ $V=DFT(v),$ колико износи $DFT(3v)?$\n",
    "\n",
    "\n",
    "(5 поена)"
   ]
  },
  {
   "cell_type": "code",
   "execution_count": 3,
   "metadata": {},
   "outputs": [
    {
     "name": "stdout",
     "output_type": "stream",
     "text": [
      "DFT(3v):\n",
      " [45.  +0.j         -7.5+10.3228644j  -7.5 +2.43689772j -7.5 -2.43689772j\n",
      " -7.5-10.3228644j ]\n",
      "3 * V:\n",
      " [45.  +0.j         -7.5+10.3228644j  -7.5 +2.43689772j -7.5 -2.43689772j\n",
      " -7.5-10.3228644j ]\n"
     ]
    }
   ],
   "source": [
    "# Primer vektora v\n",
    "v = np.array([1, 2, 3, 4, 5])\n",
    "\n",
    "# Izračunavanje DFT za vektor v\n",
    "V = np.fft.fft(v)\n",
    "\n",
    "# Izračunavanje DFT za vektor 3v\n",
    "dft_3v = np.fft.fft(3 * v)\n",
    "\n",
    "# Provera jednakosti DFT(3v) i 3 * V\n",
    "print(\"DFT(3v):\\n\", dft_3v)\n",
    "print(\"3 * V:\\n\", 3 * V)\n"
   ]
  },
  {
   "cell_type": "markdown",
   "metadata": {},
   "source": [
    "<div class=\"alert alert-block alert-info\">\n",
    "<b> Тачно \n",
    "    \n",
    "5/5 поена</b> </div>"
   ]
  },
  {
   "cell_type": "markdown",
   "metadata": {},
   "source": [
    "**Задатак 2.** Користећи брзу Фуријеову трансформацију написати код за брзо множење бројева у бројном систему основе $8.$\n",
    "\n",
    "(10 поена)"
   ]
  },
  {
   "cell_type": "code",
   "execution_count": 113,
   "metadata": {
    "scrolled": false
   },
   "outputs": [
    {
     "name": "stdout",
     "output_type": "stream",
     "text": [
      "468\n",
      "373\n",
      "[1 5 3 4 4 6 2 4 0 0 2 6 2 1 5 1 3 3 3 2 4 0 6 0 1 4 2 5 0 5 4 1 2 0 4 3 3\n",
      " 2 6 2 5 6 1 2 5 1 5 5 5 2 4 5 4 6 3 5 0 5 2 4 2 3 6 4 0 2 6 0 5 1 4 6 6 5\n",
      " 6 3 6 3 6 0 5 6 1 5 1 1 3 2 4 4 2 0 4 3 0 1 5 5 4 6 1 6 0 1 6 3 2 4 5 6 5\n",
      " 3 1 4 2 2 1 5 5 2 1 0 2 1 3 4 2 5 0 1 5 3 6 0 1 0 6 1 6 5 6 1 1 4 5 4 2 3\n",
      " 2 2 4 4 6 1 1 3 0 4 6 4 6 3 2 1 1 1 3 1 4 1 4 0 1 3 6 4 1 1 1 1 1 2 3 3 3\n",
      " 1 3 6 1 3 4 1 2 6 0 4 4 1 0 5 3 4 3 1 4 0 2 0 4 1 2 6 0 6 2 5 2 4 0 5 1 5\n",
      " 2 5 2 3 6 4 4 0 2 6 5 5 2 2 5 4 3 4 0 4 5 3 3 5 0 0 0 4 4 4 3 4 3 3 2 4 1\n",
      " 1 5 3 4 5 6 1 6 1 5 1 0 1 6 2 2 1 3 0 2 6 6 4 1 1 4 6 1 6 3 3 0 4 3 6 5 0\n",
      " 3 0 4 3 6 3 5 3 4 0 2 0 4 4 6 4 0 5 5 3 1 3 3 5 2 1 4 1 0 2 3 3 1 5 4 6 6\n",
      " 5 2 4 6 6 4 6 0 1 2 6 4 5 2 1 1 6 3 6 3 6 3 4 4 5 0 2 0 4 5 2 5 1 1 1 4 5\n",
      " 1 1 5 6 1 5 2 5 2 0 1 3 0 3 5 3 3 1 0 2 3 5 6 0 4 1 6 1 6 4 4 4 3 3 5 1 1\n",
      " 4 4 0 0 1 6 5 2 6 4 3 5 1 6 6 1 3 6 3 5 1 2 5 1 5 3 0 2 4 4 4 6 4 3 0 3 0\n",
      " 4 1 0 0 5 6 0 6 0 1 5 3 6 6 6 4 2 4 1 4 1 1 5 6]\n",
      "[3 5 0 0 5 4 5 1 4 5 3 1 0 0 6 6 5 3 3 5 5 4 3 3 2 4 6 1 1 6 5 6 0 5 6 5 3\n",
      " 6 5 6 2 3 2 5 2 2 1 2 2 4 1 0 4 2 6 6 6 3 5 2 6 5 5 4 4 6 5 4 4 4 2 2 2 2\n",
      " 4 2 6 5 2 6 6 3 6 0 3 5 3 1 3 5 4 3 2 3 2 3 0 1 6 4 3 3 6 2 2 4 6 6 6 5 6\n",
      " 3 2 4 4 1 2 2 0 0 2 5 1 6 6 5 3 6 5 6 0 1 6 2 1 4 4 3 1 0 0 1 4 2 2 0 0 4\n",
      " 3 1 4 6 2 1 1 1 5 0 5 0 3 2 1 5 3 5 3 6 6 6 6 1 5 3 3 2 6 6 6 5 0 1 1 2 4\n",
      " 3 4 5 2 5 0 0 0 4 6 4 5 6 6 4 3 4 1 4 6 0 5 4 0 4 6 6 1 3 5 1 6 4 5 1 2 3\n",
      " 4 2 0 5 6 1 5 0 2 2 6 3 5 0 3 4 2 5 0 2 6 5 2 6 4 6 4 3 2 5 6 5 5 6 2 4 4\n",
      " 0 3 6 5 1 4 4 5 0 0 6 5 0 1 2 3 4 4 5 6 1 4 3 5 2 0 5 0 6 6 3 1 4 5 3 3 4\n",
      " 6 0 2 5 2 0 2 0 1 4 1 6 5 1 0 4 4 6 3 3 1 2 6 2 5 2 6 1 4 1 4 2 5 5 5 1 5\n",
      " 4 5 4 1 0 5 1 4 5 6 1 5 0 2 5 2 4 4 2 5 0 6 4 5 0 3 2 2 6 3 4 3 6 5 4 3 0\n",
      " 5 4 1]\n",
      "Rezultat množenja (osnovica 8): [ 3  4  4  7  0  0  5  2  3  1  5  7  0  7  3  3  3  5  7  2  1  1  4  1\n",
      "  3  5  3  2  4  5  7  1  6  4  3  6  7  4  4  4  0  4  4  1  4  2  2  0\n",
      "  6  6  7  1  2  6  3  2  2  1  0  4  6  7  6  5  0  5  0  1  6  2  6  2\n",
      "  1  6  6  4  0  4  7  7  1  5  4  6  5  2  1  6  6  0  5  6  4  7  4  7\n",
      "  0  4  7  5  7  1  5  7  6  3  0  6  4  4  7  3  1  4  6  6  4  7  7  1\n",
      "  0  1  5  5  5  0  6  1  7  3  5  1  1  3  4  7  6  5  6  2  2  4  1  3\n",
      "  7  3  6  5  5  1  0  1  5  3  1  4  7  3  2  2  6  1  7  0  4  7  4  5\n",
      "  7  2  4  5  5  5  3  1  3  1  0  2  5  2  4  4  3  6  2  1  3  5  5  1\n",
      "  2  1  1  0  4  1  5  1  0  1  5  6  0  0  4  2  1  7  5  1  3  0  6  5\n",
      "  3  5  0  0  7  3  2  6  3  4  0  3  6  1  7  3  5  1  2  3  6  0  1  6\n",
      "  7  5  1  6  2  2  1  1  2  3  0  5  0  6  5  1  1  4  0  6  7  7  0  6\n",
      "  4  5  5  7  6  5  1  4  3  4  3  6  4  5  0  0  7  0  3  7  0  0  5  0\n",
      "  3  2  6  5  7  3  3  0  3  5  4  4  6  0  0  3  5  0  3  1  0  4  3  4\n",
      "  0  7  2  5  7  6  0  4  1  3  6  6  2  6  6  6  3  6  4  4  7  6  6  0\n",
      "  0  5  2  7  4  3  7  0  4  2  6  3  6  7  6  7  0  6  7  5  4  5  5  0\n",
      "  2  5  5  1  0  4  4  3  5  6  7  1  4  4  5  0  2  1  3  0  6  1  4  2\n",
      "  3  3  4  0  1  4  3  6  3  5  6  1  1  7  0  2  7  5  2  7  3  5  0  5\n",
      "  4  6  5  3  3  6  2  2  1  7  6  3  0  4  7  7  5  0  7  4  5  1  1  4\n",
      "  0  5  0  2  3  1  0  6  6  1  2  7  2  3  5  2  7  0  6  4  1  0  0  0\n",
      "  5  7  6  6  2  2  7  5  0  4  5  0  2  5  5  2  7  3  3  2  1  7  1  4\n",
      "  2  0  0  4  2  0  7  4  2  5  2  2  6  1  4  3  2  5  6  6  3  2  1  0\n",
      "  1  5  3  0  4  6  7  7  3  0  5  0  1  5  4  0  1  7  1  3  5  6  4  7\n",
      "  4  0  0  2  3  5  5  7  5  0  4  4  4  7  4  3  7  4  7  5  3  5  0  1\n",
      "  7  6  5  5  2  1  0  6  4  1  7  5  2  0  4  4  3  0  0  3  6  3  6  7\n",
      "  2  0  1  5  7  1  1  6  1  5  2  3  2  0  5  0  7  2  0  5  0  5  0  2\n",
      "  4  6  1  1  2  0  3  1  4  6  0  1  6  7  0  2  1  7  2  4  6  4  4  1\n",
      "  5  4  3  6  4  7  5  2  6  5  1  4  2  0  7  7  4  3  1  6  0  2  1  1\n",
      "  7  2  0  1  4  7  6  3  2  7  3  0  7  4  1  3  0  5  4  6  1  7  7  0\n",
      "  0  0  1  1  6  2  6  0  6  2  3  2  7  1  0  0  3  1  6  5  1  7  4  3\n",
      "  3  0  5  0  0  2  1  0  1  6  5  1  1  2  6  5  7  2  7  6  6  0  0  0\n",
      "  0  2  6  2  6  5  1  6  6  7  2  6  6  1  0  0  1  4  5  6  7  0  7  0\n",
      "  3  0  5  0  5  2  2  4  6  7  2  0  6  4  0  4  0  1  6  1  2  7  0  4\n",
      "  1  6  1  4  7  1  1  0  4  2  4  1  1  2  6  0  0  1  2  6  3  1  2  7\n",
      "  0  2  6  0  7  2  1  4  6  3  4  2  1  4  1  4  0  1  3  4  4  3  0  2\n",
      "  3  3  4  2  4  2  7  1  5  1  6  3  0  5  0  4  1  6  0  0  3  7  3 10]\n"
     ]
    }
   ],
   "source": [
    "n1, n2 = rndm.randint(333, 556, 2)\n",
    "print(n1)\n",
    "print(n2)\n",
    "br1 = np.append(rndm.randint(1, 7, 1), rndm.randint(0, 7, n1 - 1))  \n",
    "br2 = np.append(rndm.randint(1, 7, 1), rndm.randint(0, 7, n2 - 1))  \n",
    "\n",
    "print(br1)\n",
    "print(br2)\n",
    "\n",
    "# Konvolucija\n",
    "product_conv = fftconvolve(br1, br2).real.round().astype(int)\n",
    "\n",
    "# Korekcija rezultata\n",
    "carry = np.zeros(product_conv.shape, dtype=int)\n",
    "for i in range(len(product_conv) - 1):\n",
    "    carry[i + 1] = product_conv[i] // 8\n",
    "    product_conv[i + 1] += carry[i + 1]\n",
    "    product_conv[i] %= 8\n",
    "\n",
    "# Uklanjanje vodećih nula\n",
    "product_conv = np.trim_zeros(product_conv, 'f')\n",
    "print(\"Rezultat množenja (osnovica 8):\", product_conv)\n"
   ]
  },
  {
   "cell_type": "markdown",
   "metadata": {},
   "source": [
    "<div class=\"alert alert-block alert-info\">\n",
    "<b> Не ради пренос и замену цифара како ваља. Размислите како се врши сабирање са потписивањем, од које цифре се полази. \n",
    "    \n",
    "5/10 поена</b> \n",
    "Функција trim_zeros брише нуле и са почетка и са краја низа. То није добро.     \n",
    "Израчунавање преноса може да се ради у мање итерација ако се користе операције над низовима. На примеру бројева са мало цифара види се проблем.</div>"
   ]
  },
  {
   "cell_type": "markdown",
   "metadata": {},
   "source": [
    "<b><span style=\"font-size: 44px; color: purple;\">Ispravak</span></b>"
   ]
  },
  {
   "cell_type": "code",
   "execution_count": 128,
   "metadata": {},
   "outputs": [
    {
     "name": "stdout",
     "output_type": "stream",
     "text": [
      "2\n",
      "1\n",
      "[3 2]\n",
      "[5]\n",
      "Rezultat množenja (osnova 8):\n"
     ]
    },
    {
     "data": {
      "text/plain": [
       "'0o202'"
      ]
     },
     "execution_count": 128,
     "metadata": {},
     "output_type": "execute_result"
    }
   ],
   "source": [
    "n1, n2 = rndm.randint(1, 3, 2)\n",
    "\n",
    "print(n1)\n",
    "print(n2)\n",
    "br1 = np.append(rndm.randint(1, 7, 1), rndm.randint(0, 7, n1 - 1))\n",
    "br2 = np.append(rndm.randint(1, 7, 1), rndm.randint(0, 7, n2 - 1))\n",
    "\n",
    "print(br1)\n",
    "print(br2)\n",
    "\n",
    "# Konvolucija\n",
    "product_conv = fftconvolve(br1[::-1], br2[::-1]).real.round().astype(int)\n",
    "\n",
    "# Korekcija rezultata (prenosenje i ostatak)\n",
    "carry = 0\n",
    "for i, digit in enumerate(product_conv):\n",
    "    temp = digit + carry\n",
    "    product_conv[i] = temp % 8\n",
    "    carry = temp // 8\n",
    "\n",
    "# Dodavanje konacnog prenosenja ako je potrebno\n",
    "if carry:\n",
    "    product_conv = np.append(product_conv, carry)\n",
    "\n",
    "# Okretanje rezultata i uklanjanje vodecih nula\n",
    "product_conv = np.trim_zeros(product_conv[::-1], 'f')# parametar 'f' b predstavlja uklanjanje nula samo sa pocetka niza\n",
    "\n",
    "# Pretvaranje svake cifre u njen oktalni prikaz i spajanje rezultujućih stringova\n",
    "octal_result = '0o' + ''.join([str(digit) for digit in product_conv])\n",
    "\n",
    "# Ispis rezultata kao oktalnog broja\n",
    "print(\"Rezultat množenja (osnova 8):\")\n",
    "octal_result\n"
   ]
  },
  {
   "cell_type": "markdown",
   "metadata": {},
   "source": [
    "32x5\n",
    "  \n",
    "  12   (5x2=10(dekadno) ili 12 oktalno)\n",
    "\n",
    " 17    (5x3=15 iliti 17 oktalno)\n",
    "\n",
    " ostaje nam 2 na kraju, 1+7=8 to znaci da prenosimo 1 a pisemo 0, 1+1=2, konacno:\n",
    " \n",
    " 202   (oktalnim sabiranjem dobijamo trazeni rezultat)\n",
    "\n"
   ]
  },
  {
   "cell_type": "code",
   "execution_count": 1,
   "metadata": {},
   "outputs": [
    {
     "data": {
      "text/plain": [
       "'0o202'"
      ]
     },
     "execution_count": 1,
     "metadata": {},
     "output_type": "execute_result"
    }
   ],
   "source": [
    "x1=\"0o32\"\n",
    "x2=\"0o5\"\n",
    "oct(int(x1,8)*int(x2,8))"
   ]
  },
  {
   "cell_type": "markdown",
   "metadata": {},
   "source": [
    "<div class=\"alert alert-block alert-info\">\n",
    "Уместо два корака fft можете да користите конволуцију која већ користи fft</div>"
   ]
  },
  {
   "cell_type": "code",
   "execution_count": 24,
   "metadata": {},
   "outputs": [],
   "source": [
    "from scipy.signal import fftconvolve"
   ]
  },
  {
   "cell_type": "code",
   "execution_count": 25,
   "metadata": {},
   "outputs": [
    {
     "data": {
      "text/plain": [
       "array([12])"
      ]
     },
     "execution_count": 25,
     "metadata": {},
     "output_type": "execute_result"
    }
   ],
   "source": [
    "fftconvolve(br1,br2) "
   ]
  },
  {
   "cell_type": "markdown",
   "metadata": {},
   "source": [
    "<div class=\"alert alert-block alert-info\">\n",
    "<b> Тачно. Исправљање цифара на основу преноса можете брже да обавите уколико употребите приступ из примера 10, радна свеска 10. \n",
    "    \n",
    "8/10 поена</b> \n",
    "</div>"
   ]
  },
  {
   "cell_type": "markdown",
   "metadata": {},
   "source": [
    "**Задатак 3.** Функција $f$ је узоркована у еквидистантним тачкама на интервалу $[-\\pi,\\pi).$ Вектор $y$ садржи резултате овог узорковања. Након примене функције `fft` на вектор $y$ добијен је вектор $c=\\begin{bmatrix}0 & -5i & 1-3i & 4 & 0 & 4 & 1+3i & 5i\\end{bmatrix}.$ Наћи вектор $y$ и тригонометријски полином који интерполира функцију $f$ на узоркованим подацима. Дати графички приказ података и добијеног тригонометријског полинома.\n",
    "\n",
    "\n",
    "(10 поена)"
   ]
  },
  {
   "cell_type": "markdown",
   "metadata": {},
   "source": [
    "<div class=\"alert alert-block alert-info\">\n",
    "<b> Није добро. Погледајте радне свеске 26 и 27. Интерполациони полином мора да пролази кроз узорке. \n",
    "    \n",
    "5/10 поена</b> \n",
    "\n",
    "Користити што више паралелизацију уграђену у операције над низовима.</div>"
   ]
  },
  {
   "cell_type": "markdown",
   "metadata": {},
   "source": [
    "<b><span style=\"font-size: 44px; color: purple;\">Ispravak</span></b>"
   ]
  },
  {
   "cell_type": "code",
   "execution_count": 131,
   "metadata": {
    "scrolled": false
   },
   "outputs": [
    {
     "name": "stdout",
     "output_type": "stream",
     "text": [
      "ak dobijen iz C: [-0.  2.  8.  0.  8.  2.  0.]\n",
      "bk dobijen iz C: [ 10.   6.  -0.  -0.  -0.  -6. -10.]\n"
     ]
    },
    {
     "data": {
      "text/plain": [
       "<matplotlib.legend.Legend at 0x2468ad81910>"
      ]
     },
     "execution_count": 131,
     "metadata": {},
     "output_type": "execute_result"
    },
    {
     "data": {
      "image/png": "[encoded data removed]",
      "text/plain": [
       "<Figure size 640x480 with 1 Axes>"
      ]
     },
     "metadata": {},
     "output_type": "display_data"
    }
   ],
   "source": [
    "# Iz materijala, radna sveska 27. Furijeova matrica\n",
    "\n",
    "N = 8\n",
    "c = np.array([0, -5j, 1-3j, 4, 0, 4, 1+3j, 5j])\n",
    "y = np.round(np.real(np.fft.ifft(c * N)))\n",
    "sample_interval = np.linspace(-np.pi, np.pi, len(c), endpoint=False)#[-pi, pi)\n",
    "N = len(y)\n",
    "n = int(np.floor((N-1)/2))\n",
    "ak = np.empty(N)\n",
    "bk = np.empty(N)\n",
    "a0 = y.mean()\n",
    "\n",
    "akC = 2*np.real(c[1:N+1])\n",
    "bkC = -2*np.imag(c[1:N+1])\n",
    "print(\"ak dobijen iz C:\", akC)\n",
    "print(\"bk dobijen iz C:\", bkC)\n",
    "\n",
    "ak = akC\n",
    "bk = bkC\n",
    "yint = a0 + np.sum(ak[0:n]*np.cos(np.outer(xk, np.arange(1,n+1))), axis=1) + np.sum(bk[0:n]*np.sin(np.outer(xk, np.arange(1,n+1))), axis=1)\n",
    "\n",
    "plt.plot(xk - np.pi, yint, 'aqua')\n",
    "plt.plot(sample_interval, y, 'ro', label=r'uzorci')\n",
    "plt.legend()"
   ]
  },
  {
   "cell_type": "markdown",
   "metadata": {},
   "source": [
    "<div class=\"alert alert-block alert-info\">\n",
    "<b> Тачно.  \n",
    "    \n",
    "10/10 поена</b> \n",
    "</div>"
   ]
  },
  {
   "cell_type": "markdown",
   "metadata": {},
   "source": [
    "<div class=\"alert alert-block alert-info\">\n",
    "<b> Укупно    \n",
    "28/30 поена</b> </div>"
   ]
  }
 ],
 "metadata": {
  "kernelspec": {
   "display_name": "Python 3",
   "language": "python",
   "name": "python3"
  },
  "language_info": {
   "codemirror_mode": {
    "name": "ipython",
    "version": 3
   },
   "file_extension": ".py",
   "mimetype": "text/x-python",
   "name": "python",
   "nbconvert_exporter": "python",
   "pygments_lexer": "ipython3",
   "version": "3.7.16"
  }
 },
 "nbformat": 4,
 "nbformat_minor": 4
}
