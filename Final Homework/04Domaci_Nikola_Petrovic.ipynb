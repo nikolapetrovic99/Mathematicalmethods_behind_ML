{
 "cells": [
  {
   "cell_type": "markdown",
   "metadata": {},
   "source": [
    "# Мататематички методи за машинско учење 2023\n",
    "## Домаћи задатак број 4"
   ]
  },
  {
   "cell_type": "markdown",
   "metadata": {},
   "source": [
    "<div class=\"alert alert-block alert-danger\">\n",
    "<b>Име и презиме студента:</b> Никола Петровић\n",
    "\n",
    "<b>Број индекса:</b> 1466\n",
    "    \n",
    "</div>    "
   ]
  },
  {
   "cell_type": "markdown",
   "metadata": {},
   "source": [
    "<div class=\"alert alert-block alert-info\">\n",
    "<b>Упутство за израду и предају домаћег задатака: </b> \n",
    "    \n",
    "    1. Пре почетка израде промените име датотеке у 04Domaci_Ime_Prezime. (убаците своје име и презиме) \n",
    "    2. Попуните ћелију испод наслова одговарајућим подацима. \n",
    "    1. Употреба ћирилице није обавезна за предају домаћег задатка.\n",
    "    4. За решавање задатака, уколико је потребно, отворите испод текста задатка додатне ћелије за уписивање текстуалног одговора (Markdown) или програмског кода (Code).\n",
    "    1. Сва израчунавања, уколико је потребно, вршити у Python-у.\n",
    "    5. Након завршетка израде решења домаћег Notebook документ сачувати у pdf формату и проследити га наставнику. То можете да урадите или кроз Teams или на мејл адресу jovana.dzunic@elfak.ni.ac.rs\n",
    "\n",
    "</div> "
   ]
  },
  {
   "cell_type": "code",
   "execution_count": 15,
   "metadata": {},
   "outputs": [],
   "source": [
    "import numpy as np\n",
    "import numpy.random as rndm\n",
    "import matplotlib as mplb\n",
    "import matplotlib.pyplot as plt"
   ]
  },
  {
   "cell_type": "markdown",
   "metadata": {},
   "source": [
    "**Задатак 1.** а) Неким од критеријума за позитивну дефинитност проверити да ли је матрица $A$ позитивно дефинитна.\n",
    "\n",
    "(5 поена)"
   ]
  },
  {
   "cell_type": "code",
   "execution_count": 3,
   "metadata": {},
   "outputs": [
    {
     "name": "stdout",
     "output_type": "stream",
     "text": [
      "Matrica A je pozitivno definitna: False\n"
     ]
    }
   ],
   "source": [
    "# Definisanje matrice A\n",
    "A = rndm.uniform(-2, 3, (50, 50))\n",
    "A = np.tril(A) + (np.tril(A)).T\n",
    "\n",
    "# Izračunavanje sopstvenih vrednosti matrice A\n",
    "sopstvene_vrednosti = np.linalg.eigvalsh<div class=\"alert alert-block alert-info\">\n",
    "\n",
    "# Provera da li su sve sopstvene vrednosti strogo pozitivne\n",
    "pozitivno_definitna = np.all(sopstvene_vrednosti > 0)\n",
    "\n",
    "print(\"Matrica A je pozitivno definitna:\", pozitivno_definitna)"
   ]
  },
  {
   "cell_type": "markdown",
   "metadata": {},
   "source": [
    "<div class=\"alert alert-block alert-info\">\n",
    "<b> Тачно \n",
    "    \n",
    "5/5 поена</b> </div>"
   ]
  },
  {
   "cell_type": "markdown",
   "metadata": {},
   "source": [
    "б) Какве су дефинитности матрице $AA^T$ и $A^TA$ ако је $A\\in\\mathcal{M}_{m\\times n}$ произвољна матрица пуног ранга колона?\n",
    "\n",
    "(5 поена)"
   ]
  },
  {
   "cell_type": "code",
   "execution_count": 5,
   "metadata": {},
   "outputs": [
    {
     "name": "stdout",
     "output_type": "stream",
     "text": [
      "Rang matrice A: 4\n",
      "Matrica AA^T je pozitivno semidefinitna\n",
      "Matrica A^TA je pozitivno semidefinitna\n"
     ]
    }
   ],
   "source": [
    "# Postavljanje dimenzija matrice A (m > n za pun rang kolona)\n",
    "m, n = 6, 4\n",
    "\n",
    "# Generisanje proizvoljne matrice A dimenzija m x n\n",
    "A = np.random.rand(m, n)\n",
    "\n",
    "# Provera da li je rang matrice A jednak n (puni rang kolona)\n",
    "rang = np.linalg.matrix_rank(A)\n",
    "print(\"Rang matrice A:\", rang)\n",
    "\n",
    "# Izračunavanje matrica AA^T i A^TA\n",
    "AAt = A @ A.T\n",
    "AtA = A.T @ A\n",
    "\n",
    "# Izračunavanje sopstvenih vrednosti matrica AA^T i A^TA\n",
    "sopstvene_vrednosti_AAt = np.linalg.eigvals(AAt)\n",
    "sopstvene_vrednosti_AtA = np.linalg.eigvals(AtA)\n",
    "\n",
    "# Provera definitnosti matrica AA^T i A^TA\n",
    "definitnost_AAt = \"pozitivno semidefinitna\" if np.all(sopstvene_vrednosti_AAt >= 0) else \"indefinitna\"\n",
    "definitnost_AtA = \"pozitivno semidefinitna\" if np.all(sopstvene_vrednosti_AtA >= 0) else \"indefinitna\"\n",
    "\n",
    "print(\"Matrica AA^T je\", definitnost_AAt)\n",
    "print(\"Matrica A^TA je\", definitnost_AtA)\n"
   ]
  },
  {
   "cell_type": "markdown",
   "metadata": {},
   "source": [
    "<div class=\"alert alert-block alert-info\">\n",
    "<b> Није добро. Погледајте поново дефиниције позитивне дефинитности и позитивне семи дефинитности. Грамове матрице не могу да буду индефинитне.\n",
    "    \n",
    "2/5 поена</b> </div>"
   ]
  },
  {
   "cell_type": "markdown",
   "metadata": {},
   "source": [
    "<b><span style=\"font-size: 44px; color: purple;\">Ispravak</span></b>"
   ]
  },
  {
   "cell_type": "markdown",
   "metadata": {},
   "source": [
    "Према теореми 2. и примеру 3. из радне свеске, можемо закључити следеће:\n",
    "\n",
    "Задатак нам каже да је $A$ произвољна матрица пуног ранга колона, дакле, ранг матрице $A$ је $n$.\n",
    "\n",
    "Прво, размотримо матрицу $A^TA$. Знамо да је ова матрица Грамова матрица, што значи да је она симетрична и има искључиво реалне сопствене вредности. Пошто је $A$ матрица пуног ранга колона, $A^TA$ је регуларна, тј. инвертибилна, и не може имати $0$ у свом спектру. Ова Грамова матрица има све позитивне сопствене вредности, што значи да је она <b>позитивно дефинитна</b>.\n",
    "\n",
    "Сада, размотримо матрицу $AA^T$. Ова матрица је такође симетрична, пошто је $(AA^T)^T = A^{TT}A^T = AA^T$. Да бисмо испитали дефинитност $AA^T$, размотримо произвољни вектор $x \\in \\mathbb{R}^m$ и израз $x^T(AA^T)x$. Можемо га преписати као $(x^TAA^T)x = (A^Tx)^T(A^Tx) = |A^Tx|^2$. Знамо да је $A$ матрица пуног ранга колона, тако да је $A^Tx \\neq 0$ за све $x \\neq 0$. То значи да је $|A^Tx|^2 > 0$ за све $x \\neq 0$. Према томе, матрица $AA^T$ је <b>позитивно дефинитна</b>.\n",
    "\n",
    "У закључку, матрице $AA^T$ и $A^TA$ су обе позитивно дефинитне када је $A$ матрица пуног ранга колона."
   ]
  },
  {
   "cell_type": "markdown",
   "metadata": {},
   "source": [
    "<div class=\"alert alert-block alert-info\">\n",
    "<b> Није добро. $A\\in\\mathcal{M}_{m\\times n}$ је пуног ранга колона, због тога је $m\\geq n.$ Матрица $AA^T$ је ранга $n$ $m\\times m.$ Не може увек да буде дефинитна јер би то значило да је увек регуларна, чак и у случају $m> n.$\n",
    "    \n",
    "3/5 поена</b> </div>"
   ]
  },
  {
   "cell_type": "markdown",
   "metadata": {},
   "source": [
    "**Задатак 2.** а) Која од следећих матрица је косо-симетрична?\n",
    "$$A=\\begin{bmatrix}1&-3&2\\\\3&-5&4\\\\-2&-4&2\\end{bmatrix},\\qquad \n",
    "B=\\begin{bmatrix}0&-3&2\\\\3&0&4\\\\-2&-4&0\\end{bmatrix}.$$\n",
    "\n",
    "(5 поена)"
   ]
  },
  {
   "cell_type": "code",
   "execution_count": 6,
   "metadata": {},
   "outputs": [
    {
     "name": "stdout",
     "output_type": "stream",
     "text": [
      "Matrica A je kososimetrična: False\n",
      "Matrica B je kososimetrična: True\n"
     ]
    }
   ],
   "source": [
    "A = np.array([[1, -3, 2],\n",
    "              [3, -5, 4],\n",
    "              [-2, -4, 2]])\n",
    "\n",
    "B = np.array([[0, -3, 2],\n",
    "              [3, 0, 4],\n",
    "              [-2, -4, 0]])\n",
    "\n",
    "# Provera da li je matrica A kososimetrična\n",
    "kososimetrična_A = np.all(A.T == -A)\n",
    "print(\"Matrica A je kososimetrična:\" , kososimetrična_A)\n",
    "\n",
    "# Provera da li je matrica B kososimetrična\n",
    "kososimetrična_B = np.all(B.T == -B)\n",
    "print(\"Matrica B je kososimetrična:\" , kososimetrična_B)"
   ]
  },
  {
   "cell_type": "markdown",
   "metadata": {},
   "source": [
    "<div class=\"alert alert-block alert-info\">\n",
    "<b> Тачно \n",
    "    \n",
    "5/5 поена</b> </div>"
   ]
  },
  {
   "cell_type": "markdown",
   "metadata": {},
   "source": [
    "б) Ако је $A$ косо-симетрична матрица чему је једнако $A^TA^{-1}?$\n",
    "\n",
    "(5 поена)"
   ]
  },
  {
   "cell_type": "markdown",
   "metadata": {},
   "source": [
    "<b><span style=\"font-size: 44px; color: purple;\">Ispravak 4.2.б.</span></b>\n",
    "\n",
    "\n",
    "За косо-симетричну матрицу $A$, важи следећа веза: $A = -A^T$. Желимо да установимо чему је једнако $A^TA^{-1}$, али пре тога треба да утврдимо када инверз постоји.\n",
    "\n",
    "Косо-симетричне матрице квадратне су матрице чији су елементи такви да је $a_{ij} = -a_{ji}$. То значи да су дијагонални елементи нуле, јер $a_{ii} = -a_{ii} \\Rightarrow a_{ii} = 0$.\n",
    "\n",
    "Сада, треба да размотримо два случаја:\n",
    "\n",
    "1. Ако је $n$, димензија матрице, паран:\n",
    "У овом случају, косо-симетрична матрица може да буде регуларна (има инверз). На пример, за димензију $2\\times 2$:\n",
    "\n",
    "$$\n",
    "A = \\begin{bmatrix}\n",
    "0 & a \\\\\n",
    "-a & 0\n",
    "\\end{bmatrix}\n",
    "$$\n",
    "\n",
    "Детерминанта матрице $A$ је:\n",
    "\n",
    "$$\n",
    "\\det(A) = (0)(0) - (a)(-a) = a^2\n",
    "$$\n",
    "\n",
    "Када $a \\neq 0$, детерминанта је различит од нуле и инверз постоји.\n",
    "\n",
    "2. Ако је $n$, димензија матрице, непаран:\n",
    "У овом случају, косо-симетрична матрица не може да буде регуларна. Ово је зато што детерминанта матрице увек износи нулу за непарне димензије.\n",
    "\n",
    "Сада, када знамо када инверз постоји, можемо да израчунамо $A^TA^{-1}$:\n",
    "\n",
    "$$\n",
    "A^TA^{-1} = (-A)A^{-1} = -AA^{-1} = -I\n",
    "$$\n",
    "\n",
    "Тако да је $A^TA^{-1} = -I$, где је $I$ јединична матрица, али ово важи само када је димензија матрице $A$ парна и инверз постоји. У случају непарних димензија, инверз не постоји и производ $A^TA^{-1}$ није дефинисан.\n"
   ]
  },
  {
   "cell_type": "markdown",
   "metadata": {},
   "source": [
    "<div class=\"alert alert-block alert-info\">\n",
    "<b> Косо-симетричне матрице некада јесу регуларне, некада нису. То зависи и од њихове димензије. Питање је када инверз постоји шта се дешава са производом $A^TA^{-1}?$ \n",
    "    \n",
    "0/5 поена</b> Видите наредни пример.</div>"
   ]
  },
  {
   "cell_type": "markdown",
   "metadata": {},
   "source": [
    "<div class=\"alert alert-block alert-info\">\n",
    "<b> Тачно\n",
    "    \n",
    "5/5 поена</b> </div>"
   ]
  },
  {
   "cell_type": "code",
   "execution_count": 11,
   "metadata": {},
   "outputs": [
    {
     "data": {
      "text/plain": [
       "array([[ 0.  , -0.3 , -0.27, -0.3 , -0.4 , -0.15],\n",
       "       [ 0.3 ,  0.  , -0.45, -0.59, -0.51, -0.28],\n",
       "       [ 0.27,  0.45,  0.  , -0.55, -0.8 , -0.19],\n",
       "       [ 0.3 ,  0.59,  0.55,  0.  , -0.69, -0.3 ],\n",
       "       [ 0.4 ,  0.51,  0.8 ,  0.69,  0.  , -0.11],\n",
       "       [ 0.15,  0.28,  0.19,  0.3 ,  0.11,  0.  ]])"
      ]
     },
     "execution_count": 11,
     "metadata": {},
     "output_type": "execute_result"
    }
   ],
   "source": [
    "pom=rndm.rand(6,6)\n",
    "L=np.tril(pom)\n",
    "Aks=L-L.T\n",
    "np.round(Aks,2)\n",
    "np.round(Aks.T@np.linalg.inv(Aks),2)"
   ]
  },
  {
   "cell_type": "code",
   "execution_count": 12,
   "metadata": {},
   "outputs": [
    {
     "data": {
      "text/plain": [
       "array([[-1., -0., -0.,  0., -0.,  0.],\n",
       "       [-0., -1.,  0., -0.,  0.,  0.],\n",
       "       [-0.,  0., -1., -0.,  0., -0.],\n",
       "       [-0., -0.,  0., -1.,  0., -0.],\n",
       "       [-0.,  0.,  0., -0., -1., -0.],\n",
       "       [-0., -0.,  0., -0.,  0., -1.]])"
      ]
     },
     "execution_count": 12,
     "metadata": {},
     "output_type": "execute_result"
    }
   ],
   "source": [
    "np.round(Aks.T@np.linalg.inv(Aks),2)"
   ]
  },
  {
   "cell_type": "markdown",
   "metadata": {},
   "source": [
    "<div class=\"alert alert-block alert-info\"> Ово треба показати у општем случају. </div>"
   ]
  },
  {
   "cell_type": "markdown",
   "metadata": {},
   "source": [
    "**Задатак 3.** а) Показати да се свака матрица може представити као збир једне симетричне и једне косо-симетричне матрице.\n",
    "\n",
    "\n",
    "(5 поена)"
   ]
  },
  {
   "cell_type": "markdown",
   "metadata": {},
   "source": [
    "а) Да бисмо показали да се свака матрица може представити као збир једне симетричне и једне косо-симетричне матрице, можемо користити следећи разломак матрице:\n",
    "\n",
    "Симетрична матрица: $S = \\frac{1}{2}(A + A^T)$\n",
    "Косо-симетрична матрица: $K = \\frac{1}{2}(A - A^T)$\n",
    "\n",
    "Тако да је збир ове две матрице:\n",
    "\n",
    "$$A = S + K = \\frac{1}{2}(A + A^T) + \\frac{1}{2}(A - A^T) = \\frac{1}{2}(A + A) = A$$\n",
    "\n",
    "Дакле, свака матрица може да се представи као збор једне симетричне и једне косо-симетричне матрице.\n",
    "\n",
    "Следећи код демонстрира ово тврђење:"
   ]
  },
  {
   "cell_type": "markdown",
   "metadata": {},
   "source": [
    "<div class=\"alert alert-block alert-info\">\n",
    "<b> Тачно \n",
    "    \n",
    "5/5 поена</b> </div>"
   ]
  },
  {
   "cell_type": "code",
   "execution_count": 13,
   "metadata": {},
   "outputs": [
    {
     "name": "stdout",
     "output_type": "stream",
     "text": [
      "Simetrična matrica S:\n",
      " [[1. 3. 5.]\n",
      " [3. 5. 7.]\n",
      " [5. 7. 9.]]\n",
      "Koso-simetrična matrica K:\n",
      " [[ 0. -1. -2.]\n",
      " [ 1.  0. -1.]\n",
      " [ 2.  1.  0.]]\n",
      "A = S + K:\n",
      " [[1. 2. 3.]\n",
      " [4. 5. 6.]\n",
      " [7. 8. 9.]]\n"
     ]
    }
   ],
   "source": [
    "def decompose_matrix(A):\n",
    "    A_T = A.T\n",
    "    S = 0.5 * (A + A_T)\n",
    "    K = 0.5 * (A - A_T)\n",
    "    return S, K\n",
    "\n",
    "# Primer matrice\n",
    "A = np.array([[1, 2, 3],\n",
    "              [4, 5, 6],\n",
    "              [7, 8, 9]])\n",
    "\n",
    "# Dekompozicija matrice\n",
    "S, K = decompose_matrix(A)\n",
    "\n",
    "print(\"Simetrična matrica S:\\n\", S)\n",
    "print(\"Koso-simetrična matrica K:\\n\", K)\n",
    "print(\"A = S + K:\\n\", S + K)\n"
   ]
  },
  {
   "cell_type": "markdown",
   "metadata": {},
   "source": [
    "б) Проверити позитивну дефинитност несиметричне квадратне матрице $A$ неким од критеријума.\n",
    "\n",
    "(5 поена)"
   ]
  },
  {
   "cell_type": "markdown",
   "metadata": {},
   "source": [
    "<b><span style=\"font-size: 44px; color: purple;\">Ispravak</span></b>"
   ]
  },
  {
   "cell_type": "code",
   "execution_count": 7,
   "metadata": {},
   "outputs": [
    {
     "name": "stdout",
     "output_type": "stream",
     "text": [
      "Matrica A je pozitivno definitna.\n"
     ]
    }
   ],
   "source": [
    "import numpy as np\n",
    "\n",
    "def cholesky_decomposition(A):\n",
    "    try:\n",
    "        L = np.linalg.cholesky(A)\n",
    "        return True\n",
    "    except np.linalg.LinAlgError:\n",
    "        return False\n",
    "\n",
    "A = np.random.uniform(-2, 3, size=(50, 50))\n",
    "\n",
    "# Formiranje simetricne matrice A^TA\n",
    "A_sym = A.T @ A\n",
    "\n",
    "# Provera pozitivne definitnosti koristeci coleski dekompoziciju\n",
    "# Ako je dekompozicija uspesna, matrica je opozitivno definitna, u suprotnom nije pozitivno definitna\n",
    "if cholesky_decomposition(A_sym):\n",
    "    print(\"Matrica A je pozitivno definitna.\")\n",
    "else:\n",
    "    print(\"Matrica A nije pozitivno definitna.\")\n"
   ]
  },
  {
   "cell_type": "markdown",
   "metadata": {},
   "source": [
    "<div class=\"alert alert-block alert-info\">\n",
    "<b> Није добро. Матрица A_sym није добро изабрана да дели дефинитност матрице A.\n",
    "    \n",
    "0/5 поена</b> </div>"
   ]
  },
  {
   "cell_type": "markdown",
   "metadata": {},
   "source": [
    "**Задатак 4.** За матрицу $A=B^TB$ одредити матрицу пројекције на $\\mathcal{R}(A)$ у односу на скаларни производ $\\langle\\cdot,\\cdot\\rangle_C.$\n",
    "\n",
    "(10 поена)"
   ]
  },
  {
   "cell_type": "code",
   "execution_count": 16,
   "metadata": {},
   "outputs": [
    {
     "name": "stdout",
     "output_type": "stream",
     "text": [
      "Matrica A:\n",
      " [[ 128.05317817   84.2143075   212.26748567  -43.83887068  171.89204885]\n",
      " [  84.2143075   115.65569733  199.87000482   31.44138983   52.77291766]\n",
      " [ 212.26748567  199.87000482  412.13749049  -12.39748084  224.66496651]\n",
      " [ -43.83887068   31.44138983  -12.39748084   75.28026051 -119.11913119]\n",
      " [ 171.89204885   52.77291766  224.66496651 -119.11913119  291.01118004]]\n",
      "Rang matrice A: 2\n",
      "Matrica C:\n",
      " [[5.86020939 0.58698423 0.93656483 0.76946829 0.7616133 ]\n",
      " [0.58698423 6.4061262  0.56706125 0.51117943 0.4421157 ]\n",
      " [0.93656483 0.56706125 5.82959252 0.79047302 0.0149325 ]\n",
      " [0.76946829 0.51117943 0.79047302 5.77651563 0.14816868]\n",
      " [0.7616133  0.4421157  0.0149325  0.14816868 6.06575063]]\n",
      "Rang matrice C: 5\n"
     ]
    },
    {
     "ename": "LinAlgError",
     "evalue": "Singular matrix",
     "output_type": "error",
     "traceback": [
      "\u001b[1;31m---------------------------------------------------------------------------\u001b[0m",
      "\u001b[1;31mLinAlgError\u001b[0m                               Traceback (most recent call last)",
      "Cell \u001b[1;32mIn[16], line 23\u001b[0m\n\u001b[0;32m     20\u001b[0m \u001b[39mprint\u001b[39m(\u001b[39m\"\u001b[39m\u001b[39mRang matrice C:\u001b[39m\u001b[39m\"\u001b[39m, rank_C)\n\u001b[0;32m     22\u001b[0m \u001b[39m# Izračunavanje matrice projekcije P\u001b[39;00m\n\u001b[1;32m---> 23\u001b[0m CA_inv \u001b[39m=\u001b[39m np\u001b[39m.\u001b[39;49mlinalg\u001b[39m.\u001b[39;49minv(C \u001b[39m@\u001b[39;49m A)  \u001b[39m# Inverz matrice (C * A)\u001b[39;00m\n\u001b[0;32m     24\u001b[0m C_inv \u001b[39m=\u001b[39m np\u001b[39m.\u001b[39mlinalg\u001b[39m.\u001b[39minv(C)       \u001b[39m# Inverz matrice C\u001b[39;00m\n\u001b[0;32m     26\u001b[0m P \u001b[39m=\u001b[39m A \u001b[39m@\u001b[39m CA_inv \u001b[39m@\u001b[39m C_inv          \u001b[39m# Matrica projekcije P\u001b[39;00m\n",
      "File \u001b[1;32m<__array_function__ internals>:200\u001b[0m, in \u001b[0;36minv\u001b[1;34m(*args, **kwargs)\u001b[0m\n",
      "File \u001b[1;32mc:\\Users\\Nikola Petrovic\\AppData\\Local\\Programs\\Python\\Python311\\Lib\\site-packages\\numpy\\linalg\\linalg.py:538\u001b[0m, in \u001b[0;36minv\u001b[1;34m(a)\u001b[0m\n\u001b[0;32m    536\u001b[0m signature \u001b[39m=\u001b[39m \u001b[39m'\u001b[39m\u001b[39mD->D\u001b[39m\u001b[39m'\u001b[39m \u001b[39mif\u001b[39;00m isComplexType(t) \u001b[39melse\u001b[39;00m \u001b[39m'\u001b[39m\u001b[39md->d\u001b[39m\u001b[39m'\u001b[39m\n\u001b[0;32m    537\u001b[0m extobj \u001b[39m=\u001b[39m get_linalg_error_extobj(_raise_linalgerror_singular)\n\u001b[1;32m--> 538\u001b[0m ainv \u001b[39m=\u001b[39m _umath_linalg\u001b[39m.\u001b[39;49minv(a, signature\u001b[39m=\u001b[39;49msignature, extobj\u001b[39m=\u001b[39;49mextobj)\n\u001b[0;32m    539\u001b[0m \u001b[39mreturn\u001b[39;00m wrap(ainv\u001b[39m.\u001b[39mastype(result_t, copy\u001b[39m=\u001b[39m\u001b[39mFalse\u001b[39;00m))\n",
      "File \u001b[1;32mc:\\Users\\Nikola Petrovic\\AppData\\Local\\Programs\\Python\\Python311\\Lib\\site-packages\\numpy\\linalg\\linalg.py:89\u001b[0m, in \u001b[0;36m_raise_linalgerror_singular\u001b[1;34m(err, flag)\u001b[0m\n\u001b[0;32m     88\u001b[0m \u001b[39mdef\u001b[39;00m \u001b[39m_raise_linalgerror_singular\u001b[39m(err, flag):\n\u001b[1;32m---> 89\u001b[0m     \u001b[39mraise\u001b[39;00m LinAlgError(\u001b[39m\"\u001b[39m\u001b[39mSingular matrix\u001b[39m\u001b[39m\"\u001b[39m)\n",
      "\u001b[1;31mLinAlgError\u001b[0m: Singular matrix"
     ]
    }
   ],
   "source": [
    "# Generisanje matrice B\n",
    "B=rndm.normal(-1,2,(25,5))\n",
    "B=B@np.array([[1,0,1,-1,2],[0,1,1,1,-1],[0,0,0,0,0],[0,0,0,0,0],[0,0,0,0,0]])\n",
    "\n",
    "# Izračunavanje matrice A\n",
    "A = B.T @ B\n",
    "print(\"Matrica A:\\n\", A)\n",
    "\n",
    "# Rang matrice A\n",
    "rank_A = np.linalg.matrix_rank(A)\n",
    "print(\"Rang matrice A:\", rank_A)\n",
    "\n",
    "# Generisanje matrice C\n",
    "C = rndm.rand(5, 5)\n",
    "C = np.tril(C) + (np.tril(C)).T + 5 * np.eye(5, 5)\n",
    "print(\"Matrica C:\\n\", C)\n",
    "\n",
    "# Rang matrice C\n",
    "rank_C = np.linalg.matrix_rank(C)\n",
    "print(\"Rang matrice C:\", rank_C)\n",
    "\n",
    "# Izračunavanje matrice projekcije P\n",
    "CA_inv = np.linalg.inv(C @ A)  # Inverz matrice (C * A)\n",
    "C_inv = np.linalg.inv(C)       # Inverz matrice C\n",
    "\n",
    "P = A @ CA_inv @ C_inv          # Matrica projekcije P\n",
    "print(\"Matrica projekcije P:\\n\", P)\n"
   ]
  },
  {
   "cell_type": "markdown",
   "metadata": {},
   "source": [
    "<div class=\"alert alert-block alert-info\">\n",
    "<b> Није добро. Исти проблем око матрице пројекције као и у претходном домаћем. Сада још морате да рачунате пројекцију у односу на уопштени скаларни производ, тј. да пронађете базу $C-$ортонормираних вектора.\n",
    "    \n",
    "0/10 поена</b> </div>"
   ]
  },
  {
   "cell_type": "markdown",
   "metadata": {},
   "source": [
    "<b><span style=\"font-size: 44px; color: purple;\">Ispravak</span></b>"
   ]
  },
  {
   "cell_type": "markdown",
   "metadata": {},
   "source": [
    "$P = C (C^T A C)^{-1} C^T$"
   ]
  },
  {
   "cell_type": "code",
   "execution_count": 18,
   "metadata": {
    "scrolled": true
   },
   "outputs": [
    {
     "name": "stdout",
     "output_type": "stream",
     "text": [
      "Matrica A:\n",
      " [[ 114.69898616   35.55123884  150.250225    -79.14774733  193.84673349]\n",
      " [  35.55123884  142.82442336  178.3756622   107.27318452  -71.72194568]\n",
      " [ 150.250225    178.3756622   328.6258872    28.12543719  122.12478781]\n",
      " [ -79.14774733  107.27318452   28.12543719  186.42093185 -265.56867917]\n",
      " [ 193.84673349  -71.72194568  122.12478781 -265.56867917  459.41541266]]\n",
      "Rang matrice A: 2\n",
      "Baza ortonormiranih vektora C_ortho:\n",
      " [[-0.98670147  0.04602924  0.15033086  0.04014824  0.00950143]\n",
      " [-0.03332213 -0.98626472  0.0830988   0.03257181 -0.13492663]\n",
      " [-0.14583217 -0.05726674 -0.9710901   0.14351448 -0.10881682]\n",
      " [-0.06207843 -0.03588784 -0.12999865 -0.98807057 -0.04092953]\n",
      " [-0.0137513  -0.14351232 -0.1028571  -0.02115027  0.98396555]]\n",
      "Matrica projekcije P:\n",
      " [[-3.00353912e+13  2.54517860e+13 -1.68180454e+13  2.98643870e+12\n",
      "   2.36950995e+13]\n",
      " [ 3.56701427e+12  9.54592229e+12 -1.72167196e+13  1.88159566e+13\n",
      "   1.66036572e+13]\n",
      " [ 2.82939712e+12 -2.23565162e+13  1.53312182e+13 -5.76593380e+12\n",
      "  -1.43846442e+13]\n",
      " [-9.83687846e+12  2.86152307e+13 -1.15517576e+13 -5.24592955e+12\n",
      "   1.12775693e+13]\n",
      " [ 5.27266430e+12  1.57797523e+13 -9.31832704e+12  2.54584992e+12\n",
      "   6.30195732e+12]]\n"
     ]
    }
   ],
   "source": [
    "import numpy as np\n",
    "import numpy.random as rndm\n",
    "\n",
    "# Generisanje matrice B\n",
    "B = rndm.normal(-1, 2, (25, 5))\n",
    "B = B @ np.array([[1, 0, 1, -1, 2], [0, 1, 1, 1, -1], [0, 0, 0, 0, 0], [0, 0, 0, 0, 0], [0, 0, 0, 0, 0]])\n",
    "\n",
    "# Izračunavanje matrice A\n",
    "A = B.T @ B\n",
    "print(\"Matrica A:\\n\", A)\n",
    "\n",
    "# Rang matrice A\n",
    "rank_A = np.linalg.matrix_rank(A)\n",
    "print(\"Rang matrice A:\", rank_A)\n",
    "\n",
    "# Generisanje matrice C i njeno ortogonalizovanje\n",
    "C = rndm.rand(5, 5)\n",
    "C = np.tril(C) + (np.tril(C)).T + 5 * np.eye(5, 5)\n",
    "Q, R = np.linalg.qr(C)   # QR faktorizacija matrice C\n",
    "C_ortho = Q             # Nova matrica sa ortonormiranim kolonama\n",
    "print(\"Baza ortonormiranih vektora C_ortho:\\n\", C_ortho)\n",
    "\n",
    "# Izračunavanje matrice projekcije P\n",
    "CA_inv = np.linalg.inv(C_ortho @ A @ C_ortho.T)  # Inverz matrice C*A*C^T\n",
    "C_inv = np.linalg.inv(C_ortho)                 # Inverz matrice C\n",
    "\n",
    "P = C_ortho @ CA_inv @ C_inv          # Matrica projekcije P\n",
    "print(\"Matrica projekcije P:\\n\", P)\n"
   ]
  },
  {
   "cell_type": "markdown",
   "metadata": {},
   "source": [
    "<div class=\"alert alert-block alert-info\">\n",
    "<b> Није добро. Матрица CA_inv не постоји јер је А ранга 2. То што пајтон рачуна нешто је само резултат нагомилавања грешака заокруживања.\n",
    "    \n",
    "0/10 поена</b> </div>"
   ]
  },
  {
   "cell_type": "markdown",
   "metadata": {},
   "source": [
    "**Задатак 5.** Прилагодити метод коњугованих градијената за решење матричне једначине $AX=B.$\n",
    "\n",
    "\n",
    "(10 поена)"
   ]
  },
  {
   "cell_type": "code",
   "execution_count": 8,
   "metadata": {},
   "outputs": [
    {
     "name": "stdout",
     "output_type": "stream",
     "text": [
      "Rešenje X:\n",
      "[[-1.62448284 -8.62217084  0.35349233 -8.75529326  2.10391823]\n",
      " [ 3.20807982  8.10890728  0.25809199  8.13494768 -2.24701874]\n",
      " [ 4.06424921 11.24853979  5.01916525 15.26886104 -2.2955707 ]\n",
      " [ 1.058165   -0.38768557 -1.53662692 -1.24239474  0.27597956]\n",
      " [ 3.43343879  7.44469457  1.19463373  8.90186177 -0.7572402 ]]\n",
      "Provera: A @ X =\n",
      "[[ 12. -27.  14. -17.  12.]\n",
      " [ 15.  30.  -9.  20. -13.]\n",
      " [  8.  15.  25.  33.  -5.]\n",
      " [ 23.  12.  -3.  12.  -1.]\n",
      " [ 14.  -3.  -5.  -1.  15.]]\n",
      "B =\n",
      "[[ 12. -27.  14. -17.  12.]\n",
      " [ 15.  30.  -9.  20. -13.]\n",
      " [  8.  15.  25.  33.  -5.]\n",
      " [ 23.  12.  -3.  12.  -1.]\n",
      " [ 14.  -3.  -5.  -1.  15.]]\n",
      "[[-1.62448284 -8.62217084  0.35349233 -8.75529326  2.10391823]\n",
      " [ 3.20807982  8.10890728  0.25809199  8.13494768 -2.24701874]\n",
      " [ 4.06424921 11.24853979  5.01916525 15.26886104 -2.2955707 ]\n",
      " [ 1.058165   -0.38768557 -1.53662692 -1.24239474  0.27597956]\n",
      " [ 3.43343879  7.44469457  1.19463373  8.90186177 -0.7572402 ]]\n"
     ]
    }
   ],
   "source": [
    "# Kod je ispravljen u nastavku\n",
    "def konjugovani_gradijenti(A, b, x0, tolerancija=1e-10, maks_iteracija=None):\n",
    "    m, n = A.shape\n",
    "    \n",
    "    # Inicijalizacija rešenja (vrednosti x)\n",
    "    x = np.array(x0)\n",
    "    \n",
    "    # Izračunavanje reziduala\n",
    "    r = b - A @ x\n",
    "    \n",
    "    # Kvadrat norme reziduala\n",
    "    nr2 = np.inner(r, r)\n",
    "    \n",
    "    # Postavljanje vektora pretrage na rezidual\n",
    "    v = np.copy(r)\n",
    "    \n",
    "    k = 0# Brojač iteracija\n",
    "\n",
    "    # Glavna iteracija metode konjugovanih gradijenata\n",
    "    while (k < n) and not(np.array_equal(v, 0)) and (nr2 > tolerancija):\n",
    "        Av = A @ v\n",
    "        t = nr2 / np.inner(v, Av)\n",
    "        x = x + t * v\n",
    "        r = r - t * Av\n",
    "        c = nr2\n",
    "        nr2 = np.inner(r, r)\n",
    "        if nr2 > tolerancija:\n",
    "            s = nr2 / c\n",
    "            v = r + s * v\n",
    "        k += 1\n",
    "    \n",
    "    return x\n",
    "\n",
    "def resi_AX_B(A, B, x0, tolerancija=1e-10, maks_iteracija=None):\n",
    "    # Inicijalizacija matrice rešenja X\n",
    "    X = np.zeros_like(B)\n",
    "\n",
    "    # Primena metode konjugovanih gradijenata na svaku kolonu matrice B\n",
    "    for i in range(B.shape[1]):\n",
    "        X[:, i] = konjugovani_gradijenti(A, B[:, i], x0, tolerancija, maks_iteracija)\n",
    "\n",
    "    return X\n",
    "\n",
    "# Testiranje funkcije resi_AX_B\n",
    "A = np.array([[10., 1, 2, 3, 4],\n",
    "              [1, 9, -1, 2, -3],\n",
    "              [2, -1, 7, 3, -5],\n",
    "              [3, 2, 3, 12, -1],\n",
    "              [4, -3, -5, -1, 15]])\n",
    "\n",
    "B = np.array([[12., -27, 14, -17, 12],\n",
    "              [15, 30, -9, 20, -13],\n",
    "              [8, 15, 25, 33, -5],\n",
    "              [23, 12, -3, 12, -1],\n",
    "              [14, -3, -5, -1, 15]])\n",
    "\n",
    "n, _ = A.shape\n",
    "x0 = np.zeros(n)\n",
    "\n",
    "X = resi_AX_B(A, B, x0)\n",
    "print(\"Rešenje X:\")\n",
    "print(X)\n",
    "\n",
    "\n",
    "print(\"Provera: A @ X =\")\n",
    "print(A @ X)\n",
    "print(\"B =\")\n",
    "print(B)\n",
    "\n",
    "print(np.linalg.solve(A,B))"
   ]
  },
  {
   "cell_type": "markdown",
   "metadata": {},
   "source": [
    "<div class=\"alert alert-block alert-info\">\n",
    "<b> Не решава све системе одједном већ секвенцијално један по један. \n",
    "    \n",
    "5/10 поена</b> Да би све операције радиле како очекујемо увек убаците једну децималну тачку у неки елемент матрице којом радите. У супротном Python хоће да бродкастује резултате тако да буду поново целобројног типа.\n",
    "    </div>"
   ]
  },
  {
   "cell_type": "markdown",
   "metadata": {},
   "source": [
    "<b><span style=\"font-size: 44px; color: purple;\">Ispravak</span></b>"
   ]
  },
  {
   "cell_type": "code",
   "execution_count": 12,
   "metadata": {
    "scrolled": true
   },
   "outputs": [
    {
     "name": "stdout",
     "output_type": "stream",
     "text": [
      "Rešenje X:\n",
      "[[-1.62448284 -8.62217084  0.35349233 -8.75529326  2.10391823]\n",
      " [ 3.20807982  8.10890728  0.25809199  8.13494768 -2.24701874]\n",
      " [ 4.06424921 11.24853979  5.01916525 15.26886104 -2.2955707 ]\n",
      " [ 1.058165   -0.38768557 -1.53662692 -1.24239474  0.27597956]\n",
      " [ 3.43343879  7.44469457  1.19463373  8.90186177 -0.7572402 ]]\n",
      "Provera: A @ X =\n",
      "[[ 12. -27.  14. -17.  12.]\n",
      " [ 15.  30.  -9.  20. -13.]\n",
      " [  8.  15.  25.  33.  -5.]\n",
      " [ 23.  12.  -3.  12.  -1.]\n",
      " [ 14.  -3.  -5.  -1.  15.]]\n",
      "B =\n",
      "[[ 12. -27.  14. -17.  12.]\n",
      " [ 15.  30.  -9.  20. -13.]\n",
      " [  8.  15.  25.  33.  -5.]\n",
      " [ 23.  12.  -3.  12.  -1.]\n",
      " [ 14.  -3.  -5.  -1.  15.]]\n",
      "[[-1.62448284 -8.62217084  0.35349233 -8.75529326  2.10391823]\n",
      " [ 3.20807982  8.10890728  0.25809199  8.13494768 -2.24701874]\n",
      " [ 4.06424921 11.24853979  5.01916525 15.26886104 -2.2955707 ]\n",
      " [ 1.058165   -0.38768557 -1.53662692 -1.24239474  0.27597956]\n",
      " [ 3.43343879  7.44469457  1.19463373  8.90186177 -0.7572402 ]]\n"
     ]
    }
   ],
   "source": [
    "def konjugovani_gradijenti(A, B, x0, tolerancija=1e-10, maks_iteracija=None):\n",
    "    # Inicijalizacija rešenja (vrednosti x)\n",
    "    x = np.array(x0)\n",
    "    \n",
    "    # Izračunavanje reziduala\n",
    "    R = B - A @ x\n",
    "    \n",
    "    # Kvadrat norme reziduala\n",
    "    NR2 = np.sum(R ** 2)#--------izmena\n",
    "\n",
    "    # Postavljanje vektora pretrage na rezidual\n",
    "    V = np.copy(R)\n",
    "    \n",
    "    k = 0  # Brojač iteracija\n",
    "\n",
    "    # Glavna iteracija metode konjugovanih gradijenata\n",
    "    while (k < A.shape[0]) and not np.allclose(V, 0) and (NR2 > tolerancija):#----------izmena\n",
    "        AV = A @ V\n",
    "        T = NR2 / np.sum(V * AV)\n",
    "        x = x + T * V\n",
    "        R = R - T * AV\n",
    "        C = NR2\n",
    "        NR2 = np.sum(R ** 2)\n",
    "        if NR2 > tolerancija:\n",
    "            S = NR2 / C\n",
    "            V = R + S * V\n",
    "        k += 1\n",
    "    \n",
    "    return x\n",
    "\n",
    "def resi_AX_B(A, B, x0, tolerancija=1e-10, maks_iteracija=None):\n",
    "    # Primena metode konjugovanih gradijenata na matricu A i matricu B\n",
    "    X = konjugovani_gradijenti(A, B, x0, tolerancija, maks_iteracija)# jedan poziv\n",
    "    return X\n",
    "\n",
    "# Testiranje funkcije resi_AX_B\n",
    "A = np.array([[10., 1, 2, 3, 4],\n",
    "              [1, 9, -1, 2, -3],\n",
    "              [2, -1, 7, 3, -5],\n",
    "              [3, 2, 3, 12, -1],\n",
    "              [4, -3, -5, -1, 15]])\n",
    "\n",
    "B = np.array([[12., -27, 14, -17, 12],\n",
    "              [15, 30, -9, 20, -13],\n",
    "              [8, 15, 25, 33, -5],\n",
    "              [23, 12, -3, 12, -1],\n",
    "              [14, -3, -5, -1, 15]])\n",
    "\n",
    "n, _ = A.shape\n",
    "x0 = np.zeros(n)\n",
    "\n",
    "X = resi_AX_B(A, B, x0)\n",
    "print(\"Rešenje X:\")\n",
    "print(X)\n",
    "\n",
    "print(\"Provera: A @ X =\")\n",
    "print(A @ X)\n",
    "print(\"B =\")\n",
    "print(B)\n",
    "\n",
    "print(np.linalg.solve(A,B))\n"
   ]
  },
  {
   "cell_type": "markdown",
   "metadata": {},
   "source": [
    "<div class=\"alert alert-block alert-info\">\n",
    "<b> Тачно \n",
    "    \n",
    "10/10 поена</b> Треба предвидети да матрица $B$ не мора да буде квадратна, али то није кључно.\n",
    "    </div>"
   ]
  },
  {
   "cell_type": "markdown",
   "metadata": {},
   "source": [
    "<div class=\"alert alert-block alert-info\">\n",
    "<b> Укупно 40/50 поена</b> </div> "
   ]
  }
 ],
 "metadata": {
  "kernelspec": {
   "display_name": "Python 3",
   "language": "python",
   "name": "python3"
  },
  "language_info": {
   "codemirror_mode": {
    "name": "ipython",
    "version": 3
   },
   "file_extension": ".py",
   "mimetype": "text/x-python",
   "name": "python",
   "nbconvert_exporter": "python",
   "pygments_lexer": "ipython3",
   "version": "3.7.16"
  }
 },
 "nbformat": 4,
 "nbformat_minor": 4
}
