{
 "cells": [
  {
   "cell_type": "markdown",
   "metadata": {},
   "source": [
    "# Мататематички методи за машинско учење 2023\n",
    "## Домаћи задатак број 2"
   ]
  },
  {
   "cell_type": "markdown",
   "metadata": {},
   "source": [
    "<div class=\"alert alert-block alert-danger\">\n",
    "<b>Име и презиме студента:</b> Никола Петровић\n",
    "\n",
    "<b>Број индекса:</b> 1466\n",
    "    \n",
    "</div>    "
   ]
  },
  {
   "cell_type": "markdown",
   "metadata": {},
   "source": [
    "<div class=\"alert alert-block alert-info\">\n",
    "<b>Упутство за израду и предају домаћег задатака: </b> \n",
    "    \n",
    "    1. Пре почетка израде промените име датотеке у 02Domaci_Ime_Prezime. (убаците своје име и презиме) \n",
    "    2. Попуните ћелију испод наслова одговарајућим подацима. \n",
    "    1. Употреба ћирилице није обавезна за предају домаћег задатка.\n",
    "    4. За решавање задатака, уколико је потребно, отворите испод текста задатка додатне ћелије за уписивање текстуалног одговора (Markdown) или програмског кода (Code).\n",
    "    1. Сва израчунавања, уколико је потребно, вршити у Python-у.\n",
    "    5. Након завршетка израде решења домаћег Notebook документ сачувати у pdf формату и проследити га наставнику. То можете да урадите или кроз Teams или на мејл адресу jovana.dzunic@elfak.ni.ac.rs\n",
    "\n",
    "</div> "
   ]
  },
  {
   "cell_type": "code",
   "execution_count": 2,
   "metadata": {},
   "outputs": [],
   "source": [
    "import numpy as np\n",
    "import numpy.random as rndm\n",
    "import matplotlib as mplb\n",
    "import matplotlib.pyplot as plt"
   ]
  },
  {
   "cell_type": "markdown",
   "metadata": {},
   "source": [
    "**Задатак 1.** Проверити ортогоналност матрице $A=\\begin{bmatrix} I_n&O_{n\\times m}\\\\O_{m\\times n}&Q\\end{bmatrix},$ где је $Q\\in\\mathcal{M}_{m\\times m}$ ортогонална матрица, $I_n\\in\\mathcal{M}_{n\\times n}$ јединична матрица и $O$ нула-матрице одговарајућих димензија.\n",
    "\n",
    "(5 поена)"
   ]
  },
  {
   "cell_type": "code",
   "execution_count": 2,
   "metadata": {},
   "outputs": [
    {
     "name": "stdout",
     "output_type": "stream",
     "text": [
      "Matrica A_orthogonal je ortogonalna.\n",
      "Matrica A_not_orthogonal nije ortogonalna.\n"
     ]
    }
   ],
   "source": [
    "# matrica je ortogonalna ako je njena inverzna matrica jednaka transponovanoj matrici, proizvod matrice i njene transponovane matrice mora biti jedinicnna matrica.\n",
    "def is_orthogonal(matrix):\n",
    "    product = np.dot(matrix, matrix.T)\n",
    "    identity = np.identity(matrix.shape[0])\n",
    "    return np.allclose(product, identity)\n",
    "\n",
    "# Definisanje dimenzija\n",
    "n = 3\n",
    "m = 2\n",
    "\n",
    "# Kreiranje matrica I_n, O_nxm, O_mxn, i Q\n",
    "I_n = np.identity(n)\n",
    "O_nxm = np.zeros((n, m))\n",
    "O_mxn = np.zeros((m, n))\n",
    "Q_orthogonal = np.array([[1, 0], [0, -1]])  # Primer ortogonalne matrice 2x2\n",
    "Q_not_orthogonal = np.array([[2, 1], [1, 2]])  # Primer matrice koja nije ortogonalna\n",
    "\n",
    "# Kreiranje matrice A koristeći blok-matricu sa ortogonalnom matricom Q\n",
    "A_orthogonal = np.block([[I_n, O_nxm], [O_mxn, Q_orthogonal]])\n",
    "\n",
    "# Kreiranje matrice A koristeći blok-matricu sa matricom Q koja nije ortogonalna\n",
    "A_not_orthogonal = np.block([[I_n, O_nxm], [O_mxn, Q_not_orthogonal]])\n",
    "\n",
    "# Provera ortogonalnosti\n",
    "orthogonal = is_orthogonal(A_orthogonal)\n",
    "print(f\"Matrica A_orthogonal {'je' if orthogonal else 'nije'} ortogonalna.\")\n",
    "\n",
    "orthogonal = is_orthogonal(A_not_orthogonal)\n",
    "print(f\"Matrica A_not_orthogonal {'je' if orthogonal else 'nije'} ortogonalna.\")"
   ]
  },
  {
   "cell_type": "markdown",
   "metadata": {},
   "source": [
    "<div class=\"alert alert-block alert-info\">\n",
    "<b> Тачно. Недостаје теоријска анализа у општем случају.\n",
    "    \n",
    "2/5 поена </b> "
   ]
  },
  {
   "cell_type": "markdown",
   "metadata": {},
   "source": [
    "<b><span style=\"font-size: 44px; color: purple;\">Ispravak</span></b><b>\n",
    " додата теоријска анализа у наставку: </b>\n",
    "\n",
    "Да бисмо проверили ортогоналност матрице A, треба да израчунамо производ $A A^T$. Уколико је овај производ јединична матрица, матрица A је ортогонална.\n",
    "\n",
    "$A A^T = \\begin{bmatrix} I_n&O_{n\\times m}\\\\O_{m\\times n}&Q\\end{bmatrix} \\begin{bmatrix} I_n&O_{n\\times m}\\\\O_{m\\times n}&Q^T\\end{bmatrix}$\n",
    "\n",
    "Користећи својства блок матрица, добијамо:\n",
    "\n",
    "$A A^T = \\begin{bmatrix} I_n & O_{n\\times m} Q^T \\\\ Q O_{n\\times m} & Q Q^T\\end{bmatrix}$\n",
    "\n",
    "Заменимо нула-матрице и својства јединичне матрице:\n",
    "\n",
    "$A A^T = \\begin{bmatrix} I_n & O_{n\\times m} \\\\ O_{m\\times n} & I_m\\end{bmatrix}$\n",
    "\n",
    "Ова матрица је јединична матрица димензија $(n + m) \\times (n + m)$, што значи да је матрица A ортогонална у општем случају када је Q ортогонална."
   ]
  },
  {
   "cell_type": "markdown",
   "metadata": {},
   "source": [
    "<div class=\"alert alert-block alert-info\">\n",
    "<b> Тачно. \n",
    "    \n",
    "5/5 поена </b> "
   ]
  },
  {
   "cell_type": "markdown",
   "metadata": {},
   "source": [
    "**Задатак 2.** Дописати недостајуће елементе матрица $A,B$ и $C$  тако да је матрица $A$ симетрична, $B$ косо-симетрична и $C$ ортогонална.\n",
    "\t$$A=\\begin{bmatrix} 5&3&-1\\\\&0&\\\\&2&1\\end{bmatrix},\\qquad\n",
    "\tB=\\begin{bmatrix} &&1\\\\-1&&\\\\&1&\\end{bmatrix},\\qquad\n",
    "\tC=\\dfrac{1}{\\sqrt2}\\begin{bmatrix}1&1\\\\1& \\end{bmatrix}.$$\n",
    "\n",
    "(5 поена)"
   ]
  },
  {
   "cell_type": "markdown",
   "metadata": {},
   "source": [
    "<b> Ispravka</b>"
   ]
  },
  {
   "cell_type": "code",
   "execution_count": 37,
   "metadata": {},
   "outputs": [
    {
     "name": "stdout",
     "output_type": "stream",
     "text": [
      "A:\n",
      "[[ 5.  3. -1.]\n",
      " [ 3.  0.  2.]\n",
      " [-1.  2.  1.]]\n",
      "Matrica A je simetricna.\n",
      "\n",
      "B:\n",
      "[[ 0.  1.  1.]\n",
      " [-1.  0. -1.]\n",
      " [-1.  1.  0.]]\n",
      "Matrica B je kososimetricna.\n",
      "\n",
      "Matrica C:\n",
      "[[ 0.70710678  0.70710678]\n",
      " [ 0.70710678 -0.70710678]]\n",
      "Matrica C je ortogonalna.\n"
     ]
    }
   ],
   "source": [
    "# Matrica je simetricna ako je jednaka svojoj transponovanoj matrici\n",
    "# Matrica je kososimetricna ako je njen negativ jednak njenoj transponovanoj matrici, elementi su simetricni u odnosu na glavnu dijagonalu sa suprotnim znakovima i glavna dijagonala kososimetricne matrice mora biti nula\n",
    "# Matrica je ortogonalna ako je matrica koja joj je inverzna jednaka transponovanoj matrici, proizvod matrice i njene transponovane matrice mora biti jedinicna matrica\n",
    "\n",
    "# Inicijalne matrice\n",
    "A = np.array([[5, 3, -1],\n",
    "              [np.nan, 0, np.nan],\n",
    "              [np.nan, 2, 1]])\n",
    "\n",
    "B = np.array([[np.nan, np.nan, 1],\n",
    "              [-1, np.nan, np.nan],\n",
    "              [np.nan, 1, np.nan]])\n",
    "\n",
    "C = np.array([[1 / np.sqrt(2),1 / np.sqrt(2)],\n",
    "               [1 / np.sqrt(2), np.nan]],\n",
    "                 dtype=float)\n",
    "\n",
    "# Dopunjavanje simetrične matrice A\n",
    "for i in range(A.shape[0]):\n",
    "    for j in range(A.shape[1]):\n",
    "        if np.isnan(A[i, j]):\n",
    "            A[i, j] = A[j, i]\n",
    "\n",
    "# Dopunjavanje koso-simetrične matrice B\n",
    "for i in range(B.shape[0]):\n",
    "    for j in range(B.shape[1]):\n",
    "        if np.isnan(B[i, j]):\n",
    "            if i == j:\n",
    "                B[i, j] = 0\n",
    "            else:\n",
    "                B[i, j] = -B[j, i]\n",
    "\n",
    "# Popunjavanje nedostajućih elemenata za ortogonalnu matricu C\n",
    "# Potrebno je izračunati vrednost elementa C[1, 1] tako da proizvod C*C.T bude jedinična matrica. \n",
    "# Da bismo to postigli, možemo koristiti činjenicu da su kolone ortogonalne matrice međusobno ortogonalne.\n",
    "C[1, 1] = -C[0, 1]\n",
    "\n",
    "# Ispis matrica A, B i C\n",
    "print(\"A:\")\n",
    "print(A)\n",
    "# Provera da li je matrica simetricna\n",
    "if np.allclose(A, A.T):\n",
    "    print(\"Matrica A je simetricna.\")\n",
    "else:\n",
    "    print(\"Matrica A nije simetricna.\")\n",
    "print(\"\\nB:\")\n",
    "print(B)\n",
    "if np.allclose(B, -B.T):\n",
    "    print(\"Matrica B je kososimetricna.\")\n",
    "else:\n",
    "    print(\"Matrica B nije kososimetricna.\")\n",
    "\n",
    "print(\"\\nMatrica C:\")\n",
    "print(C)\n",
    "\n",
    "# Provera ortogonalnosti matrice C\n",
    "if np.allclose(C.T @ C, np.identity(C.shape[1])):\n",
    "    print(\"Matrica C je ortogonalna.\")\n",
    "else:\n",
    "    print(\"Matrica C nije ortogonalna.\")\n"
   ]
  },
  {
   "cell_type": "markdown",
   "metadata": {},
   "source": [
    "<div class=\"alert alert-block alert-info\">\n",
    "<b> Скоро тачно. \n",
    "    \n",
    "3/5 поена </b> \n",
    "Допуна до матрице ортогоналних колона није добра. То што не могу колоне да се нормирају је други проблем, моја грешка у куцању. Променила сам фактор испред матрице $C$ за тачну поставку.</div> "
   ]
  },
  {
   "cell_type": "markdown",
   "metadata": {},
   "source": [
    "<div class=\"alert alert-block alert-info\">\n",
    "<b> Тачно. \n",
    "    \n",
    "5/5 поена </b> "
   ]
  },
  {
   "cell_type": "markdown",
   "metadata": {},
   "source": [
    "**Задатак 3.** Написати програмски код којим се реализује Штрасенов алгоритам множења две матрице. Нека је $n=2^p$ и $A,B\\in\\mathcal{M}_{n\\times n}.$ Уколико је $n_{\\min}=2^d,\\ d\\leq p,$ онда алгоритам израчунава производ $C=AB$ по следећем правилу:\n",
    "```\n",
    "    def C=strass(A,B,n,n_min):\n",
    "        if n<=n_min\n",
    "            C=AB na klasičan način\n",
    "        else\n",
    "            m=n/2\n",
    "            M1=strass(A[:m,:m]+A[m:,m:],B[:m,:m]+B[m:,m:])\n",
    "            M2=strass(A[m:,:m]+A[m:,m:],B[:m,:m])\n",
    "            M3=strass(A[:m,:m],B[:m,m:]-B[m:,m:])\n",
    "            M4=strass(A[m:,m:],B[m:,:m]-B[:m,:m])\n",
    "            M5=strass(A[:m,:m]+A[:m,m:],B[m:,m:])\n",
    "            M6=strass(A[m:,:m]-A[:m,:m],B[:m,:m]+B[:m,m:])\n",
    "            M7=strass(A[:m,m:]-A[m:,m:],B[m:,:m]+B[m:,m:])\n",
    "            C[:m,:m]=M1+M4-M5+M7\n",
    "            C[:m,m:]=M3+M5\n",
    "            C[m:,:m]=M2+M4\n",
    "            C[m:,m:]=M1-M2+M3+M6\n",
    "```\n",
    "\n",
    "(10 поена)"
   ]
  },
  {
   "cell_type": "code",
   "execution_count": 5,
   "metadata": {},
   "outputs": [],
   "source": [
    "import time"
   ]
  },
  {
   "cell_type": "code",
   "execution_count": 6,
   "metadata": {},
   "outputs": [],
   "source": [
    "def strass(A, B, n, n_min):\n",
    "    if n <= n_min:\n",
    "        return A @ B  # Klasično množenje matrica\n",
    "    else:\n",
    "        m = n // 2\n",
    "        \n",
    "        # Podela matrica A i B na četvrtine\n",
    "        A11, A12, A21, A22 = A[:m, :m], A[:m, m:], A[m:, :m], A[m:, m:]\n",
    "        B11, B12, B21, B22 = B[:m, :m], B[:m, m:], B[m:, :m], B[m:, m:]\n",
    "\n",
    "        M1 = strass(A11 + A22, B11 + B22, m, n_min)\n",
    "        M2 = strass(A21 + A22, B11, m, n_min)\n",
    "        M3 = strass(A11, B12 - B22, m, n_min)\n",
    "        M4 = strass(A22, B21 - B11, m, n_min)\n",
    "        M5 = strass(A11 + A12, B22, m, n_min)\n",
    "        M6 = strass(A21 - A11, B11 + B12, m, n_min)\n",
    "        M7 = strass(A12 - A22, B21 + B22, m, n_min)\n",
    "\n",
    "        C = np.empty((n, n), dtype=A.dtype)\n",
    "        C[:m, :m] = M1 + M4 - M5 + M7\n",
    "        C[:m, m:] = M3 + M5\n",
    "        C[m:, :m] = M2 + M4\n",
    "        C[m:, m:] = M1 - M2 + M3 + M6\n",
    "\n",
    "        return C"
   ]
  },
  {
   "cell_type": "code",
   "execution_count": 11,
   "metadata": {},
   "outputs": [
    {
     "name": "stdout",
     "output_type": "stream",
     "text": [
      "Vreme izvršavanja za Štrassenov algoritam: 1.497885 sekundi\n",
      "\n"
     ]
    }
   ],
   "source": [
    "# Klasično množenje matrica\n",
    "A = np.random.rand(2048, 2048)\n",
    "B = np.random.rand(2048, 2048)\n",
    "\n",
    "# Štrassenov algoritam\n",
    "n = A.shape[0]\n",
    "n_min = 64  # Podešavanje granice za prelazak na klasično množenje matrica\n",
    "\n",
    "start_time = time.time()\n",
    "C_strass = strass(A, B, n, n_min)\n",
    "strassen_time = time.time() - start_time\n",
    "print(f\"Vreme izvršavanja za Štrassenov algoritam: {strassen_time:.6f} sekundi\\n\")"
   ]
  },
  {
   "cell_type": "code",
   "execution_count": 12,
   "metadata": {},
   "outputs": [
    {
     "name": "stdout",
     "output_type": "stream",
     "text": [
      "Vreme izvršavanja za NumPy množenje (@ operator): 0.116247 sekundi\n",
      "\n",
      "Razlika u vremenu izvršavanja (Štrassenov algoritam - NumPy množenje): 1.381638 sekundi\n"
     ]
    },
    {
     "data": {
      "text/plain": [
       "False"
      ]
     },
     "execution_count": 12,
     "metadata": {},
     "output_type": "execute_result"
    }
   ],
   "source": [
    "# NumPy @ množenje\n",
    "start_time = time.time()\n",
    "C_numpy = A @ B\n",
    "numpy_time = time.time() - start_time\n",
    "print(f\"Vreme izvršavanja za NumPy množenje (@ operator): {numpy_time:.6f} sekundi\\n\")\n",
    "\n",
    "# Poređenje vremena izvršavanja\n",
    "print(f\"Razlika u vremenu izvršavanja (Štrassenov algoritam - NumPy množenje): {strassen_time - numpy_time:.6f} sekundi\")\n",
    "# Matrice ne štampam zbog velicine\n",
    "np.any(np.round(C_strass-C_numpy,2))"
   ]
  },
  {
   "cell_type": "markdown",
   "metadata": {},
   "source": [
    "<div class=\"alert alert-block alert-info\">\n",
    "<b> Тачно.\n",
    "    \n",
    "10/10 поена </b> \n",
    "Проблем са Штрасеновим алгоритмом је рекурзија која направи експлозију у потребној меморији. </div>"
   ]
  },
  {
   "cell_type": "markdown",
   "metadata": {},
   "source": [
    "**Задатак 4.** Прилагодити претходни алгоритам тако да може да се користи за множење две квадратне матрице произвољног реда. То значи, уколико су матрице непарне димензије допунити их нула врстом и колоном до парне димензије.\n",
    "\n",
    "(10 поена)"
   ]
  },
  {
   "cell_type": "code",
   "execution_count": 13,
   "metadata": {},
   "outputs": [
    {
     "name": "stdout",
     "output_type": "stream",
     "text": [
      "Vreme izvršavanja za Strassenov algoritam: 10.745615 sekundi\n",
      "\n",
      "Vreme izvršavanja za NumPy množenje (@ operator): 0.125196 sekundi\n",
      "\n",
      "Razlika u vremenu izvršavanja (Štrassenov algoritam - NumPy množenje): 10.620418 sekundi\n"
     ]
    }
   ],
   "source": [
    "# Potrebno je dopuniti matricu do najblizeg broja stepena dvojke\n",
    "def dopuni_matricu(A):\n",
    "    n = A.shape[0]\n",
    "    dopunjena_velicina = 2 ** int(np.ceil(np.log2(n)))\n",
    "    if n == dopunjena_velicina:\n",
    "        return A\n",
    "    else:\n",
    "        dopunjena_A = np.zeros((dopunjena_velicina, dopunjena_velicina), dtype=A.dtype)\n",
    "        dopunjena_A[:n, :n] = A\n",
    "        return dopunjena_A\n",
    "\n",
    "def strassen(A, B, n, n_min):\n",
    "    if n <= n_min:\n",
    "        return A @ B\n",
    "    else:\n",
    "        m = n // 2\n",
    "\n",
    "        A11, A12, A21, A22 = A[:m, :m], A[:m, m:], A[m:, :m], A[m:, m:]\n",
    "        B11, B12, B21, B22 = B[:m, :m], B[:m, m:], B[m:, :m], B[m:, m:]\n",
    "\n",
    "        M1 = strassen(A11 + A22, B11 + B22, m, n_min)\n",
    "        M2 = strassen(A21 + A22, B11, m, n_min)\n",
    "        M3 = strassen(A11, B12 - B22, m, n_min)\n",
    "        M4 = strassen(A22, B21 - B11, m, n_min)\n",
    "        M5 = strassen(A11 + A12, B22, m, n_min)\n",
    "        M6 = strassen(A21 - A11, B11 + B12, m, n_min)\n",
    "        M7 = strassen(A12 - A22, B21 + B22, m, n_min)\n",
    "\n",
    "        C = np.empty((n, n), dtype=A.dtype)\n",
    "        C[:m, :m] = M1 + M4 - M5 + M7\n",
    "        C[:m, m:] = M3 + M5\n",
    "        C[m:, :m] = M2 + M4\n",
    "        C[m:, m:] = M1 - M2 + M3 + M6\n",
    "\n",
    "        return C\n",
    "\n",
    "# Generiši slučajne matrice\n",
    "A = np.random.rand(2049, 2049)\n",
    "B = np.random.rand(2049, 2049)\n",
    "\n",
    "# Dopuni matrice nulama\n",
    "dopunjena_A = dopuni_matricu(A)\n",
    "dopunjena_B = dopuni_matricu(B)\n",
    "\n",
    "# Strassenov algoritam\n",
    "n = dopunjena_A.shape[0]\n",
    "n_min = 64\n",
    "\n",
    "start_time = time.time()\n",
    "dopunjena_C_strass = strassen(dopunjena_A, dopunjena_B, n, n_min)\n",
    "strassen_vreme = time.time() - start_time\n",
    "print(f\"Vreme izvršavanja za Strassenov algoritam: {strassen_vreme:.6f} sekundi\\n\")\n",
    "\n",
    "# Ukloni dopunu\n",
    "C_strass = dopunjena_C_strass[:A.shape[0], :A.shape[1]]\n",
    "\n",
    "# NumPy @ množenje\n",
    "start_time = time.time()\n",
    "C_numpy = A @ B\n",
    "numpy_vreme = time.time() - start_time\n",
    "print(f\"Vreme izvršavanja za NumPy množenje (@ operator): {numpy_vreme:.6f} sekundi\\n\")\n",
    "\n",
    "# Uporedi vremena izvršavanja\n",
    "print(f\"Razlika u vremenu izvršavanja (Štrassenov algoritam - NumPy množenje): {strassen_vreme - numpy_vreme:.6f} sekundi\")\n",
    "# Matrice ne štampam zbog velicine"
   ]
  },
  {
   "cell_type": "markdown",
   "metadata": {},
   "source": [
    "<div class=\"alert alert-block alert-info\">\n",
    "<b> Тачно.\n",
    "    \n",
    "10/10 поена </b> </div>"
   ]
  },
  {
   "cell_type": "markdown",
   "metadata": {},
   "source": [
    "**Задатак 5.** За примере 2.7.3 и 2.7.4 из књиге, на конкретним примерима матрица и вектора малих димезија проверити формуле о сечењима одговарајућих тензорских производа.\n",
    "\n",
    "(10 поена)"
   ]
  },
  {
   "cell_type": "markdown",
   "metadata": {},
   "source": []
  },
  {
   "cell_type": "markdown",
   "metadata": {},
   "source": [
    "<b> Ispravak </b>"
   ]
  },
  {
   "cell_type": "code",
   "execution_count": 28,
   "metadata": {
    "scrolled": true
   },
   "outputs": [
    {
     "name": "stdout",
     "output_type": "stream",
     "text": [
      "Tenzorski proizvod A x vektor:\n",
      "[[[ 5  6]\n",
      "  [10 12]]\n",
      "\n",
      " [[15 18]\n",
      "  [20 24]]]\n",
      "\n",
      "Dimenzije tenzorskog proizvoda A x vektor:\n",
      "(2, 2, 2)\n",
      "\n",
      "Horizontalno sečenje tenzorskog proizvoda A x vektor:\n",
      "[15 20]\n",
      "\n",
      "Vertikalno sečenje tenzorskog proizvoda A x vektor:\n",
      "[10 20]\n",
      "\n",
      "Bočno sečenje tenzorskog proizvoda A x vektor:\n",
      "[10 12]\n"
     ]
    }
   ],
   "source": [
    "# definisanje matrice A dimenzije 2x2\n",
    "A_matrica = np.array([[1, 2], [3, 4]])\n",
    "\n",
    "# definisanje vektora vektor dimenzije 2x1\n",
    "vektor = np.array([5, 6])\n",
    "\n",
    "# definisanje matrice B dimenzije 2x3\n",
    "B_matrica = np.array([[7, 8, 9], [10, 11, 12]])\n",
    "\n",
    "# izračunavanje tenzorskog proizvoda A x vektor\n",
    "Avektor_tenzor = np.tensordot(A_matrica, vektor, axes=0)\n",
    "print(\"Tenzorski proizvod A x vektor:\")\n",
    "print(Avektor_tenzor)\n",
    "print(\"\\nDimenzije tenzorskog proizvoda A x vektor:\")\n",
    "print(Avektor_tenzor.shape)\n",
    "\n",
    "print(\"\\nHorizontalno sečenje tenzorskog proizvoda A x vektor:\")\n",
    "print(Avektor_tenzor[1,:,0])\n",
    "\n",
    "print(\"\\nVertikalno sečenje tenzorskog proizvoda A x vektor:\")\n",
    "print(Avektor_tenzor[:,1,0])\n",
    "\n",
    "print(\"\\nBočno sečenje tenzorskog proizvoda A x vektor:\")\n",
    "print(Avektor_tenzor[0,1,:])  \n"
   ]
  },
  {
   "cell_type": "code",
   "execution_count": 29,
   "metadata": {},
   "outputs": [
    {
     "name": "stdout",
     "output_type": "stream",
     "text": [
      "\n",
      "Tenzorski proizvod vektor x A:\n",
      "[[[ 5 10]\n",
      "  [15 20]]\n",
      "\n",
      " [[ 6 12]\n",
      "  [18 24]]]\n",
      "\n",
      "Dimenzije tenzorskog proizvoda vektor x A:\n",
      "(2, 2, 2)\n",
      "\n",
      "Horizontalno sečenje tenzorskog proizvoda vektor x A:\n",
      "[ 5 15]\n",
      "\n",
      "Vertikalno sečenje tenzorskog proizvoda vektor x A:\n",
      "[5 6]\n",
      "\n",
      "Bocno sečenje tenzorskog proizvoda vektor x A:\n",
      "[ 5 10]\n"
     ]
    }
   ],
   "source": [
    "# izračunavanje tenzorskog proizvoda vektor x A\n",
    "vektorA_tenzor = np.tensordot(vektor, A_matrica, axes=0)\n",
    "print(\"\\nTenzorski proizvod vektor x A:\")\n",
    "print(vektorA_tenzor)\n",
    "print(\"\\nDimenzije tenzorskog proizvoda vektor x A:\")\n",
    "print(vektorA_tenzor.shape)\n",
    "\n",
    "print(\"\\nHorizontalno sečenje tenzorskog proizvoda vektor x A:\")\n",
    "print(vektorA_tenzor[0,:,0])  # prvi elementi po dimenzijama 0 i 2\n",
    "\n",
    "print(\"\\nVertikalno sečenje tenzorskog proizvoda vektor x A:\")\n",
    "print(vektorA_tenzor[:,0,0])  # prvi elementi po dimenzijama 0 i 1\n",
    "\n",
    "print(\"\\nBocno sečenje tenzorskog proizvoda vektor x A:\")\n",
    "print(vektorA_tenzor[0,0,:])  # prvi elementi po dimenzijama 0 i 1"
   ]
  },
  {
   "cell_type": "code",
   "execution_count": 30,
   "metadata": {},
   "outputs": [
    {
     "name": "stdout",
     "output_type": "stream",
     "text": [
      "\n",
      "Tenzorski proizvod A x B:\n",
      "[[[[ 7  8  9]\n",
      "   [10 11 12]]\n",
      "\n",
      "  [[14 16 18]\n",
      "   [20 22 24]]]\n",
      "\n",
      "\n",
      " [[[21 24 27]\n",
      "   [30 33 36]]\n",
      "\n",
      "  [[28 32 36]\n",
      "   [40 44 48]]]]\n",
      "\n",
      "Dimenzije tenzorskog proizvoda A x B:\n",
      "(2, 2, 2, 3)\n",
      "\n",
      "Horizontalno sečenje tenzorskog proizvoda A x B:\n",
      "[[10 11 12]\n",
      " [20 22 24]]\n",
      "\n",
      "Vertikalno sečenje tenzorskog proizvoda A x B:\n",
      "[[20 22 24]\n",
      " [40 44 48]]\n",
      "\n",
      "Bocno sečenje tenzorskog proizvoda A x B:\n",
      "[[14 16 18]\n",
      " [20 22 24]]\n"
     ]
    }
   ],
   "source": [
    "# izračunavanje tenzorskog proizvoda A x B\n",
    "AB_tenzor = np.tensordot(A_matrica, B_matrica, axes=0)\n",
    "print(\"\\nTenzorski proizvod A x B:\")\n",
    "print(AB_tenzor)\n",
    "print(\"\\nDimenzije tenzorskog proizvoda A x B:\")\n",
    "print(AB_tenzor.shape)\n",
    "\n",
    "print(\"\\nHorizontalno sečenje tenzorskog proizvoda A x B:\")\n",
    "print(AB_tenzor[0,:,1]) \n",
    "\n",
    "print(\"\\nVertikalno sečenje tenzorskog proizvoda A x B:\")\n",
    "print(AB_tenzor[:,1,1]) \n",
    "\n",
    "print(\"\\nBocno sečenje tenzorskog proizvoda A x B:\")\n",
    "print(AB_tenzor[0,1,:]) "
   ]
  },
  {
   "cell_type": "markdown",
   "metadata": {},
   "source": [
    "<div class=\"alert alert-block alert-info\">\n",
    "<b> Требало је да проверите сечења резултата ових тензорских производа.\n",
    "    \n",
    "3/10 поена </b> \n",
    "</div>"
   ]
  },
  {
   "cell_type": "markdown",
   "metadata": {},
   "source": [
    "<div class=\"alert alert-block alert-info\">\n",
    "<b> Тачно. \n",
    "    \n",
    "10/10 поена </b> "
   ]
  },
  {
   "cell_type": "markdown",
   "metadata": {},
   "source": [
    "<div class=\"alert alert-block alert-info\">\n",
    "<b> Укупно\n",
    "    \n",
    "40/40 поена </b> \n",
    "</div>"
   ]
  }
 ],
 "metadata": {
  "kernelspec": {
   "display_name": "Python 3",
   "language": "python",
   "name": "python3"
  },
  "language_info": {
   "codemirror_mode": {
    "name": "ipython",
    "version": 3
   },
   "file_extension": ".py",
   "mimetype": "text/x-python",
   "name": "python",
   "nbconvert_exporter": "python",
   "pygments_lexer": "ipython3",
   "version": "3.7.16"
  }
 },
 "nbformat": 4,
 "nbformat_minor": 4
}
