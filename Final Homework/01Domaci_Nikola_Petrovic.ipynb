{
 "cells": [
  {
   "cell_type": "markdown",
   "metadata": {},
   "source": [
    "# Мататематички методи за машинско учење 2023\n",
    "## Домаћи задатак број 1"
   ]
  },
  {
   "cell_type": "markdown",
   "metadata": {},
   "source": [
    "<div class=\"alert alert-block alert-danger\">\n",
    "<b>Име и презиме студента:</b> Никола Петровић\n",
    "\n",
    "<b>Број индекса:</b> 1466\n",
    "    \n",
    "</div>    "
   ]
  },
  {
   "cell_type": "markdown",
   "metadata": {},
   "source": [
    "<div class=\"alert alert-block alert-info\">\n",
    "<b>Упутство за израду и предају домаћег задатака: </b> \n",
    "    \n",
    "    1. Пре почетка израде промените име датотеке у 01Domaci_Ime_Prezime. (убаците своје име и презиме) \n",
    "    2. Попуните ћелију испод наслова одговарајућим подацима. \n",
    "    1. Употреба ћирилице није обавезна за предају домаћег задатка.\n",
    "    4. За решавање задатака, уколико је потребно, отворите испод текста задатка додатне ћелије за уписивање текстуалног одговора (Markdown) или програмског кода (Code).\n",
    "    1. Сва израчунавања, уколико је потребно, вршити у Python-у.\n",
    "    5. Након завршетка израде решења домаћег Notebook документ сачувати у pdf формату и проследити га наставнику. То можете да урадите или кроз Teams или на мејл адресу jovana.dzunic@elfak.ni.ac.rs\n",
    "\n",
    "</div> "
   ]
  },
  {
   "cell_type": "code",
   "execution_count": 1,
   "metadata": {},
   "outputs": [],
   "source": [
    "import numpy as np\n",
    "import numpy.random as rndm\n",
    "import matplotlib as mplb\n",
    "import matplotlib.pyplot as plt"
   ]
  },
  {
   "cell_type": "markdown",
   "metadata": {},
   "source": [
    "**Задатак 1.** Дат је низ случајно генерисаних бројева $v=\\begin{bmatrix} x_1&x_2&\\dots&x_n\\end{bmatrix}$ (генерише се кодном ћелијом испод). Два елемента $x_i$ и $x_j$ у низу $v$ образују инверзију уколико је $i<j\\ \\wedge\\ x_i>x_j.$ Написати ефикасан код којим се одређује број инверзија у низу $v.$\n",
    "\n",
    "(10 поена)"
   ]
  },
  {
   "cell_type": "code",
   "execution_count": 2,
   "metadata": {},
   "outputs": [],
   "source": [
    "import time"
   ]
  },
  {
   "cell_type": "code",
   "execution_count": 3,
   "metadata": {},
   "outputs": [],
   "source": [
    "np.random.seed(0)\n",
    "n = 12345\n",
    "min_val, max_val = -10, 10\n",
    "v = np.random.uniform(min_val, max_val, n)"
   ]
  },
  {
   "cell_type": "code",
   "execution_count": 4,
   "metadata": {},
   "outputs": [],
   "source": [
    "def broj_inverzija_neoptimalno(v):\n",
    "    count = 0\n",
    "    for i in range(n):\n",
    "        for j in range(i+1, n):\n",
    "            if v[i] > v[j]:\n",
    "                count += 1\n",
    "    return count"
   ]
  },
  {
   "cell_type": "code",
   "execution_count": 5,
   "metadata": {},
   "outputs": [
    {
     "name": "stdout",
     "output_type": "stream",
     "text": [
      "Broj inverzija: 38287110\n",
      "Vreme izvršenja: 14.262183 sekundi\n"
     ]
    }
   ],
   "source": [
    "start_time = time.time()\n",
    "count = broj_inverzija_neoptimalno(v)\n",
    "end_time = time.time()\n",
    "\n",
    "print(f\"Broj inverzija: {count}\")\n",
    "print(f\"Vreme izvršenja: {end_time - start_time:.6f} sekundi\")"
   ]
  },
  {
   "cell_type": "code",
   "execution_count": 6,
   "metadata": {},
   "outputs": [],
   "source": [
    "def broj_inverzija_numpy(v):\n",
    "    count = sum(np.sum(v[i] > v[i+1:]) for i in range(n - 1))\n",
    "    return count"
   ]
  },
  {
   "cell_type": "code",
   "execution_count": 7,
   "metadata": {},
   "outputs": [
    {
     "name": "stdout",
     "output_type": "stream",
     "text": [
      "Broj inverzija: 38287110\n",
      "Vreme izvršenja: 0.168723 sekundi\n"
     ]
    }
   ],
   "source": [
    "start_time = time.time()\n",
    "count = broj_inverzija_numpy(v)\n",
    "end_time = time.time()\n",
    "print(f\"Broj inverzija: {count}\")\n",
    "print(f\"Vreme izvršenja: {end_time - start_time:.6f} sekundi\")"
   ]
  },
  {
   "cell_type": "code",
   "execution_count": 8,
   "metadata": {},
   "outputs": [],
   "source": [
    "def merge(arr, temp_arr, left, mid, right):\n",
    "    i, j, k = left, mid, 0\n",
    "    inv_count = 0\n",
    "\n",
    "    while i <= mid - 1 and j <= right:\n",
    "        if arr[i] <= arr[j]:\n",
    "            temp_arr[k] = arr[i]\n",
    "            k += 1\n",
    "            i += 1\n",
    "        else:\n",
    "            temp_arr[k] = arr[j]\n",
    "            inv_count += (mid - i)\n",
    "            k += 1\n",
    "            j += 1\n",
    "\n",
    "    while i <= mid - 1:\n",
    "        temp_arr[k] = arr[i]\n",
    "        k += 1\n",
    "        i += 1\n",
    "\n",
    "    while j <= right:\n",
    "        temp_arr[k] = arr[j]\n",
    "        k += 1\n",
    "        j += 1\n",
    "\n",
    "    for i in range(left, right + 1):\n",
    "        arr[i] = temp_arr[i - left]\n",
    "\n",
    "    return inv_count\n",
    "\n",
    "def merge_sort(arr, temp_arr, left, right):\n",
    "    inv_count = 0\n",
    "    if left < right:\n",
    "        mid = (left + right) // 2\n",
    "        inv_count += merge_sort(arr, temp_arr, left, mid)\n",
    "        inv_count += merge_sort(arr, temp_arr, mid + 1, right)\n",
    "        inv_count += merge(arr, temp_arr, left, mid + 1, right)\n",
    "\n",
    "    return inv_count\n",
    "\n",
    "def broj_inverzija_merge_sort(v):\n",
    "    temp_arr = np.zeros(len(v))\n",
    "    return merge_sort(v, temp_arr, 0, len(v) - 1)"
   ]
  },
  {
   "cell_type": "code",
   "execution_count": 9,
   "metadata": {},
   "outputs": [
    {
     "name": "stdout",
     "output_type": "stream",
     "text": [
      "Broj inverzija: 38287110\n",
      "Vreme izvršenja: 0.109548 sekundi\n"
     ]
    }
   ],
   "source": [
    "start_time = time.time()\n",
    "count = broj_inverzija_merge_sort(v)\n",
    "end_time = time.time()\n",
    "print(f\"Broj inverzija: {count}\")\n",
    "print(f\"Vreme izvršenja: {end_time - start_time:.6f} sekundi\")"
   ]
  },
  {
   "cell_type": "markdown",
   "metadata": {},
   "source": [
    "<div class=\"alert alert-block alert-info\">\n",
    "<b> Тачно, лепа решења \n",
    "    \n",
    "10/10 поена</b> \n",
    "</div>"
   ]
  },
  {
   "cell_type": "markdown",
   "metadata": {},
   "source": [
    "**Задатак 2.** На сегменту $[-3,5]$ приказати графике функција $ f(x)=\\frac{1}{\\sigma\\sqrt{2\\pi}}e^{-\\frac{1}{2}\\left(\\frac{x-\\mu}{\\sigma}\\right)^2},$ за комбинације вредности параметара  $(\\mu,\\sigma)\\in\\{(0,1),(0,2),(0,1/2),(2,1),(2,2)\\}.$ Добијени график треба да садржи легенду са вредностима параметара за сваку од функција.\n",
    "\n",
    "(5 поена)"
   ]
  },
  {
   "cell_type": "code",
   "execution_count": 10,
   "metadata": {
    "scrolled": false
   },
   "outputs": [
    {
     "data": {
      "image/png": "[encoded data removed]",
      "text/plain": [
       "<Figure size 720x432 with 1 Axes>"
      ]
     },
     "metadata": {
      "needs_background": "light"
     },
     "output_type": "display_data"
    }
   ],
   "source": [
    "def f(x, mu, sigma):\n",
    "    return 1 / (sigma * np.sqrt(2 * np.pi)) * np.exp(-0.5 * ((x - mu) / sigma)**2)\n",
    "\n",
    "x = np.linspace(-3, 5, 1000)\n",
    "parametri = [(0, 1), (0, 2), (0, 1/2), (2, 1), (2, 2)]\n",
    "\n",
    "plt.figure(figsize=(10, 6))\n",
    "\n",
    "for mu, sigma in parametri:\n",
    "    plt.plot(x, f(x, mu, sigma), label=f'$\\mu={mu},\\ \\sigma={sigma}$')\n",
    "\n",
    "plt.title(\"Grafički prikaz funkcija za različite vrednosti parametara\")\n",
    "plt.xlabel(\"x\")\n",
    "plt.ylabel(\"f(x)\")\n",
    "plt.legend()\n",
    "plt.show()\n"
   ]
  },
  {
   "cell_type": "markdown",
   "metadata": {},
   "source": [
    "<div class=\"alert alert-block alert-info\">\n",
    "<b> Тачно\n",
    "    \n",
    "5/5 поена</b> \n",
    "</div>"
   ]
  },
  {
   "cell_type": "markdown",
   "metadata": {},
   "source": [
    "**Задатак 3.** а) Направити низ `kocke` од $n\\in\\{1000,10000\\}$ вредности који симулира резултат $n$ бацања фер коцке за игру. Употербити NumPy функцију `randint` за добијање овог низа. \n",
    "\n",
    "б) Креирати хистограм резултата бацања за сваку од могућих вредности коцке.\n",
    "\n",
    "в) Одредити суму свих вредности бачене коцке, као и средњу вредност свих бацања (аритметичку средину).\n",
    "\n",
    "(5 поена)"
   ]
  },
  {
   "cell_type": "code",
   "execution_count": 11,
   "metadata": {
    "scrolled": false
   },
   "outputs": [
    {
     "data": {
      "image/png": "[encoded data removed]",
      "text/plain": [
       "<Figure size 432x288 with 1 Axes>"
      ]
     },
     "metadata": {
      "needs_background": "light"
     },
     "output_type": "display_data"
    },
    {
     "data": {
      "image/png": "[encoded data removed]",
      "text/plain": [
       "<Figure size 432x288 with 1 Axes>"
      ]
     },
     "metadata": {
      "needs_background": "light"
     },
     "output_type": "display_data"
    },
    {
     "name": "stdout",
     "output_type": "stream",
     "text": [
      "Za n=1000: suma = 3590, srednja vrednost = 3.59\n",
      "Za n=10000: suma = 35283, srednja vrednost = 3.53\n"
     ]
    }
   ],
   "source": [
    "#a)\n",
    "n1 = 1000\n",
    "n2 = 10000\n",
    "\n",
    "kocke_1000 = np.random.randint(1, 7, n1)\n",
    "kocke_10000 = np.random.randint(1, 7, n2)\n",
    "\n",
    "#b)\n",
    "def prikaz_histograma(kocke, naslov):\n",
    "    plt.hist(kocke, bins=[1, 2, 3, 4, 5, 6, 7], edgecolor='black', align='left', rwidth=0.8)\n",
    "    plt.title(naslov)\n",
    "    plt.xlabel('Vrednost kocke')\n",
    "    plt.ylabel('Broj bacanja')\n",
    "    plt.xticks(range(1, 7))\n",
    "    plt.show()\n",
    "\n",
    "prikaz_histograma(kocke_1000, 'Histogram bacanja kocke (n=1000)')\n",
    "prikaz_histograma(kocke_10000, 'Histogram bacanja kocke (n=10000)')\n",
    "\n",
    "\n",
    "#c)\n",
    "def statistika(kocke):\n",
    "    suma = np.sum(kocke)\n",
    "    srednja_vrednost = np.mean(kocke)\n",
    "    return suma, srednja_vrednost\n",
    "\n",
    "suma_1000, srednja_vrednost_1000 = statistika(kocke_1000)\n",
    "suma_10000, srednja_vrednost_10000 = statistika(kocke_10000)\n",
    "\n",
    "print(f\"Za n=1000: suma = {suma_1000}, srednja vrednost = {srednja_vrednost_1000:.2f}\")\n",
    "print(f\"Za n=10000: suma = {suma_10000}, srednja vrednost = {srednja_vrednost_10000:.2f}\")\n"
   ]
  },
  {
   "cell_type": "markdown",
   "metadata": {},
   "source": [
    "<div class=\"alert alert-block alert-info\">\n",
    "<b> Тачно \n",
    "    \n",
    "5/5 поена</b> \n",
    "</div>"
   ]
  },
  {
   "cell_type": "markdown",
   "metadata": {},
   "source": [
    "**Задатак 4.** На основу скупа података $S=\\big\\{\\big(x_k,f(x_k)\\big)\\ |\\ k=0,1,\\dots,n,\\ x_i\\neq x_j, \\ i\\neq j\\big\\}$ о функцији $f_4(x)=\\dfrac{1-2x^2}{\\cos(e^{2x})+2}$ у чворовима $x_k\\in\\{-0.66,-0.54,-0.47,-0.33,-0.21,-0.12,0.03,0.11,0.26,0.37,0.41,0.81\\}$ написати модификацију Невиловог алгоритма за израчунавање извода интерполационог полинома $P'(0.5)$ на основу шеме\n",
    "\\begin{align}     p_{ii}'(a)&=0,\\quad p_{ii}(a)=f(x_i)=f_i\\\\     \n",
    "p_{ij}'(a)&=\\dfrac{p_{i\\,j-1}(a)-p_{i+1\\,j}(a)+(a-x_j)p_{i\\,j-1}'(a)-(a-x_i)p_{i+1\\,j}'(a)}{x_i-x_j},\\quad i<j,\\\\\n",
    "p_{ij}(a)&=\\dfrac{(a-x_j)p_{i\\,j-1}(a)-(a-x_i)p_{i+1\\,j}(a)}{x_i-x_j}\\,,\\quad i<j.\n",
    "\\end{align} \n",
    "\n",
    "(10 поена)"
   ]
  },
  {
   "cell_type": "code",
   "execution_count": 12,
   "metadata": {},
   "outputs": [
    {
     "name": "stdout",
     "output_type": "stream",
     "text": [
      "0.4653276468924462\n",
      "Izvod polinoma interpolacije u tački 0.5 je -0.7208417928907618\n"
     ]
    }
   ],
   "source": [
    "\n",
    "# Čvorovi i vrednosti funkcije f u tim čvorovima\n",
    "x_cvorovi = np.array([-0.66, -0.54, -0.47, -0.33, -0.21, -0.12, 0.03, 0.11, 0.26, 0.37, 0.41, 0.81])\n",
    "f_x = (1 - 2 * x_cvorovi**2) / (np.cos(np.exp(2 * x_cvorovi)) + 2)\n",
    "\n",
    "# Funkcija koja računa izvod polinoma interpolacije\n",
    "def neville_izvod(x_cvorovi, f_x, a):\n",
    "    n = len(x_cvorovi)\n",
    "    p = np.zeros((n, n))\n",
    "    p_izvod = np.zeros((n, n))\n",
    "    \n",
    "    p[:, 0] = f_x\n",
    "    \n",
    "    # Računanje polinoma interpolacije i izvoda\n",
    "    for j in range(1, n):\n",
    "        for i in range(n - j):\n",
    "            p[i, j] = ((a - x_cvorovi[j + i]) * p[i, j - 1] - (a - x_cvorovi[i]) * p[i + 1, j - 1]) / (x_cvorovi[i] - x_cvorovi[i + j])\n",
    "            p_izvod[i, j] = (p[i, j - 1] - p[i + 1, j - 1] + (a - x_cvorovi[j + i]) * p_izvod[i, j - 1] - (a - x_cvorovi[i]) * p_izvod[i + 1, j - 1]) / (x_cvorovi[i] - x_cvorovi[i + j])\n",
    "    \n",
    "    # Vrednost izvoda u tački a je poslednja vrednost u poslednjem redu matrice izvoda\n",
    "    izvod_a = p_izvod[0, -1]\n",
    "    print(p[0,-1])\n",
    "    return izvod_a\n",
    "\n",
    "# Tačka u kojoj se računa izvod\n",
    "a = 0.5\n",
    "\n",
    "# Računanje izvoda i ispisivanje rezultata\n",
    "izvod = neville_izvod(x_cvorovi, f_x, a)\n",
    "print(f\"Izvod polinoma interpolacije u tački {a} je {izvod}\")"
   ]
  },
  {
   "cell_type": "markdown",
   "metadata": {},
   "source": [
    "<div class=\"alert alert-block alert-info\">\n",
    "<b> Добијене вредности су тачне. Само је унутрашњу петљу (по i) требало решити индексирањем.\n",
    "    \n",
    "5/10 поена</b> \n",
    "</div>"
   ]
  },
  {
   "cell_type": "markdown",
   "metadata": {},
   "source": [
    "Провера:"
   ]
  },
  {
   "cell_type": "code",
   "execution_count": 13,
   "metadata": {},
   "outputs": [
    {
     "data": {
      "text/plain": [
       "0.465327646892453"
      ]
     },
     "execution_count": 13,
     "metadata": {},
     "output_type": "execute_result"
    }
   ],
   "source": [
    "n = len(x_cvorovi)\n",
    "P=np.polyfit(x_cvorovi,f_x,n-1)\n",
    "np.polyval(P,a)"
   ]
  },
  {
   "cell_type": "code",
   "execution_count": 14,
   "metadata": {},
   "outputs": [
    {
     "data": {
      "text/plain": [
       "-0.7208417928905542"
      ]
     },
     "execution_count": 14,
     "metadata": {},
     "output_type": "execute_result"
    }
   ],
   "source": [
    "P1=np.polyder(P)\n",
    "np.polyval(P1,a)"
   ]
  },
  {
   "cell_type": "markdown",
   "metadata": {},
   "source": [
    "<b><span style=\"font-size: 44px; color: purple;\">Ispravak</span></b>\n",
    "\n"
   ]
  },
  {
   "cell_type": "markdown",
   "metadata": {},
   "source": [
    "\\begin{align}     p_{ii}'(a)&=0,\\quad p_{ii}(a)=f(x_i)=f_i\\\\     \n",
    "p_{ij}'(a)&=\\dfrac{p_{i\\,j-1}(a)-p_{i+1\\,j}(a)+(a-x_j)p_{i\\,j-1}'(a)-(a-x_i)p_{i+1\\,j}'(a)}{x_i-x_j},\\quad i<j,\\\\\n",
    "p_{ij}(a)&=\\dfrac{(a-x_j)p_{i\\,j-1}(a)-(a-x_i)p_{i+1\\,j}(a)}{x_i-x_j}\\,,\\quad i<j.\n",
    "\\end{align} \n"
   ]
  },
  {
   "cell_type": "code",
   "execution_count": 62,
   "metadata": {},
   "outputs": [
    {
     "name": "stdout",
     "output_type": "stream",
     "text": [
      "0.4653276468924462\n",
      "Izvod polinoma interpolacije u tački 0.5 je -0.7208417928907618\n"
     ]
    }
   ],
   "source": [
    "# Čvorovi i vrednosti funkcije f u tim čvorovima\n",
    "x_cvorovi = np.array([-0.66, -0.54, -0.47, -0.33, -0.21, -0.12, 0.03, 0.11, 0.26, 0.37, 0.41, 0.81])\n",
    "f_x = (1 - 2 * x_cvorovi**2) / (np.cos(np.exp(2 * x_cvorovi)) + 2)\n",
    "\n",
    "# Funkcija koja računa izvod polinoma interpolacije\n",
    "def neville_izvod(x_cvorovi, f_x, a):\n",
    "    n = len(x_cvorovi)\n",
    "    p = np.zeros((n, n))\n",
    "    p_izvod = np.zeros((n, n))\n",
    "    \n",
    "    p[:, 0] = f_x\n",
    "    \n",
    "    # Računanje polinoma interpolacije i izvoda\n",
    "    \"\"\"for j in range(1, n):\n",
    "        for i in range(n - j):\n",
    "            p[i, j] = ((a - x_cvorovi[j + i]) * p[i, j - 1] - (a - x_cvorovi[i]) * p[i + 1, j - 1]) / (x_cvorovi[i] - x_cvorovi[i + j])\n",
    "            p_izvod[i, j] = (p[i, j - 1] - p[i + 1, j - 1] + (a - x_cvorovi[j + i]) * p_izvod[i, j - 1] - (a - x_cvorovi[i]) * p_izvod[i + 1, j - 1]) / (x_cvorovi[i] - x_cvorovi[i + j])\n",
    "    \"\"\"\n",
    "    for j in range(1, n):\n",
    "        i = np.arange(n - j)\n",
    "        x_diff = x_cvorovi[i] - x_cvorovi[i + j]\n",
    "        p[i, j] = ((a - x_cvorovi[j + i]) * p[i, j - 1] - (a - x_cvorovi[i]) * p[i + 1, j - 1]) / x_diff\n",
    "        p_izvod[i, j] = (p[i, j - 1] - p[i + 1, j - 1] + (a - x_cvorovi[j + i]) * p_izvod[i, j - 1] - (a - x_cvorovi[i]) * p_izvod[i + 1, j - 1]) / x_diff\n",
    "\n",
    "    # Vrednost izvoda u tački a je poslednja vrednost u poslednjem redu matrice izvoda\n",
    "    izvod_a = p_izvod[0, -1]\n",
    "    print(p[0,-1])\n",
    "    return izvod_a\n",
    "\n",
    "# Tačka u kojoj se računa izvod\n",
    "a = 0.5\n",
    "\n",
    "# Računanje izvoda i ispisivanje rezultata\n",
    "izvod = neville_izvod(x_cvorovi, f_x, a)\n",
    "print(f\"Izvod polinoma interpolacije u tački {a} je {izvod}\")"
   ]
  },
  {
   "cell_type": "code",
   "execution_count": 61,
   "metadata": {},
   "outputs": [
    {
     "name": "stdout",
     "output_type": "stream",
     "text": [
      "Izvod polinoma interpolacije u tački 0.5 je -0.7208417928907618\n"
     ]
    }
   ],
   "source": [
    "import numpy as np\n",
    "\n",
    "x_cvorovi = np.array([-0.66, -0.54, -0.47, -0.33, -0.21, -0.12, 0.03, 0.11, 0.26, 0.37, 0.41, 0.81])\n",
    "f_x = (1 - 2 * x_cvorovi**2) / (np.cos(np.exp(2 * x_cvorovi)) + 2)\n",
    "\n",
    "def neville_izvod(x_cvorovi, f_x, a):\n",
    "    n = len(x_cvorovi)-1\n",
    "    p_izvod = np.zeros(len(f_x))\n",
    "    p = f_x\n",
    "    Axk = a-x_cvorovi\n",
    "    \n",
    "    for i in range(n):\n",
    "        p_izvod[:n-i] = (p[:n-i] - p[1:n-i+1] + Axk[i+1:]*p_izvod[:n-i] - Axk[:n-i]*p_izvod[1:n-i+1])/(x_cvorovi[:n-i]-x_cvorovi[i+1:])\n",
    "        p[:n-i]=(Axk[i+1:]*p[:n-i]-Axk[:n-i]*p[1:n-i+1])/(x_cvorovi[:n-i]-x_cvorovi[i+1:])\n",
    "    izvod_a = p_izvod[0]\n",
    "    return izvod_a\n",
    "\n",
    "a = 0.5\n",
    "izvod = neville_izvod(x_cvorovi, f_x, a)\n",
    "print(f\"Izvod polinoma interpolacije u tački {a} je {izvod}\")\n"
   ]
  },
  {
   "cell_type": "markdown",
   "metadata": {},
   "source": [
    "<div class=\"alert alert-block alert-info\">\n",
    "<b> Тачно\n",
    "    \n",
    "10/10 поена</b> \n",
    "</div>"
   ]
  },
  {
   "attachments": {
    "image.png": {
     "image/png": "[encoded data removed]"
    }
   },
   "cell_type": "markdown",
   "metadata": {},
   "source": [
    "**Задатак 5.** Претпоставимо да је познат сегмент $[a,b]$ који садржи нулу $\\alpha$ глатке функције $f(x).$ Нула је детектована променом знака вредности функције на крајевима интервала, $f(a)f(b)<0.$\n",
    "<div>\n",
    "   <img src=\"attachment:image.png\" width=\"300\">  \n",
    "</div>"
   ]
  },
  {
   "cell_type": "markdown",
   "metadata": {},
   "source": [
    "Желимо да добијемо ужи сегмент који (највероватније) и даље садржи нулу $\\alpha$ функције $f(x).$ То постижемо половљењем почетног сегмента. Наиме $\\alpha$ се налази у неком од подсегмената $\\left[a,\\dfrac{a+b}{2}\\right]$ или $\\left[\\dfrac{a+b}{2},b\\right].$ У ком је, препознаћемо поново на основу промене знака функције $f(x)$ на једном од тих сегмената, или се $\\alpha$ поклапа баш са $\\dfrac{a+b}{2}.$ Уколико је нула детектована, тј. $\\alpha=\\dfrac{a+b}{2}$ прекидамо потрагу. Ако није сужење интервала можемо да наставимо даљим половљењем кроз итерације. Ово представља метод половљења интервала."
   ]
  },
  {
   "cell_type": "markdown",
   "metadata": {},
   "source": [
    "У методу половљења интервала у свакој итерацији се постојећи сегмент $[a_k,b_k]$ дели на два подинтервала. Директна генерализација овог метода јесте дељење постојећег интервала на више делова $p\\geq 2:$\n",
    "$$a_k=c_0<c_1<\\dots<c_p=b_k,\\qquad c_{j+1}-c_j=\\dfrac{b-a}{p}.$$ За нов сегмент $[a_{k+1},b_{k+1}]$ којим се изолује нула узима се сегмент $[c_j,c_{j+1}]$ на коме се детектује промена знака функције $f.$\n",
    "\n",
    "Написати програмски код којим се реализује оваква претрага са вишеструком поделом интервала који користи векторизацију израчунавања над NumPy низовима. Изабрати самостално вредност параметра $p>2.$ Код применити на изоловање нуле функције $f(x)=\\dfrac{x^2}2-\\cos x,$ полазећи од сегмента $[-2,2].$ Метод вршити док ширина интервала не буде мања од $10^{-6}.$ Укључити могућност да функција има више нула на изабраном сегменту, тј. да је могуће да више подинтервала детектује промену знака функције.\n",
    "\n",
    "(20 поена)"
   ]
  },
  {
   "cell_type": "code",
   "execution_count": 15,
   "metadata": {},
   "outputs": [
    {
     "name": "stdout",
     "output_type": "stream",
     "text": [
      "Nule funkcije f(x) su:\n",
      "-0.8000000000\n",
      "-0.9600000000\n",
      "-1.0240000000\n",
      "-1.0240000000\n",
      "-1.0214400000\n",
      "-1.0216960000\n",
      "-1.0216960000\n",
      "-1.0216857600\n",
      "-1.0216898560\n",
      "-1.0216898560\n"
     ]
    }
   ],
   "source": [
    "def f(x):\n",
    "    return 0.5 * x ** 2 - np.cos(x)\n",
    "\n",
    "def find_zeros(a, b, p, tol=1e-6):\n",
    "    interval_width = b - a\n",
    "    zeros = []\n",
    "\n",
    "    while interval_width > tol:\n",
    "        c_values = np.linspace(a, b, p + 1)\n",
    "        f_values = f(c_values)\n",
    "        sign_changes = np.where(np.diff(np.sign(f_values)))[0]\n",
    "\n",
    "        if len(sign_changes) > 0:\n",
    "            a = c_values[sign_changes[0]]\n",
    "            b = c_values[sign_changes[0] + 1]\n",
    "            interval_width = b - a\n",
    "            zeros.append((a + b) / 2)\n",
    "        else:\n",
    "            break\n",
    "\n",
    "    return zeros\n",
    "\n",
    "a, b = -2, 2\n",
    "p = 5  # Broj delova na koje se interval deli u svakoj iteraciji\n",
    "\n",
    "zeros = find_zeros(a, b, p)\n",
    "print(\"Nule funkcije f(x) su:\")\n",
    "for zero in zeros:\n",
    "    print(f\"{zero:.10f}\")"
   ]
  },
  {
   "cell_type": "markdown",
   "metadata": {},
   "source": [
    "<div class=\"alert alert-block alert-info\">\n",
    "<b> Нису испоштовани услови задатка, иначе леп, чист код. \n",
    "    \n",
    "10/20 поена</b> \n",
    "</div>"
   ]
  },
  {
   "cell_type": "markdown",
   "metadata": {},
   "source": [
    "<b><span style=\"font-size: 44px; color: purple;\">Ispravak</span></b>"
   ]
  },
  {
   "cell_type": "code",
   "execution_count": 34,
   "metadata": {},
   "outputs": [
    {
     "name": "stdout",
     "output_type": "stream",
     "text": [
      "Nule funkcije f(x) su: [-1.0216898559999996, 1.021689856]\n"
     ]
    }
   ],
   "source": [
    "def f(x):\n",
    "    return (x**2)/2 - np.cos(x)\n",
    "\n",
    "def find_zeros(a, b, p, tol):\n",
    "    zeros = []\n",
    "    segments = [(a, b)]\n",
    "\n",
    "    while segments:\n",
    "        a, b = segments.pop(0)\n",
    "        c = np.linspace(a, b, p + 1)\n",
    "        values = f(c)\n",
    "        sign_changes = np.where(np.diff(np.sign(values)) != 0)[0]\n",
    "\n",
    "        #Ovaj deo koda koristi NumPy nizove i logicke maske za brze racunanje nula i segmenata.\n",
    "\n",
    "        a_new, b_new = c[sign_changes], c[sign_changes + 1]\n",
    "        widths = b_new - a_new\n",
    "\n",
    "        mask_tol = widths < tol\n",
    "        mask_not_tol = np.logical_not(mask_tol)\n",
    "\n",
    "        zeros.extend(((a_new[mask_tol] + b_new[mask_tol]) / 2).tolist())\n",
    "        segments.extend(zip(a_new[mask_not_tol], b_new[mask_not_tol]))\n",
    "\n",
    "    return zeros\n",
    "\n",
    "a, b = -2, 2\n",
    "p = 5\n",
    "tol = 1e-6\n",
    "zeros = find_zeros(a, b, p, tol)\n",
    "\n",
    "print(\"Nule funkcije f(x) su:\", zeros)"
   ]
  },
  {
   "cell_type": "code",
   "execution_count": 6,
   "metadata": {},
   "outputs": [
    {
     "name": "stdout",
     "output_type": "stream",
     "text": [
      "Segmenti koji sadrže nule funkcije f(x) su: [(-1.0216902494430542, -1.0216899514198303), (1.0216898918151855, 1.0216901898384094)]\n"
     ]
    }
   ],
   "source": [
    "def f(x):\n",
    "    return (x**2)/2 - np.cos(x)\n",
    "\n",
    "def multi_segment_division(a, b, p, tol):\n",
    "    zeros = []\n",
    "    segments = [(a, b)]\n",
    "\n",
    "    while segments:\n",
    "        a, b = segments.pop(0)\n",
    "        c = np.linspace(a, b, p + 1)\n",
    "        values = f(c)\n",
    "        sign_changes = np.where(np.diff(np.sign(values)) != 0)[0]\n",
    "\n",
    "        a_new, b_new = c[sign_changes], c[sign_changes + 1]\n",
    "        widths = b_new - a_new\n",
    "\n",
    "        mask_tol = widths < tol\n",
    "        mask_not_tol = np.logical_not(mask_tol)\n",
    "\n",
    "        zeros.extend(zip(a_new[mask_tol], b_new[mask_tol]))\n",
    "        segments.extend(zip(a_new[mask_not_tol], b_new[mask_not_tol]))\n",
    "\n",
    "    return zeros\n",
    "\n",
    "a, b = -3, 2\n",
    "p = 4\n",
    "tol = 1e-6\n",
    "zeros = multi_segment_division(a, b, p, tol)\n",
    "\n",
    "print(\"Segmenti koji sadrže nule funkcije f(x) su:\", zeros)\n"
   ]
  },
  {
   "cell_type": "markdown",
   "metadata": {},
   "source": [
    "<div class=\"alert alert-block alert-info\">\n",
    "<b> Тачно. Баш лепо!\n",
    "    \n",
    "20/20 поена</b> \n",
    "</div>"
   ]
  },
  {
   "cell_type": "markdown",
   "metadata": {},
   "source": [
    "Задата функија $f(x)=\\dfrac{x^2}2-\\cos x$ на сегменту $[-2,2]$ има две нуле. На наредном активном графику можете курсором и приближно да лоцирате $x$ координате ових нула."
   ]
  },
  {
   "cell_type": "code",
   "execution_count": 16,
   "metadata": {},
   "outputs": [],
   "source": [
    "%matplotlib notebook "
   ]
  },
  {
   "cell_type": "code",
   "execution_count": 17,
   "metadata": {
    "scrolled": false
   },
   "outputs": [
    {
     "data": {
      "application/javascript": [
       "/* Put everything inside the global mpl namespace */\n",
       "/* global mpl */\n",
       "window.mpl = {};\n",
       "\n",
       "mpl.get_websocket_type = function () {\n",
       "    if (typeof WebSocket !== 'undefined') {\n",
       "        return WebSocket;\n",
       "    } else if (typeof MozWebSocket !== 'undefined') {\n",
       "        return MozWebSocket;\n",
       "    } else {\n",
       "        alert(\n",
       "            'Your browser does not have WebSocket support. ' +\n",
       "                'Please try Chrome, Safari or Firefox ≥ 6. ' +\n",
       "                'Firefox 4 and 5 are also supported but you ' +\n",
       "                'have to enable WebSockets in about:config.'\n",
       "        );\n",
       "    }\n",
       "};\n",
       "\n",
       "mpl.figure = function (figure_id, websocket, ondownload, parent_element) {\n",
       "    this.id = figure_id;\n",
       "\n",
       "    this.ws = websocket;\n",
       "\n",
       "    this.supports_binary = this.ws.binaryType !== undefined;\n",
       "\n",
       "    if (!this.supports_binary) {\n",
       "        var warnings = document.getElementById('mpl-warnings');\n",
       "        if (warnings) {\n",
       "            warnings.style.display = 'block';\n",
       "            warnings.textContent =\n",
       "                'This browser does not support binary websocket messages. ' +\n",
       "                'Performance may be slow.';\n",
       "        }\n",
       "    }\n",
       "\n",
       "    this.imageObj = new Image();\n",
       "\n",
       "    this.context = undefined;\n",
       "    this.message = undefined;\n",
       "    this.canvas = undefined;\n",
       "    this.rubberband_canvas = undefined;\n",
       "    this.rubberband_context = undefined;\n",
       "    this.format_dropdown = undefined;\n",
       "\n",
       "    this.image_mode = 'full';\n",
       "\n",
       "    this.root = document.createElement('div');\n",
       "    this.root.setAttribute('style', 'display: inline-block');\n",
       "    this._root_extra_style(this.root);\n",
       "\n",
       "    parent_element.appendChild(this.root);\n",
       "\n",
       "    this._init_header(this);\n",
       "    this._init_canvas(this);\n",
       "    this._init_toolbar(this);\n",
       "\n",
       "    var fig = this;\n",
       "\n",
       "    this.waiting = false;\n",
       "\n",
       "    this.ws.onopen = function () {\n",
       "        fig.send_message('supports_binary', { value: fig.supports_binary });\n",
       "        fig.send_message('send_image_mode', {});\n",
       "        if (fig.ratio !== 1) {\n",
       "            fig.send_message('set_device_pixel_ratio', {\n",
       "                device_pixel_ratio: fig.ratio,\n",
       "            });\n",
       "        }\n",
       "        fig.send_message('refresh', {});\n",
       "    };\n",
       "\n",
       "    this.imageObj.onload = function () {\n",
       "        if (fig.image_mode === 'full') {\n",
       "            // Full images could contain transparency (where diff images\n",
       "            // almost always do), so we need to clear the canvas so that\n",
       "            // there is no ghosting.\n",
       "            fig.context.clearRect(0, 0, fig.canvas.width, fig.canvas.height);\n",
       "        }\n",
       "        fig.context.drawImage(fig.imageObj, 0, 0);\n",
       "    };\n",
       "\n",
       "    this.imageObj.onunload = function () {\n",
       "        fig.ws.close();\n",
       "    };\n",
       "\n",
       "    this.ws.onmessage = this._make_on_message_function(this);\n",
       "\n",
       "    this.ondownload = ondownload;\n",
       "};\n",
       "\n",
       "mpl.figure.prototype._init_header = function () {\n",
       "    var titlebar = document.createElement('div');\n",
       "    titlebar.classList =\n",
       "        'ui-dialog-titlebar ui-widget-header ui-corner-all ui-helper-clearfix';\n",
       "    var titletext = document.createElement('div');\n",
       "    titletext.classList = 'ui-dialog-title';\n",
       "    titletext.setAttribute(\n",
       "        'style',\n",
       "        'width: 100%; text-align: center; padding: 3px;'\n",
       "    );\n",
       "    titlebar.appendChild(titletext);\n",
       "    this.root.appendChild(titlebar);\n",
       "    this.header = titletext;\n",
       "};\n",
       "\n",
       "mpl.figure.prototype._canvas_extra_style = function (_canvas_div) {};\n",
       "\n",
       "mpl.figure.prototype._root_extra_style = function (_canvas_div) {};\n",
       "\n",
       "mpl.figure.prototype._init_canvas = function () {\n",
       "    var fig = this;\n",
       "\n",
       "    var canvas_div = (this.canvas_div = document.createElement('div'));\n",
       "    canvas_div.setAttribute(\n",
       "        'style',\n",
       "        'border: 1px solid #ddd;' +\n",
       "            'box-sizing: content-box;' +\n",
       "            'clear: both;' +\n",
       "            'min-height: 1px;' +\n",
       "            'min-width: 1px;' +\n",
       "            'outline: 0;' +\n",
       "            'overflow: hidden;' +\n",
       "            'position: relative;' +\n",
       "            'resize: both;'\n",
       "    );\n",
       "\n",
       "    function on_keyboard_event_closure(name) {\n",
       "        return function (event) {\n",
       "            return fig.key_event(event, name);\n",
       "        };\n",
       "    }\n",
       "\n",
       "    canvas_div.addEventListener(\n",
       "        'keydown',\n",
       "        on_keyboard_event_closure('key_press')\n",
       "    );\n",
       "    canvas_div.addEventListener(\n",
       "        'keyup',\n",
       "        on_keyboard_event_closure('key_release')\n",
       "    );\n",
       "\n",
       "    this._canvas_extra_style(canvas_div);\n",
       "    this.root.appendChild(canvas_div);\n",
       "\n",
       "    var canvas = (this.canvas = document.createElement('canvas'));\n",
       "    canvas.classList.add('mpl-canvas');\n",
       "    canvas.setAttribute('style', 'box-sizing: content-box;');\n",
       "\n",
       "    this.context = canvas.getContext('2d');\n",
       "\n",
       "    var backingStore =\n",
       "        this.context.backingStorePixelRatio ||\n",
       "        this.context.webkitBackingStorePixelRatio ||\n",
       "        this.context.mozBackingStorePixelRatio ||\n",
       "        this.context.msBackingStorePixelRatio ||\n",
       "        this.context.oBackingStorePixelRatio ||\n",
       "        this.context.backingStorePixelRatio ||\n",
       "        1;\n",
       "\n",
       "    this.ratio = (window.devicePixelRatio || 1) / backingStore;\n",
       "\n",
       "    var rubberband_canvas = (this.rubberband_canvas = document.createElement(\n",
       "        'canvas'\n",
       "    ));\n",
       "    rubberband_canvas.setAttribute(\n",
       "        'style',\n",
       "        'box-sizing: content-box; position: absolute; left: 0; top: 0; z-index: 1;'\n",
       "    );\n",
       "\n",
       "    // Apply a ponyfill if ResizeObserver is not implemented by browser.\n",
       "    if (this.ResizeObserver === undefined) {\n",
       "        if (window.ResizeObserver !== undefined) {\n",
       "            this.ResizeObserver = window.ResizeObserver;\n",
       "        } else {\n",
       "            var obs = _JSXTOOLS_RESIZE_OBSERVER({});\n",
       "            this.ResizeObserver = obs.ResizeObserver;\n",
       "        }\n",
       "    }\n",
       "\n",
       "    this.resizeObserverInstance = new this.ResizeObserver(function (entries) {\n",
       "        var nentries = entries.length;\n",
       "        for (var i = 0; i < nentries; i++) {\n",
       "            var entry = entries[i];\n",
       "            var width, height;\n",
       "            if (entry.contentBoxSize) {\n",
       "                if (entry.contentBoxSize instanceof Array) {\n",
       "                    // Chrome 84 implements new version of spec.\n",
       "                    width = entry.contentBoxSize[0].inlineSize;\n",
       "                    height = entry.contentBoxSize[0].blockSize;\n",
       "                } else {\n",
       "                    // Firefox implements old version of spec.\n",
       "                    width = entry.contentBoxSize.inlineSize;\n",
       "                    height = entry.contentBoxSize.blockSize;\n",
       "                }\n",
       "            } else {\n",
       "                // Chrome <84 implements even older version of spec.\n",
       "                width = entry.contentRect.width;\n",
       "                height = entry.contentRect.height;\n",
       "            }\n",
       "\n",
       "            // Keep the size of the canvas and rubber band canvas in sync with\n",
       "            // the canvas container.\n",
       "            if (entry.devicePixelContentBoxSize) {\n",
       "                // Chrome 84 implements new version of spec.\n",
       "                canvas.setAttribute(\n",
       "                    'width',\n",
       "                    entry.devicePixelContentBoxSize[0].inlineSize\n",
       "                );\n",
       "                canvas.setAttribute(\n",
       "                    'height',\n",
       "                    entry.devicePixelContentBoxSize[0].blockSize\n",
       "                );\n",
       "            } else {\n",
       "                canvas.setAttribute('width', width * fig.ratio);\n",
       "                canvas.setAttribute('height', height * fig.ratio);\n",
       "            }\n",
       "            canvas.setAttribute(\n",
       "                'style',\n",
       "                'width: ' + width + 'px; height: ' + height + 'px;'\n",
       "            );\n",
       "\n",
       "            rubberband_canvas.setAttribute('width', width);\n",
       "            rubberband_canvas.setAttribute('height', height);\n",
       "\n",
       "            // And update the size in Python. We ignore the initial 0/0 size\n",
       "            // that occurs as the element is placed into the DOM, which should\n",
       "            // otherwise not happen due to the minimum size styling.\n",
       "            if (fig.ws.readyState == 1 && width != 0 && height != 0) {\n",
       "                fig.request_resize(width, height);\n",
       "            }\n",
       "        }\n",
       "    });\n",
       "    this.resizeObserverInstance.observe(canvas_div);\n",
       "\n",
       "    function on_mouse_event_closure(name) {\n",
       "        return function (event) {\n",
       "            return fig.mouse_event(event, name);\n",
       "        };\n",
       "    }\n",
       "\n",
       "    rubberband_canvas.addEventListener(\n",
       "        'mousedown',\n",
       "        on_mouse_event_closure('button_press')\n",
       "    );\n",
       "    rubberband_canvas.addEventListener(\n",
       "        'mouseup',\n",
       "        on_mouse_event_closure('button_release')\n",
       "    );\n",
       "    rubberband_canvas.addEventListener(\n",
       "        'dblclick',\n",
       "        on_mouse_event_closure('dblclick')\n",
       "    );\n",
       "    // Throttle sequential mouse events to 1 every 20ms.\n",
       "    rubberband_canvas.addEventListener(\n",
       "        'mousemove',\n",
       "        on_mouse_event_closure('motion_notify')\n",
       "    );\n",
       "\n",
       "    rubberband_canvas.addEventListener(\n",
       "        'mouseenter',\n",
       "        on_mouse_event_closure('figure_enter')\n",
       "    );\n",
       "    rubberband_canvas.addEventListener(\n",
       "        'mouseleave',\n",
       "        on_mouse_event_closure('figure_leave')\n",
       "    );\n",
       "\n",
       "    canvas_div.addEventListener('wheel', function (event) {\n",
       "        if (event.deltaY < 0) {\n",
       "            event.step = 1;\n",
       "        } else {\n",
       "            event.step = -1;\n",
       "        }\n",
       "        on_mouse_event_closure('scroll')(event);\n",
       "    });\n",
       "\n",
       "    canvas_div.appendChild(canvas);\n",
       "    canvas_div.appendChild(rubberband_canvas);\n",
       "\n",
       "    this.rubberband_context = rubberband_canvas.getContext('2d');\n",
       "    this.rubberband_context.strokeStyle = '#000000';\n",
       "\n",
       "    this._resize_canvas = function (width, height, forward) {\n",
       "        if (forward) {\n",
       "            canvas_div.style.width = width + 'px';\n",
       "            canvas_div.style.height = height + 'px';\n",
       "        }\n",
       "    };\n",
       "\n",
       "    // Disable right mouse context menu.\n",
       "    this.rubberband_canvas.addEventListener('contextmenu', function (_e) {\n",
       "        event.preventDefault();\n",
       "        return false;\n",
       "    });\n",
       "\n",
       "    function set_focus() {\n",
       "        canvas.focus();\n",
       "        canvas_div.focus();\n",
       "    }\n",
       "\n",
       "    window.setTimeout(set_focus, 100);\n",
       "};\n",
       "\n",
       "mpl.figure.prototype._init_toolbar = function () {\n",
       "    var fig = this;\n",
       "\n",
       "    var toolbar = document.createElement('div');\n",
       "    toolbar.classList = 'mpl-toolbar';\n",
       "    this.root.appendChild(toolbar);\n",
       "\n",
       "    function on_click_closure(name) {\n",
       "        return function (_event) {\n",
       "            return fig.toolbar_button_onclick(name);\n",
       "        };\n",
       "    }\n",
       "\n",
       "    function on_mouseover_closure(tooltip) {\n",
       "        return function (event) {\n",
       "            if (!event.currentTarget.disabled) {\n",
       "                return fig.toolbar_button_onmouseover(tooltip);\n",
       "            }\n",
       "        };\n",
       "    }\n",
       "\n",
       "    fig.buttons = {};\n",
       "    var buttonGroup = document.createElement('div');\n",
       "    buttonGroup.classList = 'mpl-button-group';\n",
       "    for (var toolbar_ind in mpl.toolbar_items) {\n",
       "        var name = mpl.toolbar_items[toolbar_ind][0];\n",
       "        var tooltip = mpl.toolbar_items[toolbar_ind][1];\n",
       "        var image = mpl.toolbar_items[toolbar_ind][2];\n",
       "        var method_name = mpl.toolbar_items[toolbar_ind][3];\n",
       "\n",
       "        if (!name) {\n",
       "            /* Instead of a spacer, we start a new button group. */\n",
       "            if (buttonGroup.hasChildNodes()) {\n",
       "                toolbar.appendChild(buttonGroup);\n",
       "            }\n",
       "            buttonGroup = document.createElement('div');\n",
       "            buttonGroup.classList = 'mpl-button-group';\n",
       "            continue;\n",
       "        }\n",
       "\n",
       "        var button = (fig.buttons[name] = document.createElement('button'));\n",
       "        button.classList = 'mpl-widget';\n",
       "        button.setAttribute('role', 'button');\n",
       "        button.setAttribute('aria-disabled', 'false');\n",
       "        button.addEventListener('click', on_click_closure(method_name));\n",
       "        button.addEventListener('mouseover', on_mouseover_closure(tooltip));\n",
       "\n",
       "        var icon_img = document.createElement('img');\n",
       "        icon_img.src = '_images/' + image + '.png';\n",
       "        icon_img.srcset = '_images/' + image + '_large.png 2x';\n",
       "        icon_img.alt = tooltip;\n",
       "        button.appendChild(icon_img);\n",
       "\n",
       "        buttonGroup.appendChild(button);\n",
       "    }\n",
       "\n",
       "    if (buttonGroup.hasChildNodes()) {\n",
       "        toolbar.appendChild(buttonGroup);\n",
       "    }\n",
       "\n",
       "    var fmt_picker = document.createElement('select');\n",
       "    fmt_picker.classList = 'mpl-widget';\n",
       "    toolbar.appendChild(fmt_picker);\n",
       "    this.format_dropdown = fmt_picker;\n",
       "\n",
       "    for (var ind in mpl.extensions) {\n",
       "        var fmt = mpl.extensions[ind];\n",
       "        var option = document.createElement('option');\n",
       "        option.selected = fmt === mpl.default_extension;\n",
       "        option.innerHTML = fmt;\n",
       "        fmt_picker.appendChild(option);\n",
       "    }\n",
       "\n",
       "    var status_bar = document.createElement('span');\n",
       "    status_bar.classList = 'mpl-message';\n",
       "    toolbar.appendChild(status_bar);\n",
       "    this.message = status_bar;\n",
       "};\n",
       "\n",
       "mpl.figure.prototype.request_resize = function (x_pixels, y_pixels) {\n",
       "    // Request matplotlib to resize the figure. Matplotlib will then trigger a resize in the client,\n",
       "    // which will in turn request a refresh of the image.\n",
       "    this.send_message('resize', { width: x_pixels, height: y_pixels });\n",
       "};\n",
       "\n",
       "mpl.figure.prototype.send_message = function (type, properties) {\n",
       "    properties['type'] = type;\n",
       "    properties['figure_id'] = this.id;\n",
       "    this.ws.send(JSON.stringify(properties));\n",
       "};\n",
       "\n",
       "mpl.figure.prototype.send_draw_message = function () {\n",
       "    if (!this.waiting) {\n",
       "        this.waiting = true;\n",
       "        this.ws.send(JSON.stringify({ type: 'draw', figure_id: this.id }));\n",
       "    }\n",
       "};\n",
       "\n",
       "mpl.figure.prototype.handle_save = function (fig, _msg) {\n",
       "    var format_dropdown = fig.format_dropdown;\n",
       "    var format = format_dropdown.options[format_dropdown.selectedIndex].value;\n",
       "    fig.ondownload(fig, format);\n",
       "};\n",
       "\n",
       "mpl.figure.prototype.handle_resize = function (fig, msg) {\n",
       "    var size = msg['size'];\n",
       "    if (size[0] !== fig.canvas.width || size[1] !== fig.canvas.height) {\n",
       "        fig._resize_canvas(size[0], size[1], msg['forward']);\n",
       "        fig.send_message('refresh', {});\n",
       "    }\n",
       "};\n",
       "\n",
       "mpl.figure.prototype.handle_rubberband = function (fig, msg) {\n",
       "    var x0 = msg['x0'] / fig.ratio;\n",
       "    var y0 = (fig.canvas.height - msg['y0']) / fig.ratio;\n",
       "    var x1 = msg['x1'] / fig.ratio;\n",
       "    var y1 = (fig.canvas.height - msg['y1']) / fig.ratio;\n",
       "    x0 = Math.floor(x0) + 0.5;\n",
       "    y0 = Math.floor(y0) + 0.5;\n",
       "    x1 = Math.floor(x1) + 0.5;\n",
       "    y1 = Math.floor(y1) + 0.5;\n",
       "    var min_x = Math.min(x0, x1);\n",
       "    var min_y = Math.min(y0, y1);\n",
       "    var width = Math.abs(x1 - x0);\n",
       "    var height = Math.abs(y1 - y0);\n",
       "\n",
       "    fig.rubberband_context.clearRect(\n",
       "        0,\n",
       "        0,\n",
       "        fig.canvas.width / fig.ratio,\n",
       "        fig.canvas.height / fig.ratio\n",
       "    );\n",
       "\n",
       "    fig.rubberband_context.strokeRect(min_x, min_y, width, height);\n",
       "};\n",
       "\n",
       "mpl.figure.prototype.handle_figure_label = function (fig, msg) {\n",
       "    // Updates the figure title.\n",
       "    fig.header.textContent = msg['label'];\n",
       "};\n",
       "\n",
       "mpl.figure.prototype.handle_cursor = function (fig, msg) {\n",
       "    fig.rubberband_canvas.style.cursor = msg['cursor'];\n",
       "};\n",
       "\n",
       "mpl.figure.prototype.handle_message = function (fig, msg) {\n",
       "    fig.message.textContent = msg['message'];\n",
       "};\n",
       "\n",
       "mpl.figure.prototype.handle_draw = function (fig, _msg) {\n",
       "    // Request the server to send over a new figure.\n",
       "    fig.send_draw_message();\n",
       "};\n",
       "\n",
       "mpl.figure.prototype.handle_image_mode = function (fig, msg) {\n",
       "    fig.image_mode = msg['mode'];\n",
       "};\n",
       "\n",
       "mpl.figure.prototype.handle_history_buttons = function (fig, msg) {\n",
       "    for (var key in msg) {\n",
       "        if (!(key in fig.buttons)) {\n",
       "            continue;\n",
       "        }\n",
       "        fig.buttons[key].disabled = !msg[key];\n",
       "        fig.buttons[key].setAttribute('aria-disabled', !msg[key]);\n",
       "    }\n",
       "};\n",
       "\n",
       "mpl.figure.prototype.handle_navigate_mode = function (fig, msg) {\n",
       "    if (msg['mode'] === 'PAN') {\n",
       "        fig.buttons['Pan'].classList.add('active');\n",
       "        fig.buttons['Zoom'].classList.remove('active');\n",
       "    } else if (msg['mode'] === 'ZOOM') {\n",
       "        fig.buttons['Pan'].classList.remove('active');\n",
       "        fig.buttons['Zoom'].classList.add('active');\n",
       "    } else {\n",
       "        fig.buttons['Pan'].classList.remove('active');\n",
       "        fig.buttons['Zoom'].classList.remove('active');\n",
       "    }\n",
       "};\n",
       "\n",
       "mpl.figure.prototype.updated_canvas_event = function () {\n",
       "    // Called whenever the canvas gets updated.\n",
       "    this.send_message('ack', {});\n",
       "};\n",
       "\n",
       "// A function to construct a web socket function for onmessage handling.\n",
       "// Called in the figure constructor.\n",
       "mpl.figure.prototype._make_on_message_function = function (fig) {\n",
       "    return function socket_on_message(evt) {\n",
       "        if (evt.data instanceof Blob) {\n",
       "            var img = evt.data;\n",
       "            if (img.type !== 'image/png') {\n",
       "                /* FIXME: We get \"Resource interpreted as Image but\n",
       "                 * transferred with MIME type text/plain:\" errors on\n",
       "                 * Chrome.  But how to set the MIME type?  It doesn't seem\n",
       "                 * to be part of the websocket stream */\n",
       "                img.type = 'image/png';\n",
       "            }\n",
       "\n",
       "            /* Free the memory for the previous frames */\n",
       "            if (fig.imageObj.src) {\n",
       "                (window.URL || window.webkitURL).revokeObjectURL(\n",
       "                    fig.imageObj.src\n",
       "                );\n",
       "            }\n",
       "\n",
       "            fig.imageObj.src = (window.URL || window.webkitURL).createObjectURL(\n",
       "                img\n",
       "            );\n",
       "            fig.updated_canvas_event();\n",
       "            fig.waiting = false;\n",
       "            return;\n",
       "        } else if (\n",
       "            typeof evt.data === 'string' &&\n",
       "            evt.data.slice(0, 21) === 'data:image/png;base64'\n",
       "        ) {\n",
       "            fig.imageObj.src = evt.data;\n",
       "            fig.updated_canvas_event();\n",
       "            fig.waiting = false;\n",
       "            return;\n",
       "        }\n",
       "\n",
       "        var msg = JSON.parse(evt.data);\n",
       "        var msg_type = msg['type'];\n",
       "\n",
       "        // Call the  \"handle_{type}\" callback, which takes\n",
       "        // the figure and JSON message as its only arguments.\n",
       "        try {\n",
       "            var callback = fig['handle_' + msg_type];\n",
       "        } catch (e) {\n",
       "            console.log(\n",
       "                \"No handler for the '\" + msg_type + \"' message type: \",\n",
       "                msg\n",
       "            );\n",
       "            return;\n",
       "        }\n",
       "\n",
       "        if (callback) {\n",
       "            try {\n",
       "                // console.log(\"Handling '\" + msg_type + \"' message: \", msg);\n",
       "                callback(fig, msg);\n",
       "            } catch (e) {\n",
       "                console.log(\n",
       "                    \"Exception inside the 'handler_\" + msg_type + \"' callback:\",\n",
       "                    e,\n",
       "                    e.stack,\n",
       "                    msg\n",
       "                );\n",
       "            }\n",
       "        }\n",
       "    };\n",
       "};\n",
       "\n",
       "// from https://stackoverflow.com/questions/1114465/getting-mouse-location-in-canvas\n",
       "mpl.findpos = function (e) {\n",
       "    //this section is from http://www.quirksmode.org/js/events_properties.html\n",
       "    var targ;\n",
       "    if (!e) {\n",
       "        e = window.event;\n",
       "    }\n",
       "    if (e.target) {\n",
       "        targ = e.target;\n",
       "    } else if (e.srcElement) {\n",
       "        targ = e.srcElement;\n",
       "    }\n",
       "    if (targ.nodeType === 3) {\n",
       "        // defeat Safari bug\n",
       "        targ = targ.parentNode;\n",
       "    }\n",
       "\n",
       "    // pageX,Y are the mouse positions relative to the document\n",
       "    var boundingRect = targ.getBoundingClientRect();\n",
       "    var x = e.pageX - (boundingRect.left + document.body.scrollLeft);\n",
       "    var y = e.pageY - (boundingRect.top + document.body.scrollTop);\n",
       "\n",
       "    return { x: x, y: y };\n",
       "};\n",
       "\n",
       "/*\n",
       " * return a copy of an object with only non-object keys\n",
       " * we need this to avoid circular references\n",
       " * https://stackoverflow.com/a/24161582/3208463\n",
       " */\n",
       "function simpleKeys(original) {\n",
       "    return Object.keys(original).reduce(function (obj, key) {\n",
       "        if (typeof original[key] !== 'object') {\n",
       "            obj[key] = original[key];\n",
       "        }\n",
       "        return obj;\n",
       "    }, {});\n",
       "}\n",
       "\n",
       "mpl.figure.prototype.mouse_event = function (event, name) {\n",
       "    var canvas_pos = mpl.findpos(event);\n",
       "\n",
       "    if (name === 'button_press') {\n",
       "        this.canvas.focus();\n",
       "        this.canvas_div.focus();\n",
       "    }\n",
       "\n",
       "    var x = canvas_pos.x * this.ratio;\n",
       "    var y = canvas_pos.y * this.ratio;\n",
       "\n",
       "    this.send_message(name, {\n",
       "        x: x,\n",
       "        y: y,\n",
       "        button: event.button,\n",
       "        step: event.step,\n",
       "        guiEvent: simpleKeys(event),\n",
       "    });\n",
       "\n",
       "    /* This prevents the web browser from automatically changing to\n",
       "     * the text insertion cursor when the button is pressed.  We want\n",
       "     * to control all of the cursor setting manually through the\n",
       "     * 'cursor' event from matplotlib */\n",
       "    event.preventDefault();\n",
       "    return false;\n",
       "};\n",
       "\n",
       "mpl.figure.prototype._key_event_extra = function (_event, _name) {\n",
       "    // Handle any extra behaviour associated with a key event\n",
       "};\n",
       "\n",
       "mpl.figure.prototype.key_event = function (event, name) {\n",
       "    // Prevent repeat events\n",
       "    if (name === 'key_press') {\n",
       "        if (event.key === this._key) {\n",
       "            return;\n",
       "        } else {\n",
       "            this._key = event.key;\n",
       "        }\n",
       "    }\n",
       "    if (name === 'key_release') {\n",
       "        this._key = null;\n",
       "    }\n",
       "\n",
       "    var value = '';\n",
       "    if (event.ctrlKey && event.key !== 'Control') {\n",
       "        value += 'ctrl+';\n",
       "    }\n",
       "    else if (event.altKey && event.key !== 'Alt') {\n",
       "        value += 'alt+';\n",
       "    }\n",
       "    else if (event.shiftKey && event.key !== 'Shift') {\n",
       "        value += 'shift+';\n",
       "    }\n",
       "\n",
       "    value += 'k' + event.key;\n",
       "\n",
       "    this._key_event_extra(event, name);\n",
       "\n",
       "    this.send_message(name, { key: value, guiEvent: simpleKeys(event) });\n",
       "    return false;\n",
       "};\n",
       "\n",
       "mpl.figure.prototype.toolbar_button_onclick = function (name) {\n",
       "    if (name === 'download') {\n",
       "        this.handle_save(this, null);\n",
       "    } else {\n",
       "        this.send_message('toolbar_button', { name: name });\n",
       "    }\n",
       "};\n",
       "\n",
       "mpl.figure.prototype.toolbar_button_onmouseover = function (tooltip) {\n",
       "    this.message.textContent = tooltip;\n",
       "};\n",
       "\n",
       "///////////////// REMAINING CONTENT GENERATED BY embed_js.py /////////////////\n",
       "// prettier-ignore\n",
       "var _JSXTOOLS_RESIZE_OBSERVER=function(A){var t,i=new WeakMap,n=new WeakMap,a=new WeakMap,r=new WeakMap,o=new Set;function s(e){if(!(this instanceof s))throw new TypeError(\"Constructor requires 'new' operator\");i.set(this,e)}function h(){throw new TypeError(\"Function is not a constructor\")}function c(e,t,i,n){e=0 in arguments?Number(arguments[0]):0,t=1 in arguments?Number(arguments[1]):0,i=2 in arguments?Number(arguments[2]):0,n=3 in arguments?Number(arguments[3]):0,this.right=(this.x=this.left=e)+(this.width=i),this.bottom=(this.y=this.top=t)+(this.height=n),Object.freeze(this)}function d(){t=requestAnimationFrame(d);var s=new WeakMap,p=new Set;o.forEach((function(t){r.get(t).forEach((function(i){var r=t instanceof window.SVGElement,o=a.get(t),d=r?0:parseFloat(o.paddingTop),f=r?0:parseFloat(o.paddingRight),l=r?0:parseFloat(o.paddingBottom),u=r?0:parseFloat(o.paddingLeft),g=r?0:parseFloat(o.borderTopWidth),m=r?0:parseFloat(o.borderRightWidth),w=r?0:parseFloat(o.borderBottomWidth),b=u+f,F=d+l,v=(r?0:parseFloat(o.borderLeftWidth))+m,W=g+w,y=r?0:t.offsetHeight-W-t.clientHeight,E=r?0:t.offsetWidth-v-t.clientWidth,R=b+v,z=F+W,M=r?t.width:parseFloat(o.width)-R-E,O=r?t.height:parseFloat(o.height)-z-y;if(n.has(t)){var k=n.get(t);if(k[0]===M&&k[1]===O)return}n.set(t,[M,O]);var S=Object.create(h.prototype);S.target=t,S.contentRect=new c(u,d,M,O),s.has(i)||(s.set(i,[]),p.add(i)),s.get(i).push(S)}))})),p.forEach((function(e){i.get(e).call(e,s.get(e),e)}))}return s.prototype.observe=function(i){if(i instanceof window.Element){r.has(i)||(r.set(i,new Set),o.add(i),a.set(i,window.getComputedStyle(i)));var n=r.get(i);n.has(this)||n.add(this),cancelAnimationFrame(t),t=requestAnimationFrame(d)}},s.prototype.unobserve=function(i){if(i instanceof window.Element&&r.has(i)){var n=r.get(i);n.has(this)&&(n.delete(this),n.size||(r.delete(i),o.delete(i))),n.size||r.delete(i),o.size||cancelAnimationFrame(t)}},A.DOMRectReadOnly=c,A.ResizeObserver=s,A.ResizeObserverEntry=h,A}; // eslint-disable-line\n",
       "mpl.toolbar_items = [[\"Home\", \"Reset original view\", \"fa fa-home icon-home\", \"home\"], [\"Back\", \"Back to previous view\", \"fa fa-arrow-left icon-arrow-left\", \"back\"], [\"Forward\", \"Forward to next view\", \"fa fa-arrow-right icon-arrow-right\", \"forward\"], [\"\", \"\", \"\", \"\"], [\"Pan\", \"Left button pans, Right button zooms\\nx/y fixes axis, CTRL fixes aspect\", \"fa fa-arrows icon-move\", \"pan\"], [\"Zoom\", \"Zoom to rectangle\\nx/y fixes axis\", \"fa fa-square-o icon-check-empty\", \"zoom\"], [\"\", \"\", \"\", \"\"], [\"Download\", \"Download plot\", \"fa fa-floppy-o icon-save\", \"download\"]];\n",
       "\n",
       "mpl.extensions = [\"eps\", \"jpeg\", \"pgf\", \"pdf\", \"png\", \"ps\", \"raw\", \"svg\", \"tif\"];\n",
       "\n",
       "mpl.default_extension = \"png\";/* global mpl */\n",
       "\n",
       "var comm_websocket_adapter = function (comm) {\n",
       "    // Create a \"websocket\"-like object which calls the given IPython comm\n",
       "    // object with the appropriate methods. Currently this is a non binary\n",
       "    // socket, so there is still some room for performance tuning.\n",
       "    var ws = {};\n",
       "\n",
       "    ws.binaryType = comm.kernel.ws.binaryType;\n",
       "    ws.readyState = comm.kernel.ws.readyState;\n",
       "    function updateReadyState(_event) {\n",
       "        if (comm.kernel.ws) {\n",
       "            ws.readyState = comm.kernel.ws.readyState;\n",
       "        } else {\n",
       "            ws.readyState = 3; // Closed state.\n",
       "        }\n",
       "    }\n",
       "    comm.kernel.ws.addEventListener('open', updateReadyState);\n",
       "    comm.kernel.ws.addEventListener('close', updateReadyState);\n",
       "    comm.kernel.ws.addEventListener('error', updateReadyState);\n",
       "\n",
       "    ws.close = function () {\n",
       "        comm.close();\n",
       "    };\n",
       "    ws.send = function (m) {\n",
       "        //console.log('sending', m);\n",
       "        comm.send(m);\n",
       "    };\n",
       "    // Register the callback with on_msg.\n",
       "    comm.on_msg(function (msg) {\n",
       "        //console.log('receiving', msg['content']['data'], msg);\n",
       "        var data = msg['content']['data'];\n",
       "        if (data['blob'] !== undefined) {\n",
       "            data = {\n",
       "                data: new Blob(msg['buffers'], { type: data['blob'] }),\n",
       "            };\n",
       "        }\n",
       "        // Pass the mpl event to the overridden (by mpl) onmessage function.\n",
       "        ws.onmessage(data);\n",
       "    });\n",
       "    return ws;\n",
       "};\n",
       "\n",
       "mpl.mpl_figure_comm = function (comm, msg) {\n",
       "    // This is the function which gets called when the mpl process\n",
       "    // starts-up an IPython Comm through the \"matplotlib\" channel.\n",
       "\n",
       "    var id = msg.content.data.id;\n",
       "    // Get hold of the div created by the display call when the Comm\n",
       "    // socket was opened in Python.\n",
       "    var element = document.getElementById(id);\n",
       "    var ws_proxy = comm_websocket_adapter(comm);\n",
       "\n",
       "    function ondownload(figure, _format) {\n",
       "        window.open(figure.canvas.toDataURL());\n",
       "    }\n",
       "\n",
       "    var fig = new mpl.figure(id, ws_proxy, ondownload, element);\n",
       "\n",
       "    // Call onopen now - mpl needs it, as it is assuming we've passed it a real\n",
       "    // web socket which is closed, not our websocket->open comm proxy.\n",
       "    ws_proxy.onopen();\n",
       "\n",
       "    fig.parent_element = element;\n",
       "    fig.cell_info = mpl.find_output_cell(\"<div id='\" + id + \"'></div>\");\n",
       "    if (!fig.cell_info) {\n",
       "        console.error('Failed to find cell for figure', id, fig);\n",
       "        return;\n",
       "    }\n",
       "    fig.cell_info[0].output_area.element.on(\n",
       "        'cleared',\n",
       "        { fig: fig },\n",
       "        fig._remove_fig_handler\n",
       "    );\n",
       "};\n",
       "\n",
       "mpl.figure.prototype.handle_close = function (fig, msg) {\n",
       "    var width = fig.canvas.width / fig.ratio;\n",
       "    fig.cell_info[0].output_area.element.off(\n",
       "        'cleared',\n",
       "        fig._remove_fig_handler\n",
       "    );\n",
       "    fig.resizeObserverInstance.unobserve(fig.canvas_div);\n",
       "\n",
       "    // Update the output cell to use the data from the current canvas.\n",
       "    fig.push_to_output();\n",
       "    var dataURL = fig.canvas.toDataURL();\n",
       "    // Re-enable the keyboard manager in IPython - without this line, in FF,\n",
       "    // the notebook keyboard shortcuts fail.\n",
       "    IPython.keyboard_manager.enable();\n",
       "    fig.parent_element.innerHTML =\n",
       "        '<img src=\"' + dataURL + '\" width=\"' + width + '\">';\n",
       "    fig.close_ws(fig, msg);\n",
       "};\n",
       "\n",
       "mpl.figure.prototype.close_ws = function (fig, msg) {\n",
       "    fig.send_message('closing', msg);\n",
       "    // fig.ws.close()\n",
       "};\n",
       "\n",
       "mpl.figure.prototype.push_to_output = function (_remove_interactive) {\n",
       "    // Turn the data on the canvas into data in the output cell.\n",
       "    var width = this.canvas.width / this.ratio;\n",
       "    var dataURL = this.canvas.toDataURL();\n",
       "    this.cell_info[1]['text/html'] =\n",
       "        '<img src=\"' + dataURL + '\" width=\"' + width + '\">';\n",
       "};\n",
       "\n",
       "mpl.figure.prototype.updated_canvas_event = function () {\n",
       "    // Tell IPython that the notebook contents must change.\n",
       "    IPython.notebook.set_dirty(true);\n",
       "    this.send_message('ack', {});\n",
       "    var fig = this;\n",
       "    // Wait a second, then push the new image to the DOM so\n",
       "    // that it is saved nicely (might be nice to debounce this).\n",
       "    setTimeout(function () {\n",
       "        fig.push_to_output();\n",
       "    }, 1000);\n",
       "};\n",
       "\n",
       "mpl.figure.prototype._init_toolbar = function () {\n",
       "    var fig = this;\n",
       "\n",
       "    var toolbar = document.createElement('div');\n",
       "    toolbar.classList = 'btn-toolbar';\n",
       "    this.root.appendChild(toolbar);\n",
       "\n",
       "    function on_click_closure(name) {\n",
       "        return function (_event) {\n",
       "            return fig.toolbar_button_onclick(name);\n",
       "        };\n",
       "    }\n",
       "\n",
       "    function on_mouseover_closure(tooltip) {\n",
       "        return function (event) {\n",
       "            if (!event.currentTarget.disabled) {\n",
       "                return fig.toolbar_button_onmouseover(tooltip);\n",
       "            }\n",
       "        };\n",
       "    }\n",
       "\n",
       "    fig.buttons = {};\n",
       "    var buttonGroup = document.createElement('div');\n",
       "    buttonGroup.classList = 'btn-group';\n",
       "    var button;\n",
       "    for (var toolbar_ind in mpl.toolbar_items) {\n",
       "        var name = mpl.toolbar_items[toolbar_ind][0];\n",
       "        var tooltip = mpl.toolbar_items[toolbar_ind][1];\n",
       "        var image = mpl.toolbar_items[toolbar_ind][2];\n",
       "        var method_name = mpl.toolbar_items[toolbar_ind][3];\n",
       "\n",
       "        if (!name) {\n",
       "            /* Instead of a spacer, we start a new button group. */\n",
       "            if (buttonGroup.hasChildNodes()) {\n",
       "                toolbar.appendChild(buttonGroup);\n",
       "            }\n",
       "            buttonGroup = document.createElement('div');\n",
       "            buttonGroup.classList = 'btn-group';\n",
       "            continue;\n",
       "        }\n",
       "\n",
       "        button = fig.buttons[name] = document.createElement('button');\n",
       "        button.classList = 'btn btn-default';\n",
       "        button.href = '#';\n",
       "        button.title = name;\n",
       "        button.innerHTML = '<i class=\"fa ' + image + ' fa-lg\"></i>';\n",
       "        button.addEventListener('click', on_click_closure(method_name));\n",
       "        button.addEventListener('mouseover', on_mouseover_closure(tooltip));\n",
       "        buttonGroup.appendChild(button);\n",
       "    }\n",
       "\n",
       "    if (buttonGroup.hasChildNodes()) {\n",
       "        toolbar.appendChild(buttonGroup);\n",
       "    }\n",
       "\n",
       "    // Add the status bar.\n",
       "    var status_bar = document.createElement('span');\n",
       "    status_bar.classList = 'mpl-message pull-right';\n",
       "    toolbar.appendChild(status_bar);\n",
       "    this.message = status_bar;\n",
       "\n",
       "    // Add the close button to the window.\n",
       "    var buttongrp = document.createElement('div');\n",
       "    buttongrp.classList = 'btn-group inline pull-right';\n",
       "    button = document.createElement('button');\n",
       "    button.classList = 'btn btn-mini btn-primary';\n",
       "    button.href = '#';\n",
       "    button.title = 'Stop Interaction';\n",
       "    button.innerHTML = '<i class=\"fa fa-power-off icon-remove icon-large\"></i>';\n",
       "    button.addEventListener('click', function (_evt) {\n",
       "        fig.handle_close(fig, {});\n",
       "    });\n",
       "    button.addEventListener(\n",
       "        'mouseover',\n",
       "        on_mouseover_closure('Stop Interaction')\n",
       "    );\n",
       "    buttongrp.appendChild(button);\n",
       "    var titlebar = this.root.querySelector('.ui-dialog-titlebar');\n",
       "    titlebar.insertBefore(buttongrp, titlebar.firstChild);\n",
       "};\n",
       "\n",
       "mpl.figure.prototype._remove_fig_handler = function (event) {\n",
       "    var fig = event.data.fig;\n",
       "    if (event.target !== this) {\n",
       "        // Ignore bubbled events from children.\n",
       "        return;\n",
       "    }\n",
       "    fig.close_ws(fig, {});\n",
       "};\n",
       "\n",
       "mpl.figure.prototype._root_extra_style = function (el) {\n",
       "    el.style.boxSizing = 'content-box'; // override notebook setting of border-box.\n",
       "};\n",
       "\n",
       "mpl.figure.prototype._canvas_extra_style = function (el) {\n",
       "    // this is important to make the div 'focusable\n",
       "    el.setAttribute('tabindex', 0);\n",
       "    // reach out to IPython and tell the keyboard manager to turn it's self\n",
       "    // off when our div gets focus\n",
       "\n",
       "    // location in version 3\n",
       "    if (IPython.notebook.keyboard_manager) {\n",
       "        IPython.notebook.keyboard_manager.register_events(el);\n",
       "    } else {\n",
       "        // location in version 2\n",
       "        IPython.keyboard_manager.register_events(el);\n",
       "    }\n",
       "};\n",
       "\n",
       "mpl.figure.prototype._key_event_extra = function (event, _name) {\n",
       "    // Check for shift+enter\n",
       "    if (event.shiftKey && event.which === 13) {\n",
       "        this.canvas_div.blur();\n",
       "        // select the cell after this one\n",
       "        var index = IPython.notebook.find_cell_index(this.cell_info[0]);\n",
       "        IPython.notebook.select(index + 1);\n",
       "    }\n",
       "};\n",
       "\n",
       "mpl.figure.prototype.handle_save = function (fig, _msg) {\n",
       "    fig.ondownload(fig, null);\n",
       "};\n",
       "\n",
       "mpl.find_output_cell = function (html_output) {\n",
       "    // Return the cell and output element which can be found *uniquely* in the notebook.\n",
       "    // Note - this is a bit hacky, but it is done because the \"notebook_saving.Notebook\"\n",
       "    // IPython event is triggered only after the cells have been serialised, which for\n",
       "    // our purposes (turning an active figure into a static one), is too late.\n",
       "    var cells = IPython.notebook.get_cells();\n",
       "    var ncells = cells.length;\n",
       "    for (var i = 0; i < ncells; i++) {\n",
       "        var cell = cells[i];\n",
       "        if (cell.cell_type === 'code') {\n",
       "            for (var j = 0; j < cell.output_area.outputs.length; j++) {\n",
       "                var data = cell.output_area.outputs[j];\n",
       "                if (data.data) {\n",
       "                    // IPython >= 3 moved mimebundle to data attribute of output\n",
       "                    data = data.data;\n",
       "                }\n",
       "                if (data['text/html'] === html_output) {\n",
       "                    return [cell, data, j];\n",
       "                }\n",
       "            }\n",
       "        }\n",
       "    }\n",
       "};\n",
       "\n",
       "// Register the function which deals with the matplotlib target/channel.\n",
       "// The kernel may be null if the page has been refreshed.\n",
       "if (IPython.notebook.kernel !== null) {\n",
       "    IPython.notebook.kernel.comm_manager.register_target(\n",
       "        'matplotlib',\n",
       "        mpl.mpl_figure_comm\n",
       "    );\n",
       "}\n"
      ],
      "text/plain": [
       "<IPython.core.display.Javascript object>"
      ]
     },
     "metadata": {},
     "output_type": "display_data"
    },
    {
     "data": {
      "text/html": [
       "<img src=\"data:image/png;base64,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\" width=\"640\">"
      ],
      "text/plain": [
       "<IPython.core.display.HTML object>"
      ]
     },
     "metadata": {},
     "output_type": "display_data"
    }
   ],
   "source": [
    "t = np.linspace(-2, 2)\n",
    "ft=(t**2/2) - np.cos(t)\n",
    "plt.plot(t, ft, label=r'$f(x)$')\n",
    "plt.axhline(color='black', zorder=-1)\n",
    "plt.axvline(color='black', zorder=-1)\n",
    "plt.legend();"
   ]
  },
  {
   "cell_type": "code",
   "execution_count": 18,
   "metadata": {},
   "outputs": [],
   "source": [
    "%matplotlib inline"
   ]
  },
  {
   "cell_type": "markdown",
   "metadata": {},
   "source": [
    "Ваш код треба да врати два сегмента довоњно мале ширине унутар којих се налази по једна нула функције. "
   ]
  },
  {
   "cell_type": "code",
   "execution_count": 19,
   "metadata": {},
   "outputs": [
    {
     "data": {
      "text/plain": [
       "array([-2. , -1.2, -0.4,  0.4,  1.2,  2. ])"
      ]
     },
     "execution_count": 19,
     "metadata": {},
     "output_type": "execute_result"
    }
   ],
   "source": [
    "intervali=np.linspace(a,b,p+1)\n",
    "intervali"
   ]
  },
  {
   "cell_type": "code",
   "execution_count": 20,
   "metadata": {},
   "outputs": [
    {
     "data": {
      "text/plain": [
       "array([ 1,  1, -1, -1,  1,  1])"
      ]
     },
     "execution_count": 20,
     "metadata": {},
     "output_type": "execute_result"
    }
   ],
   "source": [
    "znak=np.sign(f(intervali)).astype(int)\n",
    "znak"
   ]
  },
  {
   "cell_type": "markdown",
   "metadata": {},
   "source": [
    "Детектујемо почетке интервала промене знака на следећи начин:"
   ]
  },
  {
   "cell_type": "code",
   "execution_count": 21,
   "metadata": {},
   "outputs": [
    {
     "data": {
      "text/plain": [
       "array([False,  True, False,  True, False])"
      ]
     },
     "execution_count": 21,
     "metadata": {},
     "output_type": "execute_result"
    }
   ],
   "source": [
    "indeksi=(znak[:-1]-znak[1:])!=0  \n",
    "indeksi"
   ]
  },
  {
   "cell_type": "markdown",
   "metadata": {},
   "source": [
    "Према томе низ левих граница и низ десних граница гласе:"
   ]
  },
  {
   "cell_type": "code",
   "execution_count": 22,
   "metadata": {},
   "outputs": [
    {
     "data": {
      "text/plain": [
       "(array([-1.2,  0.4]), array([-0.4,  1.2]))"
      ]
     },
     "execution_count": 22,
     "metadata": {},
     "output_type": "execute_result"
    }
   ],
   "source": [
    "intervali[:-1][indeksi],intervali[1:][indeksi]"
   ]
  },
  {
   "cell_type": "markdown",
   "metadata": {},
   "source": [
    "Примећујемо да је једна промена знака на интервалу $[-1.2,-0.4]$ а друга на $[0.4,1.2].$ Те интервале даље делимо на нових $p$ подинтервала."
   ]
  },
  {
   "cell_type": "code",
   "execution_count": 23,
   "metadata": {},
   "outputs": [
    {
     "data": {
      "text/plain": [
       "array([[-1.2 ,  0.4 ],\n",
       "       [-1.04,  0.56],\n",
       "       [-0.88,  0.72],\n",
       "       [-0.72,  0.88],\n",
       "       [-0.56,  1.04],\n",
       "       [-0.4 ,  1.2 ]])"
      ]
     },
     "execution_count": 23,
     "metadata": {},
     "output_type": "execute_result"
    }
   ],
   "source": [
    "intervali=np.linspace(intervali[:-1][indeksi],intervali[1:][indeksi],p+1)\n",
    "intervali"
   ]
  },
  {
   "cell_type": "code",
   "execution_count": 24,
   "metadata": {},
   "outputs": [
    {
     "data": {
      "text/plain": [
       "array([-1.2 , -1.04, -0.88, -0.72, -0.56, -0.4 ,  0.4 ,  0.56,  0.72,\n",
       "        0.88,  1.04,  1.2 ])"
      ]
     },
     "execution_count": 24,
     "metadata": {},
     "output_type": "execute_result"
    }
   ],
   "source": [
    "intervali=intervali.reshape(intervali.size,order='F')\n",
    "intervali"
   ]
  },
  {
   "cell_type": "markdown",
   "metadata": {},
   "source": [
    "У другој итерацији пронађене интервале сужавамо додатном под поделом."
   ]
  },
  {
   "cell_type": "code",
   "execution_count": 25,
   "metadata": {},
   "outputs": [
    {
     "data": {
      "text/plain": [
       "array([ 1,  1, -1, -1, -1, -1, -1, -1, -1, -1,  1,  1])"
      ]
     },
     "execution_count": 25,
     "metadata": {},
     "output_type": "execute_result"
    }
   ],
   "source": [
    "znak=np.sign(f(intervali)).astype(int)\n",
    "znak"
   ]
  },
  {
   "cell_type": "code",
   "execution_count": 26,
   "metadata": {},
   "outputs": [
    {
     "data": {
      "text/plain": [
       "array([False,  True, False, False, False, False, False, False, False,\n",
       "        True, False])"
      ]
     },
     "execution_count": 26,
     "metadata": {},
     "output_type": "execute_result"
    }
   ],
   "source": [
    "indeksi=(znak[:-1]-znak[1:])!=0  \n",
    "indeksi"
   ]
  },
  {
   "cell_type": "code",
   "execution_count": 27,
   "metadata": {},
   "outputs": [
    {
     "data": {
      "text/plain": [
       "(array([-1.04,  0.88]), array([-0.88,  1.04]))"
      ]
     },
     "execution_count": 27,
     "metadata": {},
     "output_type": "execute_result"
    }
   ],
   "source": [
    "intervali[:-1][indeksi],intervali[1:][indeksi]"
   ]
  },
  {
   "cell_type": "markdown",
   "metadata": {},
   "source": [
    "У другој итерацији пронађена је једна промена знака на интервалу $[-1.04,-0.88]$ а друга на $[0.88,1.04].$ Итд."
   ]
  },
  {
   "cell_type": "markdown",
   "metadata": {},
   "source": [
    "За неку другу функцију и други почетни интервал треба да врати подсегменте који ће детектовати нуле за такву другу функцију. На пример за полином генрисан следећом ћелијом треба да детектује три под интервала ако је полазни $[-3,2].$"
   ]
  },
  {
   "cell_type": "code",
   "execution_count": 2,
   "metadata": {},
   "outputs": [],
   "source": [
    "koef=np.poly([-2.257,0.345,1.578])\n",
    "def P(x):\n",
    "    return np.polyval(koef,x)\n",
    "a,b,p=-3,2,5"
   ]
  },
  {
   "cell_type": "code",
   "execution_count": 3,
   "metadata": {
    "scrolled": true
   },
   "outputs": [
    {
     "data": {
      "image/png": "[encoded data removed]",
      "text/plain": [
       "<Figure size 432x288 with 1 Axes>"
      ]
     },
     "metadata": {
      "needs_background": "light"
     },
     "output_type": "display_data"
    }
   ],
   "source": [
    "t = np.linspace(-4, 3)\n",
    "Pt=np.polyval(koef,t)\n",
    "plt.plot(t, Pt, label=r'$P_3(x)$')\n",
    "plt.axhline(color='black', zorder=-1)\n",
    "plt.axvline(color='black', zorder=-1)\n",
    "plt.ylim([-5,5])\n",
    "plt.legend();"
   ]
  },
  {
   "cell_type": "code",
   "execution_count": 30,
   "metadata": {},
   "outputs": [
    {
     "data": {
      "text/plain": [
       "array([-3., -2., -1.,  0.,  1.,  2.])"
      ]
     },
     "execution_count": 30,
     "metadata": {},
     "output_type": "execute_result"
    }
   ],
   "source": [
    "intervali=np.linspace(a,b,p+1)\n",
    "intervali"
   ]
  },
  {
   "cell_type": "code",
   "execution_count": 31,
   "metadata": {},
   "outputs": [
    {
     "data": {
      "text/plain": [
       "array([-1,  1,  1,  1, -1,  1])"
      ]
     },
     "execution_count": 31,
     "metadata": {},
     "output_type": "execute_result"
    }
   ],
   "source": [
    "znak=np.sign(P(intervali)).astype(int)\n",
    "znak"
   ]
  },
  {
   "cell_type": "code",
   "execution_count": 32,
   "metadata": {},
   "outputs": [
    {
     "data": {
      "text/plain": [
       "array([ True, False, False,  True,  True])"
      ]
     },
     "execution_count": 32,
     "metadata": {},
     "output_type": "execute_result"
    }
   ],
   "source": [
    "indeksi=(znak[:-1]-znak[1:])!=0  \n",
    "indeksi"
   ]
  },
  {
   "cell_type": "code",
   "execution_count": 33,
   "metadata": {},
   "outputs": [
    {
     "data": {
      "text/plain": [
       "(array([-3.,  0.,  1.]), array([-2.,  1.,  2.]))"
      ]
     },
     "execution_count": 33,
     "metadata": {},
     "output_type": "execute_result"
    }
   ],
   "source": [
    "intervali[:-1][indeksi],intervali[1:][indeksi]"
   ]
  },
  {
   "cell_type": "markdown",
   "metadata": {},
   "source": [
    "<div class=\"alert alert-block alert-info\">\n",
    "<b> Укупно \n",
    "    \n",
    "50/50 поена</b> \n",
    "</div>"
   ]
  },
  {
   "cell_type": "markdown",
   "metadata": {},
   "source": [
    "Иначе, не морате толико да одвајате задатке у функције. Ово су кратки задаци, нису вам потребни толико одвојени функционални делови за прегледност. Лепо је, читљиво, само ово нису задаци који захтевају пуно линија. \n",
    "\n",
    "Такође, једном учитан модул у Јупитер радну свеску остаје доступан за сваку ћелију радне свеске. Не морате да га учитавате за сваки задатак. "
   ]
  }
 ],
 "metadata": {
  "kernelspec": {
   "display_name": "Python 3",
   "language": "python",
   "name": "python3"
  },
  "language_info": {
   "codemirror_mode": {
    "name": "ipython",
    "version": 3
   },
   "file_extension": ".py",
   "mimetype": "text/x-python",
   "name": "python",
   "nbconvert_exporter": "python",
   "pygments_lexer": "ipython3",
   "version": "3.7.16"
  }
 },
 "nbformat": 4,
 "nbformat_minor": 4
}
