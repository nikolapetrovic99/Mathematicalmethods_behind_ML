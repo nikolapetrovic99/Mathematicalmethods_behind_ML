{
 "cells": [
  {
   "cell_type": "markdown",
   "metadata": {},
   "source": [
    "# Мататематички методи за машинско учење 2023\n",
    "## Домаћи задатак број 5"
   ]
  },
  {
   "cell_type": "markdown",
   "metadata": {},
   "source": [
    "<div class=\"alert alert-block alert-danger\">\n",
    "<b>Име и презиме студента:</b>\n",
    "\n",
    "<b>Број индекса:</b>\n",
    "    \n",
    "</div>    "
   ]
  },
  {
   "cell_type": "markdown",
   "metadata": {},
   "source": [
    "<div class=\"alert alert-block alert-info\">\n",
    "<b>Упутство за израду и предају домаћег задатака: </b> \n",
    "    \n",
    "    1. Пре почетка израде промените име датотеке у 05Domaci_Ime_Prezime. (убаците своје име и презиме) \n",
    "    2. Попуните ћелију испод наслова одговарајућим подацима. \n",
    "    1. Употреба ћирилице није обавезна за предају домаћег задатка.\n",
    "    4. За решавање задатака, уколико је потребно, отворите испод текста задатка додатне ћелије за уписивање текстуалног одговора (Markdown) или програмског кода (Code).\n",
    "    1. Сва израчунавања, уколико је потребно, вршити у Python-у.\n",
    "    5. Након завршетка израде решења домаћег Notebook документ сачувати у pdf формату и проследити га наставнику. То можете да урадите или кроз Teams или на мејл адресу jovana.dzunic@elfak.ni.ac.rs\n",
    "\n",
    "</div> "
   ]
  },
  {
   "cell_type": "code",
   "execution_count": null,
   "metadata": {},
   "outputs": [],
   "source": [
    "import numpy as np\n",
    "import numpy.random as rndm"
   ]
  },
  {
   "cell_type": "markdown",
   "metadata": {},
   "source": [
    "**Задатак 1.** Ако је позната SVD матрице $A=U\\Sigma V^T.$\n",
    "a)  Одредити SVD матрице $A^T.$ \n",
    "\n",
    "(5 поена)"
   ]
  },
  {
   "cell_type": "code",
   "execution_count": 1,
   "metadata": {},
   "outputs": [
    {
     "name": "stdout",
     "output_type": "stream",
     "text": [
      "U za A^T:\n",
      " [[ 0.74602988 -0.59147404 -0.3059377 ]\n",
      " [-0.56286226 -0.31458809 -0.76434312]\n",
      " [-0.35584475 -0.7424236   0.56761053]]\n",
      "Sigma za A^T:\n",
      " [[1.66010685 0.         0.        ]\n",
      " [0.         1.10868127 0.        ]\n",
      " [0.         0.         0.65141258]]\n",
      "V^T za A^T:\n",
      " [[ 0.65600383  0.31873313  0.48738248  0.48013175]\n",
      " [-0.5420141   0.08490566 -0.13827743  0.82455509]\n",
      " [ 0.52403116 -0.3702635  -0.72098339  0.26168539]\n",
      " [-0.03565155 -0.86839229  0.47277969  0.1452693 ]]\n"
     ]
    }
   ],
   "source": [
    "import numpy as np\n",
    "\n",
    "# Generisanje SVD matrice A\n",
    "A = np.random.randn(3, 4)\n",
    "U, s, Vt = np.linalg.svd(A)\n",
    "\n",
    "# Određivanje SVD matrica za A^T\n",
    "V = U\n",
    "Sigma = np.diag(s)\n",
    "Ut = Vt\n",
    "\n",
    "# Ispisivanje matrica U, Sigma i V^T za A^T\n",
    "print(\"U za A^T:\\n\", U)\n",
    "print(\"Sigma za A^T:\\n\", Sigma)\n",
    "print(\"V^T za A^T:\\n\", Vt)\n"
   ]
  },
  {
   "cell_type": "markdown",
   "metadata": {},
   "source": [
    "б) Ако је матрица $A$ регуларна, како гласи SVD матрице $A^{-1}?$\n",
    "\n",
    "(5 поена)"
   ]
  },
  {
   "cell_type": "code",
   "execution_count": 2,
   "metadata": {},
   "outputs": [
    {
     "name": "stdout",
     "output_type": "stream",
     "text": [
      "SVD matrice za A:\n",
      "U =\n",
      " [[-0.41921663  0.32596664 -0.56165794  0.63446318]\n",
      " [ 0.46103125 -0.48850011  0.1832325   0.71780476]\n",
      " [ 0.2429362   0.77497678  0.53398172  0.23506705]\n",
      " [-0.74343097 -0.23350458  0.6048386   0.16418365]] \n",
      "Sigma =\n",
      " [[2.43287388 0.         0.         0.        ]\n",
      " [0.         1.14855134 0.         0.        ]\n",
      " [0.         0.         0.66308468 0.        ]\n",
      " [0.         0.         0.         0.01675892]] \n",
      "V^T =\n",
      " [[-0.63212454 -0.68312127 -0.24869405 -0.26817005]\n",
      " [-0.27074836  0.61880711 -0.66259364 -0.32363986]\n",
      " [-0.54836494  0.36267404  0.6995446  -0.28000141]\n",
      " [-0.47582537  0.13744323 -0.0987841   0.86309981]]\n",
      "SVD matrice za A^-1:\n",
      "U =\n",
      " [[-0.41921663  0.32596664 -0.56165794  0.63446318]\n",
      " [ 0.46103125 -0.48850011  0.1832325   0.71780476]\n",
      " [ 0.2429362   0.77497678  0.53398172  0.23506705]\n",
      " [-0.74343097 -0.23350458  0.6048386   0.16418365]] \n",
      "Sigma^-1 =\n",
      " [[ 0.41103651  0.          0.          0.        ]\n",
      " [ 0.          0.870662    0.          0.        ]\n",
      " [ 0.          0.          1.508103    0.        ]\n",
      " [ 0.          0.          0.         59.66969878]] \n",
      "V^T =\n",
      " [[-0.63212454 -0.68312127 -0.24869405 -0.26817005]\n",
      " [-0.27074836  0.61880711 -0.66259364 -0.32363986]\n",
      " [-0.54836494  0.36267404  0.6995446  -0.28000141]\n",
      " [-0.47582537  0.13744323 -0.0987841   0.86309981]]\n"
     ]
    }
   ],
   "source": [
    "import numpy as np\n",
    "\n",
    "# Generisanje regularne matrice A\n",
    "A = np.random.randn(4, 4)\n",
    "while np.linalg.det(A) == 0:\n",
    "    A = np.random.randn(4, 4)\n",
    "\n",
    "# Izračunavanje SVD matrica za A\n",
    "U, s, Vt = np.linalg.svd(A)\n",
    "\n",
    "# Izračunavanje SVD matrica za A^-1\n",
    "V = U\n",
    "Sigma_inv = np.diag(1/s)\n",
    "Ut = Vt\n",
    "\n",
    "# Izračunavanje inverza matrice A pomoću SVD\n",
    "A_inv = V @ Sigma_inv @ U.T\n",
    "\n",
    "# Ispisivanje SVD matrica za A i A^-1\n",
    "print(\"SVD matrice za A:\\nU =\\n\", U, \"\\nSigma =\\n\", np.diag(s), \"\\nV^T =\\n\", Vt)\n",
    "print(\"SVD matrice za A^-1:\\nU =\\n\", U, \"\\nSigma^-1 =\\n\", Sigma_inv, \"\\nV^T =\\n\", Vt)\n"
   ]
  },
  {
   "cell_type": "markdown",
   "metadata": {},
   "source": [
    "в) Како гласи SVD произвољне ортогоналне матрице?\n",
    "\n",
    "(5 поена)"
   ]
  },
  {
   "attachments": {},
   "cell_type": "markdown",
   "metadata": {},
   "source": [
    "Svaka ortogonalna matrica $U$ može se izraziti pomoću SVD kao:\n",
    "\n",
    "$$U = V \\Sigma W^T$$\n",
    "\n",
    "gde su matrice $V$ i $W$ ortogonalne matrice dimenzija $n \\times n$, a $\\Sigma$ je dijagonalna matrica dimenzija $n \\times n$ sa nenegativnim vrednostima dijagonalnih elemenata.\n",
    "\n",
    "Kako je $U$ ortogonalna matrica, važi $UU^T = U^TU = I$. Ako ovaj izraz zapišemo pomoću SVD matrica, dobijamo:\n",
    "\n",
    "$$(V \\Sigma W^T)(V \\Sigma W^T)^T = V \\Sigma W^T (W \\Sigma V^T) = V \\Sigma^2 V^T = I$$\n",
    "\n",
    "Ovo znači da su matrice $V$ i $W$ zapravo matrice rotacija, tj. matrice kojima se vrše rotacije koordinatnog sistema, a matrica $\\Sigma$ predstavlja skaliranje koordinata.\n",
    "\n",
    "Napomena: Kako su ortogonalne matrice specijalni slučaj unitarnih matrica, ova formula se može primeniti i na unitarne matrice"
   ]
  },
  {
   "cell_type": "markdown",
   "metadata": {},
   "source": [
    "**Задатак 2.** а) Ако су сингуларне вредности матрице $A,$ $\\sigma_1,\\dots,\\sigma_r,$ шта су сингуларне вредности матрице $AA^TA?$\n",
    "\n",
    "(5 поена)"
   ]
  },
  {
   "attachments": {},
   "cell_type": "markdown",
   "metadata": {},
   "source": [
    "Za matricu $A$ dimenzija $m \\times n$, sa $r$ nenegativnih singularnih vrednosti, singularna dekompozicija matrice $A$ izgleda ovako:\n",
    "\n",
    "$$A = U \\Sigma V^T$$\n",
    "\n",
    "gde su $U$ i $V$ matrice dimenzija $m \\times r$ i $n \\times r$, redom, čiji su stupci ortonormirani, a $\\Sigma$ je dijagonalna matrica dimenzija $r \\times r$ sa nenegativnim vrednostima dijagonalnih elemenata, redom $\\sigma_1, \\sigma_2, \\ldots, \\sigma_r$.\n",
    "\n",
    "Sada možemo izračunati singularne vrednosti matrice $AA^TA$ primenjujući SVD na ovu matricu:\n",
    "\n",
    "$$AA^TA = U \\Sigma V^T (U \\Sigma V^T)^T U \\Sigma V^T = U \\Sigma^2 U^T$$\n",
    "\n",
    "Ovo znači da su singularne vrednosti matrice $AA^TA$ kvadrati singularnih vrednosti matrice $A$. Dakle, singularne vrednosti matrice $AA^TA$ su $\\sigma_1^2, \\sigma_2^2, \\ldots, \\sigma_r^2$.\n",
    "\n",
    "Dakle, ukoliko su singularne vrednosti matrice $A$ poznate, možemo odmah izračunati singularne vrednosti matrice $AA^TA$ kao kvadrate ovih vrednosti."
   ]
  },
  {
   "cell_type": "markdown",
   "metadata": {},
   "source": [
    "б) Ако је $A=\\begin{bmatrix}2&3&0&1&-1\\\\ 4&7&-1&2&-2 \\\\ -2&-4&1&-1&1\\end{bmatrix}$ одредити њену пуну и редуковану SVD. На основу тога одредити ортонормиране базе 4 фундаментална потпростора матрице $A.$\n",
    "\n",
    "(5 поена)"
   ]
  },
  {
   "cell_type": "code",
   "execution_count": 4,
   "metadata": {},
   "outputs": [
    {
     "name": "stdout",
     "output_type": "stream",
     "text": [
      "U =\n",
      " [[-0.36317341 -0.73128089 -0.57735027]\n",
      " [-0.81489453 -0.05112304  0.57735027]\n",
      " [ 0.45172112 -0.68015785  0.57735027]] \n",
      "S =\n",
      " [[1.05562610e+01 0.00000000e+00 0.00000000e+00]\n",
      " [0.00000000e+00 7.51900122e-01 0.00000000e+00]\n",
      " [0.00000000e+00 0.00000000e+00 7.29127970e-16]] \n",
      "V^T =\n",
      " [[-0.46317225 -0.81474553  0.11998715 -0.23158613  0.23158613]\n",
      " [-0.40795079  0.22466739 -0.83659357 -0.20397539  0.20397539]\n",
      " [ 0.78512972 -0.38787958 -0.38787958 -0.20331035  0.20331035]\n",
      " [-0.03618666 -0.26006126 -0.26006126  0.92627855  0.07372145]\n",
      " [ 0.03618666  0.26006126  0.26006126  0.07372145  0.92627855]]\n",
      "U_k =\n",
      " [[-0.36317341 -0.73128089]\n",
      " [-0.81489453 -0.05112304]\n",
      " [ 0.45172112 -0.68015785]] \n",
      "s_k =\n",
      " [[10.556261    0.        ]\n",
      " [ 0.          0.75190012]] \n",
      "Vt_k =\n",
      " [[-0.46317225 -0.81474553  0.11998715 -0.23158613  0.23158613]\n",
      " [-0.40795079  0.22466739 -0.83659357 -0.20397539  0.20397539]]\n",
      "Baza za R(A) =\n",
      " [[-0.36317341 -0.73128089]\n",
      " [-0.81489453 -0.05112304]\n",
      " [ 0.45172112 -0.68015785]]\n",
      "Baza za R(A^T) =\n",
      " [[-0.46317225 -0.40795079]\n",
      " [-0.81474553  0.22466739]\n",
      " [ 0.11998715 -0.83659357]\n",
      " [-0.23158613 -0.20397539]\n",
      " [ 0.23158613  0.20397539]]\n",
      "Baza za N(A) =\n",
      " [[-0.57735027]\n",
      " [ 0.57735027]\n",
      " [ 0.57735027]]\n",
      "Baza za N(A^T) =\n",
      " [[ 0.76406992]\n",
      " [-0.25905783]\n",
      " [-0.25905783]\n",
      " [-0.37548318]\n",
      " [ 0.37548318]]\n"
     ]
    }
   ],
   "source": [
    "import numpy as np\n",
    "\n",
    "# Definisanje matrice A\n",
    "A = np.array([[2, 3, 0, 1, -1], [4, 7, -1, 2, -2], [-2, -4, 1, -1, 1]])\n",
    "\n",
    "# Izračunavanje pune SVD matrice za A\n",
    "U, s, Vt = np.linalg.svd(A, full_matrices=True)\n",
    "\n",
    "# Ispisivanje pune SVD matrice za A\n",
    "print(\"U =\\n\", U, \"\\nS =\\n\", np.diag(s), \"\\nV^T =\\n\", Vt)\n",
    "# Određivanje redukovane SVD matrice za A\n",
    "k = np.linalg.matrix_rank(A)\n",
    "U_k = U[:, :k]\n",
    "s_k = s[:k]\n",
    "Vt_k = Vt[:k, :]\n",
    "\n",
    "# Ispisivanje redukovane SVD matrice za A\n",
    "print(\"U_k =\\n\", U_k, \"\\ns_k =\\n\", np.diag(s_k), \"\\nVt_k =\\n\", Vt_k)\n",
    "\n",
    "# Izdvajanje baza za 4 fundamentalna potprostora\n",
    "r = np.linalg.matrix_rank(A)\n",
    "basis_col_space = U_k[:, :r]\n",
    "basis_row_space = Vt_k[:r, :].T\n",
    "basis_null_space = np.linalg.qr(A)[0][:, r:]\n",
    "basis_left_null_space = np.linalg.qr(A.T)[0][:, r:]\n",
    "\n",
    "# Ispisivanje baza za 4 fundamentalna potprostora\n",
    "print(\"Baza za R(A) =\\n\", basis_col_space)\n",
    "print(\"Baza za R(A^T) =\\n\", basis_row_space)\n",
    "print(\"Baza za N(A) =\\n\", basis_null_space)\n",
    "print(\"Baza za N(A^T) =\\n\", basis_left_null_space)\n"
   ]
  },
  {
   "cell_type": "markdown",
   "metadata": {},
   "source": [
    "**Задатак 3.** а) За матрицу $A=\\begin{bmatrix}1&2\\end{bmatrix}$ показати да важи $A^+=\\begin{bmatrix}1/5\\\\2/5\\end{bmatrix}$\n",
    "\n",
    "\n",
    "(5 поена)"
   ]
  },
  {
   "cell_type": "code",
   "execution_count": 9,
   "metadata": {},
   "outputs": [
    {
     "name": "stdout",
     "output_type": "stream",
     "text": [
      "Pseudoinverz matrice A:\n",
      "[[0.2]\n",
      " [0.4]]\n",
      "Provera da li su matrice Ap i Ap_manual jednake:\n",
      "True\n"
     ]
    }
   ],
   "source": [
    "import numpy as np\n",
    "\n",
    "# Definisanje matrice A\n",
    "A = np.array([[1, 2]])\n",
    "\n",
    "# Izračunavanje pseudoinverza matrice A pomoću funkcije numpy.linalg.pinv\n",
    "Ap = np.linalg.pinv(A)\n",
    "\n",
    "# Ispisivanje pseudoinverza matrice A\n",
    "print(\"Pseudoinverz matrice A:\")\n",
    "print(np.around(Ap, decimals=5))\n",
    "\n",
    "# Ručno definisanje pseudoinverza matrice A\n",
    "Ap_manual = np.array([[1/5], [2/5]])\n",
    "\n",
    "# Provera da li su matrice Ap i Ap_manual jednake\n",
    "print(\"Provera da li su matrice Ap i Ap_manual jednake:\")\n",
    "print(np.allclose(Ap, Ap_manual, rtol=1e-5, atol=1e-5))\n",
    "\n"
   ]
  },
  {
   "cell_type": "markdown",
   "metadata": {},
   "source": [
    "б) За произвољан вектор $v\\in\\mathbb{R}^n,\\quad v=\\begin{bmatrix}x_1\\\\x_2\\\\\\vdots\n",
    "\\\\x_n\\end{bmatrix},\\quad$ одредити $v^+.$\n",
    "\n",
    "(5 поена)"
   ]
  },
  {
   "cell_type": "code",
   "execution_count": 14,
   "metadata": {},
   "outputs": [
    {
     "name": "stdout",
     "output_type": "stream",
     "text": [
      "Pseudoinverz vektora v:\n",
      " [0.07142857 0.14285714 0.21428571]\n"
     ]
    }
   ],
   "source": [
    "import numpy as np\n",
    "\n",
    "# Ulazni vektor\n",
    "v = np.array([1, 2, 3])\n",
    "\n",
    "# Racunanje pseudoinverza po formuli\n",
    "v_plus = (v.T) / np.dot(v, v)\n",
    "\n",
    "# Ispisivanje rezultata\n",
    "print(\"Pseudoinverz vektora v:\\n\", v_plus)\n",
    "\n"
   ]
  },
  {
   "cell_type": "markdown",
   "metadata": {},
   "source": [
    "в) За векторе $u,v\\in\\mathbb{R}^n$ показати \n",
    "$$(uv^T)^+=(u^Tu)(v^Tv)vu^T.$$\n",
    "\n",
    "(5 поена)"
   ]
  },
  {
   "attachments": {},
   "cell_type": "markdown",
   "metadata": {},
   "source": [
    "За векторе $u,v\\in\\mathbb{R}^n$ показујемо:\n",
    "\n",
    "$$(uv^T)^+=(u^Tu)(v^Tv)vu^T.$$\n",
    "\n",
    "Користимо дефиницију Мура-Пенроуз псеудоинверза $A^+$ да изразимо $(uv^T)^+$:\n",
    "\n",
    "$$(uv^T)^+ = (v^T)^+u^+ = \\frac{v}{v^Tv} \\frac{u^T}{u^Tu} = \\frac{vu^T}{u^Tu} \\frac{1}{v^Tv} = \\frac{1}{u^Tu v^Tv} vu^Tv^T$$\n",
    "\n",
    "Последња једнакост добија се умножавањем бројника и називника са $v$.\n",
    "\n",
    "Сада ћемо показати да је ово једнако изразу $(u^Tu)(v^Tv)vu^T$.\n",
    "\n",
    "Прво, запазићемо да је $u^Tv = v^Tu$.\n",
    "\n",
    "$$\n",
    "(u^Tu)(v^Tv)vu^T = (u^Tu)(v^Tv)\\frac{1}{u^Tu v^Tv} vu^Tv^T = vv^T\n",
    "$$\n",
    "\n",
    "У последњој једнакости, $\\frac{1}{u^Tu v^Tv}$ и $(u^Tu)(v^Tv)$ се скупљају, остављајући само $v v^T$.\n",
    "\n",
    "Сада треба показати да је $vv^T = (uv^T)^+$. Доказали смо да је $(uv^T)^+ = \\frac{1}{u^Tu v^Tv} vu^Tv^T$, па сада треба да докажемо да је $\\frac{1}{u^Tu v^Tv} vu^Tv^T = vv^T$. Користећи факт да је $u^Tv = v^Tu$, можемо се довести до:\n",
    "\n",
    "$$\n",
    "\\frac{1}{u^Tu v^Tv} vu^Tv^T = \\frac{1}{\\|u\\|^2} vv^T\n",
    "$$\n",
    "\n",
    "Ако помножимо обе стране са $\\|u\\|^2$, добијамо:\n",
    "\n",
    "$$\n",
    "\\frac{1}{u^Tu v^Tv} \\|u\\|^2 vv^T = vv^T\n",
    "$$\n",
    "\n",
    "Што је истина. Овиме је показано да је $(uv^T)^+ = (u^Tu)(v^Tv)vu^T$, што је требало доказати.\n"
   ]
  },
  {
   "cell_type": "code",
   "execution_count": null,
   "metadata": {},
   "outputs": [
    {
     "name": "stdout",
     "output_type": "stream",
     "text": [
      "Rang matrice A: 4\n",
      "Matrica AA^T je indefinitna\n",
      "Matrica A^TA je pozitivno semidefinitna\n"
     ]
    }
   ],
   "source": [
    "import numpy as np\n",
    "\n",
    "# Postavljanje dimenzija matrice A (m > n za pun rang kolona)\n",
    "m, n = 6, 4\n",
    "\n",
    "# Generisanje proizvoljne matrice A dimenzija m x n\n",
    "A = np.random.rand(m, n)\n",
    "\n",
    "# Provera da li je rang matrice A jednak n (puni rang kolona)\n",
    "rang = np.linalg.matrix_rank(A)\n",
    "print(\"Rang matrice A:\", rang)\n",
    "\n",
    "# Izračunavanje matrica AA^T i A^TA\n",
    "AAt = A @ A.T\n",
    "AtA = A.T @ A\n",
    "\n",
    "# Izračunavanje sopstvenih vrednosti matrica AA^T i A^TA\n",
    "sopstvene_vrednosti_AAt = np.linalg.eigvals(AAt)\n",
    "sopstvene_vrednosti_AtA = np.linalg.eigvals(AtA)\n",
    "\n",
    "# Provera definitnosti matrica AA^T i A^TA\n",
    "definitnost_AAt = \"pozitivno semidefinitna\" if np.all(sopstvene_vrednosti_AAt >= 0) else \"indefinitna\"\n",
    "definitnost_AtA = \"pozitivno semidefinitna\" if np.all(sopstvene_vrednosti_AtA >= 0) else \"indefinitna\"\n",
    "\n",
    "print(\"Matrica AA^T je\", definitnost_AAt)\n",
    "print(\"Matrica A^TA je\", definitnost_AtA)\n"
   ]
  },
  {
   "cell_type": "markdown",
   "metadata": {},
   "source": [
    "**Задатак 4.** а) Ако је $A\\in\\mathcal{M}_{m\\times n}$ произвољна правоугаона матрица, и $U\\in\\mathcal{M}_{m\\times m},$ $V\\in\\mathcal{M}_{n\\times n}$ произвољне ортогоналне матрице, показати да је\n",
    "$$(UAV)^+=V^TA^+U^T.$$\n",
    "\n",
    "(5 поена)"
   ]
  },
  {
   "attachments": {},
   "cell_type": "markdown",
   "metadata": {},
   "source": [
    "а) Да бисмо показали да је $(UAV)^+ = V^TA^+U^T$, можемо користити својства Мур-Пенроузовог псеудоинверза и ортогоналних матрица. Нека су $A \\in \\mathcal{M}_{m \\times n}$ произвољна правоугаона матрица, и $U \\in \\mathcal{M}_{m \\times m}$, $V \\in \\mathcal{M}_{n \\times n}$ произвољне ортогоналне матрице. Онда важи:\n",
    "\n",
    "1. $UU^T = I_m$, $U^TU = I_m$ (пошто је $U$ ортогонална)\n",
    "2. $VV^T = I_n$, $V^TV = I_n$ (пошто је $V$ ортогонална)\n",
    "\n",
    "Мур-Пенроузов псеудоинверз матрице $A$ се означава са $A^+$ и задовољава четири својства:\n",
    "\n",
    "1. $AA^+A = A$\n",
    "2. $A^+AA^+ = A^+$\n",
    "3. $(AA^+)^T = AA^+$\n",
    "4. $(A^+A)^T = A^+A$\n",
    "\n",
    "Хајде да проверимо да ли $(UAV)^+$ задовољава сва четири својства:\n",
    "\n",
    "1. $(UAV)(V^TA^+U^T)(UAV) = U(AV)(V^TA^+)(VU^T)(UAV) = U(AV)(I_nA^+)(IU^T)(UAV) = U(AA^+)AV = UAV$\n",
    "2. $(V^TA^+U^T)(UAV)(V^TA^+U^T) = (V^TA^+U^T)(UAA^+V) = V^TA^+(A^+A)V^TA^+U^T = V^TA^+A^+V^TA^+U^T = V^TA^+U^T$\n",
    "3. $((UAV)(V^TA^+U^T))^T = (V^TA^+U^T)^T(UAV)^T = (U^T)^T(A^+)^T(V^T)^T(VA^T) = UAVV^TA^+U^T = UAV(V^TA^+U^T)$\n",
    "4. $((V^TA^+U^T)(UAV))^T = (UAV)^T(V^TA^+U^T)^T = (V^TA^T)(A^+)^T(U^T)^T = V^TA^+A^T = (V^TA^+U^T)(UAV)$\n",
    "\n",
    "Пошто $(UAV)^+$ задовољава сва четири својства Мур-Пенроузовог псеудоинверза, можемо закључити да је:\n",
    "\n",
    "$$(UAV)^+ = V^TA^+U^T$$\n"
   ]
  },
  {
   "cell_type": "markdown",
   "metadata": {},
   "source": [
    "б) Ако је позната ортогонална дијагонализација симетричне матрице $S=QDQ^T,$ као гласи $S^+?$\n",
    "\n",
    "(5 поена)"
   ]
  },
  {
   "attachments": {},
   "cell_type": "markdown",
   "metadata": {},
   "source": [
    "б) Ако је позната ортогонална дијагонализација симетричне матрице $S = QDQ^T$, где је $Q$ ортогонална матрица, и $D$ дијагонална матрица, тада можемо наћи Мур-Пенроузов псеудоинверз $S^+$ следећим корацима:\n",
    "\n",
    "1. Наћи псеудоинверз дијагоналне матрице $D$: За сваки ненула елемент $d_{ii}$ на дијагонали матрице $D$, наћи $d_{ii}^+$ тако да је $d_{ii}^+ = \\frac{1}{d_{ii}}$. Ако је $d_{ii} = 0$, онда је $d_{ii}^+ = 0$. Резултат је дијагонална матрица $D^+$.\n",
    "\n",
    "2. Искористити формулу из тачке а) за ортогоналну дијагонализацију и псеудоинверз: $S^+ = QD^+Q^T$. Заменимо $A$ са $S$, $U$ и $V$ са $Q$, и $A^+$ са $S^+$ у формули из тачке а): $(QDQ^T)^+ = QD^+Q^T$.\n",
    "\n",
    "Тако добијамо да је псеудоинверз симетричне матрице $S$:\n",
    "\n",
    "$$S^+ = QD^+Q^T$$\n"
   ]
  }
 ],
 "metadata": {
  "kernelspec": {
   "display_name": "Python 3",
   "language": "python",
   "name": "python3"
  },
  "language_info": {
   "codemirror_mode": {
    "name": "ipython",
    "version": 3
   },
   "file_extension": ".py",
   "mimetype": "text/x-python",
   "name": "python",
   "nbconvert_exporter": "python",
   "pygments_lexer": "ipython3",
   "version": "3.9.12"
  }
 },
 "nbformat": 4,
 "nbformat_minor": 4
}
