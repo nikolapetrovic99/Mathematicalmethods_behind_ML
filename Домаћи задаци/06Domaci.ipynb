{
 "cells": [
  {
   "cell_type": "markdown",
   "metadata": {},
   "source": [
    "# Мататематички методи за машинско учење 2023\n",
    "## Домаћи задатак број 6"
   ]
  },
  {
   "cell_type": "markdown",
   "metadata": {},
   "source": [
    "<div class=\"alert alert-block alert-danger\">\n",
    "<b>Име и презиме студента:</b>\n",
    "\n",
    "<b>Број индекса:</b>\n",
    "    \n",
    "</div>    "
   ]
  },
  {
   "cell_type": "markdown",
   "metadata": {},
   "source": [
    "<div class=\"alert alert-block alert-info\">\n",
    "<b>Упутство за израду и предају домаћег задатака: </b> \n",
    "    \n",
    "    1. Пре почетка израде промените име датотеке у 06Domaci_Ime_Prezime. (убаците своје име и презиме) \n",
    "    2. Попуните ћелију испод наслова одговарајућим подацима. \n",
    "    1. Употреба ћирилице није обавезна за предају домаћег задатка.\n",
    "    4. За решавање задатака, уколико је потребно, отворите испод текста задатка додатне ћелије за уписивање текстуалног одговора (Markdown) или програмског кода (Code).\n",
    "    1. Сва израчунавања, уколико је потребно, вршити у Python-у.\n",
    "    5. Након завршетка израде решења домаћег Notebook документ сачувати у pdf формату и проследити га наставнику. То можете да урадите или кроз Teams или на мејл адресу jovana.dzunic@elfak.ni.ac.rs\n",
    "\n",
    "</div> "
   ]
  },
  {
   "cell_type": "code",
   "execution_count": 1,
   "metadata": {},
   "outputs": [],
   "source": [
    "import numpy as np\n",
    "import numpy.random as rndm\n",
    "import matplotlib as mplb\n",
    "import matplotlib.pyplot as plt"
   ]
  },
  {
   "cell_type": "markdown",
   "metadata": {},
   "source": [
    "**Задатак 1.** Одредити спектрални полупречник, Фробенијусову норму, норму трага и $L_1,L_2$ индуковане матричне норме за матрицу $A$ генерисану доњим кодом. Одредити најмању по модулу сингуларну вредност матрице $A.$ Да ли је матрица $A$ регуларна?\n",
    "\n",
    "\n",
    "(10 поена)"
   ]
  },
  {
   "cell_type": "code",
   "execution_count": 3,
   "metadata": {},
   "outputs": [
    {
     "name": "stdout",
     "output_type": "stream",
     "text": [
      "Spectral radius: 142.80464387357102\n",
      "Frobenius norm: 164.77950711780906\n",
      "Trace norm: 1313.6233405720573\n",
      "L1 induced matrix norm: 158.13033331368314\n",
      "L2 induced matrix norm: 142.98246825903917\n",
      "Smallest singular value: 0.0048722523106274505\n",
      "Is matrix A regular? True\n"
     ]
    }
   ],
   "source": [
    "import numpy as np\n",
    "import numpy.linalg as la\n",
    "import numpy.random as rndm\n",
    "\n",
    "n = rndm.randint(231, 345)\n",
    "A = rndm.rand(n, n)\n",
    "\n",
    "# Spektralni poluprečnik\n",
    "eigenvalues = la.eigvals(A)\n",
    "spectral_radius = np.max(np.abs(eigenvalues))\n",
    "\n",
    "# Frobeniusova norma\n",
    "frobenius_norm = la.norm(A, 'fro')\n",
    "\n",
    "# Norma traga\n",
    "trace_norm = la.norm(A, 'nuc')\n",
    "\n",
    "# L1 indukovana matricna norma\n",
    "l1_norm = la.norm(A, 1)\n",
    "\n",
    "# L2 indukovana matricna norma\n",
    "l2_norm = la.norm(A, 2)\n",
    "\n",
    "# Najmanja po modulu singularna vrednost matrice A\n",
    "singular_values = la.svd(A, compute_uv=False)\n",
    "min_singular_value = np.min(singular_values)\n",
    "\n",
    "# Provera regularnosti matrice A\n",
    "is_regular = la.matrix_rank(A) == n\n",
    "\n",
    "print(f\"Spectral radius: {spectral_radius}\")\n",
    "print(f\"Frobenius norm: {frobenius_norm}\")\n",
    "print(f\"Trace norm: {trace_norm}\")\n",
    "print(f\"L1 induced matrix norm: {l1_norm}\")\n",
    "print(f\"L2 induced matrix norm: {l2_norm}\")\n",
    "print(f\"Smallest singular value: {min_singular_value}\")\n",
    "print(f\"Is matrix A regular? {is_regular}\")\n"
   ]
  },
  {
   "cell_type": "markdown",
   "metadata": {},
   "source": [
    "**Задатак 2.** У колико значајних цифара можемо имати поверења у поступку решавања система линеарних једначина $Ax=b,$ за матрицу $A$ генерисану доњим кодом.\n",
    "\n",
    "(10 поена)"
   ]
  },
  {
   "cell_type": "code",
   "execution_count": 8,
   "metadata": {},
   "outputs": [
    {
     "name": "stdout",
     "output_type": "stream",
     "text": [
      "Kondicioni broj matrice A je: 1437.7043752292348\n",
      "Broj značajnih cifara u kojima možemo imati poverenja je: 3.1576695943879467\n"
     ]
    }
   ],
   "source": [
    "import numpy as np\n",
    "import numpy.random as rndm\n",
    "\n",
    "n = rndm.randint(17, 35)\n",
    "A = rndm.rand(n, n)\n",
    "\n",
    "kondicioni_broj = np.linalg.cond(A)\n",
    "print(\"Kondicioni broj matrice A je:\", kondicioni_broj)\n",
    "\n",
    "broj_znacajnih_cifara = abs(-np.log10(kondicioni_broj))\n",
    "print(\"Broj značajnih cifara u kojima možemo imati poverenja je:\", broj_znacajnih_cifara)\n",
    "\n"
   ]
  },
  {
   "cell_type": "markdown",
   "metadata": {},
   "source": [
    "**Задатак 3.** Самостално истражити и описати улогу SVD у поступку Latent Semantic Analysis у процесирању природних језика. Направити мали пример на коме се то показује.\n",
    "\n",
    "\n",
    "(30 поена)"
   ]
  },
  {
   "attachments": {},
   "cell_type": "markdown",
   "metadata": {},
   "source": [
    "Latent Semantic Analysis (LSA) je tehnika za analizu teksta koja se koristi u obradi prirodnih jezika (NLP) kako bi se identifikovale skrivene teme i semantičke veze između dokumenata i reči. Singular Value Decomposition (SVD) je ključni matematički postupak u LSA koji omogućava redukciju dimenzionalnosti i otkrivanje skrivenih semantičkih struktura.\n",
    "\n",
    "U postupku LSA, koraci su sledeći:\n",
    "\n",
    "Kreirati matricu termin-dokument. Ova matrica predstavlja broj pojavljivanja reči (termina) u svakom dokumentu. Redovi matrice predstavljaju reči, a kolone predstavljaju dokumente. Element matrice $a_{ij}$ predstavlja broj pojavljivanja reči $i$ u dokumentu $j$.\n",
    "\n",
    "Primeniti SVD na matricu termin-dokument. Ako je matrica $M$, SVD dekompozicija izgleda ovako: $M = U \\Sigma V^T$, gde su $U$ i $V$ ortogonalne matrice, a $\\Sigma$ je dijagonalna matrica singularnih vrednosti.\n",
    "\n",
    "Redukcija dimenzionalnosti: Odabrati $k$ najvećih singularnih vrednosti iz matrice $\\Sigma$ i zadržati samo prvih $k$ kolona matrica $U$ i $V$. Ovo će rezultirati aproksimacijom matrice $M$ ranga $k$.\n",
    "\n",
    "Tumačenje rezultata: Redukovane matrice $U$ i $V$ sadrže informacije o \"latentnim\" temama koje povezuju reči i dokumente. Možemo izračunati sličnost između reči ili dokumenta koristeći kosinusnu sličnost između redova ili kolona ovih matrica."
   ]
  },
  {
   "cell_type": "code",
   "execution_count": 15,
   "metadata": {},
   "outputs": [
    {
     "name": "stdout",
     "output_type": "stream",
     "text": [
      "Matrica termin-dokument:\n",
      " [[1 0 1 0 1 1 1 0 1 1 0 0 0 0 0]\n",
      " [1 1 0 0 1 0 1 0 0 0 1 0 0 0 0]\n",
      " [1 0 0 0 1 0 0 1 0 0 0 1 0 1 0]\n",
      " [1 0 0 1 0 0 0 0 0 0 1 1 1 0 1]]\n",
      "Redukovana matrica U:\n",
      " [[ 2.03546437 -1.49144948]\n",
      " [ 1.77257096 -0.14153452]\n",
      " [ 1.54271707  0.45404959]\n",
      " [ 1.47999042  1.74744522]]\n",
      "Redukovana matrica V:\n",
      " [[ 0.576168    0.14951502  0.17168988  0.12483608  0.45133193  0.17168988\n",
      "   0.32120491  0.13012702  0.17168988  0.17168988  0.2743511   0.2549631\n",
      "   0.12483608  0.13012702  0.12483608]\n",
      " [ 0.10328712 -0.02571401 -0.27096673  0.31747607 -0.21418895 -0.27096673\n",
      "  -0.29668074  0.08249179 -0.27096673 -0.27096673  0.29176206  0.39996785\n",
      "   0.31747607  0.08249179  0.31747607]]\n",
      "Sličnost između dokumenta 1 i dokumenta 2: 85.11%\n",
      "Sličnost između dokumenta 1 i dokumenta 3: 60.69%\n",
      "Sličnost između dokumenta 1 i dokumenta 4: 7.03%\n",
      "Sličnost između dokumenta 2 i dokumenta 3: 93.38%\n",
      "Sličnost između dokumenta 2 i dokumenta 4: 58.35%\n",
      "Sličnost između dokumenta 3 i dokumenta 4: 83.55%\n"
     ]
    }
   ],
   "source": [
    "import numpy as np\n",
    "from sklearn.feature_extraction.text import CountVectorizer\n",
    "from sklearn.decomposition import TruncatedSVD\n",
    "\n",
    "# Primer dokumenata\n",
    "documents = [\n",
    "    \"Ovo je prvi dokument koji govori o mačkama.\",\n",
    "    \"Drugi dokument je o psima i mačkama.\",\n",
    "    \"Ovde je treći dokument o pticama.\",\n",
    "    \"Četvrti dokument sadrži informacije o psima i pticama.\"\n",
    "]\n",
    "\n",
    "# Kreiranje matrice termin-dokument\n",
    "vectorizer = CountVectorizer()\n",
    "td_matrix = vectorizer.fit_transform(documents).toarray()\n",
    "print(\"Matrica termin-dokument:\\n\", td_matrix)\n",
    "\n",
    "# Primeniti SVD na matricu termin-dokument\n",
    "k = 2\n",
    "svd = TruncatedSVD(n_components=k)\n",
    "svd.fit(td_matrix)\n",
    "\n",
    "# Redukovane matrice U i V\n",
    "U = svd.transform(td_matrix)\n",
    "V = svd.components_\n",
    "\n",
    "print(\"Redukovana matrica U:\\n\", U)\n",
    "print(\"Redukovana matrica V:\\n\", V)\n",
    "\n",
    "from sklearn.metrics.pairwise import cosine_similarity\n",
    "\n",
    "# Izračunavanje kosinusne sličnosti između dokumenata\n",
    "doc_sim = cosine_similarity(U)\n",
    "\n",
    "# Prikazivanje sličnosti između dokumenata u procentima\n",
    "num_docs = len(documents)\n",
    "for i in range(num_docs):\n",
    "    for j in range(i + 1, num_docs):\n",
    "        similarity_percentage = round(doc_sim[i, j] * 100, 2)\n",
    "        print(f\"Sličnost između dokumenta {i+1} i dokumenta {j+1}: {similarity_percentage}%\")\n",
    "\n",
    "\n"
   ]
  }
 ],
 "metadata": {
  "kernelspec": {
   "display_name": "Python 3",
   "language": "python",
   "name": "python3"
  },
  "language_info": {
   "codemirror_mode": {
    "name": "ipython",
    "version": 3
   },
   "file_extension": ".py",
   "mimetype": "text/x-python",
   "name": "python",
   "nbconvert_exporter": "python",
   "pygments_lexer": "ipython3",
   "version": "3.9.12"
  }
 },
 "nbformat": 4,
 "nbformat_minor": 4
}
