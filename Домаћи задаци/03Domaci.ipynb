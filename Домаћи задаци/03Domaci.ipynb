{
 "cells": [
  {
   "cell_type": "markdown",
   "metadata": {},
   "source": [
    "# Мататематички методи за машинско учење 2023\n",
    "## Домаћи задатак број 3"
   ]
  },
  {
   "cell_type": "markdown",
   "metadata": {},
   "source": [
    "<div class=\"alert alert-block alert-danger\">\n",
    "<b>Име и презиме студента:</b>\n",
    "\n",
    "<b>Број индекса:</b>\n",
    "    \n",
    "</div>    "
   ]
  },
  {
   "cell_type": "markdown",
   "metadata": {},
   "source": [
    "<div class=\"alert alert-block alert-info\">\n",
    "<b>Упутство за израду и предају домаћег задатака: </b> \n",
    "    \n",
    "    1. Пре почетка израде промените име датотеке у 03Domaci_Ime_Prezime. (убаците своје име и презиме) \n",
    "    2. Попуните ћелију испод наслова одговарајућим подацима. \n",
    "    1. Употреба ћирилице није обавезна за предају домаћег задатка.\n",
    "    4. За решавање задатака, уколико је потребно, отворите испод текста задатка додатне ћелије за уписивање текстуалног одговора (Markdown) или програмског кода (Code).\n",
    "    1. Сва израчунавања, уколико је потребно, вршити у Python-у.\n",
    "    5. Након завршетка израде решења домаћег Notebook документ сачувати у pdf формату и проследити га наставнику. То можете да урадите или кроз Teams или на мејл адресу jovana.dzunic@elfak.ni.ac.rs\n",
    "\n",
    "</div> "
   ]
  },
  {
   "cell_type": "code",
   "execution_count": 1,
   "metadata": {},
   "outputs": [],
   "source": [
    "import numpy as np\n",
    "import numpy.random as rndm\n"
   ]
  },
  {
   "cell_type": "markdown",
   "metadata": {},
   "source": [
    "**Задатак 1.** Конструисати матрицу $A\\in\\mathcal{M}_{7\\times6}$ чију базу простора колона чине прве три колоне матрице $B\\in\\mathcal{M}_{7\\times6},$ а базу језгра чине последње три врсте матрице $B.$ Матрица $B$ се генерише наредном кодном ћелијом. Кодом се такође проверава да ли случајно дефинисана матрица има прве три линеарно независне колоне и последње три линеарно независне врсте. \n",
    "\n",
    "(10 поена)"
   ]
  },
  {
   "cell_type": "code",
   "execution_count": 7,
   "metadata": {
    "scrolled": false
   },
   "outputs": [
    {
     "name": "stdout",
     "output_type": "stream",
     "text": [
      "3\n",
      "3\n"
     ]
    }
   ],
   "source": [
    "# assert je ključna reč u Pythonu koja se koristi za proveru uslova. Ako je uslov zadovoljen, \n",
    "# assert neće imati efekta i program će nastaviti sa izvršavanjem. Ako uslov nije zadovoljen, \n",
    "# assert će izazvati izuzetak (AssertionError) i prekinuti izvršavanje programa.\n",
    "\n",
    "B=rndm.randn(7,6)-5*np.eye(7,6)\n",
    "print(np.linalg.matrix_rank(B[:,:3]))\n",
    "print(np.linalg.matrix_rank(B[-3:]))"
   ]
  },
  {
   "cell_type": "code",
   "execution_count": 10,
   "metadata": {},
   "outputs": [
    {
     "ename": "ValueError",
     "evalue": "could not broadcast input array from shape (3,) into shape (7,)",
     "output_type": "error",
     "traceback": [
      "\u001b[1;31m---------------------------------------------------------------------------\u001b[0m",
      "\u001b[1;31mValueError\u001b[0m                                Traceback (most recent call last)",
      "Cell \u001b[1;32mIn[10], line 27\u001b[0m\n\u001b[0;32m     25\u001b[0m \u001b[39mfor\u001b[39;00m i, x \u001b[39min\u001b[39;00m \u001b[39menumerate\u001b[39m(B_null_space\u001b[39m.\u001b[39mT):\n\u001b[0;32m     26\u001b[0m     b \u001b[39m=\u001b[39m np\u001b[39m.\u001b[39mconcatenate((\u001b[39m-\u001b[39mx[:\u001b[39m3\u001b[39m], np\u001b[39m.\u001b[39mzeros(\u001b[39m4\u001b[39m)))\n\u001b[1;32m---> 27\u001b[0m     A[:, i\u001b[39m+\u001b[39m\u001b[39m3\u001b[39m], _, _, _ \u001b[39m=\u001b[39m np\u001b[39m.\u001b[39mlinalg\u001b[39m.\u001b[39mlstsq(A_column_space, b, rcond\u001b[39m=\u001b[39m\u001b[39mNone\u001b[39;00m)\n\u001b[0;32m     29\u001b[0m \u001b[39m# Matrica A\u001b[39;00m\n\u001b[0;32m     30\u001b[0m \u001b[39mprint\u001b[39m(\u001b[39m\"\u001b[39m\u001b[39mMatrica A:\u001b[39m\u001b[39m\"\u001b[39m)\n",
      "\u001b[1;31mValueError\u001b[0m: could not broadcast input array from shape (3,) into shape (7,)"
     ]
    }
   ],
   "source": [
    "import numpy as np\n",
    "\n",
    "# Generišemo matricu B\n",
    "np.random.seed(42)  # Postavljamo seed za reprodukciju rezultata\n",
    "B = np.random.randn(7, 6) - 5 * np.eye(7, 6)\n",
    "\n",
    "# Proveravamo da li prve tri kolone matrice B čine bazu\n",
    "assert np.linalg.matrix_rank(B[:, :3]) == 3\n",
    "\n",
    "# Proveravamo da li zadnje tri vrste matrice B čine bazu jezgra\n",
    "assert np.linalg.matrix_rank(B[-3:]) == 3\n",
    "\n",
    "# Konstruišemo matricu A tako što uzimamo prve tri kolone matrice B kao bazu prostora kolona\n",
    "A_column_space = B[:, :3]\n",
    "\n",
    "# Da bismo pronašli bazu jezgra matrice B, moramo prvo pronaći njen null prostor\n",
    "# Rešavamo sistem jednačina Bx = 0\n",
    "_, _, Vh = np.linalg.svd(B)\n",
    "B_null_space = Vh[-3:].T\n",
    "\n",
    "# A je konstruisana tako da njen jezgro ima bazu koja se sastoji od zadnje tri vrste matrice B\n",
    "# Dakle, A je rešenje Ax = 0, gde je x jedan od vektora iz baze jezgra B\n",
    "# Konstruišemo A tako što rešavamo sistem jednačina za svaki vektor x iz baze jezgra B\n",
    "A = np.empty((7, 6))\n",
    "for i, x in enumerate(B_null_space.T):\n",
    "    b = np.concatenate((-x[:3], np.zeros(4)))\n",
    "    A[:, i+3], _, _, _ = np.linalg.lstsq(A_column_space, b, rcond=None)\n",
    "\n",
    "# Matrica A\n",
    "print(\"Matrica A:\")\n",
    "print(A)\n"
   ]
  },
  {
   "cell_type": "markdown",
   "metadata": {},
   "source": [
    "**Задатак 2.** а) Дате су матрице Гаусове трансформације\n",
    "\\begin{align}\n",
    "L_1&=\\begin{bmatrix}  1&0&0&0\\\\0&1&0&0\\\\0&0&1&0\\\\0&0&0&1\\end{bmatrix}\n",
    "+\\begin{bmatrix}0\\\\-1\\\\0.5\\\\3\\end{bmatrix}\\begin{bmatrix}1&0&0&0\\end{bmatrix}=I_4+v_1e_1^T,\\\\\n",
    "L_2&=\\begin{bmatrix}  1&0&0&0\\\\0&1&0&0\\\\0&0&1&0\\\\0&0&0&1\\end{bmatrix}\n",
    "+\\begin{bmatrix}0\\\\0\\\\3\\\\2\\end{bmatrix}\\begin{bmatrix}0&1&0&0\\end{bmatrix}=I_4+v_2e_2^T,\\\\\n",
    "L_3&=\\begin{bmatrix}  1&0&0&0\\\\0&1&0&0\\\\0&0&1&0\\\\0&0&0&1\\end{bmatrix}\n",
    "+\\begin{bmatrix}0\\\\0\\\\0\\\\1\\end{bmatrix}\\begin{bmatrix}0&0&1&0\\end{bmatrix}=I_4+v_3e_3^T.\n",
    "\\end{align}\n",
    "Показати да за њих важи \n",
    "$$\\big(I_4+v_1e_1^T\\big)\\big(I_4+v_2e_2^T\\big)\\big(I_4+v_3e_3^T\\big)=I_4+\\displaystyle\\sum_{k=1}^3v_ke_k^T.$$\n",
    "\n",
    "(5 поена)"
   ]
  },
  {
   "cell_type": "markdown",
   "metadata": {},
   "source": [
    "б) Дате су матрице Гаусове трансформације $L_k=I_n+v_ke_k^T,\\ k=1,2,\\dots,m<n,$ где је првих $k$ компоненети вектора $v_k$ једнако нули, док су $e_k$ вектори природне базе простора $\\mathbb{R}^n.$ Показати једнакост\n",
    "$$\\big(I_n+v_1e_1^T\\big)\\big(I_n+v_2e_2^T\\big)\\cdots\\big(I_n+v_me_m^T\\big)=I_n+\\displaystyle\\sum_{k=1}^mv_ke_k^T.$$\n",
    "\n",
    "(5 поена)"
   ]
  },
  {
   "cell_type": "markdown",
   "metadata": {},
   "source": [
    "**Задатак 3.** На основу неке од обрађених декомпозиција матрица одредити базу простора врста и базу простора колона матрице\n",
    "$$A=\\begin{bmatrix}1&2&3&-1\\\\2&-1&-4&8\\\\-1&1&3&-5\\\\-1&2&5&-6\\\\-1&-2&-3&1\\end{bmatrix}.$$\n",
    "\n",
    "\n",
    "(10 поена)"
   ]
  },
  {
   "cell_type": "code",
   "execution_count": 12,
   "metadata": {},
   "outputs": [
    {
     "name": "stdout",
     "output_type": "stream",
     "text": [
      "Baza prostora kolona matrice A (LU dekompozicija):\n",
      "[[ 1  2  3]\n",
      " [ 2 -1 -4]\n",
      " [-1  1  3]\n",
      " [-1  2  5]\n",
      " [-1 -2 -3]]\n",
      "Baza prostora vrsta matrice A (LU dekompozicija):\n",
      "[[ 1  2  3 -1]\n",
      " [ 2 -1 -4  8]\n",
      " [-1  1  3 -5]]\n"
     ]
    }
   ],
   "source": [
    "# LU\n",
    "import numpy as np\n",
    "import scipy.linalg\n",
    "\n",
    "# Definišemo matricu A\n",
    "A = np.array([[1, 2, 3, -1],\n",
    "              [2, -1, -4, 8],\n",
    "              [-1, 1, 3, -5],\n",
    "              [-1, 2, 5, -6],\n",
    "              [-1, -2, -3, 1]])\n",
    "\n",
    "# Izračunavamo LU dekompoziciju matrice A\n",
    "P, L, U = scipy.linalg.lu(A)\n",
    "\n",
    "# Rang matrice A\n",
    "rang = np.linalg.matrix_rank(A)\n",
    "\n",
    "# Baza prostora kolona matrice A\n",
    "baza_kolona = A[:, :rang]\n",
    "\n",
    "# Baza prostora vrsta matrice A\n",
    "baza_vrsta = A[:rang, :]\n",
    "\n",
    "# Ispisujemo bazu prostora kolona matrice A\n",
    "print(\"Baza prostora kolona matrice A (LU dekompozicija):\")\n",
    "print(baza_kolona)\n",
    "\n",
    "# Ispisujemo baza prostora vrsta matrice A\n",
    "print(\"Baza prostora vrsta matrice A (LU dekompozicija):\")\n",
    "print(baza_vrsta)\n"
   ]
  },
  {
   "cell_type": "code",
   "execution_count": 13,
   "metadata": {},
   "outputs": [
    {
     "name": "stdout",
     "output_type": "stream",
     "text": [
      "Baza prostora kolona matrice A (QR dekompozicija):\n",
      "[[ 1  2  3]\n",
      " [ 2 -1 -4]\n",
      " [-1  1  3]\n",
      " [-1  2  5]\n",
      " [-1 -2 -3]]\n",
      "Baza prostora vrsta matrice A (QR dekompozicija):\n",
      "[[ 1  2  3 -1]\n",
      " [ 2 -1 -4  8]\n",
      " [-1  1  3 -5]]\n"
     ]
    }
   ],
   "source": [
    "# QR\n",
    "import numpy as np\n",
    "\n",
    "# Definišemo matricu A\n",
    "A = np.array([[1, 2, 3, -1],\n",
    "              [2, -1, -4, 8],\n",
    "              [-1, 1, 3, -5],\n",
    "              [-1, 2, 5, -6],\n",
    "              [-1, -2, -3, 1]])\n",
    "\n",
    "# Izračunavamo QR dekompoziciju matrice A\n",
    "Q, R = np.linalg.qr(A)\n",
    "\n",
    "# Rang matrice A\n",
    "rang = np.linalg.matrix_rank(A)\n",
    "\n",
    "# Baza prostora kolona matrice A\n",
    "baza_kolona = A[:, :rang]\n",
    "\n",
    "# Baza prostora vrsta matrice A\n",
    "baza_vrsta = A[:rang, :]\n",
    "\n",
    "# Ispisujemo bazu prostora kolona matrice A\n",
    "print(\"Baza prostora kolona matrice A (QR dekompozicija):\")\n",
    "print(baza_kolona)\n",
    "\n",
    "# Ispisujemo bazu prostora vrsta matrice A\n",
    "print(\"Baza prostora vrsta matrice A (QR dekompozicija):\")\n",
    "print(baza_vrsta)\n"
   ]
  },
  {
   "cell_type": "markdown",
   "metadata": {},
   "source": [
    "**Задатак 4.** На основу неке од обрађених декомпозиција матрица одредити матрицу пројекције на простор колона матрице\n",
    "$$A=\\begin{bmatrix}1&2&3&-1\\\\2&-1&-4&8\\\\-1&1&3&-5\\\\-1&2&5&-6\\\\-1&-2&-3&1\\end{bmatrix}.$$\n",
    "\n",
    "(10 поена)"
   ]
  },
  {
   "cell_type": "code",
   "execution_count": 14,
   "metadata": {},
   "outputs": [
    {
     "name": "stdout",
     "output_type": "stream",
     "text": [
      "Matrica projekcije P (LU dekompozicija):\n",
      "[[ -6.54619565  21.9076087  -14.45380435 -18.95380435   6.54619565]\n",
      " [ 11.74456522 -35.26086957  23.50543478  31.50543478 -11.74456522]\n",
      " [ -8.23097826  25.41304348 -16.89402174 -22.51902174   8.23097826]\n",
      " [ 21.03532609 -60.42934783  40.46467391  54.46467391 -21.03532609]\n",
      " [  6.54619565 -21.9076087   14.45380435  18.95380435  -6.54619565]]\n"
     ]
    }
   ],
   "source": [
    "# LU\n",
    "# Definišemo matricu A\n",
    "A = np.array([[1, 2, 3, -1],\n",
    "              [2, -1, -4, 8],\n",
    "              [-1, 1, 3, -5],\n",
    "              [-1, 2, 5, -6],\n",
    "              [-1, -2, -3, 1]])\n",
    "\n",
    "# Izračunavamo LU dekompoziciju matrice A^TA\n",
    "ATA = A.T @ A\n",
    "P, L, U = scipy.linalg.lu(ATA)\n",
    "\n",
    "# Izračunavamo inverznu matricu (A^TA)^{-1}\n",
    "ATA_inv = scipy.linalg.inv(U) @ scipy.linalg.inv(L)\n",
    "\n",
    "# Izračunavamo matricu projekcije P\n",
    "P = A @ ATA_inv @ A.T\n",
    "\n",
    "print(\"Matrica projekcije P (LU dekompozicija):\")\n",
    "print(P)\n"
   ]
  },
  {
   "cell_type": "code",
   "execution_count": 16,
   "metadata": {},
   "outputs": [
    {
     "name": "stdout",
     "output_type": "stream",
     "text": [
      "Matrica projekcije P (QR dekompozicija):\n",
      "[[ 6.60268491e-01  1.98972502e-01  3.31620837e-01 -1.07552856e-16\n",
      "  -2.73407342e-01]\n",
      " [ 1.98972502e-01  8.83466633e-01 -1.94222279e-01  7.63278329e-17\n",
      "   1.60128047e-01]\n",
      " [ 3.31620837e-01 -1.94222279e-01  6.76296202e-01  5.55111512e-17\n",
      "   2.66880078e-01]\n",
      " [-1.07552856e-16  7.63278329e-17  5.55111512e-17  1.00000000e+00\n",
      "   1.11022302e-16]\n",
      " [-2.73407342e-01  1.60128047e-01  2.66880078e-01  1.11022302e-16\n",
      "   7.79968674e-01]]\n"
     ]
    }
   ],
   "source": [
    "import numpy as np\n",
    "\n",
    "# Definišemo matricu A\n",
    "A = np.array([[1, 2, 3, -1],\n",
    "              [2, -1, -4, 8],\n",
    "              [-1, 1, 3, -5],\n",
    "              [-1, 2, 5, -6],\n",
    "              [-1, -2, -3, 1]])\n",
    "\n",
    "# Izračunavamo QR dekompoziciju matrice A\n",
    "Q, R = np.linalg.qr(A)\n",
    "\n",
    "# Izračunavamo matricu projekcije P\n",
    "P = Q @ Q.T\n",
    "\n",
    "print(\"Matrica projekcije P (QR dekompozicija):\")\n",
    "print(P)"
   ]
  },
  {
   "cell_type": "code",
   "execution_count": 17,
   "metadata": {},
   "outputs": [
    {
     "name": "stdout",
     "output_type": "stream",
     "text": [
      "Matrica projekcije P (Cholesky dekompozicija):\n",
      "[[-0.73913043  0.91304348 -0.69565217 -1.43478261  0.73913043]\n",
      " [ 0.93478261  0.02173913  0.17391304  1.10869565 -0.93478261]\n",
      " [-1.35869565  0.86956522 -0.79347826 -1.90217391  1.35869565]\n",
      " [ 0.5         1.         -0.5         0.5        -0.5       ]\n",
      " [ 0.73913043 -0.91304348  0.69565217  1.43478261 -0.73913043]]\n"
     ]
    }
   ],
   "source": [
    "# Cholesky\n",
    "# Definišemo matricu A\n",
    "A = np.array([[1, 2, 3, -1],\n",
    "              [2, -1, -4, 8],\n",
    "              [-1, 1, 3, -5],\n",
    "              [-1, 2, 5, -6],\n",
    "              [-1, -2, -3, 1]])\n",
    "\n",
    "# Izračunavamo Cholesky dekompoziciju matrice A^TA\n",
    "ATA = A.T @ A\n",
    "L = np.linalg.cholesky(ATA)\n",
    "\n",
    "# Izračunavamo inverznu matricu (A^TA)^{-1}\n",
    "ATA_inv = scipy.linalg.inv(L.T) @ scipy.linalg.inv(L)\n",
    "\n",
    "# Izračunavamo matricu projekcije P\n",
    "P = A @ ATA_inv @ A.T\n",
    "\n",
    "print(\"Matrica projekcije P (Cholesky dekompozicija):\")\n",
    "print(P)"
   ]
  },
  {
   "cell_type": "markdown",
   "metadata": {},
   "source": [
    "**Задатак 5.** Показати да оротогнална матрица чува норму и углове. Другим речима, за произвољну ортогоналну матрицу $Q$ и векторе $v$ и $u$ показати једнакости:\n",
    "\\begin{align}\n",
    "&\\|Qv\\|=\\|v\\|,\\\\\n",
    "&(Qv)\\cdot(Qu)=v\\cdot u,\\\\\n",
    "&\\cos\\angle(v,u)=\\cos\\angle(Qv,Qu).\n",
    "\\end{align}\n",
    "\n",
    "\n",
    "(10 поена)"
   ]
  },
  {
   "cell_type": "code",
   "execution_count": 3,
   "metadata": {},
   "outputs": [
    {
     "name": "stdout",
     "output_type": "stream",
     "text": [
      "||u|| = 3.1622776601683795, ||Qu|| = 3.16227766016838\n",
      "||v|| = 4.47213595499958, ||Qv|| = 4.47213595499958\n",
      "u · v = 10, (Qu) · (Qv) = 10.0\n",
      "cos(∠(u, v)) = 0.7071067811865475, cos(∠(Qu, Qv)) = 0.7071067811865474\n"
     ]
    }
   ],
   "source": [
    "import numpy as np\n",
    "\n",
    "# Proizvoljna ortogonalna matrica Q\n",
    "Q = np.array([[0.8, -0.6],\n",
    "              [0.6, 0.8]])\n",
    "\n",
    "# Proizvoljni vektori u i v\n",
    "u = np.array([1, 3])\n",
    "v = np.array([-2, 4])\n",
    "\n",
    "# 1. Pokazujemo da ortogonalna matrica čuva normu\n",
    "norm_u = np.linalg.norm(u)\n",
    "norm_Q_u = np.linalg.norm(Q @ u)\n",
    "print(f\"||u|| = {norm_u}, ||Qu|| = {norm_Q_u}\")\n",
    "\n",
    "norm_v = np.linalg.norm(v)\n",
    "norm_Q_v = np.linalg.norm(Q @ v)\n",
    "print(f\"||v|| = {norm_v}, ||Qv|| = {norm_Q_v}\")\n",
    "\n",
    "# 2. Pokazujemo da ortogonalna matrica čuva skalarni proizvod\n",
    "u_dot_v = u @ v\n",
    "Q_u_dot_Q_v = (Q @ u) @ (Q @ v)\n",
    "print(f\"u · v = {u_dot_v}, (Qu) · (Qv) = {Q_u_dot_Q_v}\")\n",
    "\n",
    "# 3. Pokazujemo da ortogonalna matrica čuva uglove\n",
    "cos_angle_uv = u_dot_v / (norm_u * norm_v)\n",
    "cos_angle_Q_u_Q_v = Q_u_dot_Q_v / (norm_Q_u * norm_Q_v)\n",
    "print(f\"cos(∠(u, v)) = {cos_angle_uv}, cos(∠(Qu, Qv)) = {cos_angle_Q_u_Q_v}\")\n"
   ]
  },
  {
   "attachments": {},
   "cell_type": "markdown",
   "metadata": {},
   "source": [
    "Da bismo pokazali da ortogonalna matrica čuva normu i uglove, možemo koristiti svojstva ortogonalnih matrica i svojstva skalarnog proizvoda. Neka je $Q$ ortogonalna matrica i $v$ i $u$ proizvoljni vektori. Tada važi:\n",
    "\n",
    "$QQ^T = I$, $Q^TQ = I$ (pošto je $Q$ ortogonalna)\n",
    "\n",
    "Prvo, pokazaćemo da $|Qv| = |v|$:\n",
    "\n",
    "$$|Qv|^2=(Qv) \\cdot (Qv)=(Qv)^T(Qv)=v^T(Q^TQ)v=v^T(I)v=v \\cdot v=|v|^2$$\n",
    "\n",
    "Kako je $|Qv|^2 = |v|^2$, sledi da je $|Qv| = |v|$.\n",
    "\n",
    "Sada ćemo pokazati da $(Qv) \\cdot (Qu) = v \\cdot u$:\n",
    "\n",
    "$$(Qv) \\cdot (Qu)=(Qv)^T(Qu)=v^T(Q^TQ)u=v^T(I)u=v^Tu=v \\cdot u$$\n",
    "\n",
    "Na kraju, pokazaćemo da $\\cos\\angle(v,u) = \\cos\\angle(Qv,Qu)$:\n",
    "\n",
    "$$\\cos\\angle(v,u)=\\frac{v \\cdot u}{|v||u|}$$\n",
    "\n",
    "$$\\cos\\angle(Qv,Qu)=\\frac{(Qv) \\cdot (Qu)}{|Qv||Qu|}=\\frac{v \\cdot u}{|v||u|}$$\n",
    "\n",
    "Pošto je $\\cos\\angle(v,u) = \\cos\\angle(Qv,Qu)$, zaključujemo da ortogonalna matrica čuva normu i uglove."
   ]
  }
 ],
 "metadata": {
  "kernelspec": {
   "display_name": "Python 3",
   "language": "python",
   "name": "python3"
  },
  "language_info": {
   "codemirror_mode": {
    "name": "ipython",
    "version": 3
   },
   "file_extension": ".py",
   "mimetype": "text/x-python",
   "name": "python",
   "nbconvert_exporter": "python",
   "pygments_lexer": "ipython3",
   "version": "3.9.12"
  }
 },
 "nbformat": 4,
 "nbformat_minor": 4
}
