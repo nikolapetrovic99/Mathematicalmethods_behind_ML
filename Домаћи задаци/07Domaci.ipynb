{
 "cells": [
  {
   "cell_type": "markdown",
   "metadata": {},
   "source": [
    "# Мататематички методи за машинско учење 2023\n",
    "## Домаћи задатак број 7"
   ]
  },
  {
   "cell_type": "markdown",
   "metadata": {},
   "source": [
    "<div class=\"alert alert-block alert-danger\">\n",
    "<b>Име и презиме студента:</b>\n",
    "\n",
    "<b>Број индекса:</b>\n",
    "    \n",
    "</div>    "
   ]
  },
  {
   "cell_type": "markdown",
   "metadata": {},
   "source": [
    "<div class=\"alert alert-block alert-info\">\n",
    "<b>Упутство за израду и предају домаћег задатака: </b> \n",
    "    \n",
    "    1. Пре почетка израде промените име датотеке у 07Domaci_Ime_Prezime. (убаците своје име и презиме) \n",
    "    2. Попуните ћелију испод наслова одговарајућим подацима. \n",
    "    1. Употреба ћирилице није обавезна за предају домаћег задатка.\n",
    "    4. За решавање задатака, уколико је потребно, отворите испод текста задатка додатне ћелије за уписивање текстуалног одговора (Markdown) или програмског кода (Code).\n",
    "    1. Сва израчунавања, уколико је потребно, вршити у Python-у.\n",
    "    5. Након завршетка израде решења домаћег Notebook документ сачувати у pdf формату и проследити га наставнику. То можете да урадите или кроз Teams или на мејл адресу jovana.dzunic@elfak.ni.ac.rs\n",
    "\n",
    "</div> "
   ]
  },
  {
   "cell_type": "code",
   "execution_count": 1,
   "metadata": {},
   "outputs": [],
   "source": [
    "import numpy as np\n",
    "import numpy.random as rndm\n",
    "import matplotlib as mplb\n",
    "import matplotlib.pyplot as plt"
   ]
  },
  {
   "cell_type": "markdown",
   "metadata": {},
   "source": [
    "**Задатак 1.** а) Израчунати DFT вектора генерисаних наредним кодом.\n",
    "\n",
    "\n",
    "(5 поена)"
   ]
  },
  {
   "cell_type": "code",
   "execution_count": 2,
   "metadata": {},
   "outputs": [
    {
     "name": "stdout",
     "output_type": "stream",
     "text": [
      "DFT za vektor u1:\n",
      " [8.+0.j 0.+0.j 0.+0.j 0.+0.j 0.+0.j 0.+0.j 0.+0.j 0.+0.j]\n",
      "DFT za vektor u2:\n",
      " [0.+0.j 0.-2.j 2.+2.j 2.+0.j]\n"
     ]
    }
   ],
   "source": [
    "u1 = np.ones(8)\n",
    "u2 = np.array([1, -1j, 1j, -1])\n",
    "\n",
    "# Izračunavanje DFT za vektore u1 i u2\n",
    "dft_u1 = np.fft.fft(u1)\n",
    "dft_u2 = np.fft.fft(u2)\n",
    "\n",
    "print(\"DFT za vektor u1:\\n\", dft_u1)\n",
    "print(\"DFT za vektor u2:\\n\", dft_u2)\n"
   ]
  },
  {
   "cell_type": "markdown",
   "metadata": {},
   "source": [
    "б) Ако је позната DFT вектора $v,$ $V=DFT(v),$ колико износи $DFT(3v)?$\n",
    "\n",
    "\n",
    "(5 поена)"
   ]
  },
  {
   "cell_type": "code",
   "execution_count": 4,
   "metadata": {},
   "outputs": [
    {
     "name": "stdout",
     "output_type": "stream",
     "text": [
      "DFT(3v):\n",
      " [45.  +0.j         -7.5+10.3228644j  -7.5 +2.43689772j -7.5 -2.43689772j\n",
      " -7.5-10.3228644j ]\n",
      "3 * V:\n",
      " [45.  +0.j         -7.5+10.3228644j  -7.5 +2.43689772j -7.5 -2.43689772j\n",
      " -7.5-10.3228644j ]\n"
     ]
    }
   ],
   "source": [
    "# Primer vektora v\n",
    "v = np.array([1, 2, 3, 4, 5])\n",
    "\n",
    "# Izračunavanje DFT za vektor v\n",
    "V = np.fft.fft(v)\n",
    "\n",
    "# Izračunavanje DFT za vektor 3v\n",
    "dft_3v = np.fft.fft(3 * v)\n",
    "\n",
    "# Provera jednakosti DFT(3v) i 3 * V\n",
    "print(\"DFT(3v):\\n\", dft_3v)\n",
    "print(\"3 * V:\\n\", 3 * V)\n"
   ]
  },
  {
   "cell_type": "markdown",
   "metadata": {},
   "source": [
    "**Задатак 2.** Користећи брзу Фуријеову трансформацију написати код за брзо множење бројева у бројном систему основе $8.$\n",
    "\n",
    "(10 поена)"
   ]
  },
  {
   "cell_type": "code",
   "execution_count": 5,
   "metadata": {},
   "outputs": [
    {
     "name": "stdout",
     "output_type": "stream",
     "text": [
      "438\n",
      "393\n",
      "[5 5 0 2 1 2 0 3 3 0 3 6 0 5 0 1 5 5 0 1 1 4 4 6 3 5 0 5 0 5 0 5 0 1 6 6 2\n",
      " 6 2 1 6 5 0 2 6 0 1 6 2 5 6 5 3 1 4 6 2 0 2 3 5 3 0 1 3 6 6 1 6 0 4 3 3 5\n",
      " 2 0 0 5 1 6 0 6 6 3 5 0 4 4 3 0 2 6 3 1 4 0 3 6 3 0 2 5 4 1 1 5 1 6 1 2 0\n",
      " 2 6 4 1 6 1 3 4 4 3 0 4 3 2 6 6 2 5 2 2 0 3 2 3 1 2 6 1 3 0 1 1 2 3 2 4 3\n",
      " 5 3 5 0 1 0 5 2 3 5 1 0 3 3 1 5 6 0 2 3 5 5 6 2 1 3 5 1 2 1 0 0 0 3 3 5 5\n",
      " 4 1 6 4 2 5 5 0 0 3 3 1 4 4 2 1 1 6 5 1 5 5 2 4 0 1 0 3 6 2 5 0 5 4 6 0 6\n",
      " 5 4 0 5 5 1 1 5 1 2 0 4 1 3 6 5 2 4 5 1 3 2 2 0 6 5 5 1 5 5 0 0 6 5 3 0 1\n",
      " 0 2 5 3 5 2 4 6 4 4 6 6 6 2 1 1 6 1 0 5 2 5 6 0 4 2 6 0 4 1 0 0 4 2 0 0 1\n",
      " 2 0 1 3 1 2 1 2 5 3 0 4 3 0 5 4 4 5 2 3 4 0 2 6 0 2 1 4 5 6 1 4 0 2 5 5 2\n",
      " 4 6 2 5 2 0 2 1 3 1 4 5 3 2 1 1 3 6 6 0 5 6 6 6 5 2 0 3 0 0 0 1 4 3 6 5 1\n",
      " 1 3 6 3 3 2 3 2 1 6 4 2 1 1 1 3 0 0 3 2 1 0 3 0 2 4 3 0 4 5 5 4 3 4 2 3 0\n",
      " 1 1 1 6 1 0 4 6 0 0 2 6 5 1 6 4 6 3 1 4 4 3 1 6 6 1 3 3 5 1 5]\n",
      "[2 4 6 4 3 3 1 4 0 1 1 2 6 1 5 4 0 1 3 5 3 4 3 5 4 5 6 6 3 4 2 3 0 0 0 4 1\n",
      " 6 0 0 6 3 0 0 5 4 5 4 0 5 2 5 3 0 2 5 1 6 0 4 2 0 0 1 0 2 5 1 0 5 0 6 3 5\n",
      " 1 2 0 1 6 1 5 2 5 0 1 0 5 1 0 0 1 3 3 5 3 1 2 2 5 2 6 1 6 0 0 3 3 0 5 2 3\n",
      " 1 2 6 6 1 4 5 4 5 5 2 3 2 2 1 0 5 5 6 5 5 5 3 5 0 6 1 3 1 6 5 5 6 5 2 3 4\n",
      " 1 2 6 5 0 5 0 6 4 6 2 0 6 6 1 3 3 2 4 3 3 6 4 0 6 4 6 2 6 5 1 4 6 2 6 3 0\n",
      " 6 2 2 1 6 1 0 2 1 6 6 6 4 3 0 0 0 3 6 5 6 4 1 3 3 6 5 4 5 0 0 0 2 3 5 6 4\n",
      " 6 5 3 1 6 2 0 4 4 5 1 0 1 0 2 3 2 1 1 1 1 6 4 4 3 6 2 5 2 5 2 2 3 2 2 1 0\n",
      " 1 0 1 1 3 1 2 6 1 3 6 1 4 3 1 2 6 3 3 2 6 3 5 3 0 6 3 1 5 6 0 4 6 5 0 4 1\n",
      " 6 2 4 1 1 0 6 1 2 1 2 6 5 0 4 1 4 2 6 1 5 2 1 2 4 1 3 0 6 2 1 6 6 3 2 3 6\n",
      " 3 3 3 5 3 1 2 3 1 4 0 2 0 1 6 0 3 2 6 6 1 2 1 3 4 3 5 3 4 2 1 4 6 4 4 2 5\n",
      " 4 6 5 2 3 6 4 0 5 6 2 6 6 6 6 3 3 4 4 0 2 2 2]\n",
      "Rezultat množenja (osnovica 8): [ 2  7  5  4  4  0  1  3  6  5  3  2  7  2  0  3  4  4  7  7  3  5  3  4\n",
      "  0  5  1  3  0  6  3  1  0  5  0  5  4  5  3  2  0  1  7  3  7  4  7  0\n",
      "  0  1  3  4  3  0  5  2  7  1  4  1  7  5  0  2  6  3  3  0  1  0  4  1\n",
      "  7  5  0  1  2  3  2  5  6  6  0  3  3  7  5  2  1  5  4  4  6  4  7  2\n",
      "  2  4  6  5  1  4  3  1  7  4  1  6  1  7  5  3  2  6  6  2  1  6  5  6\n",
      "  4  1  3  3  2  6  1  6  2  6  4  7  0  3  2  7  0  6  7  5  4  1  6  3\n",
      "  5  4  6  0  1  1  3  4  2  1  7  2  5  1  1  5  0  0  1  2  6  5  2  3\n",
      "  2  2  1  6  0  6  5  0  1  2  1  1  2  5  2  0  0  6  7  0  2  6  3  4\n",
      "  3  1  6  4  7  2  2  6  1  2  4  3  4  5  0  5  3  4  5  5  1  3  5  3\n",
      "  1  4  5  7  1  6  4  3  7  1  2  2  6  6  5  7  2  2  7  3  0  6  5  0\n",
      "  7  3  0  2  2  3  0  4  5  4  5  1  1  7  5  6  1  4  2  3  1  4  7  2\n",
      "  2  5  3  0  6  2  3  6  1  0  5  7  4  4  4  4  5  3  0  6  4  4  0  6\n",
      "  2  4  1  6  6  3  5  2  6  6  6  4  6  2  4  0  7  4  4  4  5  2  1  4\n",
      "  6  7  4  6  1  6  7  0  0  5  6  5  0  0  3  3  4  5  7  1  5  7  0  4\n",
      "  1  0  6  2  4  3  2  3  5  0  5  2  6  4  4  3  3  0  7  3  5  5  0  5\n",
      "  0  6  3  5  2  6  5  3  3  6  5  4  6  5  2  1  5  4  3  2  1  3  6  6\n",
      "  2  3  5  1  6  5  2  5  6  0  0  0  6  3  0  3  7  5  2  6  2  0  5  5\n",
      "  7  3  7  7  7  7  6  7  2  0  0  6  4  4  0  2  0  0  5  1  2  5  3  7\n",
      "  5  0  7  5  3  6  2  0  5  1  5  7  7  0  2  3  5  5  5  0  5  6  4  2\n",
      "  2  7  5  7  2  3  2  6  7  0  5  3  5  1  6  2  6  0  4  6  4  4  2  4\n",
      "  1  0  0  2  6  6  3  5  7  0  3  0  4  1  1  2  3  4  6  7  1  5  7  7\n",
      "  0  4  6  7  3  0  0  4  0  2  5  5  0  6  5  4  2  7  1  5  5  7  2  5\n",
      "  1  7  4  2  5  4  4  3  5  6  7  0  5  1  5  4  0  5  6  3  3  0  7  1\n",
      "  7  6  1  0  5  4  7  3  7  5  1  1  0  3  3  4  7  4  4  5  4  1  1  2\n",
      "  2  7  6  3  3  4  6  7  4  3  2  4  1  6  5  0  3  0  4  4  3  7  7  0\n",
      "  1  7  4  3  5  1  7  6  1  5  7  7  7  3  3  1  4  7  2  2  2  2  5  4\n",
      "  7  6  7  0  1  0  3  7  6  5  0  4  7  6  4  6  2  4  7  3  5  3  5  6\n",
      "  3  0  5  4  5  0  5  3  6  4  1  3  4  6  5  1  4  1  0  1  4  5  5  0\n",
      "  7  0  1  7  7  7  4  7  2  4  6  0  7  6  1  7  7  4  0  6  4  2  0  2\n",
      "  3  3  7  3  5  6  4  2  3  6  6  3  3  0  3  2  2  4  4  4  6  3  2  3\n",
      "  5  7  6  0  0  0  1  2  5  1  2  6  7  5  1  2  2  6  0  2  7  0  2  0\n",
      "  3  3  5  6  3  4  5  2  5  7  7  2  4  5  7  6  2  7  4  5  2  5  5  3\n",
      "  0  4  0  7  2  1  6  3  4  3  6  7  7  2  1  1  5  4  0  0  0  5  3  6\n",
      "  4  3  3  1  0  4  0  4  4  5  5  0  3  4  1  7  7  6  2  6  4  2  7  1\n",
      "  7  5  3  7  2  0  2  6  6  7  7  0  7 11]\n"
     ]
    }
   ],
   "source": [
    "n1, n2 = rndm.randint(333, 556, 2)\n",
    "print(n1)\n",
    "print(n2)\n",
    "br1 = np.append(rndm.randint(1, 7, 1), rndm.randint(0, 7, n1 - 1))  # veći broj\n",
    "br2 = np.append(rndm.randint(1, 7, 1), rndm.randint(0, 7, n2 - 1))  # manji broj\n",
    "\n",
    "print(br1)\n",
    "print(br2)\n",
    "\n",
    "# Brza Furijeova transformacija (FFT) i konvolucija\n",
    "n = n1 + n2 - 1\n",
    "br1_fft = np.fft.fft(br1, n)\n",
    "br2_fft = np.fft.fft(br2, n)\n",
    "product_fft = br1_fft * br2_fft\n",
    "product = np.fft.ifft(product_fft).real.round().astype(int)\n",
    "\n",
    "# Korekcija rezultata\n",
    "carry = np.zeros(product.shape, dtype=int)\n",
    "for i in range(n - 1):\n",
    "    carry[i + 1] = product[i] // 8\n",
    "    product[i + 1] += carry[i + 1]\n",
    "    product[i] %= 8\n",
    "\n",
    "# Uklanjanje vodećih nula\n",
    "product = np.trim_zeros(product, 'f')\n",
    "print(\"Rezultat množenja (osnovica 8):\", product)\n"
   ]
  },
  {
   "cell_type": "markdown",
   "metadata": {},
   "source": [
    "**Задатак 3.** Функција $f$ је узоркована у еквидистантним тачкама на интервалу $[-\\pi,\\pi).$ Вектор $y$ садржи резултате овог узорковања. Након примене функције `fft` на вектор $y$ добијен је вектор $c=\\begin{bmatrix}0 & -5i & 1-3i & 4 & 0 & 4 & 1+3i & 5i\\end{bmatrix}.$ Наћи вектор $y$ и тригонометријски полином који интерполира функцију $f$ на узоркованим подацима. Дати графички приказ података и добијеног тригонометријског полинома.\n",
    "\n",
    "\n",
    "(10 поена)"
   ]
  },
  {
   "cell_type": "code",
   "execution_count": 6,
   "metadata": {},
   "outputs": [
    {
     "data": {
      "image/png": "[encoded data removed]",
      "text/plain": [
       "<Figure size 640x480 with 1 Axes>"
      ]
     },
     "metadata": {},
     "output_type": "display_data"
    }
   ],
   "source": [
    "# DFT koeficijenti\n",
    "c = np.array([0, -5j, 1 - 3j, 4, 0, 4, 1 + 3j, 5j])\n",
    "\n",
    "# Inverzna brza Furijeova transformacija (IFFT)\n",
    "y = np.fft.ifft(c)\n",
    "\n",
    "# Trigonometrijski polinom\n",
    "def trigonometric_poly(x, coeffs):\n",
    "    n = len(coeffs)\n",
    "    result = coeffs[0] / 2\n",
    "    for k in range(1, n // 2):\n",
    "        result += coeffs[k] * np.exp(1j * k * x) + coeffs[-k] * np.exp(-1j * k * x)\n",
    "    if n % 2 == 0:\n",
    "        result += coeffs[n // 2] * np.cos(n // 2 * x)\n",
    "    return result.real\n",
    "\n",
    "# Vrednosti x\n",
    "x_values = np.linspace(-np.pi, np.pi, len(c), endpoint=False)\n",
    "\n",
    "# Izračunavanje vrednosti polinoma\n",
    "poly_values = trigonometric_poly(x_values, c)\n",
    "\n",
    "# Grafički prikaz podataka i dobijenog trigonometrijskog polinoma\n",
    "plt.scatter(x_values, y.real, marker='o', label='Uzorkovani podaci')\n",
    "plt.plot(x_values, poly_values, label='Trigonometrijski polinom')\n",
    "plt.xlabel('x')\n",
    "plt.ylabel('f(x)')\n",
    "plt.legend()\n",
    "plt.show()\n"
   ]
  }
 ],
 "metadata": {
  "kernelspec": {
   "display_name": "Python 3",
   "language": "python",
   "name": "python3"
  },
  "language_info": {
   "codemirror_mode": {
    "name": "ipython",
    "version": 3
   },
   "file_extension": ".py",
   "mimetype": "text/x-python",
   "name": "python",
   "nbconvert_exporter": "python",
   "pygments_lexer": "ipython3",
   "version": "3.9.12"
  }
 },
 "nbformat": 4,
 "nbformat_minor": 4
}
