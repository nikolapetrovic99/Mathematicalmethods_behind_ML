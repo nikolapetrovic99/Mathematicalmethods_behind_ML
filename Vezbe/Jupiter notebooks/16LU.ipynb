{
 "cells": [
  {
   "cell_type": "markdown",
   "metadata": {},
   "source": [
    "# LU faktorizacija matrica\n",
    "\n",
    "Sadržaj:\n",
    "\n",
    "-  [Elementarne transformacije matrice](#Elementarne-transformacije-matrice)\n",
    "-  [Trougaona dekompozicija](#Trougaona-dekompozicija)\n",
    "-  [Operacijska složenost Dulitlovog algoritma](#Operacijska-složenost-Dulitlovog-algoritma)\n",
    "-  [LDU faktorizacija](#LDU-faktorizacija)"
   ]
  },
  {
   "cell_type": "markdown",
   "metadata": {},
   "source": [
    "## Elementarne transformacije matrice\n",
    "\n",
    "Elementarne transformacije vrsta matrice:\n",
    "\n",
    "- Zamena mesta dve vrste\n",
    "- Množenje vrste brojem različitim od nule\n",
    "- Sabiranje dve vrste\n",
    "\n",
    "Navedene transformacije čuvaju prostor vrsta. Ova tvrdnja zasniva se na jednostavnim jednakostima:\n",
    "\\begin{align}\n",
    "&\\mathcal{L}(u,v)=\\mathcal{L}(v,u),\\\\\n",
    "&\\mathcal{L}(v)=\\mathcal{L}(\\alpha v),\\ \\alpha\\neq0,\\\\\n",
    "&\\mathcal{L}(u,v)=\\mathcal{L}(u+v,v)\n",
    "\\end{align}\n",
    "\n",
    "Isto se odnosi na kolone matrice. "
   ]
  },
  {
   "cell_type": "markdown",
   "metadata": {},
   "source": [
    "Elementarne transformacije kolona matrice:\n",
    "\n",
    "- Zamena mesta dve kolone\n",
    "- Množenje kolone brojem različitim od nule\n",
    "- Sabiranje dve kolone\n",
    "\n",
    "Navedene transformacije čuvaju prostor kolona matrice. Zaključujemo da elementarne transformacije čuvaju rang matrice."
   ]
  },
  {
   "cell_type": "markdown",
   "metadata": {},
   "source": [
    "Cilj primene elementarnih transformacija je dovođenje matrice na oblik iz koga se baza i dimenzija prostora vrsta ili kolona lako čitaju. To je [stepenasti oblik vrsta](https://en.wikipedia.org/wiki/Row_echelon_form) ili redukovani oblik vrsta i kolona. Postupak dovođenja matrice na stepenasti oblik je postupak eliminacije poznat i kao Gausova eliminacija. "
   ]
  },
  {
   "cell_type": "markdown",
   "metadata": {},
   "source": [
    "Elementarne transformacije vrsta matrice $A$ predstavljaju izvođenje specijalnih linearnih kombinacija vektora-vrsta koje čuvaju prostor $\\mathcal{R}(A^T)$ te matrice.\n",
    "Pokazali smo da se linearne kombinacije vrsta matrice $A$ mogu predstaviti matričnim množenjem nekom transformacionom matricom $T$ sa leve strane, tj. proizvod $TA$ dovodi do željenih promena unutar matrice $A.$ "
   ]
  },
  {
   "cell_type": "code",
   "execution_count": 1,
   "metadata": {},
   "outputs": [],
   "source": [
    "import numpy as np\n",
    "import numpy.random as rndm\n",
    "import scipy.linalg as spl\n",
    "from timeit import default_timer as timer"
   ]
  },
  {
   "cell_type": "markdown",
   "metadata": {},
   "source": [
    "**Primer 1.** Odredićemo prostor vrsta matrice $A=\\begin{bmatrix}2&1&1&1&0\\\\4&3&1&3&3\\\\-2&-2&0&-1&-2\\\\5&2&2&5&5\\end{bmatrix}.$\n",
    "Za jednostavniji postupak izračunavanja koristićemo programski kod. "
   ]
  },
  {
   "cell_type": "code",
   "execution_count": 2,
   "metadata": {},
   "outputs": [],
   "source": [
    "A=np.array([[ 2.,  1,  1,  1,  0],\n",
    "       [ 4,  3,  1,  3,  3],\n",
    "       [-2, -2,  0, -1, -2],\n",
    "       [ 5,  2,  2,  5,  5]])"
   ]
  },
  {
   "cell_type": "markdown",
   "metadata": {},
   "source": [
    "U prvom koraku eliminacije anuliraju se elementi duž prve kolone matrice ispod glavne dijagonale. Da bi to bilo moguće neophodno je da element na prvoj poziciji bude različit od nule. Zbog toga ovaj element posebno ističemo i zovemo ga **pivot**. \n",
    "\n",
    "Za konkretnu matricu $A$ pivot je broj $2.$ Koristićemo Python indeksiranje. Koeficijente kojima se množi pivot vrsta dobijamo u količniku elemenata pivot kolone i samog pivota `A[1:,0]/A[0,0]`, što u konkretnom primeru daje koeficijente `[2,-1,5/2]`.\n",
    "Anuliranje duž pivot kolone postiže se sledećim operacijama nad vrstama:\n",
    "- `A[1,:]=A[1,:]-2*A[0,:]`\n",
    "- `A[2,:]=A[2,:]+A[0,:]`\n",
    "- `A[3,:]=A[3,:]-5/2*A[0,:]`"
   ]
  },
  {
   "cell_type": "markdown",
   "metadata": {},
   "source": [
    "U obliku proizvoda i kroz adekvatno indeksiranje ove transformacije se beleže sa:\n",
    "$$A[1:,:]=A[1:,:]-\\begin{bmatrix}2\\\\-1\\\\5/2\\end{bmatrix}A[0,:]$$\n",
    "\n",
    "Iste transformacije dobijaju se i množenjem s leva matrice $A$ transformacionom matricom $T_1=\\begin{bmatrix}1&0&0&0\\\\-2&1&0&0\\\\1&0&1&0\\\\-5/2&0&0&1\\end{bmatrix}$ koja je rezultat primene navedenihe operacija nad vrstama jedinične matrice reda 4. Rezultati obavljenih transformacija čuvaće se unutar matrice $U.$"
   ]
  },
  {
   "cell_type": "code",
   "execution_count": 3,
   "metadata": {},
   "outputs": [
    {
     "name": "stdout",
     "output_type": "stream",
     "text": [
      "[[ 2.   1.   1.   1.   0. ]\n",
      " [ 0.   1.  -1.   1.   3. ]\n",
      " [ 0.  -1.   1.   0.  -2. ]\n",
      " [ 0.  -0.5 -0.5  2.5  5. ]]\n"
     ]
    }
   ],
   "source": [
    "T1=np.array([[1.,0,0,0],[-2,1,0,0],[1,0,1,0],[-5/2,0,0,1]])\n",
    "U=T1@A\n",
    "print(U)"
   ]
  },
  {
   "cell_type": "markdown",
   "metadata": {},
   "source": [
    "U drugom koraku eliminacije anuliraju se elementi duž druge kolone matrice $U$ ispod njene glavne dijagonale. Pivot element ovog koraka je drugi dijagonalni element. Za matricu $A$ iz zadatka imamo:\n",
    "- pivot iznosi $1,$\n",
    "- koeficijenti su `A[2:,1]/A[1,1]=[-1,-0.5]`\n",
    "- transformacije vrsta:\n",
    "    - `A[2,:]=A[2,:]+A[1,:]`\n",
    "    - `A[3,:]=A[3,:]+1/2*A[1,:]` \n",
    "\n",
    "U obliku proizvoda i kroz adekvatno indeksiranje ove transformacije su:\n",
    "$$A[2:,:]=A[2:,:]-\\begin{bmatrix}-1\\\\-1/2\\end{bmatrix}A[1,:]$$\n",
    "ili matričnim proizvodom $T_2U,$ gde je $T_2=\\begin{bmatrix}1&0&0&0\\\\0&1&0&0\\\\0&1&1&0\\\\0&1/2&0&1\\end{bmatrix}.$"
   ]
  },
  {
   "cell_type": "code",
   "execution_count": 4,
   "metadata": {},
   "outputs": [
    {
     "name": "stdout",
     "output_type": "stream",
     "text": [
      "[[ 2.   1.   1.   1.   0. ]\n",
      " [ 0.   1.  -1.   1.   3. ]\n",
      " [ 0.   0.   0.   1.   1. ]\n",
      " [ 0.   0.  -1.   3.   6.5]]\n"
     ]
    }
   ],
   "source": [
    "T2=np.array([[1.,0,0,0],[0,1,0,0],[0,1,1,0],[0,1/2,0,1]])\n",
    "U=T2@U\n",
    "print(U)"
   ]
  },
  {
   "cell_type": "markdown",
   "metadata": {},
   "source": [
    "U trećem koraku pivot element je treći dijagonalni element matrice $U.$ S obzirom da je ovde konkretno to $0$ neophodno je da se pronađe neki drugi pivot element. Pretraga za njim obavlja se duž pivot kolone - treća kolona elemenata ispod glavne dijagonale. Dovođenje novog pivot elementa na dijagonalnu poziciju postiže se zamenom mesta treće i četvrte vrste, tj proizvodom  $PU$ gde je $P=\\begin{bmatrix}1&0&0&0\\\\0&1&0&0\\\\0&0&0&1\\\\0&0&1&0\\end{bmatrix}$ permutaciona matrica."
   ]
  },
  {
   "cell_type": "code",
   "execution_count": 5,
   "metadata": {},
   "outputs": [
    {
     "name": "stdout",
     "output_type": "stream",
     "text": [
      "[[ 2.   1.   1.   1.   0. ]\n",
      " [ 0.   1.  -1.   1.   3. ]\n",
      " [ 0.   0.  -1.   3.   6.5]\n",
      " [ 0.   0.   0.   1.   1. ]]\n"
     ]
    }
   ],
   "source": [
    "P=np.array([[1,0,0,0],[0,1,0,0],[0,0,0,1],[0,0,1,0]])\n",
    "U=P@U\n",
    "print(U)"
   ]
  },
  {
   "cell_type": "markdown",
   "metadata": {},
   "source": [
    "Matrica je dovedena na trougaoni (stepenasti) oblik iz koga vidimo da su vrste matrice $A$ linearno nezavisne i predstavljaju jednu bazu odgovarajućeg prostora $\\mathcal{R}(A^T).$ Još jednu bazu prostora $\\mathcal{R}(A^T)$ čine npr. vrste trougaone matrice $U.$ Do matrice $U$ dolazi se transformacijama\n",
    "$$PT_2T_1A=U.$$ Matrica $U$ je punog ranga vrsta, tj. ${\\rm rang}(U)=4={\\rm rang}(A),$ ${\\rm def}(A^T)=0,$ ${\\rm def}(A)=1.$ "
   ]
  },
  {
   "cell_type": "markdown",
   "metadata": {},
   "source": [
    "S obzirom da su sve matrice $P,T_2,T_1$ regularne, važi\n",
    "$$A=(PT_2T_1)^{-1}U=T_1^{-1}T_2^{-1}P^{-1}U=T_1^{-1}T_2^{-1}P^{T}U=L_1L_2P^{T}U.$$\n",
    "Zbog toga ispitaćemo detaljnije faktore u dobijenom proizvodu."
   ]
  },
  {
   "cell_type": "markdown",
   "metadata": {},
   "source": [
    "Inverzne matrice trougaonih matrica $T_1$ i $T_2$ su sigurno trougaone matrice istog tipa. Međutim, važe i sledeće relacije.\n",
    "\\begin{align}\n",
    "&T_1=\\left[\\begin{array}{c|ccc}1&0&0&0\\\\ \\hline-2&1&0&0\\\\1&0&1&0\\\\-5/2&0&0&1\\end{array}\\right]&&\n",
    "T_1^{-1}=L_1=\\left[\\begin{array}{c|ccc}1&0&0&0\\\\ \\hline2&1&0&0\\\\-1&0&1&0\\\\5/2&0&0&1\\end{array}\\right],\\\\\n",
    "&T_1,\\ L_1\\mbox{ trougaone matrice imaju blok oblik} &&\n",
    "\\left[\\begin{array}{c|c}I_1&O_{1\\times3}\\\\ \\hline M_{3\\times1}&I_3\\end{array}\\right].\\\\\n",
    "&T_2=\\left[\\begin{array}{cc|cc}1&0&0&0\\\\0&1&0&0\\\\ \\hline 0&1&1&0\\\\0&1/2&0&1\\end{array}\\right]&&\n",
    "T_2^{-1}=L_2=\\left[\\begin{array}{cc|cc}1&0&0&0\\\\0&1&0&0\\\\ \\hline0&-1&1&0\\\\0&-1/2&0&1\\end{array}\\right],\\\\\n",
    "&\\mbox{ove trougaone matrice imaju blok oblik} &&\n",
    "\\left[\\begin{array}{c|c}I_2&O_{2\\times2}\\\\ \\hline M_{2\\times 2}&I_2\\end{array}\\right].\\\\\n",
    "&L_1L_2=\\left[\\begin{array}{cc|cc}1&0&0&0\\\\2&1&0&0\\\\ \\hline-1&-1&1&0\\\\5/2&-1/2&0&1\\end{array}\\right],\n",
    "&&P=\\left[\\begin{array}{cc|cc}1&0&0&0\\\\0&1&0&0\\\\ \\hline0&0&0&1\\\\0&0&1&0\\end{array}\\right].\n",
    "\\end{align}"
   ]
  },
  {
   "cell_type": "code",
   "execution_count": 6,
   "metadata": {},
   "outputs": [
    {
     "data": {
      "text/plain": [
       "array([[1., 0., 0., 0.],\n",
       "       [0., 1., 0., 0.],\n",
       "       [0., 0., 1., 0.],\n",
       "       [0., 0., 0., 1.]])"
      ]
     },
     "execution_count": 6,
     "metadata": {},
     "output_type": "execute_result"
    }
   ],
   "source": [
    "L1=np.array([[1.,0,0,0],[2,1,0,0],[-1,0,1,0],[5/2,0,0,1]])\n",
    "L1@T1"
   ]
  },
  {
   "cell_type": "code",
   "execution_count": 7,
   "metadata": {},
   "outputs": [
    {
     "data": {
      "text/plain": [
       "array([[1., 0., 0., 0.],\n",
       "       [0., 1., 0., 0.],\n",
       "       [0., 0., 1., 0.],\n",
       "       [0., 0., 0., 1.]])"
      ]
     },
     "execution_count": 7,
     "metadata": {},
     "output_type": "execute_result"
    }
   ],
   "source": [
    "L2=np.array([[1.,0,0,0],[0,1,0,0],[0,-1,1,0],[0,-1/2,0,1]])\n",
    "L2@T2"
   ]
  },
  {
   "cell_type": "code",
   "execution_count": 8,
   "metadata": {},
   "outputs": [
    {
     "data": {
      "text/plain": [
       "array([[ 1. ,  0. ,  0. ,  0. ],\n",
       "       [ 2. ,  1. ,  0. ,  0. ],\n",
       "       [-1. , -1. ,  1. ,  0. ],\n",
       "       [ 2.5, -0.5,  0. ,  1. ]])"
      ]
     },
     "execution_count": 8,
     "metadata": {},
     "output_type": "execute_result"
    }
   ],
   "source": [
    "L=L1@L2\n",
    "L"
   ]
  },
  {
   "cell_type": "code",
   "execution_count": 9,
   "metadata": {},
   "outputs": [
    {
     "data": {
      "text/plain": [
       "array([[ 1. ,  0. ,  0. ,  0. ],\n",
       "       [ 2. ,  1. ,  0. ,  0. ],\n",
       "       [-1. , -1. ,  0. ,  1. ],\n",
       "       [ 2.5, -0.5,  1. ,  0. ]])"
      ]
     },
     "execution_count": 9,
     "metadata": {},
     "output_type": "execute_result"
    }
   ],
   "source": [
    "L@P.T"
   ]
  },
  {
   "cell_type": "markdown",
   "metadata": {},
   "source": [
    "Prikazani primer je potvrdio da se Gausov postupak eliminacije može u potpunosti da opiše matričnim množenjem gde su činioci jedna donje trougaona matrica, jedna gornje trougaona i jedna permutaciona matrica. S obzirom da je Gausova eliminacija postupak koji se pojavljuje u više različitih zadataka: rešavanje sistema linearnih jednačina, izračunavanje determinante i određivanje ranga, pronađeni faktori su matrični zapis ovih algoritama. "
   ]
  },
  {
   "cell_type": "markdown",
   "metadata": {},
   "source": [
    "**Primer 2.** Za date matrice $L$ i $U$ odredićemo $A=LU$ i $\\det(A).$\n",
    "\t\n",
    "a) $ L=\\begin{bmatrix}1&0&0\\\\-1&1&0\\\\2&0&3\\end{bmatrix}, \n",
    "\tU=\\begin{bmatrix}3/5&2&1\\\\0&1&-3\\\\0&0&7\\end{bmatrix};$\n",
    "    \n",
    "b) $ L=\\begin{bmatrix}1&0&0&0\\\\2&1&0&0\\\\-2&0&3&0\\\\1&2&3&4\\end{bmatrix}, \n",
    "\tU=\\begin{bmatrix}-1&2&1&4\\\\0&1&1&-2\\\\0&0&3&4\\\\0&0&0&-1\\end{bmatrix}.$    "
   ]
  },
  {
   "cell_type": "markdown",
   "metadata": {},
   "source": [
    "a) Na osnovu Koši-Bineove formule znamo da je $\\det(A)=\\det(L)\\det(U)=3\\cdot\\frac{21}5=\\frac{63}5.$"
   ]
  },
  {
   "cell_type": "code",
   "execution_count": 10,
   "metadata": {},
   "outputs": [
    {
     "data": {
      "text/plain": [
       "array([[ 0.6,  2. ,  1. ],\n",
       "       [-0.6, -1. , -4. ],\n",
       "       [ 1.2,  4. , 23. ]])"
      ]
     },
     "execution_count": 10,
     "metadata": {},
     "output_type": "execute_result"
    }
   ],
   "source": [
    "L=np.array([[  1., 0,  0],\n",
    "       [ -1, 1, 0],\n",
    "       [ 2,  0, 3.]])\n",
    "U=np.array([[ 3/5, 2, 1],\n",
    "       [0, 1, -3],\n",
    "       [ 0,  0, 7.]])\n",
    "L@U"
   ]
  },
  {
   "cell_type": "markdown",
   "metadata": {},
   "source": [
    "b) $\\det(A)=\\det(L)\\det(U)=12\\cdot3=36.$"
   ]
  },
  {
   "cell_type": "code",
   "execution_count": 11,
   "metadata": {},
   "outputs": [
    {
     "data": {
      "text/plain": [
       "array([[-1.,  2.,  1.,  4.],\n",
       "       [-2.,  5.,  3.,  6.],\n",
       "       [ 2., -4.,  7.,  4.],\n",
       "       [-1.,  4., 12.,  8.]])"
      ]
     },
     "execution_count": 11,
     "metadata": {},
     "output_type": "execute_result"
    }
   ],
   "source": [
    "L=np.array([[  1., 0,  0, 0],\n",
    "       [ 2, 1, 0, 0],\n",
    "       [ -2,  0, 3., 0],\n",
    "       [ 1, 2, 3, 4]])\n",
    "U=np.array([[ -1, 2, 1 , 4],\n",
    "       [0, 1, 1, -2],\n",
    "       [ 0,  0, 3. , 4],\n",
    "       [0, 0, 0, -1]])\n",
    "L@U"
   ]
  },
  {
   "cell_type": "markdown",
   "metadata": {},
   "source": [
    "Poznavanje trougaonih činilaca u razlaganju matrice zovemo njena trougaona dekompozicija. Trougaona dekompozicija koja je direktna posledica Gausove eliminacije se prepoznaje po donje trougaonoj matrici čiji su svi dijagonalni elementi jednaki $1$ - unitrougaona matrica. Ovakvu trougaonu dekompoziciju još specijalno zovemo i Dulitlova dekompozicija."
   ]
  },
  {
   "attachments": {
    "image.png": {
     "image/png": "[encoded data removed]"
    }
   },
   "cell_type": "markdown",
   "metadata": {},
   "source": [
    "## Trougaona dekompozicija\n",
    "\n",
    "Neka je $A=\\begin{bmatrix} a_{11}&a_{12}&\\dots&a_{1n}\\\\\n",
    "a_{21}&a_{22}&\\dots&a_{2n}\\\\\n",
    "\\vdots&\\vdots&\\ddots&\\vdots\\\\a_{n1}&a_{n2}&\\dots&a_{nn}\\end{bmatrix}$ realna kvadratna matrica čiju trougaonu dekompoziciju tražimo.  Postupak dovođenja na trougaoni oblik možemo posmatrati kao iterativnu proceduru sukcesivnog predstavljanja matrice $A$ u obliku proizvoda \n",
    " $$A=L_1U_1=L_1L_2U_2=\\dots=L_1L_2\\cdots L_{n-1}U_{n-1},$$\n",
    " gde su $L_k$ donje trougaone matrice, a $U_k$ je blok gornje trougaona matrica.\n",
    " Rezultat jedne iteracije jeste da se matrica $A$  opisuje proizvodom donje trougaone matrice $L_1L_2\\cdots L_k$ i blok gornje trougaone matrice $U_k.$ Cilj je da se kroz iteracije $U_k$ matrica $A$ dovede na gornje trougaoni oblik $U_{n-1}=U.$ Dakle, matrica $L_k$ vrši popravljanje matrice $U_{k-1}$ u $U_k,$ prelaskom sa blok trougaone ka trougaonoj matrici. Na kraju postupka je\n",
    "$$M=LU,\\qquad  L=L_1L_2\\cdots L_{n-1},\\quad U=U_{n-1}.$$\n",
    "<div>\n",
    "   <img src=\"attachment:image.png\" width=\"600\">  \n",
    "</div>"
   ]
  },
  {
   "cell_type": "markdown",
   "metadata": {},
   "source": [
    "Opisaćemo prvi korak LU faktorizacije matrice $A$. On se sastoji od eliminacije elemenata prve kolone ispod glavne dijagonale pomoću pivot elementa $a_{11}.$ Vrsta u kojoj se nalazi pivot element zovemo pivot-vrsta. Prvi korak je postupak prelaska $A\\to U_1,$ šematski prikazan sa:\n",
    "$$L_1^{-1}A=\\begin{bmatrix} 1&0&0&\\dots&0\\\\\n",
    "-\\frac{a_{21}}{a_{11}}&1&0&\\dots&0\\\\ \\vdots\\\\\n",
    "-\\frac{a_{n1}}{a_{11}}&0&0&\\dots&1\\end{bmatrix}\\begin{bmatrix} a_{11}&a_{12}&\\dots&a_{1n}\\\\\n",
    "a_{21}&a_{22}&\\dots&a_{2n}\\\\\n",
    "&&\\vdots&\\\\a_{n1}&a_{n2}&\\dots&a_{nn}\\end{bmatrix}=\n",
    "\\begin{bmatrix} a_{11}&a_{12}&\\dots&a_{1n}\\\\\n",
    "0&a_{22}'&\\dots&a_{2n}'\\\\\n",
    "&&\\vdots&\\\\0&a_{n2}'&\\dots&a_{nn}'\\end{bmatrix}=U_1.$$ "
   ]
  },
  {
   "attachments": {
    "image-2.png": {
     "image/png": "[encoded data removed]"
    }
   },
   "cell_type": "markdown",
   "metadata": {},
   "source": [
    "Na osnovu blok forme znamo da je $L_1=\\begin{bmatrix} 1&0&0&\\dots&0\\\\\n",
    "\\frac{a_{21}}{a_{11}}&1&0&\\dots&0\\\\ \\vdots\\\\\n",
    "\\frac{a_{n1}}{a_{11}}&0&0&\\dots&1\\end{bmatrix}=\n",
    "\\left[\\begin{array}{c|c}I_1&\\begin{array}{ccc}0&\\dots&0\\end{array}\\\\\\hline\n",
    "\\begin{array}{c}l_{21}\\\\\\vdots\\\\l_{n1}\\end{array}&I_{n-1}\n",
    "\\end{array}\\right].$\n",
    "U prvom koraku generišu se jedna kolona matrice $L$ i jedna vrsta matrice $U:$ \n",
    "\\begin{align}\n",
    "    A&=L_1U_1=\\begin{bmatrix} 1&0&0&\\dots&0\\\\\n",
    "l_{21}&1&0&\\dots&0\\\\ \\vdots\\\\\n",
    "l_{n1}&0&0&\\dots&1\\end{bmatrix}\n",
    "\\begin{bmatrix} a_{11}&a_{12}&\\dots&a_{1n}\\\\\n",
    "0&a_{22}'&\\dots&a_{2n}'\\\\\n",
    "&&\\vdots&\\\\0&a_{n2}'&\\dots&a_{nn}'\\end{bmatrix}\n",
    "=\\left[\\begin{array}{c|c}I_1&\\begin{array}{ccc}0&\\dots&0\\end{array}\\\\\\hline\n",
    "\\begin{array}{c}l_{21}\\\\\\vdots\\\\l_{n1}\\end{array}&I_{n-1}\n",
    "\\end{array}\\right]\\left[\\begin{array}{c|c}a_{11}&\\begin{array}{ccc}a_{12}&\\dots&a_{1n}\\end{array}\\\\\\hline\n",
    "\\begin{array}{c}0\\\\\\vdots\\\\0\\end{array}&A_{(n-1)\\times(n-1)}\n",
    "\\end{array}\\right].\n",
    "\\end{align}\n",
    "Koeficijenti kojima se pivot vrsta množi u postupku eliminacije obrazuju prvu kolonu matrice $L.$ Pivot vrsta predstavlja prvu vrstu matrice $U.$\n",
    "<div>\n",
    "   <img src=\"attachment:image-2.png\" width=\"850\">  \n",
    "</div>"
   ]
  },
  {
   "attachments": {
    "image.png": {
     "image/png": "[encoded data removed]"
    }
   },
   "cell_type": "markdown",
   "metadata": {},
   "source": [
    "Blok oblik matrica $L_1$ i $U_1$ je veoma bitan jer se njime uspostavlja veza sa narednim korakom LU faktorizacije. Trougaona faktorizacija matrice $A$ se u narednom koraku prenosi na blok $A_{(n-1)\\times(n-1)}.$ Naime, ako je poznata LU dekompozicija matrice $A_{(n-1)\\times(n-1)}=L_{(n-1)\\times(n-1)}U_{(n-1)\\times(n-1)},$ tada je\n",
    "$$U_1=\\left[\\begin{array}{c|c}a_{11}&\\begin{array}{ccc}a_{12}&\\dots&a_{1n}\\end{array}\\\\\\hline\n",
    "\\begin{array}{c}0\\\\\\vdots\\\\0\\end{array}&A_{(n-1)\\times(n-1)}\n",
    "\\end{array}\\right]=\\left[\\begin{array}{c|c}a_{11}&\\begin{array}{ccc}a_{12}&\\dots&a_{1n}\\end{array}\\\\\\hline\n",
    "\\begin{array}{c}0\\\\\\vdots\\\\0\\end{array}&L_{(n-1)\\times(n-1)}U_{(n-1)\\times(n-1)}\n",
    "\\end{array}\\right]=\n",
    "\\left[\\begin{array}{c|c}1&\\begin{array}{ccc}0&\\dots&0\\end{array}\\\\\\hline\n",
    "\\begin{array}{c}0\\\\\\vdots\\\\0\\end{array}&L_{(n-1)\\times(n-1)}\n",
    "\\end{array}\\right]\\left[\\begin{array}{c|c}a_{11}&\\begin{array}{ccc}a_{12}&\\dots&a_{1n}\\end{array}\\\\\\hline\n",
    "\\begin{array}{c}0\\\\\\vdots\\\\0\\end{array}&U_{(n-1)\\times(n-1)}\n",
    "\\end{array}\\right].$$\n",
    "To se prenosi na LU faktorizaciju matrice $A:$ \n",
    "\\begin{align}\n",
    "A&=L_1U_1=\\left[\\begin{array}{c|c}1&\\begin{array}{ccc}0&\\dots&0\\end{array}\\\\\\hline\n",
    "\\begin{array}{c}l_{21}\\\\\\vdots\\\\l_{n1}\\end{array}&I_{n-1}\n",
    "\\end{array}\\right]\\left[\\begin{array}{c|c}a_{11}&\\begin{array}{ccc}a_{12}&\\dots&a_{1n}\\end{array}\\\\\\hline\n",
    "\\begin{array}{c}0\\\\\\vdots\\\\0\\end{array}&A_{(n-1)\\times(n-1)}\n",
    "\\end{array}\\right]\\\\\n",
    "&=\\left[\\begin{array}{c|c}1&\\begin{array}{ccc}0&\\dots&0\\end{array}\\\\\\hline\n",
    "\\begin{array}{c}l_{21}\\\\\\vdots\\\\l_{n1}\\end{array}&I_{n-1}\n",
    "\\end{array}\\right]\\left[\\begin{array}{c|c}1&\\begin{array}{ccc}0&\\dots&0\\end{array}\\\\\\hline\n",
    "\\begin{array}{c}0\\\\\\vdots\\\\0\\end{array}&L_{(n-1)\\times(n-1)}\n",
    "\\end{array}\\right]\\left[\\begin{array}{c|c}a_{11}&\\begin{array}{ccc}a_{12}&\\dots&a_{1n}\\end{array}\\\\\\hline\n",
    "\\begin{array}{c}0\\\\\\vdots\\\\0\\end{array}&U_{(n-1)\\times(n-1)}\n",
    "\\end{array}\\right]\\\\\n",
    "&=\\left[\\begin{array}{c|c}1&\\begin{array}{ccc}0&\\dots&0\\end{array}\\\\\\hline\n",
    "\\begin{array}{c}l_{21}\\\\\\vdots\\\\l_{n1}\\end{array}&L_{(n-1)\\times(n-1)}\n",
    "\\end{array}\\right]\\left[\\begin{array}{c|c}a_{11}&\\begin{array}{ccc}a_{12}&\\dots&a_{1n}\\end{array}\\\\\\hline\n",
    "\\begin{array}{c}0\\\\\\vdots\\\\0\\end{array}&U_{(n-1)\\times(n-1)}\n",
    "\\end{array}\\right]=LU.\n",
    "\\end{align}\n",
    "Drugim rečima, LU faktorizacija se sa svakom iteracijom odvija kroz operacijski isti korak samo nad matricom dimenzije za jedan manje. Postupak umanjenja dimenzije sprovodi se sve do matrice dimenzije 1. Tu se postupak završava, tj. ne sprovodi se LU faktorizacija matrice dimenzije 1.\n",
    "\n",
    "Prilikom svakog od koraka faktorizacije formiraju se nova kolona matrice $L$ i nova vrsta matrice $U$ kao što je šematski prikazano sledećom slikom.\n",
    "<div>\n",
    "   <img src=\"attachment:image.png\" width=\"700\">  \n",
    "</div>"
   ]
  },
  {
   "cell_type": "markdown",
   "metadata": {},
   "source": [
    "**Primer 3.** Odredićemo trougaonu dekompoziciju matrice $$A=\\begin{bmatrix}2&-1&1&2\\\\\n",
    "\t-2&0&1&-5\\\\4&-2&3&5\\\\6&-1&0&9\\end{bmatrix}.$$\n",
    "    \n",
    "Na početku matrice $L$ i $U$ se postavljaju na $L=I,$ $U=A.$ "
   ]
  },
  {
   "cell_type": "code",
   "execution_count": 12,
   "metadata": {},
   "outputs": [
    {
     "name": "stdout",
     "output_type": "stream",
     "text": [
      "[[1. 0. 0. 0.]\n",
      " [0. 1. 0. 0.]\n",
      " [0. 0. 1. 0.]\n",
      " [0. 0. 0. 1.]]\n",
      "[[ 2. -1.  1.  2.]\n",
      " [-2.  0.  1. -5.]\n",
      " [ 4. -2.  3.  5.]\n",
      " [ 6. -1.  0.  9.]]\n"
     ]
    },
    {
     "data": {
      "text/plain": [
       "False"
      ]
     },
     "execution_count": 12,
     "metadata": {},
     "output_type": "execute_result"
    }
   ],
   "source": [
    "A=np.array([[2.,-1.,1.,2.],[-2,0,1,-5],[4,-2,3,5],[6,-1,0,9]])\n",
    "m,n=A.shape\n",
    "L=np.eye(m)\n",
    "U=A.copy()\n",
    "print(L)\n",
    "print(U)\n",
    "U is A"
   ]
  },
  {
   "cell_type": "code",
   "execution_count": 13,
   "metadata": {},
   "outputs": [
    {
     "name": "stdout",
     "output_type": "stream",
     "text": [
      "[[ 1.  0.  0.  0.]\n",
      " [-1.  1.  0.  0.]\n",
      " [ 2. -0.  1.  0.]\n",
      " [ 3. -2.  1.  1.]]\n",
      "[[ 2. -1.  1.  2.]\n",
      " [ 0. -1.  2. -3.]\n",
      " [ 0.  0.  1.  1.]\n",
      " [ 0.  0.  0. -4.]]\n"
     ]
    }
   ],
   "source": [
    "for i in range(m-1):\n",
    "    L[i+1:,i]=U[i+1:,i]/U[i,i]\n",
    "    U[i+1:,:]-=np.outer(L[i+1:,i],U[i,:])\n",
    "\n",
    "print(L)\n",
    "print(U)    "
   ]
  },
  {
   "cell_type": "code",
   "execution_count": 14,
   "metadata": {},
   "outputs": [
    {
     "data": {
      "text/plain": [
       "array([[0., 0., 0., 0.],\n",
       "       [0., 0., 0., 0.],\n",
       "       [0., 0., 0., 0.],\n",
       "       [0., 0., 0., 0.]])"
      ]
     },
     "execution_count": 14,
     "metadata": {},
     "output_type": "execute_result"
    }
   ],
   "source": [
    "A-L@U"
   ]
  },
  {
   "cell_type": "markdown",
   "metadata": {},
   "source": [
    "Za izvođenje LU faktorizacije Python poseduje ugrađenu funkciju unutar paketa Scipy.linalg. Iskoristićemo je za izračunavanje LU faktorizacije matrice $A.$\n",
    "Izlaz ugrađene naredbe `lu` daje permutacionu matricu $P$ tako da odgovara jednakosti $A=PLU.$   "
   ]
  },
  {
   "cell_type": "code",
   "execution_count": 15,
   "metadata": {},
   "outputs": [],
   "source": [
    "P,L,U=spl.lu(A)"
   ]
  },
  {
   "cell_type": "code",
   "execution_count": 16,
   "metadata": {},
   "outputs": [
    {
     "name": "stdout",
     "output_type": "stream",
     "text": [
      "[[0. 0. 1. 0.]\n",
      " [0. 0. 0. 1.]\n",
      " [0. 1. 0. 0.]\n",
      " [1. 0. 0. 0.]]\n",
      "[[ 1.          0.          0.          0.        ]\n",
      " [ 0.66666667  1.          0.          0.        ]\n",
      " [ 0.33333333  0.5         1.          0.        ]\n",
      " [-0.33333333  0.25       -0.5         1.        ]]\n",
      "[[ 6.         -1.          0.          9.        ]\n",
      " [ 0.         -1.33333333  3.         -1.        ]\n",
      " [ 0.          0.         -0.5        -0.5       ]\n",
      " [ 0.          0.          0.         -2.        ]]\n"
     ]
    }
   ],
   "source": [
    "print(P)\n",
    "print(L)\n",
    "print(U)"
   ]
  },
  {
   "cell_type": "markdown",
   "metadata": {},
   "source": [
    "Vidimo da se dobijene trougaone matrice razlikuju od onih koje su izvedene polaznim algoritmom. Proverimo tačnost dobijenih informacija, tj. da li zaista važi jednakost $A=PLU.$"
   ]
  },
  {
   "cell_type": "code",
   "execution_count": 27,
   "metadata": {},
   "outputs": [
    {
     "data": {
      "text/plain": [
       "array([[0., 0., 0., 0.],\n",
       "       [0., 0., 0., 0.],\n",
       "       [0., 0., 0., 0.],\n",
       "       [0., 0., 0., 0.]])"
      ]
     },
     "execution_count": 27,
     "metadata": {},
     "output_type": "execute_result"
    }
   ],
   "source": [
    "A-P@L@U"
   ]
  },
  {
   "cell_type": "markdown",
   "metadata": {},
   "source": [
    "Do razlike u rezultatima faktorizacije dolazi zbog strategije izbora pivot elementa koja se sprovodi za izračunavanja u konačnoj preciznosti. Tako permutaciona matrica $P$ u izlazu naredbe `lu` ukazuje da je za prvi pivot element izabran broj $6$ kao najveća vrednost unutar prve kolone matrice $A.$ Na sličan način su birani i preostali pivot elementi faktorizacije. Čitamo ih sa dijagonale matrice $U.$"
   ]
  },
  {
   "cell_type": "markdown",
   "metadata": {},
   "source": [
    "Ispostavlja se da izbor pivot elementa u implementaciji algoritma ima veoma važnu ulogu u održanju tačnosti rezultata, pa zbog toga predstavlja veoma važan aspekt u implementaciji algoritma.  Algoritmi numeričke matematike predstavljaju kompromis između brzog i tačnog rešenja problema. Trougaona dekompozicija nije izuzetak u tome. Prilikom izračunavanja u konačnoj preciznosti ključ za postizanje zadovoljavajuće tačnosti  leži u izbegavanju rada brojevima koji su velikog reda veličine ili brojevima  koji se razlikuju za velike redove veličina. Veoma često da bi se ispunio ovaj cilj potrebno je izbeći male vrednosti, preciznije deljenje malim brojevima. Zbog toga,\n",
    "osnovni problem prilikom izvođenja algoritma $LU$ dekompozicije jeste nula ili veoma mala vrednost pivot elementa u nekom iterativnom koraku. \n",
    "U takvoj situaciji strategija koja se najčešće sprovodi je [delimični izbor pivot elementa](http://mathonline.wikidot.com/partial-pivoting-in-gaussian-elimination). Ona podrazumeva zamenu mesta vrsta  matrice $A$ sa ciljem postavljanja bolje vrednosti na pivot poziciju. Kod implementacije na računaru,  izbor pivot elementa znači postavljanje na pivot poziciju broja sa maksimalnim modulom, tj. maksimalnom apsolutnom vrednošću. Time se obezbeđuje stabilnost izračunavanja u aritmetici konačne preciznosti. Stabilnost znači da izlazne vrednosti algoritma ne nose greške većeg reda veličine od onih koje su došle sa ulaznim vrednostima."
   ]
  },
  {
   "cell_type": "markdown",
   "metadata": {},
   "source": [
    "Uporedićemo rezultat ugrađene funkcije i koda sa izborom pivot elementa."
   ]
  },
  {
   "cell_type": "code",
   "execution_count": 28,
   "metadata": {},
   "outputs": [
    {
     "name": "stdout",
     "output_type": "stream",
     "text": [
      "[[ 1.          0.          0.          0.        ]\n",
      " [ 0.66666667  1.          0.          0.        ]\n",
      " [ 0.33333333  0.5         1.          0.        ]\n",
      " [-0.33333333  0.25       -0.5         1.        ]]\n",
      "[[ 6.         -1.          0.          9.        ]\n",
      " [ 0.         -1.33333333  3.         -1.        ]\n",
      " [ 0.          0.         -0.5        -0.5       ]\n",
      " [ 0.          0.          0.         -2.        ]]\n"
     ]
    }
   ],
   "source": [
    "m,n=A.shape\n",
    "L=np.eye(m)\n",
    "P=np.arange(m)  #praćenje permutacija vrsta u vektoru\n",
    "U=A.copy()\n",
    "for i in range(m-1):\n",
    "    j=np.argmax(np.abs(U[i:,i]))+i  #indeks najvećeg elementa kolone podmatrice\n",
    "    if j!=i:\n",
    "        U[[i,j],:]=U[[j,i],:]    #zamena vrsta matrice U\n",
    "        L[[i,j],:i]=L[[j,i],:i]  #zamena vrsta u bloku matrice L\n",
    "        P[i],P[j]=P[j],P[i]      #beleženje permutacije vrsta\n",
    "    if U[i,i]!=0:        \n",
    "        L[i+1:,i]=U[i+1:,i]/U[i,i]\n",
    "        U[i+1:,:]-=np.outer(L[i+1:,i],U[i,:])\n",
    "\n",
    "print(L)\n",
    "print(U) "
   ]
  },
  {
   "cell_type": "code",
   "execution_count": 29,
   "metadata": {},
   "outputs": [
    {
     "data": {
      "text/plain": [
       "array([[0., 0., 0., 0.],\n",
       "       [0., 0., 0., 0.],\n",
       "       [0., 0., 0., 0.],\n",
       "       [0., 0., 0., 0.]])"
      ]
     },
     "execution_count": 29,
     "metadata": {},
     "output_type": "execute_result"
    }
   ],
   "source": [
    "A[P]-L@U"
   ]
  },
  {
   "cell_type": "markdown",
   "metadata": {},
   "source": [
    "Analiziraćemo uticaj pivot pretrage na informacije koje $LU$ faktorizacija čuva.\n",
    "Pretpostavimo da je u iteracijama Dulitlovog algoritma dobijeno razlaganje matrice \n",
    "$$A=L_kU_k=\\left[\\begin{array}{c|c}L_{k\\times k}&O_{k\\times(n-k)}\\\\ \\hline B_{(n-k)\\times k}&I_{n-k}\\end{array}\\right]\\left[\\begin{array}{c|c}U_{k\\times k}&C_{k\\times(n-k)}\\\\ \\hline O_{(n-k)\\times k}&A_{(n-k)\\times(n-k)}\\end{array}\\right],$$ \n",
    "gde je $L_{k\\times k}$ donja unitrougaona matrica, a  $U_{k\\times k}$ gornje trougaona matrica. U narednoj iteraciji započinje se faktorizacija bloka $A_{(n-k)\\times(n-k)}.$ U slučaju kada se na prvoj poziciji bloka $A_{(n-k)\\times(n-k)}$ nalazi neadekvatna pivot vrednost mora da se napravi pretraga za boljom vrednošću. Delimična pretraga za pivot elementom znači traženje nove pivot vrednosti unutar prve kolone bloka $A_{(n-k)\\times(n-k)}.$ Ukoliko takva vrednost postoji potrebno je dovesti celu pivot vrstu na odgovarajuću poziciju. Ta pozicija je prva vrsta bloka $A_{(n-k)\\times(n-k)}\\equiv A_{n-k}.$ Označimo sa $$P=\\left[\\begin{array}{c|c}I_k&O_{k\\times(n-k)}\\\\ \\hline O_{(n-k)\\times k}&P_{n-k}\\end{array}\\right]$$ permutacionu matricu koja će izvršiti odgovarajuću zamenu mesta vrsta. "
   ]
  },
  {
   "cell_type": "markdown",
   "metadata": {},
   "source": [
    "\\begin{align}\n",
    "A&=\\left[\\begin{array}{c|c}L_{k\\times k}&O_{k\\times(n-k)}\\\\ \\hline B_{(n-k)\\times k}&I_{n-k}\\end{array}\\right]\n",
    "\\left[\\begin{array}{c|c}U_{k\\times k}&C_{k\\times(n-k)}\\\\ \\hline O_{(n-k)\\times k}&A_{n-k}\\end{array}\\right]\\\\\n",
    "&=\\left[\\begin{array}{c|c}L_{k\\times k}&O_{k\\times(n-k)}\\\\ \\hline B_{(n-k)\\times k}&P_{n-k}^TP_{n-k}\\end{array}\\right]\n",
    "\\left[\\begin{array}{c|c}U_{k\\times k}&C_{k\\times(n-k)}\\\\ \\hline O_{(n-k)\\times k}&A_{n-k}\\end{array}\\right]\\\\\n",
    "%&=\\left[\\begin{array}{c|c}L_{k\\times k}&O_{k\\times(n-k)}\\\\ \\hline B_{(n-k)\\times k}&P_{n-k}^T\\end{array}\\right] \\left[\\begin{array}{c|c}I_k&O_{k\\times(n-k)}\\\\ \\hline O_{(n-k)\\times k}&P_{n-k}\\end{array}\\right] \\left[\\begin{array}{c|c}U_{k\\times k}&C_{k\\times(n-k)}\\\\ \\hline O_{(n-k)\\times k}&A_{n-k}\\end{array}\\right]\\\\\n",
    "&=\\left[\\begin{array}{c|c}L_{k\\times k}&O_{k\\times(n-k)}\\\\ \\hline P_{n-k}^TP_{n-k}B_{(n-k)\\times k}&P_{n-k}^T\\end{array}\\right]\n",
    "\\left[\\begin{array}{c|c}U_{k\\times k}&C_{k\\times(n-k)}\\\\ \\hline O_{(n-k)\\times k}&P_{n-k}A_{n-k}\\end{array}\\right]\\\\\n",
    "&=\\left[\\begin{array}{c|c}I_k&O_{k\\times(n-k)}\\\\ \\hline O_{(n-k)\\times k}&P_{n-k}^T\\end{array}\\right]\n",
    "\\left[\\begin{array}{c|c}L_{k\\times k}&O_{k\\times(n-k)}\\\\ \\hline P_{n-k}B_{(n-k)\\times k}&I_{n-k}\\end{array}\\right]\n",
    "\\left[\\begin{array}{c|c}U_{k\\times k}&C_{k\\times(n-k)}\\\\ \\hline O_{(n-k)\\times k}&P_{n-k}A_{n-k}\\end{array}\\right]\n",
    "\\end{align}\n",
    "$$\\Longleftrightarrow\\  \\left[\\begin{array}{c|c}I_k&O_{k\\times(n-k)}\\\\ \\hline O_{(n-k)\\times k}&P_{n-k}\\end{array}\\right]A=\\left[\\begin{array}{c|c}L_{k\\times k}&O_{k\\times(n-k)}\\\\ \\hline P_{n-k}B_{(n-k)\\times k}&I_{n-k}\\end{array}\\right]\n",
    "\\left[\\begin{array}{c|c}U_{k\\times k}&C_{k\\times(n-k)}\\\\ \\hline O_{(n-k)\\times k}&P_{n-k}A_{n-k}\\end{array}\\right].$$\n",
    "Zaključujemo da zamena mesta vrsta u nekom koraku faktorizacije povlači istu zamenu vrsta i u polaznoj matrici $A$ i u bloku trougaone matrice $L_k.$"
   ]
  },
  {
   "cell_type": "markdown",
   "metadata": {},
   "source": [
    "U specijalnim situacijama pretraga za pivot elementom može da uključi sve elemente bloka nad kojim se sprovodi korak LU algoritma. To podrazumeva i permutaciju kolona matrice A. Takvu strategiju izbora nazivamo potpun izbor pivot elementa, ili kompletno pivotiranje, i rezultujuća faktorizacija je oblika\n",
    "$$PAQ=LU,$$\n",
    "gde su $P$ i $Q$ neke permutacione matrice. Ovakav način izbora pivot elementa koristi se veoma retko jer je izvođenje pretrage tada najveće vremensko opterećenje algoritma.\n",
    "\n",
    "Narednim primerom pokazaćemo važnost pivot strategije. "
   ]
  },
  {
   "cell_type": "markdown",
   "metadata": {},
   "source": [
    "**Primer 4.** Odredićemo LU faktorizaciju matrice $A=\\begin{bmatrix}0.1&0.2&0.3\\\\0.4&0.5&0.6\\\\\n",
    "0.7&0.8&0.8999\\end{bmatrix}$ sa i bez izbora pivot elementa. Radićemo matricom male dimenzije. Da bismo simulirali greške rada u konačnoj preciznosti svi međurezultati biće zaokruženi na tri decimale, tj. kreiraćemo računsku mašinu radne preciznosti 3 decimalna mesta.\n",
    "\n",
    "Inače LU faktorizacija matrice $A$ bez izbora pivot elementa, u apsolutnoj tačnosti je\n",
    "\\begin{align}\n",
    "\\begin{bmatrix}0.1&0.2&0.3\\\\0.4&0.5&0.6\\\\\n",
    "0.7&0.8&0.8999\\end{bmatrix}\n",
    "=\\begin{bmatrix}1&0&0\\\\4&1&0\\\\ 7&2&1\\end{bmatrix}\n",
    "\\begin{bmatrix}0.1&0.2&0.3\\\\0&-0.3&-0.6\\\\\n",
    "0&0&-0.0001\\end{bmatrix}.\n",
    "\\end{align}"
   ]
  },
  {
   "cell_type": "code",
   "execution_count": 50,
   "metadata": {},
   "outputs": [],
   "source": [
    "A=np.array([[0.1,0.2,0.3],[0.4,0.5,0.6],[0.7,0.8,0.8999]])\n",
    "U=A.copy()\n",
    "L=np.eye(3)"
   ]
  },
  {
   "cell_type": "code",
   "execution_count": 51,
   "metadata": {},
   "outputs": [
    {
     "name": "stdout",
     "output_type": "stream",
     "text": [
      "[[1. 0. 0.]\n",
      " [4. 1. 0.]\n",
      " [7. 0. 1.]]\n",
      "[[ 0.1  0.2  0.3]\n",
      " [ 0.  -0.3 -0.6]\n",
      " [-0.  -0.6 -1.2]]\n"
     ]
    }
   ],
   "source": [
    "L[1:,0]=np.round(U[1:,0]/U[0,0], decimals=3)\n",
    "U[1:,:]=np.round(U[1:,:]-np.outer(L[1:,0],U[0,:]), decimals=3)\n",
    "print(L)\n",
    "print(U)"
   ]
  },
  {
   "cell_type": "code",
   "execution_count": 52,
   "metadata": {},
   "outputs": [
    {
     "name": "stdout",
     "output_type": "stream",
     "text": [
      "[[1. 0. 0.]\n",
      " [4. 1. 0.]\n",
      " [7. 2. 1.]]\n",
      "[[ 0.1  0.2  0.3]\n",
      " [ 0.  -0.3 -0.6]\n",
      " [-0.   0.   0. ]]\n"
     ]
    }
   ],
   "source": [
    "L[2:,1]=np.round(U[2:,1]/U[1,1], decimals=3)\n",
    "U[2:,:]=np.round(U[2:,:]-np.outer(L[2:,1],U[1,:]), decimals=3)\n",
    "print(L)\n",
    "print(U)"
   ]
  },
  {
   "cell_type": "markdown",
   "metadata": {},
   "source": [
    "Dobijeni rezultat za matricu $U$ sugeriše da je ona ranga 2, tj. da je singularna matrica."
   ]
  },
  {
   "cell_type": "markdown",
   "metadata": {},
   "source": [
    "Primenimo sada pivot strategiju kojom se za pivot bira najveći po apsolutnoj vrednosti broj u koloni."
   ]
  },
  {
   "cell_type": "code",
   "execution_count": 33,
   "metadata": {},
   "outputs": [
    {
     "name": "stdout",
     "output_type": "stream",
     "text": [
      "[[0.7    0.8    0.8999]\n",
      " [0.4    0.5    0.6   ]\n",
      " [0.1    0.2    0.3   ]]\n",
      "[[0. 0. 1.]\n",
      " [0. 1. 0.]\n",
      " [1. 0. 0.]]\n"
     ]
    }
   ],
   "source": [
    "U=A.copy()\n",
    "L=np.eye(3)\n",
    "P1=np.eye(3)\n",
    "P1[[0,2],:]=P1[[2,0],:]\n",
    "U=P1@U\n",
    "L=P1@L@np.transpose(P1)\n",
    "print(U)\n",
    "print(P1)"
   ]
  },
  {
   "cell_type": "code",
   "execution_count": 34,
   "metadata": {},
   "outputs": [
    {
     "name": "stdout",
     "output_type": "stream",
     "text": [
      "[[1.    0.    0.   ]\n",
      " [0.571 1.    0.   ]\n",
      " [0.143 0.    1.   ]]\n",
      "[[ 0.7     0.8     0.8999]\n",
      " [ 0.      0.043   0.086 ]\n",
      " [-0.      0.086   0.171 ]]\n"
     ]
    }
   ],
   "source": [
    "L[1:,0]=np.round(U[1:,0]/U[0,0], decimals=3)\n",
    "U[1:,:]=np.round(U[1:,:]-np.outer(L[1:,0],U[0,:]), decimals=3)\n",
    "print(L)\n",
    "print(U)"
   ]
  },
  {
   "cell_type": "code",
   "execution_count": 35,
   "metadata": {},
   "outputs": [
    {
     "name": "stdout",
     "output_type": "stream",
     "text": [
      "[[1.    0.    0.   ]\n",
      " [0.571 1.    0.   ]\n",
      " [0.143 2.    1.   ]]\n",
      "[[ 0.7     0.8     0.8999]\n",
      " [ 0.      0.043   0.086 ]\n",
      " [-0.      0.     -0.001 ]]\n"
     ]
    }
   ],
   "source": [
    "L[2:,1]=np.round(U[2:,1]/U[1,1], decimals=3)\n",
    "U[2:,:]=np.round(U[2:,:]-np.outer(L[2:,1],U[1,:]), decimals=3)\n",
    "print(L)\n",
    "print(U)"
   ]
  },
  {
   "cell_type": "markdown",
   "metadata": {},
   "source": [
    "Dobijena je faktorizacja matrice $A$ koja potvrđuje da se radi o regularnoj matrici. Primerom je ukazano na mogućnost uticaja grešaka zaokruživanja na rezultate i informacije dobijene u radu sa matricama na nekoj računskoj mašini. "
   ]
  },
  {
   "attachments": {
    "image.png": {
     "image/png": "[encoded data removed]"
    }
   },
   "cell_type": "markdown",
   "metadata": {},
   "source": [
    "Izmedju ostalog, zaključak prethodnog primera je da nam $LU$ faktorizacija omogućava određivanje **numeričkog ranga matrice**. Naglašavamo da se u opštem slučaju radi o numeričkom rangu (približnoj vrednosti) jer aritmetika u konačnoj preciznosti može uneti greške kojima se utiče na konačan zaključak o rangu matrice. Mogu da se pojave nenula vrednosti kao posledica grešaka zaokružhivanja u aritmetici konačne preciznosti.  Sprovodi se niz elementarnih transformacija vrsta nad matricom $A.$ Na taj način ona se dovodi na blok trougaoni oblik u kome gornji dijagonalni blok predstavlja pravu trougaonu matricu. Iz koraka u korak dimenzija tog trougaonog bloka raste. Transformacije se sprovode do momenta kada donji dijagonalni blok ne postane veoma sličan nula matrici, videti sliku.\n",
    "$$A=R_0\\stackrel{T_1}{\\longrightarrow}R_1\\stackrel{T_2}{\\longrightarrow}R_2\n",
    "\\stackrel{T_3}{\\longrightarrow}\\dots\\stackrel{T_k}{\\longrightarrow}R_k=R.$$\n",
    "\n",
    "![image.png](attachment:image.png)\n",
    "\n",
    "Izbor najvećeg po modulu pivot elementa obezbeđuje da se elementi celog donjeg dijagonalnog bloka iz koraka u korak približavaju nula matrici pokomponentno."
   ]
  },
  {
   "cell_type": "markdown",
   "metadata": {},
   "source": [
    "**Zadatak 1.** Date su matrice $A=\\begin{bmatrix}1&1&5\\\\2&0&6\\\\1&2&7\\end{bmatrix}$ i $B=\\begin{bmatrix}1&-4&4\\\\4&-8&6\\\\0&-4&5\\end{bmatrix}.$ \n",
    "\n",
    "a) Da li matrice $A$ i $B$ imaju jednake prostore kolona?\n",
    "\n",
    "b) Da li matrice $A$ i $B$ imaju jednake prostore vrsta? \n",
    "\n",
    "c) Da li matrice $A$ i $B$ imaju jednaka desna jezgra?\n",
    "\n",
    "d) Da li matrice $A$ i $B$ imaju jednaka leva jezgra?"
   ]
  },
  {
   "cell_type": "markdown",
   "metadata": {},
   "source": [
    "**Rešenje:**\n",
    "\n",
    "Proverićemo rangove matrica $A$ i $B$ primenom ugrađene funkcije NumPy Linalg biblioteke."
   ]
  },
  {
   "cell_type": "code",
   "execution_count": 13,
   "metadata": {},
   "outputs": [
    {
     "name": "stdout",
     "output_type": "stream",
     "text": [
      "2\n",
      "2\n"
     ]
    }
   ],
   "source": [
    "A=np.array([[1,1.,5],[2,0,6.],[1,2,7.]])\n",
    "B=np.array([[1,-4.,4.],[4,-8,6.],[0,-4.,5.]])\n",
    "print(np.linalg.matrix_rank(A))\n",
    "print(np.linalg.matrix_rank(B))"
   ]
  },
  {
   "cell_type": "markdown",
   "metadata": {},
   "source": [
    "Zaključujemo da matrice $A$ i $B$ mogu da imaju jednake neke od fundamentalnih potprostora. Zbog toga potražimo njihove LU faktorizacije."
   ]
  },
  {
   "cell_type": "code",
   "execution_count": 17,
   "metadata": {},
   "outputs": [
    {
     "name": "stdout",
     "output_type": "stream",
     "text": [
      "[[0.5 0.5 1. ]\n",
      " [1.  0.  0. ]\n",
      " [0.5 1.  0. ]]\n",
      "[[2. 0. 6.]\n",
      " [0. 2. 4.]\n",
      " [0. 0. 0.]]\n",
      "[[0.25 0.5  1.  ]\n",
      " [1.   0.   0.  ]\n",
      " [0.   1.   0.  ]]\n",
      "[[ 4. -8.  6.]\n",
      " [ 0. -4.  5.]\n",
      " [ 0.  0.  0.]]\n"
     ]
    }
   ],
   "source": [
    "PA, LA, UA=spl.lu(A)\n",
    "PB, LB, UB=spl.lu(B)\n",
    "print(PA@LA)\n",
    "print(UA)\n",
    "print(PB@LB)\n",
    "print(UB)"
   ]
  },
  {
   "cell_type": "code",
   "execution_count": 18,
   "metadata": {},
   "outputs": [
    {
     "data": {
      "text/plain": [
       "array([[0., 0., 0.],\n",
       "       [0., 0., 0.],\n",
       "       [0., 0., 0.]])"
      ]
     },
     "execution_count": 18,
     "metadata": {},
     "output_type": "execute_result"
    }
   ],
   "source": [
    "A-PA@LA@UA"
   ]
  },
  {
   "cell_type": "code",
   "execution_count": 19,
   "metadata": {},
   "outputs": [
    {
     "data": {
      "text/plain": [
       "array([[0., 0., 0.],\n",
       "       [0., 0., 0.],\n",
       "       [0., 0., 0.]])"
      ]
     },
     "execution_count": 19,
     "metadata": {},
     "output_type": "execute_result"
    }
   ],
   "source": [
    "B-PB@LB@UB"
   ]
  },
  {
   "cell_type": "markdown",
   "metadata": {},
   "source": [
    "Dobili smo sledeće trougaone faktorizacije matrica i faktorizacije punog ranga:\n",
    "\\begin{align}\n",
    "A&=\\begin{bmatrix}1/2&1/2&1\\\\1&0&0\\\\1/2&1&0\\end{bmatrix}\n",
    "\\begin{bmatrix}2&0&6\\\\0&2&4\\\\0&0&0\\end{bmatrix}=\\begin{bmatrix}1/2&1/2\\\\1&0\\\\1/2&1\\end{bmatrix}\n",
    "\\begin{bmatrix}2&0&6\\\\0&2&4\\end{bmatrix},\\\\\n",
    "B&=\\begin{bmatrix}1/4&1/2&1\\\\1&0&0\\\\0&1&0\\end{bmatrix}\n",
    "\\begin{bmatrix}7&-8&6\\\\0&-4&5\\\\0&0&0\\end{bmatrix}\n",
    "=\\begin{bmatrix}1/4&1/2\\\\1&0\\\\0&1\\end{bmatrix}\n",
    "\\begin{bmatrix}7&-8&6\\\\0&-4&5\\end{bmatrix},\\\\\n",
    "\\end{align}\n",
    "\n",
    "a) Za poređenje prostora kolona matrica $A$ i $B$ proverićemo rang matrice sastavljene od baznih kolona matrica $A$ i $B$."
   ]
  },
  {
   "cell_type": "code",
   "execution_count": 20,
   "metadata": {},
   "outputs": [
    {
     "name": "stdout",
     "output_type": "stream",
     "text": [
      "[[0.5  0.5  0.25 0.5 ]\n",
      " [1.   0.   1.   0.  ]\n",
      " [0.5  1.   0.   1.  ]]\n",
      "2\n"
     ]
    }
   ],
   "source": [
    "L1=PA@LA\n",
    "L2=PB@LB\n",
    "ABkolone=np.hstack((L1[:,:2],L2[:,:2]))\n",
    "print(ABkolone)\n",
    "print(np.linalg.matrix_rank(ABkolone))"
   ]
  },
  {
   "cell_type": "markdown",
   "metadata": {},
   "source": [
    "Kako je ${\\rm rang}(A)={\\rm rang}(B)={\\rm rang}([A|B])$ zaključujemo da su prostori kolona matrica $A$ i $B$ jednaki.\n",
    "\n",
    "b) Za poređenje prostora vrsta matrica $A$ i $B$ proverićemo rang matrice sastavljene od baznih vrsta matrica $A$ i $B$."
   ]
  },
  {
   "cell_type": "code",
   "execution_count": 21,
   "metadata": {},
   "outputs": [
    {
     "name": "stdout",
     "output_type": "stream",
     "text": [
      "[[ 2.  0.  6.]\n",
      " [ 0.  2.  4.]\n",
      " [ 4. -8.  6.]\n",
      " [ 0. -4.  5.]]\n",
      "3\n"
     ]
    }
   ],
   "source": [
    "ABvrste=np.vstack((UA[:2],UB[:2]))\n",
    "print(ABvrste)\n",
    "print(np.linalg.matrix_rank(ABvrste))"
   ]
  },
  {
   "cell_type": "markdown",
   "metadata": {},
   "source": [
    "Kako je ${\\rm rang}(A^T)={\\rm rang}(B^T)<{\\rm rang}\\left(\\begin{bmatrix}A\\\\\\hline B\\end{bmatrix}\\right)$ zaključujemo da prostori vrsta matrica $A$ i $B$ nisu jednaki.\n",
    "\n",
    "c) S obzirom da su jezgra $\\mathcal{N}(A)$ i $\\mathcal{N}(B)$ ortogonalni prostori na $\\mathcal{R}(A^T)$ i $\\mathcal{R}(B^T)$ redom, zakljčujemo da se u slučaju matrica $A$ i $B$ ovi potprostori ne poklapaju. Da bismo ovo potvrdili možemo za poređenje jezgara matrica $A$ i $B$ da iskoristimo ugrađenu funkciju Pythona `null_space`. Ona vraća ortonormiranu bazu odgovarajućeg prostora. "
   ]
  },
  {
   "cell_type": "code",
   "execution_count": 24,
   "metadata": {},
   "outputs": [
    {
     "name": "stdout",
     "output_type": "stream",
     "text": [
      "[[-0.80178373]\n",
      " [-0.53452248]\n",
      " [ 0.26726124]]\n",
      "[[-0.52981294]\n",
      " [-0.66226618]\n",
      " [-0.52981294]]\n"
     ]
    }
   ],
   "source": [
    "print(spl.null_space(A))\n",
    "print(spl.null_space(B))"
   ]
  },
  {
   "cell_type": "markdown",
   "metadata": {},
   "source": [
    "d) Prostori kolona matrica $A$ i $B$ su jednaki pa su takve i njihove ortogonalne dopune, tj. leva jezgra ovih matrica $\\mathcal{N}(A^T)$ i $\\mathcal{N}(B^T).$ Da bismo ovo potvrdili koristimo `null_space`."
   ]
  },
  {
   "cell_type": "code",
   "execution_count": 25,
   "metadata": {},
   "outputs": [
    {
     "name": "stdout",
     "output_type": "stream",
     "text": [
      "[[ 0.87287156]\n",
      " [-0.21821789]\n",
      " [-0.43643578]]\n",
      "[[ 0.87287156]\n",
      " [-0.21821789]\n",
      " [-0.43643578]]\n"
     ]
    }
   ],
   "source": [
    "print(spl.null_space(A.T))\n",
    "print(spl.null_space(B.T))"
   ]
  },
  {
   "cell_type": "markdown",
   "metadata": {},
   "source": [
    "## Operacijska složenost Dulitlovog algoritma\n",
    "\n",
    "Iterativna priroda LU faktorizacije ukazuje da poznavanje operacijske složenosti jednog koraka znači poznavanje operacijske složenosti svakog od koraka. Drugim rečima, ukoliko za jedan korak eliminacije nad kvadratnom matricom dimenzije $n$ se troši $f(n)$ operacija, za naredni korak biće potrebno $f(n-1)$ operacija, za naredni $f(n-2),$ itd., sve do poslednjeg koraka koji se sprovodi nad matricom dimenzije $2.$ Ovaj poslednji korak onda troši $f(2)$ operacija. Tada je ukupna operacijska (kombinatorna) složenost LU algoritma data sa\n",
    "$$f(n)+f(n-1)+\\dots+f(2)=\\sum_{k=2}^nf(k).$$"
   ]
  },
  {
   "cell_type": "markdown",
   "metadata": {},
   "source": [
    "Kako bismo došli do izraza $f(n)$ prebrojimo aritmetičke operacije potrebne za sprovođenje jednog koraka Dulitlove LU faktorizacije na matrici dimenzije $n.$ Osnovno pravilo u izvođenju i brojanju operacija je da se rezultati koji su unapred poznati ne izračunavaju. Drugim rečima, sve nule (ili neke druge vrednosti) koje unapred znamo ne izračunavamo."
   ]
  },
  {
   "cell_type": "markdown",
   "metadata": {},
   "source": [
    "Za praćenje broja operacija koristićemo standardno indeksiranje elemenata matrice.\n",
    "\n",
    "- Izračunavanje jedne kolone matrice $L$ koristi $n-1$ deljenja  $\\dfrac{a_{21}}{a_{11}},\\dfrac{a_{31}}{a_{11}},\\dots,\\dfrac{a_{n1}}{a_{11}}\\quad\\Longrightarrow\\quad n-1$ operacija deljenja; \n",
    "ili jedno deljenje $\\dfrac{1}{a_{11}}$ i $n-1$ množenja.\n",
    "\n",
    "- Promena vrednosti druge vrste matrice:\n",
    "$$\\begin{bmatrix} a_{21}&a_{22}&\\dots&a_{2n}\\end{bmatrix}\\mapsto\\begin{bmatrix} 0&a_{22}'&\\dots&a_{2n}'\\end{bmatrix}.$$\n",
    "Izračunavanja, tj. promene vrednosti potrebno je izvesti samo nad elementima $a_{22},\\dots,a_{2n}$ jer se $a_{21}$ bez izračunavanja može da postavi na vrednost 0. Sama transformacija uključuje: \n",
    "    \n",
    "    * množenje pivot vrste (od drugog elementa) koeficijentom $l_{21}=\\dfrac{a_{21}}{a_{11}}$\n",
    "       $$l_{21}\\begin{bmatrix}{\\color{blue}a_{11}}& a_{12}&\\dots&a_{1n}\\end{bmatrix}\\quad\\Longrightarrow\\quad n-1 \\mbox{ množenja}.$$\n",
    "    * oduzimanje ovakve pivot vrste od druge vrste   \n",
    "    $$\\begin{bmatrix} {\\color{blue}a_{21}}&a_{22}&\\dots&a_{2n}\\end{bmatrix}-l_{21}\\begin{bmatrix}{\\color{blue}a_{11}}& a_{12}&\\dots&a_{1n}\\end{bmatrix}\n",
    "    \\quad\\Longrightarrow\\quad n-1 \\mbox{ oduzimanja}.$$\n",
    "- Promena vrednosti treće, četvrte, ..., $n-$te vrste koristi isti broj operacija.\n",
    "\n",
    "Zaključujemo da je operacijska složenost jednog koraka LU faktorizacije određena izrazom:\n",
    "$$f(n)=n-1+(n-1)(n-1+n-1)=2(n-1)^2+n=2n^2-3n+1.$$\n",
    "Od toga $n-1+(n-1)^2=n^2-n$ operacija se troši na množenje ili deljenje. \n",
    "Rezultat možemo da proverimo upotrebom paketa za simbolička izračunavanja SymPy."
   ]
  },
  {
   "cell_type": "code",
   "execution_count": 53,
   "metadata": {},
   "outputs": [
    {
     "data": {
      "text/latex": [
       "$\\displaystyle 2 n^{2} - 3 n + 1$"
      ],
      "text/plain": [
       "2*n**2 - 3*n + 1"
      ]
     },
     "execution_count": 53,
     "metadata": {},
     "output_type": "execute_result"
    }
   ],
   "source": [
    "import sympy as sym\n",
    "n=sym.Symbol('n')\n",
    "sym.expand(n-1+(n-1)*(n-1+n-1))"
   ]
  },
  {
   "cell_type": "markdown",
   "metadata": {},
   "source": [
    "Ukupna operacijska složenost LU faktorizacije je $\\mathcal{O}\\left(\\frac{2n^3}{3}\\right)$\n",
    "$$f(n)+f(n-1)+\\dots+f(2)=\\sum_{k=2}^nf(k)=\\frac{2n^3}{3}-\\frac{n^2}{2}-\\frac{n}{6}.$$"
   ]
  },
  {
   "cell_type": "code",
   "execution_count": 54,
   "metadata": {},
   "outputs": [
    {
     "data": {
      "text/latex": [
       "$\\displaystyle \\frac{2 n^{3}}{3} - \\frac{n^{2}}{2} - \\frac{n}{6}$"
      ],
      "text/plain": [
       "2*n**3/3 - n**2/2 - n/6"
      ]
     },
     "execution_count": 54,
     "metadata": {},
     "output_type": "execute_result"
    }
   ],
   "source": [
    "k=sym.Symbol('k')\n",
    "sym.Sum(2*k*k-3*k+1,(k,2,n)).doit()"
   ]
  },
  {
   "cell_type": "markdown",
   "metadata": {},
   "source": [
    "Dulitlova LU faktorizacija dozvoljava ekonomizaciju u memorijskom prostoru. Umesto dve matrice $L$ i $U$ dimenzija $n\\times n$ celokupni proces moguće je izvesti kroz transformacije samo jedne matrice dimenzije $n\\times n.$ Pozicije elemenata sa poznatim vrednostima kao što su 0 i jedinice nije neophodno pamtiti. Takve pozicije se koriste za smeštaj drugih informacija faktorizacije. Šematski prikaz izlaza konačnog rezultata:\n",
    "$$L=\\begin{bmatrix}1&0&0&\\dots&0\\\\l_{21}&1&0&\\dots&0\\\\l_{31}&l_{32}&1&\\dots&0\\\\\n",
    "\\vdots&\\vdots&\\vdots&\\ddots&\\vdots\\\\\n",
    "l_{n1}&l_{n2}&l_{n3}&\\dots&1\\end{bmatrix},\\ \n",
    "U=\\begin{bmatrix}u_{11}&u_{12}&u_{13}&\\dots&u_{1n}\\\\\n",
    "0&u_{22}&u_{23}&\\dots&u_{2n}\\\\0&0&u_{33}&\\dots&u_{3n}\\\\\\vdots&\\vdots&\\vdots&\\ddots&\\vdots\\\\\n",
    "0&0&0&\\dots&u_{nn}\\end{bmatrix}\\ \\mapsto\\ \n",
    "L\\,|\\,U=\\begin{bmatrix}u_{11}&u_{12}&u_{13}&\\dots&u_{1n}\\\\\n",
    "l_{21}&u_{22}&u_{23}&\\dots&u_{2n}\\\\l_{31}&l_{32}&u_{33}&\\dots&u_{3n}\\\\\\vdots&\\vdots&\\vdots&\\ddots&\\vdots\\\\\n",
    "l_{n1}&l_{n2}&l_{n3}&\\dots&u_{nn}\\end{bmatrix}$$\n",
    "\n",
    "Na isti način i svaki korak faktorizacije štedi memorijski prostor. Pogledajmo na primeru jednog koraka.\n",
    "\\begin{align}\n",
    "    L_1=\\begin{bmatrix} 1&0&0&\\dots&0\\\\\n",
    "l_{21}&1&0&\\dots&0\\\\ \\vdots\\\\\n",
    "l_{n1}&0&0&\\dots&1\\end{bmatrix},\\ U_1=\n",
    "\\begin{bmatrix} a_{11}&a_{12}&\\dots&a_{1n}\\\\\n",
    "0&a_{22}'&\\dots&a_{2n}'\\\\\n",
    "&&\\vdots&\\\\0&a_{n2}'&\\dots&a_{nn}'\\end{bmatrix}\n",
    "\\ \\mapsto\\ L_1\\,|\\,U_1=\\begin{bmatrix} a_{11}&a_{12}&\\dots&a_{1n}\\\\\n",
    "l_{21}&a_{22}'&\\dots&a_{2n}'\\\\\n",
    "&&\\vdots&\\\\l_{n1}&a_{n2}'&\\dots&a_{nn}'\\end{bmatrix}\n",
    "\\end{align}\n",
    "Ovo je naročito korisno kod zamnene mesta vrsta usled izbora pivot elementa. Tada cele vrste matrice $L_k\\,|\\,U_k$ menjaju pozicije."
   ]
  },
  {
   "cell_type": "markdown",
   "metadata": {},
   "source": [
    "**Zadatak 2.** Odrediti LU faktorizaciju matrice $A=\\begin{bmatrix} 1&2&-2&1\\\\\n",
    "\t2&6&-5&4\\\\-3&-10&11&-8\\\\4&14&-5&4\\end{bmatrix}.$\n",
    "    \n",
    "**Rešenje:**    "
   ]
  },
  {
   "cell_type": "code",
   "execution_count": 18,
   "metadata": {},
   "outputs": [
    {
     "name": "stdout",
     "output_type": "stream",
     "text": [
      "permutaciona matrica [[0. 1. 0. 0.]\n",
      " [0. 0. 0. 1.]\n",
      " [0. 0. 1. 0.]\n",
      " [1. 0. 0. 0.]]\n",
      "donje trougaona matrica [[ 1.          0.          0.          0.        ]\n",
      " [ 0.25        1.          0.          0.        ]\n",
      " [-0.75       -0.33333333  1.          0.        ]\n",
      " [ 0.5         0.66666667 -0.28571429  1.        ]]\n",
      "gornje trougaona matrica [[ 4.         14.         -5.          4.        ]\n",
      " [ 0.         -1.5        -0.75        0.        ]\n",
      " [ 0.          0.          7.         -5.        ]\n",
      " [ 0.          0.          0.          0.57142857]]\n"
     ]
    }
   ],
   "source": [
    "A=np.array([[1,2.,-2,1],[2,6,-5,4],[-3,-10,11,-8],[4,14,-5,4.]])\n",
    "P,L,U=spl.lu(A)\n",
    "print(\"permutaciona matrica\",P)\n",
    "print(\"donje trougaona matrica\",L)\n",
    "print(\"gornje trougaona matrica\",U)"
   ]
  },
  {
   "cell_type": "code",
   "execution_count": 20,
   "metadata": {},
   "outputs": [
    {
     "data": {
      "text/plain": [
       "array([[0., 0., 0., 0.],\n",
       "       [0., 0., 0., 0.],\n",
       "       [0., 0., 0., 0.],\n",
       "       [0., 0., 0., 0.]])"
      ]
     },
     "execution_count": 20,
     "metadata": {},
     "output_type": "execute_result"
    }
   ],
   "source": [
    "A-P@L@U"
   ]
  },
  {
   "cell_type": "markdown",
   "metadata": {},
   "source": [
    "Funkcija SciPy biblioteke koja daje memorijski ekonomične rezultate je `lu_factor`."
   ]
  },
  {
   "cell_type": "code",
   "execution_count": 19,
   "metadata": {},
   "outputs": [
    {
     "data": {
      "text/plain": [
       "(array([[ 4.        , 14.        , -5.        ,  4.        ],\n",
       "        [ 0.25      , -1.5       , -0.75      ,  0.        ],\n",
       "        [-0.75      , -0.33333333,  7.        , -5.        ],\n",
       "        [ 0.5       ,  0.66666667, -0.28571429,  0.57142857]]),\n",
       " array([3, 3, 2, 3], dtype=int32))"
      ]
     },
     "execution_count": 19,
     "metadata": {},
     "output_type": "execute_result"
    }
   ],
   "source": [
    "spl.lu_factor(A)"
   ]
  },
  {
   "cell_type": "markdown",
   "metadata": {},
   "source": [
    "Prethodna analiza dala je procenu operacijske složenosti prve faze Gausovog algoritma za rešenje kvadaratnog sistema linearnih jednačina. Potražićemo operacijsku složenost i druge faze Gausovog algoritma, tj faze zamene."
   ]
  },
  {
   "cell_type": "markdown",
   "metadata": {},
   "source": [
    "Neka je dat trougaoni sistem linearnih jednačina, $u_{ii}\\neq0,$\n",
    "$$\t\n",
    "\\begin{array}{rl}\n",
    "\tu_{11}x_1+u_{12}x_2+u_{13}x_3+\\dots+u_{1\\,n-1}x_{n-1}+u_{1n}x_n&=b_1,\\\\\n",
    "\tu_{22}x_2+u_{23}x_3+\\dots+u_{2\\,n-1}x_{n-1}+u_{2n}x_n&=b_2,\\\\\n",
    "\t\tu_{33}x_3+\\dots+u_{3\\,n-1}x_{n-1}+u_{3n}x_n&=b_2,\\\\\n",
    "\t\t\\vdots&\\\\\n",
    "\t\tu_{n-1\\,n-1}x_{n-1}+u_{n-1\\,n}x_n&=b_{n-1},\\\\\n",
    "\t\tu_{nn}x_n&=b_n.\n",
    "\t\\end{array}$$\n",
    "Prebrojaćemo aritmetičke operacije potrebne za rešavanje ovog sistema."
   ]
  },
  {
   "cell_type": "markdown",
   "metadata": {},
   "source": [
    "- Izračunavanje vrednosti nepoznate $x_n=\\dfrac{b_n}{u_{nn}}$ troši jedno deljenje.\n",
    "- $x_{n-1}=\\dfrac{b_{n-1}-u_{n-1\\,n}x_n}{u_{n-1\\,n-1}},$ 1 deljenje, 1 množenje i 1 operacija $\\pm.$\n",
    "- $x_{n-2}=\\dfrac{b_{n-2}-(u_{n-2\\,n}x_n+u_{n-2\\,n-1}x_{n-1})}{u_{n-2\\,n-2}},$ 1 deljenje, 2 množenja i 2 operacije $\\pm.$\n",
    "\n",
    "$\\vdots$\n",
    "- $x_{n-k}=\\dfrac{b_{n-k}-(u_{n-k\\,n}x_n+u_{n-k\\,n-1}x_{n-1}+\\dots+u_{n-k\\,n-k+1}x_{n-k+1})}{u_{n-k\\,n-k}},$ koristi 1 deljenje, $k$ množenja i $k$ operacija $\\pm.$\n",
    "\n",
    "$\\vdots$\n",
    "- $x_{1}=\\dfrac{b_{1}-(u_{1\\,n}x_n+u_{1\\,n-1}x_{n-1}+\\dots+u_{1\\,2}x_{2})}{u_{11}},$ 1 deljenje, $n-1$ množenja i $n-1$ operacija $\\pm.$"
   ]
  },
  {
   "cell_type": "markdown",
   "metadata": {},
   "source": [
    "Ukupan broj operacija svih koraka izračunavanja dat je narednom tabelom.\n",
    "$$\n",
    "\t\\begin{array}{c|c|c||c}\n",
    "\t\t{\\rm Deljenja}&{\\rm Množenja}&{\\rm Sabiranja}/ &{\\rm Ukupno}\\\\[6pt] \n",
    "        &&{\\rm oduzimanja}&\\\\\\hline\\hline&&&\\\\\n",
    "\t\tn&\\dfrac{n(n-1)}{2}&\\dfrac{n(n-1)}{2}&n^2\n",
    "\t\\end{array}\n",
    "$$"
   ]
  },
  {
   "cell_type": "markdown",
   "metadata": {},
   "source": [
    "Ukoliko je poznata trougaona faktorizacija sistema jednačina $Ax=b\\Longleftrightarrow LUx=b,$ rešavanje polaznog sistema možemo svesti na rešavanje dva trougaona sistema.\n",
    "Uvedimo smenu $y=Ux.$ Tada je \n",
    "$$Ax=b\\quad\\Longleftrightarrow\\quad Ly=b,\\ Ux=y.$$ \n",
    "Broj potrebnih operacija za rešavanje dva trougaona sistema linearnih jednačina je $2n^2.$ Ukoliko je neka od matrica $L$ ili $U$ sa jedinicama na glavnoj dijagonali štedi se na operaciji deljenja, pa je broj potrebnih operacija za rešavanje takvog sistema jednak $2n^2-n=\\mathcal{O}(2n^2).$"
   ]
  },
  {
   "cell_type": "markdown",
   "metadata": {},
   "source": [
    "**Primer 5** Uporedićemo vremena rešavanja $100$ sistema linearnih jednačina $Ax=b_k,\\ k=\\overline{1,100}$ sa i bez trougaone faktorizacije."
   ]
  },
  {
   "cell_type": "code",
   "execution_count": 2,
   "metadata": {},
   "outputs": [],
   "source": [
    "n=1023\n",
    "I=np.eye(n)\n",
    "A = rndm.randn(n,n)+200*I\n",
    "b = np.ones(n)"
   ]
  },
  {
   "cell_type": "code",
   "execution_count": 7,
   "metadata": {},
   "outputs": [
    {
     "name": "stdout",
     "output_type": "stream",
     "text": [
      "Vreme izracunavanja:  0.18661430000065593 sec\n"
     ]
    }
   ],
   "source": [
    "start = timer()\n",
    "lu, piv = spl.lu_factor(A)\n",
    "for k in range(1,101):\n",
    "    x = spl.lu_solve((lu, piv), b/k)\n",
    "end = timer()\n",
    "print(\"Vreme izracunavanja: \",end - start,\"sec\")    "
   ]
  },
  {
   "cell_type": "code",
   "execution_count": 8,
   "metadata": {},
   "outputs": [
    {
     "name": "stdout",
     "output_type": "stream",
     "text": [
      "Vreme izracunavanja:  4.27398820000235 sec\n"
     ]
    }
   ],
   "source": [
    "start = timer()\n",
    "for k in range(1,101):\n",
    "    x = np.linalg.solve(A, b/k)\n",
    "end = timer()\n",
    "print(\"Vreme izracunavanja: \",end - start,\"sec\")"
   ]
  },
  {
   "cell_type": "markdown",
   "metadata": {},
   "source": [
    "**Задатак 3.** На основу $LU$ факторизације матрице $A\\in\\mathcal{M}_{n\\times n}$ одредити инверзну матрицу $A^{-1}$ решавањем низа система једначина \n",
    "$$LUx=e_i,\\quad i=1,\\dots,n$$\n",
    "где су $e_i$ вектори канонске базе простора $\\mathbb{R}^n.$"
   ]
  },
  {
   "cell_type": "code",
   "execution_count": 34,
   "metadata": {},
   "outputs": [
    {
     "data": {
      "text/plain": [
       "array([[ 4.98251439e-03,  3.06077841e-05, -5.41913985e-05, ...,\n",
       "        -8.88051982e-06, -1.19335377e-05, -6.63916706e-05],\n",
       "       [ 3.26747642e-05,  4.99164369e-03,  5.12175264e-05, ...,\n",
       "         3.56777223e-05,  2.24441726e-05, -8.56483423e-06],\n",
       "       [-1.27094923e-05, -4.01898650e-05,  5.00700884e-03, ...,\n",
       "        -6.99255530e-06, -8.46312008e-07,  1.63407032e-05],\n",
       "       ...,\n",
       "       [-3.43211919e-05,  4.12632426e-05,  3.48431245e-05, ...,\n",
       "         4.99817478e-03,  2.32245202e-05,  2.15462833e-05],\n",
       "       [ 4.64723134e-07,  5.61198874e-05,  1.56655709e-05, ...,\n",
       "        -1.21226166e-05,  4.99046073e-03, -3.02104742e-05],\n",
       "       [-1.95246977e-05,  9.69321225e-06,  2.74999795e-05, ...,\n",
       "         4.29699021e-06, -2.78572012e-05,  5.00711351e-03]])"
      ]
     },
     "execution_count": 34,
     "metadata": {},
     "output_type": "execute_result"
    }
   ],
   "source": [
    "spl.lu_solve((lu, piv), I)"
   ]
  },
  {
   "cell_type": "markdown",
   "metadata": {},
   "source": [
    "## LDU faktorizacija\n",
    "\n",
    "Postoji izvesna nesimetričnost u Dultlovoj faktorizaciji matrice, tu mislim na vrednosti dijagonalnih elemenata matrica faktora. Postavljanje jedinica na dijagonalu gornje trougaone matrice $U$ u faktorizaciji $A=LU$ se lako postiže transformacijom vrsta matrice $U:$\n",
    "$$\\begin{bmatrix}u_{11}&u_{12}&u_{13}&\\dots&u_{1n}\\\\\n",
    "0&u_{22}&u_{23}&\\dots&u_{2n}\\\\\n",
    "0&0&u_{33}&\\dots&u_{3n}\\\\\n",
    "\\vdots&\\vdots&\\vdots&\\ddots&\\vdots\\\\\n",
    "0&0&0&\\dots&u_{nn}\\end{bmatrix}\n",
    "=\\begin{bmatrix}u_{11}&0&0&\\dots&0\\\\ 0&u_{22}&0&\\dots&0\\\\0&0&u_{33}&\\dots&0\\\\\\vdots&\\vdots&\\vdots&\\ddots&\\vdots\\\\\n",
    "0&0&0&\\dots&u_{nn}\\end{bmatrix}\n",
    "\\begin{bmatrix}1&\\frac{u_{12}}{u_{11}}&\\frac{u_{13}}{u_{11}}&\\dots&\\frac{u_{1n}}{u_{11}}\\\\\n",
    "0&1&\\frac{u_{23}}{u_{22}}&\\dots&\\frac{u_{2n}}{u_{22}}\\\\0&0&1&\\dots&\\frac{u_{3n}}{u_{33}}\\\\\\vdots&\\vdots&\\vdots&\\ddots&\\vdots\\\\\n",
    "0&0&0&\\dots&1\\end{bmatrix}.\n",
    "$$\n",
    "Tako Dulitlova faktorizacija lako postaje LDU dekompozicija matrice:\n",
    "$$A=\\begin{bmatrix}1&0&0&\\dots&0\\\\l_{21}&1&0&\\dots&0\\\\l_{31}&l_{32}&1&\\dots&0\\\\\n",
    "\\vdots&\\vdots&\\vdots&\\ddots&\\vdots\\\\\n",
    "l_{n1}&l_{n2}&l_{n3}&\\dots&1\\end{bmatrix}\n",
    "\\begin{bmatrix}u_{11}&0&0&\\dots&0\\\\ 0&u_{22}&0&\\dots&0\\\\0&0&u_{33}&\\dots&0\\\\\\vdots&\\vdots&\\vdots&\\ddots&\\vdots\\\\\n",
    "0&0&0&\\dots&u_{nn}\\end{bmatrix}\n",
    "\\begin{bmatrix}1&\\frac{u_{12}}{u_{11}}&\\frac{u_{13}}{u_{11}}&\\dots&\\frac{u_{1n}}{u_{11}}\\\\\n",
    "0&1&\\frac{u_{23}}{u_{22}}&\\dots&\\frac{u_{2n}}{u_{22}}\\\\0&0&1&\\dots&\\frac{u_{3n}}{u_{33}}\\\\\\vdots&\\vdots&\\vdots&\\ddots&\\vdots\\\\\n",
    "0&0&0&\\dots&1\\end{bmatrix}.\n",
    "$$"
   ]
  },
  {
   "cell_type": "markdown",
   "metadata": {},
   "source": [
    "Na osnovu jedinstvenosti Dulitlove dekompozicije bez izbora pivot elementa $A=LU,$ sledi da je i LDU dekompozicija matrice jedinstvena.\n",
    "\n",
    "Ukoliko za regularnu simetričnu matricu $A$ važi da je $A=LDU,$  onda je $L=U^T.$ Zaista, zbog simetričnosti matrice $A$ važi:\n",
    "$$LDU=(LDU)^T=U^TD^TL^T=U^TDL^T.$$\n",
    "Kako je LDU dekompozicija jednoznačno određena, potvrđujemo da je $L=U^T.$ Zaljučujemo da za simetrične matrice važi $LDL^T$ dekompozicija."
   ]
  },
  {
   "cell_type": "markdown",
   "metadata": {},
   "source": [
    "**Primer 6.** Potražimo LDU faktorizaciju bez izbora pivot elementa simetrične matrice $A=\\begin{bmatrix}1&3&4\\\\3&1&3\\\\4&3&-1\\end{bmatrix}.$ Na osnovu nje možemo da odredimo $LDL^T$ dekompoziciju matrice $A.$"
   ]
  },
  {
   "cell_type": "code",
   "execution_count": 35,
   "metadata": {},
   "outputs": [
    {
     "name": "stdout",
     "output_type": "stream",
     "text": [
      "[[1.    0.    0.   ]\n",
      " [3.    1.    0.   ]\n",
      " [4.    1.125 1.   ]]\n",
      "[[ 1.     3.     4.   ]\n",
      " [ 0.    -8.    -9.   ]\n",
      " [ 0.     0.    -6.875]]\n"
     ]
    }
   ],
   "source": [
    "A=np.array([[1.,3.,4.],[3,1,3],[4,3,-1]])\n",
    "U=A.copy()\n",
    "L=np.eye(3)\n",
    "for i in range(3-1):\n",
    "    L[i+1:,i]=U[i+1:,i]/U[i,i]\n",
    "    U[i+1:,:]-=np.outer(L[i+1:,i],U[i,:])\n",
    "\n",
    "print(L)\n",
    "print(U)    "
   ]
  },
  {
   "cell_type": "code",
   "execution_count": 36,
   "metadata": {},
   "outputs": [],
   "source": [
    "D=np.diag(U)\n",
    "U=U/D.reshape(3,1)"
   ]
  },
  {
   "cell_type": "code",
   "execution_count": 37,
   "metadata": {},
   "outputs": [
    {
     "name": "stdout",
     "output_type": "stream",
     "text": [
      "[[1.    0.    0.   ]\n",
      " [3.    1.    0.   ]\n",
      " [4.    1.125 1.   ]]\n",
      "[[ 1.     3.     4.   ]\n",
      " [-0.     1.     1.125]\n",
      " [-0.    -0.     1.   ]]\n",
      "[ 1.    -8.    -6.875]\n"
     ]
    }
   ],
   "source": [
    "print(L)\n",
    "print(U) \n",
    "print(D)"
   ]
  },
  {
   "cell_type": "markdown",
   "metadata": {},
   "source": [
    "Ugrađena funkcija za  $LDL^T$ dekompoziciju simetrične matrice nalazi se u `scipy.linalg` modulu. Za $LDL^T$ dekompoziciju sa izborom pivot elementa teži se očuvanju simetričnosti celokupne strukture. Svaka permutacija vrsta praćena je odgovarajućom permutacijom kolona. Konačan izraz dekompozicije tada glasi\n",
    "$$PAP^T=LDL^T.$$\n",
    "Doduše, ova naredba vraća blok dijagonalnu matricu $D$ u određenim situacijama."
   ]
  },
  {
   "cell_type": "code",
   "execution_count": 38,
   "metadata": {},
   "outputs": [
    {
     "name": "stdout",
     "output_type": "stream",
     "text": [
      "[[1.         0.         0.        ]\n",
      " [0.88235294 0.52941176 1.        ]\n",
      " [0.         1.         0.        ]]\n",
      "[[1.         0.         0.        ]\n",
      " [0.         1.         0.        ]\n",
      " [0.88235294 0.52941176 1.        ]]\n",
      "[[ 1.          4.          0.        ]\n",
      " [ 4.         -1.          0.        ]\n",
      " [ 0.          0.         -3.23529412]]\n"
     ]
    }
   ],
   "source": [
    "l, d, perm = spl.ldl(A)\n",
    "\n",
    "print(l)\n",
    "print(l[perm])\n",
    "print(d)"
   ]
  },
  {
   "cell_type": "code",
   "execution_count": 42,
   "metadata": {},
   "outputs": [
    {
     "data": {
      "text/plain": [
       "array([[0., 0., 0.],\n",
       "       [0., 0., 0.],\n",
       "       [0., 0., 0.]])"
      ]
     },
     "execution_count": 42,
     "metadata": {},
     "output_type": "execute_result"
    }
   ],
   "source": [
    "A-l@d@l.T"
   ]
  },
  {
   "cell_type": "markdown",
   "metadata": {},
   "source": [
    "Pristup $LDL^T$ dekompozicijom može se primeniti i u slučaju singularnih simetričnih matrica. Kod ovakvih matrica u postupku $LDL^T$ dekompozicije kada se pojavi pivot element jednak nuli, odgovarajući dijagonalni element matrice $D$ se postavlja da bude nula. Dijagonalna matrica $D$ svojim nenula elementima registruje rang faktorisane matrice."
   ]
  },
  {
   "cell_type": "markdown",
   "metadata": {},
   "source": [
    "**Primer 7.** Potražimo $LDL^T$ dekompoziciju simetrične matrica $A=\\begin{bmatrix}1&1&1&1\\\\1&2&-1&2\\\\\n",
    "1&-1&5&-1\\\\1&2&-1&4\\end{bmatrix}.$"
   ]
  },
  {
   "cell_type": "code",
   "execution_count": 39,
   "metadata": {},
   "outputs": [
    {
     "name": "stdout",
     "output_type": "stream",
     "text": [
      "[[ 1.   0.   0.   0. ]\n",
      " [ 1.  -0.5  1.   0. ]\n",
      " [ 1.   1.   0.   0. ]\n",
      " [ 1.  -0.5  0.   1. ]]\n",
      "[[ 1.   0.   0.   0. ]\n",
      " [ 1.   1.   0.   0. ]\n",
      " [ 1.  -0.5  1.   0. ]\n",
      " [ 1.  -0.5  0.   1. ]]\n",
      "[[1. 0. 0. 0.]\n",
      " [0. 4. 0. 0.]\n",
      " [0. 0. 0. 0.]\n",
      " [0. 0. 0. 2.]]\n"
     ]
    }
   ],
   "source": [
    "A=np.array([[1.,1.,1,1.],[1,2,-1,2],[1,-1,5,-1],[1,2,-1,4]])\n",
    "l, d, perm = spl.ldl(np.tril(A))\n",
    "print(l)\n",
    "print(l[perm])\n",
    "print(d)"
   ]
  },
  {
   "cell_type": "code",
   "execution_count": 40,
   "metadata": {},
   "outputs": [
    {
     "data": {
      "text/plain": [
       "array([[0., 0., 0., 0.],\n",
       "       [0., 0., 0., 0.],\n",
       "       [0., 0., 0., 0.],\n",
       "       [0., 0., 0., 0.]])"
      ]
     },
     "execution_count": 40,
     "metadata": {},
     "output_type": "execute_result"
    }
   ],
   "source": [
    "A-l@d@l.T"
   ]
  },
  {
   "cell_type": "markdown",
   "metadata": {},
   "source": [
    "**Zadatak 4.** LU dekompozicija bez izbora pivot elementa simetrične matrice $A$ kao rezultat dala je matricu $U=\\begin{bmatrix} 2&4&-2\\\\0&1&1\\\\0&0&3\\end{bmatrix}.$ Odrediti $A.$"
   ]
  },
  {
   "cell_type": "markdown",
   "metadata": {},
   "source": [
    "**Rešenje:**\n",
    "\n",
    "Na osnovu LU dekompozicije simetrične matrice $A$ dobija se njena $LDL^T$ dekompozicija. Dijagonalnu matricu $D$ čine dijagonalni elementi matrice $U,$ a $L^T=D^{-1}U.$ \n",
    "\\begin{align}\n",
    "    &D=\\begin{bmatrix} 2&0&0\\\\0&1&0\\\\0&0&3\\end{bmatrix},\n",
    "    \\qquad L^T=\\begin{bmatrix} 1&2&-1\\\\0&1&1\\\\0&0&1\\end{bmatrix},\\\\\n",
    "    &A=LDL^T=LU=\\begin{bmatrix} 1&0&0\\\\2&1&0\\\\-1&1&1\\end{bmatrix}\n",
    "    \\begin{bmatrix} 2&4&-2\\\\0&1&1\\\\0&0&3\\end{bmatrix}=\n",
    "    \\begin{bmatrix} 2&4&-2\\\\4&9&-3\\\\-2&-3&6\\end{bmatrix}.\n",
    "\\end{align}"
   ]
  },
  {
   "cell_type": "markdown",
   "metadata": {},
   "source": [
    " Kada simetrična matrica $A$ ima $LDL^T$ dekompoziciju kod koje su dijagonalni elementi $D=diag(d_1,\\dots,d_n)$ svi pozitivni, za matricu $A$ kažemo da ima tzv. Čoleski dekompoziciju $A=LL^T.$ \n",
    " Označimo $D^{1/2}=diag(\\sqrt{d_1},\\dots,\\sqrt{d_n}).$ Tada \n",
    " $$A=(LD^{1/2})(LD^{1/2})^T$$\n",
    " predstavlja dekompoziciju Čoleskog, tj. proizvod jedne donjetrougaone matrice i njene transponovane matrice."
   ]
  },
  {
   "cell_type": "markdown",
   "metadata": {},
   "source": [
    "**Primer 8.** Za simetričnu matricu \n",
    "$A=\\begin{bmatrix} a_{11}&a_{21}&a_{31}\\\\\n",
    "\ta_{21}&a_{22}&a_{32}\\\\a_{31}&a_{32}&a_{33}\\end{bmatrix}$ \n",
    "dekompozicija Čoleskog koristi jednu donje trougaonu matricu \n",
    "$L=\\begin{bmatrix} l_{11}&0&0\\\\ l_{21}&l_{22}&0\\\\l_{31}&l_{32}&l_{33}\\end{bmatrix}.$\n",
    "Tada uslov $A=LL^T$ postaje \n",
    "\t$$\\begin{bmatrix} a_{11}&a_{21}&a_{31}\\\\\n",
    "\ta_{21}&a_{22}&a_{32}\\\\a_{31}&a_{32}&a_{33}\\end{bmatrix}=\n",
    "\t\\begin{bmatrix} l_{11}&0&0\\\\l_{21}&l_{22}&0\\\\l_{31}&l_{32}&l_{33}\\end{bmatrix}\n",
    "\t\\begin{bmatrix} l_{11}&l_{21}&l_{31}\\\\\n",
    "\t0&l_{22}&l_{32}\\\\0&0&l_{33}\\end{bmatrix}=\n",
    "\t\\begin{bmatrix} l_{11}^2&l_{11}l_{21}&l_{11}l_{31}\\\\\n",
    "\tl_{11}l_{21}&l_{21}^2+l_{22}^2&l_{21}l_{31}+l_{22}l_{32}\\\\\n",
    "\tl_{11}l_{31}&l_{21}l_{31}+l_{22}l_{32}&l_{31}^2+l_{32}^2+l_{33}^2\\end{bmatrix}.$$\n",
    "Poređenjem dijagonalnih elemenata dve matrice zaključujemo da je prvi neophodan uslov  za realizaciju dekompozicije Čoleskog $a_{kk}>0.$\n",
    "Izjednačavnjem elemenata u prvoj koloni matrica $A$ i $LL^T$ nalazimo\n",
    "\t$$\\begin{array}{lll}\n",
    "\ta_{11}=l_{11}^2& \\Longrightarrow& l_{11}=\\sqrt{a_{11}}\\,,\\\\[8pt]\n",
    "\ta_{21}=l_{11}l_{21}& \\Longrightarrow& l_{21}=\\dfrac{a_{21}}{l_{11}}\\,,\\\\[8pt]\n",
    "\ta_{31}=l_{11}l_{31}& \\Longrightarrow& l_{31}=\\dfrac{a_{31}}{l_{11}}\\,.\n",
    "\t\\end{array}$$ \n",
    "Izjednačavanje elemenata nastavljamo duž ostalih kolona matrica $A$ i $LL^T.$\n",
    "\t$$\\begin{array}{lll}\n",
    "\t\ta_{22}=l_{21}^2+l_{22}^2&\\Longrightarrow&l_{22}=\\sqrt{a_{22}-l_{21}^2}\\,,\\\\[10pt]\n",
    "\t\ta_{32}=l_{21}l_{31}+l_{22}l_{32}&\\Longrightarrow&\n",
    "\t\tl_{32}=\\dfrac{a_{32}-l_{21}l_{31}}{l_{22}},\\\\[10pt]\n",
    "\t\ta_{33}=l_{31}^2+l_{32}^2+l_{33}^2&\\Longrightarrow&\n",
    "\t\tl_{33}=\\sqrt{a_{33}-l_{31}^2-l_{32}^2}\\,.\n",
    "\t\\end{array}$$\n",
    "Uslovi pozitivnosti glase: $a_{11}>0,$\n",
    "\t$$\\begin{array}{l}\n",
    "\ta_{22}-l_{21}^2>0\\ \\Longleftrightarrow\\ a_{22}-\\dfrac{a_{21}^2}{a_{11}}\n",
    "\t=\\dfrac{a_{11}a_{22}-a_{21}^2}{a_{11}}>0\\ \\Longrightarrow\\\n",
    "\ta_{11}a_{22}-a_{21}^2>0\\\\\n",
    "\t\\qquad\\Longleftrightarrow \n",
    "    \\begin{vmatrix} a_{11}&a_{12}\\\\a_{12}&a_{22}\\end{vmatrix}>0,\\\\\n",
    "\ta_{33}-l_{31}^2-l_{32}^2>0\\ \\Longleftrightarrow\\ a_{33}-\\dfrac{a_{31}^2}{a_{11}}\n",
    "\t-\\dfrac{\\left(\\dfrac{a_{11}a_{32}-a_{21}a_{31}}{a_{11}}\\right)^2}\n",
    "\t{\\dfrac{a_{11}a_{22}-a_{21}^2}{a_{11}}}>0\\\\\n",
    "\t\\qquad\\Longrightarrow\\ a_{11}a_{22}a_{33}-a_{12}^2a_{33}-a_{13}^2a_{22}-a_{11}a_{23}^2+2a_{12}a_{13}a_{23}>0\\\\\n",
    "\t\\qquad\\Longleftrightarrow \n",
    "    \\begin{vmatrix} a_{11}&a_{12}&a_{13}\\\\\n",
    "\ta_{12}&a_{22}&a_{23}\\\\a_{13}&a_{23}&a_{33}\\end{vmatrix}>0.\n",
    "\t\\end{array}$$\n",
    "    "
   ]
  },
  {
   "cell_type": "markdown",
   "metadata": {},
   "source": [
    "Da bi simetrična matrica imala Čoleski dekompoziciju neophodno je da izrazi pod kvadratnim korenom budu nenegativni. Ovo je u tesnoj vezi sa veoma bitnom osobinom nekih simetričnih matrica.\n",
    "Formule za dekompoziciju Čoleskog u opštem slučaju glase:\n",
    "$$l_{ij}=\\begin{cases}\n",
    "\\sqrt{a_{ii}^2-\\big\\|\\begin{bmatrix} l_{i1}&l_{i2}&\\dots&l_{i\\,i-1}\\end{bmatrix}\\big\\|^2}&,i=j,\\\\\n",
    "\\dfrac{a_{ij}}{l_{jj}}-\\dfrac1{l_{jj}}\\begin{bmatrix} l_{i1}&l_{i2}&\\dots&l_{i\\,j-1}\\end{bmatrix}\n",
    "\\begin{bmatrix} l_{j1}\\\\l_{j2}\\\\ \\dots\\\\l_{j\\,j-1}\\end{bmatrix}&,i>j,\\\\\n",
    "0&,i<j.\n",
    "\\end{cases}.$$"
   ]
  },
  {
   "cell_type": "markdown",
   "metadata": {},
   "source": [
    "Odredićemo $LL^T$ dekompoziciju matrice \n",
    "$A=\\begin{bmatrix}4&-2&2\\\\-2&2&-4\\\\2&-4&11\\end{bmatrix}.$\n",
    "\\begin{align}\n",
    "    l_{11}&=\\sqrt{a_{11}}=\\sqrt4=2,\\\\\n",
    "    l_{21}&=\\dfrac{a_{21}}{l_{11}}=\\dfrac{-2}{2}=-1,\\\\\n",
    "    l_{31}&=\\dfrac{a_{31}}{l_{11}}=2,\\\\\n",
    "    l_{22}&=\\sqrt{a_{22}-l_{21}^2}=1,\\\\\n",
    "    l_{32}&=\\dfrac{a_{32}-l_{21}l_{31}}{l_{22}}=-4,\\\\\n",
    "    l_{33}&=\\sqrt{a_{33}-l_{31}^2-l_{32}^2}=11.\n",
    "\\end{align}\n",
    "Dobili smo da je $A=LL^T,$ za $L=\\begin{bmatrix} 2&0&0\\\\-1&1&0\\\\1&-3&1\\end{bmatrix}.$"
   ]
  },
  {
   "cell_type": "code",
   "execution_count": 41,
   "metadata": {},
   "outputs": [
    {
     "data": {
      "text/plain": [
       "array([[ 4., -2.,  2.],\n",
       "       [-2.,  2., -4.],\n",
       "       [ 2., -4., 11.]])"
      ]
     },
     "execution_count": 41,
     "metadata": {},
     "output_type": "execute_result"
    }
   ],
   "source": [
    "A=np.array([[4.,-2,2.],[-2,2,-4],[2,-4,11]])\n",
    "U = spl.cholesky(A)\n",
    "U.T@U"
   ]
  },
  {
   "cell_type": "code",
   "execution_count": 42,
   "metadata": {},
   "outputs": [
    {
     "data": {
      "text/plain": [
       "array([[ 2., -1.,  1.],\n",
       "       [ 0.,  1., -3.],\n",
       "       [ 0.,  0.,  1.]])"
      ]
     },
     "execution_count": 42,
     "metadata": {},
     "output_type": "execute_result"
    }
   ],
   "source": [
    "U"
   ]
  },
  {
   "cell_type": "markdown",
   "metadata": {},
   "source": [
    "**Zadatak 5.** Dekompozicija Čoleskog matrice $A$ kao rezultat dala je matricu $L=\\begin{bmatrix} 1&0&0\\\\1&2&0\\\\1&2&3\\end{bmatrix}.$ Odrediti $\\det(A),$ a zatim i samu matricu $A.$"
   ]
  },
  {
   "cell_type": "markdown",
   "metadata": {},
   "source": [
    "**Rešenje:** Dekompozicija Čoleskog simetrične matrice $A$ je faktorizacija oblika $A=LL^T.$ Na osnovu toga lako dobijamo traženo:\n",
    "$$\\det(A)=\\det(LL^T)=\\det(L)\\det(L^T)=\\det(L)^2=6^2=36.$$"
   ]
  },
  {
   "cell_type": "code",
   "execution_count": 43,
   "metadata": {},
   "outputs": [
    {
     "name": "stdout",
     "output_type": "stream",
     "text": [
      "[[ 1  1  1]\n",
      " [ 1  5  5]\n",
      " [ 1  5 14]]\n"
     ]
    }
   ],
   "source": [
    "L=np.array([[1,0,0],[1,2,0],[1,2,3]])\n",
    "A=L@L.T\n",
    "print(A)"
   ]
  }
 ],
 "metadata": {
  "kernelspec": {
   "display_name": "Python 3",
   "language": "python",
   "name": "python3"
  },
  "language_info": {
   "codemirror_mode": {
    "name": "ipython",
    "version": 3
   },
   "file_extension": ".py",
   "mimetype": "text/x-python",
   "name": "python",
   "nbconvert_exporter": "python",
   "pygments_lexer": "ipython3",
   "version": "3.7.16"
  }
 },
 "nbformat": 4,
 "nbformat_minor": 4
}
