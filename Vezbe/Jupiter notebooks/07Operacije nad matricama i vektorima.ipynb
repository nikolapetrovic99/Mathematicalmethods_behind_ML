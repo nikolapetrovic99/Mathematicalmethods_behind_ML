{
 "cells": [
  {
   "attachments": {
    "image.png": {
     "image/png": "[encoded data removed]"
    }
   },
   "cell_type": "markdown",
   "metadata": {},
   "source": [
    "# Rad sa vektorima i matricama - NumPy\n",
    "\n",
    "<div>\n",
    "   <img src=\"attachment:image.png\" width=\"300\">  \n",
    "</div>\n",
    "\n",
    "Sadržaj:\n",
    "1. [Operacije nad vektorima i matricama](#Operacije-nad-vektorima-i-matricama-u-NumPy-biblioteci)\n",
    "    1. [Skaliranje `*`](#Skaliranje-vektora-i-matrica)\n",
    "        1. [Napomena o listama i `*`](#Napomena-o-listama-i-`*`)\n",
    "    1. [Sabiranje `+`](#Sabiranje-vektora-i-matrica)\n",
    "        1. [Napomena o listama i `+`](#Napomena-o-listama-i-`+`)\n",
    "    1. [Transponovanje `transpose` ili `T`](#Transponovanje-vektora-i-matrica)\n",
    "    1. [Množenje matrica `dot`, `outer` i `@`](#Množenje-matrica)\n",
    "    1. [Inverzna matrica i determinanta `linalg.inv` i `linalg.det`](#Inverzna-matrica)\n",
    "    1. [Specijalne operacije nad NumPy nizovima](#Specijalne-operacije-nad-NumPy-nizovima)\n",
    "1. [Pristup elementima niza](#Pristup-elementima-niza)   \n",
    "\n",
    "\n",
    "U ovom odeljku bavićemo se osnovnim operacijama nad NumPy nizovima i načinima pristupa pojedinim delovima niza."
   ]
  },
  {
   "cell_type": "code",
   "execution_count": 1,
   "metadata": {},
   "outputs": [],
   "source": [
    "import numpy as np\n",
    "import matplotlib as mplb\n",
    "import matplotlib.pyplot as plt"
   ]
  },
  {
   "cell_type": "markdown",
   "metadata": {},
   "source": [
    "## Operacije nad vektorima i matricama u NumPy biblioteci\n",
    "\n",
    "Osnovne operacije vektorskog prostora i operacije nad matricama podržane su u radu sa NumPy nizovima. Uslovi pod kojima su ove operacije definisane odnose se i na uslove izvršenja operacija iz NumPy biblioteke. Osim toga, ovde ukazujemo na neke bitne operacijske razlike između dva tipa podataka - liste i NumPy nizovi, a koje mogu da posluže za jednostavno definisanje nizova preko lista. Naredna tabela sadrži izbor važnijih funkcija i metoda kojima su podržane operacije linearne algebre. Iscrpna lista rutina može se pregledati u [dokumentacionom centru](https://numpy.org/doc/stable/reference/routines.html).\n",
    "\n",
    "|Operacija|Simbol|\n",
    "|---|---|\n",
    "|Sabiranje|`+`|\n",
    "|Oduzimanje|`-`|\n",
    "|Skaliranje|`*`|\n",
    "|Transponovanje|`transpose()` ili `.T`|\n",
    "|Unutrašnji (skalarni) proizvod|`dot()`|\n",
    "|Kompleksni skalarni proizvod|`vdot()`|\n",
    "|Spoljašnji proizvod vektora|`outer()`|\n",
    "|Množenje matrica|`@`|\n",
    "|Determinanta|`linalg.det()`|\n",
    "|Trag matrice|`trace()`|\n",
    "|Inverzna matrica|`linalg.inv()`|\n",
    "|Rešenje matrične jednačine $AX=B$|`linalg.solve(A,B)`|\n",
    "|Norma vektora|`linalg.norm()`|\n",
    "\n",
    "U nastavku kroz primere prikazaćemo kako funkcionišu navedene funkcije. Osim toga, postoje i zgodne skraćenice za neke specijalne slučajeve ovih operacija."
   ]
  },
  {
   "cell_type": "markdown",
   "metadata": {},
   "source": [
    "### Skaliranje vektora i matrica\n",
    "\n",
    "Množenje svih elemenata NumPy niza jednim brojem, realnim ili kompleksnim, vrši se simbolom `*`."
   ]
  },
  {
   "cell_type": "code",
   "execution_count": 2,
   "metadata": {},
   "outputs": [
    {
     "data": {
      "text/plain": [
       "array([ 2,  0,  2, -2])"
      ]
     },
     "execution_count": 2,
     "metadata": {},
     "output_type": "execute_result"
    }
   ],
   "source": [
    "u=np.array([1,0,1,-1])\n",
    "2*u"
   ]
  },
  {
   "cell_type": "code",
   "execution_count": 3,
   "metadata": {},
   "outputs": [
    {
     "data": {
      "text/plain": [
       "array([ 1.+1.j,  0.+0.j,  1.+1.j, -1.-1.j])"
      ]
     },
     "execution_count": 3,
     "metadata": {},
     "output_type": "execute_result"
    }
   ],
   "source": [
    "(1+1j)*u"
   ]
  },
  {
   "cell_type": "code",
   "execution_count": 4,
   "metadata": {},
   "outputs": [
    {
     "name": "stdout",
     "output_type": "stream",
     "text": [
      "[[1 2 3]\n",
      " [4 5 6]]\n"
     ]
    },
    {
     "data": {
      "text/plain": [
       "array([[ -2.3,  -4.6,  -6.9],\n",
       "       [ -9.2, -11.5, -13.8]])"
      ]
     },
     "execution_count": 4,
     "metadata": {},
     "output_type": "execute_result"
    }
   ],
   "source": [
    "matrica=np.array([[1,2,3],[4,5,6]])\n",
    "print(matrica)\n",
    "-2.3*matrica"
   ]
  },
  {
   "cell_type": "code",
   "execution_count": 5,
   "metadata": {},
   "outputs": [
    {
     "data": {
      "text/plain": [
       "array([[0.33333333, 0.66666667, 1.        ],\n",
       "       [1.33333333, 1.66666667, 2.        ]])"
      ]
     },
     "execution_count": 5,
     "metadata": {},
     "output_type": "execute_result"
    }
   ],
   "source": [
    "matrica/3"
   ]
  },
  {
   "cell_type": "markdown",
   "metadata": {},
   "source": [
    "#### Napomena o listama  i  `*`\n",
    "\n",
    "Interesantno je uporediti dejstvo operacije, tj. simbola `*` kada je argument lista."
   ]
  },
  {
   "cell_type": "code",
   "execution_count": 6,
   "metadata": {},
   "outputs": [
    {
     "data": {
      "text/plain": [
       "[1, 2, 1, 2, 1, 2, 1, 2]"
      ]
     },
     "execution_count": 6,
     "metadata": {},
     "output_type": "execute_result"
    }
   ],
   "source": [
    "4*[1,2]"
   ]
  },
  {
   "cell_type": "code",
   "execution_count": 7,
   "metadata": {},
   "outputs": [
    {
     "data": {
      "text/plain": [
       "[1, 2, 1, 2, 1, 2, 1, 2]"
      ]
     },
     "execution_count": 7,
     "metadata": {},
     "output_type": "execute_result"
    }
   ],
   "source": [
    "[1,2]*4"
   ]
  },
  {
   "cell_type": "code",
   "execution_count": 8,
   "metadata": {},
   "outputs": [
    {
     "data": {
      "text/plain": [
       "[[1], [1], [1]]"
      ]
     },
     "execution_count": 8,
     "metadata": {},
     "output_type": "execute_result"
    }
   ],
   "source": [
    "3*[[1]]"
   ]
  },
  {
   "cell_type": "code",
   "execution_count": 9,
   "metadata": {},
   "outputs": [
    {
     "data": {
      "text/plain": [
       "[[1, 0], [2, -1], [1, 0], [2, -1], [1, 0], [2, -1], [1, 0], [2, -1]]"
      ]
     },
     "execution_count": 9,
     "metadata": {},
     "output_type": "execute_result"
    }
   ],
   "source": [
    "4*[[1,0],[2,-1]]"
   ]
  },
  {
   "cell_type": "markdown",
   "metadata": {},
   "source": [
    "<div class=\"alert alert-block alert-info\">\n",
    "<b>Napomena:</b> Rezultat \"množenja\" liste je višestruko nadovezivanje (konkatenacija) elemenata te liste. </div>"
   ]
  },
  {
   "cell_type": "markdown",
   "metadata": {},
   "source": [
    "To se može iskoristiti za automatizovano kreiranje vektora i matrica."
   ]
  },
  {
   "cell_type": "code",
   "execution_count": 10,
   "metadata": {},
   "outputs": [
    {
     "data": {
      "text/plain": [
       "array([[1, 1, 1, 1],\n",
       "       [2, 2, 2, 2]])"
      ]
     },
     "execution_count": 10,
     "metadata": {},
     "output_type": "execute_result"
    }
   ],
   "source": [
    "primer=np.array([4*[1],4*[2]])\n",
    "primer"
   ]
  },
  {
   "cell_type": "markdown",
   "metadata": {},
   "source": [
    "### Sabiranje vektora i matrica\n",
    "\n",
    "Sabiranje elemenata (član-po-član) dva NumPy niza obavlja se operacijom `+`. Kao što `*` deluje različito na nizove i liste, slična razlika postoji i za operaciju `+`. Primeri primene ove operacije nad različitim objektima dati su u nastavku."
   ]
  },
  {
   "cell_type": "code",
   "execution_count": 11,
   "metadata": {},
   "outputs": [
    {
     "name": "stdout",
     "output_type": "stream",
     "text": [
      "[ 1  0  1 -1]\n"
     ]
    },
    {
     "data": {
      "text/plain": [
       "array([ 3, -1,  3,  0])"
      ]
     },
     "execution_count": 11,
     "metadata": {},
     "output_type": "execute_result"
    }
   ],
   "source": [
    "print(u)\n",
    "v=np.array([2,-1,2,1])\n",
    "u+v                       #sabiranje vektora"
   ]
  },
  {
   "cell_type": "code",
   "execution_count": 12,
   "metadata": {},
   "outputs": [
    {
     "data": {
      "text/plain": [
       "array([-1,  1, -1, -2])"
      ]
     },
     "execution_count": 12,
     "metadata": {},
     "output_type": "execute_result"
    }
   ],
   "source": [
    "u-v                       #oduzimanje vektora"
   ]
  },
  {
   "cell_type": "code",
   "execution_count": 13,
   "metadata": {},
   "outputs": [
    {
     "data": {
      "text/plain": [
       "array([ 4.8+1.j, -2.4+0.j,  4.8+1.j,  2.4-1.j])"
      ]
     },
     "execution_count": 13,
     "metadata": {},
     "output_type": "execute_result"
    }
   ],
   "source": [
    "1j*u+2.4*v             #linearna kombinacija vektora"
   ]
  },
  {
   "cell_type": "code",
   "execution_count": 14,
   "metadata": {},
   "outputs": [
    {
     "data": {
      "text/plain": [
       "array([[-4. , -2. ,  0. ],\n",
       "       [ 2. ,  4.3, -9. ]])"
      ]
     },
     "execution_count": 14,
     "metadata": {},
     "output_type": "execute_result"
    }
   ],
   "source": [
    "matrica2=np.array([[-1,0,1],[2,3.1,-1]])\n",
    "-matrica+3*matrica2      #linearna kombinacija matrica"
   ]
  },
  {
   "cell_type": "markdown",
   "metadata": {},
   "source": [
    "#### Napomena o listama i  `+`\n",
    "\n",
    "Operacija `+` nad listama vrši njihovu konkatenaciju. Jasno je da u tom slučaju `+` nije komutativna operacija."
   ]
  },
  {
   "cell_type": "code",
   "execution_count": 15,
   "metadata": {},
   "outputs": [
    {
     "data": {
      "text/plain": [
       "[1, 0, 1, -1, 2, -1, 2, 1]"
      ]
     },
     "execution_count": 15,
     "metadata": {},
     "output_type": "execute_result"
    }
   ],
   "source": [
    "[1,0,1,-1]+[2,-1,2,1]     #nadovezivanje listi"
   ]
  },
  {
   "cell_type": "code",
   "execution_count": 16,
   "metadata": {},
   "outputs": [
    {
     "data": {
      "text/plain": [
       "[2, -1, 2, 1, 1, 0, 1, -1]"
      ]
     },
     "execution_count": 16,
     "metadata": {},
     "output_type": "execute_result"
    }
   ],
   "source": [
    "[2,-1,2,1]+[1,0,1,-1]     #nadovezivanje listi nije komutativno"
   ]
  },
  {
   "cell_type": "code",
   "execution_count": 17,
   "metadata": {},
   "outputs": [
    {
     "data": {
      "text/plain": [
       "[1, 0, 1, -1, 2, -1, 2, 1, 3, 4]"
      ]
     },
     "execution_count": 17,
     "metadata": {},
     "output_type": "execute_result"
    }
   ],
   "source": [
    "[1,0,1,-1]+[2,-1,2,1,3,4]     #nadovezivanje listi"
   ]
  },
  {
   "cell_type": "code",
   "execution_count": 18,
   "metadata": {},
   "outputs": [
    {
     "data": {
      "text/plain": [
       "[1, 1, 1, 1, 2, 2, 2, 2]"
      ]
     },
     "execution_count": 18,
     "metadata": {},
     "output_type": "execute_result"
    }
   ],
   "source": [
    "4*[1]+4*[2]    #kombinovanje operacija + i * za formiranje listi"
   ]
  },
  {
   "cell_type": "code",
   "execution_count": 19,
   "metadata": {},
   "outputs": [
    {
     "data": {
      "text/plain": [
       "[1, 1, -1, -1, 1, 1, -1, -1]"
      ]
     },
     "execution_count": 19,
     "metadata": {},
     "output_type": "execute_result"
    }
   ],
   "source": [
    "2*(2*[1]+2*[-1])"
   ]
  },
  {
   "cell_type": "code",
   "execution_count": 20,
   "metadata": {},
   "outputs": [
    {
     "data": {
      "text/plain": [
       "[[1, 1, -1, -1], [1, 1, -1, -1]]"
      ]
     },
     "execution_count": 20,
     "metadata": {},
     "output_type": "execute_result"
    }
   ],
   "source": [
    "2*[2*[1]+2*[-1]]"
   ]
  },
  {
   "cell_type": "code",
   "execution_count": 21,
   "metadata": {},
   "outputs": [
    {
     "data": {
      "text/plain": [
       "[1, 1, 1, 1, 2, 2, 2, 0, 0]"
      ]
     },
     "execution_count": 21,
     "metadata": {},
     "output_type": "execute_result"
    }
   ],
   "source": [
    "4*[1]+3*[2]+2*[0]"
   ]
  },
  {
   "cell_type": "code",
   "execution_count": 22,
   "metadata": {},
   "outputs": [
    {
     "data": {
      "text/plain": [
       "array([[1, 1, 1, 1, 1, 1, 1, 1],\n",
       "       [1, 0, 0, 0, 0, 0, 0, 1],\n",
       "       [1, 0, 0, 0, 0, 0, 0, 1],\n",
       "       [1, 0, 0, 0, 0, 0, 0, 1],\n",
       "       [1, 0, 0, 0, 0, 0, 0, 1],\n",
       "       [1, 0, 0, 0, 0, 0, 0, 1],\n",
       "       [1, 0, 0, 0, 0, 0, 0, 1],\n",
       "       [1, 1, 1, 1, 1, 1, 1, 1]])"
      ]
     },
     "execution_count": 22,
     "metadata": {},
     "output_type": "execute_result"
    }
   ],
   "source": [
    "lista=[8*[1]]+6*[[1]+6*[0]+[1]]+[8*[1]]\n",
    "A=np.array(lista)\n",
    "A"
   ]
  },
  {
   "cell_type": "code",
   "execution_count": 23,
   "metadata": {},
   "outputs": [
    {
     "data": {
      "text/plain": [
       "array([[0, 1, 0, 1, 0, 1, 0, 1],\n",
       "       [1, 0, 1, 0, 1, 0, 1, 0],\n",
       "       [0, 1, 0, 1, 0, 1, 0, 1],\n",
       "       [1, 0, 1, 0, 1, 0, 1, 0],\n",
       "       [0, 1, 0, 1, 0, 1, 0, 1],\n",
       "       [1, 0, 1, 0, 1, 0, 1, 0],\n",
       "       [0, 1, 0, 1, 0, 1, 0, 1],\n",
       "       [1, 0, 1, 0, 1, 0, 1, 0]])"
      ]
     },
     "execution_count": 23,
     "metadata": {},
     "output_type": "execute_result"
    }
   ],
   "source": [
    "lista1=[4*[0,1]]\n",
    "lista2=[4*[1,0]]\n",
    "B=np.array(4*(lista1+lista2))\n",
    "B"
   ]
  },
  {
   "cell_type": "markdown",
   "metadata": {},
   "source": [
    "<div class=\"alert alert-block alert-info\">\n",
    "<b>Zaključak:</b> Za sabiranje vektora ili matrica, tj. NumPy nizova neophodno je da oni budu istih dimenzija. Konkatenacija listi vrši se nad listama proizvoljnih dužina. </div>"
   ]
  },
  {
   "cell_type": "markdown",
   "metadata": {},
   "source": [
    "### Transponovanje vektora i matrica\n",
    "\n",
    "Funkcija `transpose()` i atribut `.T` imaju efekta samo nad višedimenzionalnim nizovima. Ukoliko se transponovanje primeni na jednodimenzionalni NumPy niz ono neće proizvesti nikakav efekat."
   ]
  },
  {
   "cell_type": "code",
   "execution_count": 24,
   "metadata": {},
   "outputs": [
    {
     "name": "stdout",
     "output_type": "stream",
     "text": [
      "[ 2 -1  2  1]\n",
      "(4,)\n"
     ]
    },
    {
     "data": {
      "text/plain": [
       "array([ 2, -1,  2,  1])"
      ]
     },
     "execution_count": 24,
     "metadata": {},
     "output_type": "execute_result"
    }
   ],
   "source": [
    "print(v)\n",
    "print(v.shape)     #v je jednodimenzionalni niz \n",
    "np.transpose(v)                   "
   ]
  },
  {
   "cell_type": "code",
   "execution_count": 25,
   "metadata": {},
   "outputs": [
    {
     "name": "stdout",
     "output_type": "stream",
     "text": [
      "[ 2 -1  2  1]\n",
      "(4,)\n"
     ]
    }
   ],
   "source": [
    "print(v.T)\n",
    "print((v.T).shape)"
   ]
  },
  {
   "cell_type": "code",
   "execution_count": 26,
   "metadata": {},
   "outputs": [
    {
     "data": {
      "text/plain": [
       "array([[ 2],\n",
       "       [-1],\n",
       "       [ 2],\n",
       "       [ 1]])"
      ]
     },
     "execution_count": 26,
     "metadata": {},
     "output_type": "execute_result"
    }
   ],
   "source": [
    "np.transpose([v])                 #[v] je dvodimenzionalni niz 1x4 pod dejstvom naredbe transpose"
   ]
  },
  {
   "cell_type": "code",
   "execution_count": 27,
   "metadata": {},
   "outputs": [
    {
     "data": {
      "text/plain": [
       "array([[ 2],\n",
       "       [-1],\n",
       "       [ 2],\n",
       "       [ 1]])"
      ]
     },
     "execution_count": 27,
     "metadata": {},
     "output_type": "execute_result"
    }
   ],
   "source": [
    "(v.reshape(1,4)).T"
   ]
  },
  {
   "cell_type": "code",
   "execution_count": 28,
   "metadata": {},
   "outputs": [
    {
     "data": {
      "text/plain": [
       "array([[1.+1.j, 2.+0.j, 3.+0.j, 3.-2.j]])"
      ]
     },
     "execution_count": 28,
     "metadata": {},
     "output_type": "execute_result"
    }
   ],
   "source": [
    "kolona=np.array([[1+1j],[2],[3],[3-2j]])\n",
    "np.transpose(kolona)"
   ]
  },
  {
   "cell_type": "code",
   "execution_count": 29,
   "metadata": {},
   "outputs": [
    {
     "name": "stdout",
     "output_type": "stream",
     "text": [
      "[[1.+1.j]\n",
      " [2.+0.j]\n",
      " [3.+0.j]\n",
      " [3.-2.j]]\n"
     ]
    },
    {
     "data": {
      "text/plain": [
       "array([[1.-1.j, 2.-0.j, 3.-0.j, 3.+2.j]])"
      ]
     },
     "execution_count": 29,
     "metadata": {},
     "output_type": "execute_result"
    }
   ],
   "source": [
    "print(kolona)\n",
    "(kolona.conj()).T   #konjugovano transponovanje"
   ]
  },
  {
   "cell_type": "code",
   "execution_count": 30,
   "metadata": {},
   "outputs": [
    {
     "name": "stdout",
     "output_type": "stream",
     "text": [
      "[[1 2 3]\n",
      " [3 4 5]]\n"
     ]
    },
    {
     "data": {
      "text/plain": [
       "array([[1, 3],\n",
       "       [2, 4],\n",
       "       [3, 5]])"
      ]
     },
     "execution_count": 30,
     "metadata": {},
     "output_type": "execute_result"
    }
   ],
   "source": [
    "A = np.array([[1,2,3],[3,4,5]]) \n",
    "print(A)\n",
    "np.transpose(A)"
   ]
  },
  {
   "cell_type": "code",
   "execution_count": 31,
   "metadata": {},
   "outputs": [
    {
     "data": {
      "text/plain": [
       "array([[1, 3],\n",
       "       [2, 4],\n",
       "       [3, 5]])"
      ]
     },
     "execution_count": 31,
     "metadata": {},
     "output_type": "execute_result"
    }
   ],
   "source": [
    "A.T"
   ]
  },
  {
   "cell_type": "markdown",
   "metadata": {},
   "source": [
    "### Množenje matrica\n",
    "\n",
    "Izdvajamo najvažnije oblike operacije množenja matrica:\n",
    "1.  unutrašnji (skalarni) proizvod vektora  $\\qquad\\begin{bmatrix}a_1&a_2&\\dots&a_n\\end{bmatrix}\\begin{bmatrix}b_1\\\\b_2\\\\\\vdots\\\\b_n\\end{bmatrix}=\\displaystyle\\sum_{k=1}^na_kb_k,$\n",
    "<p>&nbsp;</p>\n",
    "1.  spoljašnji (tenzorski) proizvod vektora  $\\qquad\\begin{bmatrix}a_1\\\\a_2\\\\\\vdots\\\\a_m\\end{bmatrix}\\begin{bmatrix}b_1&b_2&\\dots&b_n\\end{bmatrix}=\n",
    "\\begin{bmatrix}a_1b_1&a_1b_2&\\dots&a_1b_n\\\\a_2b_1&a_2b_2&\\dots&a_2b_n\\\\\\vdots&\\vdots&&\\vdots\\\\a_mb_1&a_mb_2&\\dots&a_mb_n\\end{bmatrix},$ \n",
    "<p>&nbsp;</p>\n",
    "1. proizvod matrice i vektora je linearna kombinacija kolona te matrice $$\\begin{bmatrix}a_{11}&a_{12}&\\dots&a_{1n}\\\\a_{21}&a_{22}&\\dots&a_{2n}\\\\\n",
    "\\vdots&\\vdots&&\\vdots\\\\a_{m1}&a_{m2}&\\dots&a_{mn}\\end{bmatrix}\\begin{bmatrix}b_1\\\\b_2\\\\\\vdots\\\\b_n\\end{bmatrix}\n",
    "=b_1\\begin{bmatrix}a_{11}\\\\a_{21}\\\\\\vdots\\\\a_{m1}\\end{bmatrix}+b_2\\begin{bmatrix}a_{12}\\\\a_{22}\\\\\\vdots\\\\a_{m2}\\end{bmatrix}\n",
    "+\\dots+b_n\\begin{bmatrix}a_{1n}\\\\a_{2n}\\\\\\vdots\\\\a_{mn}\\end{bmatrix}$$\n",
    "<p>&nbsp;</p>\n",
    "$$=\n",
    "\\begin{bmatrix}b_1a_{11}+b_2a_{12}+\\dots+b_na_{1n}\\\\b_1a_{21}+b_2a_{22}+\\dots+b_na_{2n}\\\\\n",
    "\\vdots\\\\b_1a_{m1}+b_2a_{m2}+\\dots+b_na_{mn}\\end{bmatrix},$$\n",
    "<p>&nbsp;</p>\n",
    "1.  proizvod dve matrice  $\\qquad\\begin{bmatrix}a_{11}&a_{12}&\\dots&a_{1n}\\\\a_{21}&a_{22}&\\dots&a_{2n}\\\\\n",
    "\\vdots&\\vdots&&\\vdots\\\\a_{m1}&a_{m2}&\\dots&a_{mn}\\end{bmatrix}\n",
    "\\begin{bmatrix}b_{11}&b_{12}&\\dots&b_{1p}\\\\b_{21}&b_{22}&\\dots&b_{2p}\\\\\n",
    "\\vdots&\\vdots&&\\vdots\\\\b_{n1}&b_{n2}&\\dots&b_{np}\\end{bmatrix}\n",
    "=\\begin{bmatrix}c_{11}&c_{12}&\\dots&c_{1p}\\\\c_{21}&c_{22}&\\dots&c_{2p}\\\\\n",
    "\\vdots&\\vdots&&\\vdots\\\\c_{m1}&c_{m2}&\\dots&c_{mp}\\end{bmatrix}$\n",
    "<p>&nbsp;</p>\n",
    "$$\\mbox{gde su }\\qquad c_{ij}=\\begin{bmatrix}a_{i1}&a_{i2}&\\dots&a_{in}\\end{bmatrix}\\begin{bmatrix}b_{1j}\\\\b_{2j}\\\\\\vdots\\\\b_{nj}\\end{bmatrix},\n",
    "\\quad i=1,2,\\dots,m,\\quad j=1,2,\\dots,n.$$\n",
    "\n",
    "Funkcije kojima se navedene operacije množenja izračunavaju su `dot`, `outer` i `@`. Prve dve operacije su pogodne za primenu na jednodimenzionalnim NumPy nizovima, mada imaju svoje značenje i u dvodimenzionalnom slučaju. Iako `dot` operacija može da se primenjuje i u svojstvu operacije `@`, preporuka je da se množenje dve matrice obavlja operacijom `@`.\n",
    "Prilikom upotrebe implementiranih operacija za rad sa NumPy nizovima kojima se navedeni proizvodi izračunavaju potrebno je voditi računa o dimenzijama nizova činilaca. Dejstvo samih funkcija `dot`, `outer` i `@` upoznaćemo kroz primere."
   ]
  },
  {
   "cell_type": "code",
   "execution_count": 32,
   "metadata": {},
   "outputs": [
    {
     "name": "stdout",
     "output_type": "stream",
     "text": [
      "v= [ 2 -1  2  1]  ,  u= [ 1  0  1 -1]\n",
      "(4,)\n",
      "(4,)\n"
     ]
    },
    {
     "data": {
      "text/plain": [
       "3"
      ]
     },
     "execution_count": 32,
     "metadata": {},
     "output_type": "execute_result"
    }
   ],
   "source": [
    "print(\"v=\",v,\" , \",\"u=\",u)\n",
    "print(v.shape)\n",
    "print(u.shape)\n",
    "np.dot(v,u)   #unutrašnji proizvod jednodimenzionalnih vektora"
   ]
  },
  {
   "cell_type": "code",
   "execution_count": 33,
   "metadata": {},
   "outputs": [
    {
     "data": {
      "text/plain": [
       "array([[3]])"
      ]
     },
     "execution_count": 33,
     "metadata": {},
     "output_type": "execute_result"
    }
   ],
   "source": [
    "np.dot(v.reshape(1,4),u.reshape(4,1)) #unutrašnji proizvod vektora-vrste i vektora-kolone"
   ]
  },
  {
   "cell_type": "code",
   "execution_count": 34,
   "metadata": {},
   "outputs": [
    {
     "data": {
      "text/plain": [
       "array([[3]])"
      ]
     },
     "execution_count": 34,
     "metadata": {},
     "output_type": "execute_result"
    }
   ],
   "source": [
    "v.reshape(1,4)@u.reshape(4,1) #unutrašnji proizvod vektora-vrste i vektora-kolone"
   ]
  },
  {
   "cell_type": "code",
   "execution_count": 35,
   "metadata": {},
   "outputs": [
    {
     "data": {
      "text/plain": [
       "3"
      ]
     },
     "execution_count": 35,
     "metadata": {},
     "output_type": "execute_result"
    }
   ],
   "source": [
    "v@u  #operacija proizvoda matrica deluje kao unutrašnji proizvod na jednodimenzionalne vektore istih dužina"
   ]
  },
  {
   "cell_type": "markdown",
   "metadata": {},
   "source": [
    "Zaključujemo da za izračunavanje unutrašnjeg proizvoda, tj. rezultata koji će dati baš broj, a ne niz, treba voditi računa o broju dimenzija činilaca. Osim toga, funkcije `dot` i `@` imaju ekvivalentno dejstvo u analiziranim situacijama."
   ]
  },
  {
   "cell_type": "code",
   "execution_count": 36,
   "metadata": {},
   "outputs": [
    {
     "name": "stdout",
     "output_type": "stream",
     "text": [
      "(6,)\n"
     ]
    },
    {
     "data": {
      "text/plain": [
       "array([[ 2,  0,  2,  0, -2,  2],\n",
       "       [-1,  0, -1,  0,  1, -1],\n",
       "       [ 2,  0,  2,  0, -2,  2],\n",
       "       [ 1,  0,  1,  0, -1,  1]])"
      ]
     },
     "execution_count": 36,
     "metadata": {},
     "output_type": "execute_result"
    }
   ],
   "source": [
    "w=np.array([1,0,1,0,-1,1])\n",
    "print(w.shape)\n",
    "np.outer(v,w)  #spoljašnji proizvod jednodimenzionalnih vektora"
   ]
  },
  {
   "cell_type": "code",
   "execution_count": 37,
   "metadata": {},
   "outputs": [
    {
     "data": {
      "text/plain": [
       "array([[ 2, -1,  2,  1],\n",
       "       [ 0,  0,  0,  0],\n",
       "       [ 2, -1,  2,  1],\n",
       "       [ 0,  0,  0,  0],\n",
       "       [-2,  1, -2, -1],\n",
       "       [ 2, -1,  2,  1]])"
      ]
     },
     "execution_count": 37,
     "metadata": {},
     "output_type": "execute_result"
    }
   ],
   "source": [
    "np.outer(w,v)  #spoljašnji proizvod jednodimenzionalnih vektora"
   ]
  },
  {
   "cell_type": "code",
   "execution_count": 38,
   "metadata": {},
   "outputs": [
    {
     "ename": "ValueError",
     "evalue": "matmul: Input operand 1 has a mismatch in its core dimension 0, with gufunc signature (n?,k),(k,m?)->(n?,m?) (size 6 is different from 4)",
     "output_type": "error",
     "traceback": [
      "\u001b[1;31m---------------------------------------------------------------------------\u001b[0m",
      "\u001b[1;31mValueError\u001b[0m                                Traceback (most recent call last)",
      "\u001b[1;32m<ipython-input-38-b51a58891b65>\u001b[0m in \u001b[0;36m<module>\u001b[1;34m\u001b[0m\n\u001b[1;32m----> 1\u001b[1;33m \u001b[0mv\u001b[0m\u001b[1;33m@\u001b[0m\u001b[0mw\u001b[0m  \u001b[1;31m# operacija množenja matrica ovde ne može da zameni spoljašnji proizvod vektora\u001b[0m\u001b[1;33m\u001b[0m\u001b[1;33m\u001b[0m\u001b[0m\n\u001b[0m\u001b[0;32m      2\u001b[0m \u001b[1;31m#proizvod elemenata dimenzija (4,) i (6,)\u001b[0m\u001b[1;33m\u001b[0m\u001b[1;33m\u001b[0m\u001b[1;33m\u001b[0m\u001b[0m\n",
      "\u001b[1;31mValueError\u001b[0m: matmul: Input operand 1 has a mismatch in its core dimension 0, with gufunc signature (n?,k),(k,m?)->(n?,m?) (size 6 is different from 4)"
     ]
    }
   ],
   "source": [
    "v@w  # operacija množenja matrica ovde ne može da zameni spoljašnji proizvod vektora\n",
    "#proizvod elemenata dimenzija (4,) i (6,)"
   ]
  },
  {
   "cell_type": "code",
   "execution_count": 39,
   "metadata": {},
   "outputs": [
    {
     "ename": "ValueError",
     "evalue": "matmul: Input operand 1 has a mismatch in its core dimension 0, with gufunc signature (n?,k),(k,m?)->(n?,m?) (size 6 is different from 1)",
     "output_type": "error",
     "traceback": [
      "\u001b[1;31m---------------------------------------------------------------------------\u001b[0m",
      "\u001b[1;31mValueError\u001b[0m                                Traceback (most recent call last)",
      "\u001b[1;32m<ipython-input-39-330bc92225d9>\u001b[0m in \u001b[0;36m<module>\u001b[1;34m\u001b[0m\n\u001b[1;32m----> 1\u001b[1;33m \u001b[0mv\u001b[0m\u001b[1;33m.\u001b[0m\u001b[0mreshape\u001b[0m\u001b[1;33m(\u001b[0m\u001b[1;36m4\u001b[0m\u001b[1;33m,\u001b[0m\u001b[1;36m1\u001b[0m\u001b[1;33m)\u001b[0m\u001b[1;33m@\u001b[0m\u001b[0mw\u001b[0m  \u001b[1;31m#proizvod elemenata dimenzija (4,1) i (6,)\u001b[0m\u001b[1;33m\u001b[0m\u001b[1;33m\u001b[0m\u001b[0m\n\u001b[0m",
      "\u001b[1;31mValueError\u001b[0m: matmul: Input operand 1 has a mismatch in its core dimension 0, with gufunc signature (n?,k),(k,m?)->(n?,m?) (size 6 is different from 1)"
     ]
    }
   ],
   "source": [
    "v.reshape(4,1)@w  #proizvod elemenata dimenzija (4,1) i (6,)"
   ]
  },
  {
   "cell_type": "code",
   "execution_count": 40,
   "metadata": {},
   "outputs": [
    {
     "data": {
      "text/plain": [
       "array([[ 2,  0,  2,  0, -2,  2],\n",
       "       [-1,  0, -1,  0,  1, -1],\n",
       "       [ 2,  0,  2,  0, -2,  2],\n",
       "       [ 1,  0,  1,  0, -1,  1]])"
      ]
     },
     "execution_count": 40,
     "metadata": {},
     "output_type": "execute_result"
    }
   ],
   "source": [
    "v.reshape(4,1)@w.reshape(1,6)  #spoljašnji proizvod operacijom @"
   ]
  },
  {
   "cell_type": "markdown",
   "metadata": {},
   "source": [
    "Proverićemo sada funkcionisanje operacije matrica $\\cdot$ jednodimenzionalni vektor kroz primere."
   ]
  },
  {
   "cell_type": "code",
   "execution_count": 41,
   "metadata": {},
   "outputs": [
    {
     "name": "stdout",
     "output_type": "stream",
     "text": [
      "(3, 4)\n",
      "(4,)\n",
      "(3,)\n"
     ]
    }
   ],
   "source": [
    "A=np.array([[1,2,-1,3],[0,-2,1,-1],[1,1,1,1]])\n",
    "print(A.shape)\n",
    "print(v.shape)\n",
    "u=np.dot(A,v)           #dot ima ulogu i množenja matrica     \n",
    "print(u.shape)"
   ]
  },
  {
   "cell_type": "code",
   "execution_count": 42,
   "metadata": {},
   "outputs": [
    {
     "data": {
      "text/plain": [
       "array([1, 3, 4])"
      ]
     },
     "execution_count": 42,
     "metadata": {},
     "output_type": "execute_result"
    }
   ],
   "source": [
    "A@v"
   ]
  },
  {
   "cell_type": "code",
   "execution_count": 43,
   "metadata": {},
   "outputs": [
    {
     "data": {
      "text/plain": [
       "array([5, 0, 6, 4])"
      ]
     },
     "execution_count": 43,
     "metadata": {},
     "output_type": "execute_result"
    }
   ],
   "source": [
    "u@A"
   ]
  },
  {
   "cell_type": "code",
   "execution_count": 44,
   "metadata": {},
   "outputs": [
    {
     "data": {
      "text/plain": [
       "array([5, 0, 6, 4])"
      ]
     },
     "execution_count": 44,
     "metadata": {},
     "output_type": "execute_result"
    }
   ],
   "source": [
    "np.dot(u,A)"
   ]
  },
  {
   "cell_type": "markdown",
   "metadata": {},
   "source": [
    "Množenje dvodimenzionalnih nizova, tj. nizova koji predstavljaju matrice, vektore-vrste, vektore-kolone, odvija se na uobičajen način prema matematičkim definicijama. "
   ]
  },
  {
   "cell_type": "code",
   "execution_count": 45,
   "metadata": {},
   "outputs": [
    {
     "data": {
      "text/plain": [
       "array([[ 7, 10, 13],\n",
       "       [15, 22, 29]])"
      ]
     },
     "execution_count": 45,
     "metadata": {},
     "output_type": "execute_result"
    }
   ],
   "source": [
    "A = np.array([[1,2,3],[3,4,5]]) \n",
    "B=np.array([[1,2],[3,4]])\n",
    "B@A"
   ]
  },
  {
   "cell_type": "code",
   "execution_count": 46,
   "metadata": {},
   "outputs": [
    {
     "data": {
      "text/plain": [
       "array([[ 7, 10, 13],\n",
       "       [15, 22, 29]])"
      ]
     },
     "execution_count": 46,
     "metadata": {},
     "output_type": "execute_result"
    }
   ],
   "source": [
    "np.dot(B,A)"
   ]
  },
  {
   "cell_type": "code",
   "execution_count": 47,
   "metadata": {},
   "outputs": [
    {
     "data": {
      "text/plain": [
       "array([[2],\n",
       "       [2]])"
      ]
     },
     "execution_count": 47,
     "metadata": {},
     "output_type": "execute_result"
    }
   ],
   "source": [
    "kolona=(np.arange(-1,2)).reshape(3,1)\n",
    "A@kolona"
   ]
  },
  {
   "cell_type": "code",
   "execution_count": 48,
   "metadata": {},
   "outputs": [
    {
     "data": {
      "text/plain": [
       "array([[5, 6, 7]])"
      ]
     },
     "execution_count": 48,
     "metadata": {},
     "output_type": "execute_result"
    }
   ],
   "source": [
    "vrsta=(np.array([-1,2])).reshape(1,2)\n",
    "vrsta@A"
   ]
  },
  {
   "cell_type": "markdown",
   "metadata": {},
   "source": [
    "Proverićemo i ponašanje funkcije `outer` izvan uvedene matematičke definicije. Naime, ova operacija se može primeniti i na dve matrice proizvoljnih dimenzija. Tom prilikom dolazi do prevođenja matrica u vektore nad kojima se zatim sprovodi operacija spoljašnjeg proizvoda."
   ]
  },
  {
   "cell_type": "code",
   "execution_count": 49,
   "metadata": {},
   "outputs": [
    {
     "name": "stdout",
     "output_type": "stream",
     "text": [
      "A= [[1 2 3]\n",
      " [3 4 5]]\n",
      "B= [[1 2]\n",
      " [3 4]]\n"
     ]
    },
    {
     "data": {
      "text/plain": [
       "array([[ 1,  2,  3,  3,  4,  5],\n",
       "       [ 2,  4,  6,  6,  8, 10],\n",
       "       [ 3,  6,  9,  9, 12, 15],\n",
       "       [ 4,  8, 12, 12, 16, 20]])"
      ]
     },
     "execution_count": 49,
     "metadata": {},
     "output_type": "execute_result"
    }
   ],
   "source": [
    "print(\"A=\",A)\n",
    "print(\"B=\",B)\n",
    "np.outer(B,A)"
   ]
  },
  {
   "cell_type": "code",
   "execution_count": 50,
   "metadata": {},
   "outputs": [
    {
     "data": {
      "text/plain": [
       "array([[ 1,  2,  3,  3,  4,  5],\n",
       "       [ 2,  4,  6,  6,  8, 10],\n",
       "       [ 3,  6,  9,  9, 12, 15],\n",
       "       [ 4,  8, 12, 12, 16, 20]])"
      ]
     },
     "execution_count": 50,
     "metadata": {},
     "output_type": "execute_result"
    }
   ],
   "source": [
    "np.outer(B.reshape(4,),A.reshape(6,))"
   ]
  },
  {
   "cell_type": "code",
   "execution_count": 51,
   "metadata": {},
   "outputs": [
    {
     "data": {
      "text/plain": [
       "array([[ 1,  2,  3,  4],\n",
       "       [ 2,  4,  6,  8],\n",
       "       [ 3,  6,  9, 12],\n",
       "       [ 3,  6,  9, 12],\n",
       "       [ 4,  8, 12, 16],\n",
       "       [ 5, 10, 15, 20]])"
      ]
     },
     "execution_count": 51,
     "metadata": {},
     "output_type": "execute_result"
    }
   ],
   "source": [
    "np.outer(A,B)"
   ]
  },
  {
   "cell_type": "code",
   "execution_count": 52,
   "metadata": {},
   "outputs": [
    {
     "data": {
      "text/plain": [
       "array([[ 1,  2,  3,  4],\n",
       "       [ 2,  4,  6,  8],\n",
       "       [ 3,  6,  9, 12],\n",
       "       [ 3,  6,  9, 12],\n",
       "       [ 4,  8, 12, 16],\n",
       "       [ 5, 10, 15, 20]])"
      ]
     },
     "execution_count": 52,
     "metadata": {},
     "output_type": "execute_result"
    }
   ],
   "source": [
    "np.outer(A.reshape(6,),B.reshape(4,))"
   ]
  },
  {
   "cell_type": "code",
   "execution_count": 53,
   "metadata": {},
   "outputs": [
    {
     "data": {
      "text/plain": [
       "array([[-1, -2, -3, -3, -4, -5],\n",
       "       [ 0,  0,  0,  0,  0,  0],\n",
       "       [ 1,  2,  3,  3,  4,  5]])"
      ]
     },
     "execution_count": 53,
     "metadata": {},
     "output_type": "execute_result"
    }
   ],
   "source": [
    "np.outer(kolona,A)"
   ]
  },
  {
   "cell_type": "code",
   "execution_count": 54,
   "metadata": {},
   "outputs": [
    {
     "data": {
      "text/plain": [
       "array([[-1, -2, -3, -3, -4, -5],\n",
       "       [ 2,  4,  6,  6,  8, 10]])"
      ]
     },
     "execution_count": 54,
     "metadata": {},
     "output_type": "execute_result"
    }
   ],
   "source": [
    "np.outer(vrsta,A)"
   ]
  },
  {
   "cell_type": "markdown",
   "metadata": {},
   "source": [
    "Na osnovu sprovedenih eksperimenata zaključujemo da za uspešnu realizaciju operacija `dot` i `@` mora da se vodi računa o pravilu unutrašnjeg indeksa. Efekti ove dve NumPy funkcije su ekvivalentni. Same operacije se sprovode prema zakonu:\n",
    "\\begin{align}\n",
    "&u_{(m,)}v_{(m,)}=skalar       &&A_{(m,n)}B_{(n,p)}=C_{(m,p)},\\\\\n",
    "&u_{(m,)}A_{(m,n)}=v_{(n,)}    &&A_{(m,n)}v_{(n,)}=u_{(m,)}\n",
    "\\end{align}\n",
    "\n",
    "Operacija `outer` linearizuje svoje argumente, tj. tretira ih kao jednodimenzionalne nizove i tada sprovede spoljašnji proizvod. "
   ]
  },
  {
   "cell_type": "markdown",
   "metadata": {},
   "source": [
    "### Inverzna matrica\n",
    "\n",
    "Izračunavanje inverzne matrice kvadratne matrice, kao i njene determinante su funkcije podmodula [Linalg](https://numpy.org/doc/stable/reference/routines.linalg.html). Njihovu primenu prikazaćemo na jednostavnom primeru matrice \n",
    "$B=\\begin{bmatrix}1&2\\\\3&4\\end{bmatrix}$ čije su $\\quad\\det(B)=4-6=-2\\quad$ i $\\quad B^{-1}=-\\dfrac12\\begin{bmatrix}4&-2\\\\-3&1\\end{bmatrix}\n",
    "=\\begin{bmatrix}-2&1\\\\3/2&-1/2\\end{bmatrix}$"
   ]
  },
  {
   "cell_type": "code",
   "execution_count": 55,
   "metadata": {},
   "outputs": [
    {
     "name": "stdout",
     "output_type": "stream",
     "text": [
      "B= [[1 2]\n",
      " [3 4]]\n",
      "C= [[-2.   1. ]\n",
      " [ 1.5 -0.5]]\n",
      "BC= [[1.0000000e+00 0.0000000e+00]\n",
      " [8.8817842e-16 1.0000000e+00]]\n",
      "BC= [[1. 0.]\n",
      " [0. 1.]]\n",
      "det(B)= -2.0000000000000004\n",
      "det(B)= -2.0\n"
     ]
    }
   ],
   "source": [
    "C = np.linalg.inv(B) \n",
    "print(\"B=\",B)\n",
    "print('C=',C)\n",
    "print('BC=',B@C)\n",
    "print('BC=',np.around(B@C,3)) #ispis rezultata zaokruzen na 3 decimalna mesta\n",
    "print(\"det(B)=\",np.linalg.det(B))\n",
    "print(\"det(B)=\",np.around(np.linalg.det(B),3))"
   ]
  },
  {
   "cell_type": "markdown",
   "metadata": {},
   "source": [
    "### Specijalne operacije nad NumPy nizovima\n",
    "\n",
    "Osim standardnih matričnih operacija, NumPy omogućava i član-po-član operacije. To znači da se skalarne operacije i funkcije mogu primenjivati jednim pozivom funkcije na sve elemente nekog NumPy niza."
   ]
  },
  {
   "cell_type": "code",
   "execution_count": 56,
   "metadata": {},
   "outputs": [
    {
     "name": "stdout",
     "output_type": "stream",
     "text": [
      "u= [ 1  0  1 -1]\n",
      "v= [ 2 -1  2  1]\n"
     ]
    },
    {
     "data": {
      "text/plain": [
       "array([ 2,  0,  2, -1])"
      ]
     },
     "execution_count": 56,
     "metadata": {},
     "output_type": "execute_result"
    }
   ],
   "source": [
    "u=np.array([1,0,1,-1])\n",
    "print(\"u=\",u)\n",
    "print(\"v=\",v)\n",
    "u*v        #član-po-član množenje elemenata, tj. Adamarov proizvod matrica"
   ]
  },
  {
   "cell_type": "code",
   "execution_count": 57,
   "metadata": {},
   "outputs": [
    {
     "data": {
      "text/plain": [
       "array([ 0.5, -0. ,  0.5, -1. ])"
      ]
     },
     "execution_count": 57,
     "metadata": {},
     "output_type": "execute_result"
    }
   ],
   "source": [
    "u/v        #član-po-član deljenje elemenata"
   ]
  },
  {
   "cell_type": "code",
   "execution_count": 58,
   "metadata": {},
   "outputs": [
    {
     "data": {
      "text/plain": [
       "array([5, 4, 5, 3])"
      ]
     },
     "execution_count": 58,
     "metadata": {},
     "output_type": "execute_result"
    }
   ],
   "source": [
    "u+4       #dodavanje iste vrednosti svim elementima niza"
   ]
  },
  {
   "cell_type": "code",
   "execution_count": 59,
   "metadata": {},
   "outputs": [
    {
     "data": {
      "text/plain": [
       "array([1, 0, 1, 1], dtype=int32)"
      ]
     },
     "execution_count": 59,
     "metadata": {},
     "output_type": "execute_result"
    }
   ],
   "source": [
    "u**2     #kvadriranje svih elemenata niza"
   ]
  },
  {
   "cell_type": "markdown",
   "metadata": {},
   "source": [
    "**Primer 1.** Izračunaćemo vrednosti funkcije $f(x)=\\dfrac{x^2}{2+x}+3\\sin x$ za niz ulaznih argumenata $x\\in\\{-1,0,1,3.5\\}.$ U tome će nam pomoći član-po-član definisane operacije i funkcije nad NumPy nizovima."
   ]
  },
  {
   "cell_type": "code",
   "execution_count": 60,
   "metadata": {},
   "outputs": [
    {
     "name": "stdout",
     "output_type": "stream",
     "text": [
      "[-1.   0.   1.   3.5]\n",
      "[-1.52441295  0.          2.85774629  1.17492304]\n"
     ]
    }
   ],
   "source": [
    "xk=np.array([-1,0,1,3.5])\n",
    "fk=(xk**2)/(2+xk)+3*np.sin(xk)\n",
    "print(xk)\n",
    "print(fk)"
   ]
  },
  {
   "cell_type": "markdown",
   "metadata": {},
   "source": [
    "Pojedinačne rezultate vrednosti funkcije možemo da proverimo izračunavanjem."
   ]
  },
  {
   "cell_type": "code",
   "execution_count": 61,
   "metadata": {},
   "outputs": [
    {
     "data": {
      "text/plain": [
       "-1.5244129544236893"
      ]
     },
     "execution_count": 61,
     "metadata": {},
     "output_type": "execute_result"
    }
   ],
   "source": [
    "x=-1\n",
    "(x**2)/(2+x)+3*np.sin(x)"
   ]
  },
  {
   "cell_type": "markdown",
   "metadata": {},
   "source": [
    "Opisane član-po-član operacije i funkcije koje smo koristili nad vektorima mogu se upotrebiti i nad matricama."
   ]
  },
  {
   "cell_type": "code",
   "execution_count": 62,
   "metadata": {},
   "outputs": [
    {
     "name": "stdout",
     "output_type": "stream",
     "text": [
      "A*B= [[ 1 -2  6]\n",
      " [ 3 -4  1]\n",
      " [ 4  0  2]]\n",
      "A/B= [[ 1.   -2.    1.5 ]\n",
      " [ 3.   -1.    1.  ]\n",
      " [ 0.25  0.    0.5 ]]\n"
     ]
    }
   ],
   "source": [
    "A=np.array([[1,2,3],[3,2,1],[1,0,1]])\n",
    "B=np.array([[1,-1,2],[1,-2,1],[4,1,2]])\n",
    "print(\"A*B=\",A*B)     #član-po-član množenje elemenata - Adamarov proizvod dve matrice\n",
    "print(\"A/B=\",A/B)     #član-po-član deljenje elemenata"
   ]
  },
  {
   "cell_type": "code",
   "execution_count": 63,
   "metadata": {},
   "outputs": [
    {
     "name": "stdout",
     "output_type": "stream",
     "text": [
      "[[1 2 3]\n",
      " [4 5 6]]\n"
     ]
    },
    {
     "data": {
      "text/plain": [
       "array([[3, 4, 5],\n",
       "       [6, 7, 8]])"
      ]
     },
     "execution_count": 63,
     "metadata": {},
     "output_type": "execute_result"
    }
   ],
   "source": [
    "matrica=np.array([[1,2,3],[4,5,6]])\n",
    "print(matrica)\n",
    "matrica+2   #dodavanje broja svim elementima matrice"
   ]
  },
  {
   "cell_type": "markdown",
   "metadata": {},
   "source": [
    "Slično, nad matricama mogu se sprovoditi vektor-po-vektor operacije. U svim ćelijama u nastavku desni operand može da bude NumPy niz. Lista je postavljena samo zbog kraćeg kucanja."
   ]
  },
  {
   "cell_type": "code",
   "execution_count": 64,
   "metadata": {
    "scrolled": true
   },
   "outputs": [
    {
     "data": {
      "text/plain": [
       "array([[0, 1, 5],\n",
       "       [3, 4, 8]])"
      ]
     },
     "execution_count": 64,
     "metadata": {},
     "output_type": "execute_result"
    }
   ],
   "source": [
    "matrica+[-1,-1,2]  #zbog poklapanja dimenzija vršiće se dodavanje elemenata desne liste svakoj vrsti matrice"
   ]
  },
  {
   "cell_type": "code",
   "execution_count": 65,
   "metadata": {
    "scrolled": true
   },
   "outputs": [
    {
     "data": {
      "text/plain": [
       "array([[0, 1, 5],\n",
       "       [3, 4, 8]])"
      ]
     },
     "execution_count": 65,
     "metadata": {},
     "output_type": "execute_result"
    }
   ],
   "source": [
    "[-1,-1,2]+matrica  #zbog poklapanja dimenzija vršiće se dodavanje elemenata leve liste svakoj vrsti matrice"
   ]
  },
  {
   "cell_type": "code",
   "execution_count": 66,
   "metadata": {
    "scrolled": true
   },
   "outputs": [
    {
     "data": {
      "text/plain": [
       "array([[0, 1, 5],\n",
       "       [3, 4, 8]])"
      ]
     },
     "execution_count": 66,
     "metadata": {},
     "output_type": "execute_result"
    }
   ],
   "source": [
    "matrica+np.array([-1,-1,2])"
   ]
  },
  {
   "cell_type": "code",
   "execution_count": 67,
   "metadata": {
    "scrolled": true
   },
   "outputs": [
    {
     "data": {
      "text/plain": [
       "array([[3, 4, 5],\n",
       "       [2, 3, 4]])"
      ]
     },
     "execution_count": 67,
     "metadata": {},
     "output_type": "execute_result"
    }
   ],
   "source": [
    "matrica+[[2],[-2]] #zbog poklapanja dimenzija vršiće se dodavanje elemenata desne liste svakoj koloni matrice"
   ]
  },
  {
   "cell_type": "code",
   "execution_count": 68,
   "metadata": {},
   "outputs": [
    {
     "data": {
      "text/plain": [
       "array([[3, 4, 5],\n",
       "       [2, 3, 4]])"
      ]
     },
     "execution_count": 68,
     "metadata": {},
     "output_type": "execute_result"
    }
   ],
   "source": [
    "matrica+np.array([[2],[-2]])"
   ]
  },
  {
   "cell_type": "code",
   "execution_count": 69,
   "metadata": {},
   "outputs": [
    {
     "data": {
      "text/plain": [
       "array([[ -1. ,  -4. ,   6.9],\n",
       "       [ -4. , -10. ,  13.8]])"
      ]
     },
     "execution_count": 69,
     "metadata": {},
     "output_type": "execute_result"
    }
   ],
   "source": [
    "matrica*[-1,-2,2.3] #pokomponentno množenje elemenata liste i elemenata svake vrste matrice"
   ]
  },
  {
   "cell_type": "code",
   "execution_count": 70,
   "metadata": {},
   "outputs": [
    {
     "data": {
      "text/plain": [
       "array([[  2,   4,   6],\n",
       "       [ -8, -10, -12]])"
      ]
     },
     "execution_count": 70,
     "metadata": {},
     "output_type": "execute_result"
    }
   ],
   "source": [
    "matrica*[[2],[-2]] #pokomponentno množenje elemenata liste i elemenata svake kolone matrice"
   ]
  },
  {
   "cell_type": "markdown",
   "metadata": {},
   "source": [
    "Osim toga, ove deo-po-deo operacije mogu da se kombinuju nad vektorima na specijalan način."
   ]
  },
  {
   "cell_type": "code",
   "execution_count": 71,
   "metadata": {},
   "outputs": [
    {
     "data": {
      "text/plain": [
       "array([[1, 2, 3],\n",
       "       [2, 3, 4],\n",
       "       [0, 1, 2]])"
      ]
     },
     "execution_count": 71,
     "metadata": {},
     "output_type": "execute_result"
    }
   ],
   "source": [
    "kolona=np.array([[0],[1],[-1]])\n",
    "vrsta=np.array([1,2,3])\n",
    "kolona+vrsta"
   ]
  },
  {
   "cell_type": "code",
   "execution_count": 72,
   "metadata": {},
   "outputs": [
    {
     "data": {
      "text/plain": [
       "array([[1, 2, 3],\n",
       "       [2, 3, 4],\n",
       "       [0, 1, 2]])"
      ]
     },
     "execution_count": 72,
     "metadata": {},
     "output_type": "execute_result"
    }
   ],
   "source": [
    "vrsta+kolona"
   ]
  },
  {
   "cell_type": "code",
   "execution_count": 73,
   "metadata": {},
   "outputs": [
    {
     "data": {
      "text/plain": [
       "array([[ 0,  0,  0],\n",
       "       [ 1,  2,  3],\n",
       "       [-1, -2, -3]])"
      ]
     },
     "execution_count": 73,
     "metadata": {},
     "output_type": "execute_result"
    }
   ],
   "source": [
    "kolona*vrsta"
   ]
  },
  {
   "cell_type": "code",
   "execution_count": 74,
   "metadata": {},
   "outputs": [
    {
     "data": {
      "text/plain": [
       "array([[ 0,  0,  0],\n",
       "       [ 1,  2,  3],\n",
       "       [-1, -2, -3]])"
      ]
     },
     "execution_count": 74,
     "metadata": {},
     "output_type": "execute_result"
    }
   ],
   "source": [
    "vrsta*kolona"
   ]
  },
  {
   "cell_type": "code",
   "execution_count": 75,
   "metadata": {},
   "outputs": [
    {
     "data": {
      "text/plain": [
       "array([[ 0,  0,  0],\n",
       "       [ 1,  1,  1],\n",
       "       [-1,  1, -1]], dtype=int32)"
      ]
     },
     "execution_count": 75,
     "metadata": {},
     "output_type": "execute_result"
    }
   ],
   "source": [
    "kolona**vrsta"
   ]
  },
  {
   "cell_type": "code",
   "execution_count": 76,
   "metadata": {},
   "outputs": [
    {
     "data": {
      "text/plain": [
       "array([[1.        , 1.        , 1.        ],\n",
       "       [1.        , 2.        , 3.        ],\n",
       "       [1.        , 0.5       , 0.33333333]])"
      ]
     },
     "execution_count": 76,
     "metadata": {},
     "output_type": "execute_result"
    }
   ],
   "source": [
    "vrsta.astype(np.float64)**kolona"
   ]
  },
  {
   "cell_type": "markdown",
   "metadata": {},
   "source": [
    "Obrađeni primeri u ovoj i prethodnoj radnoj svesci ukazuju da vektori-vrste dvodimenzionalnih nizova imaju određenu prednost u radu, dok se za rad sa vektorima-kolonama povremeno mora to posebno da naznači.\n",
    "\n",
    "Još neki primeri pokomponentne primene osnovnih funkcija dati su u nastavku. Primena navedenih funkcija je nezavisna od toga da li je u primeru naveden jednodimenzionalni ili dvodimenzionalni niz kao argument. Svako od predstavljenih izračunavanja može da bude deo nekog složenijeg izraza. Bitno je samo da bude ispoštovano pravilo jednakih dimenzija tamo gde je to potrebno: sabiranje, vektor po vektor sabiranje, pokomponentno ili vektor po vektor množenje i deljenje, itd."
   ]
  },
  {
   "cell_type": "code",
   "execution_count": 77,
   "metadata": {},
   "outputs": [
    {
     "name": "stdout",
     "output_type": "stream",
     "text": [
      "[0 1 2 3 4 5]\n"
     ]
    }
   ],
   "source": [
    "vektor=np.arange(6)\n",
    "print(vektor)"
   ]
  },
  {
   "cell_type": "code",
   "execution_count": 78,
   "metadata": {},
   "outputs": [
    {
     "data": {
      "text/plain": [
       "array([0, 0, 1, 1, 2, 2], dtype=int32)"
      ]
     },
     "execution_count": 78,
     "metadata": {},
     "output_type": "execute_result"
    }
   ],
   "source": [
    "vektor//2"
   ]
  },
  {
   "cell_type": "code",
   "execution_count": 79,
   "metadata": {},
   "outputs": [
    {
     "data": {
      "text/plain": [
       "array([0, 1, 2, 0, 1, 2], dtype=int32)"
      ]
     },
     "execution_count": 79,
     "metadata": {},
     "output_type": "execute_result"
    }
   ],
   "source": [
    "vektor%3"
   ]
  },
  {
   "cell_type": "code",
   "execution_count": 80,
   "metadata": {},
   "outputs": [
    {
     "data": {
      "text/plain": [
       "array([ 0,  1,  4,  9, 16, 25], dtype=int32)"
      ]
     },
     "execution_count": 80,
     "metadata": {},
     "output_type": "execute_result"
    }
   ],
   "source": [
    "vektor**2"
   ]
  },
  {
   "cell_type": "code",
   "execution_count": 81,
   "metadata": {},
   "outputs": [
    {
     "data": {
      "text/plain": [
       "array([ 1,  2,  4,  8, 16, 32], dtype=int32)"
      ]
     },
     "execution_count": 81,
     "metadata": {},
     "output_type": "execute_result"
    }
   ],
   "source": [
    "2**vektor"
   ]
  },
  {
   "cell_type": "code",
   "execution_count": 82,
   "metadata": {},
   "outputs": [
    {
     "data": {
      "text/plain": [
       "array([[ 1,  4,  9],\n",
       "       [16, 25, 36]], dtype=int32)"
      ]
     },
     "execution_count": 82,
     "metadata": {},
     "output_type": "execute_result"
    }
   ],
   "source": [
    "matrica**2"
   ]
  },
  {
   "cell_type": "code",
   "execution_count": 83,
   "metadata": {},
   "outputs": [
    {
     "data": {
      "text/plain": [
       "array([  1.        ,   2.71828183,   7.3890561 ,  20.08553692,\n",
       "        54.59815003, 148.4131591 ])"
      ]
     },
     "execution_count": 83,
     "metadata": {},
     "output_type": "execute_result"
    }
   ],
   "source": [
    "np.exp(vektor)"
   ]
  },
  {
   "cell_type": "code",
   "execution_count": 84,
   "metadata": {},
   "outputs": [
    {
     "name": "stdout",
     "output_type": "stream",
     "text": [
      "[[ 3.14159265  0.          1.04719755]\n",
      " [-0.78539816 -2.0943951   2.71828183]]\n"
     ]
    }
   ],
   "source": [
    "matrica=np.array([[np.pi,0,np.pi/3],[-np.pi/4,-2*np.pi/3,np.e]])\n",
    "print(matrica)"
   ]
  },
  {
   "cell_type": "code",
   "execution_count": 85,
   "metadata": {},
   "outputs": [
    {
     "data": {
      "text/plain": [
       "array([[ 1.22464680e-16,  0.00000000e+00,  8.66025404e-01],\n",
       "       [-7.07106781e-01, -8.66025404e-01,  4.10781291e-01]])"
      ]
     },
     "execution_count": 85,
     "metadata": {},
     "output_type": "execute_result"
    }
   ],
   "source": [
    "np.sin(matrica)"
   ]
  },
  {
   "cell_type": "markdown",
   "metadata": {},
   "source": [
    "**Primer 2.** Kreiraćemo promenljivu `pom` kao niz slučajnih vrednosti. Potražićemo maksimalan raspon vrednosti unutar ovog niza."
   ]
  },
  {
   "cell_type": "markdown",
   "metadata": {},
   "source": [
    "а) Sprovešćemo sledeći postupak za određivanje raspona vrednosti unutar niza `pom`:\n",
    "1. Odredićemo minimalnu vrednost `minpom` niza `pom` upotrebom odgovarajuće funkcije NumPy modula.\n",
    "2. Pronađenu minimalnu vrednost `minpom` oduzećemo od svih elemenata niza `pom`, Na taj način kreiraćemo sadržaj novog niza `c`.\n",
    "3. Odredićemo maksimalnu vrednost `raspon` niza `c` upotrebom odgovarajuće funkcije NumPy modula."
   ]
  },
  {
   "cell_type": "code",
   "execution_count": 86,
   "metadata": {},
   "outputs": [
    {
     "data": {
      "text/plain": [
       "array([2.40501384, 3.36949925, 2.69483011, 4.61755591, 2.45866946,\n",
       "       4.05031934, 3.31145288, 2.66813396, 3.09437913, 3.97035399])"
      ]
     },
     "execution_count": 86,
     "metadata": {},
     "output_type": "execute_result"
    }
   ],
   "source": [
    "pom=3*np.random.rand(10,)+2\n",
    "pom"
   ]
  },
  {
   "cell_type": "code",
   "execution_count": 87,
   "metadata": {},
   "outputs": [
    {
     "name": "stdout",
     "output_type": "stream",
     "text": [
      "2.2125420702235172\n"
     ]
    }
   ],
   "source": [
    "minpom=np.min(pom)\n",
    "c=pom-minpom\n",
    "raspon=np.max(c)\n",
    "print(raspon)"
   ]
  },
  {
   "cell_type": "markdown",
   "metadata": {},
   "source": [
    "## Pristup elementima niza \n",
    "\n",
    "Operator indeksiranja `[ ]` odabira pojedinačne elemente u nizu ili njegove delove. Time je omogućen pristup pojedinačnim elementima i kao i grupama njih bilo za njihovo čitanje, bilo za izmenu sadržaja. Indeksiranjem se ne može menjati dužina NumPy niza."
   ]
  },
  {
   "cell_type": "markdown",
   "metadata": {},
   "source": [
    "<div class=\"alert alert-block alert-info\">\n",
    "<b>Napomena:</b> U radu sa nizovima voditi računa o opsegu indeksa!\n",
    "Prvi element liste ili niza je indeksa 0.</div>"
   ]
  },
  {
   "cell_type": "markdown",
   "metadata": {},
   "source": [
    "**Задатак 1.** Креирати низ бројева $a=[0, 1, ..., 8]$ неком од наредби модула NumPy за аутоматско генерисање вредности аритметичког низа. Од њега креирати матрицу $M\\in\\mathcal{M}_{3\\times3},$ $M=\\begin{bmatrix}0&1&2\\\\3&4&5\\\\6&7&8\\end{bmatrix}.$ Проверити да ли промене неког елемента низа $a$ доводе до промена у садржају матрице $M.$"
   ]
  },
  {
   "cell_type": "code",
   "execution_count": 88,
   "metadata": {},
   "outputs": [
    {
     "data": {
      "text/plain": [
       "array([0, 1, 2, 3, 4, 5, 6, 7, 8])"
      ]
     },
     "execution_count": 88,
     "metadata": {},
     "output_type": "execute_result"
    }
   ],
   "source": [
    "a=np.arange(9)\n",
    "a"
   ]
  },
  {
   "cell_type": "code",
   "execution_count": 89,
   "metadata": {},
   "outputs": [
    {
     "data": {
      "text/plain": [
       "array([[0, 1, 2],\n",
       "       [3, 4, 5],\n",
       "       [6, 7, 8]])"
      ]
     },
     "execution_count": 89,
     "metadata": {},
     "output_type": "execute_result"
    }
   ],
   "source": [
    "M=a.reshape(3,3)\n",
    "M"
   ]
  },
  {
   "cell_type": "code",
   "execution_count": 90,
   "metadata": {},
   "outputs": [
    {
     "data": {
      "text/plain": [
       "array([[  0,   1,   2],\n",
       "       [100,   4,   5],\n",
       "       [  6,   7,   8]])"
      ]
     },
     "execution_count": 90,
     "metadata": {},
     "output_type": "execute_result"
    }
   ],
   "source": [
    "a[3]=100\n",
    "M"
   ]
  },
  {
   "attachments": {
    "image-3.png": {
     "image/png": "[encoded data removed]"
    }
   },
   "cell_type": "markdown",
   "metadata": {},
   "source": [
    "**Primer 3.** Na narednoj slici data je šema indeksiranja NumPy niza $[1,-1,0,-2,2,3,4,-1,1,0].$  Elementi niza su unutar bele duge vrste sa crnim granicama.  Ispod i iznad su naznačene vrednosti pozicija, tj. vrednosti indeksa odgovarajućih elemenata:\n",
    "- gornji prostor opisuje indeksiranje unapred, tj. brojanje od početnog (nultog) elementa,\n",
    "- donji prostor opisuje indeksiranje unazad, tj. odbrojavanjem od poslednjeg elementa (-1).\n",
    "\n",
    "Plava polja označavaju opsege vrednosti indeksa. \n",
    "\n",
    "<div>\n",
    "   <img src=\"attachment:image-3.png\" width=\"750\">  \n",
    "</div>\n",
    "\n",
    "Iz šeme vidimo da indeksiranje pojedinačnih delova niza počinje od broja 0 i sukcesivno se nastavlja, kada brojimo elemente na taj način. Bilo kojem pojedinačnom elementu ovog niza (za čitanje ili promenu vrednosti) pristupamo navođenjem imena niza i indeksa elementa unutar uglastih zagrada `[ ]`."
   ]
  },
  {
   "cell_type": "code",
   "execution_count": 91,
   "metadata": {},
   "outputs": [
    {
     "name": "stdout",
     "output_type": "stream",
     "text": [
      "1  ,  4\n"
     ]
    },
    {
     "data": {
      "text/plain": [
       "array([ 1, -1,  0, -2,  2,  3,  2, -1,  1,  0])"
      ]
     },
     "execution_count": 91,
     "metadata": {},
     "output_type": "execute_result"
    }
   ],
   "source": [
    "niz=np.array([1,-1,0,-2,2,3,4,-1,1,0])\n",
    "print(niz[0],\" , \",niz[6])\n",
    "niz[6]=niz[6]//2\n",
    "niz"
   ]
  },
  {
   "cell_type": "markdown",
   "metadata": {},
   "source": [
    "Vratićemo elemente niza na početne vrednosti kako bi izlazi narednih ćelija odgovarali prikazu na slici."
   ]
  },
  {
   "cell_type": "code",
   "execution_count": 92,
   "metadata": {},
   "outputs": [],
   "source": [
    "niz=np.array([1,-1,0,-2,2,3,4,-1,1,0])"
   ]
  },
  {
   "cell_type": "markdown",
   "metadata": {},
   "source": [
    "Osim pojedinačnog pristupa moguće je indeksiranje i grupe elemenata niza. U tom slučaju se odgovarajući indeksi navode kao lista (ili niz) unutar operatora indeksiranja `[ ]`. Redosled navođenja indeksa ne mora da poodleže nikakvom pravilu, ali indeksi moraju da budu iz opsega veličine niza. Za konkretnu promenljivu `niz` maksimalna vrednost indeksa je 9."
   ]
  },
  {
   "cell_type": "code",
   "execution_count": 93,
   "metadata": {},
   "outputs": [
    {
     "name": "stdout",
     "output_type": "stream",
     "text": [
      "[ 1 -1  0 -2  2  3  4 -1  1  0]\n"
     ]
    },
    {
     "data": {
      "text/plain": [
       "array([ 1,  0,  1, -1,  0,  0,  1])"
      ]
     },
     "execution_count": 93,
     "metadata": {},
     "output_type": "execute_result"
    }
   ],
   "source": [
    "print(niz)\n",
    "niz[[0,2,8,1,2,2,0]]"
   ]
  },
  {
   "cell_type": "code",
   "execution_count": 94,
   "metadata": {},
   "outputs": [
    {
     "data": {
      "text/plain": [
       "array([-1, -2, -1, -2,  4,  2,  0,  4,  2,  0,  4,  2,  0])"
      ]
     },
     "execution_count": 94,
     "metadata": {},
     "output_type": "execute_result"
    }
   ],
   "source": [
    "niz[2*[1,3]+3*[6,4,9]]"
   ]
  },
  {
   "cell_type": "code",
   "execution_count": 95,
   "metadata": {},
   "outputs": [
    {
     "data": {
      "text/plain": [
       "array([ 1,  0,  1, -1])"
      ]
     },
     "execution_count": 95,
     "metadata": {},
     "output_type": "execute_result"
    }
   ],
   "source": [
    "niz[np.array([0,2,8,1])]"
   ]
  },
  {
   "cell_type": "code",
   "execution_count": 96,
   "metadata": {},
   "outputs": [
    {
     "ename": "IndexError",
     "evalue": "index 10 is out of bounds for axis 0 with size 10",
     "output_type": "error",
     "traceback": [
      "\u001b[1;31m---------------------------------------------------------------------------\u001b[0m",
      "\u001b[1;31mIndexError\u001b[0m                                Traceback (most recent call last)",
      "\u001b[1;32m<ipython-input-96-a90dc7962da4>\u001b[0m in \u001b[0;36m<module>\u001b[1;34m\u001b[0m\n\u001b[1;32m----> 1\u001b[1;33m \u001b[0mniz\u001b[0m\u001b[1;33m[\u001b[0m\u001b[1;36m10\u001b[0m\u001b[1;33m]\u001b[0m\u001b[1;33m\u001b[0m\u001b[1;33m\u001b[0m\u001b[0m\n\u001b[0m",
      "\u001b[1;31mIndexError\u001b[0m: index 10 is out of bounds for axis 0 with size 10"
     ]
    }
   ],
   "source": [
    "niz[10]"
   ]
  },
  {
   "cell_type": "code",
   "execution_count": 97,
   "metadata": {},
   "outputs": [
    {
     "data": {
      "text/plain": [
       "1"
      ]
     },
     "execution_count": 97,
     "metadata": {},
     "output_type": "execute_result"
    }
   ],
   "source": [
    "niz[10%niz.size]"
   ]
  },
  {
   "cell_type": "markdown",
   "metadata": {},
   "source": [
    "Kada grupa indeksa podleže nekim pravilnostima možemo da koristimo olakšice. U te svrhe koristi se kombinacija operatora indeksiranja i operatora listanja `:`. Ovaj operator ima slične karakteristike `arange` naredbe.  \n",
    "\n",
    "Format $[n:m]$ vraća deo niza počevši od elementa sa indeksom $n$ pa do elementa sa indeksom $m-1.$ Misli se na Python način indeksiranja koji počinje brojanje od 0, ili negativno indeksiranje. \n",
    "\n",
    "Ukoliko se ne navede početni indeks $n$ podrazumevana vrednost je $0.$ Ukoliko se ne navede drugi indeks $m,$ podrazumeva se da mu je vrednost kraj niza. U takvoj situaciji je i poslednji element uključen.\n",
    "\n",
    "Indeksiranje u formatu $[n:m:k]$ daje svaki $k-$ti element počevši od onog sa indeksom $n.$"
   ]
  },
  {
   "cell_type": "markdown",
   "metadata": {},
   "source": [
    "<div class=\"alert alert-block alert-info\">\n",
    "<b>Napomena:</b> Voditi računa da se poslednji indeks $m$ u opsegu $[n:m]$ ili $[n:m:k]$ ne koristi. To važi za indeksiranje unapred i indeksirnje unazad. Uključivanje poslednjeg elementa niza moguće je u formatu $[n:]$ ili $[n::k]$ </div>"
   ]
  },
  {
   "cell_type": "code",
   "execution_count": 98,
   "metadata": {},
   "outputs": [
    {
     "name": "stdout",
     "output_type": "stream",
     "text": [
      "[ 1 -1  0 -2  2  3  4 -1  1  0]\n"
     ]
    }
   ],
   "source": [
    "print(niz)"
   ]
  },
  {
   "cell_type": "code",
   "execution_count": 99,
   "metadata": {},
   "outputs": [
    {
     "data": {
      "text/plain": [
       "array([ 1, -1,  0, -2])"
      ]
     },
     "execution_count": 99,
     "metadata": {},
     "output_type": "execute_result"
    }
   ],
   "source": [
    "niz[0:4]   #elementi od početka do onog sa indeksom 3"
   ]
  },
  {
   "cell_type": "code",
   "execution_count": 100,
   "metadata": {},
   "outputs": [
    {
     "data": {
      "text/plain": [
       "array([ 1, -1,  0, -2])"
      ]
     },
     "execution_count": 100,
     "metadata": {},
     "output_type": "execute_result"
    }
   ],
   "source": [
    "niz[:4]    #elementi od početka do onog sa indeksom 3"
   ]
  },
  {
   "cell_type": "code",
   "execution_count": 101,
   "metadata": {},
   "outputs": [
    {
     "data": {
      "text/plain": [
       "array([ 3,  4, -1])"
      ]
     },
     "execution_count": 101,
     "metadata": {},
     "output_type": "execute_result"
    }
   ],
   "source": [
    "niz[5:8]  #elementi počevši od onog sa indeksom 5 do onog sa indeksom 7"
   ]
  },
  {
   "cell_type": "code",
   "execution_count": 102,
   "metadata": {},
   "outputs": [
    {
     "data": {
      "text/plain": [
       "array([ 3,  4, -1,  1,  0])"
      ]
     },
     "execution_count": 102,
     "metadata": {},
     "output_type": "execute_result"
    }
   ],
   "source": [
    "niz[5:]   #elementi počevši od onog sa indeksom 5 do kraja niza"
   ]
  },
  {
   "cell_type": "code",
   "execution_count": 103,
   "metadata": {},
   "outputs": [
    {
     "data": {
      "text/plain": [
       "array([1, 0, 2, 4, 1])"
      ]
     },
     "execution_count": 103,
     "metadata": {},
     "output_type": "execute_result"
    }
   ],
   "source": [
    "niz[::2] #elementi od početka do kraja, svaki drugi"
   ]
  },
  {
   "cell_type": "code",
   "execution_count": 104,
   "metadata": {},
   "outputs": [
    {
     "data": {
      "text/plain": [
       "array([ 0,  1, -1,  4,  3,  2, -2,  0, -1,  1])"
      ]
     },
     "execution_count": 104,
     "metadata": {},
     "output_type": "execute_result"
    }
   ],
   "source": [
    "niz[::-1] #elementi od početka do kraja, u obrnutom redosledu"
   ]
  },
  {
   "cell_type": "markdown",
   "metadata": {},
   "source": [
    "Specijalno, svi elementi jednodimenzionalnog niza dobijaju se ne navođenjem nijedne granice u operatoru listanja. Ovo svojstvo je bitno za nizove više dimenzija."
   ]
  },
  {
   "cell_type": "code",
   "execution_count": 105,
   "metadata": {},
   "outputs": [
    {
     "data": {
      "text/plain": [
       "array([ 1, -1,  0, -2,  2,  3,  4, -1,  1,  0])"
      ]
     },
     "execution_count": 105,
     "metadata": {},
     "output_type": "execute_result"
    }
   ],
   "source": [
    "niz[:]"
   ]
  },
  {
   "cell_type": "markdown",
   "metadata": {},
   "source": [
    "Elementi objekata ovog tipa mogu takođe i da se indeksiraju sa kraja. Negativne vrednosti indeksa broje elemente zdesna nalevo. Način korišćenja pojedinačnog pristupa ili operatora listanja `:` odgovara prethodno opisanom. Njegovo dejstvo prikazaćemo na narednom primeru."
   ]
  },
  {
   "cell_type": "code",
   "execution_count": 106,
   "metadata": {},
   "outputs": [
    {
     "name": "stdout",
     "output_type": "stream",
     "text": [
      "[-5 -4 -3 -2 -1  0  1  2  3  4  5]\n",
      "-5\n",
      "1\n",
      "5\n",
      "2\n"
     ]
    }
   ],
   "source": [
    "vektor=np.arange(-5,6)\n",
    "print(vektor)\n",
    "print(vektor[0])\n",
    "print(vektor[6])\n",
    "print(vektor[-1])\n",
    "print(vektor[-4])"
   ]
  },
  {
   "cell_type": "code",
   "execution_count": 107,
   "metadata": {},
   "outputs": [
    {
     "name": "stdout",
     "output_type": "stream",
     "text": [
      "[-5 -4 -3 -2 -1  0  1  2  3  4  5]\n",
      "[-5 -4 -3 -2 -1  0  1]\n",
      "[0 1 2 3 4 5]\n",
      "[0 2 4]\n"
     ]
    }
   ],
   "source": [
    "print(vektor)\n",
    "print(vektor[:-4])\n",
    "print(vektor[-6:])\n",
    "print(vektor[-6::2])"
   ]
  },
  {
   "cell_type": "markdown",
   "metadata": {},
   "source": [
    "Višestruko indeksiranje elemenata možemo da koristimo i za izmenu njihovog sadržaja, ne samo prikaz."
   ]
  },
  {
   "cell_type": "code",
   "execution_count": 108,
   "metadata": {},
   "outputs": [
    {
     "name": "stdout",
     "output_type": "stream",
     "text": [
      "[-5 -4 -3 -2 -1  0  1  2  3  4  5]\n",
      "[-5 -4 -3  5 -1  0  1  2  3  4  5]\n"
     ]
    }
   ],
   "source": [
    "print(vektor)\n",
    "vektor[3]=5\n",
    "print(vektor)"
   ]
  },
  {
   "cell_type": "code",
   "execution_count": 109,
   "metadata": {},
   "outputs": [
    {
     "name": "stdout",
     "output_type": "stream",
     "text": [
      "[-5 -4 -3  5 -1  0  1  2  3  4  5]\n",
      "[-5 -4  2  3  4  1  2  3  3  4  5]\n",
      "[2 1 2 2 1 2 2 3 3 4 5]\n"
     ]
    }
   ],
   "source": [
    "print(vektor)\n",
    "vektor[2:-3]=[2,3,4,1,2,3]\n",
    "print(vektor)\n",
    "vektor[0:6]=2*[2,1,2]\n",
    "print(vektor)"
   ]
  },
  {
   "cell_type": "markdown",
   "metadata": {},
   "source": [
    "Ukoliko je potrebno izdvajanje elemenata koji nisu uzastopni, to postižemo navođenjem liste indeksa pod operatorom indeksiranja. Ovakav način indeksiranja je pogodan za zamenu mesta vrednosti elemenata u listi jer ne zahteva upotrebu pomoćnih promenljivih.\n",
    "\n",
    "Podsetimo se da Python dozvoljava istovremenu dodelu vrednosti više promenljivih."
   ]
  },
  {
   "cell_type": "code",
   "execution_count": 110,
   "metadata": {},
   "outputs": [
    {
     "name": "stdout",
     "output_type": "stream",
     "text": [
      "3   4\n"
     ]
    }
   ],
   "source": [
    "a,b=3,4\n",
    "print(a,\" \",b)"
   ]
  },
  {
   "cell_type": "markdown",
   "metadata": {},
   "source": [
    "U klasičnim programskim jezicima koji ne dozvoljavaju istovremenu definiciju vrednosti više promenljivih, zamena vrednosti dve promenljive mora da se odvija iz nekoliko koraka i uz pomoć medju promenljive. "
   ]
  },
  {
   "cell_type": "code",
   "execution_count": 111,
   "metadata": {},
   "outputs": [
    {
     "name": "stdout",
     "output_type": "stream",
     "text": [
      "4   3\n"
     ]
    }
   ],
   "source": [
    "pom=a\n",
    "a=b\n",
    "b=pom\n",
    "print(a,\" \",b)"
   ]
  },
  {
   "cell_type": "markdown",
   "metadata": {},
   "source": [
    "Istovremena dodela vrednosti olakšava ovaj postupak zamene sadržaja dve ili više promenljivih."
   ]
  },
  {
   "cell_type": "code",
   "execution_count": 112,
   "metadata": {},
   "outputs": [],
   "source": [
    "a,b = b,a"
   ]
  },
  {
   "cell_type": "code",
   "execution_count": 113,
   "metadata": {},
   "outputs": [
    {
     "name": "stdout",
     "output_type": "stream",
     "text": [
      "3   4\n"
     ]
    }
   ],
   "source": [
    "print(a,\" \",b)"
   ]
  },
  {
   "cell_type": "code",
   "execution_count": 114,
   "metadata": {},
   "outputs": [],
   "source": [
    "c=5"
   ]
  },
  {
   "cell_type": "code",
   "execution_count": 115,
   "metadata": {},
   "outputs": [
    {
     "name": "stdout",
     "output_type": "stream",
     "text": [
      "5   3   4\n"
     ]
    }
   ],
   "source": [
    "a,b,c=c,a,b\n",
    "print(a,\" \",b,\" \",c)"
   ]
  },
  {
   "cell_type": "markdown",
   "metadata": {},
   "source": [
    "Na sličan način funkcioniše zamena sadržaja elemenata i delova NumPy niza."
   ]
  },
  {
   "cell_type": "code",
   "execution_count": 116,
   "metadata": {},
   "outputs": [
    {
     "name": "stdout",
     "output_type": "stream",
     "text": [
      "[ 0  1  2  3  4  5  6  7  8  9 10]\n",
      "[ 0  1  4  3  2  5  6  7  8  9 10]\n",
      "[ 5  3  4  1  2  0  6  7  8  9 10]\n"
     ]
    }
   ],
   "source": [
    "vektor=np.arange(11)\n",
    "print(vektor)\n",
    "vektor[[2,4]]=vektor[[4,2]]  #istovremena zamena mesta dve vrednosti\n",
    "print(vektor)\n",
    "vektor[[0,1,3,5]]=vektor[[5,3,1,0]] #istovremena zamena mesta više vrednosti\n",
    "print(vektor)"
   ]
  },
  {
   "cell_type": "markdown",
   "metadata": {},
   "source": [
    "**Primer 4.** Strategija \"podeli pa vladaj\" jedna je od najmoćnijih algoritamskih paradigmi za dizajn efikasnih algoritama. Ideja je zasnovana na podeli problema visoke dimenzionalnosti na više problema istog tipa ali niže dimenzionalnosti. Svaki od ovih potproblema može ponovo da se razdvoji u potprobleme, itd. Postupak usitnjavanja sprovodi se do nivoa kada su dobijeni potproblemi dovoljno mali. Rešenje polaznog problema tada se dobija kombinovanjem rešenja potproblema vraćajući se unazad kroz hijerarhiju. Ovu ideju ilustrovaćemo na primeru sume $n+1=2^k$ brojeva, $S=\\displaystyle\\sum_{k=0}^na_k.$ Uobičajen način za izračunavanje sume je akumulacija kroz iteracije.\n",
    "$$S_0=a_0,\\qquad S_k=S_{k-1}+a_k,\\ k=1,\\dots,n.$$"
   ]
  },
  {
   "cell_type": "code",
   "execution_count": 117,
   "metadata": {},
   "outputs": [],
   "source": [
    "from timeit import default_timer as timer\n",
    "import numpy.random as rndm"
   ]
  },
  {
   "cell_type": "code",
   "execution_count": 118,
   "metadata": {},
   "outputs": [],
   "source": [
    "k=20\n",
    "n=2**k\n",
    "a=rndm.rand(n)  #generisanje 2^k slucajnih brojeva iz opsega [0,1)"
   ]
  },
  {
   "cell_type": "code",
   "execution_count": 119,
   "metadata": {},
   "outputs": [
    {
     "name": "stdout",
     "output_type": "stream",
     "text": [
      "Vreme izvrsenja algoritma:  0.3395894999994198 sec\n",
      "Suma je:  524137.7592966442\n"
     ]
    }
   ],
   "source": [
    "start = timer()\n",
    "s=a[0]\n",
    "for i in range(1,n):\n",
    "    s=s+a[i]\n",
    "end = timer()\n",
    "print(\"Vreme izvrsenja algoritma: \",end - start,\"sec\")\n",
    "print(\"Suma je: \",s)"
   ]
  },
  {
   "attachments": {
    "image.png": {
     "image/png": "[encoded data removed]"
    }
   },
   "cell_type": "markdown",
   "metadata": {},
   "source": [
    "Drugi način je sumiranje koje dozvoljava paralelizaciju procesa tako da se čitav postupak odvija u $k$ iteracija. Šema takvog sumiranja data je na primeru $k=3.$\n",
    "![image.png](attachment:image.png)"
   ]
  },
  {
   "cell_type": "code",
   "execution_count": 120,
   "metadata": {},
   "outputs": [
    {
     "name": "stdout",
     "output_type": "stream",
     "text": [
      "Vreme izvrsenja algoritma:  0.0073374000003241235 sec\n",
      "Suma je:  [524137.75929663]\n"
     ]
    }
   ],
   "source": [
    "start = timer()\n",
    "s=a.copy()\n",
    "for i in range(k):\n",
    "    s=s[0::2]+s[1::2]\n",
    "end = timer()\n",
    "print(\"Vreme izvrsenja algoritma: \",end - start,\"sec\")\n",
    "print(\"Suma je: \",s)"
   ]
  },
  {
   "cell_type": "markdown",
   "metadata": {},
   "source": [
    "Uočavamo razliku u vremenima izvršenja dva postupka izračunavanja. "
   ]
  },
  {
   "cell_type": "markdown",
   "metadata": {},
   "source": [
    "Proverićemo i vreme izvršenja ugrađene naredbe NumPy biblioteke."
   ]
  },
  {
   "cell_type": "code",
   "execution_count": 121,
   "metadata": {},
   "outputs": [
    {
     "name": "stdout",
     "output_type": "stream",
     "text": [
      "Vreme izvrsenja algoritma:  0.00221380000039062 sec\n",
      "Suma je:  524137.7592966339\n"
     ]
    }
   ],
   "source": [
    "start = timer()\n",
    "s=np.sum(a)\n",
    "end = timer()\n",
    "print(\"Vreme izvrsenja algoritma: \",end - start,\"sec\")\n",
    "print(\"Suma je: \",s)"
   ]
  },
  {
   "cell_type": "markdown",
   "metadata": {},
   "source": [
    "Referenciranje elemenata u višedimenzionalnim nizovima izvodi se na sličan način prikazanom za jednodimenzionalne nizove. Dvodimenzionalni nizovi su niz jednodimenzionalnih nizova pa za njihove pojedinačne elemente koristimo parove indeksa. Osim toga, cele vrste mogu da budu direktno referncirane kao elementi glavnog niza. "
   ]
  },
  {
   "attachments": {
    "image-2.png": {
     "image/png": "[encoded data removed]"
    }
   },
   "cell_type": "markdown",
   "metadata": {},
   "source": [
    "**Primer 5.** Data je matrica dimenzije $3\\times5$ svojim elementima. Šeme indeksiranja vrsta i pojedinačnih elemenata date su na narednoj slici.\n",
    "<div>\n",
    "   <img src=\"attachment:image-2.png\" width=\"700\">  \n",
    "</div>\n",
    "\n",
    "Naredne kodne ćelije pomoći će da upoznamo indeksiranje matrica na primeru matrice dimenzije $3\\times5$."
   ]
  },
  {
   "cell_type": "code",
   "execution_count": 122,
   "metadata": {},
   "outputs": [
    {
     "name": "stdout",
     "output_type": "stream",
     "text": [
      "[[ 1  0  1 -1 -2]\n",
      " [ 2  1 -1  1  0]\n",
      " [ 0  1 -1  2  3]]\n",
      "[ 1  0  1 -1 -2]\n",
      "[ 0  1 -1  2  3]\n"
     ]
    }
   ],
   "source": [
    "matrica=np.array([[1,0,1,-1,-2],[2,1,-1,1,0],[0,1,-1,2,3]])\n",
    "print(matrica)\n",
    "print(matrica[0])           #prva vrsta matrice\n",
    "print(matrica[-1])          #poslednja vrsta matrice"
   ]
  },
  {
   "cell_type": "code",
   "execution_count": 123,
   "metadata": {},
   "outputs": [
    {
     "data": {
      "text/plain": [
       "array([[ 1,  0,  1, -1, -2],\n",
       "       [ 2,  1, -1,  1,  0]])"
      ]
     },
     "execution_count": 123,
     "metadata": {},
     "output_type": "execute_result"
    }
   ],
   "source": [
    "matrica[:2]        #prve dve vrste matrice"
   ]
  },
  {
   "cell_type": "code",
   "execution_count": 124,
   "metadata": {},
   "outputs": [
    {
     "data": {
      "text/plain": [
       "array([[ 1,  0,  1, -1, -2],\n",
       "       [ 0,  1, -1,  2,  3]])"
      ]
     },
     "execution_count": 124,
     "metadata": {},
     "output_type": "execute_result"
    }
   ],
   "source": [
    "matrica[::2]      #vrste matrice sa korakom 2"
   ]
  },
  {
   "cell_type": "code",
   "execution_count": 125,
   "metadata": {},
   "outputs": [
    {
     "data": {
      "text/plain": [
       "array([[ 1,  0,  1, -1, -2],\n",
       "       [ 2,  1, -1,  1,  0],\n",
       "       [ 0,  1, -1,  2,  3],\n",
       "       [ 1,  0,  1, -1, -2],\n",
       "       [ 0,  1, -1,  2,  3],\n",
       "       [ 1,  0,  1, -1, -2]])"
      ]
     },
     "execution_count": 125,
     "metadata": {},
     "output_type": "execute_result"
    }
   ],
   "source": [
    "B=matrica[[0,1,-1,0,2,0]]      #vrste matrice navedenih indeksa\n",
    "B"
   ]
  },
  {
   "cell_type": "code",
   "execution_count": 126,
   "metadata": {},
   "outputs": [
    {
     "data": {
      "text/plain": [
       "array([[ 1,  0,  1, -1, -2],\n",
       "       [ 2,  1, -1,  1,  0],\n",
       "       [ 0,  1, -1,  2,  3]])"
      ]
     },
     "execution_count": 126,
     "metadata": {},
     "output_type": "execute_result"
    }
   ],
   "source": [
    "B[0,0]=0\n",
    "matrica"
   ]
  },
  {
   "cell_type": "markdown",
   "metadata": {},
   "source": [
    "Zaključujemo da je $B$ nezavisna kopija delova niza $matrica.$ Prema tome, dodela tipa `niz1=f(niz2)`, gde je `f` neka transformacija (obrada) višeg nivoa,  pravi nezavisne verzije nizova. "
   ]
  },
  {
   "cell_type": "code",
   "execution_count": 127,
   "metadata": {},
   "outputs": [
    {
     "data": {
      "text/plain": [
       "array([[ 0,  1, -1,  2,  3],\n",
       "       [ 1,  0,  1, -1, -2],\n",
       "       [ 2,  1, -1,  1,  0]])"
      ]
     },
     "execution_count": 127,
     "metadata": {},
     "output_type": "execute_result"
    }
   ],
   "source": [
    "C=matrica[[2,0,1]]\n",
    "C"
   ]
  },
  {
   "cell_type": "code",
   "execution_count": 128,
   "metadata": {},
   "outputs": [
    {
     "data": {
      "text/plain": [
       "array([[ 1,  0,  1, -1, -2],\n",
       "       [ 2,  1, -1,  1,  0],\n",
       "       [ 0,  1, -1,  2,  3]])"
      ]
     },
     "execution_count": 128,
     "metadata": {},
     "output_type": "execute_result"
    }
   ],
   "source": [
    "C[0,0]=6\n",
    "matrica"
   ]
  },
  {
   "cell_type": "markdown",
   "metadata": {},
   "source": [
    "Osim toga, vidimo da za indeksiranje pojedinačnih elemenata dvodimenzionanog niza koristimo parove indeksa razdvojene zarezom."
   ]
  },
  {
   "cell_type": "code",
   "execution_count": 129,
   "metadata": {},
   "outputs": [
    {
     "name": "stdout",
     "output_type": "stream",
     "text": [
      "[[ 1  0  1 -1 -2]\n",
      " [ 2  1 -1  1  0]\n",
      " [ 0  1 -1  2  3]]\n"
     ]
    },
    {
     "data": {
      "text/plain": [
       "-1"
      ]
     },
     "execution_count": 129,
     "metadata": {},
     "output_type": "execute_result"
    }
   ],
   "source": [
    "print(matrica)\n",
    "matrica[1,2]         #element matrice na poziciji (2,3)"
   ]
  },
  {
   "cell_type": "code",
   "execution_count": 130,
   "metadata": {},
   "outputs": [
    {
     "name": "stdout",
     "output_type": "stream",
     "text": [
      "[[ 0  0  1 -1 -2]\n",
      " [ 2  1 -1  1  0]\n",
      " [ 0  1 -1  2  3]\n",
      " [ 1  0  1 -1 -2]\n",
      " [ 0  1 -1  2  3]\n",
      " [ 1  0  1 -1 -2]]\n"
     ]
    },
    {
     "data": {
      "text/plain": [
       "2"
      ]
     },
     "execution_count": 130,
     "metadata": {},
     "output_type": "execute_result"
    }
   ],
   "source": [
    "print(B)\n",
    "B[-2,-2]"
   ]
  },
  {
   "cell_type": "markdown",
   "metadata": {},
   "source": [
    "Za izdvajanje podmatrica elemenata (elementi u preseku istaknutih vrsta i kolona) kombinuju se na prethodno prikazani načini. "
   ]
  },
  {
   "cell_type": "code",
   "execution_count": 131,
   "metadata": {},
   "outputs": [
    {
     "name": "stdout",
     "output_type": "stream",
     "text": [
      "[[ 1  0  1 -1 -2]\n",
      " [ 2  1 -1  1  0]\n",
      " [ 0  1 -1  2  3]]\n"
     ]
    },
    {
     "data": {
      "text/plain": [
       "array([ 1, -1, -1])"
      ]
     },
     "execution_count": 131,
     "metadata": {},
     "output_type": "execute_result"
    }
   ],
   "source": [
    "print(matrica)\n",
    "matrica[:,2]        #treća kolona matrice"
   ]
  },
  {
   "cell_type": "code",
   "execution_count": 132,
   "metadata": {},
   "outputs": [
    {
     "data": {
      "text/plain": [
       "array([[ 0, -1],\n",
       "       [ 1,  2]])"
      ]
     },
     "execution_count": 132,
     "metadata": {},
     "output_type": "execute_result"
    }
   ],
   "source": [
    "matrica[::2,1::2]   #izdvajanje podmatrice sa indeksima vrsta i kolona [(1,3),(2,4)]"
   ]
  },
  {
   "cell_type": "markdown",
   "metadata": {},
   "source": [
    "Kada indeksi vrsta i kolona ne podležu zakonitostima operatora listanja `:`, izdvajanje elmenata u preseku navedenih indeksa vrsta i indeksa kolona odvija se iz dve etape: najpre izdvajanje vrsta, a zatim u njima izdvajanje kolona (ili obrat)."
   ]
  },
  {
   "cell_type": "code",
   "execution_count": 133,
   "metadata": {},
   "outputs": [
    {
     "name": "stdout",
     "output_type": "stream",
     "text": [
      "[[ 1  0  1 -1 -2]\n",
      " [ 2  1 -1  1  0]\n",
      " [ 0  1 -1  2  3]]\n",
      "[[ 1  0  1 -1 -2]\n",
      " [ 2  1 -1  1  0]]\n",
      "[[ 1  0 -2]\n",
      " [ 2  1  0]\n",
      " [ 0  1  3]]\n"
     ]
    }
   ],
   "source": [
    "print(matrica)\n",
    "vrste=np.array([0,1])\n",
    "kolone=np.array([0,1,4])\n",
    "print(matrica[vrste])\n",
    "print(matrica[:,kolone])"
   ]
  },
  {
   "cell_type": "code",
   "execution_count": 134,
   "metadata": {},
   "outputs": [
    {
     "data": {
      "text/plain": [
       "array([[ 1,  0, -2],\n",
       "       [ 2,  1,  0]])"
      ]
     },
     "execution_count": 134,
     "metadata": {},
     "output_type": "execute_result"
    }
   ],
   "source": [
    "matrica[vrste][:,kolone]"
   ]
  },
  {
   "cell_type": "code",
   "execution_count": 135,
   "metadata": {},
   "outputs": [
    {
     "data": {
      "text/plain": [
       "array([[ 1,  0, -2],\n",
       "       [ 2,  1,  0]])"
      ]
     },
     "execution_count": 135,
     "metadata": {},
     "output_type": "execute_result"
    }
   ],
   "source": [
    "matrica[:,kolone][vrste]"
   ]
  },
  {
   "cell_type": "markdown",
   "metadata": {},
   "source": [
    "Kao i kod jednodimenzionalnih nizova indeksiranje matrica može da se koristi za čitanje i izmenu njenog sadržaja. I ovde je veoma korisna istovremena zamena mesta sadržaja više pozicija unutar matrice."
   ]
  },
  {
   "cell_type": "code",
   "execution_count": 136,
   "metadata": {},
   "outputs": [
    {
     "name": "stdout",
     "output_type": "stream",
     "text": [
      "[[ 1  0  1 -1 -2]\n",
      " [ 2  1 -1  1  0]\n",
      " [ 0  1 -1  2  3]]\n"
     ]
    },
    {
     "data": {
      "text/plain": [
       "array([[ 0,  0,  1, -1,  1],\n",
       "       [ 1,  1, -1,  1, -1],\n",
       "       [ 1,  1, -1,  2, -1]])"
      ]
     },
     "execution_count": 136,
     "metadata": {},
     "output_type": "execute_result"
    }
   ],
   "source": [
    "print(matrica)\n",
    "matrica[:,[0,4]]=matrica[:,[1,2]]   #izmena sadržaja prve i pete kolone upisivanjem druge i treće kolone u njih\n",
    "matrica"
   ]
  },
  {
   "cell_type": "markdown",
   "metadata": {},
   "source": [
    "**Zadatak 2.** Napisati kod za:\n",
    "\n",
    "a) Generisanje promenljive **a** koja je niz brojeva od 0,1,2,...,15. Brojeve ne unositi ručno već koristiti neku od naredbi NumPy modula za automatsko generisanje nizova.\n",
    "\n",
    "b) Generisanje promenljive **b**, na osnovu postojećeg niza **a**, upotrebom operacija nad nizovima (+,-,\\*,/ i slično). Elementi niza **b** glase -3, -1,  1,  3,  5,  7,  9, 11, 13, 15, 17, 19, 21, 23, 25, 27. Uočiti pravilnost (linearna je) i iskoristiti je za kreiranje niza **b**.\n",
    "\n",
    "c)  Indeksiranjem promeniti sadržaj vektora **a** prema sledećem pravilu:\n",
    "$$[0\\ 1\\ 2\\ 3\\ 4\\ 5\\ 6\\ 7\\ 8\\ 9\\ 10\\ 11\\ 12\\ 13\\ 14\\ 15]\\ \\mapsto\\ [0\\ 1\\ 2\\ 3\\ 4\\ 5\\ -1\\ 2\\ -1\\ 2\\ 10\\ 11\\ 0\\ 0\\ 0\\ 0]$$"
   ]
  },
  {
   "cell_type": "code",
   "execution_count": 137,
   "metadata": {},
   "outputs": [
    {
     "data": {
      "text/plain": [
       "array([ 0,  1,  2,  3,  4,  5,  6,  7,  8,  9, 10, 11, 12, 13, 14, 15])"
      ]
     },
     "execution_count": 137,
     "metadata": {},
     "output_type": "execute_result"
    }
   ],
   "source": [
    "a=np.arange(16)\n",
    "a"
   ]
  },
  {
   "cell_type": "code",
   "execution_count": 138,
   "metadata": {},
   "outputs": [
    {
     "data": {
      "text/plain": [
       "array([-3, -1,  1,  3,  5,  7,  9, 11, 13, 15, 17, 19, 21, 23, 25, 27])"
      ]
     },
     "execution_count": 138,
     "metadata": {},
     "output_type": "execute_result"
    }
   ],
   "source": [
    "b=2*a-3\n",
    "b"
   ]
  },
  {
   "cell_type": "code",
   "execution_count": 139,
   "metadata": {},
   "outputs": [
    {
     "data": {
      "text/plain": [
       "array([ 0,  1,  2,  3,  4,  5, -1,  2, -1,  2, 10, 11, 12, 13, 14, 15])"
      ]
     },
     "execution_count": 139,
     "metadata": {},
     "output_type": "execute_result"
    }
   ],
   "source": [
    "a[6:10]=2*[-1,2]\n",
    "a"
   ]
  },
  {
   "cell_type": "code",
   "execution_count": 140,
   "metadata": {},
   "outputs": [
    {
     "data": {
      "text/plain": [
       "array([ 0,  1,  2,  3,  4,  5, -1,  2, -1,  2, 10, 11,  0,  0,  0,  0])"
      ]
     },
     "execution_count": 140,
     "metadata": {},
     "output_type": "execute_result"
    }
   ],
   "source": [
    "a[-4:]=4*[0]\n",
    "a"
   ]
  },
  {
   "cell_type": "markdown",
   "metadata": {},
   "source": [
    "**Zadatak 3.** Употребом индексирања креирати матрицу $A$ димензије $8\\times8$ са јединицама на ивицама и нулама свуда другде, тј.\n",
    "$$A=\\begin{bmatrix}1&1&1&\\dots&1&1&1\\\\1&0&0&\\dots&0&0&1\\\\1&0&0&\\dots&0&0&1\\\\\\vdots&\\vdots&\\vdots& &\\vdots&\\vdots&\\vdots\\\\\n",
    "1&0&0&\\dots&0&0&1\\\\1&0&0&\\dots&0&0&1\\\\1&1&1&\\dots&1&1&1\n",
    "\\end{bmatrix}.$$"
   ]
  },
  {
   "cell_type": "code",
   "execution_count": 141,
   "metadata": {},
   "outputs": [
    {
     "data": {
      "text/plain": [
       "array([[1., 1., 1., 1., 1., 1., 1., 1.],\n",
       "       [1., 0., 0., 0., 0., 0., 0., 1.],\n",
       "       [1., 0., 0., 0., 0., 0., 0., 1.],\n",
       "       [1., 0., 0., 0., 0., 0., 0., 1.],\n",
       "       [1., 0., 0., 0., 0., 0., 0., 1.],\n",
       "       [1., 0., 0., 0., 0., 0., 0., 1.],\n",
       "       [1., 0., 0., 0., 0., 0., 0., 1.],\n",
       "       [1., 1., 1., 1., 1., 1., 1., 1.]])"
      ]
     },
     "execution_count": 141,
     "metadata": {},
     "output_type": "execute_result"
    }
   ],
   "source": [
    "A=np.ones((8,8))\n",
    "A[1:-1,1:-1]=0\n",
    "A"
   ]
  },
  {
   "cell_type": "markdown",
   "metadata": {},
   "source": [
    "**Zadatak 4.** Индексирањем креирати матрицу $B$ димензије $8\\times8$ са цик-цак распоредом нула и јединица, тј.\n",
    "$$B=\\begin{bmatrix}1&0&1&\\dots&0&1&0\\\\0&1&0&\\dots&1&0&1\\\\1&0&1&\\dots&0&1&0\\\\\\vdots&\\vdots&\\vdots& &\\vdots&\\vdots&\\vdots\\\\\n",
    "0&1&0&\\dots&1&0&1\\\\1&0&1&\\dots&0&1&0\\\\0&1&0&\\dots&1&0&1\n",
    "\\end{bmatrix}.$$"
   ]
  },
  {
   "cell_type": "code",
   "execution_count": 142,
   "metadata": {},
   "outputs": [
    {
     "data": {
      "text/plain": [
       "array([[0., 1., 0., 1., 0., 1., 0., 1.],\n",
       "       [1., 0., 1., 0., 1., 0., 1., 0.],\n",
       "       [0., 1., 0., 1., 0., 1., 0., 1.],\n",
       "       [1., 0., 1., 0., 1., 0., 1., 0.],\n",
       "       [0., 1., 0., 1., 0., 1., 0., 1.],\n",
       "       [1., 0., 1., 0., 1., 0., 1., 0.],\n",
       "       [0., 1., 0., 1., 0., 1., 0., 1.],\n",
       "       [1., 0., 1., 0., 1., 0., 1., 0.]])"
      ]
     },
     "execution_count": 142,
     "metadata": {},
     "output_type": "execute_result"
    }
   ],
   "source": [
    "B=np.ones((8,8))\n",
    "B[::2,::2]=0\n",
    "B[1::2,1::2]=0\n",
    "B"
   ]
  },
  {
   "cell_type": "markdown",
   "metadata": {},
   "source": [
    "**Zadatak 5.** Neka je $\\varepsilon_n=e^{i\\frac{2\\pi}{n}},$ gde je $n=2^m,\\ m\\in\\mathbb{N}.$ Za dati vektor vrednosti $$v=\\begin{bmatrix}1&\\varepsilon_n&\\varepsilon_n^2&\\dots&\\varepsilon_n^{n/2-1}\\end{bmatrix},$$ koristeći operator indeksiranja izdvojiti elemente ovog vektora prema pravilu:\n",
    "$$u=\\begin{bmatrix}1&\\varepsilon_r&\\varepsilon_r^{2}&\\dots&\\varepsilon_r^{r/2-1}\\end{bmatrix},\\quad r=2^q,\\ q=\\overline{1,m}.$$"
   ]
  },
  {
   "cell_type": "markdown",
   "metadata": {},
   "source": [
    "**Rešenje :**\n",
    "\n",
    "Napravićemo vektore $v$ i $u$ za neke konkretne, male vrednosti parametara $m$ i $q.$ Menjanjem $q=\\overline{1,m}$ kroz grafički prikaz možemo da potvrdimo detaljnu analizu datu u nastavku."
   ]
  },
  {
   "cell_type": "code",
   "execution_count": 143,
   "metadata": {},
   "outputs": [
    {
     "data": {
      "text/plain": [
       "(32,)"
      ]
     },
     "execution_count": 143,
     "metadata": {},
     "output_type": "execute_result"
    }
   ],
   "source": [
    "m=6\n",
    "n=2**m\n",
    "fi=2*np.pi/n\n",
    "epsl=np.exp(fi*1j)\n",
    "v=epsl**np.arange(n/2)\n",
    "v.shape"
   ]
  },
  {
   "cell_type": "code",
   "execution_count": 144,
   "metadata": {},
   "outputs": [
    {
     "data": {
      "image/png": "[encoded data removed]",
      "text/plain": [
       "<Figure size 432x288 with 1 Axes>"
      ]
     },
     "metadata": {
      "needs_background": "light"
     },
     "output_type": "display_data"
    }
   ],
   "source": [
    "plt.plot(np.real(v),np.imag(v),'o')\n",
    "plt.rcParams[\"figure.figsize\"] = (6,3)\n",
    "plt.title(\"Elementi vektora v u kompleksnoj ravni\");"
   ]
  },
  {
   "cell_type": "markdown",
   "metadata": {},
   "source": [
    "Zamenom vrednosti $q$ u nastavku možemo da pratimo ponašanje elemenata podniza $u.$"
   ]
  },
  {
   "cell_type": "code",
   "execution_count": 145,
   "metadata": {},
   "outputs": [
    {
     "data": {
      "text/plain": [
       "(4,)"
      ]
     },
     "execution_count": 145,
     "metadata": {},
     "output_type": "execute_result"
    }
   ],
   "source": [
    "q=3\n",
    "r=2**q\n",
    "psi=2*np.pi/r\n",
    "epsr=np.exp(psi*1j)\n",
    "u=epsr**np.arange(r/2)\n",
    "u.shape"
   ]
  },
  {
   "cell_type": "code",
   "execution_count": 146,
   "metadata": {},
   "outputs": [
    {
     "data": {
      "image/png": "[encoded data removed]",
      "text/plain": [
       "<Figure size 432x216 with 1 Axes>"
      ]
     },
     "metadata": {
      "needs_background": "light"
     },
     "output_type": "display_data"
    }
   ],
   "source": [
    "plt.plot(np.real(v),np.imag(v),'ob',label='v')\n",
    "plt.plot(np.real(u),np.imag(u),'og',label='u')\n",
    "plt.rcParams[\"figure.figsize\"] = (6,3)\n",
    "plt.title(\"Elementi vektora v i u u kompleksnoj ravni\")\n",
    "plt.legend(loc='lower center', title='legenda');"
   ]
  },
  {
   "cell_type": "markdown",
   "metadata": {},
   "source": [
    "Primetimo da je\n",
    "$$\\varepsilon_r=e^{i\\frac{2\\pi}{r}}=e^{i\\frac{2\\pi}{2^q}}=e^{i\\frac{2\\pi}{2^{q-m+m}}}=e^{i\\frac{2\\pi}{2^m}2^{m-q}}\n",
    "=\\left(e^{i\\frac{2\\pi}{2^m}}\\right)^{2^{m-q}}=\\varepsilon_m^{2^{m-q}}.$$\n",
    "Zbog toga, izdvajanje elemenata $\\begin{bmatrix}1&\\varepsilon_r&\\varepsilon_r^{2}&\\dots&\\varepsilon_r^{r/2-1}\\end{bmatrix},\\quad r=2^q,\\ q=\\overline{1,m}$ znači izdvajanje elemenata vektora $v$ sa indeksima $\\begin{bmatrix}0&2^{m-q}&2\\cdot2^{m-q}&\\dots&(r/2-1)2^{m-q}\\end{bmatrix},\\quad r=2^q,\\ q=\\overline{1,m}.$ Narednim kodom se to postiže."
   ]
  },
  {
   "cell_type": "code",
   "execution_count": 147,
   "metadata": {},
   "outputs": [
    {
     "data": {
      "image/png": "[encoded data removed]",
      "text/plain": [
       "<Figure size 432x216 with 1 Axes>"
      ]
     },
     "metadata": {
      "needs_background": "light"
     },
     "output_type": "display_data"
    }
   ],
   "source": [
    "m=6\n",
    "q=1\n",
    "n=2**m\n",
    "fi=2*np.pi/n\n",
    "epsl=np.exp(fi*1j)\n",
    "v=epsl**np.arange(n/2)\n",
    "\n",
    "indeksi=np.arange(2**(q-1))*(2**(m-q))\n",
    "uindks=v[indeksi]\n",
    "plt.plot(np.real(v),np.imag(v),'ob',label='v')\n",
    "plt.plot(np.real(uindks),np.imag(uindks),'og',label='u')\n",
    "plt.rcParams[\"figure.figsize\"] = (6,3)\n",
    "plt.title(\"Elementi vektora v i u u kompleksnoj ravni\")\n",
    "plt.legend(loc='lower center', title='legenda');"
   ]
  },
  {
   "cell_type": "markdown",
   "metadata": {},
   "source": [
    "**Primer 6.** Realizacija različitih načina izračunavanja proizvoda dve matrice $C=AB$ zavisi od konkretne arhitekture računara. Zbog toga ekvivalenetne matematičke formule se mogu izvršavati različitim brzinama. Proverićemo to narednim kodom. Operacije ćemo vršiti nad dvema matricama sa slučajno izabranim vrednostima."
   ]
  },
  {
   "cell_type": "code",
   "execution_count": 148,
   "metadata": {},
   "outputs": [],
   "source": [
    "m,n=20,15\n",
    "A=rndm.rand(m,n)\n",
    "B=rndm.rand(n,m)"
   ]
  },
  {
   "cell_type": "markdown",
   "metadata": {},
   "source": [
    "Proverićemo prvo ugrađenu funkciju kako bismo razumeli prednosti ugrađene vektorizacije izračunavanja."
   ]
  },
  {
   "cell_type": "code",
   "execution_count": 149,
   "metadata": {},
   "outputs": [
    {
     "name": "stdout",
     "output_type": "stream",
     "text": [
      "Vreme izvrsenja množenja:  6.41999995423248e-05 sec\n"
     ]
    }
   ],
   "source": [
    "start = timer()\n",
    "C=A@B\n",
    "end = timer()\n",
    "print(\"Vreme izvrsenja množenja: \",end - start,\"sec\")\n",
    "#print(\"AB= \",np.round(C,3))"
   ]
  },
  {
   "cell_type": "markdown",
   "metadata": {},
   "source": [
    "Sledi izračunavanje proizvoda matrica preko unutrašnjih proizvoda odgovarajućih vektora."
   ]
  },
  {
   "cell_type": "code",
   "execution_count": 150,
   "metadata": {},
   "outputs": [
    {
     "name": "stdout",
     "output_type": "stream",
     "text": [
      "Vreme izvrsenja množenja:  0.0014567999987775693 sec\n"
     ]
    }
   ],
   "source": [
    "start = timer()\n",
    "C1=np.empty((m,m))  #alokacija memorijskog prostora za smestaj rezultata\n",
    "for i in range(m):\n",
    "    for j in range(m):\n",
    "        C1[i,j]=np.dot(A[i],B[:,j])\n",
    "end = timer()\n",
    "print(\"Vreme izvrsenja množenja: \",end - start,\"sec\")"
   ]
  },
  {
   "cell_type": "code",
   "execution_count": 151,
   "metadata": {},
   "outputs": [
    {
     "data": {
      "text/plain": [
       "1.7763568394002505e-15"
      ]
     },
     "execution_count": 151,
     "metadata": {},
     "output_type": "execute_result"
    }
   ],
   "source": [
    "np.max(np.abs(C-C1))"
   ]
  },
  {
   "cell_type": "markdown",
   "metadata": {},
   "source": [
    "Primenićemo sada izračunavanje proizvoda matrica preko spoljašnjih proizvoda odgovarajućih vektora."
   ]
  },
  {
   "cell_type": "code",
   "execution_count": 152,
   "metadata": {},
   "outputs": [
    {
     "name": "stdout",
     "output_type": "stream",
     "text": [
      "Vreme izvrsenja množenja:  0.00044779999916499946 sec\n"
     ]
    }
   ],
   "source": [
    "start = timer()\n",
    "C2=np.zeros((m,m))  \n",
    "for i in range(n):\n",
    "    C2+=np.outer(A[:,i],B[i])\n",
    "end = timer()\n",
    "print(\"Vreme izvrsenja množenja: \",end - start,\"sec\")"
   ]
  },
  {
   "cell_type": "code",
   "execution_count": 153,
   "metadata": {},
   "outputs": [
    {
     "data": {
      "text/plain": [
       "0.0"
      ]
     },
     "execution_count": 153,
     "metadata": {},
     "output_type": "execute_result"
    }
   ],
   "source": [
    "np.max(np.abs(C-C2))"
   ]
  },
  {
   "cell_type": "markdown",
   "metadata": {},
   "source": [
    "Primenićemo sada izračunavanje proizvoda matrica preko proizvoda matrice i kolona."
   ]
  },
  {
   "cell_type": "code",
   "execution_count": 154,
   "metadata": {},
   "outputs": [
    {
     "name": "stdout",
     "output_type": "stream",
     "text": [
      "Vreme izvrsenja množenja:  0.00041959999907703605 sec\n"
     ]
    }
   ],
   "source": [
    "start = timer()\n",
    "C3=np.empty((m,m))  \n",
    "for i in range(m):\n",
    "    C3[:,i]=A@B[:,i]\n",
    "end = timer()\n",
    "print(\"Vreme izvrsenja množenja: \",end - start,\"sec\")"
   ]
  },
  {
   "cell_type": "code",
   "execution_count": 155,
   "metadata": {},
   "outputs": [
    {
     "data": {
      "text/plain": [
       "0.0"
      ]
     },
     "execution_count": 155,
     "metadata": {},
     "output_type": "execute_result"
    }
   ],
   "source": [
    "np.max(np.abs(C-C3))"
   ]
  },
  {
   "cell_type": "markdown",
   "metadata": {},
   "source": [
    "Primenićemo sada izračunavanje proizvoda matrica preko proizvoda vrsta i matrice."
   ]
  },
  {
   "cell_type": "code",
   "execution_count": 156,
   "metadata": {},
   "outputs": [
    {
     "name": "stdout",
     "output_type": "stream",
     "text": [
      "Vreme izvrsenja množenja:  0.0004903999997623032 sec\n"
     ]
    }
   ],
   "source": [
    "start = timer()\n",
    "C4=np.empty((m,m))  #alokacija memorijskog prostora za smestaj rezultata\n",
    "for i in range(m):\n",
    "    C4[i]=A[i]@B\n",
    "end = timer()\n",
    "print(\"Vreme izvrsenja množenja: \",end - start,\"sec\")"
   ]
  },
  {
   "cell_type": "code",
   "execution_count": 157,
   "metadata": {},
   "outputs": [
    {
     "data": {
      "text/plain": [
       "0.0"
      ]
     },
     "execution_count": 157,
     "metadata": {},
     "output_type": "execute_result"
    }
   ],
   "source": [
    "np.max(np.abs(C-C4))"
   ]
  }
 ],
 "metadata": {
  "kernelspec": {
   "display_name": "Python 3",
   "language": "python",
   "name": "python3"
  },
  "language_info": {
   "codemirror_mode": {
    "name": "ipython",
    "version": 3
   },
   "file_extension": ".py",
   "mimetype": "text/x-python",
   "name": "python",
   "nbconvert_exporter": "python",
   "pygments_lexer": "ipython3",
   "version": "3.7.16"
  }
 },
 "nbformat": 4,
 "nbformat_minor": 4
}
