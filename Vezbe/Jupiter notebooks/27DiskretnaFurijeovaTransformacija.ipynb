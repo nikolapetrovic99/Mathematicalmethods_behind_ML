{
 "cells": [
  {
   "cell_type": "markdown",
   "metadata": {},
   "source": [
    "# Diskretna Furijeova transformacija\n",
    "\n",
    "Sadržaj:\n",
    "1. [Trigonometrijska interpolacija](#Trigonometrijska-interpolacija)\n",
    "1. [Furijeova matrica](#Furijeova-matrica)\n",
    "1. [Brza Furijeova transformacija - FFT](#Brza-Furijeova-transformacija---FFT)\n",
    "1. [Konvolucija](#Konvolucija)"
   ]
  },
  {
   "cell_type": "code",
   "execution_count": 1,
   "metadata": {},
   "outputs": [],
   "source": [
    "import numpy as np\n",
    "from timeit import default_timer as timer\n",
    "import numpy.random as rndm"
   ]
  },
  {
   "cell_type": "markdown",
   "metadata": {},
   "source": [
    "## Trigonometrijska interpolacija"
   ]
  },
  {
   "cell_type": "markdown",
   "metadata": {},
   "source": [
    "Unitarne matrice su ortogonalne matrice u odnosu na skalarni proizvod kompleksnih vektora,\n",
    "$$Q^HQ=QQ^H=I.$$\n",
    "Kolone (i vrste) unitarne matrice $Q\\in\\mathcal{M}_{n\\times n}$ čine ortonormiranu bazu vektora u $\\mathbb{C}^n.$ Po analogiji sa ortogonalnim matricama,\tunitarne matrice predstavljaju izometrije kompleksnog vektorskog prostora $\\mathbb{C}^n$ jer čuvaju standardni skalarni proizvod ovog prostora,\n",
    "\t$$u\\cdot v=v^Hu=v^HIu=v^HQ^HQu=(Qv)^H(Qu)=(Qu)\\cdot(Qv).$$"
   ]
  },
  {
   "cell_type": "markdown",
   "metadata": {},
   "source": [
    "Nerednim primerom uspostvljamo vezu između diskretne Furijeove transformacije vektora vrednosti $y=\\begin{bmatrix}y_0&y_1&\\dots&y_{N-1}\\end{bmatrix}:$\n",
    "$$a_0=\\dfrac{f(t)\\cdot\\cos(0t)}{\\cos(0t)\\cdot\\cos(0t)}=\\dfrac{1}{N}\\sum_{k=0}^{N-1}y_k,\\qquad a_m=\\dfrac{f(t)\\cdot\\cos(mt)}{\\cos(mt)\\cdot\\cos(mt)}=\\dfrac{2}{N}\\sum_{k=0}^{N-1}y_k\\cos(mt_k),$$\n",
    "$$b_m=\\dfrac{f(t)\\cdot\\sin(mt)}{\\sin(mt)\\cdot\\sin(mt)}=\\dfrac{2}{N}\\sum_{k=0}^{N-1}y_k\\sin(mt_k), $$\n",
    "i jedne veoma važne unitarne matrice - Furijeove matrice. "
   ]
  },
  {
   "cell_type": "markdown",
   "metadata": {},
   "source": [
    "**Primer 1.** Nek aje dat diskretan skup podataka $S_N$ koji pokazuje određena svojstva periodičnosti. Želimo podatke da interpoliramo trigonometrijskim polinomom. Zbog jednostavnosti zapisa pretpostavićemo za početak da je skup podataka koji se interpolira zadat neparnim brojem  elemenata $N=2n+1$,\n",
    "$$S_{2n+1}=\\left\\{(t_k,y_k)\\ |\\ t_k=\\dfrac{2k\\pi}{2n+1},\\qquad k=0,1,\\dots,2n\\right\\}.$$  \n",
    "Trigonometrijski interpolacioni problem podrazumeva određivanje $2n+1$ nepoznatih koeficijenata trigonometrijskog polinoma $T_n(t),$ stepena $n,$\n",
    "$$\n",
    "T_n(t)=a_0+\\sum_{j=1}^n\\Big(a_j\\cos(j t)+b_j\\sin(j t)\\Big),\n",
    "$$\n",
    "koji zadovoljava interpolacione uslove $T_n(t_k)=y_k.$ Iskoristićemo Ojlerove jednakosti \n",
    "\\begin{align}\n",
    "&\\cos\\varphi+i\\sin\\varphi=e^{i\\varphi},\\qquad &&\\cos\\varphi-i\\sin\\varphi=e^{-i\\varphi}\\\\\n",
    "&\\cos\\varphi=\\dfrac{e^{i\\varphi}+e^{-i\\varphi}}2,\\qquad && \\sin\\varphi=\\dfrac{e^{i\\varphi}-e^{-i\\varphi}}{2i}\n",
    "\\end{align}\n",
    "za kompaktniji zapis polinoma $T_n(t):$\n",
    "\\begin{align}\n",
    "T_n(t)&=a_0+\\sum_{j=1}^n\\Big(a_j\\dfrac{e^{ij t}+e^{-i j t}}2+b_j\\dfrac{e^{i j t}-e^{-i j t}}{2i}\\Big)\n",
    "=a_0+\\sum_{j=1}^n\\Big(a_j\\dfrac{e^{ij t}e^{-i j t}}2-ib_j\\dfrac{e^{i j t}-e^{-i j t}}{2}\\Big)\\\\\n",
    "&=a_0+\\sum_{j=1}^n\\Big(e^{ij t}\\dfrac{a_j-ib_j}2+e^{-i j t}\\dfrac{a_j+ib_j}{2}\\Big)\n",
    "\\end{align}"
   ]
  },
  {
   "cell_type": "markdown",
   "metadata": {},
   "source": [
    "Uvedimo ozanke $z=z(t)=e^{it},\\quad c_0=a_0,\\quad c_j=\\dfrac{a_j-ib_j}{2},\\quad c_{-j}=\\dfrac{a_j+ib_j}{2},\\quad j=1,2,\\dots,n.$ Trigonometrijski polinom tada postaje\n",
    "$$T_n(t)=c_0+\\sum_{j=1}^n\\left(c_j z^j+c_{-j}z^{-j}\\right).$$"
   ]
  },
  {
   "cell_type": "markdown",
   "metadata": {},
   "source": [
    "Interpolacioni uslovi $T_n(t_k)=y_k$ onda mogu da se zapišu u obliku:\n",
    "\\begin{align}\n",
    "z_k&=e^{it_k}=e^{i\\frac{2k\\pi}{2n+1}}=\\big(e^{i\\frac{2\\pi}{2n+1}}\\big)^k=z_1^k,\\qquad z_k^{2n+1}=1,\\\\\n",
    "T_n(t_k)&=c_0+\\sum_{j=1}^n\\left(c_j z_k^j+c_{-j}z_k^{-j}\\right)=c_0+\\sum_{j=1}^n\\left(c_j z_1^{kj}+c_{-j}z_1^{-kj}\\right)\\\\\n",
    "&=c_0+\\sum_{j=1}^n\\left(c_j z_1^{kj}+c_{-j}z_1^{(2n+1-j)k}\\right)=c_0+\\sum_{j=1}^n\\left(c_j z_k^{j}+c_{-j}z_k^{2n+1-j}\\right)\\\\\n",
    "&=c_0+c_1z_k+c_2z_k^2+\\dots+c_nz_k^n+c_{-n}z_k^{n+1}+c_{-(n-1)}z_k^{n+2}+\\dots+c_{-1}z_k^{2n}.\n",
    "\\end{align}\n",
    "Drugim rečima, problem se svodi na određivanje koeficijenata interpolacionog algebarskog polinoma \n",
    "$$P_{2n}(z)\\equiv c_{2n}=\\begin{bmatrix}c_0&c_1&\\dots&c_n&c_{-n}&\\dots&c_{-1}\\end{bmatrix}^T$$ na skupu podataka $(z_k,y_k).$ Poznato je da je matrica transformacije između dva vektora $c_{2n}$ i $y$ Vandermondova matrica čvorova $V(z_0,z_1,\\dots,z_{2n}),$\n",
    "$$V(z_0,z_1,\\dots,z_{2n})\\,c_{2n}=y,\\qquad c_{2n}=V(z_0,z_1,\\dots,z_{2n})^{-1}y.$$"
   ]
  },
  {
   "cell_type": "markdown",
   "metadata": {},
   "source": [
    "Analogni izraz se dobija i u slučaju skupa podataka $S_N$ sa parnim brojem elemenata $N=2n$. Jedina razlika je što koeficijent $b_n$ nije definisan, pa je se postavlja $b_n=0.$"
   ]
  },
  {
   "cell_type": "markdown",
   "metadata": {},
   "source": [
    "## Furijeova matrica"
   ]
  },
  {
   "cell_type": "markdown",
   "metadata": {},
   "source": [
    "U radnoj svesci 26OrtogonalneFunkcije pokazano je da su kolone (i vrste) matrice $V(z_0,z_1,\\dots,z_{N})$ ortogonalne i norme $N,$ odnosno \n",
    "$$V(z_0,z_1,\\dots,z_{N-1})^HV(z_0,z_1,\\dots,z_{N-1})=V(z_0,z_1,\\dots,z_{N-1})V(z_0,z_1,\\dots,z_{N-1})^H=NI_N.$$\n",
    "Odatle je \n",
    "$$V(z_0,z_1,\\dots,z_{N-1})^{-1}=\\dfrac1N V(z_0,z_1,\\dots,z_{N-1})^H=\\dfrac1NV(z_1^0,z_1,\\dots,z_{1}^{N-1})^H.$$\n",
    "Ako uvedemo oznaku $w=e^{-i\\frac{2\\pi}{n}}=\\overline{z_1}$ Furijeova matrica je normalizovana Vandermondova matrica \n",
    "kompleksnih korena broja $1:$\n",
    "$$F_n=\\dfrac{1}{\\sqrt{N}}V(1,w,w^2,\\dots,w^{N-1})\n",
    "=\\dfrac{1}{\\sqrt{N}}\\big[w^{kj}\\big]_{k,j=0}^{N-1}=\\dfrac{1}{\\sqrt{N}}\n",
    "\\begin{bmatrix}1&1&1&\\dots&1\\\\\n",
    "1&w&w^2&\\dots&w^{N-1}\\\\\n",
    "1&w^2&w^4&\\dots&w^{2(N-1)}\\\\\n",
    "\\vdots&\\vdots&\\vdots&\\ddots&\\vdots\\\\\n",
    "1&w^{N-1}&w^{2(N-1)}&\\dots&w^{(N-1)(N-1)}\n",
    "\\end{bmatrix},$$\n",
    "Furijeova matrica je simetrična unitarna matrica, tj. važi\n",
    "$$F_n^HF_n=I=F_nF_n^H,\\qquad\\qquad F_n^T=F_n.$$"
   ]
  },
  {
   "cell_type": "markdown",
   "metadata": {},
   "source": [
    "Označimo kraće Vandermondovu matricu $V_N=V(1,w,w^2,\\dots,w^{N-1}).$ Zbog načina implementacije na većini hardvera i u okviru programskih paketa, proizvode  $V_Nv$ i $\\dfrac1N\\overline{V_N}v$  koristićemo kao diskretnu i inverznu diskretnu Furijeovu transformaciju. To ćemo kraće označavati DFT$(N,v)$ i IDFT$(N, v),$ redom. \n",
    "\\begin{align}\n",
    "&DFT(N,v)=V_Nv,\\\\\n",
    "&IDFT(N,v)=V_N^{-1}v=\\dfrac1N\\overline{V_N}v.\n",
    "\\end{align}\n",
    "Algoritmi kojima se sprovode efikasno izračunavanja ovih proizvoda zovemo brza Furijeova transformacija."
   ]
  },
  {
   "cell_type": "markdown",
   "metadata": {},
   "source": [
    "Ključne osobine slede iz prethodne analize: $DFT$ je linearna transformacija koja poseduje inverznu transformaciju. Za vektor realnih komponenti $DFT$ vraća vektor sa konjugovanim parocima vrednosti. Iz tog razloga nije neophodno izračunavanje celog vektora $DFT$ već samo njegove jedne polovine. Na osnovu uvedene veze između komponenti $c=DFT(y)$ i koeficijenata $a_k,b_k$ imamo\n",
    "$$a_k=2{\\rm Re}\\big(\\frac{c_k}{N}\\big),\\qquad b_k=-2{\\rm Im}\\big(\\frac{c_k}{N}\\big).$$\n",
    "Proverićemo to na konkretnom primeru."
   ]
  },
  {
   "cell_type": "code",
   "execution_count": 15,
   "metadata": {},
   "outputs": [
    {
     "name": "stdout",
     "output_type": "stream",
     "text": [
      "0.013184301347158246 [-0.10343622 -0.46351581  0.22546575  0.08200447]\n",
      "[-0.01218794 -0.2528891   2.27414075  0.17792719]\n"
     ]
    }
   ],
   "source": [
    "N=10\n",
    "n=int(np.floor((N-1)/2))\n",
    "tk=2*np.pi*np.arange(N)/N\n",
    "y=np.cos(5*tk)+2*np.sin(13*tk)+0.5*rndm.randn(N)\n",
    "a0=y.mean()\n",
    "am=np.empty(n)\n",
    "bm=np.empty(n)\n",
    "for k in range(n):\n",
    "    am[k]=2*np.dot(y,np.cos((k+1)*tk))/N\n",
    "    bm[k]=2*np.dot(y,np.sin((k+1)*tk))/N \n",
    "print(a0,am)\n",
    "print(bm)"
   ]
  },
  {
   "cell_type": "code",
   "execution_count": 20,
   "metadata": {},
   "outputs": [
    {
     "data": {
      "text/plain": [
       "(0.013184301347158246,\n",
       " array([-0.10343622, -0.46351581,  0.22546575,  0.08200447]))"
      ]
     },
     "execution_count": 20,
     "metadata": {},
     "output_type": "execute_result"
    }
   ],
   "source": [
    "c=np.fft.fft(y)/N\n",
    "np.real(c[0]),2*np.real(c[1:n+1])"
   ]
  },
  {
   "cell_type": "code",
   "execution_count": 21,
   "metadata": {},
   "outputs": [
    {
     "data": {
      "text/plain": [
       "array([-0.01218794, -0.2528891 ,  2.27414075,  0.17792719])"
      ]
     },
     "execution_count": 21,
     "metadata": {},
     "output_type": "execute_result"
    }
   ],
   "source": [
    "-2*np.imag(c[1:n+1])"
   ]
  },
  {
   "cell_type": "markdown",
   "metadata": {},
   "source": [
    "## Brza Furijeova transformacija - FFT\n",
    "\n",
    "Iza oznake FFT ne stoji jedan postupak već familija raznovrsnih algoritama kreiranih za efikasno izračunavanje različitih oblika DFT. Zainteresovani studenti mogu pogledati npr. [rad1](https://pdfs.semanticscholar.org/9cd4/d0cee6c22a65dd6e5ae51c9b6cdbaeb550df.pdf), [rad2](https://booksc.xyz/book/44878835/4c58fa), [rad3](https://booksc.xyz/book/75460622/d71d6d) ili [knjigu](https://1lib.eu/book/5402909/4ed93d). Pokazatelj značaja ovog postupka širom inženjerskih disciplina je činjenica da se odgovarajući algoritmi sve više implementiraju kao hardversko, a ne samo kao softversko rešenje.  Algoritmi koji su specijalizovani za izračunavanje diskretnih Furijeovih transformacija realnih nizova označavaju se kraće RFFT (Real Fast Fourier Transform) i IRFFT (Inverse Real Fast Fourier Transform).  U okviru kursa koristićemo univerzalnu oznaku FFT za sve navedene transformacije."
   ]
  },
  {
   "cell_type": "markdown",
   "metadata": {},
   "source": [
    "Osnovu brzih algoritama FFT čini posebno svojstvo Vandermondove matrice $V_N$ parne dimenzije $N=2n.$ Blok oblik matrice $V_N$ \n",
    "$$V_{N}P=V_{2n}P=\n",
    " \\begin{bmatrix} V_n & D_nV_n\\\\  V_n & -D_nV_n\\end{bmatrix}, $$\n",
    " gde je $P$ tzv. par-nepar permutaciona matrica,\n",
    "omogućava relaksaciju u broju neophodnih aritmetičkih operacija potrebnih za izračunavanje proizvoda $V_Nv.$"
   ]
  },
  {
   "cell_type": "markdown",
   "metadata": {},
   "source": [
    "**Teorema 1.** Neka je $v\\in\\mathbb{C}^N, N=2^n$ realan vektor. Broj potrebnih operacija množenja kompleksnih brojeva za izračunavanje proizvoda $V_Nv$ je \n",
    "$$\\dfrac{N}{2}\\log_2N=\\mathcal{O}(N\\log_2N)\n",
    "=\\mathcal{O}(n2^n).$$"
   ]
  },
  {
   "cell_type": "markdown",
   "metadata": {},
   "source": [
    "**Primer 1.** Uporedićemo procesorsko vreme izvršenja proizvoda $Av$  i transformacije $FFT(n,v)$ za vektor $v\\in\\mathbb{R}^{n}$ velike dimenzije, gde je $A\\in\\mathcal{M}_{n\\times n}$ kompleksna matrica. Matrica $A$ i vektor $v$ su slučajno generisani. Na taj način eksperiment možemo da ponovimo proizvoljan broj puta kako bismo potvrdili razliku u vremenima izvršenja. Za izračunavanje same transformacije koristićemo `numpy.fft` [paket](#https://numpy.org/doc/stable/reference/routines.fft.html) i njegove ugrađene funkcije."
   ]
  },
  {
   "cell_type": "code",
   "execution_count": 2,
   "metadata": {},
   "outputs": [],
   "source": [
    "n=2**10\n",
    "A=rndm.normal(1,2,(n,n))+1j*2.3\n",
    "v=rndm.normal(0,2,(n,1))"
   ]
  },
  {
   "cell_type": "code",
   "execution_count": 3,
   "metadata": {},
   "outputs": [
    {
     "name": "stdout",
     "output_type": "stream",
     "text": [
      "Vreme izracunavanja:  0.009935799999999162 sec\n"
     ]
    }
   ],
   "source": [
    "start = timer()\n",
    "A@v\n",
    "end = timer()\n",
    "print(\"Vreme izracunavanja: \",end - start,\"sec\")"
   ]
  },
  {
   "cell_type": "code",
   "execution_count": 4,
   "metadata": {
    "scrolled": true
   },
   "outputs": [
    {
     "name": "stdout",
     "output_type": "stream",
     "text": [
      "Vreme izracunavanja:  0.0001458000000003068 sec\n"
     ]
    }
   ],
   "source": [
    "start = timer()\n",
    "np.fft.fft(v)\n",
    "end = timer()\n",
    "print(\"Vreme izracunavanja: \",end - start,\"sec\")"
   ]
  },
  {
   "cell_type": "markdown",
   "metadata": {},
   "source": [
    "**Zadatak 1.** Izračunati DFT i IDFT sledećih vektora.\n",
    "\\begin{array}{rlcrl}\n",
    "         a)&y=\\begin{bmatrix} 1&-1&0&-1\\end{bmatrix}^T && b)& y=\\begin{bmatrix} 1&-1&-1&1\\end{bmatrix}^T\\\\\n",
    "         c)&y=\\begin{bmatrix} 1&i&i&1\\end{bmatrix}^T && d)& y=\\begin{bmatrix} 1&-i&i&-1\\end{bmatrix}^T.\n",
    "\\end{array}\n"
   ]
  },
  {
   "cell_type": "markdown",
   "metadata": {},
   "source": [
    "**Rešenje :**\n",
    "\n",
    "Ideju iza brzog postupka izračunavanja ovih prozvoda upoznaćemo kroz primere. Označimo sa $P$ matricu par-nepar permutacije,\n",
    "$$P=\\begin{bmatrix}1&0&0&0\\\\0&0&1&0\\\\0&1&0&0\\\\0&0&0&1\\end{bmatrix}.$$"
   ]
  },
  {
   "cell_type": "markdown",
   "metadata": {},
   "source": [
    "a) $y=\\begin{bmatrix} 1&-1&0&-1\\end{bmatrix}^T,$\n",
    "\\begin{align}\n",
    "    {\\rm DFT}(4,y)&=V_4y=V_4PP^Ty=\\left[\\begin{array}{cc|cc}\n",
    "    1&1&1&1\\\\1&-1&-i&i\\\\\\hline1&1&-1&-1\\\\1&-1&i&-i\\end{array}\\right]\n",
    "    \\begin{bmatrix} 1\\\\0\\\\\\hline-1\\\\-1\\end{bmatrix}\\quad \\Longrightarrow\\\\\n",
    "    {\\rm DFT}(2,y_{parno})&=V_2y_{parno}=\\begin{bmatrix}1&1\\\\1&-1\\end{bmatrix}\n",
    "    \\begin{bmatrix} 1\\\\0\\end{bmatrix}=\\begin{bmatrix} 1\\\\1\\end{bmatrix},\\\\\n",
    "    {\\rm DFT}(2,y_{neparno})&=V_2y_{neparno}=\\begin{bmatrix}1&1\\\\1&-1\\end{bmatrix}\\begin{bmatrix} -1\\\\-1\\end{bmatrix}=\n",
    "    \\begin{bmatrix} -2\\\\0\\end{bmatrix}\\\\\n",
    "    D\\,V_2\\,y_{neparno}&=\\begin{bmatrix}1&0\\\\0&-i\\end{bmatrix}\n",
    "    \\begin{bmatrix} -2\\\\0\\end{bmatrix}\n",
    "    =\\begin{bmatrix} -2\\\\0\\end{bmatrix}\\\\\n",
    "    {\\rm DFT}(4,y)&=\\begin{bmatrix} {\\rm DFT}(2,y_{parno})+D\\,{\\rm DFT}(2,y_{neparno})\\\\\n",
    "    {\\rm DFT}(2,y_{parno})-D\\,{\\rm DFT}(2,y_{neparno})\\end{bmatrix}=\\begin{bmatrix}-1\\\\1\\\\3\\\\1\\end{bmatrix}.\n",
    "\\end{align}"
   ]
  },
  {
   "cell_type": "markdown",
   "metadata": {},
   "source": [
    "Inače, rezultat možemo da proverimo standardnim množenjem matrica:\n",
    "\\begin{align}\n",
    "    V_4y&=\\begin{bmatrix}1&1&1&1\\\\1&-i&-1&i\\\\1&-1&1&-1\\\\1&i&-1&-i\\end{bmatrix}\n",
    "    \\begin{bmatrix} 1\\\\-1\\\\0\\\\-1\\end{bmatrix}=\\begin{bmatrix}-1\\\\1\\\\3\\\\1\\end{bmatrix}.\n",
    "\\end{align}\n",
    "\n",
    "Za inverznu transformaciju imamo:\n",
    "\n",
    "${\\rm IDFT}(y)=V_4^{-1}y=\\frac14\\overline{V_4}y=\\dfrac14\\overline{V_4\\overline{y}}=4\\overline{V_4y}=\\frac14\\begin{bmatrix}-1&1&3&1\\end{bmatrix}^T.$"
   ]
  },
  {
   "cell_type": "markdown",
   "metadata": {},
   "source": [
    "Naredba u Pythonu kojom se izračunava diskretna Furijeova transformacija je `numpy.fft.fft` dok je inverzna diskretna Furijeova transformacija implementirana u Pythonu kao `numpy.fft.ifft`."
   ]
  },
  {
   "cell_type": "code",
   "execution_count": 9,
   "metadata": {},
   "outputs": [
    {
     "data": {
      "text/plain": [
       "array([-1.+0.j,  1.+0.j,  3.+0.j,  1.+0.j])"
      ]
     },
     "execution_count": 9,
     "metadata": {},
     "output_type": "execute_result"
    }
   ],
   "source": [
    "y=np.array([1,-1,0,-1])\n",
    "np.fft.fft(y)"
   ]
  },
  {
   "cell_type": "code",
   "execution_count": 10,
   "metadata": {},
   "outputs": [
    {
     "data": {
      "text/plain": [
       "array([-0.25+0.j,  0.25+0.j,  0.75+0.j,  0.25+0.j])"
      ]
     },
     "execution_count": 10,
     "metadata": {},
     "output_type": "execute_result"
    }
   ],
   "source": [
    "np.fft.ifft(y)"
   ]
  },
  {
   "cell_type": "markdown",
   "metadata": {},
   "source": [
    "b) $y=\\begin{bmatrix} 1&-1&-1&1\\end{bmatrix}^T,$\n",
    "\\begin{align}\n",
    "V_2y_{parno}&=\\begin{bmatrix}1&1\\\\1&-1\\end{bmatrix}\\begin{bmatrix} 1\\\\-1\\end{bmatrix}\n",
    "=\\begin{bmatrix} 0\\\\2\\end{bmatrix},\\\\\n",
    "    V_2y_{neparno}&=\\begin{bmatrix}1&1\\\\1&-1\\end{bmatrix}\\begin{bmatrix} -1\\\\1\\end{bmatrix}=\n",
    "    \\begin{bmatrix} 0\\\\-2\\end{bmatrix}\\\\ \n",
    "    DV_2y_{neparno}&=\\begin{bmatrix}1&0\\\\0&-i\\end{bmatrix}\\begin{bmatrix} 0\\\\-2\\end{bmatrix}\n",
    "    =\\begin{bmatrix} 0\\\\2i\\end{bmatrix}\\\\\n",
    "     V_4y&=\\begin{bmatrix} V_2y_{parno}+DV_2y_{neparno}\\\\\n",
    "    V_2y_{parno}-DV_2y_{neparno}\\end{bmatrix}=\\begin{bmatrix}0\\\\2+2i\\\\0\\\\2-2i\\end{bmatrix}.\\\\\n",
    "    V_4^{-1}y&=\\dfrac14\\overline{V_4}y=\\dfrac14\\overline{V_4\\overline{y}}=\\dfrac14\\overline{V_4y}=\\dfrac12\\begin{bmatrix}0&1-i&0&1+i\\end{bmatrix}^T.\n",
    "\\end{align}"
   ]
  },
  {
   "cell_type": "code",
   "execution_count": 11,
   "metadata": {},
   "outputs": [
    {
     "data": {
      "text/plain": [
       "array([0.+0.j, 2.+2.j, 0.+0.j, 2.-2.j])"
      ]
     },
     "execution_count": 11,
     "metadata": {},
     "output_type": "execute_result"
    }
   ],
   "source": [
    "y=np.array([1,-1,-1,1])\n",
    "np.fft.fft(y)"
   ]
  },
  {
   "cell_type": "code",
   "execution_count": 12,
   "metadata": {},
   "outputs": [
    {
     "data": {
      "text/plain": [
       "array([0. +0.j , 0.5-0.5j, 0. +0.j , 0.5+0.5j])"
      ]
     },
     "execution_count": 12,
     "metadata": {},
     "output_type": "execute_result"
    }
   ],
   "source": [
    "np.fft.ifft(y)"
   ]
  },
  {
   "cell_type": "markdown",
   "metadata": {},
   "source": [
    "c) $y=\\begin{bmatrix} 1&i&i&1\\end{bmatrix}^T,$\n",
    "\\begin{align}\n",
    "V_2y_{parno}&=\\begin{bmatrix}1&1\\\\1&-1\\end{bmatrix}\n",
    "\\begin{bmatrix} 1\\\\i\\end{bmatrix}=\\begin{bmatrix} 1+i\\\\1-i\\end{bmatrix},\\\\\n",
    "    V_2y_{neparno}&=\\begin{bmatrix}1&1\\\\1&-1\\end{bmatrix}\\begin{bmatrix} i\\\\1\\end{bmatrix}=\n",
    "    \\begin{bmatrix} 1+i\\\\i-1\\end{bmatrix},\\\\ \n",
    "    DV_2y_{neparno}&=\\begin{bmatrix}1&0\\\\0&-i\\end{bmatrix}\\begin{bmatrix} 1+i\\\\i-1\\end{bmatrix}\n",
    "    =\\begin{bmatrix} 1+i\\\\1+i\\end{bmatrix}\\\\\n",
    "     V_4y&=\\begin{bmatrix} V_2y_{parno}+DV_2y_{neparno}\\\\\n",
    "    V_2y_{parno}-DV_2y_{neparno}\\end{bmatrix}=\\begin{bmatrix}2+2i\\\\2\\\\0\\\\-2i\\end{bmatrix}.\n",
    "\\end{align}  "
   ]
  },
  {
   "cell_type": "markdown",
   "metadata": {},
   "source": [
    "Kako je matrica $V_2$ realna važiće sledeće:\n",
    "\\begin{align}\n",
    "    V_4^{-1}y&=\\dfrac14\\overline{V_4}y=\\dfrac14\\overline{V_4\\overline{y}},\\\\\n",
    "    V_2\\overline{y_{parno}}&=\\overline{V_2y_{parno}}=\\begin{bmatrix} 1-i\\\\1+i\\end{bmatrix},\\qquad\n",
    "    V_2\\overline{y_{neparno}}=\\overline{V_2y_{neparno}}=\n",
    "    \\begin{bmatrix} 1-i\\\\-1-i\\end{bmatrix}\\\\ \n",
    "    DV_2\\overline{y_{neparno}}&=\\begin{bmatrix}1&0\\\\0&-i\\end{bmatrix}\\begin{bmatrix} 1-i\\\\-1-i\\end{bmatrix}\n",
    "    =\\begin{bmatrix} 1-i\\\\-1+i\\end{bmatrix},\\\\\n",
    "    V_4^{-1}y&=\\dfrac14\\overline{\\begin{bmatrix} V_2\\overline{y_{parno}}+DF_2\\overline{y_{neparno}}\\\\\n",
    "    V_2\\overline{y_{parno}}-DV_2\\overline{y_{neparno}}\\end{bmatrix}}\n",
    "    =\\dfrac14\\overline{\\begin{bmatrix}2-2i\\\\2i\\\\0\\\\2\\end{bmatrix}}\n",
    "    =\\dfrac14\\begin{bmatrix}2+2i\\\\-2i\\\\0\\\\2\\end{bmatrix}\n",
    "    =\\dfrac12\\begin{bmatrix}1+i\\\\-i\\\\0\\\\1\\end{bmatrix}.\n",
    "\\end{align}"
   ]
  },
  {
   "cell_type": "code",
   "execution_count": 13,
   "metadata": {},
   "outputs": [
    {
     "data": {
      "text/plain": [
       "array([2.+2.j, 2.+0.j, 0.+0.j, 0.-2.j])"
      ]
     },
     "execution_count": 13,
     "metadata": {},
     "output_type": "execute_result"
    }
   ],
   "source": [
    "y=np.array([1,1j,1j,1])\n",
    "np.fft.fft(y)"
   ]
  },
  {
   "cell_type": "code",
   "execution_count": 14,
   "metadata": {},
   "outputs": [
    {
     "data": {
      "text/plain": [
       "array([0.5+0.5j, 0. -0.5j, 0. +0.j , 0.5+0.j ])"
      ]
     },
     "execution_count": 14,
     "metadata": {},
     "output_type": "execute_result"
    }
   ],
   "source": [
    "np.fft.ifft(y)"
   ]
  },
  {
   "cell_type": "markdown",
   "metadata": {},
   "source": [
    "d) Transformacije vektora $y=\\begin{bmatrix} 1&-i&i&-1\\end{bmatrix}^T$ i $y=\\begin{bmatrix}1&-1&0&1\\end{bmatrix}^T$ izračunaćemo pomoću ugrađenih naredbi Pythona."
   ]
  },
  {
   "cell_type": "code",
   "execution_count": 15,
   "metadata": {},
   "outputs": [
    {
     "data": {
      "text/plain": [
       "array([0.+0.j, 0.-2.j, 2.+2.j, 2.+0.j])"
      ]
     },
     "execution_count": 15,
     "metadata": {},
     "output_type": "execute_result"
    }
   ],
   "source": [
    "y=np.array([1,-1j,1j,-1])\n",
    "np.fft.fft(y)   "
   ]
  },
  {
   "cell_type": "code",
   "execution_count": 16,
   "metadata": {},
   "outputs": [
    {
     "data": {
      "text/plain": [
       "array([0. +0.j , 0.5+0.j , 0.5+0.5j, 0. -0.5j])"
      ]
     },
     "execution_count": 16,
     "metadata": {},
     "output_type": "execute_result"
    }
   ],
   "source": [
    "np.fft.ifft(y)   "
   ]
  },
  {
   "cell_type": "code",
   "execution_count": 17,
   "metadata": {},
   "outputs": [
    {
     "data": {
      "text/plain": [
       "array([1.+0.j, 1.+2.j, 1.+0.j, 1.-2.j])"
      ]
     },
     "execution_count": 17,
     "metadata": {},
     "output_type": "execute_result"
    }
   ],
   "source": [
    "y=np.array([1,-1,0,1])\n",
    "np.fft.fft(y)   "
   ]
  },
  {
   "cell_type": "code",
   "execution_count": 18,
   "metadata": {
    "scrolled": true
   },
   "outputs": [
    {
     "data": {
      "text/plain": [
       "array([0.25+0.j , 0.25-0.5j, 0.25+0.j , 0.25+0.5j])"
      ]
     },
     "execution_count": 18,
     "metadata": {},
     "output_type": "execute_result"
    }
   ],
   "source": [
    "np.fft.ifft(y)   "
   ]
  },
  {
   "cell_type": "markdown",
   "metadata": {},
   "source": [
    "Upoznaćemo osobine Vandermondove i Furijeove matrice koje su u tesnoj vezi sa primenama diskretene Furijeove transformacije. "
   ]
  },
  {
   "cell_type": "markdown",
   "metadata": {},
   "source": [
    "**Zadatak 3.** Za polinom $P(x)=a_0+a_1x+\\dots+a_{n-1}x^{n-1}$ i $n-$te korene jedinice $w_k=e^{-i\\frac{2k\\pi}{n}},\\ k=0,1,\\dots,n-1,$ pokazati da je\n",
    "$$\\dfrac{1}{n}\\displaystyle\\sum_{k=0}^{n-1}|P(w_k)|^2=\\displaystyle\\sum_{k=0}^{n-1}|a_k|^2.$$"
   ]
  },
  {
   "cell_type": "markdown",
   "metadata": {},
   "source": [
    "**Rešenje :**\n",
    "\n",
    "Pre dokazivanja neke jednakosti u teoriji možemo rezultat da proverimo kroz eksperiment. Kreiraćemo slučajni vektor koeficijenata nekog polinoma i proveriti na njemu datu jednakost."
   ]
  },
  {
   "cell_type": "code",
   "execution_count": 24,
   "metadata": {},
   "outputs": [
    {
     "data": {
      "text/plain": [
       "22"
      ]
     },
     "execution_count": 24,
     "metadata": {},
     "output_type": "execute_result"
    }
   ],
   "source": [
    "n=rndm.randint(20,100)  #broj koeficijenata polinoma\n",
    "n"
   ]
  },
  {
   "cell_type": "code",
   "execution_count": 25,
   "metadata": {},
   "outputs": [
    {
     "name": "stdout",
     "output_type": "stream",
     "text": [
      "0.0\n"
     ]
    }
   ],
   "source": [
    "p=rndm.rand(n)\n",
    "Pw=np.fft.fft(p)\n",
    "leva_strana=(np.sum(np.abs(Pw)**2))/n\n",
    "desna_strana=np.sum(p**2)\n",
    "print(np.round(leva_strana-desna_strana))"
   ]
  },
  {
   "cell_type": "markdown",
   "metadata": {},
   "source": [
    "Vektor vrednosti $p=\\begin{bmatrix} P(w_0)&P(w_1)&\\dots&P(w_{n-1})\\end{bmatrix}^T$ dobija se Furijeovom transformacijom vektora koeficijenata $a=\\begin{bmatrix} a_0&a_1&\\dots&a_{n-1}\\end{bmatrix}^T.$  Označimo $w=e^{-i\\frac{2\\pi}{n}}.$\n",
    "\\begin{align}\n",
    "p&=\\begin{bmatrix} P(w^0)\\\\ P(w^1)\\\\ \\vdots \\\\ P(w^{n-1})\\end{bmatrix}\n",
    "=\\begin{bmatrix} a_0+a_1w^0+a_2w^{0\\cdot2}+\\dots+a_{n-1}w^{0(n-1)}\\\\\n",
    "a_0+a_1w+a_2w^2+\\dots+a_{n-1}w^{n-1}\\\\ \\vdots \\\\ \n",
    "a_0+a_1w^{n-1}+a_2w^{2(n-1)}+\\dots+a_{n-1}w^{(n-1)^2}\\end{bmatrix}=\n",
    "\\begin{bmatrix} 1&1&1&\\dots&1\\\\\n",
    "1&w&w^2&\\dots&w^{n-1}\\\\ \\vdots&\\vdots&\\vdots& &\\vdots\\\\\n",
    "1&w^{n-1}&w^{2(n-1)}&\\dots&w^{(n-1)^2}\\end{bmatrix}\n",
    "\\begin{bmatrix} a_0\\\\a_1\\\\a_2\\\\\\vdots\\\\a_{n-1}\\end{bmatrix}\\\\\n",
    "&=V_na=FFT\\left(n,a\\right).\n",
    "\\end{align}\n",
    "\n",
    "S obzirom da je $F_n=\\dfrac{1}{\\sqrt{n}}V_n$ unitarna matrica, odnosno izometrija kompleksnog vektorskog prostora, to je \n",
    "$$\\|a\\|=\\|F_na\\|=\\left\\|\\dfrac{1}{\\sqrt{n}}V_na\\right\\|=\\dfrac{1}{\\sqrt{n}}\\|p\\|.$$ \n",
    "što predstavlja traženu jednakost u vektorskom obliku. Dokazana jednakost je specijalan oblik poznate [Parsevalove jednakosti](https://en.wikipedia.org/wiki/Parseval%27s_theorem)."
   ]
  },
  {
   "cell_type": "markdown",
   "metadata": {},
   "source": [
    "**Zadatak 4.** Za permutacionu matricu $P=\\begin{bmatrix} 0&1&0&\\dots&0\\\\\n",
    "0&0&1&\\dots&0\\\\ \\vdots&\\vdots&\\vdots&\\ddots&\\vdots\\\\0&0&0&\\dots&1\\\\1&0&0&\\dots&0\\end{bmatrix}\\in\\mathcal{M}_{n\\times n}$ i Vandermondovu matricu $V_n=V(w^0,w^1,\\dots,w^{n-1}),$ $w=e^{-i\\frac{2\\pi}{n}}$ važi \n",
    "$$ PV_n=V_nD,$$\n",
    "gde je $D={\\rm diag}(w^0,w^1,\\dots,w^{n-1}).$ Dokazati."
   ]
  },
  {
   "cell_type": "markdown",
   "metadata": {},
   "source": [
    "**Rešenje :**\n",
    "\n",
    "Proverićemo jednakost prvo na matrici male dimenzije."
   ]
  },
  {
   "cell_type": "code",
   "execution_count": 26,
   "metadata": {},
   "outputs": [
    {
     "data": {
      "text/plain": [
       "array([[0., 1., 0., 0.],\n",
       "       [0., 0., 1., 0.],\n",
       "       [0., 0., 0., 1.],\n",
       "       [1., 0., 0., 0.]])"
      ]
     },
     "execution_count": 26,
     "metadata": {},
     "output_type": "execute_result"
    }
   ],
   "source": [
    "n=4\n",
    "I=np.eye(n)\n",
    "perm=np.append(np.arange(1,n),0)\n",
    "P=I[perm]\n",
    "P"
   ]
  },
  {
   "cell_type": "code",
   "execution_count": 27,
   "metadata": {},
   "outputs": [
    {
     "name": "stdout",
     "output_type": "stream",
     "text": [
      "[[0.+0.j 0.+0.j 0.+0.j 0.+0.j]\n",
      " [0.+0.j 0.+0.j 0.+0.j 0.+0.j]\n",
      " [0.+0.j 0.+0.j 0.+0.j 0.+0.j]\n",
      " [0.+0.j 0.-0.j 0.-0.j 0.-0.j]]\n"
     ]
    }
   ],
   "source": [
    "w=np.exp(-1j*2*np.pi/n)\n",
    "d=w**np.arange(n)\n",
    "Vn=np.vander(d,increasing=True)\n",
    "print(np.round(P@Vn-(Vn*d)))"
   ]
  },
  {
   "cell_type": "markdown",
   "metadata": {},
   "source": [
    "Označimo kolone Vandermondove matrice\n",
    "$V_n=[w^{jk}]_{j,k=0}^{n-1}$ sa \n",
    "$$ kol_k=\\begin{bmatrix} w^0 & w^k & w^{2k} &\\dots& w^{k(n-1)}\\end{bmatrix}^T,\\quad k=0,1,\\dots,n-1.$$"
   ]
  },
  {
   "cell_type": "markdown",
   "metadata": {},
   "source": [
    "Tada za $k=0,1,\\dots,n-1,$ imamo da je \n",
    "$$ P\\cdot kol_{k}=\n",
    "\\begin{bmatrix} 0&1&0&\\dots&0\\\\\n",
    "0&0&1&\\dots&0\\\\&&&\\ddots&\\\\0&0&0&\\dots&1\\\\1&0&0&\\dots&0\\end{bmatrix}\n",
    "\\begin{bmatrix} w^0 \\\\ w^k \\\\ w^{2k} \\\\\\dots\\\\ w^{k(n-1)}\\end{bmatrix}=\n",
    "\\begin{bmatrix} w^{k} \\\\ w^{2k} \\\\\\dots\\\\ w^{k(n-1)} \\\\ w^0\\end{bmatrix}=\n",
    "\\begin{bmatrix} w^{k} \\\\ w^{2k} \\\\\\dots\\\\ w^{k(n-1)} \\\\ w^{kn}\\end{bmatrix}=\n",
    "w^k\\begin{bmatrix} w^0 \\\\ w^k \\\\ w^{2k} \\\\\\dots\\\\ w^{k(n-1)}\\end{bmatrix}=\n",
    "w^k\\cdot kol_{k}.\n",
    "$$"
   ]
  },
  {
   "cell_type": "markdown",
   "metadata": {},
   "source": [
    "Primenjujući ovo pravilo na svaku kolonu matrice $V_n$ direktno dobijamo traženu jednakost\n",
    "\\begin{align}\n",
    "PV_n&=\\begin{bmatrix} 0&1&0&\\dots&0\\\\\n",
    "0&0&1&\\dots&0\\\\&&&\\ddots&\\\\0&0&0&\\dots&1\\\\1&0&0&\\dots&0\\end{bmatrix}\n",
    "\\begin{bmatrix} 1&1&1&\\dots&1\\\\\n",
    "1&w&w^2&\\dots&w^{n-1}\\\\ \\vdots&\\vdots&\\vdots& &\\vdots\\\\\n",
    "1&w^{n-2}&w^{2(n-2)}&\\dots&w^{(n-1)(n-2)}\\\\\n",
    "1&w^{n-1}&w^{2(n-1)}&\\dots&w^{(n-1)^2}\\end{bmatrix}\n",
    "=\\begin{bmatrix} \n",
    "1&w&w^2&\\dots&w^{n-1}\\\\ \\vdots&\\vdots&\\vdots& &\\vdots\\\\\n",
    "1&w^{n-2}&w^{2(n-2)}&\\dots&w^{(n-1)(n-2)}\\\\\n",
    "1&w^{n-1}&w^{2(n-1)}&\\dots&w^{(n-1)^2}\n",
    "\\\\1&1&1&\\dots&1\\end{bmatrix}\\\\\n",
    "&=\\begin{bmatrix} \n",
    "1&w\\cdot1&w^2\\cdot1&\\dots&w^{n-1}\\cdot1\\\\ \n",
    "\\vdots&\\vdots&\\vdots& &\\vdots\\\\\n",
    "1&w\\cdot w^{n-3}&w^2\\cdot w^{2(n-3)}&\\dots&w^{n-1}\\cdot w^{(n-1)(n-3)}\\\\\n",
    "1&w\\cdot w^{n-2}&w^2\\cdot w^{2(n-2)}&\\dots&w^{n-1}\\cdot w^{(n-1)(n-2)}\n",
    "\\\\1&w\\cdot w^{n-1}&w^2\\cdot w^{2(n-1)}&\\dots&w^{n-1}\\cdot w^{(n-1)^2}\\end{bmatrix}\\\\\n",
    "&=\n",
    "\\begin{bmatrix} 1&1&1&\\dots&1\\\\\n",
    "1&w&w^2&\\dots&w^{n-1}\\\\ \\vdots&\\vdots&\\vdots& &\\vdots\\\\\n",
    "1&w^{n-2}&w^{2(n-2)}&\\dots&w^{(n-1)(n-2)}\\\\\n",
    "1&w^{n-1}&w^{2(n-1)}&\\dots&w^{(n-1)^2}\\end{bmatrix}\n",
    "\\begin{bmatrix} 1&0&0&\\dots&0\\\\\n",
    "0&w&0&\\dots&0\\\\0&0&w^{2}&\\dots&0\\\\&&&\\ddots&\\\\0&0&0&\\dots&w^{n-1}\\end{bmatrix}\n",
    "=V_nD.\\end{align}"
   ]
  },
  {
   "cell_type": "markdown",
   "metadata": {},
   "source": [
    "Dobijena jednakost je spektralna dekompozicija matrice permutacija $P=V_nDV_n^{-1}$ i opisuje sopstvene vrednosti i sopstvene vektore matrice $P.$ Osim toga,\n",
    "spektralne karakteristike matrice $P$ obezbeđuju i veoma bitnu osobinu diskretne Furijeove transformacije: \n",
    "$$\n",
    "PV_n=V_n\\,D.\n",
    "$$"
   ]
  },
  {
   "cell_type": "markdown",
   "metadata": {},
   "source": [
    "Ova jednakost, uz oznaku $c=V_ny,$ u narednom obliku poznata je kao [zakon modulacije](https://sr.wikipedia.org/sr-ec/%D0%94%D0%B8%D1%81%D0%BA%D1%80%D0%B5%D1%82%D0%BD%D0%B0_%D0%A4%D1%83%D1%80%D0%B8%D1%98%D0%B5%D0%BE%D0%B2%D0%B0_%D1%82%D1%80%D0%B0%D0%BD%D1%81%D1%84%D0%BE%D1%80%D0%BC%D0%B0%D1%86%D0%B8%D1%98%D0%B0#%D0%9F%D0%BE%D0%BC%D0%B5%D1%80%D0%B0%D1%9A%D0%B5_%D0%B8_%D1%81%D0%BA%D0%B0%D0%BB%D0%B8%D1%80%D0%B0%D1%9A%D0%B5_%D1%83_%D0%B2%D1%80%D0%B5%D0%BC%D0%B5%D0%BD%D1%83_%D0%B8_%D1%84%D1%80%D0%B5%D0%BA%D0%B2%D0%B5%D0%BD%D1%86%D0%B8%D1%98%D0%B8).\n",
    "\\begin{align}\n",
    "    &Pc=PV_n\\,y=V_n\\,D\\,y\\\\\n",
    "    \\Longleftrightarrow\\quad&\n",
    "    \\begin{bmatrix} 0&1&0&\\dots&0\\\\\n",
    "0&0&1&\\dots&0\\\\&&&\\ddots&\\\\0&0&0&\\dots&1\\\\1&0&0&\\dots&0\\end{bmatrix}\n",
    "\\begin{bmatrix} c_0\\\\c_1\\\\ \\vdots\\\\ c_{n-2}\\\\c_{n-1}\\end{bmatrix}\n",
    "=\\begin{bmatrix} c_1\\\\c_2\\\\ \\vdots\\\\ c_{n-1}\\\\c_0\\end{bmatrix}=V_n\n",
    "    \\begin{bmatrix} y_0\\\\wy_1\\\\ \\vdots\\\\ w^2y_{n-2}\\\\ w^{n-1}y_{n-1}\\end{bmatrix},\\qquad w=e^{-i\\frac{2\\pi}{n}}.\n",
    "\\end{align}"
   ]
  },
  {
   "cell_type": "code",
   "execution_count": 28,
   "metadata": {},
   "outputs": [
    {
     "name": "stdout",
     "output_type": "stream",
     "text": [
      "[-0.+0.j  0.+0.j -0.+0.j -0.+0.j  0.+0.j  0.+0.j -0.-0.j -0.+0.j  0.+0.j\n",
      "  0.+0.j  0.+0.j  0.+0.j  0.-0.j -0.-0.j  0.+0.j -0.+0.j -0.+0.j -0.+0.j\n",
      " -0.-0.j  0.+0.j -0.-0.j -0.-0.j -0.-0.j  0.-0.j -0.+0.j -0.+0.j -0.-0.j\n",
      "  0.-0.j  0.+0.j -0.+0.j -0.+0.j -0.-0.j  0.-0.j -0.+0.j -0.-0.j -0.-0.j\n",
      " -0.-0.j  0.-0.j  0.-0.j  0.+0.j  0.-0.j  0.+0.j  0.+0.j -0.-0.j  0.-0.j\n",
      " -0.-0.j -0.-0.j  0.-0.j  0.-0.j -0.-0.j  0.-0.j  0.-0.j  0.+0.j]\n"
     ]
    }
   ],
   "source": [
    "n=rndm.randint(50,100)\n",
    "y=rndm.rand(n)\n",
    "c=np.fft.fft(y)\n",
    "permc=np.append(c[1:],c[0])\n",
    "\n",
    "w=np.exp(-1j*2*np.pi/n)\n",
    "d=w**np.arange(n)\n",
    "cw=np.fft.fft(d*y)\n",
    "\n",
    "print(np.round(permc-cw))"
   ]
  },
  {
   "cell_type": "markdown",
   "metadata": {},
   "source": [
    "Zahvaljujući spektralnim karakteristikama Vandermondove (i Furijeove matrice) možemo da pratimo kako ciklična permutacija vrsta $P^Ty$ ulaznog vektora $y$ utiče na promenu njegove Furijeove transformacije $V_ny:$\n",
    "$$V_nP^Ty=(PV_n^T)^Ty=(PV_n)^Ty=(V_n\\,{D})^Ty={D}V_n y,$$\n",
    "tj.\n",
    "$$\n",
    "V_n\\begin{bmatrix} y_{n-1}\\\\y_0\\\\ \\vdots\\\\ y_{n-3}\\\\y_{n-2}\\end{bmatrix}=\\begin{bmatrix} 1&0&0&\\dots&0\\\\\n",
    "0&w&0&\\dots&0\\\\0&0&w^{2}&\\dots&0\\\\&&&\\ddots&\\\\0&0&0&\\dots&w^{n-1}\\end{bmatrix} V_n\n",
    "\\begin{bmatrix} y_0\\\\y_1\\\\ \\vdots\\\\ y_{n-2}\\\\y_{n-1}\\end{bmatrix}\n",
    "$$\n",
    "Ova jednakost poznata je kao DFT pravilo o [pomeraju u vremenskom domenu](https://sr.wikipedia.org/sr-ec/%D0%94%D0%B8%D1%81%D0%BA%D1%80%D0%B5%D1%82%D0%BD%D0%B0_%D0%A4%D1%83%D1%80%D0%B8%D1%98%D0%B5%D0%BE%D0%B2%D0%B0_%D1%82%D1%80%D0%B0%D0%BD%D1%81%D1%84%D0%BE%D1%80%D0%BC%D0%B0%D1%86%D0%B8%D1%98%D0%B0#%D0%9F%D0%BE%D0%BC%D0%B5%D1%80%D0%B0%D1%9A%D0%B5_%D0%B8_%D1%81%D0%BA%D0%B0%D0%BB%D0%B8%D1%80%D0%B0%D1%9A%D0%B5_%D1%83_%D0%B2%D1%80%D0%B5%D0%BC%D0%B5%D0%BD%D1%83_%D0%B8_%D1%84%D1%80%D0%B5%D0%BA%D0%B2%D0%B5%D0%BD%D1%86%D0%B8%D1%98%D0%B8). "
   ]
  },
  {
   "cell_type": "code",
   "execution_count": 29,
   "metadata": {},
   "outputs": [
    {
     "name": "stdout",
     "output_type": "stream",
     "text": [
      "[ 0.+0.j -0.-0.j  0.-0.j  0.+0.j  0.+0.j  0.+0.j -0.-0.j -0.+0.j -0.+0.j\n",
      " -0.-0.j  0.-0.j  0.+0.j  0.+0.j -0.+0.j  0.+0.j  0.+0.j -0.+0.j -0.-0.j\n",
      " -0.+0.j -0.+0.j  0.-0.j -0.-0.j -0.+0.j -0.-0.j -0.+0.j  0.+0.j -0.-0.j\n",
      " -0.+0.j  0.-0.j -0.-0.j -0.+0.j -0.+0.j  0.+0.j  0.+0.j -0.-0.j -0.-0.j\n",
      "  0.+0.j -0.-0.j  0.-0.j  0.+0.j  0.-0.j  0.-0.j -0.+0.j  0.+0.j  0.+0.j\n",
      "  0.-0.j -0.-0.j -0.+0.j  0.+0.j  0.-0.j -0.-0.j  0.+0.j -0.+0.j]\n"
     ]
    }
   ],
   "source": [
    "permy=np.append(y[-1],y[:-1])\n",
    "cpy=np.fft.fft(permy)\n",
    "\n",
    "print(np.round(cpy-d*c))"
   ]
  },
  {
   "cell_type": "markdown",
   "metadata": {},
   "source": [
    "<div class=\"alert alert-block alert-info\">\n",
    "<b>Napomena:</b>\n",
    "Uvedene oznake brze Furijeove transformacije služe da prepoznajemo delove izračunavanja koja mogu biti ubrzana njenom upotrebom. Naredne jednakosti koristiti kao podsetnik u te svrhe.\n",
    "\\begin{align}\n",
    "&V_n v\\equiv FFT(n,v),\\\\\n",
    "&V_n^{-1} v\\equiv IFFT(n,v).\n",
    "\\end{align}\n",
    "</div>"
   ]
  },
  {
   "cell_type": "markdown",
   "metadata": {},
   "source": [
    "**Задатак 8.** За Вандермондову матрицу $V_n=V(w^0,w^1,\\dots,w^{n-1}),$ $w=e^{-i\\frac{2\\pi}{n}}$ и пермутациону матрицу $$S=\\begin{bmatrix} 1&0&0&\\dots&0&0\\\\\n",
    "0&0&0&\\dots&0&1\\\\0&0&0&\\dots&1&0\\\\ \\vdots&\\vdots&\\vdots& &\\vdots&\\vdots\\\\0&0&1&\\dots&0&0\\\\0&1&0&\\dots&0&0\\end{bmatrix}$$ важи $V_nS=\\overline{V_n}.$ Доказати."
   ]
  },
  {
   "cell_type": "markdown",
   "metadata": {},
   "source": [
    "**Rešenje :**\n",
    "\n",
    "\n",
    "Označimo kolone matrice $V_n$ sa $kol_k=\\begin{bmatrix} w^0&w^k&w^{2k}&\\dots&w^{(n-1)k}\\end{bmatrix}^T,$ sa opsegom indeksa $k=0,1,\\dots,n-1.$ Tada je\n",
    "$$\n",
    "    V_nS=\\left[\\begin{array}{c|c|c|c}\n",
    "        \\phantom{a} & \\phantom{a} & \\phantom{a} & \\phantom{a}   \\\\\n",
    "         kol_0& kol_1 &\\dots&kol_{n-1}\\\\\n",
    "         \\phantom{a} & \\phantom{a} & \\phantom{a} & \\phantom{a}   \\\\\n",
    "    \\end{array}\\right]\n",
    "    \\begin{bmatrix} 1&0&\\dots&0\\\\0&0&\\dots&1\\\\ \\vdots&\\vdots& &\\vdots\\\\0&1&\\dots&0\\end{bmatrix}\n",
    "    =\\left[\\begin{array}{c|c|c|c}\n",
    "        \\phantom{a} & \\phantom{a} & \\phantom{a} & \\phantom{a}   \\\\\n",
    "         kol_0& kol_{n-1} &\\dots&kol_{1}\\\\\n",
    "         \\phantom{a} & \\phantom{a} & \\phantom{a} & \\phantom{a}   \\\\\n",
    "    \\end{array}\\right].\n",
    "$$"
   ]
  },
  {
   "cell_type": "markdown",
   "metadata": {},
   "source": [
    "Kako je $\\overline{kol_0}=\\begin{bmatrix} 1&1&1&\\dots&1\\end{bmatrix}^T=kol_{0},$ ostaje da se pokaže da je $\\overline{kol_k}=kol_{n-k},$ $k=1,\\dots,n-1.$\n",
    "\\begin{align}\n",
    "kol_{n-k}&=\\begin{bmatrix} w^0&w^{n-k}&w^{2(n-k)}&\\dots&w^{(n-1)(n-k)}\\end{bmatrix}^T\\\\\n",
    "&\\stackrel{w^n=1}{=}\\begin{bmatrix} w^0&w^{-k}&w^{2(-k)}&\\dots&w^{(n-1)(-k)}\\end{bmatrix}^T\\\\\n",
    "&=\\begin{bmatrix} w^0&w^{-k}&w^{-2k}&\\dots&w^{-(n-1)k}\\end{bmatrix}^T\n",
    "=\\overline{kol_k}\\\\\n",
    "&\\Longrightarrow\\qquad V_nS=\\overline{V_n}.\n",
    "\\end{align}"
   ]
  },
  {
   "cell_type": "markdown",
   "metadata": {},
   "source": [
    "## Konvolucija"
   ]
  },
  {
   "cell_type": "markdown",
   "metadata": {},
   "source": [
    "**Definicija 1.** Za dva vektora dužine $n:$ \n",
    "$$v=\\begin{bmatrix} v_1&v_2&\\dots&v_n\\end{bmatrix}^T\\quad\\mbox{ i }\\quad u=\\begin{bmatrix} u_1&u_2&\\dots&u_n\\end{bmatrix}^T,$$ operacija množenja vektora član po član, odnosno Adamarov proizvod vektora, je data sa      \n",
    "$$u\\circ v=\\begin{bmatrix} u_1v_1&u_2v_2&\\dots&u_nv_n\\end{bmatrix}^T.$$"
   ]
  },
  {
   "cell_type": "markdown",
   "metadata": {},
   "source": [
    "Kao što je poznato od ranije, član-po-član množenje vektora u Numpy-u je relizovano operacijom `*`. Množenje dijagonalnom matricom svodi se na ovu operaciju. "
   ]
  },
  {
   "cell_type": "code",
   "execution_count": 5,
   "metadata": {},
   "outputs": [
    {
     "data": {
      "text/plain": [
       "array([1, 4, 9, 1])"
      ]
     },
     "execution_count": 5,
     "metadata": {},
     "output_type": "execute_result"
    }
   ],
   "source": [
    "u=np.array([1,2,3,-1])\n",
    "u*u"
   ]
  },
  {
   "cell_type": "markdown",
   "metadata": {},
   "source": [
    "Ukoliko se operacija `*` primenjuje između matrice i vektora treba obratiti pažnju na rezultat. Množenje odgovarajućim koeficijentom sprovodi se duž jedne kolone."
   ]
  },
  {
   "cell_type": "code",
   "execution_count": 6,
   "metadata": {},
   "outputs": [
    {
     "data": {
      "text/plain": [
       "array([[1., 1., 1., 1.],\n",
       "       [1., 1., 1., 1.],\n",
       "       [1., 1., 1., 1.]])"
      ]
     },
     "execution_count": 6,
     "metadata": {},
     "output_type": "execute_result"
    }
   ],
   "source": [
    "A=np.ones((3,4))\n",
    "A"
   ]
  },
  {
   "cell_type": "code",
   "execution_count": 7,
   "metadata": {},
   "outputs": [
    {
     "data": {
      "text/plain": [
       "array([[ 1.,  2.,  3., -1.],\n",
       "       [ 1.,  2.,  3., -1.],\n",
       "       [ 1.,  2.,  3., -1.]])"
      ]
     },
     "execution_count": 7,
     "metadata": {},
     "output_type": "execute_result"
    }
   ],
   "source": [
    "A*u"
   ]
  },
  {
   "cell_type": "code",
   "execution_count": 8,
   "metadata": {},
   "outputs": [
    {
     "data": {
      "text/plain": [
       "array([[ 1.,  2.,  3., -1.],\n",
       "       [ 1.,  2.,  3., -1.],\n",
       "       [ 1.,  2.,  3., -1.]])"
      ]
     },
     "execution_count": 8,
     "metadata": {},
     "output_type": "execute_result"
    }
   ],
   "source": [
    "A@np.diag(u)"
   ]
  },
  {
   "cell_type": "markdown",
   "metadata": {},
   "source": [
    "Rezultat množenja dva polinoma, tj. izračunavanje konvolucije dva vektora, može se značajno brže sprovesti za velike stepene polinoma primenom $FFT,$ tj. algoritmima kojima je implementirano brzo izračunavanje $DFT.$ \n",
    "\n",
    "Za $w=e^{-i\\frac{2\\pi}{n+m+1}}$ i $w^k\\in\\sqrt[n+m+1]1,$ $k=0,1,\\dots,n+m,$ poznavanje $n+m+1$ vrednosti   $P_{n+m}(w^k),$    omogućava određivanje vektora koeficijenata polinoma $P_{n+m}$ uz pomoć  $DFT$. S obzirom da je \n",
    "$$P_{n+m}(w^k)=P_{n}(w^k)\\cdot P_{m}(w^k),\\quad k=0,1,\\dots,n+m,$$ \n",
    "za primenu $DFT$ koristimo Adamarov proizvod dva vektora, tj. član-po-član množenje. \n",
    "$$y=\\begin{bmatrix}\n",
    "     P_{n+m}(w^0)\\\\P_{n+m}(w^1)\\\\\n",
    "     \\vdots\\\\P_{n+m}(w^{n+m})\n",
    "     \\end{bmatrix}=y_1\\circ y_2=\n",
    "     \\begin{bmatrix}\n",
    "     P_{n}(w^{0})\\\\P_{n}(w^{1})\\\\\n",
    "     \\vdots\\\\P_{n}(w^{n+m})\n",
    "     \\end{bmatrix}\\circ \n",
    "     \\begin{bmatrix}\n",
    "     P_{m}(w^{0})\\\\P_{m}(w^{1})\\\\\n",
    "     \\vdots\\\\P_{m}(w^{n+m})\n",
    "     \\end{bmatrix}.$$    "
   ]
  },
  {
   "cell_type": "markdown",
   "metadata": {},
   "source": [
    "Postupak brzog množenja algebarskih polinoma sastoji se iz sledećih koraka: \n",
    "1. Dopuniti vektore koeficijenata polinoma $P_n$ i $P_m$ nulama do dužine $n+m+1,$\n",
    "$$P_n\\equiv a=\\begin{bmatrix} a_0&a_1&\\dots&a_n&0&\\dots&0\\end{bmatrix}^T,\\quad\n",
    "        P_m\\equiv b=\\begin{bmatrix} b_0&b_1&\\dots&b_m&0&\\dots&0\\end{bmatrix}^T.$$\n",
    "1. Izračunati $y_1=DFT(n+m+1,a)$ i $y_2=DFT(n+m+1,b).$ Drugim rečima, izvršiti sintezu vektora vrednosti dva polinoma $P_n$ i $P_m$ u tačkama $w^k\\in\\sqrt[n+m+1]1,$\n",
    "\\begin{align}\n",
    "            y_1&=\\begin{bmatrix} P_n(w^{0}) & P_n(w^{1}) & \\dots &\n",
    "            P_n(w^{n+m})\\end{bmatrix}^T,\\\\\n",
    "             y_2&=\\begin{bmatrix} P_m(w^{0}) & P_m(w^{1}) & \\dots &\n",
    "            P_m(w^{n+m})\\end{bmatrix}^T.\n",
    "\\end{align}\n",
    "1. Pomnožiti član po član vektore vrednosti $y_1$ i $y_2$ i smestiti rezultate u vektor $y.$ Vektor $y$ predstavlja vektor vrednosti polinoma $P_{n+m}$ u tačkama $w_{k}\\in\\sqrt[n+m+1]1.$\n",
    "\\begin{align}\n",
    " y&=y_1\\circ y_2\\\\\n",
    "        &=\\begin{bmatrix} P_n(w^{0})P_m(w^{0})  & P_n(w^{1})P_m(w^{1})  & \\dots &\n",
    "            P_n(w^{n+m})P_m(w^{n+m})\\end{bmatrix}^T\\\\\n",
    "            &=\\begin{bmatrix} P_{n+m}(w^{0}) & P_{n+m}(w^{1}) & \\dots &\n",
    "            P_{n+m}(w^{n+m})\\end{bmatrix}^T.\n",
    "\\end{align}          \n",
    "1. Primeniti $p=IDFT(n+m+1,y)$ za dobijanje vektora koeficijenata polinoma $P_{n+m}.$"
   ]
  },
  {
   "cell_type": "markdown",
   "metadata": {},
   "source": [
    "Ukoliko označimo $N=n+m+1,$ prethodno opisani postupak predstavljen je matematičkom formulom\n",
    "$$p=a\\ast b=IDFT\\big(N,DFT(N,a)\\circ DFT(N,b)\\big).$$   \n",
    "Time smo pokazali i veoma bitnu osobinu diskretne Furijeove transformacije\n",
    "$$DFT(N,a\\ast b)=DFT(N,a)\\circ DFT(N,b).$$\n",
    "Imajući u vidu da su\n",
    "$$a=IDFT(N,y_1),\\quad b=IDFT(N,y_2)\\quad\\mbox{ i }\\qquad a\\ast b=IDFT(N,y)=IDFT(N,y_1\\circ y_2),$$\n",
    "dobijamo  jednakost\n",
    "$$IDFT(N,y_1\\circ y_2)=a\\ast b=IDFT(N,y_1)*IDFT(N,y_2).$$"
   ]
  },
  {
   "cell_type": "markdown",
   "metadata": {},
   "source": [
    "Prikazani postupak brzog izračunavanja konvolucije može se slično primeniti i za neke druge operacije nad vektorima koje po strukturi nalikuju konvoluciji, kao što su [ciklična konvolucija vektora](https://en.wikipedia.org/wiki/Circular_convolution), [kros-korelacija vektora](https://en.wikipedia.org/wiki/Cross-correlation) i autokorelacija."
   ]
  },
  {
   "cell_type": "code",
   "execution_count": 5,
   "metadata": {},
   "outputs": [],
   "source": [
    "a=rndm.rand(2**7)\n",
    "b=rndm.rand(2**12)"
   ]
  },
  {
   "cell_type": "code",
   "execution_count": 6,
   "metadata": {},
   "outputs": [],
   "source": [
    "from scipy import signal"
   ]
  },
  {
   "cell_type": "code",
   "execution_count": 7,
   "metadata": {},
   "outputs": [
    {
     "name": "stdout",
     "output_type": "stream",
     "text": [
      "Vreme izracunavanja:  0.00030839999817544594 sec\n"
     ]
    }
   ],
   "source": [
    "start = timer()\n",
    "np.convolve(a,b)\n",
    "end = timer()\n",
    "print(\"Vreme izracunavanja: \",end - start,\"sec\")"
   ]
  },
  {
   "cell_type": "code",
   "execution_count": 8,
   "metadata": {},
   "outputs": [
    {
     "name": "stdout",
     "output_type": "stream",
     "text": [
      "Vreme izracunavanja:  0.004429900000104681 sec\n"
     ]
    }
   ],
   "source": [
    "start = timer()\n",
    "signal.fftconvolve(a,b)\n",
    "end = timer()\n",
    "print(\"Vreme izracunavanja: \",end - start,\"sec\")"
   ]
  },
  {
   "cell_type": "code",
   "execution_count": 9,
   "metadata": {},
   "outputs": [
    {
     "name": "stdout",
     "output_type": "stream",
     "text": [
      "Vreme izracunavanja:  0.0005994000021019019 sec\n"
     ]
    }
   ],
   "source": [
    "start = timer()\n",
    "signal.convolve(a,b)\n",
    "end = timer()\n",
    "print(\"Vreme izracunavanja: \",end - start,\"sec\")"
   ]
  },
  {
   "cell_type": "code",
   "execution_count": 10,
   "metadata": {},
   "outputs": [
    {
     "name": "stdout",
     "output_type": "stream",
     "text": [
      "Vreme izracunavanja:  0.007495199999539182 sec\n"
     ]
    }
   ],
   "source": [
    "start = timer()\n",
    "signal.oaconvolve(a,b)\n",
    "end = timer()\n",
    "print(\"Vreme izracunavanja: \",end - start,\"sec\")"
   ]
  }
 ],
 "metadata": {
  "kernelspec": {
   "display_name": "Python 3",
   "language": "python",
   "name": "python3"
  },
  "language_info": {
   "codemirror_mode": {
    "name": "ipython",
    "version": 3
   },
   "file_extension": ".py",
   "mimetype": "text/x-python",
   "name": "python",
   "nbconvert_exporter": "python",
   "pygments_lexer": "ipython3",
   "version": "3.7.16"
  }
 },
 "nbformat": 4,
 "nbformat_minor": 4
}
