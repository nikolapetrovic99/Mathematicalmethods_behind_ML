{
 "cells": [
  {
   "cell_type": "markdown",
   "metadata": {},
   "source": [
    "# Блок матрице\n",
    "\n",
    "Садржај:\n",
    "1. [Операције са блок матрицама](#Операције-са-блок-матрицама)\n",
    "1. [Кронекеров производ матрица](#Кронекеров-производ-матрица)\n",
    "1. [Кронекерова сума матрица](#Кронекерова-сума-матрица)\n",
    "1. [Катри-Рао производ матрица](#Катри-Рао-производ-матрица)"
   ]
  },
  {
   "cell_type": "code",
   "execution_count": 1,
   "metadata": {},
   "outputs": [],
   "source": [
    "import numpy as np"
   ]
  },
  {
   "cell_type": "markdown",
   "metadata": {},
   "source": [
    "Једна од најзначајнијих операција у алгебри матрица је могућност растављања матрице на мање делове и да се притом задржи облик израза за стандардне операције. Саставни делови матрице представљају њене подматрице и зовемо их блокови, а поступак растављања на подматрице је разбијање на блокове.\n",
    "\n",
    "На почетку матрице - правоугаоне шеме бројева смо посматрали као скупове погодно изабраних вектора: вектора-колона и вектора-врста. Тиме смо направили увод у груписање података унутар матрица. Веома често груписање података по другачијем критеријуму погодује разумевању и решавању реалних проблема. У том контексту матрице можемо посматрати као колекције погодно изабраних матрица."
   ]
  },
  {
   "cell_type": "markdown",
   "metadata": {},
   "source": [
    "Матрица $M$ је разбијена на блокове ако су њени елементи једном линијом или мрежом хоризонталних линија и вертикалних линија подељени на правоугаоне подматрице. \n",
    "За матрицу $M\\in\\mathcal{M}_{m\\times n}$ када је подељена у блокове дељењем редова у $\\mu$ непразних подскупова и дељењем њених колона у $\\nu$ непразних подскупова, онда се она може записати на следећи начин:\n",
    "$$\n",
    "M = \\left[\\begin{array}{ccc|ccc|c|ccc}\n",
    "a_{11}&\\dots&a_{1n_1}&a_{1\\,n_1+1}&\\dots&a_{1n_2}&\\dots&a_{1\\,n_{\\nu-1}+1}&\\dots&a_{1n_{\\nu}}\\\\\n",
    "\\vdots& &\\vdots&\\vdots& &\\vdots& &\\vdots& &\\vdots\\\\\n",
    "a_{m_11}&\\dots&a_{m_1n_1}&a_{m_1\\,n_1+1}&\\dots&a_{m_1n_2}&\\dots&a_{m_1\\,n_{\\nu-1}+1}&\\dots&a_{m_1n_{\\nu}}\\\\\\hline\n",
    "a_{m_1+1\\,1}&\\dots&a_{m_1+1\\,n_1}&a_{m_1+1\\,\\,n_1+1}&\\dots&a_{m_1+1\\,n_2}&\\dots&a_{m_1+1\\,\\,n_{\\nu-1}+1}&\\dots&a_{m_1+1\\,n_{\\nu}}\\\\\n",
    "\\vdots& &\\vdots&\\vdots& &\\vdots& &\\vdots& &\\vdots\\\\\n",
    "a_{m_21}&\\dots&a_{m_2n_1}&a_{m_2\\,n_1+1}&\\dots&a_{m_2n_2}&\\dots&a_{m_2\\,n_{\\nu-1}+1}&\\dots&a_{m_2n_{\\nu}}\\\\\\hline\n",
    "\\vdots& &\\vdots&\\vdots& &\\vdots& &\\vdots& &\\vdots\\\\\\hline\n",
    "a_{m_{\\mu-1}+1\\,1}&\\dots&a_{m_{\\mu-1}+1\\,n_1}&a_{m_{\\mu-1}+1\\,n_1+1}&\\dots&a_{m_{\\mu-1}+1\\,n_2}&\\dots&a_{m_{\\mu-1}+1\\,\\,n_{\\nu-1}+1}&\\dots&a_{m_{\\mu-1}+1\\,n_{\\nu}}\\\\\n",
    "\\vdots& &\\vdots&\\vdots& &\\vdots& &\\vdots& &\\vdots\\\\\n",
    "a_{m_{\\mu}1}&\\dots&a_{m_{\\mu}n_1}&a_{m_{\\mu}\\,n_1+1}&\\dots&a_{m_{\\mu}n_2}&\\dots&a_{m_{\\mu}\\,n_{\\nu-1}+1}&\\dots&a_{m_{\\mu}n_{\\nu}}\n",
    "\\end{array}\\right]\n",
    "=\\begin{bmatrix}\n",
    "A_{11} & A_{12} & \\dots &A_{1\\nu}\\\\\n",
    "A_{21} & A_{22} & \\dots &A_{2\\nu}\\\\\n",
    "\\vdots & \\vdots & \\ddots & \\vdots\\\\\n",
    "A_{\\mu1} & A_{\\mu2} & \\dots &A_{\\mu \\nu}\n",
    "\\end{bmatrix},\n",
    "$$\n",
    "где су $A_{ij},$ $i \\in\\{1,2,\\dots, \\mu\\}$, $j \\in\\{1,2,\\dots, \\nu\\}$ блокови матрице $A.$ Добијена блок матрица је блоковске димензије $\\mu \\times \\nu$  чији су елементи блокови $A_{ij}$ појединачних димензија $m_i\\times n_j$ и важи $m_1+m_2+\\dots+m_{\\mu}=m,$ $n_1+n_2+\\dots+n_{\\nu}=n.$ Подматрице дуж једне блоковске колоне имају међусобно једнак број колона. Такође, подматрице дуж исте блоковске врсте имају једнак број врста. \n",
    "\n",
    "Подматрице $A_{ii},$ где је $1\\leq i \\leq\\min\\{ \\mu,\\nu\\},$ представљају дијагоналне блокове.\n",
    "\n",
    "Блоковима називамо добијене подматрице полазне матрице $M.$ За означавање блокова можемо да користимо два индекса. Тако у блоку $A_{ij}$ је $i$ индекс блоковске врсте, а $j$ индекс блоковске колоне. Број блоковских врста $\\mu$ и број блоковских колона $\\nu$ одређује димензију блоковске матрице $\\mu\\times\\nu.$"
   ]
  },
  {
   "cell_type": "markdown",
   "metadata": {},
   "source": [
    "**Primer 1.** Neka je data matrica \n",
    "$$ \tA=\n",
    "\t\\begin{bmatrix}\n",
    "\t1 & 2 & 3 & 4 \\\\\n",
    "\t5 & 6 & 7 & 8 \\\\\n",
    "\t9 & 10 & 11 & 12 \\\\\n",
    "\t13 & 14 & 15 & 16\n",
    "\t\\end{bmatrix}.\n",
    "\t$$\n",
    "Primer razbijanja matrice $A$ na blokove dat je na sledeći način:\n",
    "$$\n",
    "\tA=\n",
    "\t\\left[\\begin{array}{@{}c|cc|c@{}}\n",
    "\t1 & 2 & 3 & 4 \\\\\\hline\n",
    "\t5 & 6 & 7 & 8 \\\\\n",
    "\t9 & 10 & 11 & 12 \\\\\n",
    "\t13 & 14 & 15 & 16\n",
    "\t\\end{array}\\right].\n",
    "$$\n",
    "Blokovi matrice $A$ su podmatrice:\n",
    "$$\n",
    "\tA_{11}=  \\begin{bmatrix}    1  \\end{bmatrix}, \\quad\n",
    "\tA_{12} =\\begin{bmatrix}   2 & 3  \\end{bmatrix}, \\quad\n",
    "\tA_{13} =\\begin{bmatrix}    4  \\end{bmatrix},  \n",
    "$$    \n",
    "$$\n",
    "\tA_{21}=\\begin{bmatrix}    5\\\\    9\\\\    13  \\end{bmatrix}, \\quad\n",
    "\tA_{22}=\\begin{bmatrix}\t6 & 7\\\\\t10 & 11\\\\\t14 & 15\t\\end{bmatrix}, \\quad\n",
    "\tA_{23} =  \\begin{bmatrix}     8 \\\\    12 \\\\    16  \\end{bmatrix}.\n",
    "$$\n",
    "Koristeći dobijene blokove matricu $A$ zapisujemo na sledeći način u blok formi:\n",
    "$$\tA=\n",
    "\t\\begin{bmatrix}\n",
    "\tA_{11} & A_{12} & A_{13} \\\\\n",
    "\tA_{21} & A_{22} & A_{23}\n",
    "\t\\end{bmatrix}.\n",
    "$$\n",
    "Ovaj zapis predstavlja blok matricu $A,$ njeni elementi su matrice $ A_{ij},$ a ne brojevi. Blokovska matrica $A$ je blok-dimenzije $2\\times3,$ dok je polazna (skalarna) matrica $A$ dimenzije $4\\times 4.$"
   ]
  },
  {
   "cell_type": "markdown",
   "metadata": {},
   "source": [
    "**Primer 2.** Na matrici $A=\\begin{bmatrix}1&0&1&0\\\\0&1&0&1\\end{bmatrix}$ uočavamo delove koje možemo kraće da obeležavamo uobičajenom notacijom za jedinične matrice. Tako je blok zapis matrice $A$ blok-dimenzije $1\\times2:$\n",
    "\t$$A=\\left[\\begin{array}{cc|cc}\n",
    "\t1&0&1&0\\\\0&1&0&1\n",
    "\t\\end{array}\\right]=\\begin{bmatrix} I&|&I\\end{bmatrix}.$$\t"
   ]
  },
  {
   "cell_type": "markdown",
   "metadata": {},
   "source": [
    "**Primer 3.** Sistemi linearnih jednačina se za implementaciju i efikasno rešavanje zapisuju u matričnom obliku $$Ax=b.$$ Za predstavljanje sistema u algoritmima za nalaženje rešenja koristimo blok zapis proširene matrice sistema blok dimenzije $1\\times2$ koju nazivamo proširena matrica sistema:\n",
    "\t$$\\begin{bmatrix} A&b\\end{bmatrix}\\quad\\mbox{ili}\\quad\\begin{bmatrix} A&|&b\\end{bmatrix}.$$ \n",
    "Postupci koriste niz transformacija kojima se polazna blok forma dovodi na oblik\n",
    "$$\\begin{bmatrix} A&|&b\\end{bmatrix}\\quad\\mapsto\\quad\\begin{bmatrix} I&|&v\\end{bmatrix},$$\n",
    "gde je $v$ vektor koji sadrži rešenja polaznog sistema. Algoritam koji se koristi je Gausov."
   ]
  },
  {
   "cell_type": "markdown",
   "metadata": {},
   "source": [
    "Simultano rešavanje više sistema linearnih jednačina sa istom matricom sistema, tj. rešavanje matričnih jednačina $AX=B$ koristi istu notaciju $\\begin{bmatrix} A&|&B\\end{bmatrix}.$ Gaus-Jordanov metod predstavlja niz transformacija sa rezultatom\n",
    "$$\\begin{bmatrix} A&|&B\\end{bmatrix}\\quad\\mapsto\\quad\\begin{bmatrix} I&|&V\\end{bmatrix},$$\n",
    "gde je $V$ matrica rešenje polazne matrične jednačine. Ovim postupkom se izračunava i inverzna matrica regularne matrice.\n",
    "$$\\begin{bmatrix} A&|&I\\end{bmatrix}\\quad\\mapsto\\quad\\begin{bmatrix} I&|&A^{-1}\\end{bmatrix}.$$"
   ]
  },
  {
   "cell_type": "markdown",
   "metadata": {},
   "source": [
    "## Операције са блок-матрицама\n",
    "\n",
    "U slučaju blokovske podele $2\\times2,$  matricu $A$ tipa $m\\times n$ jednom pravom paralelnom vrstama i jednom pravom paralelnom kolonama razbijamo na četiri podmatrice, \n",
    "$$A=\\begin{bmatrix} A_{11}& A_{12}\\\\ A_{21}& A_{22}\\end{bmatrix}.$$\n",
    "\n",
    "Notacija blok matrica podržava osnovnu algebru matrica. Operacije nad blok matricama su prirodno produženje operacija nad skalarnim matricama. Mogućnost sprovođenja operacija nad pojedinačnim blokovima uslovljena je slaganjem dimenzija tih blokova. Uslov izvršivosti svake od operacija svodi se na uobičajene uslove jednakosti dimenzija. \t "
   ]
  },
  {
   "cell_type": "markdown",
   "metadata": {},
   "source": [
    "Ako je $\\lambda\\in\\mathbb{C}$ data konstanta tada je:\n",
    "$$\n",
    "\\lambda A = \\begin{bmatrix}\n",
    "\\lambda A_{11} & \\lambda A_{12}\\\\\n",
    "\\lambda A_{21} & \\lambda A_{22}\\end{bmatrix} \\quad\\mbox{i}\\quad\n",
    "A^T=\\begin{bmatrix} A_{11}^T & A_{21}^T\\\\\n",
    "A_{12}^T & A_{22}^T \\end{bmatrix}.\n",
    "$$"
   ]
  },
  {
   "cell_type": "markdown",
   "metadata": {},
   "source": [
    "Zbir blok matrica u blok formi je moguć jedino ako su odgovarajući blokovi  matrice istog tipa. Blokovska podela koja omogućava takvu primenu operacije naziva se **konformna podela** matrica za sabiranje. U tom slučaju važi jednakost:\n",
    "$$\n",
    "A+B =\\begin{bmatrix} A_{11}& A_{12}\\\\ A_{21}& A_{22}\\end{bmatrix}+\n",
    "\\begin{bmatrix} B_{11}& B_{12}\\\\ B_{21}& B_{22}\\end{bmatrix}= \n",
    "\\begin{bmatrix} A_{11}+B_{11}& A_{12}+B_{12}\\\\ A_{21}+B_{21}& A_{22}+B_{22}\\end{bmatrix}.\n",
    "$$"
   ]
  },
  {
   "cell_type": "markdown",
   "metadata": {},
   "source": [
    "Proizvod blok matrica $2\\times2$ je takođe blok matrica istog blokovskog tipa. Izraz za prozvod dat je sa:\n",
    "$$\n",
    "A B =\\begin{bmatrix} A_{11}& A_{12}\\\\ A_{21}& A_{22}\\end{bmatrix} \n",
    "\\begin{bmatrix} B_{11}& B_{12}\\\\ B_{21}& B_{22}\\end{bmatrix}= \n",
    "\\begin{bmatrix} A_{11}B_{11}+A_{12}B_{21} & A_{11}B_{12}+A_{12}B_{22}\\\\ A_{21}B_{11}+A_{22}B_{21} & A_{21}B_{12}+A_{22}B_{22}\\end{bmatrix}.\n",
    "$$\n",
    "Blokovsko množenje  je moguće izvesti jedino ako je definisan svaki od proizvoda u izrazu.\n",
    "Da bi množenje matrica $A$ i $B$ moglo da se sprovede u blok formi neophodno je da se podela u blokove po kolonama matrice $A$ slaže sa podelom u blokove po vrstama matrice $B$ - pravilo unutrašnjeg indeksa za svako blokovsko množenje.  Ukoliko su ispunjeni svi ovi uslovi, kažemo da su matrice $A$ i $B$ konformno podeljene u blokove za operaciju množenja. U praksi se najčešće koristi konformna podela u kojoj su odgovarajući dijagonalni blokovi kvadratne matrice istog tipa. Time se postiže konformnost za sve aritmetičke operacije.\n",
    "\n",
    "Množenje matrica u blok formi i pojam konformne podele matrica se lako uopštava na veće blokovske dimenzije. Ona omogućava množenje matrica po istim pravilima koja važe za množenje običnih skalarnih matrica. Kako za množenje matrica ne važi komutativnost, potrebno je strogo voditi računa o redosledu činilaca prilikom blokovskog množenja. "
   ]
  },
  {
   "cell_type": "markdown",
   "metadata": {},
   "source": [
    "**Primer 4.** Dovršićemo konformno razbijanje matrica $A$ i $B$ na blok matrice reda 2, tj. napravićemo razbijanje tako da blokovsko množenje u proizvodu $AB$ bude moguće. Neophodno je obezbediti poklapanje unutrašnjih indeksa blokova u blokovskom proizvodu. \n",
    "$$A=\\left[\\begin{array}{c|cc}\n",
    "\t1&2&3\\\\ \\hline \t\t4&5&6\\\\7&8&9\n",
    "\t\\end{array}\\right]=\n",
    "\\begin{bmatrix} A_{11}&A_{12}\\\\A_{21}&A_{22}\\end{bmatrix},\\quad \t\n",
    "B=\\left[\\begin{array}{cccc}\n",
    "\t1&2&3&4\\\\5&6&7&8\\\\9&10&11&12\n",
    "\t\\end{array}\\right]\n",
    "\t.$$"
   ]
  },
  {
   "cell_type": "markdown",
   "metadata": {},
   "source": [
    "Konformno razbijanje matrice $B$ u blok matricu reda 2, $B=\\begin{bmatrix} B_{11}&B_{12}\\\\B_{21}&B_{22}\\end{bmatrix},$ moguće je izvesti na nekoliko načina. Da bismo lakše sagledali odnos indeksa blokova koristićemo predstavljanje proizvoda matrica preko spoljašnjeg proizvoda vektora:\n",
    "$$AB=\\begin{bmatrix} A_{11}&A_{12}\\\\A_{21}&A_{22}\\end{bmatrix}\n",
    "\\begin{bmatrix} B_{11}&B_{12}\\\\B_{21}&B_{22}\\end{bmatrix}=\n",
    "\\begin{bmatrix} A_{11}\\\\ A_{21}\\end{bmatrix}\n",
    "\\begin{bmatrix} B_{11}&B_{12}\\end{bmatrix}+\n",
    "\\begin{bmatrix} A_{12}\\\\ A_{22}\\end{bmatrix}\n",
    "\\begin{bmatrix} B_{21}&B_{22}\\end{bmatrix}.$$"
   ]
  },
  {
   "cell_type": "markdown",
   "metadata": {},
   "source": [
    "Prva blokovska kolona $\\begin{bmatrix} A_{11}\\\\ A_{21}\\end{bmatrix}=\\left[\\begin{array}{c}1\\\\ \\hline 4\\\\7\\end{array}\\right]$ matrice $A$ sadrži jednu skalarnu kolonu, pa i prva blokovska vrsta $\\begin{bmatrix} B_{11}&B_{12}\\end{bmatrix}$ matrice $B$ mora da sadrži jednu skalarnu vrstu da bi se obezbedila jednakost unutrašnjih indeksa. Slično, druga blokovska kolona $\\begin{bmatrix} A_{12}\\\\ A_{22}\\end{bmatrix}=\\left[\\begin{array}{cc}2&3\\\\ \\hline 5&6\\\\8&9\\end{array}\\right]$ sadrži dve skalarne kolone. Toliko skalarnih vrsta mora sadržati druga blokovska vrsta $\\begin{bmatrix} B_{21}&B_{22}\\end{bmatrix}$ matrice $B.$\n",
    "Tako dolazimo do mogućih konformnih razbijanja matrice $B:$\n",
    "$$B=\\left[\\begin{array}{c|ccc}\n",
    "\t1&2&3&4\\\\ \\hline 5&6&7&8\\\\9&10&11&12\n",
    "\t\\end{array}\\right],\\quad\n",
    "\tB=\\left[\\begin{array}{cc|cc}\n",
    "\t1&2&3&4\\\\ \\hline 5&6&7&8\\\\9&10&11&12\n",
    "\t\\end{array}\\right],\\quad\n",
    "\tB=\\left[\\begin{array}{ccc|c}\n",
    "\t1&2&3&4\\\\ \\hline 5&6&7&8\\\\9&10&11&12\n",
    "\t\\end{array}\\right].$$"
   ]
  },
  {
   "cell_type": "markdown",
   "metadata": {},
   "source": [
    "Izračunavanjem u Pythonu možemo da proverimo ove rezultate."
   ]
  },
  {
   "cell_type": "code",
   "execution_count": 2,
   "metadata": {},
   "outputs": [
    {
     "data": {
      "text/plain": [
       "array([[1, 2, 3],\n",
       "       [4, 5, 6],\n",
       "       [7, 8, 9]])"
      ]
     },
     "execution_count": 2,
     "metadata": {},
     "output_type": "execute_result"
    }
   ],
   "source": [
    "A=np.arange(1,10).reshape(3,3)\n",
    "A"
   ]
  },
  {
   "cell_type": "code",
   "execution_count": 3,
   "metadata": {},
   "outputs": [
    {
     "data": {
      "text/plain": [
       "array([[ 1,  2,  3,  4],\n",
       "       [ 5,  6,  7,  8],\n",
       "       [ 9, 10, 11, 12]])"
      ]
     },
     "execution_count": 3,
     "metadata": {},
     "output_type": "execute_result"
    }
   ],
   "source": [
    "B=np.arange(1,13).reshape(3,4)\n",
    "B"
   ]
  },
  {
   "cell_type": "code",
   "execution_count": 4,
   "metadata": {},
   "outputs": [
    {
     "data": {
      "text/plain": [
       "array([[ 38,  44,  50,  56],\n",
       "       [ 83,  98, 113, 128],\n",
       "       [128, 152, 176, 200]])"
      ]
     },
     "execution_count": 4,
     "metadata": {},
     "output_type": "execute_result"
    }
   ],
   "source": [
    "C=A@B\n",
    "C"
   ]
  },
  {
   "cell_type": "markdown",
   "metadata": {},
   "source": [
    "Proverićemo blokovsko množenje prema formuli\n",
    "$$\n",
    "A B =\\begin{bmatrix} A_{11}& A_{12}\\\\ A_{21}& A_{22}\\end{bmatrix} \n",
    "\\begin{bmatrix} B_{11}& B_{12}\\\\ B_{21}& B_{22}\\end{bmatrix}= \n",
    "\\begin{bmatrix} A_{11}B_{11}+A_{12}B_{21} & A_{11}B_{12}+A_{12}B_{22}\\\\ A_{21}B_{11}+A_{22}B_{21} & A_{21}B_{12}+A_{22}B_{22}\\end{bmatrix}\n",
    "$$\n",
    "za različite konformne podele matrice $B.$"
   ]
  },
  {
   "cell_type": "markdown",
   "metadata": {},
   "source": [
    "Prva podela: $A=\\left[\\begin{array}{c|cc}\n",
    "\t1&2&3\\\\ \\hline \t\t4&5&6\\\\7&8&9\n",
    "\t\\end{array}\\right]$ i $B=\\left[\\begin{array}{c|ccc}\n",
    "\t1&2&3&4\\\\ \\hline 5&6&7&8\\\\9&10&11&12\n",
    "\t\\end{array}\\right].$"
   ]
  },
  {
   "cell_type": "code",
   "execution_count": 5,
   "metadata": {},
   "outputs": [
    {
     "data": {
      "text/plain": [
       "array([[ 38,  44,  50,  56],\n",
       "       [ 83,  98, 113, 128],\n",
       "       [128, 152, 176, 200]])"
      ]
     },
     "execution_count": 5,
     "metadata": {},
     "output_type": "execute_result"
    }
   ],
   "source": [
    "C11=A[:1,:1]@B[:1,:1]+A[:1,1:]@B[1:,:1]\n",
    "C12=A[:1,:1]@B[:1,1:]+A[:1,1:]@B[1:,1:]\n",
    "C21=A[1:,:1]@B[:1,:1]+A[1:,1:]@B[1:,:1]\n",
    "C22=A[1:,:1]@B[:1,1:]+A[1:,1:]@B[1:,1:]\n",
    "np.concatenate((np.concatenate((C11,C12),axis=1),np.concatenate((C21,C22),axis=1)))"
   ]
  },
  {
   "cell_type": "markdown",
   "metadata": {},
   "source": [
    "Druga podela $A=\\left[\\begin{array}{c|cc}\n",
    "\t1&2&3\\\\ \\hline \t\t4&5&6\\\\7&8&9\n",
    "\t\\end{array}\\right]$ i $\n",
    "\tB=\\left[\\begin{array}{cc|cc}\n",
    "\t1&2&3&4\\\\ \\hline 5&6&7&8\\\\9&10&11&12\n",
    "\t\\end{array}\\right].$"
   ]
  },
  {
   "cell_type": "code",
   "execution_count": 6,
   "metadata": {},
   "outputs": [
    {
     "data": {
      "text/plain": [
       "array([[ 38,  44,  50,  56],\n",
       "       [ 83,  98, 113, 128],\n",
       "       [128, 152, 176, 200]])"
      ]
     },
     "execution_count": 6,
     "metadata": {},
     "output_type": "execute_result"
    }
   ],
   "source": [
    "C11=A[:1,:1]@B[:1,:2]+A[:1,1:]@B[1:,:2]\n",
    "C12=A[:1,:1]@B[:1,2:]+A[:1,1:]@B[1:,2:]\n",
    "C21=A[1:,:1]@B[:1,:2]+A[1:,1:]@B[1:,:2]\n",
    "C22=A[1:,:1]@B[:1,2:]+A[1:,1:]@B[1:,2:]\n",
    "np.concatenate((np.concatenate((C11,C12),axis=1),np.concatenate((C21,C22),axis=1)))"
   ]
  },
  {
   "cell_type": "markdown",
   "metadata": {},
   "source": [
    "Treća podela $A=\\left[\\begin{array}{c|cc}\n",
    "\t1&2&3\\\\ \\hline \t\t4&5&6\\\\7&8&9\n",
    "\t\\end{array}\\right]$ i $\n",
    "\tB=\\left[\\begin{array}{ccc|c}\n",
    "\t1&2&3&4\\\\ \\hline 5&6&7&8\\\\9&10&11&12\n",
    "\t\\end{array}\\right].$"
   ]
  },
  {
   "cell_type": "code",
   "execution_count": 7,
   "metadata": {},
   "outputs": [
    {
     "data": {
      "text/plain": [
       "array([[ 38,  44,  50,  56],\n",
       "       [ 83,  98, 113, 128],\n",
       "       [128, 152, 176, 200]])"
      ]
     },
     "execution_count": 7,
     "metadata": {},
     "output_type": "execute_result"
    }
   ],
   "source": [
    "C11=A[:1,:1]@B[:1,:3]+A[:1,1:]@B[1:,:3]\n",
    "C12=A[:1,:1]@B[:1,3:]+A[:1,1:]@B[1:,3:]\n",
    "C21=A[1:,:1]@B[:1,:3]+A[1:,1:]@B[1:,:3]\n",
    "C22=A[1:,:1]@B[:1,3:]+A[1:,1:]@B[1:,3:]\n",
    "np.concatenate((np.concatenate((C11,C12),axis=1),np.concatenate((C21,C22),axis=1)))"
   ]
  },
  {
   "cell_type": "markdown",
   "metadata": {},
   "source": [
    "**Primer 5.** U slučaju blok podele matrica-vektor $\\begin{bmatrix} A&v\\end{bmatrix}$ koristimo i notaciju $\\begin{bmatrix} A&|& v\\end{bmatrix},$ gde je $A$ matrica i $v$ vektor. Tada je proizvod\n",
    "\t$$\\begin{bmatrix} A&v\\end{bmatrix}^T\n",
    "    \\begin{bmatrix} A&v\\end{bmatrix}\n",
    "    =\\begin{bmatrix} A^T\\\\ v^T\\end{bmatrix}\n",
    "    \\begin{bmatrix} A&v\\end{bmatrix}=\n",
    "    \\begin{bmatrix} A^TA&A^Tv\\\\v^TA&v^Tv\\end{bmatrix}.$$"
   ]
  },
  {
   "cell_type": "markdown",
   "metadata": {},
   "source": [
    "Izračunavanjem u Pythonu možemo da proverimo ove rezultate. Koristićemo ulazne podatke o matrici $B$ iz prethodnog primera, samo ćemo elemente tumačiti u svojstvu blok podele iz ovog primera.\n",
    "$$B=[A|v]=\\left[\\begin{array}{ccc|c}\n",
    "\t1&2&3&4\\\\ 5&6&7&8\\\\9&10&11&12\n",
    "\t\\end{array}\\right].$$"
   ]
  },
  {
   "cell_type": "code",
   "execution_count": 8,
   "metadata": {},
   "outputs": [
    {
     "data": {
      "text/plain": [
       "array([[107, 122, 137, 152],\n",
       "       [122, 140, 158, 176],\n",
       "       [137, 158, 179, 200],\n",
       "       [152, 176, 200, 224]])"
      ]
     },
     "execution_count": 8,
     "metadata": {},
     "output_type": "execute_result"
    }
   ],
   "source": [
    "B.T@B"
   ]
  },
  {
   "cell_type": "code",
   "execution_count": 9,
   "metadata": {},
   "outputs": [
    {
     "name": "stdout",
     "output_type": "stream",
     "text": [
      "[[107. 122. 137. 152.]\n",
      " [122. 140. 158. 176.]\n",
      " [137. 158. 179. 200.]\n",
      " [152. 176. 200. 224.]]\n"
     ]
    }
   ],
   "source": [
    "C=np.empty((4,4))\n",
    "C[:-1,:-1]=(B[:,:-1]).T@B[:,:-1]   #blok A^TA\n",
    "C[:-1,-1]=(B[:,:-1]).T@B[:,-1]     #blok A^Tv\n",
    "C[-1,:-1]=B[:,-1]@B[:,:-1]         #blok v^TA\n",
    "C[-1,-1]=np.dot(B[:,-1],B[:,-1])   #blok v^Tv\n",
    "print(C)"
   ]
  },
  {
   "cell_type": "markdown",
   "metadata": {},
   "source": [
    "**Primer 6.** Neka su matrice $A$ i $B$ date u blok formi gde indeksi u blokovima označavaju odgovarajuće dimenzije:\n",
    "$$A=\\begin{bmatrix}A_{m\\times r}&| &A_{m\\times s}\\end{bmatrix},\\qquad\n",
    "B=\\begin{bmatrix}\\underline{\\phantom{W}B_{r\\times n}\\phantom{W}}\\\\ {\\phantom{W}B_{s\\times n}\\phantom{W}}\\end{bmatrix}.\n",
    "$$"
   ]
  },
  {
   "cell_type": "markdown",
   "metadata": {},
   "source": [
    "Ovakva blokovska podela pogoduje opisivanju uopštenja spoljašnjeg proizvoda vektora:\n",
    "$$AB=\\begin{bmatrix}A_{m\\times r}&| &A_{m\\times s}\\end{bmatrix}\n",
    "\\begin{bmatrix}\\underline{\\phantom{W}B_{r\\times n}\\phantom{W}}\\\\\\phantom{W}B_{s\\times n}\\phantom{W}\\end{bmatrix}\n",
    "=A_{m\\times r}B_{r\\times n}+A_{m\\times s}B_{s\\times n}.\n",
    "$$"
   ]
  },
  {
   "cell_type": "markdown",
   "metadata": {},
   "source": [
    "Izračunavanjem u Pythonu možemo da proverimo ove rezultate. Iskoristićemo postojeće matrice $A$ i $B$ i naznačenu blokovsku podelu,\n",
    "$$A=\\left[\\begin{array}{cc|c}\n",
    "\t1&2&3\\\\ 4&5&6\\\\7&8&9\n",
    "\t\\end{array}\\right]\\qquad\\mbox{ i }\\qquad\n",
    "\tB=\\left[\\begin{array}{cccc}\n",
    "\t1&2&3&4\\\\ 5&6&7&8\\\\ \\hline 9&10&11&12\n",
    "\t\\end{array}\\right].$$"
   ]
  },
  {
   "cell_type": "code",
   "execution_count": 10,
   "metadata": {},
   "outputs": [
    {
     "name": "stdout",
     "output_type": "stream",
     "text": [
      "[[1 2 3]\n",
      " [4 5 6]\n",
      " [7 8 9]]\n",
      "[[ 1  2  3  4]\n",
      " [ 5  6  7  8]\n",
      " [ 9 10 11 12]]\n",
      "[[ 38  44  50  56]\n",
      " [ 83  98 113 128]\n",
      " [128 152 176 200]]\n"
     ]
    }
   ],
   "source": [
    "print(A)\n",
    "print(B)\n",
    "print(A@B)"
   ]
  },
  {
   "cell_type": "code",
   "execution_count": 11,
   "metadata": {},
   "outputs": [
    {
     "name": "stdout",
     "output_type": "stream",
     "text": [
      "[[ 38  44  50  56]\n",
      " [ 83  98 113 128]\n",
      " [128 152 176 200]]\n"
     ]
    }
   ],
   "source": [
    "AmrBrn=A[:,:-1]@B[:-1]\n",
    "AmsBsn=np.outer(A[:,-1],B[-1])\n",
    "print(AmrBrn+AmsBsn)"
   ]
  },
  {
   "cell_type": "markdown",
   "metadata": {},
   "source": [
    "**Primer 7.**   Ukoliko su vektori $v$ i $u$ zadati kao blok-vektori čiji su odgovarajući blokovi istih dimenzija\n",
    "$$v=\\left[\\begin{array}{c}v_1\\\\ \\hline v_2\\\\ \\hline\\vdots\\\\ \\hline v_d\\end{array}\\right]\n",
    "    \\qquad,\\qquad\n",
    "    u=\\left[\\begin{array}{c}u_1\\\\ \\hline u_2\\\\ \\hline\\vdots\\\\ \\hline u_d\\end{array}\\right],\n",
    "$$    \n",
    "tada je\n",
    "$$v\\cdot u=v^Tu=v_1^Tu_1+v_2^Tu_2+\\dots+v_d^Tu_d=v_1\\cdot u_1+v_2\\cdot u_2+\\dots+v_d\\cdot u_d.$$\n",
    "Drugim rečima, skalarni proizvod blok-vektora jednak je zbiru skalarnih proizvoda njihovih blokova."
   ]
  },
  {
   "cell_type": "markdown",
   "metadata": {},
   "source": [
    "Izračunavanjem u Pythonu možemo da proverimo ove rezultate. Preporuka je da studenti sami dizajniraju numerički eksperiment."
   ]
  },
  {
   "cell_type": "markdown",
   "metadata": {},
   "source": [
    "**Задатак 1.** Користећи блок матрице, израчунати $M^2$ ако је \n",
    "\t\t$$M=\\begin{bmatrix} 1&0&0&0&0&0&0&0&0&1\\\\0&1&0&0&0&0&0&0&1&0\\\\\n",
    "\t\t0&0&1&0&0&0&0&1&0&0\\\\0&0&0&1&0&0&1&0&0&0\\\\0&0&0&0&1&1&0&0&0&0\\\\\n",
    "\t\t0&0&0&0&0&2&0&0&0&0\\\\0&0&0&0&0&0&2&0&0&0\\\\0&0&0&0&0&0&0&3&0&0\\\\\n",
    "\t\t0&0&0&0&0&0&0&0&3&0\\\\0&0&0&0&0&0&0&0&0&3\\end{bmatrix}.$$"
   ]
  },
  {
   "cell_type": "markdown",
   "metadata": {},
   "source": [
    "**Решење :**\n",
    "\n",
    "Уведимо ознаке блокова матрице $M:$ $I=\\begin{bmatrix} 1&0&0&0&0\\\\0&1&0&0&0\\\\0&0&1&0&0\\\\0&0&0&1&0\\\\0&0&0&0&1\\end{bmatrix},$\n",
    "$S=\\begin{bmatrix} 0&0&0&0&1\\\\0&0&0&1&0\\\\0&0&1&0&0\\\\0&1&0&0&0\\\\1&0&0&0&0\\end{bmatrix}$ $A={\\rm diag}(2,2,3,3,3),$ и $O$ је нула-матрица. Тада је\n",
    "\\begin{align}\n",
    "&M=\\begin{bmatrix}I&S\\\\O&A\\end{bmatrix}\\quad\\Longrightarrow\\quad\n",
    "M^2=\\begin{bmatrix}I&S\\\\O&A\\end{bmatrix}\\begin{bmatrix}I&S\\\\O&A\\end{bmatrix}=\n",
    "\\begin{bmatrix}I&S\\\\O&A^2\\end{bmatrix},\\ A^2={\\rm diag}(2,2,3,3,3)^2={\\rm diag}(2^2,2^2,3^2,3^2,3^2),\\\\\n",
    "&M^2=\\begin{bmatrix} 1&0&0&0&0&0&0&0&0&1\\\\0&1&0&0&0&0&0&0&1&0\\\\\n",
    "\t\t0&0&1&0&0&0&0&1&0&0\\\\0&0&0&1&0&0&1&0&0&0\\\\0&0&0&0&1&1&0&0&0&0\\\\\n",
    "\t\t0&0&0&0&0&4&0&0&0&0\\\\0&0&0&0&0&0&4&0&0&0\\\\0&0&0&0&0&0&0&9&0&0\\\\\n",
    "\t\t0&0&0&0&0&0&0&0&9&0\\\\0&0&0&0&0&0&0&0&0&9\\end{bmatrix}.\n",
    "\\end{align}"
   ]
  },
  {
   "cell_type": "code",
   "execution_count": 12,
   "metadata": {},
   "outputs": [],
   "source": [
    "I=np.eye(5)\n",
    "S=I[::-1]\n",
    "A=np.diag([2,2,3,3,3])\n",
    "O=np.zeros((5,5))"
   ]
  },
  {
   "cell_type": "code",
   "execution_count": 13,
   "metadata": {},
   "outputs": [
    {
     "data": {
      "text/plain": [
       "array([[1., 0., 0., 0., 0., 0., 0., 0., 0., 1.],\n",
       "       [0., 1., 0., 0., 0., 0., 0., 0., 1., 0.],\n",
       "       [0., 0., 1., 0., 0., 0., 0., 1., 0., 0.],\n",
       "       [0., 0., 0., 1., 0., 0., 1., 0., 0., 0.],\n",
       "       [0., 0., 0., 0., 1., 1., 0., 0., 0., 0.],\n",
       "       [0., 0., 0., 0., 0., 2., 0., 0., 0., 0.],\n",
       "       [0., 0., 0., 0., 0., 0., 2., 0., 0., 0.],\n",
       "       [0., 0., 0., 0., 0., 0., 0., 3., 0., 0.],\n",
       "       [0., 0., 0., 0., 0., 0., 0., 0., 3., 0.],\n",
       "       [0., 0., 0., 0., 0., 0., 0., 0., 0., 3.]])"
      ]
     },
     "execution_count": 13,
     "metadata": {},
     "output_type": "execute_result"
    }
   ],
   "source": [
    "M=np.concatenate(\n",
    "(np.concatenate((I,S),axis=1),\n",
    "np.concatenate((O,A),axis=1) )   \n",
    ")\n",
    "M"
   ]
  },
  {
   "cell_type": "code",
   "execution_count": 14,
   "metadata": {},
   "outputs": [
    {
     "data": {
      "text/plain": [
       "array([[1., 0., 0., 0., 0., 0., 0., 0., 0., 4.],\n",
       "       [0., 1., 0., 0., 0., 0., 0., 0., 4., 0.],\n",
       "       [0., 0., 1., 0., 0., 0., 0., 4., 0., 0.],\n",
       "       [0., 0., 0., 1., 0., 0., 3., 0., 0., 0.],\n",
       "       [0., 0., 0., 0., 1., 3., 0., 0., 0., 0.],\n",
       "       [0., 0., 0., 0., 0., 4., 0., 0., 0., 0.],\n",
       "       [0., 0., 0., 0., 0., 0., 4., 0., 0., 0.],\n",
       "       [0., 0., 0., 0., 0., 0., 0., 9., 0., 0.],\n",
       "       [0., 0., 0., 0., 0., 0., 0., 0., 9., 0.],\n",
       "       [0., 0., 0., 0., 0., 0., 0., 0., 0., 9.]])"
      ]
     },
     "execution_count": 14,
     "metadata": {},
     "output_type": "execute_result"
    }
   ],
   "source": [
    "M@M"
   ]
  },
  {
   "cell_type": "markdown",
   "metadata": {},
   "source": [
    "**Задатак 2.** Нека је $M$ квадратна матрица дата у блок форми $M=\\begin{bmatrix} A&B\\\\O&O\\end{bmatrix},$ са квадратним водећим блоком $A.$ Са $O$ су означене нула-матрице не обавезно истих димензија. \n",
    "Доказати да је $$M^n=\\begin{bmatrix} A^n&A^{n-1}B\\\\O&O\\end{bmatrix},\\ \\forall n\\in\\mathbb{N}.$$"
   ]
  },
  {
   "cell_type": "markdown",
   "metadata": {},
   "source": [
    "**Решење :**\n",
    "\n",
    "Доказ изводимо индукцијом по степену $n$ матрице $M.$\n",
    "- $n=2:\\quad M^2=\\begin{bmatrix} A&B\\\\O&O\\end{bmatrix}\\begin{bmatrix} A&B\\\\O&O\\end{bmatrix}=\\begin{bmatrix} A^2&AB\\\\O&O\\end{bmatrix}$\n",
    "- индукцијска хипотеза: $M^n=\\begin{bmatrix} A^n&A^{n-1}B\\\\O&O\\end{bmatrix}$ за $n\\geq1.$\n",
    "- $n+1:\\quad M^{n+1}=MM^n=\\begin{bmatrix} A&B\\\\O&O\\end{bmatrix}\\begin{bmatrix} A^n&A^{n-1}B\\\\O&O\\end{bmatrix}=\\begin{bmatrix} A^{n+1}&A^{n}B\\\\O&O\\end{bmatrix}.$"
   ]
  },
  {
   "cell_type": "markdown",
   "metadata": {},
   "source": [
    "**Задатак 3.** Дата је матрица\n",
    "$$M=\\begin{bmatrix}A&B\\\\O&I\\end{bmatrix}, $$\n",
    "која је разбијена на четири блока $A,B,O,I\\in\\mathcal{M}_{n\\times n}.$\n",
    "Испитати да ли да ли је тачна једнакост\t\t\n",
    "$$M^k=\\begin{bmatrix}A^k&(A^{k-1}+A^{k-2}+\\dots+A+I)B\\\\O&I\\end{bmatrix}.$$"
   ]
  },
  {
   "cell_type": "markdown",
   "metadata": {},
   "source": [
    "**Решење :**\n",
    "\n",
    "Доказ изводимо индукцијом по степену $n$ матрице $M.$\n",
    "- $k=2:\\quad M^2=\\begin{bmatrix} A&B\\\\O&I\\end{bmatrix}\\begin{bmatrix} A&B\\\\O&I\\end{bmatrix}=\\begin{bmatrix} A^2&(A+I)B\\\\O&I\\end{bmatrix}$\n",
    "- индукцијска хипотеза: $M^k=\\begin{bmatrix} A^k&(A^{k-1}+A^{k-2}+\\dots+A+I)B\\\\O&I\\end{bmatrix}$ за $k\\geq1.$\n",
    "- $k+1:\\quad M^{k+1}=MM^k=\\begin{bmatrix} A&B\\\\O&I\\end{bmatrix}\\begin{bmatrix} A^k&(A^{k-1}+A^{k-2}+\\dots+A+I)B\\\\O&I\\end{bmatrix}=\\begin{bmatrix} A^{k+1}&(A^{k}+A^{k-1}+\\dots+A+I)B\\\\O&I\\end{bmatrix}.$"
   ]
  },
  {
   "cell_type": "markdown",
   "metadata": {},
   "source": [
    "**Задатак 4.** a) Нека је $M=\\begin{bmatrix} A&O\\\\O&B\\end{bmatrix}$ блок дијагонална матрица са регуларним дијагоналним блоковима. Доказати да је тада $M^{-1}=\\begin{bmatrix} A^{-1}&O\\\\O&B^{-1}\\end{bmatrix}.$\n",
    "\t\t\n",
    "б) Наћи инверзе следећих матрица.\n",
    "\t$$U=\\begin{bmatrix}1&2&0\\\\2&1&0\\\\0&0&3\\end{bmatrix},\\qquad \n",
    "    V=\\begin{bmatrix}1&-1&0&0\\\\2&-1&0&0\\\\0&0&1&3\\\\0&0&2&5\\end{bmatrix}.$$"
   ]
  },
  {
   "cell_type": "markdown",
   "metadata": {},
   "source": [
    "**Решење :**\n",
    "\n",
    "а) $\\begin{bmatrix} A&O\\\\O&B\\end{bmatrix}\\begin{bmatrix} A^{-1}&O\\\\O&B^{-1}\\end{bmatrix}=\\begin{bmatrix} I&O\\\\O&I\\end{bmatrix}=\n",
    "\\begin{bmatrix} A^{-1}&O\\\\O&B^{-1}\\end{bmatrix}\\begin{bmatrix} A&O\\\\O&B\\end{bmatrix}.$"
   ]
  },
  {
   "cell_type": "markdown",
   "metadata": {},
   "source": [
    "б) $U=\\begin{bmatrix}1&2&0\\\\2&1&0\\\\0&0&3\\end{bmatrix}=\\left[\\begin{array}{cc|c}1&2&0\\\\2&1&0\\\\\\hline0&0&3\\end{array}\\right]=\\begin{bmatrix}A&O\\\\O&B\\end{bmatrix}\\quad\\Longrightarrow\\quad\n",
    "U^{-1}=\\begin{bmatrix} A^{-1}&O\\\\O&B^{-1}\\end{bmatrix}=\\left[\\begin{array}{cc|c}-1/3&2/3&0\\\\2/3&-1/3&0\\\\\\hline0&0&1/3\\end{array}\\right].$"
   ]
  },
  {
   "cell_type": "code",
   "execution_count": 15,
   "metadata": {},
   "outputs": [
    {
     "data": {
      "text/plain": [
       "array([[-0.33333333,  0.66666667,  0.        ],\n",
       "       [ 0.66666667, -0.33333333,  0.        ],\n",
       "       [ 0.        ,  0.        ,  0.33333333]])"
      ]
     },
     "execution_count": 15,
     "metadata": {},
     "output_type": "execute_result"
    }
   ],
   "source": [
    "U=np.array([[1,2,0],[2,1,0],[0,0,3]])\n",
    "np.linalg.inv(U)"
   ]
  },
  {
   "cell_type": "markdown",
   "metadata": {},
   "source": [
    "$V=\\begin{bmatrix}1&-1&0&0\\\\2&-1&0&0\\\\0&0&1&3\\\\0&0&2&5\\end{bmatrix}=\\left[\\begin{array}{cc|cc}1&-1&0&0\\\\2&-1&0&0\\\\\\hline0&0&1&3\\\\0&0&2&5\\end{array}\\right]\\begin{bmatrix}A&O\\\\O&B\\end{bmatrix}\n",
    "\\quad\\Longrightarrow\\quad\n",
    "U^{-1}=\\begin{bmatrix} A^{-1}&O\\\\O&B^{-1}\\end{bmatrix}=\\left[\\begin{array}{cc|cc}-1&1&0&0\\\\-2&1&0&0\\\\\\hline0&0&-5&3\\\\0&0&2&-1\\end{array}\\right].$"
   ]
  },
  {
   "cell_type": "code",
   "execution_count": 16,
   "metadata": {},
   "outputs": [
    {
     "data": {
      "text/plain": [
       "array([[-1.,  1.,  0.,  0.],\n",
       "       [-2.,  1., -0., -0.],\n",
       "       [ 0.,  0., -5.,  3.],\n",
       "       [ 0.,  0.,  2., -1.]])"
      ]
     },
     "execution_count": 16,
     "metadata": {},
     "output_type": "execute_result"
    }
   ],
   "source": [
    "V=np.array([[1,-1,0,0],[2,-1,0,0],[0,0,1,3],[0,0,2,5]])\n",
    "np.linalg.inv(V)"
   ]
  },
  {
   "cell_type": "markdown",
   "metadata": {},
   "source": [
    "**Primer 8.** Kao što je već poznato, proizvod $AB,$\n",
    " kavdratnih matrica reda $n,$ \ttroši $n^3$ operacija množenja i $n^2(n-1)$ operacija sabiranja, tj. ukupno $\\mathcal{O}(2n^3).$ Svaka od osnovnih aritmetičkih operacija $(+,-,\\cdot,/)$ podrazumeva neko vreme izvršenja na računaru, koje je za pojedinačne operacije izuzetno kratko. Međutim, za velike dimenzije matrica $A$ i $B$ vreme izvršenja celokupnog postupka može da bude i duže. Glavno vremensko opterećenje zapravo leži u broju komunikacija $CPU$ jedinice sa memorijom računara. \n",
    "\t \n",
    "\t\n",
    "Različite blokovske podele matrica mogu predstavljati različite strategije smeštaja delova matrica u brzu memoriju računara. Cilj je obezbediti što bolju lokalnost podataka za operacije koje treba izvršiti i time smanjiti broj komunikacija između primarne i sekundarne memorije računara. Opisaćemo algoritam za množenje dve blok matrice blokovskih dimenzija $2\\times2,$ koji je predložio [Štrasen](https://stanford.edu/~rezab/classes/cme323/S16/notes/Lecture03/cme323_lec3.pdf) u radu: V. Štrasen. Gaussian elimination is not optimal. Numer. Math., 13:354–356, 1969."
   ]
  },
  {
   "cell_type": "markdown",
   "metadata": {},
   "source": [
    "Neka su date dve blok matrice reda $2n$\n",
    "\t$$A=\\begin{bmatrix} A_{11}&A_{12}\\\\ A_{21}&A_{22}\\end{bmatrix}\\quad\\mbox{i}\\quad\n",
    "\tB=\\begin{bmatrix} B_{11}&B_{12}\\\\ B_{21}&B_{22}\\end{bmatrix},$$\n",
    " gde su svi blokovi $A_{ij}$ i $B_{ij}$ kvadratne matrice reda $n.$ Njihov proizvod je blok matrica istog tipa \n",
    "$$C=AB=\\begin{bmatrix} C_{11}&C_{12}\\\\ C_{21}&C_{22}\\end{bmatrix}= \n",
    "\\begin{bmatrix} A_{11}B_{11}+A_{12}B_{21} & A_{11}B_{12}+A_{12}B_{22}\\\\ A_{21}B_{11}+A_{22}B_{21} & A_{21}B_{12}+A_{22}B_{22}\\end{bmatrix}.$$\n",
    "Prema ovoj formuli izračunavanje matrice $C$ koristi $8$ proizvoda blokova $n\\times n.$ Izračunavanje proizvoda matrica je skuplja operacija od sabiranja matrica, jer ovo drugo troši $n^2$ sabiranja. Broj množenja blok matrica može se smanjiti na $7$ uz povećan broj sabiranja blokova. \n",
    "\tNa taj način broj operacija trećeg nivoa se smanjuje, a povećava broj operacija drugog nivoa.\t"
   ]
  },
  {
   "cell_type": "markdown",
   "metadata": {},
   "source": [
    "Štrasenov postupak predviđa uvođenje sledećih međurezultata, tj. koraka:\n",
    "\\begin{align}\n",
    "\t    M_1&=(A_{11}+A_{22})(B_{11}+B_{22}),\\\\\n",
    "\t    M_2&=(A_{21}+A_{22})B_{11},\\\\\n",
    "\t    M_3&=A_{11}(B_{12}-B_{22}),\\\\\n",
    "\t    M_4&=A_{22}(B_{21}-B_{11}),\\\\\n",
    "\t    M_5&=(A_{11}+A_{12})B_{22},\\\\\n",
    "\t    M_6&=(A_{21}-A_{11})(B_{11}+B_{12}),\\\\\n",
    "\t    M_7&=(A_{12}-A_{22})(B_{21}+B_{22}).\n",
    "\\end{align}\n",
    "Tada se matrica $C$ dobija sa\n",
    "$$C=\\begin{bmatrix} M_1+M_4-M_5+M_7 & M_3+M_5\\\\\n",
    "M_2+M_4 & M_1-M_2+M_3+M_6\n",
    "\\end{bmatrix}.$$\n",
    "U klasičnom postupku množenja za izračunavanje matrice $C\\in\\mathcal{M}_{2n\\times2n}$ bilo bi upotrebljeno $(2n)^3$ operacija množenja i  $(2n)^3-(2n)^2$ operacija sabiranja, ukupno $16n^3-4n^2$. U Štrasenovom algoritmu potrebne operacije su: $7n^3$ množenja  i $7n^3+8n^2$ sabiranja, ukupno $14n^3+8n^2$. Grafičkim poređenjem dva polinoma vidimo da manja operacijska složenost Štrasenovog algoritma nastupa već za male vrednosti $n\\in\\mathbb{N}.$"
   ]
  },
  {
   "cell_type": "markdown",
   "metadata": {},
   "source": [
    "Prikazan Štrasenov algoritam je nešto bolji od klasičnog množenja matrica. Naime, pokazano je da se rekurzivnom podelom blokova na $2\\times2$ blok matrice za izračunavanje matrica $M_1,\\dots,M_7$ ukupan broj aritmetičkih operacija svodi na $\\mathcal{O}(n^{\\log_2 7})\\approx\\mathcal{O}(n^{2.8})$ kod matrica dimenzije $n=2^k.$ Značaj ovog algoritma je što je pokrenuo istraživanja u smeru [efikasnijih algoritama](https://handwiki.org/wiki/Coppersmith%E2%80%93Winograd_algorithm) množenja matrica."
   ]
  },
  {
   "cell_type": "markdown",
   "metadata": {},
   "source": [
    "**Задатак 5.** Написати програмски код којим се реализује Штрасенов алгоритам множења две матрице. Нека је $n=2^p$ и $A,B\\in\\mathcal{M}_{n\\times n}.$ Уколико је $n_{\\min}=2^d,\\ d\\leq p,$ онда алгоритам израчунава производ $C=AB$ по следећем правилу:\n",
    "```\n",
    "    def C=strass(A,B,n,n_min):\n",
    "        if n<=n_min\n",
    "            C=AB na klasičan način\n",
    "        else\n",
    "            m=n/2\n",
    "            M1=strass(A[:m,:m]+A[m:,m:],B[:m,:m]+B[m:,m:])\n",
    "            M2=strass(A[m:,:m]+A[m:,m:],B[:m,:m])\n",
    "            M3=strass(A[:m,:m],B[:m,m:]-B[m:,m:])\n",
    "            M4=strass(A[m:,m:],B[m:,:m]-B[:m,:m])\n",
    "            M5=strass(A[:m,:m]+A[:m,m:],B[m:,m:])\n",
    "            M6=strass(A[m:,:m]-A[:m,:m],B[:m,:m]+B[:m,m:])\n",
    "            M7=strass(A[:m,m:]-A[m:,m:],B[m:,:m]+B[m:,m:])\n",
    "            C[:m,:m]=M1+M4-M5+M7\n",
    "            C[:m,m:]=M3+M5\n",
    "            C[m:,:m]=M2+M4\n",
    "            C[m:,m:]=M1-M2+M3+M6\n",
    "```"
   ]
  },
  {
   "cell_type": "markdown",
   "metadata": {},
   "source": [
    "**Zadatak 6.** Prilagoditi prethodni algoritam kojim bi se množile dve kvadratne matrice proizvoljnog reda. To znači, ukoliko su matrice neparne dimenzije dopuniti ih nula vrstom i kolonom do parne dimenzije."
   ]
  },
  {
   "cell_type": "markdown",
   "metadata": {},
   "source": [
    "**Zadatak 7.** Prilagoditi prethodni algoritam tako da može da množi i pravougaone matrice."
   ]
  },
  {
   "cell_type": "markdown",
   "metadata": {},
   "source": [
    "## Кронекеров производ матрица"
   ]
  },
  {
   "cell_type": "markdown",
   "metadata": {},
   "source": [
    "**Дефиниција 1.** За две матрице $A=[a_{ij}]\\in\\mathcal{M}_{m\\times n}$ и $B=[b_{kl}]\\in\\mathcal{M}_{p\\times q}$ Кронекеров производ матрица $\\otimes$ је операција којом се добија матрица $C=A\\otimes B\\in\\mathcal{M}_{mp\\times nq},$ а чији је садржај описан следећом блок формом:\n",
    "$$C=A\\otimes B=\\begin{bmatrix}a_{11}B&a_{12}B&\\dots&a_{1n}B\\\\\n",
    "a_{21}B&a_{22}B&\\dots&a_{2n}B\\\\\n",
    "\\vdots&\\vdots&&\\vdots\\\\\n",
    "a_{m1}B&a_{m2}B&\\dots&a_{mn}B\\end{bmatrix}.$$"
   ]
  },
  {
   "cell_type": "markdown",
   "metadata": {},
   "source": [
    "Кронекеров производ као резултат има матрицу чији су блокови скалирана матрица $B$ где су коефицијенти скалирања садржани у матрици $A.$"
   ]
  },
  {
   "cell_type": "markdown",
   "metadata": {},
   "source": [
    "**Пример 9.** Потражићемо Кронекеров производ две јединичне матрице $I_2,I_3.$\n",
    "\\begin{align}\n",
    "I_2\\otimes I_3&=\\begin{bmatrix}1&0\\\\0&1\\end{bmatrix}\\otimes I_3\n",
    "=\\begin{bmatrix}1\\cdot I_3&0\\cdot I_3\\\\0\\cdot I_3&1\\cdot I_3\\end{bmatrix}\n",
    "=\\begin{bmatrix}I_3&O_3\\\\O_3&I_3\\end{bmatrix}\\\\\n",
    "&=\\left[\\begin{array}{ccc|ccc}1&0&0&0&0&0\\\\\n",
    "0&1&0&0&0&0\\\\0&0&1&0&0&0\\\\\\hline\n",
    "0&0&0&1&0&0\\\\0&0&0&0&1&0\\\\0&0&0&0&0&1\n",
    "\\end{array}\\right]=I_6.\n",
    "\\end{align}"
   ]
  },
  {
   "cell_type": "code",
   "execution_count": 17,
   "metadata": {},
   "outputs": [
    {
     "data": {
      "text/plain": [
       "array([[1., 0., 0., 0., 0., 0.],\n",
       "       [0., 1., 0., 0., 0., 0.],\n",
       "       [0., 0., 1., 0., 0., 0.],\n",
       "       [0., 0., 0., 1., 0., 0.],\n",
       "       [0., 0., 0., 0., 1., 0.],\n",
       "       [0., 0., 0., 0., 0., 1.]])"
      ]
     },
     "execution_count": 17,
     "metadata": {},
     "output_type": "execute_result"
    }
   ],
   "source": [
    "I2=np.eye(2)\n",
    "I3=np.eye(3)\n",
    "np.kron(I2,I3)"
   ]
  },
  {
   "cell_type": "markdown",
   "metadata": {},
   "source": [
    "Потражићемо Кронекеров производ матрица $I_2$ и $M=\\begin{bmatrix}1&2&3\\\\-1&1&0\\end{bmatrix}$ у оба смера."
   ]
  },
  {
   "cell_type": "code",
   "execution_count": 18,
   "metadata": {},
   "outputs": [
    {
     "data": {
      "text/plain": [
       "array([[ 1.,  2.,  3.,  0.,  0.,  0.],\n",
       "       [-1.,  1.,  0., -0.,  0.,  0.],\n",
       "       [ 0.,  0.,  0.,  1.,  2.,  3.],\n",
       "       [-0.,  0.,  0., -1.,  1.,  0.]])"
      ]
     },
     "execution_count": 18,
     "metadata": {},
     "output_type": "execute_result"
    }
   ],
   "source": [
    "M=np.array([[1,2,3],[-1,1,0]])\n",
    "np.kron(I2,M)"
   ]
  },
  {
   "cell_type": "code",
   "execution_count": 19,
   "metadata": {},
   "outputs": [
    {
     "data": {
      "text/plain": [
       "array([[ 1.,  0.,  2.,  0.,  3.,  0.],\n",
       "       [ 0.,  1.,  0.,  2.,  0.,  3.],\n",
       "       [-1., -0.,  1.,  0.,  0.,  0.],\n",
       "       [-0., -1.,  0.,  1.,  0.,  0.]])"
      ]
     },
     "execution_count": 19,
     "metadata": {},
     "output_type": "execute_result"
    }
   ],
   "source": [
    "np.kron(M,I2)"
   ]
  },
  {
   "cell_type": "markdown",
   "metadata": {},
   "source": [
    "Закључујемо да ова операција није комутативна."
   ]
  },
  {
   "cell_type": "markdown",
   "metadata": {},
   "source": [
    "**Пример 10.** Спољашњи производ два вектора се поклапа са њиховим Кронекеровим производом.\n",
    "\\begin{align}\n",
    "\\begin{bmatrix}a_1\\\\a_2\\\\\\vdots\\\\a_m\\end{bmatrix}\n",
    "\\begin{bmatrix}b_1&b_2&\\dots&b_n\\end{bmatrix}\n",
    "&=\\begin{bmatrix}\n",
    "a_1b_1&a_1b_2&\\dots&a_1b_n\\\\\n",
    "a_2b_1&a_2b_2&\\dots&a_2b_n\\\\\n",
    "\\vdots&\\vdots&&\\vdots\\\\\n",
    "a_mb_1&a_mb_2&\\dots&a_mb_n\n",
    "\\end{bmatrix}\n",
    "=\\begin{bmatrix}\n",
    "a_1\\begin{bmatrix}b_1&b_2&\\dots&b_n\\end{bmatrix}\\\\\n",
    "a_2\\begin{bmatrix}b_1&b_2&\\dots&b_n\\end{bmatrix}\\\\\n",
    "\\vdots\\\\\n",
    "a_m\\begin{bmatrix}b_1&b_2&\\dots&b_n\\end{bmatrix}\n",
    "\\end{bmatrix}\\\\\n",
    "&=\\begin{bmatrix}a_1\\\\a_2\\\\\\vdots\\\\a_m\\end{bmatrix}\\otimes\n",
    "\\begin{bmatrix}b_1&b_2&\\dots&b_n\\end{bmatrix}.\n",
    "\\end{align}"
   ]
  },
  {
   "cell_type": "markdown",
   "metadata": {},
   "source": [
    "Приметимо да уколико је матрица $A$ дата у блок форми $A=\\begin{bmatrix}A_{11}&A_{12}\\\\A_{21}&A_{22}\\end{bmatrix},$ тада се и израчунавање Кронекеровог производа може да искаже на сличан начин:\n",
    "$$A\\otimes B=\\begin{bmatrix}A_{11}&A_{12}\\\\A_{21}&A_{22}\\end{bmatrix}\\otimes B=\n",
    "\\begin{bmatrix}A_{11}\\otimes B&A_{12}\\otimes B\\\\A_{21}\\otimes B&A_{22}\\otimes B\\end{bmatrix}.$$\n",
    "\n",
    "И у општијем случају, тј. за блок поделу\n",
    "$A=\\begin{bmatrix}\n",
    "A_{11} & A_{12} & \\dots &A_{1\\nu}\\\\\n",
    "A_{21} & A_{22} & \\dots &A_{2\\nu}\\\\\n",
    "\\vdots & \\vdots & \\ddots & \\vdots\\\\\n",
    "A_{\\mu1} & A_{\\mu2} & \\dots &A_{\\mu \\nu}\n",
    "\\end{bmatrix}$\n",
    "важи\n",
    "\n",
    "\n",
    "$$A\\otimes B=\\begin{bmatrix}\n",
    "A_{11} & A_{12} & \\dots &A_{1\\nu}\\\\\n",
    "A_{21} & A_{22} & \\dots &A_{2\\nu}\\\\\n",
    "\\vdots & \\vdots & \\ddots & \\vdots\\\\\n",
    "A_{\\mu1} & A_{\\mu2} & \\dots &A_{\\mu \\nu}\\end{bmatrix}\\otimes B=\n",
    "\\begin{bmatrix} A_{11}\\otimes B & A_{12}\\otimes B & \\dots &A_{1\\nu}\\otimes B\\\\\n",
    "A_{21}\\otimes B & A_{22}\\otimes B & \\dots &A_{2\\nu}\\otimes B\\\\\n",
    "\\vdots & \\vdots & \\ddots & \\vdots\\\\\n",
    "A_{\\mu1}\\otimes B & A_{\\mu2}\\otimes B & \\dots &A_{\\mu \\nu}\\otimes B\\end{bmatrix}.$$"
   ]
  },
  {
   "cell_type": "markdown",
   "metadata": {},
   "source": [
    "Особине Кронекеровог производа матрица:\n",
    "\n",
    "1. $(A\\otimes B)^T=A^T\\otimes B^T,$\n",
    "1. $A\\otimes(B+C)=A\\otimes B+A\\otimes C,$\n",
    "1. $(A+B)\\otimes C=A\\otimes C+B\\otimes C,$\n",
    "1. $(A\\otimes B)(C\\otimes D)=(AC)\\otimes(BD).$\n",
    "\n",
    "У свим изразима подразумева се да су матрице димензија које омогућавају извршење наведених операција."
   ]
  },
  {
   "cell_type": "markdown",
   "metadata": {},
   "source": [
    "**ДОКАЗ:**\n",
    "\n",
    "$1.$\n",
    "\n",
    "\\begin{align}\n",
    "(A\\otimes B)^T&=\\begin{bmatrix}a_{11}B&a_{12}B\\\\\n",
    "a_{21}B&a_{22}B\\end{bmatrix}^T\n",
    "=\\begin{bmatrix}a_{11}B^T&a_{21}B^T\\\\\n",
    "a_{12}B^T&a_{22}B^T\\end{bmatrix}=\\begin{bmatrix}a_{11}&a_{21}\\\\\n",
    "a_{12}&a_{22}\\end{bmatrix}\\otimes B^T\\\\[8pt]\n",
    "&=A^T\\otimes B^T.\n",
    "\\end{align}"
   ]
  },
  {
   "cell_type": "markdown",
   "metadata": {},
   "source": [
    "Иначе, у општем облику овај доказ такође директно следи.\n",
    "\\begin{align}\n",
    "(A\\otimes B)^T&=\\begin{bmatrix}a_{11}B&a_{12}B&\\dots&a_{1n}B\\\\\n",
    "a_{21}B&a_{22}B&\\dots&a_{2n}B\\\\\n",
    "\\vdots&\\vdots&&\\vdots\\\\\n",
    "a_{m1}B&a_{m2}B&\\dots&a_{mn}B\\end{bmatrix}^T\n",
    "=\\begin{bmatrix}a_{11}B^T&a_{21}B^T&\\dots&a_{m1}B^T\\\\\n",
    "a_{12}B^T&a_{22}B^T&\\dots&a_{m2}B^T\\\\\n",
    "\\vdots&\\vdots&&\\vdots\\\\\n",
    "a_{1n}B^T&a_{2n}B^T&\\dots&a_{mn}B^T\\end{bmatrix}\\\\[8pt]\n",
    "&=A^T\\otimes B^T.\n",
    "\\end{align}"
   ]
  },
  {
   "cell_type": "markdown",
   "metadata": {},
   "source": [
    "$2.$\n",
    "\\begin{align}\n",
    "A\\otimes(B+C)&=\\begin{bmatrix}a_{11}(B+C)&a_{12}(B+C)\\\\\n",
    "a_{21}(B+C)&a_{22}(B+C)\\end{bmatrix}\n",
    "=\\begin{bmatrix}a_{11}B&a_{12}B&\\\\\n",
    "a_{21}B&a_{22}B\\end{bmatrix}+\n",
    "\\begin{bmatrix}a_{11}C&a_{12}C\\\\\n",
    "a_{21}C&a_{22}C\\end{bmatrix}\\\\[8pt]\n",
    "&=A\\otimes B+A\\otimes C\n",
    "\\end{align}"
   ]
  },
  {
   "cell_type": "markdown",
   "metadata": {},
   "source": [
    "или\n",
    "\\begin{align}\n",
    "A\\otimes(B+C)&=\\begin{bmatrix}a_{11}(B+C)&a_{12}(B+C)&\\dots&a_{1n}(B+C)\\\\\n",
    "a_{21}(B+C)&a_{22}(B+C)&\\dots&a_{2n}(B+C)\\\\\n",
    "\\vdots&\\vdots&&\\vdots\\\\\n",
    "a_{m1}(B+C)&a_{m2}(B+C)&\\dots&a_{mn}(B+C)\\end{bmatrix}\\\\[8pt]\n",
    "&=\\begin{bmatrix}a_{11}B&a_{12}B&\\dots&a_{1n}B\\\\\n",
    "a_{21}B&a_{22}B&\\dots&a_{2n}B\\\\\n",
    "\\vdots&\\vdots&&\\vdots\\\\\n",
    "a_{m1}B&a_{m2}B&\\dots&a_{mn}B\\end{bmatrix}+\n",
    "\\begin{bmatrix}a_{11}C&a_{12}C&\\dots&a_{1n}C\\\\\n",
    "a_{21}C&a_{22}C&\\dots&a_{2n}C\\\\\n",
    "\\vdots&\\vdots&&\\vdots\\\\\n",
    "a_{m1}C&a_{m2}C&\\dots&a_{mn}C\\end{bmatrix}\\\\[8pt]\n",
    "&=A\\otimes B+A\\otimes C\n",
    "\\end{align}"
   ]
  },
  {
   "cell_type": "markdown",
   "metadata": {},
   "source": [
    "3.\n",
    "\\begin{align}\n",
    "(A+B)\\otimes C&=\\begin{bmatrix}(a_{11}+b_{11})C&(a_{12}+b_{12})C\\\\\n",
    "(a_{21}+b_{21})C&(a_{22}+b_{22})C\\end{bmatrix}\n",
    "=\\begin{bmatrix}a_{11}C&a_{12}C\\\\\n",
    "a_{21}C&a_{22}C\\end{bmatrix}\n",
    "+\n",
    "\\begin{bmatrix}b_{11}C&b_{12}C\\\\\n",
    "b_{21}C&b_{22}C\\end{bmatrix}\n",
    "\\\\[8pt]\n",
    "&=A\\otimes C+B\\otimes C\n",
    "\\end{align}"
   ]
  },
  {
   "cell_type": "markdown",
   "metadata": {},
   "source": [
    "или\n",
    "\\begin{align}\n",
    "(A+B)\\otimes C&=\\begin{bmatrix}(a_{11}+b_{11})C&(a_{12}+b_{12})C&\\dots&(a_{1n}+b_{1n})C\\\\\n",
    "(a_{21}+b_{21})C&(a_{22}+b_{22})C&\\dots&(a_{2n}+b_{2n})C\\\\\n",
    "\\vdots&\\vdots&&\\vdots\\\\\n",
    "(a_{m1}+b_{m1})C&(a_{m2}+b_{m2})C&\\dots&(a_{mn}+b_{mn})C\\end{bmatrix}\\\\[8pt]\n",
    "&=\\begin{bmatrix}a_{11}C&a_{12}C&\\dots&a_{1n}C\\\\\n",
    "a_{21}C&a_{22}C&\\dots&a_{2n}C\\\\\n",
    "\\vdots&\\vdots&&\\vdots\\\\\n",
    "a_{m1}C&a_{m2}C&\\dots&a_{mn}C\\end{bmatrix}\n",
    "+\n",
    "\\begin{bmatrix}b_{11}C&b_{12}C&\\dots&b_{1n}C\\\\\n",
    "b_{21}C&b_{22}C&\\dots&b_{2n}C\\\\\n",
    "\\vdots&\\vdots&&\\vdots\\\\\n",
    "b_{m1}C&b_{m2}C&\\dots&b_{mn}C\\end{bmatrix}\n",
    "\\\\[8pt]\n",
    "&=A\\otimes C+B\\otimes C\n",
    "\\end{align}"
   ]
  },
  {
   "cell_type": "markdown",
   "metadata": {},
   "source": [
    "4. Нека су матрице $A$ и $C$ типа $2\\times2$  $A=\\begin{bmatrix}a_{11}&a_{12}\\\\a_{21}&a_{22}\\end{bmatrix}$ и \n",
    "$C=\\begin{bmatrix}c_{11}&c_{12}\\\\c_{21}&c_{22}\\end{bmatrix}.$ Тада је"
   ]
  },
  {
   "cell_type": "markdown",
   "metadata": {},
   "source": [
    "\\begin{align}\n",
    "(A\\otimes B)(C\\otimes D)&=\\begin{bmatrix}a_{11}B&a_{12} B\\\\a_{21} B&a_{22} B\\end{bmatrix}\n",
    "\\begin{bmatrix}c_{11} D&c_{12} D\\\\c_{21} D&c_{22} D\\end{bmatrix}\\\\[8pt]\n",
    "&=\\begin{bmatrix} a_{11}c_{11} BD+a_{12}c_{21}BD & a_{11}c_{12} BD+a_{12}c_{22}BD\\\\\n",
    "a_{21}c_{11} BD+a_{22}c_{21}BD & a_{21}c_{12} BD+a_{22}c_{22}BD\n",
    "\\end{bmatrix}\\\\[8pt]\n",
    "&=\\begin{bmatrix} a_{11}c_{11} +a_{12}c_{21} & a_{11}c_{12} +a_{12}c_{22}\\\\\n",
    "a_{21}c_{11} +a_{22}c_{21} & a_{21}c_{12} +a_{22}c_{22}\n",
    "\\end{bmatrix}BD\\\\[8pt]\n",
    "&=(AC)\\otimes(BD)\n",
    "\\end{align}"
   ]
  },
  {
   "cell_type": "markdown",
   "metadata": {},
   "source": [
    "Претпоставимо да је ова особина тачна за матрице мањих димензија Нека су сада матрице $A$ и $C$ дате конформном блоковском поделом за множење $AC,$ а саме поделе су $2\\times 2$ на матрице за које је тврђење тачно. Тада је\n",
    "\n",
    "\\begin{align}\n",
    "(A\\otimes B)(C\\otimes D)&=\\begin{bmatrix}A_{11}\\otimes B&A_{12}\\otimes  B\\\\A_{21}\\otimes  B&A_{22}\\otimes  B\\end{bmatrix}\n",
    "\\begin{bmatrix}C_{11}\\otimes  D&C_{12}\\otimes  D\\\\C_{21}\\otimes  D&C_{22}\\otimes  D\\end{bmatrix}\\\\[8pt]\n",
    "&=\\begin{bmatrix} \n",
    "(A_{11}\\otimes  B)(C_{11}\\otimes D)+(A_{12}\\otimes  B)(C_{21}\\otimes D) & \n",
    "(A_{11}\\otimes  B)(C_{12}\\otimes D)+(A_{12}\\otimes  B)(C_{22}\\otimes D)\\\\\n",
    "(A_{21}\\otimes  B)(C_{11}\\otimes D)+(A_{22}\\otimes  B)(C_{21}\\otimes D) & \n",
    "(A_{21}\\otimes  B)(C_{12}\\otimes D)+(A_{22}\\otimes  B)(C_{22}\\otimes D)\n",
    "\\end{bmatrix}\\\\[8pt]\n",
    "&=\\begin{bmatrix} \n",
    "(A_{11}C_{11}+A_{12}C_{21})\\otimes BD & (A_{11}C_{12}+A_{12}C_{22})\\otimes BD\\\\\n",
    "(A_{21}C_{11}+A_{22}C_{21})\\otimes BD & (A_{11}C_{12}+A_{22}C_{22})\\otimes BD\n",
    "\\end{bmatrix}\\\\[8pt]\n",
    "&=\\begin{bmatrix} \n",
    "A_{11}C_{11}+A_{12}C_{21} & A_{11}C_{12}+A_{12}C_{22}\\\\\n",
    "A_{21}C_{11}+A_{22}C_{21} & A_{11}C_{12}+A_{22}C_{22}\n",
    "\\end{bmatrix}\\otimes BD\\\\[8pt]\n",
    "&=(AC)\\otimes(BD)\n",
    "\\end{align}"
   ]
  },
  {
   "cell_type": "markdown",
   "metadata": {},
   "source": [
    "На основу принципа математичке индукције закључујемо да ова особина Кронекеровог производа важи за све матрице $A,B,C,D$ чије димезије дозвољавају рачунање производа $AC$ и $BD.$"
   ]
  },
  {
   "cell_type": "markdown",
   "metadata": {},
   "source": [
    "**Пример 11.** Последица четврте особине Кронекеровог производа је да у случају регуларних квадратних матрица $A\\in\\mathcal{M}_{n\\times n}$ и $B\\in\\mathcal{M}_{m\\times m}$ имамо\n",
    "$$(A\\otimes B)(A^{-1}\\otimes B^{-1})=I_n\\otimes I_m=I_{nm}.$$"
   ]
  },
  {
   "cell_type": "markdown",
   "metadata": {},
   "source": [
    "**Задатак 8.** Нека су дате три квадратне матрице $A,B,C\\in\\mathcal{M}_{n\\times n}$ и означимо са $B_{[1]}$  векторизацију матрице $B$ дуж колона. Показати једнакост\n",
    "$$(ABC)_{[1]}=(C^T\\otimes A)\\,B_{[1]}.$$"
   ]
  },
  {
   "cell_type": "markdown",
   "metadata": {},
   "source": [
    "**Решење :**\n",
    "\n",
    "Уведимо ознаке колона матрица $B$ и $C,$\n",
    "\\begin{align}\n",
    "B&=\\left[\\begin{array}{c|c|c|c}\n",
    "b_{11}&b_{12}&\\dots&b_{1n}\\\\\n",
    "b_{21}&b_{22}&\\dots&b_{2n}\\\\\n",
    "\\vdots&\\vdots&&\\vdots\\\\\n",
    "b_{n1}&b_{n2}&\\dots&b_{nn}\n",
    "\\end{array}\\right]\n",
    "=\\left[\\begin{array}{c|c|c|c}\n",
    "\\phantom{W}&\\phantom{W}&\\phantom{WW}&\\phantom{W}\\\\\n",
    "B_1&B_2&\\dots&B_n\\\\\n",
    "\\phantom{W}&\\phantom{W}&\\phantom{WW}&\\phantom{W}\n",
    "\\end{array}\\right]\n",
    "\\quad\\Longrightarrow\\quad\n",
    "B_{[1]}=\\left[\\begin{array}{c}\n",
    "B_1\\\\\\hline B_2\\\\\\hline \\vdots\\\\\\hline B_n\n",
    "\\end{array}\n",
    "\\right]\n",
    ",\n",
    "\\\\\n",
    "C&=\\left[\\begin{array}{c|c|c|c}\n",
    "c_{11}&c_{12}&\\dots&c_{1n}\\\\\n",
    "c_{21}&c_{22}&\\dots&c_{2n}\\\\\n",
    "\\vdots&\\vdots&&\\vdots\\\\\n",
    "c_{n1}&c_{n2}&\\dots&c_{nn}\n",
    "\\end{array}\\right]\n",
    "=\\left[\\begin{array}{c|c|c|c}\n",
    "\\phantom{W}&\\phantom{W}&\\phantom{WW}&\\phantom{W}\\\\\n",
    "C_1&C_2&\\dots&C_n\\\\\n",
    "\\phantom{W}&\\phantom{W}&\\phantom{WW}&\\phantom{W}\n",
    "\\end{array}\\right]\n",
    "\\quad\\Longrightarrow\\quad\n",
    "C^T=\\left[\\begin{array}{c}\n",
    "\\phantom{WW}C_1^T\\phantom{WW}\\\\\\hline\n",
    "\\phantom{WW}C_2^T\\phantom{WW}\\\\\\hline\n",
    "\\vdots\\\\\\hline\n",
    "\\phantom{WW}C_n^T\\phantom{WW}\n",
    "\\end{array}\n",
    "\\right],\\\\\n",
    "C^T\\otimes A&=\\left[\\begin{array}{c}\n",
    "\\phantom{W}C_1^T\\otimes A\\phantom{W}\\\\\\hline\n",
    "\\phantom{W}C_2^T\\otimes A\\phantom{W}\\\\\\hline\n",
    "\\vdots\\\\\\hline\n",
    "\\phantom{W}C_n^T\\otimes A\\phantom{W}\n",
    "\\end{array}\n",
    "\\right]\\quad\\Longrightarrow\\quad\n",
    "(C^T\\otimes A)\\,B_{[1]}=\\left[\\begin{array}{c}\n",
    "(C_1^T\\otimes A)\\,B_{[1]}\\\\\\hline\n",
    "(C_2^T\\otimes A)\\,B_{[1]}\\\\\\hline\n",
    "\\vdots\\\\\\hline\n",
    "(C_n^T\\otimes A)\\,B_{[1]}\n",
    "\\end{array}\n",
    "\\right]\n",
    ".\n",
    "\\end{align}\n"
   ]
  },
  {
   "cell_type": "markdown",
   "metadata": {},
   "source": [
    "\\begin{align}\n",
    "(C_i\\otimes A)\\,B_{[1]}&=\\begin{bmatrix}c_{1i}A&c_{2i}A&\\dots&c_{ni}A\\end{bmatrix}\n",
    "\\left[\\begin{array}{c}\n",
    "B_1\\\\\\hline B_2\\\\\\hline \\vdots\\\\\\hline B_n\n",
    "\\end{array}\n",
    "\\right]\\\\\n",
    "&=c_{1i}\\underbrace{AB_1}_{\\mbox{прва колона матрице }AB}+c_{2i}\\underbrace{AB_2}_{\\mbox{друга колона матрице }AB}\n",
    "+\\dots+c_{ni}\\underbrace{AB_n}_{n\\mbox{-та колона матрице }AB}\\\\\n",
    "&=\\left[\\begin{array}{c|c|c|c}\n",
    "\\phantom{W}&\\phantom{W}&\\phantom{WW}&\\phantom{W}\\\\\n",
    "AB_1&AB_2&\\dots&AB_n\\\\\n",
    "\\phantom{W}&\\phantom{W}&\\phantom{WW}&\\phantom{W}\n",
    "\\end{array}\\right]\n",
    "\\begin{bmatrix}c_{1i}\\\\c_{2i}\\\\\\vdots\\\\c_{ni}\\end{bmatrix}=\\underbrace{ABC_i}_{i\\mbox{-та колона матрице }ABC}\n",
    "\\end{align}"
   ]
  },
  {
   "cell_type": "markdown",
   "metadata": {},
   "source": [
    "Закључујемо да матрица $(C^T\\otimes A)\\,B_{[1]}$ садржи поређане колоне матрице $ABC.$ Тиме је доказано да је $(ABC)_{[1]}=(C^T\\otimes A)\\,B_{[1]}.$"
   ]
  },
  {
   "cell_type": "markdown",
   "metadata": {},
   "source": [
    "Слично, за векторизацију дуж врста имамо:\n",
    "$$(ABC)_{[0]}=(C^TB^TA^T)_{[1]}=(A\\otimes C^T)\\,B_{[1]}^T=(A\\otimes C^T)\\,B_{[0]}.$$"
   ]
  },
  {
   "cell_type": "markdown",
   "metadata": {},
   "source": [
    "## Кронекерова сума матрица"
   ]
  },
  {
   "cell_type": "markdown",
   "metadata": {},
   "source": [
    "**Дефиниција 2.** Нека су $A=[a_{ij}]\\in\\mathcal{M}_{m\\times m}$ и $B=[b_{kl}]\\in\\mathcal{M}_{n\\times n}$ две квадратне матрице. Кронекерова сума $\\oplus$ матрица $A$ и $B$ је матрица димензије $mn\\times mn$ дата изразом:\n",
    "$$A\\oplus B=A\\otimes I_n+I_m\\otimes B.$$"
   ]
  },
  {
   "cell_type": "markdown",
   "metadata": {},
   "source": [
    "Израз Кронекеровог збира кроз елементе матрица гласи:\n",
    "\\begin{align}\n",
    "A\\oplus B&=A\\otimes I_n+I_m\\otimes B\n",
    "=\\begin{bmatrix}\n",
    "a_{11}I_n&a_{12}I_n&\\dots&a_{1m}I_n\\\\\n",
    "a_{21}I_n&a_{22}I_n&\\dots&a_{2m}I_n\\\\\n",
    "\\vdots&\\vdots&&\\vdots\\\\\n",
    "a_{m1}I_n&a_{m2}I_n&\\dots&a_{mm}I_n\n",
    "\\end{bmatrix}+\n",
    "\\begin{bmatrix}\n",
    "B&O&\\dots&O\\\\O&B&\\dots&O\\\\\n",
    "\\vdots&\\vdots&&\\vdots\\\\\n",
    "O&O&\\dots&B\n",
    "\\end{bmatrix}\\\\[8pt]\n",
    "&=\\begin{bmatrix}\n",
    "B+a_{11}I_n&a_{12}I_n&\\dots&a_{1m}I_n\\\\\n",
    "a_{21}I_n&B+a_{22}I_n&\\dots&a_{2m}I_n\\\\\n",
    "\\vdots&\\vdots&&\\vdots\\\\\n",
    "a_{m1}I_n&a_{m2}I_n&\\dots&B+a_{mm}I_n\n",
    "\\end{bmatrix}\n",
    "\\end{align}"
   ]
  },
  {
   "cell_type": "markdown",
   "metadata": {},
   "source": [
    "Специјално, нека је $A=[a_{ij}]\\in\\mathcal{M}_{n\\times n}.$ Тада је\n",
    "\\begin{align}\n",
    "A\\oplus A&=A\\otimes I_n+I_n\\otimes A=\\begin{bmatrix}\n",
    "A+a_{11}I_n&a_{12}I_n&\\dots&a_{1n}I_n\\\\\n",
    "a_{21}I_n&A+a_{22}I_n&\\dots&a_{2n}I_n\\\\\n",
    "\\vdots&\\vdots&&\\vdots\\\\\n",
    "a_{n1}I_n&a_{n2}I_n&\\dots&A+a_{nn}I_n\n",
    "\\end{bmatrix}\n",
    "\\end{align}"
   ]
  },
  {
   "cell_type": "markdown",
   "metadata": {},
   "source": [
    "## Катри-Рао производ матрица"
   ]
  },
  {
   "cell_type": "markdown",
   "metadata": {},
   "source": [
    "**Дефиниција 3.** Нека су две матрице $A$ и $B$ дате у блок форми исте блоковске димензије $\\mu\\times\\nu.$ Катри-Рао производ $A\\ast B$ је матрица блоковске димензије $\\mu\\times\\nu$ чији су блокови једнаки Кронекеровом производу одговарајућих блокова матрица $A$ и $B.$"
   ]
  },
  {
   "cell_type": "markdown",
   "metadata": {},
   "source": [
    "Нека су блок форме матрица $A=\\begin{bmatrix}\n",
    "A_{11} & A_{12} & \\dots &A_{1\\nu}\\\\\n",
    "A_{21} & A_{22} & \\dots &A_{2\\nu}\\\\\n",
    "\\vdots & \\vdots & \\ddots & \\vdots\\\\\n",
    "A_{\\mu1} & A_{\\mu2} & \\dots &A_{\\mu \\nu}\n",
    "\\end{bmatrix}$ и $B=\\begin{bmatrix}\n",
    "B_{11} & B_{12} & \\dots &B_{1\\nu}\\\\\n",
    "B_{21} & B_{22} & \\dots B_{2\\nu}\\\\\n",
    "\\vdots & \\vdots & \\ddots & \\vdots\\\\\n",
    "B_{\\mu1} & B_{\\mu2} & \\dots &B_{\\mu \\nu}\n",
    "\\end{bmatrix},$ тада је\n",
    "$$A\\star B=\\begin{bmatrix}\n",
    "A_{11}\\otimes B_{11} & A_{12}\\otimes B_{12} & \\dots &A_{1\\nu}\\otimes B_{1\\nu}\\\\\n",
    "A_{21}\\otimes B_{21} & A_{22}\\otimes B_{22} & \\dots &A_{2\\nu}\\otimes B_{2\\nu}\\\\\n",
    "\\vdots & \\vdots & \\ddots & \\vdots\\\\\n",
    "A_{\\mu1}\\otimes B_{\\mu1} & A_{\\mu2}\\otimes B_{\\mu2} & \\dots &A_{\\mu \\nu}\\otimes B_{\\mu \\nu}\n",
    "\\end{bmatrix}$$"
   ]
  },
  {
   "cell_type": "markdown",
   "metadata": {},
   "source": [
    "**Пример 12.** Матрице $A=\\left[\\begin{array}{c|cc}\n",
    "\t1&2&3\\\\ \\hline \t\t4&5&6\\\\7&8&9\n",
    "\t\\end{array}\\right]=\\begin{bmatrix}A_{11}&A_{12}\\\\A_{21}&A_{22}\\end{bmatrix}$ и $\n",
    "\tB=\\left[\\begin{array}{cc|cc}\n",
    "\t1&2&3&4\\\\ \\hline 5&6&7&8\\\\9&10&11&12\n",
    "\t\\end{array}\\right]=\\begin{bmatrix}B_{11}&B_{12}\\\\B_{21}&B_{22}\\end{bmatrix}$ дате су у блок форми $2\\times2.$ Резултат Катри-Рао производа биће исте блок форме, али су блокови далеко већих димезија.\n",
    "    $$A\\star B=\\begin{bmatrix}A_{11}\\otimes B_{11}&A_{12}\\otimes B_{12}\\\\\n",
    "    A_{21}\\otimes B_{21}&A_{22}\\otimes B_{22}\n",
    "    \\end{bmatrix}.$$"
   ]
  },
  {
   "cell_type": "code",
   "execution_count": 20,
   "metadata": {},
   "outputs": [
    {
     "data": {
      "text/plain": [
       "array([[1, 2]])"
      ]
     },
     "execution_count": 20,
     "metadata": {},
     "output_type": "execute_result"
    }
   ],
   "source": [
    "A=np.arange(1,10).reshape(3,3)\n",
    "B=np.arange(1,13).reshape(3,4)\n",
    "C11=np.kron(A[:1,:1],B[:1,:2])\n",
    "C11"
   ]
  },
  {
   "cell_type": "code",
   "execution_count": 21,
   "metadata": {},
   "outputs": [
    {
     "data": {
      "text/plain": [
       "array([[ 6,  8,  9, 12]])"
      ]
     },
     "execution_count": 21,
     "metadata": {},
     "output_type": "execute_result"
    }
   ],
   "source": [
    "C12=np.kron(A[:1,1:],B[0,2:])\n",
    "C12"
   ]
  },
  {
   "cell_type": "code",
   "execution_count": 22,
   "metadata": {},
   "outputs": [
    {
     "data": {
      "text/plain": [
       "array([[20, 24],\n",
       "       [36, 40],\n",
       "       [35, 42],\n",
       "       [63, 70]])"
      ]
     },
     "execution_count": 22,
     "metadata": {},
     "output_type": "execute_result"
    }
   ],
   "source": [
    "C21=np.kron(A[1:,:1],B[1:,:2])\n",
    "C21"
   ]
  },
  {
   "cell_type": "code",
   "execution_count": 23,
   "metadata": {},
   "outputs": [
    {
     "data": {
      "text/plain": [
       "array([[ 35,  40,  42,  48],\n",
       "       [ 55,  60,  66,  72],\n",
       "       [ 56,  64,  63,  72],\n",
       "       [ 88,  96,  99, 108]])"
      ]
     },
     "execution_count": 23,
     "metadata": {},
     "output_type": "execute_result"
    }
   ],
   "source": [
    "C22=np.kron(A[1:,1:],B[1:,2:])\n",
    "C22"
   ]
  },
  {
   "cell_type": "code",
   "execution_count": 24,
   "metadata": {},
   "outputs": [
    {
     "data": {
      "text/plain": [
       "array([[  1,   2,   6,   8,   9,  12],\n",
       "       [ 20,  24,  35,  40,  42,  48],\n",
       "       [ 36,  40,  55,  60,  66,  72],\n",
       "       [ 35,  42,  56,  64,  63,  72],\n",
       "       [ 63,  70,  88,  96,  99, 108]])"
      ]
     },
     "execution_count": 24,
     "metadata": {},
     "output_type": "execute_result"
    }
   ],
   "source": [
    "C=np.block([[C11,C12],[C21,C22]])\n",
    "C"
   ]
  },
  {
   "cell_type": "markdown",
   "metadata": {},
   "source": [
    "**Дефиниција 4.** За две матрице $A=[a_{ij}]\\in\\mathcal{M}_{m\\times n}$ и $B=[b_{kl}]\\in\\mathcal{M}_{p\\times n},$ са истим бројем колона, њихов Катри-Рао производ дуж колона $\\odot$ је операција којом се добија матрица $C=A\\odot B\\in\\mathcal{M}_{mp\\times n},$ а чији садржај чине Кронекерови производи парова колона две матрице. "
   ]
  },
  {
   "cell_type": "markdown",
   "metadata": {},
   "source": [
    "Ако уведемо ознаке колона\n",
    "$$A=\\left[\\begin{array}{c|c|c|c}\n",
    "\\phantom{W}&\\phantom{W}&\n",
    "\\phantom{WW}&\\phantom{W}\\\\\n",
    "A_1&A_2&\\dots&A_n\\\\\n",
    "\\phantom{W}&\\phantom{W}&\n",
    "\\phantom{W}&\\phantom{W}\n",
    "\\end{array}\\right],\\qquad \n",
    "B=\\left[\\begin{array}{c|c|c|c}\n",
    "\\phantom{W}&\\phantom{W}&\n",
    "\\phantom{W}&\\phantom{W}\\\\\n",
    "B_1&B_2&\\dots&B_n\\\\\n",
    "\\phantom{W}&\\phantom{W}&\n",
    "\\phantom{WW}&\\phantom{W}\n",
    "\\end{array}\\right],\n",
    "$$\n",
    "тада су колоне матрице $C=A\\odot B$ дате са:\n",
    "$$C=A\\odot B=A=\\left[\\begin{array}{c|c|c|c}\n",
    "\\phantom{W}&\\phantom{W}&\n",
    "\\phantom{WWW}&\\phantom{W}\\\\\n",
    "A_1\\otimes B_1&A_2\\otimes B_2&\\dots&A_n\\otimes B_n\\\\\n",
    "\\phantom{W}&\\phantom{W}&\n",
    "\\phantom{W}&\\phantom{W}\n",
    "\\end{array}\\right],.$$"
   ]
  },
  {
   "cell_type": "markdown",
   "metadata": {},
   "source": [
    "**Пример 13.** Матрице $A=\\left[\\begin{array}{c|c|c}\n",
    "\t1&2&3\\\\\t4&5&6\\\\7&8&9\n",
    "\t\\end{array}\\right]$ и $\n",
    "\tB=\\left[\\begin{array}{c|c|c}\n",
    "\t1&5&9\\\\ 2&6&10\\\\3&7&11\\\\ 4&8&12\n",
    "\t\\end{array}\\right]$ имају једнак број колона. Резултат Катри-Рао производа дуж колона је матрица са истим бројем колона, али су оне далеко већих димезија."
   ]
  },
  {
   "cell_type": "code",
   "execution_count": 25,
   "metadata": {},
   "outputs": [
    {
     "data": {
      "text/plain": [
       "array([[  1.,  10.,  27.],\n",
       "       [  2.,  12.,  30.],\n",
       "       [  3.,  14.,  33.],\n",
       "       [  4.,  16.,  36.],\n",
       "       [  4.,  25.,  54.],\n",
       "       [  8.,  30.,  60.],\n",
       "       [ 12.,  35.,  66.],\n",
       "       [ 16.,  40.,  72.],\n",
       "       [  7.,  40.,  81.],\n",
       "       [ 14.,  48.,  90.],\n",
       "       [ 21.,  56.,  99.],\n",
       "       [ 28.,  64., 108.]])"
      ]
     },
     "execution_count": 25,
     "metadata": {},
     "output_type": "execute_result"
    }
   ],
   "source": [
    "B=B.T\n",
    "C=np.empty((12,3))\n",
    "for i in range(3):\n",
    "    C[:,i]=np.kron(A[:,i],B[:,i])\n",
    "C    "
   ]
  }
 ],
 "metadata": {
  "kernelspec": {
   "display_name": "Python 3",
   "language": "python",
   "name": "python3"
  },
  "language_info": {
   "codemirror_mode": {
    "name": "ipython",
    "version": 3
   },
   "file_extension": ".py",
   "mimetype": "text/x-python",
   "name": "python",
   "nbconvert_exporter": "python",
   "pygments_lexer": "ipython3",
   "version": "3.9.12"
  }
 },
 "nbformat": 4,
 "nbformat_minor": 4
}
