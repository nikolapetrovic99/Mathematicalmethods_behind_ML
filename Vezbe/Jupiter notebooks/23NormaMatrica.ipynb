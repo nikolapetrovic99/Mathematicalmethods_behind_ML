{
 "cells": [
  {
   "cell_type": "markdown",
   "metadata": {},
   "source": [
    "# Норма матрица\n",
    "\n",
    "\n",
    "Садржај:\n",
    "1. [Траг матрице](#Траг-матрице)\n",
    "1. [Фробенијусова норма](#Фробенијусова-норма)\n",
    "1. [Норма трага (Nuclear norm)](#Норма-трага-(Nuclear-norm))\n",
    "1. [Норма индукована векторском нормом](#Норма-индукована-векторском-нормом)\n",
    "1. [Кондициони број матрице](#Кондициони-број-матрице)"
   ]
  },
  {
   "cell_type": "code",
   "execution_count": 1,
   "metadata": {},
   "outputs": [],
   "source": [
    "import numpy as np\n",
    "import numpy.random as rndm\n",
    "import scipy.linalg as spl"
   ]
  },
  {
   "cell_type": "markdown",
   "metadata": {},
   "source": [
    "## Траг матрице\n",
    "\n",
    "**Дефиниција 1.** Траг квадартне аматрице $A=[a_{ij}]\\in\\mathcal{M}_{n\\times n}$ је збир њених дијагоналних елемената, тј. ${\\rm tr}(A)=\\displaystyle\\sum_{i=1}^na_{ii}.$"
   ]
  },
  {
   "cell_type": "markdown",
   "metadata": {},
   "source": [
    "Кроз пример матрице мале димензије упознаћемо особине функције трага, ${\\rm tr}:\\mathcal{M}_{n\\times n}\\mapsto\\mathbb{R}.$ "
   ]
  },
  {
   "cell_type": "code",
   "execution_count": 2,
   "metadata": {},
   "outputs": [
    {
     "data": {
      "text/plain": [
       "array([[0, 1, 2],\n",
       "       [3, 4, 5],\n",
       "       [6, 7, 8]])"
      ]
     },
     "execution_count": 2,
     "metadata": {},
     "output_type": "execute_result"
    }
   ],
   "source": [
    "A=np.arange(9).reshape(3,3)\n",
    "A"
   ]
  },
  {
   "cell_type": "code",
   "execution_count": 3,
   "metadata": {},
   "outputs": [
    {
     "data": {
      "text/plain": [
       "12"
      ]
     },
     "execution_count": 3,
     "metadata": {},
     "output_type": "execute_result"
    }
   ],
   "source": [
    "np.trace(A)"
   ]
  },
  {
   "cell_type": "markdown",
   "metadata": {},
   "source": [
    "Имајући у виду да се дијагонални елементи квадратне матрице не померају приликом транспоновања, закључујемо да је \n",
    "$${\\rm tr}(A)={\\rm tr}(A^T).$$"
   ]
  },
  {
   "cell_type": "code",
   "execution_count": 4,
   "metadata": {},
   "outputs": [
    {
     "data": {
      "text/plain": [
       "12"
      ]
     },
     "execution_count": 4,
     "metadata": {},
     "output_type": "execute_result"
    }
   ],
   "source": [
    "np.trace(A.T)"
   ]
  },
  {
   "cell_type": "markdown",
   "metadata": {},
   "source": [
    "Траг матрице показује и особину линеарности,\n",
    "$${\\rm tr}(\\alpha A+\\beta B)=\\alpha\\, {\\rm tr}(A)+\\beta\\, {\\rm tr}(B).$$"
   ]
  },
  {
   "cell_type": "code",
   "execution_count": 5,
   "metadata": {},
   "outputs": [
    {
     "data": {
      "text/plain": [
       "1.4063796009240843"
      ]
     },
     "execution_count": 5,
     "metadata": {},
     "output_type": "execute_result"
    }
   ],
   "source": [
    "B=rndm.rand(3,3)\n",
    "np.trace(B)"
   ]
  },
  {
   "cell_type": "code",
   "execution_count": 6,
   "metadata": {},
   "outputs": [
    {
     "data": {
      "text/plain": [
       "True"
      ]
     },
     "execution_count": 6,
     "metadata": {},
     "output_type": "execute_result"
    }
   ],
   "source": [
    "np.trace(3*A-2*B)==3*np.trace(A)-2*np.trace(B)"
   ]
  },
  {
   "cell_type": "markdown",
   "metadata": {},
   "source": [
    "Најважније особине трага матрице дате су наредним тврђењима."
   ]
  },
  {
   "cell_type": "markdown",
   "metadata": {},
   "source": [
    "**Теорема 1.**     За квадратну матрицу $A=[a_{ij}]$ реда $n$ са сопственим вредностима $\\lambda_1,\\lambda_2,\\dots,\\lambda_n,$ важи\n",
    "$${\\rm tr}(A)=\\lambda_1+\\lambda_2+\\dots+\\lambda_n.$$"
   ]
  },
  {
   "cell_type": "markdown",
   "metadata": {},
   "source": [
    "**Пример 1.** Упоредићемо вредности трага и збира сопствених вредности матрице $A=\\begin{bmatrix}a&b\\\\c&d\\end{bmatrix}.$\n",
    "Сопствене вредности $\\lambda_1,\\lambda_2$ матрице $A$ су нуле њеног карактеристичног полинома. "
   ]
  },
  {
   "cell_type": "markdown",
   "metadata": {},
   "source": [
    "\\begin{align}\n",
    "P_A(\\lambda)&=\\det(A-\\lambda I)=\\begin{vmatrix}a-\\lambda&b\\\\c&d-\\lambda\\end{vmatrix}\n",
    "=(a-\\lambda)(d-\\lambda)-bc=\\lambda^2-\\underbrace{(a+d)}_{{\\rm tr}(A)}\\lambda+\\underbrace{ad-bc}_{\\det(A)},\\\\\n",
    "P_A(\\lambda)&=(\\lambda-\\lambda_1)(\\lambda-\\lambda_2)=\\lambda^2-(\\lambda_1+\\lambda_2)\\lambda+\\lambda_1\\,\\lambda_2\n",
    "\\end{align}"
   ]
  },
  {
   "cell_type": "markdown",
   "metadata": {},
   "source": [
    "На основу Вијетових формула закључујемо да је ${\\rm tr}(A)=\\lambda_1+\\lambda_2$ и $\\det(A)=\\lambda_1\\lambda_2.$ Кроз израчунавања можемо да проверимо сличне једнакости за матрице већих димензија."
   ]
  },
  {
   "cell_type": "code",
   "execution_count": 7,
   "metadata": {},
   "outputs": [],
   "source": [
    "A=rndm.rand(7,7)\n",
    "spektar=np.linalg.eigvals(A)"
   ]
  },
  {
   "cell_type": "code",
   "execution_count": 8,
   "metadata": {},
   "outputs": [
    {
     "data": {
      "text/plain": [
       "0j"
      ]
     },
     "execution_count": 8,
     "metadata": {},
     "output_type": "execute_result"
    }
   ],
   "source": [
    "np.round(np.linalg.det(A)-np.prod(spektar),3)"
   ]
  },
  {
   "cell_type": "code",
   "execution_count": 9,
   "metadata": {},
   "outputs": [
    {
     "data": {
      "text/plain": [
       "0j"
      ]
     },
     "execution_count": 9,
     "metadata": {},
     "output_type": "execute_result"
    }
   ],
   "source": [
    "np.round(np.trace(A)-np.sum(spektar),3)"
   ]
  },
  {
   "cell_type": "markdown",
   "metadata": {},
   "source": [
    "Нека су $A,B\\in\\mathcal{M}_{m\\times n}$ правоугаоне матрице истих димензија са елементима $A=[a_{ij}],\\ B=[b_{ij}].$ Потражићемо израз трагова производа ${\\rm tr}(A^TB)$ и ${\\rm tr}(B^TA).$"
   ]
  },
  {
   "cell_type": "markdown",
   "metadata": {},
   "source": [
    "Дијагонални елементи производа су:\n",
    "\\begin{align}\n",
    "(A^TB)_{jj}&=\\begin{bmatrix}a_{1j}&a_{2j}&\\dots&a_{mj}\\end{bmatrix}\\begin{bmatrix}b_{1j}\\\\b_{2j}\\\\\\vdots\\\\b_{mj}\\end{bmatrix}\n",
    "=\\displaystyle\\sum_{i=1}^ma_{ij}b_{ij},\\\\\n",
    "{\\rm tr}(A^TB)&=\\displaystyle\\sum_{j=1}^n(A^TB)_{jj}=\\displaystyle\\sum_{j=1}^n\\sum_{i=1}^ma_{ij}b_{ij}\n",
    "=\\displaystyle\\sum_{i=1}^m\\sum_{j=1}^n a_{ij}b_{ij},\\\\\n",
    "(B^TA)_{jj}&=\\begin{bmatrix}b_{1j}&b_{2j}&\\dots&b_{mj}\\end{bmatrix}\\begin{bmatrix}a_{1j}\\\\a_{2j}\\\\\\vdots\\\\a_{mj}\\end{bmatrix}\n",
    "=\\displaystyle\\sum_{i=1}^mb_{ij}a_{ij},\\\\\n",
    "{\\rm tr}(B^TA)&=\\displaystyle\\sum_{i=1}^m\\sum_{j=1}^n a_{ij}b_{ij}.\n",
    "\\end{align}"
   ]
  },
  {
   "cell_type": "markdown",
   "metadata": {},
   "source": [
    "## Фробенијусова норма\n",
    "\n",
    "Скаларни производ на скупу правоугаоних матрица веома се природно уводи векторизацијом ових дводимезионалних објеката. За две матрице $A,B\\in\\mathcal{M}_{m\\times n},$ са елементима $A=[a_{ij}],\\ B=[b_{ij}]$ скаларни производ је \n",
    "$$A\\cdot B=\\sum_{i=1}^m\\sum_{j=1}^na_{ij}b_{ij}.$$\n",
    "\n",
    "Норма матрица индукована овим скаларним производом назива се Фробенијусова норма.\n",
    "$$\\|A\\|_{F}=\\sqrt{A\\cdot A}=\\sqrt{\\sum_{i=1}^m\\sum_{j=1}^na_{ij}^2}.$$"
   ]
  },
  {
   "cell_type": "markdown",
   "metadata": {},
   "source": [
    "Јасно је да се због начина увођења скаларни производ матрица на скупу вектора, тј. на скупу $\\mathcal{M}_{n\\times1}$ поклапа са стандардним скаларним производом. Такође, Фробенијусова норма се на скупу вектора поклапа са Еуклидовом нормом."
   ]
  },
  {
   "cell_type": "markdown",
   "metadata": {},
   "source": [
    "Још један начин тумачења овог израза јесте кроз векторе-врста и векторе-колона матрице $A.$ Уколико означимо елементе ових скупова вектора матрице $A$ \n",
    "$$A=\\left[\\begin{array}{c|c|c|c}\n",
    "\t\\phantom{w}&\\phantom{w}&\\phantom{w}&\\phantom{w}\\\\\n",
    "\tu_1&u_2&\\dots&u_n\\\\ \\phantom{w}&\\phantom{w}&\\phantom{w}&\\phantom{w}\n",
    "\t\\end{array}\\right]=\n",
    "\\left[\\begin{array}{c}\n",
    "\\phantom{WW}v_1^T\\phantom{WW}\\\\\\hline\n",
    "\\phantom{WW}v_2^T\\phantom{WW}\\\\\\hline\n",
    "\\vdots\\\\\\hline\n",
    "\\phantom{WW}v_m^T\\phantom{WW}\n",
    "\\end{array}\\right],$$ \n",
    "Фробенијусова норма је тада Еуклидова норма вектора Еуклидових норми вектора-врста или вектора-колона,\n",
    "$$\\|A\\|_F=\\sqrt{\\|u_1\\|^2+\\|u_2\\|^2+\\dots+\\|u_n\\|^2}=\\sqrt{\\|v_1\\|^2+\\|v_2\\|^2+\\dots+\\|v_m\\|^2}.$$"
   ]
  },
  {
   "cell_type": "markdown",
   "metadata": {},
   "source": [
    "Одатле тривијално следи да је $\\|A\\|_F=\\|A^T\\|_F.$"
   ]
  },
  {
   "cell_type": "markdown",
   "metadata": {},
   "source": [
    "**Последица 1.** Фробенијусова норма ортогоналне матрице димензије $n$ једнака је $\\sqrt{n}.$"
   ]
  },
  {
   "cell_type": "markdown",
   "metadata": {},
   "source": [
    "**Пример 2.** Проверићемо норму ортогоналне матрице димензије $7.$"
   ]
  },
  {
   "cell_type": "code",
   "execution_count": 10,
   "metadata": {},
   "outputs": [],
   "source": [
    "Q,_=np.linalg.qr(A)"
   ]
  },
  {
   "cell_type": "code",
   "execution_count": 11,
   "metadata": {},
   "outputs": [
    {
     "data": {
      "text/plain": [
       "2.6457513110645907"
      ]
     },
     "execution_count": 11,
     "metadata": {},
     "output_type": "execute_result"
    }
   ],
   "source": [
    "np.linalg.norm(Q,'fro')"
   ]
  },
  {
   "cell_type": "code",
   "execution_count": 12,
   "metadata": {},
   "outputs": [
    {
     "data": {
      "text/plain": [
       "2.6457513110645907"
      ]
     },
     "execution_count": 12,
     "metadata": {},
     "output_type": "execute_result"
    }
   ],
   "source": [
    "np.sqrt(7)"
   ]
  },
  {
   "cell_type": "markdown",
   "metadata": {},
   "source": [
    "Приметимо да се израз за скаларни производ матрица $\\mathcal{M}_{m\\times n}$ може да опише и функцијом трага,\n",
    "$$A\\cdot B={\\rm tr}(A^TB)={\\rm tr}(B^TA).$$ \n",
    "На тај начин долазимо до још једног израза за Фробенијусову норму матрица\n",
    "$$\\|A\\|_F^2={\\rm tr}(A^TA)=\\sigma_1^2+\\sigma_2^2+\\dots+\\sigma_r^2,$$\n",
    "$$\\|A\\|_F=\\sqrt{{\\rm tr}(A^TA)}=\\sqrt{\\sigma_1^2+\\sigma_2^2+\\dots+\\sigma_r^2},$$\n",
    "где су $\\sigma_k,\\ k=1,2,\\dots,r,$ сингуларне вредности матрице $А$ и $r$ је ранг матрице. Фробенијусова норма представља и Еуклидову норму вектора сингуларних вредности матрице."
   ]
  },
  {
   "cell_type": "code",
   "execution_count": 13,
   "metadata": {},
   "outputs": [
    {
     "data": {
      "text/plain": [
       "7.485671821686488"
      ]
     },
     "execution_count": 13,
     "metadata": {},
     "output_type": "execute_result"
    }
   ],
   "source": [
    "B=rndm.rand(7,23)\n",
    "np.linalg.norm(B,'fro')"
   ]
  },
  {
   "cell_type": "code",
   "execution_count": 14,
   "metadata": {},
   "outputs": [
    {
     "data": {
      "text/plain": [
       "7.485671821686489"
      ]
     },
     "execution_count": 14,
     "metadata": {},
     "output_type": "execute_result"
    }
   ],
   "source": [
    "sigma=spl.svdvals(B)\n",
    "np.sqrt(np.sum(sigma**2))"
   ]
  },
  {
   "cell_type": "markdown",
   "metadata": {},
   "source": [
    "**Пример 3.** Нека су $u\\in\\mathbb{R}^m$ и $v\\in\\mathbb{R}^n$ произвољни ненула вектори, и $u^{\\ast}=\\dfrac{u}{\\|u\\|},\\ v^{\\ast}=\\dfrac{v}{\\|v\\|}$ одговарајући нормирани вектори у односу на $L_2$ норму. Потражимо Фробенијусову норму матрице ранга $1,$ $M=uv^T.$\n",
    "$$M=uv^T=\\big(\\|u\\|\\,u^{\\ast}\\big)\\big(\\|v\\|\\,v^{\\ast T}\\big)=\\|u\\|\\|v\\|\\,\\big(u^{\\ast}v^{\\ast T}\\big)\n",
    "=u^{\\ast}\\,\\big(\\|u\\|\\|v\\|\\big)\\,v^{\\ast T}.$$\n",
    "Последња једнакост представља SVD матрице $M.$ Једина сингуларна вредност матрице $M$ је производ норми вектора $\\sigma_1=\\|u\\|\\|v\\|.$"
   ]
  },
  {
   "cell_type": "markdown",
   "metadata": {},
   "source": [
    "Због тога је и Фробенијусова норма једнака том производу, $\\|M\\|_F=\\sqrt{\\sigma_1^2}=\\sigma_1=\\|u\\|\\|v\\|.$"
   ]
  },
  {
   "cell_type": "code",
   "execution_count": 15,
   "metadata": {},
   "outputs": [
    {
     "data": {
      "text/plain": [
       "array([49.225,  0.   ,  0.   ,  0.   ,  0.   ,  0.   ,  0.   ,  0.   ,\n",
       "        0.   ,  0.   ,  0.   ,  0.   ,  0.   ,  0.   ,  0.   ,  0.   ,\n",
       "        0.   ,  0.   ,  0.   ,  0.   ,  0.   ,  0.   ,  0.   ])"
      ]
     },
     "execution_count": 15,
     "metadata": {},
     "output_type": "execute_result"
    }
   ],
   "source": [
    "u=rndm.normal(2,2,23)\n",
    "v=rndm.uniform(-1,1,57)\n",
    "M=np.outer(u,v)\n",
    "sing_vr=spl.svdvals(M)\n",
    "np.round(sing_vr,3)"
   ]
  },
  {
   "cell_type": "code",
   "execution_count": 16,
   "metadata": {},
   "outputs": [
    {
     "data": {
      "text/plain": [
       "49.22537485635339"
      ]
     },
     "execution_count": 16,
     "metadata": {},
     "output_type": "execute_result"
    }
   ],
   "source": [
    "np.linalg.norm(u)*np.linalg.norm(v)"
   ]
  },
  {
   "cell_type": "markdown",
   "metadata": {},
   "source": [
    "Осим своје везе са декомпозицијом матрица на сингуларне вредности и векторе, Фробенијусова норма показује повезаност са операцијом множења матрица кроз Еуклидову норму вектора. \n",
    "\n",
    "**Лема 1.** Нека је $A\\in\\mathcal{M}_{m\\times n}$ матрица и $v\\in\\mathbb{R}^n,$ и $\\|\\cdot\\|$ ознака за Еуклидову норму вектора. Тада важи\n",
    "$$\\|Av\\|\\leq\\|A\\|_F\\|v\\|.\\tag{1}$$"
   ]
  },
  {
   "cell_type": "markdown",
   "metadata": {},
   "source": [
    "Особину $(1)$ зовемо слагање Фробенијусове норме са Еуклидовом нормом. "
   ]
  },
  {
   "cell_type": "markdown",
   "metadata": {},
   "source": [
    "**Доказ :**\n",
    "\n",
    "Означимо компоненте матрице $A=[a_{ij}]$ и вектора $v=[x_i]_{n\\times 1}.$ Тада је $i-$та компонента вектора $Av$ дата са $(Av)_i=\\displaystyle\\sum_{j=1}^na_{ij}x_j.$ Због тога целокупан вектор $Av$ гласи\n",
    "$$Av=\\begin{bmatrix} \\displaystyle\\sum_{j=1}^na_{1j}x_j\\\\\n",
    "\t\\displaystyle\\sum_{j=1}^na_{2j}x_j\\\\ \\vdots\\\\\n",
    "\t\\displaystyle\\sum_{j=1}^na_{nj}x_j\\end{bmatrix}.$$"
   ]
  },
  {
   "cell_type": "markdown",
   "metadata": {},
   "source": [
    "Следи да је $\\|Av\\|^2=\\displaystyle\\sum_{i=1}^n \\left(\\sum_{j=1}^na_{ij}x_j\\right)^2.$ \n",
    "Имајући у виду Шварцову неједнакост $$|\\langle v,u\\rangle|\\leq\\|v\\|\\ \\|u\\|\\quad\\Longleftrightarrow\\quad \n",
    "|\\langle v,u\\rangle|^2\\leq\\|v\\|^2\\ \\|u\\|^2,$$ \n",
    "за све $i=1,2,\\dots,m,$ имамо\n",
    "$$\\left(\\sum_{j=1}^na_{ij}x_j\\right)^2\n",
    "\t\\leq\\left(\\sum_{j=1}^na_{ij}^2\\right)\n",
    "\t\\left(\\sum_{j=1}^nx_{j}^2\\right)=\n",
    "\t\\left(\\sum_{j=1}^na_{ij}^2\\right)\\|v\\|^2.$$\n",
    "Сумирањем по $i=1,2,\\dots,m,$ лако долазимо до неједнакости\n",
    "$$\\|Av\\|^2\\leq\\left(\\displaystyle\\sum_{i=1}^n\\sum_{j=1}^na_{ij}^2\\right)\\|v\\|^2=\n",
    "\t\\|A\\|_{F}^2\\|v\\|^2.\\quad\\Box$$  "
   ]
  },
  {
   "cell_type": "markdown",
   "metadata": {},
   "source": [
    "**Последица 2.** Када се норма матрице слаже са нормом вектора за матричну нрму важи\n",
    "$$\\forall A\\in\\mathcal{M}_{n\\times n}\\quad \\|A\\|\\geq\\rho(A),$$\n",
    "где је $\\rho(A)$ спектрални полупречник матрице."
   ]
  },
  {
   "cell_type": "markdown",
   "metadata": {},
   "source": [
    "**Доказ :**\n",
    "\n",
    "Претпоставимо да за неку матричну норму важи једнакост $(1).$ Нека је $\\lambda$ доминантна сопствена вредност и $v$ одговарајући сопствени вектор. Тада је\n",
    "$$\\|Av\\|=|\\lambda|\\,\\|v\\|=\\rho(A)\\,\\|v\\|\\leq\\|A\\|\\,\\|v|.\\quad\\Box$$"
   ]
  },
  {
   "cell_type": "markdown",
   "metadata": {},
   "source": [
    "На основу неједнакости $(1)$ добијамо наредно уопштење овог тврђења.  Такву особину зовемо суб-мултипликативност матричне норме."
   ]
  },
  {
   "cell_type": "markdown",
   "metadata": {},
   "source": [
    "**Теорема 2.** За матрице $A\\in\\mathcal{M}_{m\\times n}$ и $B\\in\\mathcal{n\\times p}$ важи\n",
    "$$\\|AB\\|_{F}\\leq\\|A\\|_{F}\\|B\\|_{F}.\\tag{2}$$"
   ]
  },
  {
   "cell_type": "markdown",
   "metadata": {},
   "source": [
    "**Доказ :**\n",
    "\n",
    "Представимо производ две матрице кроз производе матрице $A$ и колоне матрице $B,$\n",
    "$$AB=A\\left[\\begin{array}{c|c|c|c}\n",
    "\t\\phantom{w}&\\phantom{w}&\\phantom{w}&\\phantom{w}\\\\\n",
    "\tw_1&w_2&\\dots&w_p\\\\ \\phantom{w}&\\phantom{w}&\\phantom{w}&\\phantom{w}\n",
    "\t\\end{array}\\right]=\n",
    "    \\left[\\begin{array}{c|c|c|c}\n",
    "\t\\phantom{w}&\\phantom{w}&\\phantom{w}&\\phantom{w}\\\\\n",
    "\tAw_1&Aw_2&\\dots&Aw_p\\\\ \\phantom{w}&\\phantom{w}&\\phantom{w}&\\phantom{w}\n",
    "\t\\end{array}\\right].$$\n",
    "Тада је \n",
    "\\begin{align}\n",
    "\\|AB\\|_F^2&=\\|Aw_1\\|^2+\\|Aw_2\\|^2+\\dots+\\|Aw_p\\|^2\\\\\n",
    "&\\leq\\|A\\|_F^2\\|w_1\\|^2+\\|A\\|_F^2\\|w_2\\|^2+\\dots+\\|A\\|_F^2\\|w_p\\|^2\n",
    "=\\|A\\|_F^2\\big(\\|w_1\\|^2+\\|w_2\\|^2+\\dots+\\|w_p\\|^2\\big)\\\\\n",
    "&=\\|A\\|_F^2\\|B\\|_F^2.\\quad\\Box\n",
    "\\end{align}"
   ]
  },
  {
   "cell_type": "markdown",
   "metadata": {},
   "source": [
    "**Пример 4.** Проверићемо суб-мултипликативност на примеру претходно дефинисаних матрица $A\\in\\mathcal{M}_{7\\times7},\\ B\\in\\mathcal{M}_{7\\times23}.$"
   ]
  },
  {
   "cell_type": "code",
   "execution_count": 17,
   "metadata": {},
   "outputs": [
    {
     "data": {
      "text/plain": [
       "True"
      ]
     },
     "execution_count": 17,
     "metadata": {},
     "output_type": "execute_result"
    }
   ],
   "source": [
    "AF=np.linalg.norm(A,'fro')\n",
    "BF=np.linalg.norm(B,'fro')\n",
    "np.linalg.norm(A@B,'fro')<=AF*BF"
   ]
  },
  {
   "cell_type": "markdown",
   "metadata": {},
   "source": [
    "**Последица 3.** Фробенијусова норма је инваријантна у односу на ортогоналне трансформације."
   ]
  },
  {
   "cell_type": "markdown",
   "metadata": {},
   "source": [
    "**Доказ :**\n",
    "\n",
    "Нека је $Q\\in\\mathcal{M}_{n\\times n}$ ортогонална матрица и $A\\in\\mathcal{m\\times n}$ произвољна матрица са векторима колонама $u_1,u_2,\\dots,u_n.$ Тада је\n",
    "$$\\|QA\\|_F=\\sqrt{\\|Qu_1\\|^2+\\|Qu_2\\|^2+\\dots+\\|Qu_n\\|^2}=\\sqrt{\\|u_1\\|^2+\\|u_2\\|^2+\\dots+\\|u_n\\|^2}=\\|A\\|_F.$$"
   ]
  },
  {
   "cell_type": "markdown",
   "metadata": {},
   "source": [
    "**Пример 5.** Проверићемо ову особину на примеру претходно дефинисаних матрица $Q,A\\in\\mathcal{M}_{7\\times7},\\ B\\in\\mathcal{M}_{7\\times23}.$"
   ]
  },
  {
   "cell_type": "code",
   "execution_count": 18,
   "metadata": {},
   "outputs": [
    {
     "data": {
      "text/plain": [
       "0.0"
      ]
     },
     "execution_count": 18,
     "metadata": {},
     "output_type": "execute_result"
    }
   ],
   "source": [
    "np.linalg.norm(Q@A,'fro')-AF"
   ]
  },
  {
   "cell_type": "code",
   "execution_count": 19,
   "metadata": {},
   "outputs": [
    {
     "data": {
      "text/plain": [
       "4.440892098500626e-16"
      ]
     },
     "execution_count": 19,
     "metadata": {},
     "output_type": "execute_result"
    }
   ],
   "source": [
    "np.linalg.norm(A@Q,'fro')-AF"
   ]
  },
  {
   "cell_type": "markdown",
   "metadata": {},
   "source": [
    "**Пример 6.** Проблем ортогоналне [Прокрустове постеље](https://sr.m.wikipedia.org/sr-ec/%D0%9F%D1%80%D0%BE%D0%BA%D1%80%D1%83%D1%81%D1%82)\n",
    "\n",
    "Претпоставимо да имамо две колекције од $m$ тачака простора $\\mathbb{R}^n,$ којима је описана нека конфигурација тачака у $\\mathbb{R}^n.$ Једну од тих колекција сматрамо референтном, тј. сваку другу конфигурацију тачака упоређујемо са референтном. Скуп тачака који поредимо са референтним скупом зовемо тест конфигурација."
   ]
  },
  {
   "cell_type": "markdown",
   "metadata": {},
   "source": [
    "За дату тест и референтну конфигурациу желимо да утврдимо њихову блискост у распореду тачака. Две конфигурације су једнаке уколико су једнака растојања између одговарајућих парова тачака, као и углови које тачке формирају. Дакле, конфигурације су једнаке уколико постоји изометрија између два скупа. У терминима линеарне алгебре, полазни проблем сличности конфигурација гласи: правимо ортогоналне трансформације тест података док не пронађемо ону која производи конфигурацију најближу референтној. "
   ]
  },
  {
   "cell_type": "markdown",
   "metadata": {},
   "source": [
    "Да бисмо постављени проблем исказали матричном алгебром, тест конфигурацију представимо матрицом $A\\in\\mathcal{M}_{m\\times n}$ и референтну конфигурацију представимо матрицом $B\\in\\mathcal{M}_{m\\times n}.$ Врсте матрица $A$ и $B$ садрже координате тачака двеју конфигурација. \n",
    "$$A=\\left[\\begin{array}{c}\n",
    "\\phantom{WW}a_1^T\\phantom{WW}\\\\\\hline\n",
    "\\phantom{WW}a_2^T\\phantom{WW}\\\\\\hline\n",
    "\\vdots\\\\\\hline\n",
    "\\phantom{WW}a_m^T\\phantom{WW}\n",
    "\\end{array}\\right],\\qquad \n",
    "B=\\left[\\begin{array}{c}\n",
    "\\phantom{WW}b_1^T\\phantom{WW}\\\\\\hline\n",
    "\\phantom{WW}b_2^T\\phantom{WW}\\\\\\hline\n",
    "\\vdots\\\\\\hline\n",
    "\\phantom{WW}b_m^T\\phantom{WW}\n",
    "\\end{array}\\right].$$"
   ]
  },
  {
   "cell_type": "markdown",
   "metadata": {},
   "source": [
    "Постављени проблем сада изражавамо као потрагу за ортогоналном матрицом $Q\\in\\mathcal{M}_{m\\times m}$ којом се минимизира растојање између матрица $AQ$ и $B,$ \n",
    "$$AQ=\\left[\\begin{array}{c}\n",
    "\\phantom{WW}a_1^TQ\\phantom{WW}\\\\\\hline\n",
    "\\phantom{WW}a_2^TQ\\phantom{WW}\\\\\\hline\n",
    "\\vdots\\\\\\hline\n",
    "\\phantom{WW}a_m^TQ\\phantom{WW}\n",
    "\\end{array}\\right].$$"
   ]
  },
  {
   "cell_type": "markdown",
   "metadata": {},
   "source": [
    "За растојање између две конфигурације користимо Фробенијусову норму матрица, њом је дато средње квадратно одступање норми врста матрица  $AQ$ и $B,$\n",
    "$$\\|AQ-B\\|_F^=\\sqrt{\\sum_{i=1}^m\\|a_i^TQ-b_i^T\\|_2^2}=\\sqrt{{\\rm tr}\\big((AQ-B)^T(AQ-B)\\big)}.$$\n",
    "Употребом Фробенијусове норме желимо да опишемо Еуклидова растојања између вектора $a_i^TQ$ и $b_i^T.$ На тај начин постављени проблем постаје проблем најмањих квадрата. У складу са тим матрицу $E=B-AQ$ зваћемо резидуална матрица."
   ]
  },
  {
   "cell_type": "markdown",
   "metadata": {},
   "source": [
    "Полазни проблем добија нову формулацију:\n",
    "> Минимизирати израз $\\|AQ-B\\|_F$ по свим ортогоналним матрицама $Q\\in\\mathcal{M}_{n\\times n},$ тј. матрицама за које је $Q^TQ=QQ^T=I.$\n",
    "\n",
    "Означимо решење овог проблема матрицом $U\\in\\mathcal{M}_{n\\times n},\\ U^TU=UU^T=I,$\n",
    "$$\\|AU-B\\|_F=\\min_{Q^TQ=QQ^T=I}\\|AQ-B\\|_F.\\tag{1}$$\n",
    "Тачан израз за матрицу $U$ добијамо захваљујући SVD матрице $A^TB.$"
   ]
  },
  {
   "cell_type": "markdown",
   "metadata": {},
   "source": [
    "**Теорема 3.** Нека су $A,B\\in\\mathcal{M}_{m\\times n}$ произвољне две матрице истих димензија и $A^TB=X\\Sigma Y^T$ SVD матрице $A^TB.$ Tada je $U=XY^T$ решење минимизационог проблема $(1).$"
   ]
  },
  {
   "cell_type": "markdown",
   "metadata": {},
   "source": [
    "**Доказ :**\n",
    "\n",
    "\\begin{align}\n",
    "\\|AQ-B\\|_F^2&={\\rm tr}\\big((AQ-B)^T(AQ-B)\\big)=\n",
    "{\\rm tr}\\big((AQ)^T(AQ)\\big)-2{\\rm tr}\\big((AQ)^TB\\big)+{\\rm tr}\\big(B^TB\\big)\\\\\n",
    "&=\\|AQ\\|_F^2-2{\\rm tr}\\big((AQ)^TB\\big)+\\|B\\|_F^2=\\|A\\|_F^2-2{\\rm tr}\\big((AQ)^TB\\big)+\\|B\\|_F^2\n",
    "\\end{align}"
   ]
  },
  {
   "cell_type": "markdown",
   "metadata": {},
   "source": [
    "Закључујемо да ће израз $\\|AQ-B\\|_F^2$ бити минималан када је максималне вредности израз ${\\rm tr}\\big((AQ)^TB\\big)={\\rm tr}\\big(Q^TA^TB).$   Приметимо да је \n",
    "$$A^TB\\in\\mathcal{M}_{n\\times n}\\quad \\Longrightarrow\\quad X,\\Sigma,Y\\in\\mathcal{M}_{n\\times n}.$$\n",
    "Искористићемо $A^TB=X\\Sigma Y^T$ и особину трага матрица ${\\rm tr}(CD)={\\rm tr}(DC).$ Тада је\n",
    "\\begin{align}\n",
    "{\\rm tr}\\big(Q^TA^TB)&={\\rm tr}\\big(Q^TX\\Sigma Y^T)={\\rm tr}\\big(\\Sigma \\underbrace{Y^TQ^TX}_Z\\big)\n",
    "={\\rm tr}\\big(\\Sigma Z\\big),\\\\\n",
    "\\displaystyle\\max_{Q^TQ=I}{\\rm tr}\\big(Q^TA^TB\\big)&=\\displaystyle\\max_{Z^TZ=I}{\\rm tr}\\big(\\Sigma Z\\big)\n",
    "=\\max_{Z^TZ=I}\\sum_{i=1}^r\\sigma_iz_{ii}\\stackrel{-1\\leq z_{ii}\\leq 1}{\\leq}\\sum_{i=1}^r\\sigma_i.\n",
    "\\end{align}"
   ]
  },
  {
   "cell_type": "markdown",
   "metadata": {},
   "source": [
    "Једнакост у горњој неједнакости се достиже за $Z=I\\quad\\Longrightarrow\\quad Y^TQ^TX=I\\quad\\Longrightarrow\\quad \n",
    "Q^T=YX^T\\quad\\Longrightarrow\\quad U=XY^T.$"
   ]
  },
  {
   "cell_type": "markdown",
   "metadata": {},
   "source": [
    "Заменом ${\\rm tr}\\big((AQ)^TB\\big)=\\sum_{i=1}^r\\sigma_i$ налазимо и израз за минимално одстојање\n",
    "$$\\|AU-B\\|_F^2=\\|A\\|_F^2-2{\\rm tr}\\big((AU)^TB\\big)+\\|B\\|_F^2=\\|A\\|_F^2+\\|B\\|_F^2-2\\sum_{i=1}^r\\sigma_i.\\quad\\Box$$"
   ]
  },
  {
   "cell_type": "markdown",
   "metadata": {},
   "source": [
    "Графички ћемо испитати добијено решење на подацима у две и три димензије. Конфигурације формирамо применом ортогоналне трансформације и додатком Гаусовог шума координатама."
   ]
  },
  {
   "cell_type": "code",
   "execution_count": 23,
   "metadata": {},
   "outputs": [
    {
     "data": {
      "text/plain": [
       "0.08"
      ]
     },
     "execution_count": 23,
     "metadata": {},
     "output_type": "execute_result"
    }
   ],
   "source": [
    "m, n= 11 , 2   #dvodimenzionalna konfiguracija\n",
    "A=rndm.uniform(-1,5,(m,n))\n",
    "theta=0.8*np.pi\n",
    "c=np.cos(theta)\n",
    "s=np.sin(theta)\n",
    "R=np.array([[c,s],[-s,c]])   #ortogonalna matrica za transformaciju A\n",
    "B=A@R+0.03*rndm.randn(m,n)   # kreiranje referentne konfiguracije\n",
    "C=A.T@B\n",
    "X,Sigma,Yt=spl.svd(C)\n",
    "U=X@Yt\n",
    "np.max(np.round(A@U-B,2))"
   ]
  },
  {
   "cell_type": "code",
   "execution_count": 24,
   "metadata": {},
   "outputs": [
    {
     "data": {
      "text/plain": [
       "107.77259947052774"
      ]
     },
     "execution_count": 24,
     "metadata": {},
     "output_type": "execute_result"
    }
   ],
   "source": [
    "np.sum(Sigma)"
   ]
  },
  {
   "cell_type": "markdown",
   "metadata": {},
   "source": [
    "Поступак можемо да проверимо и уграђеном функцијом за решење проблема Прокрустове постеље."
   ]
  },
  {
   "cell_type": "code",
   "execution_count": 26,
   "metadata": {},
   "outputs": [
    {
     "data": {
      "text/plain": [
       "107.77259947052774"
      ]
     },
     "execution_count": 26,
     "metadata": {},
     "output_type": "execute_result"
    }
   ],
   "source": [
    "Uspl, skala=spl.orthogonal_procrustes(A,B)\n",
    "skala"
   ]
  },
  {
   "cell_type": "code",
   "execution_count": 27,
   "metadata": {},
   "outputs": [
    {
     "data": {
      "text/plain": [
       "array([[ True,  True],\n",
       "       [ True,  True]])"
      ]
     },
     "execution_count": 27,
     "metadata": {},
     "output_type": "execute_result"
    }
   ],
   "source": [
    "np.isclose(U-Uspl,0)"
   ]
  },
  {
   "cell_type": "code",
   "execution_count": 28,
   "metadata": {
    "scrolled": false
   },
   "outputs": [
    {
     "data": {
      "image/png": "[encoded data removed]",
      "text/plain": [
       "<Figure size 936x288 with 3 Axes>"
      ]
     },
     "metadata": {
      "needs_background": "light"
     },
     "output_type": "display_data"
    }
   ],
   "source": [
    "slika, ax = plt.subplots(1, 3,figsize=(13,4)) \n",
    "\n",
    "plt.subplot(1, 3, 1)\n",
    "plt.title(\"Skupovi tacaka A i B\")\n",
    "plt.plot(A[:,0],A[:,1],'ob')\n",
    "plt.plot(B[:,0],B[:,1],'or')\n",
    "plt.xlim([-6,6])\n",
    "plt.ylim([-6,6])\n",
    "\n",
    "plt.subplot(1, 3, 2)\n",
    "plt.title(\"Skupovi tacaka AU i B\")\n",
    "plt.plot((A@U)[:,0],(A@U)[:,1],'ob')\n",
    "plt.plot(B[:,0],B[:,1],'or')\n",
    "plt.xlim([-6,6])\n",
    "plt.ylim([-6,6])\n",
    "\n",
    "plt.subplot(1, 3, 3)\n",
    "plt.title(\"Skupovi tacaka AUspl i B\")\n",
    "plt.plot((A@Uspl)[:,0],(A@Uspl)[:,1],'ob')\n",
    "plt.plot(B[:,0],B[:,1],'or')\n",
    "plt.xlim([-6,6])\n",
    "plt.ylim([-6,6]);"
   ]
  },
  {
   "cell_type": "markdown",
   "metadata": {},
   "source": [
    "Следећу конфигурацију формирамо само пермутацијом редоследа тачака и додавањем Гаусовог шума."
   ]
  },
  {
   "cell_type": "code",
   "execution_count": 31,
   "metadata": {},
   "outputs": [],
   "source": [
    "m, n= 11 , 2   #dvodimenzionalna konfiguracija\n",
    "A=rndm.uniform(-1,5,(m,n))\n",
    "perm=rndm.permutation(m)\n",
    "B=A[perm]+0.3*rndm.randn(m,n)\n",
    "C=A.T@B\n",
    "X,Sigma,Yt=spl.svd(C)\n",
    "U=X@Yt\n",
    "Uspl, _=spl.orthogonal_procrustes(A,B)"
   ]
  },
  {
   "cell_type": "code",
   "execution_count": 32,
   "metadata": {
    "scrolled": false
   },
   "outputs": [
    {
     "data": {
      "image/png": "[encoded data removed]",
      "text/plain": [
       "<Figure size 936x288 with 3 Axes>"
      ]
     },
     "metadata": {
      "needs_background": "light"
     },
     "output_type": "display_data"
    }
   ],
   "source": [
    "slika, ax = plt.subplots(1, 3,figsize=(13,4)) \n",
    "\n",
    "plt.subplot(1, 3, 1)\n",
    "plt.title(\"Skupovi tacaka A i B\")\n",
    "plt.plot(A[:,0],A[:,1],'ob')\n",
    "plt.plot(B[:,0],B[:,1],'or')\n",
    "plt.xlim([-6,6])\n",
    "plt.ylim([-6,6])\n",
    "\n",
    "plt.subplot(1, 3, 2)\n",
    "plt.title(\"Skupovi tacaka AU i B\")\n",
    "plt.plot((A@U)[:,0],(A@U)[:,1],'ob')\n",
    "plt.plot(B[:,0],B[:,1],'or')\n",
    "plt.xlim([-6,6])\n",
    "plt.ylim([-6,6])\n",
    "\n",
    "plt.subplot(1, 3, 3)\n",
    "plt.title(\"Skupovi tacaka AUspl i B\")\n",
    "plt.plot((A@Uspl)[:,0],(A@Uspl)[:,1],'ob')\n",
    "plt.plot(B[:,0],B[:,1],'or')\n",
    "plt.xlim([-6,6])\n",
    "plt.ylim([-6,6]);"
   ]
  },
  {
   "cell_type": "markdown",
   "metadata": {},
   "source": [
    "У наставку креирамо конфигурације у три димензије."
   ]
  },
  {
   "cell_type": "code",
   "execution_count": 36,
   "metadata": {},
   "outputs": [],
   "source": [
    "m, n= 11 , 3    #trodimenzionalna konfiguracija\n",
    "A3=rndm.uniform(-3,3,(m,n))\n",
    "Q,_=spl.qr(rndm.rand(n,n))\n",
    "B3=A3@Q+0.05*rndm.randn(m,n)\n",
    "C3=A3.T@B3\n",
    "X3,Sigma3,Y3t=spl.svd(C3)\n",
    "U3=X3@Y3t\n",
    "AT=A3@U3\n",
    "U3spl, _=spl.orthogonal_procrustes(A3,B3)\n",
    "A3spl=A3@U3spl"
   ]
  },
  {
   "cell_type": "code",
   "execution_count": 37,
   "metadata": {
    "scrolled": false
   },
   "outputs": [
    {
     "data": {
      "image/png": "[encoded data removed]",
      "text/plain": [
       "<Figure size 1152x288 with 6 Axes>"
      ]
     },
     "metadata": {
      "needs_background": "light"
     },
     "output_type": "display_data"
    }
   ],
   "source": [
    "slika, ax = plt.subplots(1, 3,figsize=(16,4)) \n",
    "\n",
    "ax = slika.add_subplot(131, projection='3d')\n",
    "plt.title(\"Skupovi tacaka A i B\")\n",
    "plt.plot(A3[:,0],A3[:,1],A3[:,2],'ob')\n",
    "plt.plot(B3[:,0],B3[:,1],B3[:,2],'or')\n",
    "\n",
    "\n",
    "ax = slika.add_subplot(132, projection='3d')\n",
    "plt.title(\"Skupovi tacaka AU i B\")\n",
    "plt.plot(AT[:,0],AT[:,1],AT[:,2],'ob')\n",
    "plt.plot(B3[:,0],B3[:,1],B3[:,2],'or');\n",
    "\n",
    "ax = slika.add_subplot(133, projection='3d')\n",
    "plt.title(\"Skupovi tacaka AUspl i B\")\n",
    "plt.plot(A3spl[:,0],A3spl[:,1],A3spl[:,2],'ob')\n",
    "plt.plot(B3[:,0],B3[:,1],B3[:,2],'or');"
   ]
  },
  {
   "cell_type": "markdown",
   "metadata": {},
   "source": [
    "У следећој конфигурацији извршићемо само пермутацију полазног скупа тачака уз додатак Гаусовог шума координатама."
   ]
  },
  {
   "cell_type": "code",
   "execution_count": 41,
   "metadata": {},
   "outputs": [],
   "source": [
    "m, n= 11 , 3    #trodimenzionalna konfiguracija\n",
    "A3=rndm.uniform(-3,3,(m,n))\n",
    "perm=rndm.permutation(m)\n",
    "B3=A3[perm]+0.07*rndm.randn(m,n)\n",
    "C3=A3.T@B3\n",
    "X3,Sigma3,Y3t=spl.svd(C3)\n",
    "U3=X3@Y3t\n",
    "AT=A3@U3\n",
    "U3spl, _=spl.orthogonal_procrustes(A3,B3)\n",
    "A3spl=A3@U3spl"
   ]
  },
  {
   "cell_type": "code",
   "execution_count": 42,
   "metadata": {
    "scrolled": true
   },
   "outputs": [
    {
     "data": {
      "image/png": "[encoded data removed]",
      "text/plain": [
       "<Figure size 1152x288 with 6 Axes>"
      ]
     },
     "metadata": {
      "needs_background": "light"
     },
     "output_type": "display_data"
    }
   ],
   "source": [
    "slika, ax = plt.subplots(1, 3,figsize=(16,4)) \n",
    "\n",
    "ax = slika.add_subplot(131, projection='3d')\n",
    "plt.title(\"Skupovi tacaka A i B\")\n",
    "plt.plot(A3[:,0],A3[:,1],A3[:,2],'ob')\n",
    "plt.plot(B3[:,0],B3[:,1],B3[:,2],'or')\n",
    "\n",
    "\n",
    "ax = slika.add_subplot(132, projection='3d')\n",
    "plt.title(\"Skupovi tacaka AU i B\")\n",
    "plt.plot(AT[:,0],AT[:,1],AT[:,2],'ob')\n",
    "plt.plot(B3[:,0],B3[:,1],B3[:,2],'or');\n",
    "\n",
    "ax = slika.add_subplot(133, projection='3d')\n",
    "plt.title(\"Skupovi tacaka AUspl i B\")\n",
    "plt.plot(A3spl[:,0],A3spl[:,1],A3spl[:,2],'ob')\n",
    "plt.plot(B3[:,0],B3[:,1],B3[:,2],'or');"
   ]
  },
  {
   "cell_type": "markdown",
   "metadata": {},
   "source": [
    "На овом примеру видимо да поступак не ради најбоље када се примењује само пермутација полазног скупа података. Разлог лежи у томе што алгоритам покушава да слика први вектор у први вектор, итд. Центрирањем и скалирањем података и [додатним техникама](https://en.wikipedia.org/wiki/Generalized_Procrustes_analysis) могу да се добију бољи резултати. У појединим ситуацијама може се додати и услов да ортогонална матрица $Q$ чува оријентацију у простору, тј. да је $\\det Q>0.$"
   ]
  },
  {
   "cell_type": "markdown",
   "metadata": {},
   "source": [
    "## Норма трага (Nuclear norm)\n",
    "\n",
    "За правоугаону матрицу $A\\in\\mathcal{M}_{m\\times n},$ $L_1$ варијаната Фробенијусове норме назива се норма трага\n",
    "$$\\|A\\|_N=\\sigma_1+\\sigma_2+\\dots+\\sigma_r.$$\n",
    "Ова норма добија се на основу SVD матрице $A,$ било редуковане, било пуне декомпозиције.\n",
    "$$\n",
    "A=U_r\\Sigma_{r\\times r}V_r^T=\\left[\\begin{array}{c|c|c}\n",
    "\\phantom{w}&\\phantom{w}&\\phantom{w}\\\\\n",
    "u_1&\\dots&u_r\\\\ \\phantom{w}&\\phantom{w}&\\phantom{w}\n",
    "\\end{array}\\right]\n",
    "\\left[\\begin{array}{cccc}\n",
    "\\sigma_1&0&\\dots&0\\\\0&\\sigma_2&\\dots&0\\\\&&\\ddots&\\\\0&0&\\dots&\\sigma_r\n",
    "\\end{array}\\right]\n",
    "\\left[\\begin{array}{c}\n",
    "\\phantom{WW}v_1^T\\phantom{WW}\\\\\\hline\n",
    "\\vdots\\\\\\hline\n",
    "\\phantom{WW}v_r^T\\phantom{WW}\n",
    "\\end{array}\\right]\n",
    "\\quad\\Longrightarrow\\quad\n",
    "\\|A\\|_N={\\rm tr}(\\Sigma_{r\\times r}).\n",
    "$$"
   ]
  },
  {
   "cell_type": "markdown",
   "metadata": {},
   "source": [
    "Норма трага представља $L_1$ норму вектора сингуларних вредности матрице $A.$ Због тога је то норма најближа по вредности $L_0$ функцији вектора сингуларних вредности. $L_0$ функција овог вектора даје управо вредност ранга $r$ матрице $A.$ Због тога поступци минимизације по норми трага дају као резултат матрице најмањег ранга.\n",
    "\n",
    "Видети проблеме [matrix completion](https://en.wikipedia.org/wiki/Matrix_completion), [Netflix prize](https://en.wikipedia.org/wiki/Netflix_Prize) и [matrix regularization](https://en.wikipedia.org/wiki/Matrix_regularization)."
   ]
  },
  {
   "cell_type": "markdown",
   "metadata": {},
   "source": [
    "На основу познатог односа $L_2$ и $L_1$ норми вектора закључујемо да за сваку матрицу $A$ важи $\\|A\\|_F\\leq\\|A\\|_N.$\n",
    "Онда једноставно следи да се и ова норма слаже са векторском нормом $L_2.$\n",
    "$$\\|Av\\|\\leq\\|A\\|_F\\|v||\\leq\\|A\\|_N\\|v\\|.$$"
   ]
  },
  {
   "cell_type": "markdown",
   "metadata": {},
   "source": [
    "**Последица 4.** Норма трага је инваријантна у односу на ортогоналне трансформације."
   ]
  },
  {
   "cell_type": "markdown",
   "metadata": {},
   "source": [
    "**Доказ :**\n",
    "\n",
    "Нека је $A=U\\Sigma V^T$ пуна SVD ове матрице и $Q\\in\\mathcal{M}_{m\\times m}$ ортогонална матрица. Тада је $W=QU$ поново ортогонална матрица и $QA=W\\Sigma V^T$ је пуна SVD матрице $QA,$ те ове матрице деле сингуларне вредности. Закључујемо да је \n",
    "$$\\|A\\|_N=\\|QA\\|_N.\\quad\\Box$$"
   ]
  },
  {
   "cell_type": "markdown",
   "metadata": {},
   "source": [
    "**Пример 7.** Потражимо норму трага матрица $A,B,QB,QA,$ где су матрице $A,B$ и $Q$ генерисане у ранијим примерима."
   ]
  },
  {
   "cell_type": "code",
   "execution_count": 21,
   "metadata": {},
   "outputs": [
    {
     "data": {
      "text/plain": [
       "6.946034429259505"
      ]
     },
     "execution_count": 21,
     "metadata": {},
     "output_type": "execute_result"
    }
   ],
   "source": [
    "np.linalg.norm(A,'nuc')"
   ]
  },
  {
   "cell_type": "code",
   "execution_count": 22,
   "metadata": {},
   "outputs": [
    {
     "data": {
      "text/plain": [
       "6.946034429259505"
      ]
     },
     "execution_count": 22,
     "metadata": {},
     "output_type": "execute_result"
    }
   ],
   "source": [
    "np.linalg.norm(Q@A,'nuc')"
   ]
  },
  {
   "cell_type": "code",
   "execution_count": 23,
   "metadata": {},
   "outputs": [
    {
     "data": {
      "text/plain": [
       "6.946034429259505"
      ]
     },
     "execution_count": 23,
     "metadata": {},
     "output_type": "execute_result"
    }
   ],
   "source": [
    "np.linalg.norm(A@Q,'nuc')"
   ]
  },
  {
   "cell_type": "code",
   "execution_count": 24,
   "metadata": {},
   "outputs": [
    {
     "data": {
      "text/plain": [
       "14.923702643401178"
      ]
     },
     "execution_count": 24,
     "metadata": {},
     "output_type": "execute_result"
    }
   ],
   "source": [
    "np.linalg.norm(B,'nuc')"
   ]
  },
  {
   "cell_type": "code",
   "execution_count": 25,
   "metadata": {},
   "outputs": [
    {
     "data": {
      "text/plain": [
       "14.923702643401182"
      ]
     },
     "execution_count": 25,
     "metadata": {},
     "output_type": "execute_result"
    }
   ],
   "source": [
    "np.linalg.norm(Q@B,'nuc')"
   ]
  },
  {
   "cell_type": "code",
   "execution_count": 26,
   "metadata": {},
   "outputs": [
    {
     "data": {
      "text/plain": [
       "14.923702643401178"
      ]
     },
     "execution_count": 26,
     "metadata": {},
     "output_type": "execute_result"
    }
   ],
   "source": [
    "np.sum(sigma)"
   ]
  },
  {
   "cell_type": "markdown",
   "metadata": {},
   "source": [
    "Име норме $\\|\\cdot\\|_N$ последица је једнакости у наставку."
   ]
  },
  {
   "cell_type": "markdown",
   "metadata": {},
   "source": [
    "Нека је $A=U_r\\Sigma_{r\\times r}V_r^T$ редукована SVD матрице $A\\in\\mathcal{M}_{m\\times n}.$ \n",
    "\\begin{align}\n",
    "A^TA&=\\big(U_r\\Sigma_{r\\times r}V_r^T\\big)^T\\big(U_r\\Sigma_{r\\times r}V_r^T\\big)\n",
    "=V_r\\Sigma_{r\\times r}U_r^TU_r\\Sigma_{r\\times r}V_r^T\\\\\n",
    "&=V_r\\Sigma_{r\\times r}^2V_r^T=\\big(V_r\\Sigma_{r\\times r}V_r^T\\big)\\big(V_r\\Sigma_{r\\times r}V_r^T\\big)\\\\\n",
    "&=B^2.\\\\\n",
    "\\Longrightarrow&\\quad \\|A\\|_N={\\rm tr}(B).\n",
    "\\end{align}"
   ]
  },
  {
   "cell_type": "markdown",
   "metadata": {},
   "source": [
    "И норма трага има особину суб-мултипликативности, тј. важи\n",
    "$$\\|AB\\|_N\\leq\\|A\\|_N\\|B\\|_N.$$"
   ]
  },
  {
   "cell_type": "markdown",
   "metadata": {},
   "source": [
    "Због тога се за норму матрица обично даје следећа дефиниција."
   ]
  },
  {
   "cell_type": "markdown",
   "metadata": {},
   "source": [
    "**Дефиниција 3.** Функција $\\|\\cdot\\|:\\mathcal{M}_{m\\times n}\\mapsto\\mathbb{R}_0^+,\\ m,n\\in\\mathbb{N}$ је матрична норма ако  $\\forall A\\in\\mathcal{M}_{m\\times n},\\ B\\in\\mathcal{M}_{n\\times p}$ и $\\forall c\\in\\mathbb{R}$ задовољава следеће особине:\n",
    "\n",
    "|   |   |   |\n",
    "|---|---|---|\n",
    "| МН1: |$\\|A\\|\\geq0$ i $\\|A\\|=0\\ \\Longleftrightarrow\\ A=O,$ | (јединствен минимум ненегативне функције)|\n",
    "| МН2: |$\\|cA\\|=|c|\\,\\|A\\|,$ |  (хомогеност)|\n",
    "| МН3: |$\\|A+B\\|\\leq\\|A\\|+\\|B\\|,$| (суб-адитивност)|\n",
    "| МН4: |$\\|A\\,B\\|\\leq\\|A\\|\\,\\|B\\|.$|  (суб-мултипликативност)|"
   ]
  },
  {
   "cell_type": "markdown",
   "metadata": {},
   "source": [
    "У наставку упознајемо још једну класу веома значајних норми."
   ]
  },
  {
   "cell_type": "markdown",
   "metadata": {},
   "source": [
    "## Норма индукована векторском нормом\n",
    "\n"
   ]
  },
  {
   "cell_type": "markdown",
   "metadata": {},
   "source": [
    "За Фробенијусову и траг норму показали смо да се слажу са операцијом множења матрице и вектора. Наредна врста норми се управо на томе базира."
   ]
  },
  {
   "cell_type": "markdown",
   "metadata": {},
   "source": [
    "**Дефиниција 4.** Матрична норма $\\|\\cdot\\|_p$ индукована векторском нормом $L_p$ дефинисана је са\n",
    "$$\\|A\\|_p=\\sup_{v\\neq\\theta}\\frac{\\|Av\\|_p}{\\|v\\|_p}=\\sup_{v\\neq\\theta}\\frac{\\left\\|A\\frac{v}{\\|v\\|_p}\\right\\|_p}{\\left\\|\\frac{v}{\\|v\\|_p}\\right\\|_p}\n",
    "\t=\\max_{\\|v\\|_p=1}{\\|Av\\|_p}.\n",
    "$$"
   ]
  },
  {
   "cell_type": "markdown",
   "metadata": {},
   "source": [
    "Другим речима, матрична норма $\\|A\\|_p$ је најмања ненегативна вредност $C$ за коју важи\n",
    "$$\\|Av\\|_p\\leq C\\|v\\|_p,\\qquad\\mbox{ за сваки вектор } v\\in \\mathbb{R}^n.$$"
   ]
  },
  {
   "cell_type": "markdown",
   "metadata": {},
   "source": [
    "Матрична норма описује максимално релативно истезање вектора под дејством матрице $A,$ тј. максимално истезање вектора са јединичне сфере под дејством матрице $A\\in\\mathcal{M}_{m\\times n},$ мерено одговарајућом векторском нормом. Геометрија јединичне сфере векторског простора условљена је избором векторске норме $L_p.$"
   ]
  },
  {
   "cell_type": "markdown",
   "metadata": {},
   "source": [
    "Приметимо да вектори $v\\in\\mathbb{R}^n$ и $Av\\in\\mathbb{R}^m$ не припадају истим векторским просторима, али се њихова норма израчунава аналогним изразима."
   ]
  },
  {
   "cell_type": "markdown",
   "metadata": {},
   "source": [
    "**Лема 2.** За функцију из дефинције 4. важи да се слаже са операцијом множења матрице и вектора."
   ]
  },
  {
   "cell_type": "markdown",
   "metadata": {},
   "source": [
    "**Доказ :**\n",
    "\n",
    "Нека је $v\\in \\mathbb{R}^n$ произвољан ненула вектор. Тада је\n",
    "$$ \\|Av\\|_p\\stackrel{v\\neq\\theta}{=}\\dfrac{\\|Av\\|_p}{\\|v\\|_p}\\|v\\|_p\n",
    " \\leq\\left(\\sup_{u\\neq\\theta}\\dfrac{\\|Au\\|_p}{\\|u\\|_p}\\right)\\|v\\|_p=\\|A\\|_p\\,\\|v\\|_p.\\tag{3}$$"
   ]
  },
  {
   "cell_type": "markdown",
   "metadata": {},
   "source": [
    "**Теорема 4.** Функција из дефиниције 4. задовољава аксиоме норме матрица."
   ]
  },
  {
   "cell_type": "markdown",
   "metadata": {},
   "source": [
    "**Доказ :**\n",
    "\n",
    "**МН1 :** $\\|A\\|_p\\geq0$ очигледно важи, јер је израз $\\|A\\|_p$ дат као максимална вредност ненегативних вредности. Покажимо да је $\\|A\\|_p=0\\ \\Longleftrightarrow\\ A=O.$\n",
    "$$\\|A\\|_p=0\\ \\Longleftrightarrow\\ \\sup_{v\\neq\\theta}\\dfrac{\\|Av\\|_p}{\\|v\\|_p}=0\n",
    " \\ \\Longleftrightarrow\\ \\|Av\\|_p=0,\\forall v\\in \\mathbb{R}^n\\ \\Longleftrightarrow\\ A=O.\n",
    "$$"
   ]
  },
  {
   "cell_type": "markdown",
   "metadata": {},
   "source": [
    "**МН2 :** $\\|\\alpha A\\|_p=|\\alpha|\\,\\|A\\|_p,\\ \\forall A,\\ \\forall \\alpha$\n",
    "$$\\|\\alpha A\\|_p=\\max_{\\|v\\|_p=1}{\\|\\alpha Av\\|_p}=\\max_{\\|v\\|_p=1}{|\\alpha|\\|Av\\|_p}=\n",
    " |\\alpha|\\max_{\\|v\\|_p=1}{\\|Av\\|_p}=|\\alpha|\\|A\\|_p.\n",
    "$$"
   ]
  },
  {
   "cell_type": "markdown",
   "metadata": {},
   "source": [
    "**МН3 :** $\\|A+B\\|_p\\leq\\|A\\|_p+\\|B\\|_p,\\ \\forall A,B$\n",
    " \\begin{align}\n",
    "  \\|A+B\\|_p&=\\max_{\\|v\\|_p=1}{\\|(A+B)v\\|_p}\n",
    " =\\max_{\\|v\\|_p=1}{\\|Av+Bv\\|_p}\\leq\\max_{\\|v\\|_p=1}{\\big\\{\\|Av\\|_p+\\|Bv\\|_p\\big\\}} \\\\\n",
    " &\\leq\\max_{\\|v\\|_p=1}{\\|Av\\|_p}+\\max_{\\|v\\|_p=1}{\\|Bv\\|_p}=\\|A\\|_p+\\|B\\|_p.\n",
    " \\end{align}"
   ]
  },
  {
   "cell_type": "markdown",
   "metadata": {},
   "source": [
    "**МН4 :** $\\|AB\\|_p\\leq\\|A\\|_p\\,\\|B\\|_p$\n",
    "\\begin{align}\n",
    " \\|AB\\|_p&=\\max_{\\|v\\|_p=1}{\\|ABv\\|_p}=\\max_{\\|v\\|_p=1}{\\|A(Bv)\\|_p}\n",
    " \\stackrel{(3)}{\\leq}\\max_{\\|v\\|_p=1}{\\|A\\|_p\\,\\|(Bv)\\|_p}\\\\\n",
    "& =\\|A\\|_p\\max_{\\|v\\|_p=1}{\\|(Bv)\\|_p}\n",
    " =\\|A\\|_p\\,\\|B\\|_p\n",
    " \\end{align}"
   ]
  },
  {
   "cell_type": "markdown",
   "metadata": {},
   "source": [
    "Најзначајније индуковане матричне норме су у тесној вези са најчешће коришћеним векторским $L_p$ нормама. "
   ]
  },
  {
   "cell_type": "markdown",
   "metadata": {},
   "source": [
    "**Пример 8.** NumPy наредба `linalg.norm` подржава израчунавање индукованих норми. Потражићемо вредности $L_1,L_2,L_{\\infty}$ индукованих норми за раније генерисане матрице."
   ]
  },
  {
   "cell_type": "code",
   "execution_count": 27,
   "metadata": {},
   "outputs": [
    {
     "data": {
      "text/plain": [
       "4.734500003510578"
      ]
     },
     "execution_count": 27,
     "metadata": {},
     "output_type": "execute_result"
    }
   ],
   "source": [
    "np.linalg.norm(A,1)"
   ]
  },
  {
   "cell_type": "code",
   "execution_count": 28,
   "metadata": {},
   "outputs": [
    {
     "data": {
      "text/plain": [
       "3.6039277412179476"
      ]
     },
     "execution_count": 28,
     "metadata": {},
     "output_type": "execute_result"
    }
   ],
   "source": [
    "np.linalg.norm(A,2)"
   ]
  },
  {
   "cell_type": "code",
   "execution_count": 29,
   "metadata": {},
   "outputs": [
    {
     "data": {
      "text/plain": [
       "4.775856381826321"
      ]
     },
     "execution_count": 29,
     "metadata": {},
     "output_type": "execute_result"
    }
   ],
   "source": [
    "np.linalg.norm(A,np.infty)"
   ]
  },
  {
   "cell_type": "code",
   "execution_count": 30,
   "metadata": {},
   "outputs": [
    {
     "data": {
      "text/plain": [
       "4.805171628600636"
      ]
     },
     "execution_count": 30,
     "metadata": {},
     "output_type": "execute_result"
    }
   ],
   "source": [
    "np.linalg.norm(B,1)"
   ]
  },
  {
   "cell_type": "code",
   "execution_count": 31,
   "metadata": {},
   "outputs": [
    {
     "data": {
      "text/plain": [
       "6.662888863010314"
      ]
     },
     "execution_count": 31,
     "metadata": {},
     "output_type": "execute_result"
    }
   ],
   "source": [
    "np.linalg.norm(B,2)"
   ]
  },
  {
   "cell_type": "code",
   "execution_count": 32,
   "metadata": {},
   "outputs": [
    {
     "data": {
      "text/plain": [
       "12.957390015221323"
      ]
     },
     "execution_count": 32,
     "metadata": {},
     "output_type": "execute_result"
    }
   ],
   "source": [
    "np.linalg.norm(B,np.infty)"
   ]
  },
  {
   "cell_type": "code",
   "execution_count": 33,
   "metadata": {},
   "outputs": [
    {
     "data": {
      "text/plain": [
       "2.5727055875062548"
      ]
     },
     "execution_count": 33,
     "metadata": {},
     "output_type": "execute_result"
    }
   ],
   "source": [
    "np.linalg.norm(Q,1)"
   ]
  },
  {
   "cell_type": "code",
   "execution_count": 34,
   "metadata": {},
   "outputs": [
    {
     "data": {
      "text/plain": [
       "1.0000000000000002"
      ]
     },
     "execution_count": 34,
     "metadata": {},
     "output_type": "execute_result"
    }
   ],
   "source": [
    "np.linalg.norm(Q,2)"
   ]
  },
  {
   "cell_type": "code",
   "execution_count": 35,
   "metadata": {},
   "outputs": [
    {
     "data": {
      "text/plain": [
       "2.4406859191753765"
      ]
     },
     "execution_count": 35,
     "metadata": {},
     "output_type": "execute_result"
    }
   ],
   "source": [
    "np.linalg.norm(Q,np.infty)"
   ]
  },
  {
   "cell_type": "markdown",
   "metadata": {},
   "source": [
    "**Пример 9.** У свакој индукованој матричној норми је $\\|I\\|_p=1.$\n",
    "\\begin{align}\\|I\\|_p&=\\sup_{v\\neq\\theta}\\dfrac{\\|Iv\\|_p}{\\|v\\|_p}=\n",
    "\t\\sup_{v\\neq\\theta}\\dfrac{\\|v\\|_p}{\\|v\\|_p}=1.\n",
    "\\end{align}"
   ]
  },
  {
   "cell_type": "code",
   "execution_count": 36,
   "metadata": {},
   "outputs": [
    {
     "data": {
      "text/plain": [
       "1.0"
      ]
     },
     "execution_count": 36,
     "metadata": {},
     "output_type": "execute_result"
    }
   ],
   "source": [
    "np.linalg.norm(np.eye(21),1)"
   ]
  },
  {
   "cell_type": "code",
   "execution_count": 37,
   "metadata": {},
   "outputs": [
    {
     "data": {
      "text/plain": [
       "1.0"
      ]
     },
     "execution_count": 37,
     "metadata": {},
     "output_type": "execute_result"
    }
   ],
   "source": [
    "np.linalg.norm(np.eye(21),2)"
   ]
  },
  {
   "cell_type": "code",
   "execution_count": 38,
   "metadata": {},
   "outputs": [
    {
     "data": {
      "text/plain": [
       "1.0"
      ]
     },
     "execution_count": 38,
     "metadata": {},
     "output_type": "execute_result"
    }
   ],
   "source": [
    "np.linalg.norm(np.eye(21),np.infty)"
   ]
  },
  {
   "cell_type": "code",
   "execution_count": 39,
   "metadata": {},
   "outputs": [
    {
     "data": {
      "text/plain": [
       "4.58257569495584"
      ]
     },
     "execution_count": 39,
     "metadata": {},
     "output_type": "execute_result"
    }
   ],
   "source": [
    "np.linalg.norm(np.eye(21),'fro')"
   ]
  },
  {
   "cell_type": "code",
   "execution_count": 40,
   "metadata": {},
   "outputs": [
    {
     "data": {
      "text/plain": [
       "21.0"
      ]
     },
     "execution_count": 40,
     "metadata": {},
     "output_type": "execute_result"
    }
   ],
   "source": [
    "np.linalg.norm(np.eye(21),'nuc')"
   ]
  },
  {
   "cell_type": "markdown",
   "metadata": {},
   "source": [
    "Закључујемо да, иако се Фробенијусова норма лакше израчунава, норме индуковане векторском нормом боље описују јединичну матрицу као јединични елемент алгебре матрица. Слично повезује и међусобно инверзне матрице."
   ]
  },
  {
   "cell_type": "markdown",
   "metadata": {},
   "source": [
    "**Пример 10.** Нека је $A$ регуларна матрица. За индуковану матричну норму важи да је $$\\|A^{-1}\\|_p\\geq\\frac{1}{\\|A\\|_p}.$$\n",
    "Нека је $v$ ненула вектор.\n",
    "$$\\|v\\|_p=\\|A^{-1}Av\\|_p\\leq\\|A^{-1}\\|_p\\ \\|Av\\|_p\n",
    "\\leq\\|A^{-1}\\|_p\\ \\|A\\|_p\\ \\|v\\|_p\\qquad \\big|:\\|v\\|_p$$\n",
    "$$\\Longrightarrow\\ 1\\leq\\|A^{-1}\\|_p\\ \\|A\\|_p\\ \\Longrightarrow\\\n",
    "\\|A^{-1}\\|_p\\geq\\dfrac{1}{\\|A\\|_p}.$$"
   ]
  },
  {
   "cell_type": "code",
   "execution_count": 41,
   "metadata": {},
   "outputs": [
    {
     "data": {
      "text/plain": [
       "12"
      ]
     },
     "execution_count": 41,
     "metadata": {},
     "output_type": "execute_result"
    }
   ],
   "source": [
    "M=rndm.uniform(-1,2,(12,12))\n",
    "np.linalg.matrix_rank(M)"
   ]
  },
  {
   "cell_type": "code",
   "execution_count": 42,
   "metadata": {},
   "outputs": [
    {
     "data": {
      "text/plain": [
       "True"
      ]
     },
     "execution_count": 42,
     "metadata": {},
     "output_type": "execute_result"
    }
   ],
   "source": [
    "np.linalg.norm(M,1)*np.linalg.norm(np.linalg.inv(M),1)>=1"
   ]
  },
  {
   "cell_type": "code",
   "execution_count": 43,
   "metadata": {},
   "outputs": [
    {
     "data": {
      "text/plain": [
       "True"
      ]
     },
     "execution_count": 43,
     "metadata": {},
     "output_type": "execute_result"
    }
   ],
   "source": [
    "np.linalg.norm(M,2)*np.linalg.norm(np.linalg.inv(M),2)>=1"
   ]
  },
  {
   "cell_type": "code",
   "execution_count": 44,
   "metadata": {},
   "outputs": [
    {
     "data": {
      "text/plain": [
       "True"
      ]
     },
     "execution_count": 44,
     "metadata": {},
     "output_type": "execute_result"
    }
   ],
   "source": [
    "np.linalg.norm(M,np.inf)*np.linalg.norm(np.linalg.inv(M),np.inf)>=1"
   ]
  },
  {
   "cell_type": "code",
   "execution_count": 45,
   "metadata": {},
   "outputs": [
    {
     "data": {
      "text/plain": [
       "True"
      ]
     },
     "execution_count": 45,
     "metadata": {},
     "output_type": "execute_result"
    }
   ],
   "source": [
    "np.linalg.norm(M,'fro')*np.linalg.norm(np.linalg.inv(M),'fro')>=1"
   ]
  },
  {
   "cell_type": "code",
   "execution_count": 46,
   "metadata": {},
   "outputs": [
    {
     "data": {
      "text/plain": [
       "True"
      ]
     },
     "execution_count": 46,
     "metadata": {},
     "output_type": "execute_result"
    }
   ],
   "source": [
    "np.linalg.norm(M,'nuc')*np.linalg.norm(np.linalg.inv(M),'nuc')>=1"
   ]
  },
  {
   "cell_type": "markdown",
   "metadata": {},
   "source": [
    "Размислити због чега аналогна неједнакост важи и за Фробенијусову и траг норму."
   ]
  },
  {
   "cell_type": "markdown",
   "metadata": {},
   "source": [
    "За норму инверзне матрице $A^{-1}$ регуларне матрице $A$ можемо да добијемо и бољи резултат.\n",
    "$$\\frac1{\\|A^{-1}\\|_p}=\n",
    "\t\\frac1{\\sup_{v\\neq\\theta}\\frac{\\|A^{-1}v\\|_p}{\\|v\\|_p}}\n",
    "\t=\\inf_{v\\neq\\theta}\\frac{\\|v\\|_p}{\\|A^{-1}v\\|_p}\n",
    "\t=\\inf_{v\\neq\\theta}\\frac{\\|AA^{-1}v\\|_p}{\\|A^{-1}v\\|_p}.$$\n",
    "Уведимо ознаку $u=A^{-1}v.$ С обзиром да је $A$ регуларна матрица то је $$v\\neq\\theta\\Longleftrightarrow\\ A^{-1}v\\neq\\theta\n",
    "\t\\Longleftrightarrow\\ u\\neq\\theta.$$ Претходна једнакост тада постаје\n",
    "$$\n",
    "\t\\frac1{\\|A^{-1}\\|_p}=\\inf_{u\\neq\\theta}\\frac{\\|Au\\|_p}{\\|u\\|_p}\n",
    "\t=\\min_{\\|u\\|_p=1}\\|Au\\|_p.\n",
    "$$\n",
    "Другим речима, вредност $\\dfrac1{\\|A^{-1}\\|}$ нам показује у којој мери регуларна матрица $A$ највише контрахује векторе са јединичне сфере."
   ]
  },
  {
   "cell_type": "markdown",
   "metadata": {},
   "source": [
    "Упознаћемо начин израчунавања најзначајнијих матричних $L_p$ норми."
   ]
  },
  {
   "cell_type": "markdown",
   "metadata": {},
   "source": [
    "|   |\n",
    "|---|\n",
    "|$$L_1:\\ \\|A\\|_1=\\sup_{v\\neq\\theta}\\dfrac{\\|Av\\|_1}{\\|v\\|_1}=\\max_{\\|v\\|_1=1}{\\|Av\\|_1}$$|\n",
    "\n",
    "Да бисмо извели  израз за рачунање $L_1$ матричне норме уведимо ознаке колона матрице $A\\in\\mathcal{M}_{n\\times n}$ и ознаке компоненти јединичног вектора $v\\in\\mathbb{R}^n.$\n",
    "$$A=\\left[\\begin{array}{c|c|c|c}\n",
    "\t\\phantom{w}&\\phantom{w}&\\phantom{w}&\\phantom{w}\\\\\n",
    "\ta_1&a_2&\\dots&a_n\\\\ \\phantom{w}&\\phantom{w}&\\phantom{w}&\\phantom{w}\n",
    "\t\\end{array}\\right],\\qquad v=\\begin{bmatrix} x_1\\\\x_2\\\\\\vdots\\\\x_n\\end{bmatrix}.$$"
   ]
  },
  {
   "cell_type": "markdown",
   "metadata": {},
   "source": [
    "Како је $\\|v\\|_1=1\\ \\Longleftrightarrow\\ \\displaystyle\\sum_{i=1}^n|x_i|=1,$ то је\n",
    "$$\\|Av\\|_1=\\left\\|\\sum_{i=1}^nx_ia_i\\right\\|_1\\stackrel{\\mbox{МН3}}{\\leq}\n",
    "\t\\sum_{i=1}^n\\|x_ia_i\\|_1\\stackrel{\\mbox{МН2}}{=}\n",
    "\t\\sum_{i=1}^n|x_i|\\,\\|a_i\\|_1\\leq\\max_i\\|a_i\\|_1\\sum_{i=1}^n|x_i|=\\max_i\\|a_i\\|_1.$$\n",
    "Због тога за матрицу $A=[a_{ij}]$ важи\n",
    "$$\t\\|A\\|_1=\\max_{\\|v\\|_1=1}{\\|Av\\|_1}=\\max_i\\|a_i\\|_1\n",
    "\t=\\max_i\\sum_{j=1}^n|a_{ji}|.\n",
    "$$\n",
    "Закључујемо да\t$L_1$ матрична норма представља максималну суму модула компоненти вектора-колона матрице $A.$ "
   ]
  },
  {
   "cell_type": "code",
   "execution_count": 47,
   "metadata": {},
   "outputs": [
    {
     "data": {
      "text/plain": [
       "4.734500003510578"
      ]
     },
     "execution_count": 47,
     "metadata": {},
     "output_type": "execute_result"
    }
   ],
   "source": [
    "np.linalg.norm(A,1)"
   ]
  },
  {
   "cell_type": "code",
   "execution_count": 48,
   "metadata": {},
   "outputs": [
    {
     "data": {
      "text/plain": [
       "4.734500003510578"
      ]
     },
     "execution_count": 48,
     "metadata": {},
     "output_type": "execute_result"
    }
   ],
   "source": [
    "np.max(np.linalg.norm(A,1,axis=0))"
   ]
  },
  {
   "cell_type": "markdown",
   "metadata": {},
   "source": [
    "|   |\n",
    "|---|\n",
    "|$$L_2:\\ \\|A\\|_2=\\sup_{v\\neq\\theta}\\dfrac{\\|Av\\|_2}{\\|v\\|_2}=\\max_{\\|v\\|_2=1}{\\|Av\\|_2}$$|\n",
    "\n",
    "Нека су $\\sigma_1\\geq\\sigma_2\\geq\\dots\\geq\\sigma_r>0$ све сингуларне вредности матрице $A.$\n",
    "На основу показаних тврђења за сингуларне вредности и векторе матрице закључујемо да је $\\|A\\|_2=\\sigma_1$ максимална сингуларна вредност. "
   ]
  },
  {
   "cell_type": "code",
   "execution_count": 49,
   "metadata": {},
   "outputs": [
    {
     "data": {
      "text/plain": [
       "3.6039277412179476"
      ]
     },
     "execution_count": 49,
     "metadata": {},
     "output_type": "execute_result"
    }
   ],
   "source": [
    "np.linalg.norm(A,2)"
   ]
  },
  {
   "cell_type": "code",
   "execution_count": 50,
   "metadata": {},
   "outputs": [
    {
     "data": {
      "text/plain": [
       "3.6039277412179476"
      ]
     },
     "execution_count": 50,
     "metadata": {},
     "output_type": "execute_result"
    }
   ],
   "source": [
    "sigmaA=spl.svdvals(A)\n",
    "np.max(sigmaA)"
   ]
  },
  {
   "cell_type": "markdown",
   "metadata": {},
   "source": [
    "|   |\n",
    "|---|\n",
    "|$$L_{\\infty}:\\ \\|A\\|_{\\infty}=\\sup_{v\\neq\\theta}\\dfrac{\\|Av\\|_{\\infty}}{\\|v\\|_{\\infty}}=\\max_{\\|v\\|_{\\infty}=1}{\\|Av\\|_{\\infty}}$$|\n",
    "\n",
    "Нека је $v\\in\\mathbb{R}^n$ јединични вектор у односу на $L_{\\infty}$ норму, \n",
    "$$\\|v\\|_{\\infty}=\\max_{1\\leq i\\leq n}|x_i|=1.$$\n",
    "Посматрамо поделу матрице $A$ на векторе-врста,\n",
    "$A=\\begin{bmatrix} \\underline{\\phantom{WW}a_1^T\\phantom{WW}}\\\\\n",
    "\t\\underline{\\phantom{WW}a_2^T\\phantom{WW}}\\\\\\vdots\\\\\\overline{\\phantom{WW}a_m^T\\phantom{WW}}\\end{bmatrix}.$\n",
    "Тада је\n",
    "\\begin{align}\\|Av\\|_{\\infty}&=\\left\\|\\begin{bmatrix} a_1^Tv\\\\a_2^Tv\\\\\\vdots\\\\a_m^Tv\\end{bmatrix}\\right\\|_{\\infty}\n",
    "=\\max_{1\\leq i\\leq m}\\big|a_i^Tv\\big|=\\max_{1\\leq i\\leq m}\\left|\\displaystyle\\sum_{j=1}^m a_{ij}x_j\\right|\\leq\n",
    "\t\\max_{1\\leq i\\leq m}\\displaystyle\\sum_{j=1}^m|a_{ij}x_j|\\\\\n",
    "\t&=\\max_{1\\leq i\\leq m}\\displaystyle\\sum_{j=1}^m|a_{ij}|\\,|x_j|\n",
    "    \\stackrel{|x_j|\\leq1}{\\leq}\\max_{1\\leq i\\leq m}\\displaystyle\\sum_{j=1}^m|a_{ij}|\n",
    "\t.\\end{align}\n",
    "$L_{\\infty}$ матрична норма матрице $A$ пердставља максималну суму апсолутних вредности компоненти вектора-врста матрице $A.$"
   ]
  },
  {
   "cell_type": "code",
   "execution_count": 51,
   "metadata": {},
   "outputs": [
    {
     "data": {
      "text/plain": [
       "4.775856381826321"
      ]
     },
     "execution_count": 51,
     "metadata": {},
     "output_type": "execute_result"
    }
   ],
   "source": [
    "np.linalg.norm(A,np.inf)"
   ]
  },
  {
   "cell_type": "code",
   "execution_count": 52,
   "metadata": {},
   "outputs": [
    {
     "data": {
      "text/plain": [
       "4.775856381826321"
      ]
     },
     "execution_count": 52,
     "metadata": {},
     "output_type": "execute_result"
    }
   ],
   "source": [
    "np.max(np.linalg.norm(A,1,axis=1))"
   ]
  },
  {
   "cell_type": "markdown",
   "metadata": {},
   "source": [
    "**Пример 11.** Нека је $A\\in\\mathcal{M}_{n\\times n}$ регуларна квадратна матрица и $\\sigma_1\\geq\\sigma_2\\geq\\dots\\geq\\sigma_n>0$ све сингуларне вредности матрице $A.$ Тада су сингуларне вредности њене инверзне матрице $A^{-1}$ једнаке\n",
    "$$\\frac1{\\sigma_n}\\geq\\dots\\geq\\frac1{\\sigma_2}\\geq\\frac1{\\sigma_1}\\,.$$ \n",
    "Тада је \n",
    "$$\\|A\\|_2=\\sigma_1,\\qquad \\|A^{-1}\\|_2=\\frac1{\\sigma_n}\\,.$$ "
   ]
  },
  {
   "cell_type": "code",
   "execution_count": 53,
   "metadata": {},
   "outputs": [
    {
     "data": {
      "text/plain": [
       "20.16804099498883"
      ]
     },
     "execution_count": 53,
     "metadata": {},
     "output_type": "execute_result"
    }
   ],
   "source": [
    "np.linalg.norm(np.linalg.inv(A),2)"
   ]
  },
  {
   "cell_type": "code",
   "execution_count": 54,
   "metadata": {},
   "outputs": [
    {
     "data": {
      "text/plain": [
       "20.168040994988818"
      ]
     },
     "execution_count": 54,
     "metadata": {},
     "output_type": "execute_result"
    }
   ],
   "source": [
    "np.max(1/sigmaA)"
   ]
  },
  {
   "cell_type": "markdown",
   "metadata": {},
   "source": [
    "Имајући у виду да је Еуклидова норма инавријантна у односу на ортогоналне трансформације, закључујемо да то важи и за матричну $L_2$ норму."
   ]
  },
  {
   "cell_type": "code",
   "execution_count": 55,
   "metadata": {},
   "outputs": [
    {
     "data": {
      "text/plain": [
       "-3.5360935902133197"
      ]
     },
     "execution_count": 55,
     "metadata": {},
     "output_type": "execute_result"
    }
   ],
   "source": [
    "np.linalg.norm(A)-np.linalg.norm(Q@B)"
   ]
  },
  {
   "cell_type": "code",
   "execution_count": 56,
   "metadata": {},
   "outputs": [
    {
     "data": {
      "text/plain": [
       "-4.440892098500626e-16"
      ]
     },
     "execution_count": 56,
     "metadata": {},
     "output_type": "execute_result"
    }
   ],
   "source": [
    "np.linalg.norm(A)-np.linalg.norm(A@Q)"
   ]
  },
  {
   "cell_type": "markdown",
   "metadata": {},
   "source": [
    "## Кондициони број матрице\n",
    "\n",
    "Норма матрица игра велику улогу у испитивању стабилности поступка израчунавања неке вредности. У те сврхе користићемо основне појмове теорије грешака."
   ]
  },
  {
   "cell_type": "markdown",
   "metadata": {},
   "source": [
    "**Дефиниција 5.** Апроксимација вектора вредности $a=\\begin{bmatrix} a_1&a_2&\\dots&a_n\\end{bmatrix}^T\\neq\\theta$ је неки вектор $v=\\begin{bmatrix} x_1&x_2&\\dots&x_n\\end{bmatrix}^T.$ Апсолутна грешка ове апроксимације је међусобно растојање два вектора, тј.\n",
    "$$\\Delta a=\\|v-a\\|.$$  \n",
    "Релативну грешку апроксимације представља количник \n",
    "$$\\delta a=\\dfrac{\\Delta a}{\\|a\\|}.$$\n",
    "\n",
    "Сви изрази из дефиниције 5 могу да користе било коју норму вектора. Уколико се користи нека од стандардних $L_p$ норми, граница релативне грешке $\\delta a=\\dfrac{\\Delta a}{\\|a\\|}\\leq\\dfrac12\\cdot10^{-p}$ може да се тумачи да компоненте $x_k\\approx\\|v\\|$ имају око $p$ тачних значајних цифара. За мање компоненте $x_k<<\\|v\\|$ ова граница представља тек границу апсолутне грешке."
   ]
  },
  {
   "cell_type": "markdown",
   "metadata": {},
   "source": [
    "У реалним ситуацијама тачан вектор $a$ нам углавном није познат, па самим тим нисмо у могућности да одредимо апсолутно и релативно одступање апроксимације $x.$ Тада баратамо само границама апсолутне и релативне грешке.\n",
    "\n",
    "**Дефиниција 6.** Број $\\Delta$ је граница апсолутне грешке апроксимације $x$ тачног вектора вредности $a,$ уколико је $\\Delta a\\leq\\Delta.$ Слично, $\\delta$ је граница релативне грешке када важи $\\delta a\\leq\\delta.$"
   ]
  },
  {
   "cell_type": "markdown",
   "metadata": {},
   "source": [
    "Претпоставимо да је потребно израчунати производ $Av,$ при чему вектор $v$ није тачно дат. То може бити последица грешака заокруживанја, мерења или претходних нумеричких израчунавања. Уместо са тачним низом вредности $v$ располажемо његовом апроксимацијом $v+\\varepsilon.$ Граница апсолутне грешке улазних података дата је са $\\Delta v=\\|\\varepsilon\\|.$ Желимо да проценимо утицај ове грешке на исход израчунавања $Av.$ Потражимо границу апсолутне грешке резултата израчунавања\n",
    "\t\t$$\\Delta(Av)=\n",
    "\t\t\\|A(v+\\varepsilon)-Av\\|=\\|A\\varepsilon\\|\\leq\\|A\\|\\ \\|\\varepsilon\\|=\\|A\\|\\Delta v.$$\n",
    "Видимо да норма матрице представља грубу процену коефицијента пропорционалности између граница две апсолутне грешке - израчунавања $Av$ и улазног податка $v.$ \t\t"
   ]
  },
  {
   "cell_type": "markdown",
   "metadata": {},
   "source": [
    "За процену релативне грешке резултата $\\delta( Av)=\\dfrac{\\|A(v+\\varepsilon)-Av\\|}{\\|Av\\|}$ у односу на релативну грешку улаза $\\delta v=\\dfrac{\\|\\varepsilon\\|}{\\|v\\|}$ претпоставићемо да је матрица $A$ квадратна и регуларна. У том случају имамо\n",
    "$$\\delta( Av)=\\dfrac{\\|A(v+\\varepsilon)-Av\\|}{\\|Av\\|}\\leq\\dfrac{\\|A\\|\\ \\|\\varepsilon\\|}{\\|Av\\|}=\\dfrac{\\|A\\|\\ \\|A^{-1}\\|\\ \\|\\varepsilon\\|}{\\|A^{-1}\\|\\ \\|Av\\|}.$$\t\n",
    "$$\\|A^{-1}\\|\\ \\|Av\\|\\geq\\|A^{-1}Av\\|=\\|v\\|\\Longrightarrow\\ \n",
    "\t\t\\dfrac{1}{\\|A^{-1}\\|\\ \\|Av\\|}\\leq\\dfrac{1}{\\|v\\|}.$$\n",
    "$$\\Longrightarrow\\ \\dfrac{\\|A(v+\\varepsilon)-Av\\|}{\\|Av\\|}\\leq\n",
    "\t\t\\|A\\|\\ \\|A^{-1}\\|\\dfrac{\\|\\varepsilon\\|}{\\|v\\|}\n",
    "\t\t=\\|A\\|\\ \\|A^{-1}\\|\\ \\delta v$$\n",
    "\t\t"
   ]
  },
  {
   "cell_type": "markdown",
   "metadata": {},
   "source": [
    "Граница релативне грешке израчунавања $\\delta( Av)=\\dfrac{\\|A(v+\\varepsilon)-Av\\|}{\\|Av\\|}$ пропорционална је граници релативне грешке улазних података $\\delta v=\\dfrac{\\|\\varepsilon\\|}{\\|v\\|}.$  Горња граница коефицијента пропорционалности дата је изразом \n",
    "$$\\kappa(A)=\\|A\\|\\ \\|A^{-1}\\|\\geq1=\\kappa(I)$$\n",
    "и назива се [кондициони број](https://en.wikipedia.org/wiki/Condition_number) матрице $A.$ Овај број даје грубу процену коефицијента увећања релативне грешке у израчунавањима.\n",
    "\t\t\n",
    "Уколико се за $\\kappa(A)$ користи  $L_2$ норма матрица, и $A\\in\\mathcal{M}_{n\\times n}$ регуларна матрица, тада је\n",
    "$$\\kappa(A)=\\|A\\|\\ \\|A^{-1}\\|=\\dfrac{\\sigma_1}{\\sigma_n}\\,,$$\n",
    "где су $\\sigma_1$ и $\\sigma_n$ највећа и најмања сингуларна вредност матрице $A.$"
   ]
  },
  {
   "cell_type": "markdown",
   "metadata": {},
   "source": [
    "Израчунавање кондиционог броја матрице у NumPy-у обавља наредба `linalg.cond`."
   ]
  },
  {
   "cell_type": "code",
   "execution_count": 57,
   "metadata": {},
   "outputs": [
    {
     "data": {
      "text/plain": [
       "72.68416242786103"
      ]
     },
     "execution_count": 57,
     "metadata": {},
     "output_type": "execute_result"
    }
   ],
   "source": [
    "np.linalg.cond(A)   "
   ]
  },
  {
   "cell_type": "code",
   "execution_count": 58,
   "metadata": {},
   "outputs": [
    {
     "data": {
      "text/plain": [
       "162.59281969152923"
      ]
     },
     "execution_count": 58,
     "metadata": {},
     "output_type": "execute_result"
    }
   ],
   "source": [
    "np.linalg.cond(A,1)   "
   ]
  },
  {
   "cell_type": "code",
   "execution_count": 59,
   "metadata": {},
   "outputs": [
    {
     "data": {
      "text/plain": [
       "158.879020282859"
      ]
     },
     "execution_count": 59,
     "metadata": {},
     "output_type": "execute_result"
    }
   ],
   "source": [
    "np.linalg.cond(A,np.inf)   "
   ]
  },
  {
   "cell_type": "code",
   "execution_count": 60,
   "metadata": {},
   "outputs": [
    {
     "data": {
      "text/plain": [
       "83.32769699200934"
      ]
     },
     "execution_count": 60,
     "metadata": {},
     "output_type": "execute_result"
    }
   ],
   "source": [
    "np.linalg.cond(A,'fro')   "
   ]
  },
  {
   "cell_type": "markdown",
   "metadata": {},
   "source": [
    "**Пример 12.** Дат је систем једначина $Ax=b$ где су $A=\\begin{bmatrix}1&1&1\\\\2&3&4\\\\3+\\epsilon&4&5\\end{bmatrix},$ \n",
    "$b=\\begin{bmatrix}6\\\\20\\\\26+\\epsilon\\end{bmatrix}$ и $\\epsilon$ је параметар чију ћемо вредност да варирамо. Показаћемо прво да је вектор $x=\\begin{bmatrix}1\\\\2\\\\3\\end{bmatrix}$ решење датог система без обзира на вредност параметра $\\epsilon.$"
   ]
  },
  {
   "cell_type": "markdown",
   "metadata": {},
   "source": [
    "$$Ax=\\begin{bmatrix}1&1&1\\\\2&3&4\\\\3+\\epsilon&4&5\\end{bmatrix}\n",
    "\\begin{bmatrix}1\\\\2\\\\3\\end{bmatrix}=\\begin{bmatrix}6\\\\20\\\\26+\\epsilon\\end{bmatrix}=b.$$"
   ]
  },
  {
   "cell_type": "markdown",
   "metadata": {},
   "source": [
    "Приметимо да је матрица $A$ регуларна за све ненула вредности параметра.\n",
    "$$\\begin{vmatrix}1&1&1\\\\2&3&4\\\\3+\\epsilon&4&5\\end{vmatrix}=\n",
    "\\begin{vmatrix}1&1&1\\\\0&1&2\\\\\\epsilon&1&2\\end{vmatrix}=\\begin{vmatrix}1&1&1\\\\0&1&2\\\\\\epsilon&0&0\\end{vmatrix}=\n",
    "\\epsilon\\begin{vmatrix}1&1\\\\1&2\\end{vmatrix}=\\epsilon.$$"
   ]
  },
  {
   "cell_type": "markdown",
   "metadata": {},
   "source": [
    "Потражићемо решење датог система за $\\epsilon\\in\\{10^{-5},10^{-8},10^{-11}\\}.$"
   ]
  },
  {
   "cell_type": "code",
   "execution_count": 61,
   "metadata": {},
   "outputs": [
    {
     "data": {
      "text/plain": [
       "3836733.3488375545"
      ]
     },
     "execution_count": 61,
     "metadata": {},
     "output_type": "execute_result"
    }
   ],
   "source": [
    "epsl=1e-5\n",
    "A=np.array([[1,1,1],[2,3,4],[3+epsl,4,5]])\n",
    "resenje=np.array([1,2,3])\n",
    "b=np.array([6,20,26+epsl])\n",
    "np.linalg.cond(A)"
   ]
  },
  {
   "cell_type": "code",
   "execution_count": 62,
   "metadata": {},
   "outputs": [
    {
     "data": {
      "text/plain": [
       "4000069.999976148"
      ]
     },
     "execution_count": 62,
     "metadata": {},
     "output_type": "execute_result"
    }
   ],
   "source": [
    "np.linalg.cond(A,1)"
   ]
  },
  {
   "cell_type": "code",
   "execution_count": 63,
   "metadata": {},
   "outputs": [
    {
     "data": {
      "text/plain": [
       "7200041.999987065"
      ]
     },
     "execution_count": 63,
     "metadata": {},
     "output_type": "execute_result"
    }
   ],
   "source": [
    "np.linalg.cond(A,np.infty)"
   ]
  },
  {
   "cell_type": "code",
   "execution_count": 64,
   "metadata": {},
   "outputs": [
    {
     "data": {
      "text/plain": [
       "array([1., 2., 3.])"
      ]
     },
     "execution_count": 64,
     "metadata": {},
     "output_type": "execute_result"
    }
   ],
   "source": [
    "x=np.linalg.solve(A,b)\n",
    "x"
   ]
  },
  {
   "cell_type": "code",
   "execution_count": 65,
   "metadata": {},
   "outputs": [
    {
     "data": {
      "text/plain": [
       "8.232699664779534e-11"
      ]
     },
     "execution_count": 65,
     "metadata": {},
     "output_type": "execute_result"
    }
   ],
   "source": [
    "Delta_x=np.linalg.norm(x-resenje)\n",
    "Delta_x"
   ]
  },
  {
   "cell_type": "code",
   "execution_count": 66,
   "metadata": {},
   "outputs": [
    {
     "data": {
      "text/plain": [
       "2.2002815367009783e-11"
      ]
     },
     "execution_count": 66,
     "metadata": {},
     "output_type": "execute_result"
    }
   ],
   "source": [
    "rel_x=Delta_x/np.linalg.norm(x)\n",
    "rel_x"
   ]
  },
  {
   "cell_type": "code",
   "execution_count": 67,
   "metadata": {},
   "outputs": [
    {
     "data": {
      "text/plain": [
       "0.0"
      ]
     },
     "execution_count": 67,
     "metadata": {},
     "output_type": "execute_result"
    }
   ],
   "source": [
    "Delta_b=np.linalg.norm(b-A@x)\n",
    "Delta_b"
   ]
  },
  {
   "cell_type": "code",
   "execution_count": 68,
   "metadata": {},
   "outputs": [
    {
     "data": {
      "text/plain": [
       "0.0"
      ]
     },
     "execution_count": 68,
     "metadata": {},
     "output_type": "execute_result"
    }
   ],
   "source": [
    "rel_b=Delta_b/np.linalg.norm(b)\n",
    "rel_b"
   ]
  },
  {
   "cell_type": "code",
   "execution_count": 69,
   "metadata": {},
   "outputs": [
    {
     "data": {
      "text/plain": [
       "3836714520.6787343"
      ]
     },
     "execution_count": 69,
     "metadata": {},
     "output_type": "execute_result"
    }
   ],
   "source": [
    "epsl=1e-8\n",
    "A=np.array([[1,1,1],[2,3,4],[3+epsl,4,5]])\n",
    "resenje=np.array([1,2,3])\n",
    "b=np.array([6,20,26+epsl])\n",
    "np.linalg.cond(A)"
   ]
  },
  {
   "cell_type": "code",
   "execution_count": 70,
   "metadata": {},
   "outputs": [
    {
     "data": {
      "text/plain": [
       "4000000048.182666"
      ]
     },
     "execution_count": 70,
     "metadata": {},
     "output_type": "execute_result"
    }
   ],
   "source": [
    "np.linalg.cond(A,1)"
   ]
  },
  {
   "cell_type": "code",
   "execution_count": 71,
   "metadata": {},
   "outputs": [
    {
     "data": {
      "text/plain": [
       "7200000002.7288"
      ]
     },
     "execution_count": 71,
     "metadata": {},
     "output_type": "execute_result"
    }
   ],
   "source": [
    "np.linalg.cond(A,np.inf)"
   ]
  },
  {
   "cell_type": "code",
   "execution_count": 72,
   "metadata": {},
   "outputs": [
    {
     "data": {
      "text/plain": [
       "array([1.00000005, 1.99999989, 3.00000005])"
      ]
     },
     "execution_count": 72,
     "metadata": {},
     "output_type": "execute_result"
    }
   ],
   "source": [
    "x=np.linalg.solve(A,b)\n",
    "x"
   ]
  },
  {
   "cell_type": "code",
   "execution_count": 73,
   "metadata": {},
   "outputs": [
    {
     "data": {
      "text/plain": [
       "1.28861266278306e-07"
      ]
     },
     "execution_count": 73,
     "metadata": {},
     "output_type": "execute_result"
    }
   ],
   "source": [
    "Delta_x=np.linalg.norm(x-resenje)\n",
    "Delta_x"
   ]
  },
  {
   "cell_type": "code",
   "execution_count": 74,
   "metadata": {},
   "outputs": [
    {
     "data": {
      "text/plain": [
       "3.443962205994765e-08"
      ]
     },
     "execution_count": 74,
     "metadata": {},
     "output_type": "execute_result"
    }
   ],
   "source": [
    "rel_x=Delta_x/np.linalg.norm(x)\n",
    "rel_x"
   ]
  },
  {
   "cell_type": "code",
   "execution_count": 75,
   "metadata": {},
   "outputs": [
    {
     "data": {
      "text/plain": [
       "0.0"
      ]
     },
     "execution_count": 75,
     "metadata": {},
     "output_type": "execute_result"
    }
   ],
   "source": [
    "Delta_b=np.linalg.norm(b-A@x)\n",
    "Delta_b"
   ]
  },
  {
   "cell_type": "code",
   "execution_count": 76,
   "metadata": {},
   "outputs": [
    {
     "data": {
      "text/plain": [
       "0.0"
      ]
     },
     "execution_count": 76,
     "metadata": {},
     "output_type": "execute_result"
    }
   ],
   "source": [
    "rel_b=Delta_b/np.linalg.norm(b)\n",
    "rel_b"
   ]
  },
  {
   "cell_type": "code",
   "execution_count": 77,
   "metadata": {},
   "outputs": [
    {
     "data": {
      "text/plain": [
       "3836258407212.924"
      ]
     },
     "execution_count": 77,
     "metadata": {},
     "output_type": "execute_result"
    }
   ],
   "source": [
    "epsl=1e-11\n",
    "A=np.array([[1,1,1],[2,3,4],[3+epsl,4,5]])\n",
    "resenje=np.array([1,2,3])\n",
    "b=np.array([6,20,26+epsl])\n",
    "np.linalg.cond(A)"
   ]
  },
  {
   "cell_type": "code",
   "execution_count": 78,
   "metadata": {},
   "outputs": [
    {
     "data": {
      "text/plain": [
       "array([1.00009992, 1.99980016, 3.00009992])"
      ]
     },
     "execution_count": 78,
     "metadata": {},
     "output_type": "execute_result"
    }
   ],
   "source": [
    "x=np.linalg.solve(A,b)\n",
    "x"
   ]
  },
  {
   "cell_type": "code",
   "execution_count": 79,
   "metadata": {},
   "outputs": [
    {
     "data": {
      "text/plain": [
       "0.000244750628638865"
      ]
     },
     "execution_count": 79,
     "metadata": {},
     "output_type": "execute_result"
    }
   ],
   "source": [
    "Delta_x=np.linalg.norm(x-resenje)\n",
    "Delta_x"
   ]
  },
  {
   "cell_type": "code",
   "execution_count": 80,
   "metadata": {},
   "outputs": [
    {
     "data": {
      "text/plain": [
       "6.541235682892722e-05"
      ]
     },
     "execution_count": 80,
     "metadata": {},
     "output_type": "execute_result"
    }
   ],
   "source": [
    "rel_x=Delta_x/np.linalg.norm(x)\n",
    "rel_x"
   ]
  },
  {
   "cell_type": "code",
   "execution_count": 81,
   "metadata": {},
   "outputs": [
    {
     "data": {
      "text/plain": [
       "0.0"
      ]
     },
     "execution_count": 81,
     "metadata": {},
     "output_type": "execute_result"
    }
   ],
   "source": [
    "Delta_b=np.linalg.norm(b-A@x)\n",
    "Delta_b"
   ]
  },
  {
   "cell_type": "code",
   "execution_count": 82,
   "metadata": {},
   "outputs": [
    {
     "data": {
      "text/plain": [
       "0.0"
      ]
     },
     "execution_count": 82,
     "metadata": {},
     "output_type": "execute_result"
    }
   ],
   "source": [
    "rel_b=Delta_b/np.linalg.norm(b)\n",
    "rel_b"
   ]
  },
  {
   "cell_type": "markdown",
   "metadata": {},
   "source": [
    "Кроз пример примећујемо повећање кондиционог броја матрице као и повеање грешке у добијеном резултату решења. Са друге стране резидуални вектор не бележи никакав проблем. То је управо последица израчунавања са матрицом великог кондиционог броја. За нумеричка израчунавања пожељно је да матрица има кондициони број близак вредности $1.$ "
   ]
  },
  {
   "cell_type": "code",
   "execution_count": 83,
   "metadata": {},
   "outputs": [
    {
     "data": {
      "text/plain": [
       "3148008222834.903"
      ]
     },
     "execution_count": 83,
     "metadata": {},
     "output_type": "execute_result"
    }
   ],
   "source": [
    "A=np.array([[888445.,887112],[887112,885781]])\n",
    "b=np.array([1,0])\n",
    "resenje=np.array([885781,-887112.])\n",
    "np.linalg.cond(A)"
   ]
  },
  {
   "cell_type": "code",
   "execution_count": 84,
   "metadata": {},
   "outputs": [
    {
     "data": {
      "text/plain": [
       "array([ 885803.84094839, -887134.87526985])"
      ]
     },
     "execution_count": 84,
     "metadata": {},
     "output_type": "execute_result"
    }
   ],
   "source": [
    "x=np.linalg.solve(A,b)\n",
    "x"
   ]
  },
  {
   "cell_type": "code",
   "execution_count": 85,
   "metadata": {},
   "outputs": [
    {
     "data": {
      "text/plain": [
       "0.0"
      ]
     },
     "execution_count": 85,
     "metadata": {},
     "output_type": "execute_result"
    }
   ],
   "source": [
    "Delta_b=np.linalg.norm(b-A@x)\n",
    "Delta_b"
   ]
  },
  {
   "cell_type": "code",
   "execution_count": 86,
   "metadata": {},
   "outputs": [
    {
     "data": {
      "text/plain": [
       "array([0., 0.])"
      ]
     },
     "execution_count": 86,
     "metadata": {},
     "output_type": "execute_result"
    }
   ],
   "source": [
    "A@resenje-b"
   ]
  },
  {
   "cell_type": "markdown",
   "metadata": {},
   "source": [
    "Претпоставимо да је неким поступком добијена апроксимација $x_k$ решења $x=A^{-1}b$ система линеарних једначина $Ax=b.$ Резидуални вектор $r=b-Ax_k$ је једина процена квалитета апроксимације коју имамо, тј. процена грешке $\\varepsilon_k=x-x_k.$\n",
    "Како је $r_k=b-Ax_k=Ax-Ax_k=A\\varepsilon_k,$ то је $\\varepsilon_k=A^{-1}r_k\\quad\\Longrightarrow\\quad \\|\\varepsilon_k\\|\\leq\\|A^{-1}\\|\\,\\|r_k\\|.$"
   ]
  },
  {
   "cell_type": "markdown",
   "metadata": {},
   "source": [
    "Релативне грешке, као што смо видели у претходној анализи, повезује релација $\\delta x\\leq\\kappa(A)\\delta(b).$ Уколико желимо да поправимо апроксимацију $x_k$ применимо исти поступак решавања на систем једначина $A\\varepsilon_k=r_k,$ и креирамо нову апроксимацију $x_{k+1}=x_k+\\epsilon_k.$ Уколико је $x_k$ добијено као резултат неког тачног метода, да би се поправила апроксимација решења потребно је повећати радну прецизност рачунара."
   ]
  },
  {
   "cell_type": "markdown",
   "metadata": {},
   "source": [
    "Претпоставка је да је релативна грешка $\\delta(b)$ тачног метода реда величине машинског епсилон $\\epsilon_M.$ Због тога је процена релативне грешке апроксимације $\\delta x\\leq\\kappa(A)\\epsilon_M.$ Према томе број тачних значајних цифара $m$ је највећи природан број за који важи $\\kappa(A)\\epsilon_M\\leq\\dfrac12\\cdot10^{-m}.$\n",
    "\n",
    "Једно од правила из праксе, тј. емпиријско правило каже да уколико у израчунавању учествује матрица $A,$ процена је да се у поступку губи отприлике $\\log_{10}\\kappa(A)$ тачних значајних цифара."
   ]
  },
  {
   "cell_type": "markdown",
   "metadata": {},
   "source": [
    "**Пример 13.** У колико значајних цифара можемо имати поверења у поступку решавања система линеарних једначина $Ax=b,$ \n",
    "$$A=\\begin{bmatrix}1&2\\\\2&3.999\\end{bmatrix}?$$"
   ]
  },
  {
   "cell_type": "markdown",
   "metadata": {},
   "source": [
    "Одредићемо кондициони број матрице $A.$"
   ]
  },
  {
   "cell_type": "code",
   "execution_count": 87,
   "metadata": {},
   "outputs": [
    {
     "data": {
      "text/plain": [
       "24993.812"
      ]
     },
     "execution_count": 87,
     "metadata": {},
     "output_type": "execute_result"
    }
   ],
   "source": [
    "A=np.array([[1,2],[2,3.999]],np.dtype('float32'))\n",
    "kapa=np.linalg.cond(A)\n",
    "kapa"
   ]
  },
  {
   "cell_type": "markdown",
   "metadata": {},
   "source": [
    "Уколико претпоставимо да се израчунавања обављају у једнострукој прецизности (23-битна мантиса), машинско епсилон је приближно $\\varepsilon_M=2^{-23}\\approx10^{-6}.$ "
   ]
  },
  {
   "cell_type": "code",
   "execution_count": 88,
   "metadata": {},
   "outputs": [
    {
     "data": {
      "text/plain": [
       "0.002979494631290436"
      ]
     },
     "execution_count": 88,
     "metadata": {},
     "output_type": "execute_result"
    }
   ],
   "source": [
    "kapa*2**(-23)"
   ]
  },
  {
   "cell_type": "markdown",
   "metadata": {},
   "source": [
    "Следи да је $\\kappa(A)\\epsilon_M\\leq\\dfrac12\\cdot10^{-2}$ па добијени вектор решења има бар две тачне цифре."
   ]
  },
  {
   "cell_type": "code",
   "execution_count": 89,
   "metadata": {},
   "outputs": [
    {
     "data": {
      "text/plain": [
       "dtype('float32')"
      ]
     },
     "execution_count": 89,
     "metadata": {},
     "output_type": "execute_result"
    }
   ],
   "source": [
    "resenje=rndm.uniform(-5,5,2).astype('float32')\n",
    "b=A@resenje\n",
    "xk=np.linalg.solve(A,b)\n",
    "xk.dtype"
   ]
  },
  {
   "cell_type": "code",
   "execution_count": 90,
   "metadata": {},
   "outputs": [
    {
     "data": {
      "text/plain": [
       "array([3.0597515, 1.5660467], dtype=float32)"
      ]
     },
     "execution_count": 90,
     "metadata": {},
     "output_type": "execute_result"
    }
   ],
   "source": [
    "xk"
   ]
  },
  {
   "cell_type": "code",
   "execution_count": 91,
   "metadata": {},
   "outputs": [
    {
     "data": {
      "text/plain": [
       "array([3.0621045, 1.5648701], dtype=float32)"
      ]
     },
     "execution_count": 91,
     "metadata": {},
     "output_type": "execute_result"
    }
   ],
   "source": [
    "resenje"
   ]
  },
  {
   "cell_type": "markdown",
   "metadata": {},
   "source": [
    "Провером тачности рада у аритметици мантисе дужине $16$ (half precission) видимо да она не доноси веће губитке тачности."
   ]
  },
  {
   "cell_type": "code",
   "execution_count": 92,
   "metadata": {},
   "outputs": [
    {
     "data": {
      "text/plain": [
       "0.3813753128051758"
      ]
     },
     "execution_count": 92,
     "metadata": {},
     "output_type": "execute_result"
    }
   ],
   "source": [
    "kapa*2**(-16)"
   ]
  },
  {
   "cell_type": "code",
   "execution_count": 93,
   "metadata": {},
   "outputs": [
    {
     "data": {
      "text/plain": [
       "dtype('float32')"
      ]
     },
     "execution_count": 93,
     "metadata": {},
     "output_type": "execute_result"
    }
   ],
   "source": [
    "xk=spl.solve(A.astype('float16'),b.astype('float16'))\n",
    "xk.dtype"
   ]
  },
  {
   "cell_type": "code",
   "execution_count": 94,
   "metadata": {},
   "outputs": [
    {
     "data": {
      "text/plain": [
       "array([6.1914062, 0.       ], dtype=float32)"
      ]
     },
     "execution_count": 94,
     "metadata": {},
     "output_type": "execute_result"
    }
   ],
   "source": [
    "xk"
   ]
  },
  {
   "cell_type": "markdown",
   "metadata": {},
   "source": [
    "**Пример 14.** У колико значајних цифара можемо имати поверења у поступку решавања система линеарних једначина $Ax=b,$ \n",
    "$$A=\\begin{bmatrix}1&2\\\\2&3\\end{bmatrix}?$$"
   ]
  },
  {
   "cell_type": "markdown",
   "metadata": {},
   "source": [
    "Одредићемо кондициони број матрице $A.$"
   ]
  },
  {
   "cell_type": "code",
   "execution_count": 95,
   "metadata": {},
   "outputs": [
    {
     "data": {
      "text/plain": [
       "17.944271"
      ]
     },
     "execution_count": 95,
     "metadata": {},
     "output_type": "execute_result"
    }
   ],
   "source": [
    "A=np.array([[1,2],[2,3]],np.dtype('float32'))\n",
    "kapa=np.linalg.cond(A)\n",
    "kapa"
   ]
  },
  {
   "cell_type": "markdown",
   "metadata": {},
   "source": [
    "Уколико претпоставимо да се израчунавања обављају у једнострукој прецизности (23-битна мантиса), машинско епсилон је приближно $\\varepsilon_M=2^{-23}\\approx10^{-6}.$ "
   ]
  },
  {
   "cell_type": "code",
   "execution_count": 96,
   "metadata": {},
   "outputs": [
    {
     "data": {
      "text/plain": [
       "2.139123807864962e-06"
      ]
     },
     "execution_count": 96,
     "metadata": {},
     "output_type": "execute_result"
    }
   ],
   "source": [
    "kapa*2**(-23)"
   ]
  },
  {
   "cell_type": "markdown",
   "metadata": {},
   "source": [
    "Следи да је $\\kappa(A)\\epsilon_M\\leq\\dfrac12\\cdot10^{-2}$ па добијени вектор решења има бар шест тачних цифара."
   ]
  },
  {
   "cell_type": "code",
   "execution_count": 97,
   "metadata": {},
   "outputs": [
    {
     "data": {
      "text/plain": [
       "dtype('float32')"
      ]
     },
     "execution_count": 97,
     "metadata": {},
     "output_type": "execute_result"
    }
   ],
   "source": [
    "resenje=rndm.uniform(-5,5,2).astype('float32')\n",
    "b=A@resenje\n",
    "xk=np.linalg.solve(A,b)\n",
    "xk.dtype"
   ]
  },
  {
   "cell_type": "code",
   "execution_count": 98,
   "metadata": {},
   "outputs": [
    {
     "data": {
      "text/plain": [
       "array([ 0.11834669, -2.109891  ], dtype=float32)"
      ]
     },
     "execution_count": 98,
     "metadata": {},
     "output_type": "execute_result"
    }
   ],
   "source": [
    "xk"
   ]
  },
  {
   "cell_type": "code",
   "execution_count": 99,
   "metadata": {},
   "outputs": [
    {
     "data": {
      "text/plain": [
       "array([ 0.11834615, -2.1098907 ], dtype=float32)"
      ]
     },
     "execution_count": 99,
     "metadata": {},
     "output_type": "execute_result"
    }
   ],
   "source": [
    "resenje"
   ]
  },
  {
   "cell_type": "code",
   "execution_count": 100,
   "metadata": {},
   "outputs": [
    {
     "data": {
      "text/plain": [
       "0.00027380784740671515"
      ]
     },
     "execution_count": 100,
     "metadata": {},
     "output_type": "execute_result"
    }
   ],
   "source": [
    "kapa*2**(-16)"
   ]
  },
  {
   "cell_type": "code",
   "execution_count": 101,
   "metadata": {},
   "outputs": [
    {
     "data": {
      "text/plain": [
       "dtype('float32')"
      ]
     },
     "execution_count": 101,
     "metadata": {},
     "output_type": "execute_result"
    }
   ],
   "source": [
    "xk=spl.solve(A.astype('float16'),b.astype('float16'))\n",
    "xk.dtype"
   ]
  },
  {
   "cell_type": "code",
   "execution_count": 102,
   "metadata": {},
   "outputs": [
    {
     "data": {
      "text/plain": [
       "array([ 0.1171875, -2.109375 ], dtype=float32)"
      ]
     },
     "execution_count": 102,
     "metadata": {},
     "output_type": "execute_result"
    }
   ],
   "source": [
    "xk"
   ]
  }
 ],
 "metadata": {
  "kernelspec": {
   "display_name": "Python 3",
   "language": "python",
   "name": "python3"
  },
  "language_info": {
   "codemirror_mode": {
    "name": "ipython",
    "version": 3
   },
   "file_extension": ".py",
   "mimetype": "text/x-python",
   "name": "python",
   "nbconvert_exporter": "python",
   "pygments_lexer": "ipython3",
   "version": "3.7.16"
  }
 },
 "nbformat": 4,
 "nbformat_minor": 4
}
