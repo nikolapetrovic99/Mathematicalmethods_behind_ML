{
 "cells": [
  {
   "cell_type": "markdown",
   "metadata": {},
   "source": [
    "# Полиноми у NumPy-у\n",
    "\n",
    "Садржај:\n",
    "- [Полиноми као вектори коефицијената](#Полиноми-као-вектори-коефицијената)\n",
    "- [Алгебра полинома](#Алгебра-полинома)\n"
   ]
  },
  {
   "cell_type": "code",
   "execution_count": 1,
   "metadata": {},
   "outputs": [],
   "source": [
    "import numpy as np\n",
    "import matplotlib as mplb\n",
    "import matplotlib.pyplot as plt\n",
    "from timeit import default_timer as timer\n",
    "import numpy.random as rndm"
   ]
  },
  {
   "cell_type": "markdown",
   "metadata": {},
   "source": [
    "## Полиноми као вектори коефицијената\n",
    "\n",
    "Рад са полиномима преко њихових вектора коефицијената један је од најбитнијих елемената примене матричног рачуна. Python је кроз NumPy библиотеку опремљен и [функцијама](https://numpy.org/doc/stable/reference/routines.polynomials.html) специјализованим за такав начин рада са полиномима. Наиме, полином \n",
    "$$P_n(x)=p_0x^n+p_1x^{n-1}+\\dots+p_{n-1}x+p_n$$ поистовећује се са вектором својих коефицијената $P_n(x)\\equiv\\begin{bmatrix}p_0&p_1&\\dots&p_{n-1}&p_n\\end{bmatrix}^T.$ Индексирање коефицијената полинома прилагођено је начину индексирања вектора у Python-у.\n",
    "Тако је нпр. $P_4(x)=x^4+2\\quad\\Longrightarrow\\quad P_4\\equiv\\begin{bmatrix}1&0&0&0&2\\end{bmatrix}.$\n",
    "\n",
    "Операције над векторима и матрицама могу да се прилагоде за рад са полиномима задатим преко вектора коефицијената."
   ]
  },
  {
   "cell_type": "markdown",
   "metadata": {},
   "source": [
    "**Пример 1.** Израчунаћемо матричним операцијама вредности полинома $P(x)=x^5+3x^4-2x^3-x^2+3x-2$ за $x\\in\\{-1,-0.5,1.3,2.2,3.4\\}.$ У те сврхе можемо да искористимо Вандермондову матрицу. За израчунавање вредности полинома $$P(x)=p_0x^n+p_{1}x^{n-1}+\\dots+p_{n-1}x+p_n=\\displaystyle\\sum_{k=0}^np_kx^{n-k}$$ за серију вредности аргумената $x\\in\\{a_0,a_1,\\dots,a_m\\}$ уз ознаку\n",
    "Вандермондове матрице $V_{n+1}(a_0,a_1,\\dots,a_m)=\\begin{bmatrix}a_0^{n}&a_0^{n-1}&\\dots&a_0&1\\\\\n",
    "a_1^{n}&a_1^{n-1}&\\dots&a_1&1\\\\\n",
    "\\vdots&\\vdots&&\\vdots&\\vdots\\\\\n",
    "a_m^{n}&a_m^{n-1}&\\dots&a_m&1\\end{bmatrix},$ имамо\n",
    "$$\\begin{bmatrix}P(a_0)\\\\P(a_1)\\\\\\vdots\\\\P(a_{m-1})\\\\P(a_m)\\end{bmatrix}=\n",
    "\\begin{bmatrix}a_0^{n}&a_0^{n-1}&\\dots&a_0&1\\\\\n",
    "a_1^{n}&a_1^{n-1}&\\dots&a_1&1\\\\\n",
    "\\vdots&\\vdots&&\\vdots&\\vdots\\\\\n",
    "a_m^{n}&a_m^{n-1}&\\dots&a_m&1\\end{bmatrix}\\begin{bmatrix}p_0\\\\p_1\\\\\\vdots\\\\p_{n-1}\\\\p_n\\end{bmatrix}.$$\n",
    "Због тога уведимо променљиве којима ће ова израчунавања над полиномом $P(x)=x^5+3x^4-2x^3-x^2+3x-2$ бити извршена."
   ]
  },
  {
   "cell_type": "code",
   "execution_count": 3,
   "metadata": {},
   "outputs": [
    {
     "name": "stdout",
     "output_type": "stream",
     "text": [
      "Vreme izracunavanja:  0.0001312000000552871 sec\n",
      "[[-1.0000000e+00  1.0000000e+00 -1.0000000e+00  1.0000000e+00\n",
      "  -1.0000000e+00  1.0000000e+00]\n",
      " [-3.1250000e-02  6.2500000e-02 -1.2500000e-01  2.5000000e-01\n",
      "  -5.0000000e-01  1.0000000e+00]\n",
      " [ 3.7129300e+00  2.8561000e+00  2.1970000e+00  1.6900000e+00\n",
      "   1.3000000e+00  1.0000000e+00]\n",
      " [ 5.1536320e+01  2.3425600e+01  1.0648000e+01  4.8400000e+00\n",
      "   2.2000000e+00  1.0000000e+00]\n",
      " [ 4.5435424e+02  1.3363360e+02  3.9304000e+01  1.1560000e+01\n",
      "   3.4000000e+00  1.0000000e+00]]\n",
      "[ -2.       -3.34375   8.09723 100.27712 773.28704]\n"
     ]
    }
   ],
   "source": [
    "p=np.array([1,3,-2,-1,3,-2])  #predstavljanje polinoma vektorom koeficijenata\n",
    "st=p.size\n",
    "a=np.array([-1,-0.5,1.3,2.2,3.4]) #vrednosti argumenta u kojima se racuna vrednost polinoma\n",
    "start = timer()\n",
    "Vand=np.vander(a,st)  #generisanje Vandermondove matrice\n",
    "Pa=Vand@p #izracunavanje vrednosti polinoma P u tackama a\n",
    "end = timer()\n",
    "print(\"Vreme izracunavanja: \",end - start,\"sec\")\n",
    "print(Vand)\n",
    "print(Pa)"
   ]
  },
  {
   "cell_type": "markdown",
   "metadata": {},
   "source": [
    "Осим представљеног поступка који је меморијски неефикасан, представаљање полинома преко вектора коефицијената погодује ефикасном поступку израчунавања вредности полинома путем Хорнерове шеме. Кључ је у специјалном начину записивања полинома који зовемо Хорнеров облик.\n",
    "\\begin{align}\n",
    "P_n(x)&=p_0x^n+p_1x^{n-1}+\\dots+p_{n-1}x+p_n\\\\\n",
    "&=\\big(\\dots\\big((p_0x+p_1)x\\big)x+\\dots+p_{n-1}\\big)x+p_n.\n",
    "\\end{align}\n",
    "Хорнерова шема се описује следећом таблицом:\n",
    "$$\\begin{array}{c|c|c|c|c|c|c}\n",
    "a&p_0&p_1&p_2&\\dots&p_{n-1}&p_n\\\\\\hline\n",
    "&+0&+aq_0&+aq_1&\\dots&+aq_{n-2}&+aq_{n-1}\\\\\\hline\n",
    "&q_0&q_1&q_2&\\dots&q_{n-1}&P(a)\n",
    "\\end{array}$$\n",
    "Њен садржај можемо да тумачимо и у својству дељења полинома линеарним полиномом $x-a.$\n",
    "$$P(x)=\\big(q_0x^{n-1}+q_1x^{n-2}+\\dots+q_{n-1}\\big)(x-a)+P(a).$$"
   ]
  },
  {
   "cell_type": "markdown",
   "metadata": {},
   "source": [
    "**Пример 2.** Израчунаћемо вредности полинома $P_5(x)=3x^5-2.1x^4+1.12x^3-3.74,$ за вредности $x\\in\\{-1.3,-0.7,0.1,1.5,2.2,2.8,3.7\\}$ по принципу Хорнерове шеме."
   ]
  },
  {
   "cell_type": "code",
   "execution_count": 5,
   "metadata": {},
   "outputs": [],
   "source": [
    "P5=np.array([3,-2.1,1.12,0,0,-3.74])"
   ]
  },
  {
   "cell_type": "markdown",
   "metadata": {},
   "source": [
    "Реализоваћемо прво код за израчунавање вредности полинома за једну вредност аргумента, $a=2.2$ нпр. "
   ]
  },
  {
   "cell_type": "code",
   "execution_count": 6,
   "metadata": {},
   "outputs": [
    {
     "name": "stdout",
     "output_type": "stream",
     "text": [
      "Vreme izracunavanja:  0.00011899999992692756 sec\n"
     ]
    },
    {
     "data": {
      "text/plain": [
       "113.60096000000003"
      ]
     },
     "execution_count": 6,
     "metadata": {},
     "output_type": "execute_result"
    }
   ],
   "source": [
    "a=2.2\n",
    "st=P5.size\n",
    "#pocetak postupka Hornerove seme\n",
    "P5a=P5[0]\n",
    "start = timer()\n",
    "for i in np.arange(1,st):\n",
    "    P5a=P5a*a+P5[i]\n",
    "end = timer()\n",
    "print(\"Vreme izracunavanja: \",end - start,\"sec\")\n",
    "P5a    "
   ]
  },
  {
   "cell_type": "markdown",
   "metadata": {},
   "source": [
    "Резултат можемо да проверимо \"ручним израчунавањем\""
   ]
  },
  {
   "cell_type": "code",
   "execution_count": 7,
   "metadata": {},
   "outputs": [
    {
     "name": "stdout",
     "output_type": "stream",
     "text": [
      "Vreme izracunavanja:  7.080000000314612e-05 sec\n"
     ]
    }
   ],
   "source": [
    "start = timer()\n",
    "3*a**5-2.1*a**4+1.12*a**3-3.74\n",
    "end = timer()\n",
    "print(\"Vreme izracunavanja: \",end - start,\"sec\")"
   ]
  },
  {
   "cell_type": "markdown",
   "metadata": {},
   "source": [
    "или Вандермондовом матрицом."
   ]
  },
  {
   "cell_type": "code",
   "execution_count": 8,
   "metadata": {},
   "outputs": [
    {
     "name": "stdout",
     "output_type": "stream",
     "text": [
      "[[51.53632 23.4256  10.648    4.84     2.2      1.     ]]\n"
     ]
    }
   ],
   "source": [
    "V1x6=np.vander([a],st)  #generisanje Vandermondove matrice\n",
    "print(V1x6)"
   ]
  },
  {
   "cell_type": "code",
   "execution_count": 9,
   "metadata": {},
   "outputs": [
    {
     "name": "stdout",
     "output_type": "stream",
     "text": [
      "Vreme izracunavanja:  9.139999997387349e-05 sec\n"
     ]
    }
   ],
   "source": [
    "start = timer()\n",
    "V1x6@P5\n",
    "end = timer()\n",
    "print(\"Vreme izracunavanja: \",end - start,\"sec\")"
   ]
  },
  {
   "cell_type": "markdown",
   "metadata": {},
   "source": [
    "Сада можемо да прилагодимо претходни код за израчунавање вредности полинома за серију аргумената."
   ]
  },
  {
   "cell_type": "code",
   "execution_count": 10,
   "metadata": {},
   "outputs": [
    {
     "name": "stdout",
     "output_type": "stream",
     "text": [
      "Vreme izracunavanja:  0.00015109999992546364 sec\n"
     ]
    },
    {
     "data": {
      "text/plain": [
       "array([ -23.33724,   -5.13258,   -3.73906,   12.19   ,  113.60096,\n",
       "        408.07952, 1739.73626])"
      ]
     },
     "execution_count": 10,
     "metadata": {},
     "output_type": "execute_result"
    }
   ],
   "source": [
    "a=np.array([-1.3,-0.7,0.1,1.5,2.2,2.8,3.7])\n",
    "n=a.size\n",
    "start = timer()\n",
    "P5a=P5[0]*np.ones(n)\n",
    "for i in np.arange(1,st):\n",
    "    P5a=P5a*a+P5[i]\n",
    "end = timer()\n",
    "print(\"Vreme izracunavanja: \",end - start,\"sec\")\n",
    "P5a  "
   ]
  },
  {
   "cell_type": "markdown",
   "metadata": {},
   "source": [
    "Резултат још једном можемо да проверимо \"ручним израчунавањем\"."
   ]
  },
  {
   "cell_type": "code",
   "execution_count": 11,
   "metadata": {},
   "outputs": [
    {
     "name": "stdout",
     "output_type": "stream",
     "text": [
      "Vreme izracunavanja:  0.00014029999999820575 sec\n"
     ]
    }
   ],
   "source": [
    "start = timer()\n",
    "3*a**5-2.1*a**4+1.12*a**3-3.74\n",
    "end = timer()\n",
    "print(\"Vreme izracunavanja: \",end - start,\"sec\")"
   ]
  },
  {
   "cell_type": "markdown",
   "metadata": {},
   "source": [
    "Уграђена NumPy функција која служи за израчунавање вредности полинома путем Хорнерове шеме је `polyval`."
   ]
  },
  {
   "cell_type": "code",
   "execution_count": 12,
   "metadata": {},
   "outputs": [
    {
     "name": "stdout",
     "output_type": "stream",
     "text": [
      "Vreme izracunavanja:  0.00015200000007098424 sec\n"
     ]
    }
   ],
   "source": [
    "start = timer()\n",
    "np.polyval(P5,a)\n",
    "end = timer()\n",
    "print(\"Vreme izracunavanja: \",end - start,\"sec\")"
   ]
  },
  {
   "cell_type": "markdown",
   "metadata": {},
   "source": [
    "Упоредићемо сада времена израчунавања на полиному високог степена, за серију вредности аргумента."
   ]
  },
  {
   "cell_type": "code",
   "execution_count": 13,
   "metadata": {},
   "outputs": [],
   "source": [
    "n=231  #stepen polinoma je 230, ima 231 koeficijent\n",
    "p=rndm.uniform(-3.5,3.5,n)  #generisanje koeficijenata polinoma P\n",
    "m=50\n",
    "x=rndm.uniform(-2.5,2.5,m)"
   ]
  },
  {
   "cell_type": "code",
   "execution_count": 14,
   "metadata": {},
   "outputs": [
    {
     "data": {
      "text/plain": [
       "(50, 231)"
      ]
     },
     "execution_count": 14,
     "metadata": {},
     "output_type": "execute_result"
    }
   ],
   "source": [
    "Vmn=np.vander(x,n)  #generisanje Vandermondove matrice\n",
    "Vmn.shape"
   ]
  },
  {
   "cell_type": "code",
   "execution_count": 15,
   "metadata": {},
   "outputs": [
    {
     "name": "stdout",
     "output_type": "stream",
     "text": [
      "Vreme izracunavanja:  0.00042740000003504974 sec\n"
     ]
    }
   ],
   "source": [
    "start = timer()\n",
    "Vmn@p\n",
    "end = timer()\n",
    "print(\"Vreme izracunavanja: \",end - start,\"sec\")"
   ]
  },
  {
   "cell_type": "code",
   "execution_count": 16,
   "metadata": {},
   "outputs": [
    {
     "name": "stdout",
     "output_type": "stream",
     "text": [
      "Vreme izracunavanja:  0.0007839999999532665 sec\n"
     ]
    }
   ],
   "source": [
    "start = timer()\n",
    "np.polyval(p,x)\n",
    "end = timer()\n",
    "print(\"Vreme izracunavanja: \",end - start,\"sec\")"
   ]
  },
  {
   "cell_type": "code",
   "execution_count": 17,
   "metadata": {},
   "outputs": [
    {
     "data": {
      "text/plain": [
       "(50, 231)"
      ]
     },
     "execution_count": 17,
     "metadata": {},
     "output_type": "execute_result"
    }
   ],
   "source": [
    "A=rndm.uniform(-3,3,(m,n))\n",
    "A.shape"
   ]
  },
  {
   "cell_type": "code",
   "execution_count": 18,
   "metadata": {},
   "outputs": [
    {
     "name": "stdout",
     "output_type": "stream",
     "text": [
      "Vreme izracunavanja:  0.0005846000000246931 sec\n"
     ]
    }
   ],
   "source": [
    "start = timer()\n",
    "A@p\n",
    "end = timer()\n",
    "print(\"Vreme izracunavanja: \",end - start,\"sec\")"
   ]
  },
  {
   "cell_type": "markdown",
   "metadata": {},
   "source": [
    "**Пример 3.** Израчунавање вредности полинома са $2^n$ коефицијената, тј. степена ${\\rm st}(P)=2^n-1,$ може временски брже да се изврши од Хорнерове шеме на основу векторизације израчунавања. Објаснићемо поступак на полиномима за мале вредности $n.$\n",
    "\n",
    "$n=1,\\quad 2^n=2$ коефицијента  $,\\quad{\\rm st}(P)=2^n-1=1.\\qquad P(x)=p_0x+p_1$ \n",
    "\\begin{align}\n",
    "&p=\\begin{bmatrix}p_0&p_1\\end{bmatrix}\\\\\n",
    "&P(x)=x*p[0]+p[1]=x*p[\\ :\\ :2]+p[1:\\ :2]\n",
    "\\end{align}"
   ]
  },
  {
   "cell_type": "markdown",
   "metadata": {},
   "source": [
    "$n=2,\\quad 2^n=4$ коефицијента $,\\quad{\\rm st}(P)=2^n-1=3.\\qquad P(x)=p_0x^3+p_1x^2+p_2x+p_3=x^2\\big(p_0x+p_1\\big)+p_2x+p_3$ \n",
    "\\begin{align}\n",
    "&p=\\begin{bmatrix}p_0&p_1&p_2&p_3\\end{bmatrix}\\\\\n",
    "&p=x*p[\\ :\\ :2]+p[1:\\ :2]=\\begin{bmatrix}x*p[0]+p[1]&x*p[2]+p[3]\\end{bmatrix}\\\\\n",
    "&P(x)=x^2*p[\\ :\\ :2]+p[1:\\ :2]=x^2\\big(p[0]x+p[1]\\big)+p[2]x+p[3]\n",
    "\\end{align}"
   ]
  },
  {
   "cell_type": "markdown",
   "metadata": {},
   "source": [
    "$n=3,\\quad 2^n=8$ коефицијената $,\\quad{\\rm st}(P)=2^n-1=7.$ \n",
    "\\begin{align}\n",
    "P(x)&=p_0x^7+p_1x^6+p_2x^5+p_3x^4+p_4x^3+p_5x^2+p_6x+p_7\\\\\n",
    "&=x^4\\big(p_0x^3+p_1x^2+p_2x+p_3\\big)+p_4x^3+p_5x^2+p_6x+p_7\n",
    "\\end{align}\n",
    "\\begin{align}\n",
    "&p=\\begin{bmatrix}p_0&p_1&p_2&p_3&p_4&p_5&p_6&p_7\\end{bmatrix}\\\\\n",
    "&p=x*p[\\ :\\ :2]+p[1:\\ :2]=\\begin{bmatrix}p[0]x+p[1]&p[2]x+p[3]&p[4]x+p[5]&p[6]x+p[7]\\end{bmatrix}\\\\\n",
    "&p=x^2*p[\\ :\\ :2]+p[1:\\ :2]=\\begin{bmatrix}x^2\\big(p[0]x+p[1]\\big)+p[2]x+p[3]\n",
    "&x^2\\big(p[4]x+p[5]\\big)+p[6]x+p[7]\\end{bmatrix}\\\\\n",
    "&P(x)=x^4*p[\\ :\\ :2]+p[1:\\ :2]=x^4\\Big(x^2\\big(p[0]x+p[1]\\big)+p[2]x+p[3]\\Big)\n",
    "+x^2\\big(p[4]x+p[5]\\big)+p[6]x+p[7]\n",
    "\\end{align}"
   ]
  },
  {
   "cell_type": "markdown",
   "metadata": {},
   "source": [
    "У општем случају, полином са $2^n$ коефицијената израчунава се преко два полинома са $2^{n-1}$ коефицијената. \n",
    "$$P_{2^n-1}=x^{2^{n-1}}P_{2^{n-1}-1}+Q_{2^{n-1}-1}.$$\n",
    "Затим се поступак уситњавања степена наставља за сваки од полинома са $2^{n-1}$ коефицијената."
   ]
  },
  {
   "cell_type": "markdown",
   "metadata": {},
   "source": [
    "Наредним кодом може да се провери разлика у временима извршења описаног алгоритма и одговарајуће уграђене NumPy функције `polyval` за једну вредност аргумента $x.$ "
   ]
  },
  {
   "cell_type": "code",
   "execution_count": 21,
   "metadata": {},
   "outputs": [
    {
     "name": "stdout",
     "output_type": "stream",
     "text": [
      "Vreme izvrsenja novog algoritma:  0.00013339999986783369 sec\n",
      "Vreme izvrsenja Hornerove seme:  0.00019599999995989492 sec\n"
     ]
    }
   ],
   "source": [
    "#inicijalizacija problema\n",
    "n=8  #stepen polinoma je 2^n-1\n",
    "p=rndm.uniform(-3.5,3.5,2**n)  #generisanje koeficijenata polinoma P\n",
    "x=rndm.rand()  #vrednost u kojoj se racuna P(x)\n",
    "\n",
    "#Opisani algoritam:\n",
    "pom=x\n",
    "startn = timer()\n",
    "a=pom*p[::2]+p[1::2]\n",
    "for i in range(1,n):\n",
    "    pom=pom**2\n",
    "    a=pom*a[::2]+a[1::2]\n",
    "endn = timer()\n",
    "print(\"Vreme izvrsenja novog algoritma: \",endn - startn,\"sec\")\n",
    "\n",
    "\n",
    "#Ugradjena NumPy funkcija:\n",
    "start = timer()\n",
    "P=np.polyval(p,x)\n",
    "end = timer()\n",
    "print(\"Vreme izvrsenja Hornerove seme: \",end - start,\"sec\")"
   ]
  },
  {
   "cell_type": "code",
   "execution_count": 22,
   "metadata": {},
   "outputs": [
    {
     "data": {
      "text/plain": [
       "array([2.22044605e-16])"
      ]
     },
     "execution_count": 22,
     "metadata": {},
     "output_type": "execute_result"
    }
   ],
   "source": [
    "np.abs(a-P)  #razlika u izracunatim vrednostima polinoma"
   ]
  },
  {
   "cell_type": "code",
   "execution_count": 23,
   "metadata": {},
   "outputs": [
    {
     "data": {
      "text/plain": [
       "0.68373820109517"
      ]
     },
     "execution_count": 23,
     "metadata": {},
     "output_type": "execute_result"
    }
   ],
   "source": [
    "x"
   ]
  },
  {
   "cell_type": "markdown",
   "metadata": {},
   "source": [
    "Прилагодићемо горњи код новог алгоритма (са наставком векторизације) за израчунавања над вектором аргумената $x=\\begin{bmatrix}x_0&x_1&\\dots&x_m\\end{bmatrix},$ тј. да може истовремено да рачуна низ вредности полинома $\\begin{bmatrix}P_{2^n-1}(x_0)&P_{2^n-1}(x_1)&\\dots&P_{2^n-1}(x_m)\\end{bmatrix}.$ Вредности аргумената $x$ су генерисане као вектор случајних вредности. Упоредићемо времена извршења новог алгоритма и уграђене функције `polyval`. Одредичемо максималну разлику у добијеним вредностима полинома на два алгоритма."
   ]
  },
  {
   "cell_type": "code",
   "execution_count": 24,
   "metadata": {},
   "outputs": [],
   "source": [
    "m=165   #broj vrednosti argumenta u kojima se izracunava polinom\n",
    "x=np.linspace(-1.5,1.5,m)"
   ]
  },
  {
   "cell_type": "code",
   "execution_count": 25,
   "metadata": {},
   "outputs": [
    {
     "name": "stdout",
     "output_type": "stream",
     "text": [
      "Vreme izvrsenja Hornerove seme:  0.0010335000001759909 sec\n"
     ]
    }
   ],
   "source": [
    "starth = timer()\n",
    "P=np.polyval(p,x)\n",
    "endh = timer()\n",
    "print(\"Vreme izvrsenja Hornerove seme: \",endh - starth,\"sec\")"
   ]
  },
  {
   "cell_type": "code",
   "execution_count": 26,
   "metadata": {},
   "outputs": [
    {
     "data": {
      "text/plain": [
       "5.272959185650323"
      ]
     },
     "execution_count": 26,
     "metadata": {},
     "output_type": "execute_result"
    }
   ],
   "source": [
    "(endh - starth)/(end - start)   #odnos vremena polyval funkcije za jedan  i m argumenata"
   ]
  },
  {
   "cell_type": "code",
   "execution_count": 27,
   "metadata": {},
   "outputs": [
    {
     "name": "stdout",
     "output_type": "stream",
     "text": [
      "Vreme izvrsenja novog algoritma:  0.0004999000002499088 sec\n"
     ]
    }
   ],
   "source": [
    "pom=x.copy()\n",
    "a=np.outer(pom,p[::2])+p[1::2]\n",
    "startn = timer()\n",
    "for i in range(1,n):\n",
    "    pom=pom**2\n",
    "    a=(pom*(a.T[::2])).T+a[:,1::2]\n",
    "endn = timer()\n",
    "print(\"Vreme izvrsenja novog algoritma: \",endn - startn,\"sec\")"
   ]
  },
  {
   "cell_type": "code",
   "execution_count": 28,
   "metadata": {},
   "outputs": [],
   "source": [
    "a=a.reshape(m,)"
   ]
  },
  {
   "cell_type": "markdown",
   "metadata": {},
   "source": [
    "Апсолутна разлика у вредностима."
   ]
  },
  {
   "cell_type": "code",
   "execution_count": 29,
   "metadata": {},
   "outputs": [
    {
     "data": {
      "text/plain": [
       "1.2676506002282294e+30"
      ]
     },
     "execution_count": 29,
     "metadata": {},
     "output_type": "execute_result"
    }
   ],
   "source": [
    "np.max(np.abs(a-P))"
   ]
  },
  {
   "cell_type": "markdown",
   "metadata": {},
   "source": [
    "Релативна разлика у вредностима."
   ]
  },
  {
   "cell_type": "code",
   "execution_count": 30,
   "metadata": {},
   "outputs": [
    {
     "data": {
      "text/plain": [
       "1.702172300354731e-14"
      ]
     },
     "execution_count": 30,
     "metadata": {},
     "output_type": "execute_result"
    }
   ],
   "source": [
    "np.max(np.abs(a-P)/np.abs(a))"
   ]
  },
  {
   "cell_type": "code",
   "execution_count": 31,
   "metadata": {},
   "outputs": [
    {
     "data": {
      "image/png": "[encoded data removed]",
      "text/plain": [
       "<Figure size 1080x360 with 3 Axes>"
      ]
     },
     "metadata": {
      "needs_background": "light"
     },
     "output_type": "display_data"
    }
   ],
   "source": [
    "razl=np.abs(a-P)\n",
    "\n",
    "slika = plt.figure(figsize=(15,5)) \n",
    "slika.subplots_adjust(hspace=0.6, wspace = 0.3)\n",
    "\n",
    "plt.subplot(1,3,1)\n",
    "plt.plot(x,razl,'o')\n",
    "plt.title(\"Razlike u vrednostima polinoma\");\n",
    "\n",
    "plt.subplot(1,3,2)\n",
    "plt.plot(x,razl,'o')\n",
    "plt.ylim(-1e13,1e13)\n",
    "plt.title(\"Razlike u vrednostima polinoma\");\n",
    "\n",
    "plt.subplot(1,3,3)\n",
    "plt.plot(x,razl,'o')\n",
    "plt.ylim(-1e1,1e1)\n",
    "plt.title(\"Razlike u vrednostima polinoma\");"
   ]
  },
  {
   "cell_type": "code",
   "execution_count": 32,
   "metadata": {},
   "outputs": [
    {
     "data": {
      "image/png": "[encoded data removed]",
      "text/plain": [
       "<Figure size 432x288 with 1 Axes>"
      ]
     },
     "metadata": {
      "needs_background": "light"
     },
     "output_type": "display_data"
    }
   ],
   "source": [
    "plt.plot(x,razl/np.abs(a),'o',label=\"relativne razlike\")\n",
    "plt.legend();"
   ]
  },
  {
   "cell_type": "markdown",
   "metadata": {},
   "source": [
    "За размишљање: због чега долази до разлике у израчунатим вредностима полинома. У те сврхе проверити за који опсег аргумента су велике разлике у добијеним вредностима полинома, а за који опсег су ове разлике занемарљиве."
   ]
  },
  {
   "cell_type": "markdown",
   "metadata": {},
   "source": [
    "**Факторисани облик полинома**\n",
    "$$P_n(x)=p_0(x-z_0)(x-z_1)\\dots(x-z_{n-1})$$\n",
    "игра веома важну улогу у раду са полиномима. Задавање моничног полинома $M_n(x)=(x-z_0)(x-z_1)\\dots(x-z_{n-1})$ преко вектора његових нула $\\begin{bmatrix}z_0&z_1&\\dots&z_{n-1}\\end{bmatrix}$ омогућено је уграђеном NumPy функцијом `poly`. Функција враћа вектор коефицијената моничног полинома са задатим нулама, коефицијенти су поређани од најстаријег ка слободном члану.\n",
    "```python\n",
    "np.poly([z0,z1,...,z(n-1)])\n",
    "```\n",
    "$$M_n(x)=(x-z_0)(x-z_1)\\dots(x-z_{n-1})=x^n+p_1x^{n-1}+\\dots+p_{n-1}x+p_n\\equiv\\begin{bmatrix}1&p_1&\\dots&p_{n-1}&p_n\\end{bmatrix}^T$$"
   ]
  },
  {
   "cell_type": "markdown",
   "metadata": {},
   "source": [
    "**Пример 4.** Потражићемо монични полином чије су све нуле (рачунајући и вишеструкости) $-1.2,\\ 2.2i,\\ 6.3,\\ 3.1-2.3i.$"
   ]
  },
  {
   "cell_type": "code",
   "execution_count": 34,
   "metadata": {},
   "outputs": [
    {
     "data": {
      "text/plain": [
       "array([  1.     +0.j    ,  -8.2    +0.1j   ,  13.31   +6.31j  ,\n",
       "        -2.37  -35.538j , -38.2536-51.5592j])"
      ]
     },
     "execution_count": 34,
     "metadata": {},
     "output_type": "execute_result"
    }
   ],
   "source": [
    "nule=np.array([-1.2, 2.2j, 6.3, 3.1-2.3j])\n",
    "P4=np.poly(nule)\n",
    "P4"
   ]
  },
  {
   "cell_type": "markdown",
   "metadata": {},
   "source": [
    "Излаз наредбе дао је вектор коефицијената траженог моничног полинома четвртог степена,\n",
    "$$P_4(x)=x^4+(-8.2    +0.1i)x^3+(13.31   +6.31i)x^2+(-2.37  -35.538i)x -38.2536-51.5592i.$$\n",
    "Проверићемо израчунавањем да ли је заиста полином $P_4(x)$ са траженим нулама. Један начин јесте примена уграђене функције `np.polyval`."
   ]
  },
  {
   "cell_type": "code",
   "execution_count": 36,
   "metadata": {},
   "outputs": [
    {
     "data": {
      "text/plain": [
       "array([-7.10542736e-15-7.10542736e-15j, -7.10542736e-15-1.42108547e-14j,\n",
       "        6.39488462e-14+7.10542736e-14j,  2.13162821e-14+7.10542736e-15j])"
      ]
     },
     "execution_count": 36,
     "metadata": {},
     "output_type": "execute_result"
    }
   ],
   "source": [
    "np.polyval(P4,nule)"
   ]
  },
  {
   "cell_type": "code",
   "execution_count": 35,
   "metadata": {},
   "outputs": [
    {
     "data": {
      "text/plain": [
       "array([-0.-0.j, -0.-0.j,  0.+0.j,  0.+0.j])"
      ]
     },
     "execution_count": 35,
     "metadata": {},
     "output_type": "execute_result"
    }
   ],
   "source": [
    "np.round(np.polyval(P4,nule),3)"
   ]
  },
  {
   "cell_type": "markdown",
   "metadata": {},
   "source": [
    "Други начин за проверу резултата јесу Вијетове формуле. \n",
    "\\begin{align}\n",
    "P_4(x)&=1\\cdot x^4+p_1x^3+p_2x^2+p_3x+p_4=(x-z_0)(x-z_1)(x-z_2)(x-z_3),\\\\\n",
    "&z_0+z_1+z_2+z_3=-p_1,\\\\\n",
    "&z_0z_1+z_0z_2+z_0z_3+z_1z_2+z_1z_3+z_2z_3=p_2,\\\\\n",
    "&z_0z_1z_2+z_0z_1z_3+z_0z_2z_3+z_1z_2z_3=-p_3,\\\\\n",
    "&z_0z_1z_2z_3=p_4.\n",
    "\\end{align}\n",
    "Њима можемо да утврдимо вредности коефицијената плинома $P_4.$"
   ]
  },
  {
   "cell_type": "code",
   "execution_count": 13,
   "metadata": {},
   "outputs": [
    {
     "name": "stdout",
     "output_type": "stream",
     "text": [
      "(-8.2+0.09999999999999964j)\n"
     ]
    },
    {
     "data": {
      "text/plain": [
       "(-8.200000000000001+0.09999999999999964j)"
      ]
     },
     "execution_count": 13,
     "metadata": {},
     "output_type": "execute_result"
    }
   ],
   "source": [
    "#provera koeficijenta p1\n",
    "print(P4[1])\n",
    "-np.sum(nule)"
   ]
  },
  {
   "cell_type": "code",
   "execution_count": 14,
   "metadata": {},
   "outputs": [
    {
     "name": "stdout",
     "output_type": "stream",
     "text": [
      "(13.309999999999999+6.310000000000003j)\n"
     ]
    },
    {
     "data": {
      "text/plain": [
       "(13.310000000000002+6.310000000000006j)"
      ]
     },
     "execution_count": 14,
     "metadata": {},
     "output_type": "execute_result"
    }
   ],
   "source": [
    "#provera koeficijenta p2\n",
    "print(P4[2])\n",
    "np.sum(nule[0]*nule[1:])+np.sum(nule[1]*nule[2:])+np.sum(nule[2]*nule[3:])"
   ]
  },
  {
   "cell_type": "code",
   "execution_count": 15,
   "metadata": {},
   "outputs": [
    {
     "name": "stdout",
     "output_type": "stream",
     "text": [
      "(-2.370000000000001-35.538j)\n"
     ]
    },
    {
     "data": {
      "text/plain": [
       "(-2.37-35.538j)"
      ]
     },
     "execution_count": 15,
     "metadata": {},
     "output_type": "execute_result"
    }
   ],
   "source": [
    "#provera koeficijenta p3\n",
    "print(P4[3])\n",
    "-np.prod(nule[1:])-np.prod(nule[[0,2,3]])-np.prod(nule[[0,1,3]])-np.prod(nule[:3])"
   ]
  },
  {
   "cell_type": "code",
   "execution_count": 16,
   "metadata": {},
   "outputs": [
    {
     "name": "stdout",
     "output_type": "stream",
     "text": [
      "(-38.2536-51.559200000000004j)\n"
     ]
    },
    {
     "data": {
      "text/plain": [
       "(-38.2536-51.559200000000004j)"
      ]
     },
     "execution_count": 16,
     "metadata": {},
     "output_type": "execute_result"
    }
   ],
   "source": [
    "#provera koeficijenta p4\n",
    "print(P4[4])\n",
    "np.prod(nule)"
   ]
  },
  {
   "cell_type": "markdown",
   "metadata": {},
   "source": [
    "**Пример 5.** У раду са реалним полиномима можемо да користимо и графички приказ како бисмо проверили њихове карактеристике. Потражићемо монични полином $M_7(x)$ чије су све нуле (рачунајући и вишеструкости): $-1.2,\\ -1.2,\\ 2.2,\\ 3.1,\\ 3.1,\\ 3.1,\\ 6.3.$ Затим ћемо наћи полином $P_7(x)$ са истим нулама који још задовољава услов: \n",
    "\n",
    "а) $P_7(0)=2.35,\\qquad$    б) $P_7(1)=3.12,\\qquad$   в) $P_7(-1)=-3.64.$"
   ]
  },
  {
   "cell_type": "code",
   "execution_count": 37,
   "metadata": {},
   "outputs": [],
   "source": [
    "nule=np.array([-1.2, -1.2, 2.2, 3.1, 3.1, 3.1, 6.3])\n",
    "M7=np.poly(nule) #konstrukcija monicnog polinoma\n",
    "#kreiranje podataka za grafik\n",
    "x=np.linspace(-2,7,250)\n",
    "M7x=np.polyval(M7,x)"
   ]
  },
  {
   "cell_type": "code",
   "execution_count": 38,
   "metadata": {},
   "outputs": [
    {
     "data": {
      "image/png": "[encoded data removed]",
      "text/plain": [
       "<Figure size 432x288 with 1 Axes>"
      ]
     },
     "metadata": {
      "needs_background": "light"
     },
     "output_type": "display_data"
    }
   ],
   "source": [
    "plt.plot(x,M7x,label=r'$M_7(x)$')\n",
    "plt.axhline(color='black', zorder=-1)\n",
    "plt.axvline(color='black', zorder=-1)\n",
    "plt.plot(nule,np.zeros(7),'or')\n",
    "plt.xticks([-1.2, 2.2, 3.1, 6.3])\n",
    "plt.ylim(-1000,1000)\n",
    "plt.legend()\n",
    "plt.grid();"
   ]
  },
  {
   "cell_type": "markdown",
   "metadata": {},
   "source": [
    "На основу моничног полинома $M_7(x)$ креираћемо тражене полиноме $P_7(x)=p_0 M_7(x)$ мењањем вредности водећег коефицијента. Постављањем услова $P_7(a)=b$ налазимо одговарајући водечи коефицијент:\n",
    "$$P_7(a)=b\\quad\\Longleftrightarrow\\quad p_0 M_7(a)=b\\quad\\Longrightarrow\\quad p_0=\\dfrac{b}{M_7(a)}\\,.$$\n",
    "Сва три случаја (под а,б и в) можемо истовремено да решимо."
   ]
  },
  {
   "cell_type": "code",
   "execution_count": 39,
   "metadata": {},
   "outputs": [
    {
     "data": {
      "text/plain": [
       "array([-0.00395237, -0.01094446,  0.05652193])"
      ]
     },
     "execution_count": 39,
     "metadata": {},
     "output_type": "execute_result"
    }
   ],
   "source": [
    "b=np.array([2.35, 3.12, -3.64])\n",
    "a=np.array([0, 1, -1])\n",
    "p0=b/np.polyval(M7,a)\n",
    "p0"
   ]
  },
  {
   "cell_type": "markdown",
   "metadata": {},
   "source": [
    "Направићемо графички приказ добијених решења."
   ]
  },
  {
   "cell_type": "code",
   "execution_count": 40,
   "metadata": {},
   "outputs": [
    {
     "data": {
      "image/png": "[encoded data removed]",
      "text/plain": [
       "<Figure size 432x288 with 1 Axes>"
      ]
     },
     "metadata": {
      "needs_background": "light"
     },
     "output_type": "display_data"
    }
   ],
   "source": [
    "plt.plot(x,p0[0]*M7x,label=r'$aP_7(x)$')\n",
    "plt.plot(x,p0[1]*M7x,label=r'$bP_7(x)$')\n",
    "plt.plot(x,p0[2]*M7x,label=r'$vP_7(x)$')\n",
    "plt.axhline(color='black', zorder=-1)\n",
    "plt.axvline(color='black', zorder=-1)\n",
    "plt.plot(nule,np.zeros(7),'or')\n",
    "plt.plot(a,b,'ob')\n",
    "plt.xticks([-1.2, -1, 0, 1, 2.2, 3.1, 6.3])\n",
    "plt.yticks([-10, -3.64, 0, 2.35, 3.12, 10])\n",
    "plt.ylim(-10,10)\n",
    "plt.legend()\n",
    "plt.grid();"
   ]
  },
  {
   "cell_type": "markdown",
   "metadata": {},
   "source": [
    "## Алгебра полинома\n",
    "\n",
    "Упознаћемо још неке уграђене функције за рад са полиномима преко њихових вектора коефицијената. Најпре, функције којима се обезбеђује основна алгебра полинома.\n",
    "\n",
    "Функцијом `polyadd` добијамо коефицијенте збира два полинома. Синтакса наредбе је:\n",
    "```python\n",
    "polyadd(v ,u )\n",
    "```"
   ]
  },
  {
   "cell_type": "markdown",
   "metadata": {},
   "source": [
    "Функцијом `polysub` добијамо коефицијенте разлике два полинома. Синтакса наредбе је:\n",
    "```python\n",
    "polysub(v ,u )\n",
    "```"
   ]
  },
  {
   "cell_type": "markdown",
   "metadata": {},
   "source": [
    "Функцијом `polymul` добијамо коефицијенте производа два полинома. Синтакса наредбе је:\n",
    "```python\n",
    "polymul(v ,u )\n",
    "```"
   ]
  },
  {
   "cell_type": "markdown",
   "metadata": {},
   "source": [
    "Функцијом `polydiv` добија се количник и остатак Еуклидовог дељења два полинома. Синтакса наредбе је:\n",
    "```python\n",
    "polydiv(v ,u )\n",
    "```\n",
    "Излаз наредбе представљају два низа, први садржи коефицијенте полинома количника, а други коефицијенте полинома остатка."
   ]
  },
  {
   "cell_type": "markdown",
   "metadata": {},
   "source": [
    "**Пример 6.** Одредићемо збир, разлику, производ и количник (са остатком) два полинома из претходних примера $P_4$ и $P_5.$"
   ]
  },
  {
   "cell_type": "code",
   "execution_count": 41,
   "metadata": {},
   "outputs": [
    {
     "name": "stdout",
     "output_type": "stream",
     "text": [
      "P4(x)= [  1.     +0.j      -8.2    +0.1j     13.31   +6.31j    -2.37  -35.538j\n",
      " -38.2536-51.5592j]\n",
      "P5(x)= [ 3.   -2.1   1.12  0.    0.   -3.74]\n"
     ]
    },
    {
     "data": {
      "text/plain": [
       "array([  3.     +0.j    ,  -1.1    +0.j    ,  -7.08   +0.1j   ,\n",
       "        13.31   +6.31j  ,  -2.37  -35.538j , -41.9936-51.5592j])"
      ]
     },
     "execution_count": 41,
     "metadata": {},
     "output_type": "execute_result"
    }
   ],
   "source": [
    "print(\"P4(x)=\",P4)\n",
    "print(\"P5(x)=\",P5)\n",
    "np.polyadd(P4,P5)"
   ]
  },
  {
   "cell_type": "code",
   "execution_count": 42,
   "metadata": {},
   "outputs": [
    {
     "data": {
      "text/plain": [
       "array([  3.     +0.j    ,  -3.1    +0.j    ,   9.32   -0.1j   ,\n",
       "       -13.31   -6.31j  ,   2.37  +35.538j ,  34.5136+51.5592j])"
      ]
     },
     "execution_count": 42,
     "metadata": {},
     "output_type": "execute_result"
    }
   ],
   "source": [
    "np.polysub(P5,P4)"
   ]
  },
  {
   "cell_type": "code",
   "execution_count": 43,
   "metadata": {},
   "outputs": [
    {
     "data": {
      "text/plain": [
       "array([  3.        +0.j      , -26.7       +0.3j     ,\n",
       "        58.27     +18.72j    , -44.245   -119.753j   ,\n",
       "       -94.8766   -72.9806j  ,  73.93816  +68.47176j ,\n",
       "       -12.176032 -58.120304j, -49.7794   -23.5994j  ,\n",
       "         8.8638  +132.91212j , 143.068464+192.831408j])"
      ]
     },
     "execution_count": 43,
     "metadata": {},
     "output_type": "execute_result"
    }
   ],
   "source": [
    "np.polymul(P5,P4)"
   ]
  },
  {
   "cell_type": "code",
   "execution_count": 44,
   "metadata": {},
   "outputs": [
    {
     "data": {
      "text/plain": [
       "(array([ 3. +0.j , 22.5-0.3j]),\n",
       " array([ 145.66     -23.64j   , -294.258    -31.368j  ,\n",
       "         178.7472  +953.5716j ,  872.43376+1148.60592j]))"
      ]
     },
     "execution_count": 44,
     "metadata": {},
     "output_type": "execute_result"
    }
   ],
   "source": [
    "np.polydiv(P5,P4)"
   ]
  },
  {
   "cell_type": "markdown",
   "metadata": {},
   "source": [
    "Полиноме $P(x)=ix^2-x+2i$ и $Q(x)=(1+i)x+1-i$ приказаћемо као векторе њихових коефицијената. Одредићемо коефицијенте полинома $P+Q,\\ P-Q,\\ PQ$ користећи одговарајуће операције NumPy библиотеке."
   ]
  },
  {
   "cell_type": "code",
   "execution_count": 48,
   "metadata": {},
   "outputs": [
    {
     "name": "stdout",
     "output_type": "stream",
     "text": [
      "[0.+1.j 0.+1.j 1.+1.j]\n",
      "[ 0.+1.j -2.-1.j -1.+3.j]\n",
      "[-1.+1.j  0.+0.j -3.+3.j  2.+2.j]\n"
     ]
    }
   ],
   "source": [
    "P=np.array([1j,-1,2j])\n",
    "Q=np.array([1+1j,1-1j])\n",
    "print(np.polyadd(P,Q))\n",
    "print(np.polysub(P,Q))\n",
    "print(np.polymul(P,Q))"
   ]
  },
  {
   "cell_type": "markdown",
   "metadata": {},
   "source": [
    "Осим претходних основних операција, полиноми подлежу и операцијама над функцијама као што су  изводи и интеграли. \n",
    "Уграђеном функцијом `polyder` добијамо коефицијенте извода полинома. Синтакса наредбе је:\n",
    "```python\n",
    "polyder(v [,r=1])\n",
    "```\n",
    "Уколико полином $P(x)=p_0x^n+p_{1}x^{n-1}+\\dots+p_{n-1}x+p_n=\\displaystyle\\sum_{k=0}^np_kx^{n-k}$ представимо вектором његових коефицијената $P(x)\\equiv\\begin{bmatrix}p_0&p_1&\\dots&p_{n-1}&p_n\\end{bmatrix}^T,$ тада функција `polyder` враћа вектор коефицијената полинома $$P'(x)=np_0x^{n-1}+(n-1)p_{1}x^{n-2}+\\dots+p_{n-1}=\\displaystyle\\sum_{k=0}^{n-1}(n-k)p_kx^{n-k-1}\\equiv\\begin{bmatrix}np_0&(n-1)p_1&\\dots&p_{n-1}\\end{bmatrix}^T.$$\n",
    "Опционим аргументом `r` можемо да дефинишемо и ред извода већи од првог. Излаз ће бити вектор коефицијената одговарајућег изводног полинома."
   ]
  },
  {
   "cell_type": "markdown",
   "metadata": {},
   "source": [
    "Функцијом `polyint` добијамо коефицијенте примитивне функције полинома, који је наравно опет полином. Синтакса наредбе је:\n",
    "```python\n",
    "polyint(v [,r=1])\n",
    "```"
   ]
  },
  {
   "cell_type": "markdown",
   "metadata": {},
   "source": [
    "**Пример 7.** Одредићемо извод и примитивну функцију полинома $P_5(x)=3x^5-2.1x^4+1.12x^3-3.74$ из претходних примера. Приметимо да је\n",
    "\\begin{align}\n",
    "&P_5'(x)=15x^4-8.4x^3+3.36x^2,\\\\\n",
    "&\\displaystyle\\int_0^xP_5(t)dt=\\displaystyle\\int_0^x\\left(3t^5-2.1t^4+1.12t^3-3.74\\right)dt=\\dfrac{3}{6}x^6-\\dfrac{2.1}{5}x^5+\\dfrac{1.12}{4}x^4-3.74x.\n",
    "\\end{align}"
   ]
  },
  {
   "cell_type": "code",
   "execution_count": 25,
   "metadata": {},
   "outputs": [
    {
     "name": "stdout",
     "output_type": "stream",
     "text": [
      "P5(x)= [ 3.   -2.1   1.12  0.    0.   -3.74]\n"
     ]
    },
    {
     "data": {
      "text/plain": [
       "array([15.  , -8.4 ,  3.36,  0.  ,  0.  ])"
      ]
     },
     "execution_count": 25,
     "metadata": {},
     "output_type": "execute_result"
    }
   ],
   "source": [
    "print(\"P5(x)=\",P5)\n",
    "np.polyder(P5)"
   ]
  },
  {
   "cell_type": "code",
   "execution_count": 26,
   "metadata": {},
   "outputs": [
    {
     "data": {
      "text/plain": [
       "array([ 0.5 , -0.42,  0.28,  0.  ,  0.  , -3.74,  0.  ])"
      ]
     },
     "execution_count": 26,
     "metadata": {},
     "output_type": "execute_result"
    }
   ],
   "source": [
    "np.polyint(P5)"
   ]
  },
  {
   "cell_type": "markdown",
   "metadata": {},
   "source": [
    "**Пример 8.** Креираћемо Тејлоров полином степена $3$ функције $f(x)=\\dfrac{x(x^2-1)}{x + 2}$  користећи информације о функцији и њеним изводима у тачки $x=0.5.$  "
   ]
  },
  {
   "cell_type": "markdown",
   "metadata": {},
   "source": [
    "[Изводи](https://www.wolframalpha.com/input?i=Table%5BD%5B%28x%28x%5E2-1%29%29%2F%28x+%2B+2%29%5D%2C%7Bi%2C1%2C3%7D%5D%2F%2FSimplify) функције $f(x)$ до трећег реда гласе:\n",
    "\\begin{align}\n",
    "&f(x)=\\dfrac{x(x^2-1)}{x + 2}=\\dfrac{x^3-x}{x + 2},\\\\\n",
    "&f'(x)=\\dfrac{2 (x^3 +3 x^2-1)}{(x+2)^2},\\\\\n",
    "&f''(x)=\\dfrac{2 (x^3 + 6 x^2 + 12 x+2)}{(x+2)^3},\\\\\n",
    "&f'''(x)=\\dfrac{36}{(x+2)^4}\n",
    "\\end{align}"
   ]
  },
  {
   "cell_type": "code",
   "execution_count": 35,
   "metadata": {},
   "outputs": [],
   "source": [
    "c=0.5\n",
    "fc=np.polyval([1,0,-1,0],c)/(c+2)\n",
    "f1c=np.polyval([2,6,0,-2],c)/((c+2)**2)\n",
    "f2c=np.polyval([2,12,24,4],c)/((c+2)**3)\n",
    "f3c=36/((c+2)**4)\n",
    "#kreiranje koeficijenata\n",
    "T3=np.array([f3c/6,f2c/2,f1c,fc])"
   ]
  },
  {
   "cell_type": "markdown",
   "metadata": {},
   "source": [
    "За графички приказ функције $f(x)$ полинома $T_3(x)$ креирамо низ њихових вредности на вектору $x.$"
   ]
  },
  {
   "cell_type": "code",
   "execution_count": null,
   "metadata": {},
   "outputs": [],
   "source": [
    "x=np.linspace(-1,2,100)\n",
    "fx=(x*(x**2-1))/(x+2)"
   ]
  },
  {
   "cell_type": "code",
   "execution_count": 36,
   "metadata": {
    "scrolled": true
   },
   "outputs": [
    {
     "data": {
      "image/png": "[encoded data removed]",
      "text/plain": [
       "<Figure size 432x288 with 1 Axes>"
      ]
     },
     "metadata": {
      "needs_background": "light"
     },
     "output_type": "display_data"
    }
   ],
   "source": [
    "#izrachunavanje po principu Hornerove seme\n",
    "T3x=np.polyval(T3,x-c)\n",
    "plt.plot(x,fx,label=r'$f(x)$')\n",
    "plt.plot(x,T3x,label=r'$T_3(x)$')\n",
    "plt.ylim([-0.5,2])\n",
    "plt.legend();    "
   ]
  },
  {
   "cell_type": "markdown",
   "metadata": {},
   "source": [
    "**Пример 9.** Нека је дат полином $P(x)=p_0x^n+p_1x^{n-1}+\\dots+p_{n-1}x+p_n$ у стандардном облику. За израчунавање вредности $P(a)$ можемо да користимо Хорнерову шему.\n",
    "$$\\begin{array}{c|c|c|c|c|c}\n",
    "a&p_0&p_1&\\dots&p_{n-1}&p_n\\\\\\hline\n",
    "&q_0&q_1&\\dots&q_{n-1}&P(a)\n",
    "\\end{array}$$\n",
    "Елементи табеле Хорнерове шеме користе се и као елементи резултата дељења два полинома, $P(x):(x-a).$ \n",
    "$$P(x)=Q(x)(x-a)+r=\\big(q_0x^{n-1}+q_1x^{n-2}+\\dots+q_{n-2}x+q_{n-1}\\big)(x-a)+P(a).$$"
   ]
  },
  {
   "cell_type": "markdown",
   "metadata": {},
   "source": [
    "Овај количник може да се искористи и за израчунавање вредности првог извода $P'(a):$\n",
    "\\begin{align}\n",
    "P'(x)&=\\Big(\\big(q_0x^{n-1}+q_1x^{n-2}+\\dots+q_{n-2}x+q_{n-1}\\big)(x-a)+P(a)\\Big)'\\\\\n",
    "&=\\Big(\\big(q_0x^{n-1}+q_1x^{n-2}+\\dots+q_{n-2}x+q_{n-1}\\big)(x-a)\\Big)'+\\Big(P(a)\\Big)'\\\\\n",
    "&=\\Big(\\big(q_0x^{n-1}+q_1x^{n-2}+\\dots+q_{n-2}x+q_{n-1}\\big)\\Big)'(x-a)+\\big(q_0x^{n-1}+q_1x^{n-2}+\\dots+q_{n-2}x+q_{n-1}\\big)\\cdot(x-a)'\\\\\n",
    "&=\\Big(\\big(q_0x^{n-1}+q_1x^{n-2}+\\dots+q_{n-2}x+q_{n-1}\\big)\\Big)'(x-a)+\\big(q_0x^{n-1}+q_1x^{n-2}+\\dots+q_{n-2}x+q_{n-1}\\big)\\\\\n",
    "\\Longrightarrow\\quad P'(a)&=\\Big(\\big(q_0x^{n-1}+q_1x^{n-2}+\\dots+q_{n-2}x+q_{n-1}\\big)\\Big)'\\Big|_{x=a}(a-a)\n",
    "+\\big(q_0a^{n-1}+q_1a^{n-2}+\\dots+q_{n-2}a+q_{n-1}\\big)\\\\\n",
    "&=q_0a^{n-1}+q_1a^{n-2}+\\dots+q_{n-2}a+q_{n-1}=Q(a).\n",
    "\\end{align}"
   ]
  },
  {
   "cell_type": "markdown",
   "metadata": {},
   "source": [
    "Због тога наставак претходне Хорнерове шеме у наредном реду даје вредност $P'(a)=Q(a).$\n",
    "$$\\begin{array}{c|c|c|c|c|c}\n",
    "a&p_0&p_1&\\dots&p_{n-2}&p_{n-1}&p_n\\\\\\hline\n",
    "&q_0&q_1&\\dots&q_{n-2}&q_{n-1}&P(a)\\\\\\hline\n",
    "&s_0&s_1&\\dots&s_{n-2}&P'(a)&\n",
    "\\end{array}$$\n",
    "Како је други извод први извод првог извода, лако закључујемо да би наредни ред Хорнерове шеме произвео вредност $\\dfrac{P''(a)}{2!},$ итд."
   ]
  },
  {
   "cell_type": "markdown",
   "metadata": {},
   "source": [
    "Заправо, из Математике 1 видели смо да вишеструком применом Хорнерове шеме добијамо израз полинома  по степенима $(x-a),$ што је заправо Тејлоров облик тог полинома."
   ]
  },
  {
   "cell_type": "markdown",
   "metadata": {},
   "source": [
    "На описани начин Хорнерова шема нам помаже у одређивању Тејлоровог облика полинома у околини тачке $x=a.$"
   ]
  },
  {
   "cell_type": "markdown",
   "metadata": {},
   "source": [
    "За полином $P(x)=1.3x^6+2.7x^4-3.23x^3+0.15x^2-4.4x+1.3$ одредићемо Хорнеровом табелом Тејлоров облик овог полинома у околини тачке $a=-2.15,$ \n",
    "$$P(x)=\\dfrac{P^{(6)}(a)}{6!}(x-a)^6+\\dfrac{P^{(5)}(a)}{5!}(x-a)^5+\\dots+\\dfrac{P'(a)}{1!}(x-a)+P(a).$$\n",
    "Хорнерова табела има облик\n",
    "$$\\begin{array}{c|c|c|c|c|c|c|c}\n",
    "a&p_{00}&p_{01}&p_{02}&p_{03}&p_{04}&p_{05}&p_{06}\\\\\\hline\n",
    "&p_{10}&p_{11}&p_{12}&p_{13}&p_{14}&p_{15}&P(a)\\\\\\hline\n",
    "&p_{20}&p_{21}&p_{22}&p_{23}&p_{24}&P'(a)& \\\\\\hline\n",
    "&p_{30}&p_{31}&p_{32}&p_{33}&\\dfrac{P''(a)}{2!}&&\\\\\\hline\n",
    "&p_{40}&p_{41}&p_{42}&\\dfrac{P^{(3)}(a)}{3!}&&&\\\\\\hline\n",
    "&p_{50}&p_{51}&\\dfrac{P^{(4)}(a)}{4!}&&&&\\\\\\hline\n",
    "&p_{50}&\\dfrac{P^{(5)}(a)}{5!}&&&&&\\\\\\hline\n",
    "&\\dfrac{P^{(6)}(a)}{6!}&&&&&&\n",
    "\\end{array}$$"
   ]
  },
  {
   "cell_type": "markdown",
   "metadata": {},
   "source": [
    "Наредним кодом формираћемо ову Хорнерову табелу. Сви подаци биће смештени у један вектор који ће на крају поступка да садржи вредности тражених извода, почевши од најстаријег. Да бисмо спровели векторизацију израчунавања применићемо израчунавања у облику троугаоног алгоритма. Улаз у алгоритам представља вектор коефицијената полинома. \n",
    "$$P=\\begin{bmatrix}p_{00}&p_{01}&p_{02}&p_{03}&p_{04}&p_{05}&p_{06}\\end{bmatrix}$$"
   ]
  },
  {
   "cell_type": "markdown",
   "metadata": {},
   "source": [
    "Кроз итерације врше се израчунавања следећих дијагоналних вредности:\n",
    "\n",
    "-  $0.$ итерација: $p_{10}=p_{00}$\n",
    "$$\\begin{bmatrix}p_{00}&p_{01}&p_{02}&p_{03}&p_{04}&p_{05}&p_{06}\\end{bmatrix}\\mapsto\\begin{bmatrix}p_{10}&p_{01}&p_{02}&p_{03}&p_{04}&p_{05}&p_{06}\\end{bmatrix}$$"
   ]
  },
  {
   "cell_type": "markdown",
   "metadata": {},
   "source": [
    "-  $1.$ итерација: $p_{11},p_{20}$\n",
    "$$ p_{11}=a*p_{10}+p_{01},\\qquad p_{20}=p_{10}$$\n",
    "$$\\begin{bmatrix}p_{10}&p_{01}&p_{02}&p_{03}&p_{04}&p_{05}&p_{06}\\end{bmatrix}\n",
    "\\mapsto\\begin{bmatrix}p_{20}&p_{11}&p_{02}&p_{03}&p_{04}&p_{05}&p_{06}\\end{bmatrix}$$"
   ]
  },
  {
   "cell_type": "markdown",
   "metadata": {},
   "source": [
    "-  $2.$ итерација: $p_{12},p_{21},p_{30}$\n",
    "$$ p_{12}=a*p_{11}+p_{02},\\qquad p_{21}=a*p_{20}+p_{11}, \\qquad p_{30}=p_{20}$$\n",
    "$$\\begin{bmatrix}p_{20}&p_{11}&p_{02}&p_{03}&p_{04}&p_{05}&p_{06}\\end{bmatrix}\n",
    "\\mapsto \\begin{bmatrix}p_{30}&p_{21}&p_{12}&p_{03}&p_{04}&p_{05}&p_{06}\\end{bmatrix}$$"
   ]
  },
  {
   "cell_type": "markdown",
   "metadata": {},
   "source": [
    "-  $3.$ итерација: $p_{13},p_{22},p_{31},p_{40}$\n",
    "$$ p_{13}=a*p_{12}+p_{03},\\qquad p_{22}=a*p_{21}+p_{12}, \\qquad p_{31}=a*p_{30}+p_{21},\\qquad p_{40}=p_{30}$$\n",
    "$$\\begin{bmatrix}p_{30}&p_{21}&p_{12}&p_{03}&p_{04}&p_{05}&p_{06}\\end{bmatrix}\n",
    "\\mapsto \\begin{bmatrix}p_{40}&p_{31}&p_{22}&p_{13}&p_{04}&p_{05}&p_{06}\\end{bmatrix}$$\n",
    "-  итд. кроз 6 итерација добијамо све коефицијенте Тејлоровог развоја.\n",
    "\n",
    "Приметимо да се вредности $p_{k0}$ не израчунавају већ само преносе."
   ]
  },
  {
   "cell_type": "code",
   "execution_count": 20,
   "metadata": {},
   "outputs": [
    {
     "name": "stdout",
     "output_type": "stream",
     "text": [
      "Vreme izracunavanja:  0.00012710000009974465 sec\n",
      "[   1.3         -16.77         92.83875    -284.84775     512.53437187\n",
      " -515.50455481  229.64928006]\n"
     ]
    }
   ],
   "source": [
    "Pol=np.array([1.3,0,2.7,-3.23,0.15,-4.4,1.3])\n",
    "n=Pol.size\n",
    "a=-2.15\n",
    "pij=Pol.copy()\n",
    "start = timer()\n",
    "for i in range(1,n+1):\n",
    "    pij[1:i]=a*pij[:i-1]+pij[1:i]\n",
    "end = timer()\n",
    "print(\"Vreme izracunavanja: \",end - start,\"sec\")\n",
    "print(pij)"
   ]
  },
  {
   "cell_type": "markdown",
   "metadata": {},
   "source": [
    "Дати троугаони алгоритам можемо да упоредимо по времену извршења са класичним секвенцијалним приступом."
   ]
  },
  {
   "cell_type": "code",
   "execution_count": 21,
   "metadata": {},
   "outputs": [
    {
     "name": "stdout",
     "output_type": "stream",
     "text": [
      "Vreme izracunavanja:  0.0001472000003559515 sec\n",
      "[   1.3         -16.77         92.83875    -284.84775     512.53437187\n",
      " -515.50455481  229.64928006]\n"
     ]
    }
   ],
   "source": [
    "pij=Pol.copy()\n",
    "start = timer()\n",
    "for j in range(n):\n",
    "    for i in range(n-j-1):\n",
    "        pij[i+1]=pij[i+1]+a*pij[i]\n",
    "end = timer()\n",
    "print(\"Vreme izracunavanja: \",end - start,\"sec\")\n",
    "print(pij)   "
   ]
  },
  {
   "cell_type": "code",
   "execution_count": 23,
   "metadata": {},
   "outputs": [
    {
     "data": {
      "image/png": "[encoded data removed]",
      "text/plain": [
       "<Figure size 432x288 with 1 Axes>"
      ]
     },
     "metadata": {
      "needs_background": "light"
     },
     "output_type": "display_data"
    }
   ],
   "source": [
    "x=np.linspace(-1,2,100)\n",
    "Px=np.polyval(Pol,x)\n",
    "TPx=np.polyval(pij,x-a)\n",
    "plt.plot(x,Px,label=r'$P(x)$')\n",
    "plt.plot(x,TPx,label=r'$T_6(x)$')\n",
    "plt.legend(); "
   ]
  },
  {
   "cell_type": "markdown",
   "metadata": {},
   "source": [
    "Осим тога, за изразе $P^{(i)}(a)$ можемо да користимо и уграђене функције за диференцирање и израчунавање вредности полинома."
   ]
  },
  {
   "cell_type": "code",
   "execution_count": 24,
   "metadata": {},
   "outputs": [],
   "source": [
    "pij=Pol.copy()\n",
    "a=-2.15"
   ]
  },
  {
   "cell_type": "code",
   "execution_count": 25,
   "metadata": {},
   "outputs": [
    {
     "name": "stdout",
     "output_type": "stream",
     "text": [
      "Vreme izracunavanja:  0.0002792999985103961 sec\n",
      "[   1.3         -16.77         92.83875    -284.84775     512.53437187\n",
      " -515.50455481  229.64928006]\n"
     ]
    }
   ],
   "source": [
    "koeficT=np.empty(n)\n",
    "start = timer()\n",
    "for i in range(n):\n",
    "    koeficT[n-i-1]=np.polyval(pij,a)/np.math.factorial(i)\n",
    "    pij=np.polyder(pij)\n",
    "end = timer()\n",
    "print(\"Vreme izracunavanja: \",end - start,\"sec\")\n",
    "print(koeficT )   "
   ]
  },
  {
   "cell_type": "markdown",
   "metadata": {},
   "source": [
    "Једнакост полинома и његовог Тејлоровог развоја можемо да проверимо сређивањем израза Тејлоровог облика полинома или цртањем графика."
   ]
  },
  {
   "cell_type": "code",
   "execution_count": 26,
   "metadata": {},
   "outputs": [
    {
     "data": {
      "image/png": "[encoded data removed]",
      "text/plain": [
       "<Figure size 432x288 with 1 Axes>"
      ]
     },
     "metadata": {
      "needs_background": "light"
     },
     "output_type": "display_data"
    }
   ],
   "source": [
    "Px=np.polyval(Pol,x)\n",
    "TPx=koeficT[0]\n",
    "for i in range(1,7):\n",
    "    TPx=TPx*(x-a)+koeficT[i]\n",
    "plt.plot(x,Px,label=r'$P(x)$')\n",
    "plt.plot(x,TPx,label=r'$T_6(x)$')\n",
    "#plt.ylim([-0.2,0.4])\n",
    "plt.legend();   "
   ]
  },
  {
   "cell_type": "markdown",
   "metadata": {},
   "source": [
    "**Пример 10.** Природни бројеви у декадном запису користе позициони систем, тј. вредност броја одређује се на основу вредности цифара и њихове позиције у запису броја, нпр.\n",
    "$$12345=1\\cdot10^4+2\\cdot10^3+3\\cdot10^2+4\\cdot10^1+5\\cdot10^0.$$\n",
    "Уколико уведемо ознаку $P(x)=1\\cdot x^4+2\\cdot x^3+3\\cdot x^2+4\\cdot x^1+5\\cdot x^0$ видимо да вредност $12345$ је и вредност $P(10).$ На тај начин операције над полиномима постају средство за опис операција над бројевима са пуно цифара.\n",
    "\n",
    "Генерисаћемо два случајна броја $br_1>br_2$ као векторе њихових цифара дужина $n_1,n_2\\in[333,555].$"
   ]
  },
  {
   "cell_type": "code",
   "execution_count": 64,
   "metadata": {},
   "outputs": [
    {
     "name": "stdout",
     "output_type": "stream",
     "text": [
      "521\n",
      "369\n"
     ]
    }
   ],
   "source": [
    "n1, n2=rndm.randint(333,556,2)\n",
    "\n",
    "print(n1)\n",
    "print(n2)"
   ]
  },
  {
   "cell_type": "code",
   "execution_count": 65,
   "metadata": {},
   "outputs": [
    {
     "name": "stdout",
     "output_type": "stream",
     "text": [
      "[8 7 8 7 7 6 7 7 7 7 8 6 6 7 6 8 8 7 7 7 6 6 6 7 7 6 8 7 8 7 8 6 6 6 6 6 7\n",
      " 8 6 7 7 7 8 8 6 7 8 6 8 7 7 6 7 7 6 7 6 8 8 8 7 7 8 6 6 7 8 8 7 6 7 6 8 8\n",
      " 7 6 7 7 8 7 7 8 8 7 7 6 8 6 8 8 7 7 6 6 6 6 7 6 8 7 7 6 8 7 6 7 7 6 7 6 7\n",
      " 7 7 8 8 6 6 8 6 8 7 6 6 7 8 8 7 6 8 8 7 8 8 8 6 7 8 7 8 7 8 8 8 6 7 7 7 6\n",
      " 7 7 8 7 8 8 6 7 8 6 8 6 8 6 7 8 7 8 8 6 6 8 8 6 6 7 8 7 7 7 8 6 6 8 7 7 6\n",
      " 6 6 8 6 8 7 8 6 6 8 7 6 7 8 7 7 8 7 7 7 8 8 8 7 8 6 7 7 8 7 8 6 6 8 8 8 6\n",
      " 6 6 8 8 6 6 8 7 8 7 7 7 6 6 6 8 7 8 6 7 8 7 8 6 6 6 6 8 6 6 8 7 6 6 8 6 8\n",
      " 7 8 6 6 8 6 8 8 7 7 6 6 7 6 7 6 6 6 6 8 6 7 7 8 6 8 7 6 6 8 8 7 8 6 6 6 7\n",
      " 8 8 7 7 7 7 6 6 6 6 8 6 8 8 8 6 6 6 6 7 7 7 7 6 8 8 8 7 6 6 8 7 6 7 7 7 6\n",
      " 6 7 8 6 6 8 6 6 8 8 7 8 7 8 7 7 7 6 8 8 8 8 6 8 8 8 6 7 8 7 7 7 7 8 6 6 7\n",
      " 6 8 6 6 8 8 6 8 7 8 6 8 7 8 6 7 8 8 7 8 6 8 6 6 6 8 8 8 6 8 7 6 6 6 7 7 8\n",
      " 6 7 6 7 7 8 7 6 6 6 7 8 7 6 7 6 6 6 7 8 8 8 8 6 8 8 8 8 8 8 8 7 6 6 8 6 7\n",
      " 7 6 8 8 8 8 8 6 7 6 7 6 7 6 8 7 6 8 7 6 7 6 6 6 8 7 8 8 7 6 6 6 8 6 6 8 7\n",
      " 8 6 6 8 8 8 7 7 7 7 8 7 7 7 7 7 8 6 8 7 7 6 7 8 6 6 6 7 8 6 8 8 8 8 7 7 7\n",
      " 6 8 8]\n",
      "[8 8 6 7 6 8 7 6 7 6 6 7 8 8 8 7 8 6 8 8 8 6 6 6 6 6 6 8 6 7 6 6 8 8 8 8 6\n",
      " 7 6 7 6 8 8 7 7 6 7 7 6 7 6 7 7 7 8 6 8 7 8 8 6 7 6 7 7 8 6 7 6 7 8 8 6 7\n",
      " 8 8 8 6 6 7 8 6 8 8 6 7 7 8 7 6 8 6 6 7 6 8 6 7 6 8 8 6 7 8 6 7 7 6 6 7 7\n",
      " 6 6 6 7 8 8 7 6 7 6 7 6 7 7 8 6 6 6 8 7 6 7 6 7 8 7 8 8 6 7 6 7 7 6 6 6 6\n",
      " 7 7 7 7 8 6 7 8 8 8 7 7 6 7 6 8 6 6 8 6 8 6 6 7 8 6 6 8 8 7 6 7 8 6 8 8 7\n",
      " 7 6 8 8 6 7 7 7 8 8 8 8 8 6 7 6 8 6 8 6 6 7 7 7 6 6 8 7 7 8 6 8 8 8 7 7 8\n",
      " 8 8 8 6 7 6 6 8 7 6 8 7 6 8 7 8 8 8 6 8 8 8 8 8 8 7 6 7 7 7 6 8 7 6 8 6 8\n",
      " 7 6 7 7 6 6 8 8 6 6 7 7 7 7 6 7 7 7 6 6 6 6 8 6 6 6 7 6 7 7 6 6 8 6 6 6 6\n",
      " 6 8 7 7 8 8 7 7 6 7 8 8 7 6 7 7 8 8 7 6 8 6 7 6 8 6 6 7 6 7 7 6 7 7 7 6 6\n",
      " 6 7 7 6 6 7 8 6 8 8 8 8 7 7 6 8 6 6 8 8 8 7 8 8 8 8 6 8 8 8 6 6 6 6 7 6]\n"
     ]
    }
   ],
   "source": [
    "if n1<n2:\n",
    "    n1, n2=n2, n1# dve vrednosti n1 i n2 najverovatnije da nece bit izabrane jednake\n",
    "br1=np.append(rndm.randint(8,9,1),rndm.randint(6,9,n1-1)) #veci broj\n",
    "br2=np.append(rndm.randint(8,9,1),rndm.randint(6,9,n2-1)) #manji broj\n",
    "\n",
    "print(br1)\n",
    "print(br2)"
   ]
  },
  {
   "cell_type": "markdown",
   "metadata": {},
   "source": [
    "Користећи операције NumPy за рад са полиномима и друге функције Python-a (водити рачуна о преносу) направићемо код за израчунавање:\n",
    "\n",
    "б)   збира ова два броја"
   ]
  },
  {
   "cell_type": "code",
   "execution_count": 66,
   "metadata": {},
   "outputs": [
    {
     "name": "stdout",
     "output_type": "stream",
     "text": [
      "Vreme izracunavanja:  0.0002214000001004024 sec\n",
      "[8 7 8 7 7 6 7 7 7 7 8 6 6 7 6 8 8 7 7 7 6 6 6 7 7 6 8 7 8 7 8 6 6 6 6 6 7\n",
      " 8 6 7 7 7 8 8 6 7 8 6 8 7 7 6 7 7 6 7 6 8 8 8 7 7 8 6 6 7 8 8 7 6 7 6 8 8\n",
      " 7 6 7 7 8 7 7 8 8 7 7 6 8 6 8 8 7 7 6 6 6 6 7 6 8 7 7 6 8 7 6 7 7 6 7 6 7\n",
      " 7 7 8 8 6 6 8 6 8 7 6 6 7 8 8 7 6 8 8 7 8 8 8 6 7 8 7 8 7 8 8 8 6 7 7 7 6\n",
      " 7 7 8 8 7 7 3 5 5 5 6 3 6 3 4 6 6 7 7 4 5 5 7 5 5 4 5 4 4 4 5 5 3 6 4 4 5\n",
      " 5 5 7 3 6 4 6 3 5 7 5 4 4 6 5 4 6 4 5 5 6 7 5 6 6 5 6 4 6 4 6 4 5 5 6 5 4\n",
      " 5 5 5 6 5 5 7 4 5 5 6 4 5 5 3 6 5 7 4 4 7 4 5 4 3 5 3 6 3 5 7 4 4 5 5 4 6\n",
      " 4 5 4 4 5 3 5 6 6 6 4 3 5 3 5 3 4 4 5 5 3 4 6 6 3 6 4 4 5 6 7 6 5 4 3 4 5\n",
      " 5 5 4 4 5 5 4 4 5 3 6 5 7 7 6 4 3 4 3 6 4 4 6 3 7 5 5 5 5 3 5 6 5 5 4 5 5\n",
      " 3 6 7 4 4 5 5 5 5 6 5 6 6 7 6 6 6 3 6 5 7 5 5 5 5 6 4 5 5 4 6 5 5 7 3 5 6\n",
      " 5 6 4 5 7 7 5 5 5 5 3 7 5 5 5 5 5 7 5 7 5 7 3 5 5 7 7 7 5 6 4 4 4 4 4 6 6\n",
      " 3 6 3 6 5 5 5 4 3 3 6 7 4 3 5 4 4 4 4 6 6 6 5 3 5 5 7 5 5 5 6 4 4 4 5 3 6\n",
      " 4 3 5 5 5 7 6 4 6 5 5 4 4 4 7 6 4 5 5 4 6 5 4 3 7 4 6 5 6 3 3 4 5 4 4 5 5\n",
      " 6 4 3 5 5 6 5 4 4 5 7 4 6 6 6 6 6 4 5 6 4 3 6 7 5 4 5 6 7 5 5 7 7 7 4 4 4\n",
      " 3 6 4]\n"
     ]
    }
   ],
   "source": [
    "zbir=np.polyadd(br1,br2)\n",
    "#print(zbir)\n",
    "start = timer()\n",
    "q=(zbir[1:]>9)\n",
    "while np.any(q):\n",
    "    zbir[1:][q]=zbir[1:][q]%10\n",
    "    zbir[0:-1][q]+=1\n",
    "    q=(zbir[1:]>9)\n",
    "if zbir[0]>9:    \n",
    "    zbir=np.append([zbir[0]//10,zbir[0]%10],zbir[1:])\n",
    "end = timer()\n",
    "print(\"Vreme izracunavanja: \",end - start,\"sec\")    \n",
    "print(zbir)  "
   ]
  },
  {
   "cell_type": "markdown",
   "metadata": {},
   "source": [
    "Секвенцијална варијанта овог алгоритма дата је у настваку ради поређења времена извршења."
   ]
  },
  {
   "cell_type": "code",
   "execution_count": 67,
   "metadata": {},
   "outputs": [
    {
     "name": "stdout",
     "output_type": "stream",
     "text": [
      "Vreme izracunavanja:  0.0007420000001729932 sec\n",
      "[8 7 8 7 7 6 7 7 7 7 8 6 6 7 6 8 8 7 7 7 6 6 6 7 7 6 8 7 8 7 8 6 6 6 6 6 7\n",
      " 8 6 7 7 7 8 8 6 7 8 6 8 7 7 6 7 7 6 7 6 8 8 8 7 7 8 6 6 7 8 8 7 6 7 6 8 8\n",
      " 7 6 7 7 8 7 7 8 8 7 7 6 8 6 8 8 7 7 6 6 6 6 7 6 8 7 7 6 8 7 6 7 7 6 7 6 7\n",
      " 7 7 8 8 6 6 8 6 8 7 6 6 7 8 8 7 6 8 8 7 8 8 8 6 7 8 7 8 7 8 8 8 6 7 7 7 6\n",
      " 7 7 8 8 7 7 3 5 5 5 6 3 6 3 4 6 6 7 7 4 5 5 7 5 5 4 5 4 4 4 5 5 3 6 4 4 5\n",
      " 5 5 7 3 6 4 6 3 5 7 5 4 4 6 5 4 6 4 5 5 6 7 5 6 6 5 6 4 6 4 6 4 5 5 6 5 4\n",
      " 5 5 5 6 5 5 7 4 5 5 6 4 5 5 3 6 5 7 4 4 7 4 5 4 3 5 3 6 3 5 7 4 4 5 5 4 6\n",
      " 4 5 4 4 5 3 5 6 6 6 4 3 5 3 5 3 4 4 5 5 3 4 6 6 3 6 4 4 5 6 7 6 5 4 3 4 5\n",
      " 5 5 4 4 5 5 4 4 5 3 6 5 7 7 6 4 3 4 3 6 4 4 6 3 7 5 5 5 5 3 5 6 5 5 4 5 5\n",
      " 3 6 7 4 4 5 5 5 5 6 5 6 6 7 6 6 6 3 6 5 7 5 5 5 5 6 4 5 5 4 6 5 5 7 3 5 6\n",
      " 5 6 4 5 7 7 5 5 5 5 3 7 5 5 5 5 5 7 5 7 5 7 3 5 5 7 7 7 5 6 4 4 4 4 4 6 6\n",
      " 3 6 3 6 5 5 5 4 3 3 6 7 4 3 5 4 4 4 4 6 6 6 5 3 5 5 7 5 5 5 6 4 4 4 5 3 6\n",
      " 4 3 5 5 5 7 6 4 6 5 5 4 4 4 7 6 4 5 5 4 6 5 4 3 7 4 6 5 6 3 3 4 5 4 4 5 5\n",
      " 6 4 3 5 5 6 5 4 4 5 7 4 6 6 6 6 6 4 5 6 4 3 6 7 5 4 5 6 7 5 5 7 7 7 4 4 4\n",
      " 3 6 4]\n"
     ]
    }
   ],
   "source": [
    "zbirs=np.polyadd(br1,br2)\n",
    "start = timer()\n",
    "for i in range(n1-1,1,-1):\n",
    "    if zbirs[i]>9:\n",
    "        zbirs[i-1]+=zbirs[i]//10\n",
    "        zbirs[i]=zbirs[i]%10\n",
    "if zbirs[0]>9:    \n",
    "    zbirs=np.append([zbirs[0]//10,zbirs[0]%10],zbirs[1:])    \n",
    "end = timer()\n",
    "print(\"Vreme izracunavanja: \",end - start,\"sec\")    \n",
    "print(zbirs) "
   ]
  },
  {
   "cell_type": "code",
   "execution_count": 70,
   "metadata": {},
   "outputs": [
    {
     "data": {
      "text/plain": [
       "True"
      ]
     },
     "execution_count": 70,
     "metadata": {},
     "output_type": "execute_result"
    }
   ],
   "source": [
    "np.all(zbir==zbirs)"
   ]
  },
  {
   "cell_type": "markdown",
   "metadata": {},
   "source": [
    "в)   разлику ова два броја (већи-мањи)"
   ]
  },
  {
   "cell_type": "code",
   "execution_count": 71,
   "metadata": {},
   "outputs": [
    {
     "name": "stdout",
     "output_type": "stream",
     "text": [
      "Vreme izracunavanja:  0.0009611999998924148 sec\n",
      "[8 7 8 7 7 6 7 7 7 7 8 6 6 7 6 8 8 7 7 7 6 6 6 7 7 6 8 7 8 7 8 6 6 6 6 6 7\n",
      " 8 6 7 7 7 8 8 6 7 8 6 8 7 7 6 7 7 6 7 6 8 8 8 7 7 8 6 6 7 8 8 7 6 7 6 8 8\n",
      " 7 6 7 7 8 7 7 8 8 7 7 6 8 6 8 8 7 7 6 6 6 6 7 6 8 7 7 6 8 7 6 7 7 6 7 6 7\n",
      " 7 7 8 8 6 6 8 6 8 7 6 6 7 8 8 7 6 8 8 7 8 8 8 6 7 8 7 8 7 8 8 8 6 7 7 7 6\n",
      " 7 7 8 7 0 0 0 0 1 8 1 0 1 0 1 0 8 9 9 8 8 1 9 7 8 1 2 1 1 1 1 8 0 1 1 0 7\n",
      " 7 8 0 0 1 1 0 9 7 9 9 9 1 1 0 1 1 1 0 0 1 0 1 9 0 7 9 1 1 1 0 8 8 2 1 1 8\n",
      " 7 8 2 0 7 8 0 1 1 9 9 0 7 8 0 0 9 9 9 1 0 1 1 8 9 8 0 0 9 8 0 0 8 8 1 9 1\n",
      " 1 1 8 9 2 0 2 0 8 8 8 9 9 9 9 9 8 8 8 2 0 0 9 1 0 1 0 8 8 0 9 9 1 8 9 9 0\n",
      " 2 2 1 0 9 9 8 8 8 0 0 8 0 0 0 8 9 8 9 9 1 0 9 0 0 2 1 9 8 0 1 8 8 0 0 9 7\n",
      " 9 8 9 8 9 1 7 8 2 1 0 0 8 9 8 8 9 0 1 2 0 1 8 2 2 0 9 0 2 0 8 9 9 9 9 7 8\n",
      " 8 0 8 7 9 9 8 2 0 2 0 0 0 1 8 0 1 9 9 9 7 9 9 7 7 9 9 9 8 1 0 8 8 9 0 9 0\n",
      " 9 8 9 9 0 1 9 8 9 9 9 0 0 9 9 8 8 9 1 1 1 1 2 0 2 2 0 2 2 2 1 0 8 9 1 9 9\n",
      " 1 0 2 2 2 0 0 8 8 7 9 9 0 8 9 8 9 1 9 8 8 7 9 0 0 1 1 1 8 9 9 9 1 8 9 2 0\n",
      " 0 9 0 2 2 1 0 1 1 0 0 0 8 8 8 9 0 9 1 9 0 9 8 9 7 8 7 8 9 8 2 0 0 0 1 1 1\n",
      " 0 1 2]\n"
     ]
    }
   ],
   "source": [
    "razlika=np.polysub(br1,br2)\n",
    "#print(razlika)\n",
    "start = timer()\n",
    "q=(razlika[1:]<0)\n",
    "while np.any(q):\n",
    "    razlika[1:][q]=10+razlika[1:][q]\n",
    "    razlika[0:-1][q]-=1\n",
    "    q=(razlika[1:]<0)\n",
    "if razlika[0]==0:    \n",
    "    razlika=razlika[1:]\n",
    "end = timer()\n",
    "print(\"Vreme izracunavanja: \",end - start,\"sec\")    \n",
    "print(razlika)"
   ]
  },
  {
   "cell_type": "markdown",
   "metadata": {},
   "source": [
    "Секвенцијална варијанта овог алгоритма дата је у настваку ради поређења времена извршења."
   ]
  },
  {
   "cell_type": "code",
   "execution_count": 72,
   "metadata": {},
   "outputs": [
    {
     "name": "stdout",
     "output_type": "stream",
     "text": [
      "Vreme izracunavanja:  0.00047059999997145496 sec\n",
      "[8 7 8 7 7 6 7 7 7 7 8 6 6 7 6 8 8 7 7 7 6 6 6 7 7 6 8 7 8 7 8 6 6 6 6 6 7\n",
      " 8 6 7 7 7 8 8 6 7 8 6 8 7 7 6 7 7 6 7 6 8 8 8 7 7 8 6 6 7 8 8 7 6 7 6 8 8\n",
      " 7 6 7 7 8 7 7 8 8 7 7 6 8 6 8 8 7 7 6 6 6 6 7 6 8 7 7 6 8 7 6 7 7 6 7 6 7\n",
      " 7 7 8 8 6 6 8 6 8 7 6 6 7 8 8 7 6 8 8 7 8 8 8 6 7 8 7 8 7 8 8 8 6 7 7 7 6\n",
      " 7 7 8 7 0 0 0 0 1 8 1 0 1 0 1 0 8 9 9 8 8 1 9 7 8 1 2 1 1 1 1 8 0 1 1 0 7\n",
      " 7 8 0 0 1 1 0 9 7 9 9 9 1 1 0 1 1 1 0 0 1 0 1 9 0 7 9 1 1 1 0 8 8 2 1 1 8\n",
      " 7 8 2 0 7 8 0 1 1 9 9 0 7 8 0 0 9 9 9 1 0 1 1 8 9 8 0 0 9 8 0 0 8 8 1 9 1\n",
      " 1 1 8 9 2 0 2 0 8 8 8 9 9 9 9 9 8 8 8 2 0 0 9 1 0 1 0 8 8 0 9 9 1 8 9 9 0\n",
      " 2 2 1 0 9 9 8 8 8 0 0 8 0 0 0 8 9 8 9 9 1 0 9 0 0 2 1 9 8 0 1 8 8 0 0 9 7\n",
      " 9 8 9 8 9 1 7 8 2 1 0 0 8 9 8 8 9 0 1 2 0 1 8 2 2 0 9 0 2 0 8 9 9 9 9 7 8\n",
      " 8 0 8 7 9 9 8 2 0 2 0 0 0 1 8 0 1 9 9 9 7 9 9 7 7 9 9 9 8 1 0 8 8 9 0 9 0\n",
      " 9 8 9 9 0 1 9 8 9 9 9 0 0 9 9 8 8 9 1 1 1 1 2 0 2 2 0 2 2 2 1 0 8 9 1 9 9\n",
      " 1 0 2 2 2 0 0 8 8 7 9 9 0 8 9 8 9 1 9 8 8 7 9 0 0 1 1 1 8 9 9 9 1 8 9 2 0\n",
      " 0 9 0 2 2 1 0 1 1 0 0 0 8 8 8 9 0 9 1 9 0 9 8 9 7 8 7 8 9 8 2 0 0 0 1 1 1\n",
      " 0 1 2]\n"
     ]
    }
   ],
   "source": [
    "razlikas=np.polysub(br1,br2)\n",
    "start = timer()\n",
    "for i in range(n1-1,1,-1):\n",
    "    if razlikas[i]<0:\n",
    "        razlikas[i-1]-=1\n",
    "        razlikas[i]+=10\n",
    "if razlikas[0]==0:    \n",
    "    razlikas=razlikas[1:]    \n",
    "end = timer()\n",
    "print(\"Vreme izracunavanja: \",end - start,\"sec\")    \n",
    "print(razlikas) "
   ]
  },
  {
   "cell_type": "code",
   "execution_count": 73,
   "metadata": {},
   "outputs": [
    {
     "data": {
      "text/plain": [
       "True"
      ]
     },
     "execution_count": 73,
     "metadata": {},
     "output_type": "execute_result"
    }
   ],
   "source": [
    "np.all(razlika==razlikas)"
   ]
  },
  {
   "cell_type": "markdown",
   "metadata": {},
   "source": [
    "г)   производ ова два броја"
   ]
  },
  {
   "cell_type": "code",
   "execution_count": 77,
   "metadata": {
    "scrolled": true
   },
   "outputs": [
    {
     "name": "stdout",
     "output_type": "stream",
     "text": [
      "Vreme izracunavanja:  0.0006896999993841746 sec\n"
     ]
    }
   ],
   "source": [
    "proizvod=np.polymul(br1,br2)\n",
    "#print(proizvod)\n",
    "#print(proizvod.shape)\n",
    "start = timer()\n",
    "q=(proizvod[1:]>9)\n",
    "while np.any(q):\n",
    "    prenos=proizvod[1:][q]//10\n",
    "    proizvod[1:][q]=proizvod[1:][q]%10\n",
    "    proizvod[0:-1][q]+=prenos\n",
    "    q=(proizvod[1:]>9)   \n",
    "while proizvod[0]>9:    \n",
    "    proizvod=np.append([proizvod[0]//10,proizvod[0]%10],proizvod[1:])\n",
    "end = timer()\n",
    "print(\"Vreme izracunavanja: \",end - start,\"sec\")     \n",
    "#print(proizvod)\n",
    "#print(proizvod.shape)"
   ]
  },
  {
   "cell_type": "markdown",
   "metadata": {},
   "source": [
    "Секвенцијална варијанта овог алгоритма дата је у настваку ради поређења времена извршења."
   ]
  },
  {
   "cell_type": "code",
   "execution_count": 78,
   "metadata": {},
   "outputs": [
    {
     "name": "stdout",
     "output_type": "stream",
     "text": [
      "Vreme izracunavanja:  0.001993100000618142 sec\n"
     ]
    }
   ],
   "source": [
    "proizvods=np.polymul(br1,br2)\n",
    "start = timer()\n",
    "k=proizvods.size\n",
    "for i in range(k-1,0,-1):\n",
    "    if proizvods[i]>9:\n",
    "        proizvods[i-1]+=proizvods[i]//10\n",
    "        proizvods[i]=proizvods[i]%10\n",
    "if proizvods[0]>9:    \n",
    "    proizvods=np.append([proizvods[0]//10,proizvods[0]%10],proizvods[1:])    \n",
    "end = timer()\n",
    "print(\"Vreme izracunavanja: \",end - start,\"sec\")    \n",
    "#print(proizvods) "
   ]
  },
  {
   "cell_type": "code",
   "execution_count": 79,
   "metadata": {},
   "outputs": [
    {
     "data": {
      "text/plain": [
       "True"
      ]
     },
     "execution_count": 79,
     "metadata": {},
     "output_type": "execute_result"
    }
   ],
   "source": [
    "np.all(proizvod==proizvods)"
   ]
  }
 ],
 "metadata": {
  "kernelspec": {
   "display_name": "Python 3",
   "language": "python",
   "name": "python3"
  },
  "language_info": {
   "codemirror_mode": {
    "name": "ipython",
    "version": 3
   },
   "file_extension": ".py",
   "mimetype": "text/x-python",
   "name": "python",
   "nbconvert_exporter": "python",
   "pygments_lexer": "ipython3",
   "version": "3.7.16"
  }
 },
 "nbformat": 4,
 "nbformat_minor": 4
}
